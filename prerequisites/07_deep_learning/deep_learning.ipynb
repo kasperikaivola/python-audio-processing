{
 "cells": [
  {
   "cell_type": "code",
   "execution_count": 3,
   "metadata": {
    "collapsed": false,
    "pycharm": {
     "name": "#%%\n"
    }
   },
   "outputs": [],
   "source": [
    "%matplotlib widget\n",
    "%load_ext autoreload\n",
    "%autoreload 2\n",
    "import os\n",
    "import os.path\n",
    "import math\n",
    "import numpy as np\n",
    "import matplotlib.pyplot as plt\n",
    "from tqdm import tqdm\n",
    "import tensorflow as tf\n",
    "\n",
    "data_path = os.path.expandvars('C:/Users/$USERNAME/Desktop/data/07_deep_learning/')"
   ]
  },
  {
   "cell_type": "markdown",
   "metadata": {
    "collapsed": false
   },
   "source": [
    "## 1: Data Generator"
   ]
  },
  {
   "cell_type": "code",
   "execution_count": 74,
   "metadata": {
    "collapsed": false,
    "pycharm": {
     "name": "#%%\n"
    }
   },
   "outputs": [],
   "source": [
    "from tensorflow.keras.utils import Sequence\n",
    "\n",
    "class GenData(Sequence):\n",
    "    def __init__(self, path, split='train', batch_size=32, fraction=5):\n",
    "        self.split = split\n",
    "        self.path = os.path.join(path, split, 'output')\n",
    "        self.batch_size = batch_size\n",
    "        self.fraction = fraction\n",
    "        self.num_features = 62 #our dataset has 62 features\n",
    "        self.num_classes = 2 #voice activity=0/1\n",
    "\n",
    "        # TODO: lists containing data\n",
    "        self.x = [] # features: zero crossing, mfccs, ...\n",
    "        self.y = [] # speech activity: 0 / 1\n",
    "\n",
    "        # TODO: collect file names under *self.path*\n",
    "        self.files = [os.path.join(self.path, f) for f in os.listdir(self.path) if f.endswith('.npz')]\n",
    "\n",
    "        # only select a *fraction* of the file names to limit amount of \n",
    "        # training data\n",
    "        self.files = self.files[1 : int(len(self.files) / self.fraction)]\n",
    "\n",
    "        for file in tqdm(self.files):\n",
    "            # TODO: load file & save contents in *self.x* & *self.y*\n",
    "            data = np.load(file)\n",
    "            features = data['features'].astype(np.float32)\n",
    "            print(\"features.shape\"+str(features.shape))\n",
    "            vad = np.round(data['vad']).astype(np.float32)\n",
    "            print(\"vad.shape\"+str(vad.shape))\n",
    "            self.x.append(features)\n",
    "            self.y.append(vad)\n",
    "\n",
    "        # Random order indices\n",
    "        self.idx = np.random.permutation(range(len(self.x)))\n",
    "\n",
    "    def __getitem__(self, item): #called with [index]\n",
    "        # get random indices of current batch\n",
    "        idx_batch = self.idx[item*self.batch_size : (item+1)*self.batch_size]\n",
    "\n",
    "        # TODO: find minimum length of data for current batch\n",
    "        #minlen = min(len(x) for x in x_batch)\n",
    "        minlen = min([self.x[it].shape[1] for it in idx_batch])\n",
    "\n",
    "        # TODO: get data for current batch from *self.x* / *self.y*\n",
    "        #x_batch = [self.x[idx][:minlen] for idx in idx_batch]\n",
    "        #y_batch = [self.y[idx][:minlen] for idx in idx_batch]\n",
    "        x_tensor = np.zeros((self.batch_size, minlen, self.num_features))\n",
    "        y_tensor = np.zeros((self.batch_size, minlen))\n",
    "        for it, rand_it in enumerate(idx_batch):\n",
    "            sequence = self.x[rand_it][:,:minlen]\n",
    "            #print(sequence.shape)\n",
    "            x_tensor[it, :, :] = sequence.T\n",
    "            y_tensor[it, :] = self.y[rand_it][:minlen]\n",
    "\n",
    "        # TODO: stack data for current batch to tensors of proper size\n",
    "        #x_tensor = [self.x[idx][:minlen] for idx in idx_batch]\n",
    "        #y_tensor = [self.y[idx][:minlen] for idx in idx_batch]\n",
    "\n",
    "        # x_tensor = features, y_tensor = probability targets\n",
    "        return x_tensor, y_tensor\n",
    "\n",
    "    def __len__(self):\n",
    "        return math.floor(len(self.x) / self.batch_size)\n",
    "\n",
    "    def on_epoch_end(self):\n",
    "        if self.split == 'train':\n",
    "            # reshuffle random order indices\n",
    "            self.idx = np.random.permutation(range(len(self.x)))"
   ]
  },
  {
   "cell_type": "code",
   "execution_count": 75,
   "metadata": {
    "collapsed": false,
    "pycharm": {
     "name": "#%%\n"
    }
   },
   "outputs": [
    {
     "name": "stderr",
     "output_type": "stream",
     "text": [
      "  0%|          | 3/6394 [00:00<04:21, 24.41it/s]"
     ]
    },
    {
     "name": "stdout",
     "output_type": "stream",
     "text": [
      "features.shape(62, 620)\n",
      "vad.shape(620,)\n",
      "features.shape(62, 577)\n",
      "vad.shape(577,)\n",
      "features.shape(62, 316)\n",
      "vad.shape(316,)\n",
      "features.shape(62, 291)\n",
      "vad.shape(291,)\n",
      "features.shape(62, 227)\n",
      "vad.shape(227,)\n"
     ]
    },
    {
     "name": "stderr",
     "output_type": "stream",
     "text": [
      "  0%|          | 6/6394 [00:00<04:58, 21.41it/s]"
     ]
    },
    {
     "name": "stdout",
     "output_type": "stream",
     "text": [
      "features.shape(62, 278)\n",
      "vad.shape(278,)\n",
      "features.shape(62, 257)\n",
      "vad.shape(257,)\n",
      "features.shape(62, 380)\n",
      "vad.shape(380,)\n"
     ]
    },
    {
     "name": "stderr",
     "output_type": "stream",
     "text": [
      "  0%|          | 11/6394 [00:00<07:34, 14.05it/s]"
     ]
    },
    {
     "name": "stdout",
     "output_type": "stream",
     "text": [
      "features.shape(62, 274)\n",
      "vad.shape(274,)\n",
      "features.shape(62, 411)\n",
      "vad.shape(411,)\n",
      "features.shape(62, 253)\n",
      "vad.shape(253,)\n",
      "features.shape(62, 270)\n"
     ]
    },
    {
     "name": "stderr",
     "output_type": "stream",
     "text": [
      "  0%|          | 13/6394 [00:00<07:47, 13.65it/s]"
     ]
    },
    {
     "name": "stdout",
     "output_type": "stream",
     "text": [
      "vad.shape(270,)\n",
      "features.shape(62, 334)\n",
      "vad.shape(334,)\n",
      "features.shape(62, 286)\n",
      "vad.shape(286,)\n"
     ]
    },
    {
     "name": "stderr",
     "output_type": "stream",
     "text": [
      "  0%|          | 17/6394 [00:01<08:04, 13.15it/s]"
     ]
    },
    {
     "name": "stdout",
     "output_type": "stream",
     "text": [
      "features.shape(62, 317)\n",
      "vad.shape(317,)\n",
      "features.shape(62, 219)\n",
      "vad.shape(219,)\n",
      "features.shape(62, 329)\n",
      "vad.shape(329,)\n"
     ]
    },
    {
     "name": "stderr",
     "output_type": "stream",
     "text": [
      "  0%|          | 19/6394 [00:01<08:09, 13.02it/s]"
     ]
    },
    {
     "name": "stdout",
     "output_type": "stream",
     "text": [
      "features.shape(62, 325)\n",
      "vad.shape(325,)\n",
      "features.shape(62, 321)\n",
      "vad.shape(321,)\n",
      "features.shape(62, 308)\n",
      "vad.shape(308,)\n"
     ]
    },
    {
     "name": "stderr",
     "output_type": "stream",
     "text": [
      "  0%|          | 23/6394 [00:01<08:13, 12.90it/s]"
     ]
    },
    {
     "name": "stdout",
     "output_type": "stream",
     "text": [
      "features.shape(62, 688)\n",
      "vad.shape(688,)\n",
      "features.shape(62, 274)\n",
      "vad.shape(274,)\n",
      "features.shape(62, 321)\n",
      "vad.shape(321,)\n"
     ]
    },
    {
     "name": "stderr",
     "output_type": "stream",
     "text": [
      "  0%|          | 25/6394 [00:01<09:14, 11.49it/s]"
     ]
    },
    {
     "name": "stdout",
     "output_type": "stream",
     "text": [
      "features.shape(62, 257)\n",
      "vad.shape(257,)\n",
      "features.shape(62, 338)\n",
      "vad.shape(338,)\n",
      "features.shape(62, 214)\n",
      "vad.shape(214,)\n"
     ]
    },
    {
     "name": "stderr",
     "output_type": "stream",
     "text": [
      "  0%|          | 29/6394 [00:02<08:21, 12.69it/s]"
     ]
    },
    {
     "name": "stdout",
     "output_type": "stream",
     "text": [
      "features.shape(62, 564)\n",
      "vad.shape(564,)\n",
      "features.shape(62, 329)\n",
      "vad.shape(329,)\n",
      "features.shape(62, 380)\n",
      "vad.shape(380,)\n"
     ]
    },
    {
     "name": "stderr",
     "output_type": "stream",
     "text": [
      "  1%|          | 34/6394 [00:02<06:37, 16.02it/s]"
     ]
    },
    {
     "name": "stdout",
     "output_type": "stream",
     "text": [
      "features.shape(62, 231)\n",
      "vad.shape(231,)\n",
      "features.shape(62, 274)\n",
      "vad.shape(274,)\n",
      "features.shape(62, 308)\n",
      "vad.shape(308,)\n",
      "features.shape(62, 376)\n",
      "vad.shape(376,)\n",
      "features.shape(62, 248)\n",
      "vad.shape(248,)\n"
     ]
    },
    {
     "name": "stderr",
     "output_type": "stream",
     "text": [
      "  1%|          | 37/6394 [00:02<06:22, 16.61it/s]"
     ]
    },
    {
     "name": "stdout",
     "output_type": "stream",
     "text": [
      "features.shape(62, 372)\n",
      "vad.shape(372,)\n",
      "features.shape(62, 334)\n",
      "vad.shape(334,)\n",
      "features.shape(62, 231)\n",
      "vad.shape(231,)\n",
      "features.shape(62, 402)\n",
      "vad.shape(402,)\n"
     ]
    },
    {
     "name": "stderr",
     "output_type": "stream",
     "text": [
      "  1%|          | 41/6394 [00:02<06:05, 17.40it/s]"
     ]
    },
    {
     "name": "stdout",
     "output_type": "stream",
     "text": [
      "features.shape(62, 615)\n",
      "vad.shape(615,)\n",
      "features.shape(62, 381)\n",
      "vad.shape(381,)\n",
      "features.shape(62, 411)\n",
      "vad.shape(411,)\n",
      "features.shape(62, 300)\n",
      "vad.shape(300,)\n"
     ]
    },
    {
     "name": "stderr",
     "output_type": "stream",
     "text": [
      "  1%|          | 45/6394 [00:03<06:01, 17.54it/s]"
     ]
    },
    {
     "name": "stdout",
     "output_type": "stream",
     "text": [
      "features.shape(62, 338)\n",
      "vad.shape(338,)\n",
      "features.shape(62, 295)\n",
      "vad.shape(295,)\n",
      "features.shape(62, 346)\n",
      "vad.shape(346,)\n",
      "features.shape(62, 287)\n",
      "vad.shape(287,)\n",
      "features.shape(62, 274)\n",
      "vad.shape(274,)\n"
     ]
    },
    {
     "name": "stderr",
     "output_type": "stream",
     "text": [
      "  1%|          | 48/6394 [00:03<06:08, 17.22it/s]"
     ]
    },
    {
     "name": "stdout",
     "output_type": "stream",
     "text": [
      "features.shape(62, 206)\n",
      "vad.shape(206,)\n",
      "features.shape(62, 274)\n",
      "vad.shape(274,)\n"
     ]
    },
    {
     "name": "stderr",
     "output_type": "stream",
     "text": [
      "  1%|          | 53/6394 [00:03<07:11, 14.71it/s]"
     ]
    },
    {
     "name": "stdout",
     "output_type": "stream",
     "text": [
      "features.shape(62, 219)\n",
      "vad.shape(219,)\n",
      "features.shape(62, 312)\n",
      "vad.shape(312,)\n",
      "features.shape(62, 299)\n",
      "vad.shape(299,)\n",
      "features.shape(62, 253)\n",
      "vad.shape(253,)\n",
      "features.shape(62, 295)\n",
      "vad.shape(295,)\n"
     ]
    },
    {
     "name": "stderr",
     "output_type": "stream",
     "text": [
      "  1%|          | 55/6394 [00:03<06:57, 15.20it/s]"
     ]
    },
    {
     "name": "stdout",
     "output_type": "stream",
     "text": [
      "features.shape(62, 406)\n",
      "vad.shape(406,)\n",
      "features.shape(62, 329)\n",
      "vad.shape(329,)\n"
     ]
    },
    {
     "name": "stderr",
     "output_type": "stream",
     "text": [
      "  1%|          | 57/6394 [00:03<07:50, 13.48it/s]"
     ]
    },
    {
     "name": "stdout",
     "output_type": "stream",
     "text": [
      "features.shape(62, 231)\n",
      "vad.shape(231,)\n",
      "features.shape(62, 248)\n",
      "vad.shape(248,)\n"
     ]
    },
    {
     "name": "stderr",
     "output_type": "stream",
     "text": [
      "  1%|          | 59/6394 [00:04<09:12, 11.47it/s]"
     ]
    },
    {
     "name": "stdout",
     "output_type": "stream",
     "text": [
      "features.shape(62, 231)\n",
      "vad.shape(231,)\n",
      "features.shape(62, 270)\n",
      "vad.shape(270,)\n",
      "features.shape(62, 342)\n"
     ]
    },
    {
     "name": "stderr",
     "output_type": "stream",
     "text": [
      "  1%|          | 63/6394 [00:04<08:30, 12.41it/s]"
     ]
    },
    {
     "name": "stdout",
     "output_type": "stream",
     "text": [
      "vad.shape(342,)\n",
      "features.shape(62, 351)\n",
      "vad.shape(351,)\n",
      "features.shape(62, 317)\n",
      "vad.shape(317,)\n",
      "features.shape(62, 282)\n",
      "vad.shape(282,)\n"
     ]
    },
    {
     "name": "stderr",
     "output_type": "stream",
     "text": [
      "  1%|          | 65/6394 [00:04<08:12, 12.85it/s]"
     ]
    },
    {
     "name": "stdout",
     "output_type": "stream",
     "text": [
      "features.shape(62, 423)\n",
      "vad.shape(423,)\n",
      "features.shape(62, 261)\n",
      "vad.shape(261,)\n"
     ]
    },
    {
     "name": "stderr",
     "output_type": "stream",
     "text": [
      "  1%|          | 70/6394 [00:05<07:53, 13.35it/s]"
     ]
    },
    {
     "name": "stdout",
     "output_type": "stream",
     "text": [
      "features.shape(62, 671)\n",
      "vad.shape(671,)\n",
      "features.shape(62, 291)\n",
      "vad.shape(291,)\n",
      "features.shape(62, 304)\n",
      "vad.shape(304,)\n",
      "features.shape(62, 359)\n",
      "vad.shape(359,)\n"
     ]
    },
    {
     "name": "stderr",
     "output_type": "stream",
     "text": [
      "  1%|          | 72/6394 [00:05<08:39, 12.17it/s]"
     ]
    },
    {
     "name": "stdout",
     "output_type": "stream",
     "text": [
      "features.shape(62, 449)\n",
      "vad.shape(449,)\n",
      "features.shape(62, 253)\n",
      "vad.shape(253,)\n",
      "features.shape(62, 470)\n",
      "vad.shape(470,)\n"
     ]
    },
    {
     "name": "stderr",
     "output_type": "stream",
     "text": [
      "  1%|          | 76/6394 [00:05<08:53, 11.84it/s]"
     ]
    },
    {
     "name": "stdout",
     "output_type": "stream",
     "text": [
      "features.shape(62, 346)\n",
      "vad.shape(346,)\n",
      "features.shape(62, 338)\n",
      "vad.shape(338,)\n",
      "features.shape(62, 303)\n",
      "vad.shape(303,)\n",
      "features.shape(62, 338)\n",
      "vad.shape(338,)\n"
     ]
    },
    {
     "name": "stderr",
     "output_type": "stream",
     "text": [
      "  1%|          | 79/6394 [00:05<07:18, 14.41it/s]"
     ]
    },
    {
     "name": "stdout",
     "output_type": "stream",
     "text": [
      "features.shape(62, 274)\n",
      "vad.shape(274,)\n",
      "features.shape(62, 291)\n",
      "vad.shape(291,)\n",
      "features.shape(62, 364)\n",
      "vad.shape(364,)\n"
     ]
    },
    {
     "name": "stderr",
     "output_type": "stream",
     "text": [
      "  1%|▏         | 83/6394 [00:06<08:13, 12.80it/s]"
     ]
    },
    {
     "name": "stdout",
     "output_type": "stream",
     "text": [
      "features.shape(62, 526)\n",
      "vad.shape(526,)\n",
      "features.shape(62, 312)\n",
      "vad.shape(312,)\n",
      "features.shape(62, 269)\n",
      "vad.shape(269,)\n"
     ]
    },
    {
     "name": "stderr",
     "output_type": "stream",
     "text": [
      "  1%|▏         | 85/6394 [00:06<08:40, 12.13it/s]"
     ]
    },
    {
     "name": "stdout",
     "output_type": "stream",
     "text": [
      "features.shape(62, 329)\n",
      "vad.shape(329,)\n",
      "features.shape(62, 287)\n",
      "vad.shape(287,)\n",
      "features.shape(62, 325)\n",
      "vad.shape(325,)\n"
     ]
    },
    {
     "name": "stderr",
     "output_type": "stream",
     "text": [
      "  1%|▏         | 89/6394 [00:06<09:05, 11.55it/s]"
     ]
    },
    {
     "name": "stdout",
     "output_type": "stream",
     "text": [
      "features.shape(62, 367)\n",
      "vad.shape(367,)\n",
      "features.shape(62, 351)\n",
      "vad.shape(351,)\n",
      "features.shape(62, 312)\n",
      "vad.shape(312,)\n"
     ]
    },
    {
     "name": "stderr",
     "output_type": "stream",
     "text": [
      "  1%|▏         | 93/6394 [00:06<08:05, 12.97it/s]"
     ]
    },
    {
     "name": "stdout",
     "output_type": "stream",
     "text": [
      "features.shape(62, 385)\n",
      "vad.shape(385,)\n",
      "features.shape(62, 517)\n",
      "vad.shape(517,)\n",
      "features.shape(62, 372)\n",
      "vad.shape(372,)\n",
      "features.shape(62, 257)\n",
      "vad.shape(257,)\n"
     ]
    },
    {
     "name": "stderr",
     "output_type": "stream",
     "text": [
      "  1%|▏         | 95/6394 [00:07<08:40, 12.10it/s]"
     ]
    },
    {
     "name": "stdout",
     "output_type": "stream",
     "text": [
      "features.shape(62, 253)\n",
      "vad.shape(253,)\n",
      "features.shape(62, 265)\n",
      "vad.shape(265,)\n",
      "features.shape(62, 244)\n",
      "vad.shape(244,)\n"
     ]
    },
    {
     "name": "stderr",
     "output_type": "stream",
     "text": [
      "  2%|▏         | 100/6394 [00:07<07:28, 14.02it/s]"
     ]
    },
    {
     "name": "stdout",
     "output_type": "stream",
     "text": [
      "features.shape(62, 261)\n",
      "vad.shape(261,)\n",
      "features.shape(62, 188)\n",
      "vad.shape(188,)\n",
      "features.shape(62, 295)\n",
      "vad.shape(295,)\n",
      "features.shape(62, 299)\n",
      "vad.shape(299,)\n"
     ]
    },
    {
     "name": "stderr",
     "output_type": "stream",
     "text": [
      "  2%|▏         | 102/6394 [00:07<08:30, 12.32it/s]"
     ]
    },
    {
     "name": "stdout",
     "output_type": "stream",
     "text": [
      "features.shape(62, 466)\n",
      "vad.shape(466,)\n",
      "features.shape(62, 351)\n",
      "vad.shape(351,)\n"
     ]
    },
    {
     "name": "stderr",
     "output_type": "stream",
     "text": [
      "  2%|▏         | 104/6394 [00:07<08:43, 12.01it/s]"
     ]
    },
    {
     "name": "stdout",
     "output_type": "stream",
     "text": [
      "features.shape(62, 829)\n",
      "vad.shape(829,)\n",
      "features.shape(62, 317)\n",
      "vad.shape(317,)\n",
      "features.shape(62, 317)\n",
      "vad.shape(317,)\n"
     ]
    },
    {
     "name": "stderr",
     "output_type": "stream",
     "text": [
      "  2%|▏         | 108/6394 [00:08<08:15, 12.70it/s]"
     ]
    },
    {
     "name": "stdout",
     "output_type": "stream",
     "text": [
      "features.shape(62, 722)\n",
      "vad.shape(722,)\n",
      "features.shape(62, 286)\n",
      "vad.shape(286,)\n",
      "features.shape(62, 308)\n",
      "vad.shape(308,)\n",
      "features.shape(62, 342)\n",
      "vad.shape(342,)\n",
      "features.shape(62, 338)\n",
      "vad.shape(338,)\n"
     ]
    },
    {
     "name": "stderr",
     "output_type": "stream",
     "text": [
      "  2%|▏         | 114/6394 [00:08<06:23, 16.39it/s]"
     ]
    },
    {
     "name": "stdout",
     "output_type": "stream",
     "text": [
      "features.shape(62, 308)\n",
      "vad.shape(308,)\n",
      "features.shape(62, 304)\n",
      "vad.shape(304,)\n",
      "features.shape(62, 406)\n",
      "vad.shape(406,)\n",
      "features.shape(62, 436)\n",
      "vad.shape(436,)\n"
     ]
    },
    {
     "name": "stderr",
     "output_type": "stream",
     "text": [
      "  2%|▏         | 116/6394 [00:08<07:48, 13.39it/s]"
     ]
    },
    {
     "name": "stdout",
     "output_type": "stream",
     "text": [
      "features.shape(62, 261)\n",
      "vad.shape(261,)\n",
      "features.shape(62, 355)\n",
      "vad.shape(355,)\n",
      "features.shape(62, 380)\n",
      "vad.shape(380,)\n"
     ]
    },
    {
     "name": "stderr",
     "output_type": "stream",
     "text": [
      "  2%|▏         | 120/6394 [00:08<07:09, 14.60it/s]"
     ]
    },
    {
     "name": "stdout",
     "output_type": "stream",
     "text": [
      "features.shape(62, 359)\n",
      "vad.shape(359,)\n",
      "features.shape(62, 377)\n",
      "vad.shape(377,)\n",
      "features.shape(62, 338)\n",
      "vad.shape(338,)\n",
      "features.shape(62, 282)\n",
      "vad.shape(282,)\n"
     ]
    },
    {
     "name": "stderr",
     "output_type": "stream",
     "text": [
      "  2%|▏         | 124/6394 [00:09<08:16, 12.64it/s]"
     ]
    },
    {
     "name": "stdout",
     "output_type": "stream",
     "text": [
      "features.shape(62, 325)\n",
      "vad.shape(325,)\n",
      "features.shape(62, 295)\n",
      "vad.shape(295,)\n",
      "features.shape(62, 257)\n",
      "vad.shape(257,)\n"
     ]
    },
    {
     "name": "stderr",
     "output_type": "stream",
     "text": [
      "  2%|▏         | 126/6394 [00:09<07:24, 14.11it/s]"
     ]
    },
    {
     "name": "stdout",
     "output_type": "stream",
     "text": [
      "features.shape(62, 321)\n",
      "vad.shape(321,)\n",
      "features.shape(62, 355)\n",
      "vad.shape(355,)\n",
      "features.shape(62, 329)\n",
      "vad.shape(329,)\n",
      "features.shape(62, 257)\n",
      "vad.shape(257,)\n"
     ]
    },
    {
     "name": "stderr",
     "output_type": "stream",
     "text": [
      "  2%|▏         | 131/6394 [00:09<07:43, 13.53it/s]"
     ]
    },
    {
     "name": "stdout",
     "output_type": "stream",
     "text": [
      "features.shape(62, 278)\n",
      "vad.shape(278,)\n",
      "features.shape(62, 287)\n",
      "vad.shape(287,)\n",
      "features.shape(62, 247)\n",
      "vad.shape(247,)\n"
     ]
    },
    {
     "name": "stderr",
     "output_type": "stream",
     "text": [
      "  2%|▏         | 133/6394 [00:09<08:21, 12.50it/s]"
     ]
    },
    {
     "name": "stdout",
     "output_type": "stream",
     "text": [
      "features.shape(62, 338)\n",
      "vad.shape(338,)\n",
      "features.shape(62, 270)\n",
      "vad.shape(270,)\n",
      "features.shape(62, 282)\n",
      "vad.shape(282,)\n"
     ]
    },
    {
     "name": "stderr",
     "output_type": "stream",
     "text": [
      "  2%|▏         | 137/6394 [00:10<09:01, 11.55it/s]"
     ]
    },
    {
     "name": "stdout",
     "output_type": "stream",
     "text": [
      "features.shape(62, 470)\n",
      "vad.shape(470,)\n",
      "features.shape(62, 282)\n",
      "vad.shape(282,)\n",
      "features.shape(62, 342)\n",
      "vad.shape(342,)\n",
      "features.shape(62, 334)\n",
      "vad.shape(334,)\n"
     ]
    },
    {
     "name": "stderr",
     "output_type": "stream",
     "text": [
      "  2%|▏         | 141/6394 [00:11<18:10,  5.74it/s]"
     ]
    },
    {
     "name": "stdout",
     "output_type": "stream",
     "text": [
      "features.shape(62, 261)\n",
      "vad.shape(261,)\n",
      "features.shape(62, 342)\n",
      "vad.shape(342,)\n",
      "features.shape(62, 308)\n",
      "vad.shape(308,)\n"
     ]
    },
    {
     "name": "stderr",
     "output_type": "stream",
     "text": [
      "  2%|▏         | 143/6394 [00:11<16:39,  6.25it/s]"
     ]
    },
    {
     "name": "stdout",
     "output_type": "stream",
     "text": [
      "features.shape(62, 248)\n",
      "vad.shape(248,)\n",
      "features.shape(62, 342)\n",
      "vad.shape(342,)\n"
     ]
    },
    {
     "name": "stderr",
     "output_type": "stream",
     "text": [
      "  2%|▏         | 145/6394 [00:11<13:21,  7.80it/s]"
     ]
    },
    {
     "name": "stdout",
     "output_type": "stream",
     "text": [
      "features.shape(62, 312)\n",
      "vad.shape(312,)\n",
      "features.shape(62, 329)\n",
      "vad.shape(329,)\n",
      "features.shape(62, 312)\n",
      "vad.shape(312,)\n"
     ]
    },
    {
     "name": "stderr",
     "output_type": "stream",
     "text": [
      "  2%|▏         | 147/6394 [00:12<11:42,  8.90it/s]"
     ]
    },
    {
     "name": "stdout",
     "output_type": "stream",
     "text": [
      "features.shape(62, 761)\n",
      "vad.shape(761,)\n",
      "features.shape(62, 231)\n",
      "vad.shape(231,)\n",
      "features.shape(62, 312)\n"
     ]
    },
    {
     "name": "stderr",
     "output_type": "stream",
     "text": [
      "  2%|▏         | 151/6394 [00:12<10:57,  9.49it/s]"
     ]
    },
    {
     "name": "stdout",
     "output_type": "stream",
     "text": [
      "vad.shape(312,)\n",
      "features.shape(62, 282)\n",
      "vad.shape(282,)\n",
      "features.shape(62, 295)\n",
      "vad.shape(295,)\n"
     ]
    },
    {
     "name": "stderr",
     "output_type": "stream",
     "text": [
      "  2%|▏         | 153/6394 [00:12<10:17, 10.11it/s]"
     ]
    },
    {
     "name": "stdout",
     "output_type": "stream",
     "text": [
      "features.shape(62, 321)\n",
      "vad.shape(321,)\n",
      "features.shape(62, 265)\n",
      "vad.shape(265,)\n"
     ]
    },
    {
     "name": "stderr",
     "output_type": "stream",
     "text": [
      "  2%|▏         | 155/6394 [00:12<10:41,  9.72it/s]"
     ]
    },
    {
     "name": "stdout",
     "output_type": "stream",
     "text": [
      "features.shape(62, 257)\n",
      "vad.shape(257,)\n",
      "features.shape(62, 282)\n",
      "vad.shape(282,)\n",
      "features.shape(62, 342)\n",
      "vad.shape(342,)\n"
     ]
    },
    {
     "name": "stderr",
     "output_type": "stream",
     "text": [
      "  2%|▏         | 157/6394 [00:13<10:05, 10.30it/s]"
     ]
    },
    {
     "name": "stdout",
     "output_type": "stream",
     "text": [
      "features.shape(62, 266)\n",
      "vad.shape(266,)\n",
      "features.shape(62, 240)\n",
      "vad.shape(240,)\n"
     ]
    },
    {
     "name": "stderr",
     "output_type": "stream",
     "text": [
      "  3%|▎         | 162/6394 [00:13<07:56, 13.08it/s]"
     ]
    },
    {
     "name": "stdout",
     "output_type": "stream",
     "text": [
      "features.shape(62, 423)\n",
      "vad.shape(423,)\n",
      "features.shape(62, 978)\n",
      "vad.shape(978,)\n",
      "features.shape(62, 295)\n",
      "vad.shape(295,)\n",
      "features.shape(62, 317)\n",
      "vad.shape(317,)\n",
      "features.shape(62, 385)\n",
      "vad.shape(385,)\n"
     ]
    },
    {
     "name": "stderr",
     "output_type": "stream",
     "text": [
      "  3%|▎         | 166/6394 [00:13<08:40, 11.96it/s]"
     ]
    },
    {
     "name": "stdout",
     "output_type": "stream",
     "text": [
      "features.shape(62, 270)\n",
      "vad.shape(270,)\n",
      "features.shape(62, 521)\n",
      "vad.shape(521,)\n",
      "features.shape(62, 543)\n",
      "vad.shape(543,)\n"
     ]
    },
    {
     "name": "stderr",
     "output_type": "stream",
     "text": [
      "  3%|▎         | 168/6394 [00:13<08:34, 12.09it/s]"
     ]
    },
    {
     "name": "stdout",
     "output_type": "stream",
     "text": [
      "features.shape(62, 380)\n",
      "vad.shape(380,)\n",
      "features.shape(62, 513)\n",
      "vad.shape(513,)\n",
      "features.shape(62, 325)\n",
      "vad.shape(325,)\n"
     ]
    },
    {
     "name": "stderr",
     "output_type": "stream",
     "text": [
      "  3%|▎         | 172/6394 [00:14<07:51, 13.19it/s]"
     ]
    },
    {
     "name": "stdout",
     "output_type": "stream",
     "text": [
      "features.shape(62, 372)\n",
      "vad.shape(372,)\n",
      "features.shape(62, 333)\n",
      "vad.shape(333,)\n",
      "features.shape(62, 312)\n",
      "vad.shape(312,)\n",
      "features.shape(62, 282)\n",
      "vad.shape(282,)\n",
      "features.shape(62, 304)\n",
      "vad.shape(304,)\n"
     ]
    },
    {
     "name": "stderr",
     "output_type": "stream",
     "text": [
      "  3%|▎         | 177/6394 [00:14<07:46, 13.33it/s]"
     ]
    },
    {
     "name": "stdout",
     "output_type": "stream",
     "text": [
      "features.shape(62, 334)\n",
      "vad.shape(334,)\n",
      "features.shape(62, 321)\n",
      "vad.shape(321,)\n",
      "features.shape(62, 385)\n",
      "vad.shape(385,)\n",
      "features.shape(62, 312)\n",
      "vad.shape(312,)\n"
     ]
    },
    {
     "name": "stderr",
     "output_type": "stream",
     "text": [
      "  3%|▎         | 183/6394 [00:14<05:54, 17.52it/s]"
     ]
    },
    {
     "name": "stdout",
     "output_type": "stream",
     "text": [
      "features.shape(62, 402)\n",
      "vad.shape(402,)\n",
      "features.shape(62, 364)\n",
      "vad.shape(364,)\n",
      "features.shape(62, 295)\n",
      "vad.shape(295,)\n",
      "features.shape(62, 346)\n",
      "vad.shape(346,)\n",
      "features.shape(62, 299)\n",
      "vad.shape(299,)\n"
     ]
    },
    {
     "name": "stderr",
     "output_type": "stream",
     "text": [
      "  3%|▎         | 185/6394 [00:14<05:53, 17.58it/s]"
     ]
    },
    {
     "name": "stdout",
     "output_type": "stream",
     "text": [
      "features.shape(62, 419)\n",
      "vad.shape(419,)\n",
      "features.shape(62, 286)\n",
      "vad.shape(286,)\n",
      "features.shape(62, 372)\n",
      "vad.shape(372,)\n"
     ]
    },
    {
     "name": "stderr",
     "output_type": "stream",
     "text": [
      "  3%|▎         | 190/6394 [00:15<05:51, 17.67it/s]"
     ]
    },
    {
     "name": "stdout",
     "output_type": "stream",
     "text": [
      "features.shape(62, 257)\n",
      "vad.shape(257,)\n",
      "features.shape(62, 432)\n",
      "vad.shape(432,)\n",
      "features.shape(62, 338)\n",
      "vad.shape(338,)\n",
      "features.shape(62, 355)\n",
      "vad.shape(355,)\n",
      "features.shape(62, 231)\n",
      "vad.shape(231,)\n"
     ]
    },
    {
     "name": "stderr",
     "output_type": "stream",
     "text": [
      "  3%|▎         | 195/6394 [00:15<05:53, 17.54it/s]"
     ]
    },
    {
     "name": "stdout",
     "output_type": "stream",
     "text": [
      "features.shape(62, 568)\n",
      "vad.shape(568,)\n",
      "features.shape(62, 274)\n",
      "vad.shape(274,)\n",
      "features.shape(62, 376)\n",
      "vad.shape(376,)\n",
      "features.shape(62, 287)\n",
      "vad.shape(287,)\n"
     ]
    },
    {
     "name": "stderr",
     "output_type": "stream",
     "text": [
      "  3%|▎         | 197/6394 [00:15<06:58, 14.80it/s]"
     ]
    },
    {
     "name": "stdout",
     "output_type": "stream",
     "text": [
      "features.shape(62, 568)\n",
      "vad.shape(568,)\n",
      "features.shape(62, 402)\n",
      "vad.shape(402,)\n",
      "features.shape(62, 368)\n",
      "vad.shape(368,)\n",
      "features.shape(62, 287)\n",
      "vad.shape(287,)\n"
     ]
    },
    {
     "name": "stderr",
     "output_type": "stream",
     "text": [
      "  3%|▎         | 203/6394 [00:15<05:31, 18.66it/s]"
     ]
    },
    {
     "name": "stdout",
     "output_type": "stream",
     "text": [
      "features.shape(62, 312)\n",
      "vad.shape(312,)\n",
      "features.shape(62, 274)\n",
      "vad.shape(274,)\n",
      "features.shape(62, 283)\n",
      "vad.shape(283,)\n",
      "features.shape(62, 146)\n",
      "vad.shape(146,)\n",
      "features.shape(62, 338)\n",
      "vad.shape(338,)\n"
     ]
    },
    {
     "name": "stderr",
     "output_type": "stream",
     "text": [
      "  3%|▎         | 207/6394 [00:16<05:44, 17.93it/s]"
     ]
    },
    {
     "name": "stdout",
     "output_type": "stream",
     "text": [
      "features.shape(62, 274)\n",
      "vad.shape(274,)\n",
      "features.shape(62, 214)\n",
      "vad.shape(214,)\n",
      "features.shape(62, 313)\n",
      "vad.shape(313,)\n"
     ]
    },
    {
     "name": "stderr",
     "output_type": "stream",
     "text": [
      "  3%|▎         | 209/6394 [00:16<07:10, 14.38it/s]"
     ]
    },
    {
     "name": "stdout",
     "output_type": "stream",
     "text": [
      "features.shape(62, 231)\n",
      "vad.shape(231,)\n",
      "features.shape(62, 364)\n",
      "vad.shape(364,)\n",
      "features.shape(62, 287)\n",
      "vad.shape(287,)\n",
      "features.shape(62, 342)\n",
      "vad.shape(342,)\n"
     ]
    },
    {
     "name": "stderr",
     "output_type": "stream",
     "text": [
      "  3%|▎         | 214/6394 [00:16<06:22, 16.17it/s]"
     ]
    },
    {
     "name": "stdout",
     "output_type": "stream",
     "text": [
      "features.shape(62, 316)\n",
      "vad.shape(316,)\n",
      "features.shape(62, 321)\n",
      "vad.shape(321,)\n",
      "features.shape(62, 368)\n",
      "vad.shape(368,)\n"
     ]
    },
    {
     "name": "stderr",
     "output_type": "stream",
     "text": [
      "  3%|▎         | 216/6394 [00:16<07:24, 13.91it/s]"
     ]
    },
    {
     "name": "stdout",
     "output_type": "stream",
     "text": [
      "features.shape(62, 423)\n",
      "vad.shape(423,)\n",
      "features.shape(62, 304)\n",
      "vad.shape(304,)\n",
      "features.shape(62, 287)\n",
      "vad.shape(287,)\n"
     ]
    },
    {
     "name": "stderr",
     "output_type": "stream",
     "text": [
      "  3%|▎         | 218/6394 [00:17<07:44, 13.29it/s]"
     ]
    },
    {
     "name": "stdout",
     "output_type": "stream",
     "text": [
      "features.shape(62, 359)\n",
      "vad.shape(359,)\n",
      "features.shape(62, 235)\n",
      "vad.shape(235,)\n"
     ]
    },
    {
     "name": "stderr",
     "output_type": "stream",
     "text": [
      "  3%|▎         | 222/6394 [00:17<09:06, 11.29it/s]"
     ]
    },
    {
     "name": "stdout",
     "output_type": "stream",
     "text": [
      "features.shape(62, 299)\n",
      "vad.shape(299,)\n",
      "features.shape(62, 342)\n",
      "vad.shape(342,)\n",
      "features.shape(62, 283)\n",
      "vad.shape(283,)\n"
     ]
    },
    {
     "name": "stderr",
     "output_type": "stream",
     "text": [
      "  4%|▎         | 225/6394 [00:17<07:02, 14.59it/s]"
     ]
    },
    {
     "name": "stdout",
     "output_type": "stream",
     "text": [
      "features.shape(62, 299)\n",
      "vad.shape(299,)\n",
      "features.shape(62, 329)\n",
      "vad.shape(329,)\n",
      "features.shape(62, 479)\n",
      "vad.shape(479,)\n",
      "features.shape(62, 236)\n",
      "vad.shape(236,)\n"
     ]
    },
    {
     "name": "stderr",
     "output_type": "stream",
     "text": [
      "  4%|▎         | 227/6394 [00:17<07:19, 14.03it/s]"
     ]
    },
    {
     "name": "stdout",
     "output_type": "stream",
     "text": [
      "features.shape(62, 346)\n",
      "vad.shape(346,)\n",
      "features.shape(62, 338)\n",
      "vad.shape(338,)\n",
      "features.shape(62, 231)\n"
     ]
    },
    {
     "name": "stderr",
     "output_type": "stream",
     "text": [
      "  4%|▎         | 231/6394 [00:18<08:19, 12.35it/s]"
     ]
    },
    {
     "name": "stdout",
     "output_type": "stream",
     "text": [
      "vad.shape(231,)\n",
      "features.shape(62, 287)\n",
      "vad.shape(287,)\n",
      "features.shape(62, 385)\n",
      "vad.shape(385,)\n"
     ]
    },
    {
     "name": "stderr",
     "output_type": "stream",
     "text": [
      "  4%|▎         | 233/6394 [00:18<08:02, 12.77it/s]"
     ]
    },
    {
     "name": "stdout",
     "output_type": "stream",
     "text": [
      "features.shape(62, 312)\n",
      "vad.shape(312,)\n",
      "features.shape(62, 300)\n",
      "vad.shape(300,)\n",
      "features.shape(62, 364)\n",
      "vad.shape(364,)\n"
     ]
    },
    {
     "name": "stderr",
     "output_type": "stream",
     "text": [
      "  4%|▎         | 237/6394 [00:18<08:26, 12.15it/s]"
     ]
    },
    {
     "name": "stdout",
     "output_type": "stream",
     "text": [
      "features.shape(62, 312)\n",
      "vad.shape(312,)\n",
      "features.shape(62, 355)\n",
      "vad.shape(355,)\n",
      "features.shape(62, 176)\n",
      "vad.shape(176,)\n"
     ]
    },
    {
     "name": "stderr",
     "output_type": "stream",
     "text": [
      "  4%|▎         | 239/6394 [00:18<08:22, 12.24it/s]"
     ]
    },
    {
     "name": "stdout",
     "output_type": "stream",
     "text": [
      "features.shape(62, 338)\n",
      "vad.shape(338,)\n",
      "features.shape(62, 359)\n",
      "vad.shape(359,)\n",
      "features.shape(62, 436)\n",
      "vad.shape(436,)\n"
     ]
    },
    {
     "name": "stderr",
     "output_type": "stream",
     "text": [
      "  4%|▍         | 243/6394 [00:19<08:12, 12.49it/s]"
     ]
    },
    {
     "name": "stdout",
     "output_type": "stream",
     "text": [
      "features.shape(62, 342)\n",
      "vad.shape(342,)\n",
      "features.shape(62, 355)\n",
      "vad.shape(355,)\n",
      "features.shape(62, 325)\n",
      "vad.shape(325,)\n"
     ]
    },
    {
     "name": "stderr",
     "output_type": "stream",
     "text": [
      "  4%|▍         | 245/6394 [00:19<08:44, 11.72it/s]"
     ]
    },
    {
     "name": "stdout",
     "output_type": "stream",
     "text": [
      "features.shape(62, 376)\n",
      "vad.shape(376,)\n",
      "features.shape(62, 321)\n",
      "vad.shape(321,)\n",
      "features.shape(62, 376)\n"
     ]
    },
    {
     "name": "stderr",
     "output_type": "stream",
     "text": [
      "  4%|▍         | 247/6394 [00:19<09:13, 11.10it/s]"
     ]
    },
    {
     "name": "stdout",
     "output_type": "stream",
     "text": [
      "vad.shape(376,)\n",
      "features.shape(62, 300)\n",
      "vad.shape(300,)\n",
      "features.shape(62, 372)\n",
      "vad.shape(372,)\n",
      "features.shape(62, 346)\n",
      "vad.shape(346,)\n"
     ]
    },
    {
     "name": "stderr",
     "output_type": "stream",
     "text": [
      "  4%|▍         | 252/6394 [00:19<07:04, 14.46it/s]"
     ]
    },
    {
     "name": "stdout",
     "output_type": "stream",
     "text": [
      "features.shape(62, 274)\n",
      "vad.shape(274,)\n",
      "features.shape(62, 312)\n",
      "vad.shape(312,)\n",
      "features.shape(62, 368)\n",
      "vad.shape(368,)\n",
      "features.shape(62, 316)\n",
      "vad.shape(316,)\n"
     ]
    },
    {
     "name": "stderr",
     "output_type": "stream",
     "text": [
      "  4%|▍         | 256/6394 [00:20<07:21, 13.90it/s]"
     ]
    },
    {
     "name": "stdout",
     "output_type": "stream",
     "text": [
      "features.shape(62, 346)\n",
      "vad.shape(346,)\n",
      "features.shape(62, 248)\n",
      "vad.shape(248,)\n",
      "features.shape(62, 355)\n",
      "vad.shape(355,)\n",
      "features.shape(62, 346)\n",
      "vad.shape(346,)\n"
     ]
    },
    {
     "name": "stderr",
     "output_type": "stream",
     "text": [
      "  4%|▍         | 260/6394 [00:20<08:17, 12.32it/s]"
     ]
    },
    {
     "name": "stdout",
     "output_type": "stream",
     "text": [
      "features.shape(62, 235)\n",
      "vad.shape(235,)\n",
      "features.shape(62, 423)\n",
      "vad.shape(423,)\n",
      "features.shape(62, 372)\n",
      "vad.shape(372,)\n",
      "features.shape(62, 389)\n",
      "vad.shape(389,)\n"
     ]
    },
    {
     "name": "stderr",
     "output_type": "stream",
     "text": [
      "  4%|▍         | 264/6394 [00:20<07:49, 13.05it/s]"
     ]
    },
    {
     "name": "stdout",
     "output_type": "stream",
     "text": [
      "features.shape(62, 291)\n",
      "vad.shape(291,)\n",
      "features.shape(62, 445)\n",
      "vad.shape(445,)\n",
      "features.shape(62, 274)\n",
      "vad.shape(274,)\n"
     ]
    },
    {
     "name": "stderr",
     "output_type": "stream",
     "text": [
      "  4%|▍         | 268/6394 [00:20<07:10, 14.24it/s]"
     ]
    },
    {
     "name": "stdout",
     "output_type": "stream",
     "text": [
      "features.shape(62, 400)\n",
      "vad.shape(400,)\n",
      "features.shape(62, 329)\n",
      "vad.shape(329,)\n",
      "features.shape(62, 304)\n",
      "vad.shape(304,)\n",
      "features.shape(62, 235)\n",
      "vad.shape(235,)\n"
     ]
    },
    {
     "name": "stderr",
     "output_type": "stream",
     "text": [
      "  4%|▍         | 270/6394 [00:21<08:00, 12.74it/s]"
     ]
    },
    {
     "name": "stdout",
     "output_type": "stream",
     "text": [
      "features.shape(62, 351)\n",
      "vad.shape(351,)\n",
      "features.shape(62, 282)\n",
      "vad.shape(282,)\n",
      "features.shape(62, 355)\n",
      "vad.shape(355,)\n"
     ]
    },
    {
     "name": "stderr",
     "output_type": "stream",
     "text": [
      "  4%|▍         | 274/6394 [00:21<07:57, 12.82it/s]"
     ]
    },
    {
     "name": "stdout",
     "output_type": "stream",
     "text": [
      "features.shape(62, 330)\n",
      "vad.shape(330,)\n",
      "features.shape(62, 278)\n",
      "vad.shape(278,)\n",
      "features.shape(62, 406)\n",
      "vad.shape(406,)\n"
     ]
    },
    {
     "name": "stderr",
     "output_type": "stream",
     "text": [
      "  4%|▍         | 276/6394 [00:21<08:04, 12.62it/s]"
     ]
    },
    {
     "name": "stdout",
     "output_type": "stream",
     "text": [
      "features.shape(62, 389)\n",
      "vad.shape(389,)\n",
      "features.shape(62, 367)\n",
      "vad.shape(367,)\n",
      "features.shape(62, 300)\n",
      "vad.shape(300,)\n"
     ]
    },
    {
     "name": "stderr",
     "output_type": "stream",
     "text": [
      "  4%|▍         | 278/6394 [00:21<08:01, 12.71it/s]"
     ]
    },
    {
     "name": "stdout",
     "output_type": "stream",
     "text": [
      "features.shape(62, 304)\n",
      "vad.shape(304,)\n",
      "features.shape(62, 257)\n",
      "vad.shape(257,)\n",
      "features.shape(62, 299)\n"
     ]
    },
    {
     "name": "stderr",
     "output_type": "stream",
     "text": [
      "  4%|▍         | 282/6394 [00:22<08:40, 11.74it/s]"
     ]
    },
    {
     "name": "stdout",
     "output_type": "stream",
     "text": [
      "vad.shape(299,)\n",
      "features.shape(62, 266)\n",
      "vad.shape(266,)\n",
      "features.shape(62, 312)\n",
      "vad.shape(312,)\n"
     ]
    },
    {
     "name": "stderr",
     "output_type": "stream",
     "text": [
      "  4%|▍         | 284/6394 [00:22<08:53, 11.45it/s]"
     ]
    },
    {
     "name": "stdout",
     "output_type": "stream",
     "text": [
      "features.shape(62, 492)\n",
      "vad.shape(492,)\n",
      "features.shape(62, 278)\n",
      "vad.shape(278,)\n",
      "features.shape(62, 257)\n",
      "vad.shape(257,)\n"
     ]
    },
    {
     "name": "stderr",
     "output_type": "stream",
     "text": [
      "  5%|▍         | 289/6394 [00:22<07:09, 14.21it/s]"
     ]
    },
    {
     "name": "stdout",
     "output_type": "stream",
     "text": [
      "features.shape(62, 671)\n",
      "vad.shape(671,)\n",
      "features.shape(62, 385)\n",
      "vad.shape(385,)\n",
      "features.shape(62, 321)\n",
      "vad.shape(321,)\n",
      "features.shape(62, 304)\n",
      "vad.shape(304,)\n"
     ]
    },
    {
     "name": "stderr",
     "output_type": "stream",
     "text": [
      "  5%|▍         | 291/6394 [00:22<07:46, 13.08it/s]"
     ]
    },
    {
     "name": "stdout",
     "output_type": "stream",
     "text": [
      "features.shape(62, 278)\n",
      "vad.shape(278,)\n",
      "features.shape(62, 312)\n",
      "vad.shape(312,)\n",
      "features.shape(62, 431)\n",
      "vad.shape(431,)\n"
     ]
    },
    {
     "name": "stderr",
     "output_type": "stream",
     "text": [
      "  5%|▍         | 295/6394 [00:23<08:35, 11.84it/s]"
     ]
    },
    {
     "name": "stdout",
     "output_type": "stream",
     "text": [
      "features.shape(62, 381)\n",
      "vad.shape(381,)\n",
      "features.shape(62, 282)\n",
      "vad.shape(282,)\n",
      "features.shape(62, 304)\n",
      "vad.shape(304,)\n"
     ]
    },
    {
     "name": "stderr",
     "output_type": "stream",
     "text": [
      "  5%|▍         | 299/6394 [00:23<07:29, 13.55it/s]"
     ]
    },
    {
     "name": "stdout",
     "output_type": "stream",
     "text": [
      "features.shape(62, 308)\n",
      "vad.shape(308,)\n",
      "features.shape(62, 398)\n",
      "vad.shape(398,)\n",
      "features.shape(62, 367)\n",
      "vad.shape(367,)\n",
      "features.shape(62, 415)\n",
      "vad.shape(415,)\n",
      "features.shape(62, 308)\n",
      "vad.shape(308,)\n"
     ]
    },
    {
     "name": "stderr",
     "output_type": "stream",
     "text": [
      "  5%|▍         | 303/6394 [00:23<08:10, 12.43it/s]"
     ]
    },
    {
     "name": "stdout",
     "output_type": "stream",
     "text": [
      "features.shape(62, 338)\n",
      "vad.shape(338,)\n",
      "features.shape(62, 389)\n",
      "vad.shape(389,)\n",
      "features.shape(62, 295)\n",
      "vad.shape(295,)\n",
      "features.shape(62, 415)\n",
      "vad.shape(415,)\n"
     ]
    },
    {
     "name": "stderr",
     "output_type": "stream",
     "text": [
      "  5%|▍         | 306/6394 [00:23<07:00, 14.47it/s]"
     ]
    },
    {
     "name": "stdout",
     "output_type": "stream",
     "text": [
      "features.shape(62, 308)\n",
      "vad.shape(308,)\n",
      "features.shape(62, 235)\n",
      "vad.shape(235,)\n",
      "features.shape(62, 252)\n",
      "vad.shape(252,)\n"
     ]
    },
    {
     "name": "stderr",
     "output_type": "stream",
     "text": [
      "  5%|▍         | 310/6394 [00:24<08:10, 12.41it/s]"
     ]
    },
    {
     "name": "stdout",
     "output_type": "stream",
     "text": [
      "features.shape(62, 342)\n",
      "vad.shape(342,)\n",
      "features.shape(62, 342)\n",
      "vad.shape(342,)\n",
      "features.shape(62, 291)\n",
      "vad.shape(291,)\n"
     ]
    },
    {
     "name": "stderr",
     "output_type": "stream",
     "text": [
      "  5%|▍         | 312/6394 [00:24<08:13, 12.34it/s]"
     ]
    },
    {
     "name": "stdout",
     "output_type": "stream",
     "text": [
      "features.shape(62, 304)\n",
      "vad.shape(304,)\n",
      "features.shape(62, 266)\n",
      "vad.shape(266,)\n",
      "features.shape(62, 295)\n",
      "vad.shape(295,)\n"
     ]
    },
    {
     "name": "stderr",
     "output_type": "stream",
     "text": [
      "  5%|▍         | 316/6394 [00:24<09:05, 11.13it/s]"
     ]
    },
    {
     "name": "stdout",
     "output_type": "stream",
     "text": [
      "features.shape(62, 257)\n",
      "vad.shape(257,)\n",
      "features.shape(62, 901)\n",
      "vad.shape(901,)\n",
      "features.shape(62, 368)\n",
      "vad.shape(368,)\n"
     ]
    },
    {
     "name": "stderr",
     "output_type": "stream",
     "text": [
      "  5%|▍         | 318/6394 [00:25<08:50, 11.46it/s]"
     ]
    },
    {
     "name": "stdout",
     "output_type": "stream",
     "text": [
      "features.shape(62, 299)\n",
      "vad.shape(299,)\n",
      "features.shape(62, 282)\n",
      "vad.shape(282,)\n",
      "features.shape(62, 325)\n",
      "vad.shape(325,)\n"
     ]
    },
    {
     "name": "stderr",
     "output_type": "stream",
     "text": [
      "  5%|▌         | 322/6394 [00:25<08:59, 11.26it/s]"
     ]
    },
    {
     "name": "stdout",
     "output_type": "stream",
     "text": [
      "features.shape(62, 389)\n",
      "vad.shape(389,)\n",
      "features.shape(62, 342)\n",
      "vad.shape(342,)\n",
      "features.shape(62, 338)\n",
      "vad.shape(338,)\n"
     ]
    },
    {
     "name": "stderr",
     "output_type": "stream",
     "text": [
      "  5%|▌         | 324/6394 [00:25<09:08, 11.06it/s]"
     ]
    },
    {
     "name": "stdout",
     "output_type": "stream",
     "text": [
      "features.shape(62, 287)\n",
      "vad.shape(287,)\n",
      "features.shape(62, 244)\n",
      "vad.shape(244,)\n",
      "features.shape(62, 278)\n",
      "vad.shape(278,)\n"
     ]
    },
    {
     "name": "stderr",
     "output_type": "stream",
     "text": [
      "  5%|▌         | 326/6394 [00:25<08:29, 11.90it/s]"
     ]
    },
    {
     "name": "stdout",
     "output_type": "stream",
     "text": [
      "features.shape(62, 291)\n",
      "vad.shape(291,)\n",
      "features.shape(62, 231)\n",
      "vad.shape(231,)\n"
     ]
    },
    {
     "name": "stderr",
     "output_type": "stream",
     "text": [
      "  5%|▌         | 330/6394 [00:26<09:09, 11.04it/s]"
     ]
    },
    {
     "name": "stdout",
     "output_type": "stream",
     "text": [
      "features.shape(62, 500)\n",
      "vad.shape(500,)\n",
      "features.shape(62, 415)\n",
      "vad.shape(415,)\n",
      "features.shape(62, 257)\n",
      "vad.shape(257,)\n"
     ]
    },
    {
     "name": "stderr",
     "output_type": "stream",
     "text": [
      "  5%|▌         | 332/6394 [00:26<09:25, 10.72it/s]"
     ]
    },
    {
     "name": "stdout",
     "output_type": "stream",
     "text": [
      "features.shape(62, 295)\n",
      "vad.shape(295,)\n",
      "features.shape(62, 227)\n",
      "vad.shape(227,)\n",
      "features.shape(62, 316)\n",
      "vad.shape(316,)\n"
     ]
    },
    {
     "name": "stderr",
     "output_type": "stream",
     "text": [
      "  5%|▌         | 337/6394 [00:26<07:46, 12.98it/s]"
     ]
    },
    {
     "name": "stdout",
     "output_type": "stream",
     "text": [
      "features.shape(62, 351)\n",
      "vad.shape(351,)\n",
      "features.shape(62, 308)\n",
      "vad.shape(308,)\n",
      "features.shape(62, 359)\n",
      "vad.shape(359,)\n",
      "features.shape(62, 180)\n",
      "vad.shape(180,)\n"
     ]
    },
    {
     "name": "stderr",
     "output_type": "stream",
     "text": [
      "  5%|▌         | 342/6394 [00:26<06:26, 15.64it/s]"
     ]
    },
    {
     "name": "stdout",
     "output_type": "stream",
     "text": [
      "features.shape(62, 252)\n",
      "vad.shape(252,)\n",
      "features.shape(62, 308)\n",
      "vad.shape(308,)\n",
      "features.shape(62, 330)\n",
      "vad.shape(330,)\n",
      "features.shape(62, 521)\n",
      "vad.shape(521,)\n",
      "features.shape(62, 346)\n",
      "vad.shape(346,)\n"
     ]
    },
    {
     "name": "stderr",
     "output_type": "stream",
     "text": [
      "  5%|▌         | 344/6394 [00:27<07:18, 13.81it/s]"
     ]
    },
    {
     "name": "stdout",
     "output_type": "stream",
     "text": [
      "features.shape(62, 231)\n",
      "vad.shape(231,)\n",
      "features.shape(62, 317)\n",
      "vad.shape(317,)\n",
      "features.shape(62, 342)\n",
      "vad.shape(342,)\n"
     ]
    },
    {
     "name": "stderr",
     "output_type": "stream",
     "text": [
      "  5%|▌         | 349/6394 [00:27<06:10, 16.30it/s]"
     ]
    },
    {
     "name": "stdout",
     "output_type": "stream",
     "text": [
      "features.shape(62, 355)\n",
      "vad.shape(355,)\n",
      "features.shape(62, 304)\n",
      "vad.shape(304,)\n",
      "features.shape(62, 321)\n",
      "vad.shape(321,)\n",
      "features.shape(62, 240)\n",
      "vad.shape(240,)\n",
      "features.shape(62, 355)\n"
     ]
    },
    {
     "name": "stderr",
     "output_type": "stream",
     "text": [
      "  5%|▌         | 351/6394 [00:27<06:28, 15.55it/s]"
     ]
    },
    {
     "name": "stdout",
     "output_type": "stream",
     "text": [
      "vad.shape(355,)\n",
      "features.shape(62, 372)\n",
      "vad.shape(372,)\n",
      "features.shape(62, 368)\n",
      "vad.shape(368,)\n"
     ]
    },
    {
     "name": "stderr",
     "output_type": "stream",
     "text": [
      "  6%|▌         | 355/6394 [00:27<07:01, 14.34it/s]"
     ]
    },
    {
     "name": "stdout",
     "output_type": "stream",
     "text": [
      "features.shape(62, 274)\n",
      "vad.shape(274,)\n",
      "features.shape(62, 419)\n",
      "vad.shape(419,)\n",
      "features.shape(62, 398)\n",
      "vad.shape(398,)\n",
      "features.shape(62, 423)\n",
      "vad.shape(423,)\n"
     ]
    },
    {
     "name": "stderr",
     "output_type": "stream",
     "text": [
      "  6%|▌         | 358/6394 [00:28<05:49, 17.25it/s]"
     ]
    },
    {
     "name": "stdout",
     "output_type": "stream",
     "text": [
      "features.shape(62, 368)\n",
      "vad.shape(368,)\n",
      "features.shape(62, 777)\n",
      "vad.shape(777,)\n",
      "features.shape(62, 363)\n",
      "vad.shape(363,)\n"
     ]
    },
    {
     "name": "stderr",
     "output_type": "stream",
     "text": [
      "  6%|▌         | 360/6394 [00:28<07:22, 13.65it/s]"
     ]
    },
    {
     "name": "stdout",
     "output_type": "stream",
     "text": [
      "features.shape(62, 261)\n",
      "vad.shape(261,)\n",
      "features.shape(62, 214)\n",
      "vad.shape(214,)\n",
      "features.shape(62, 372)\n"
     ]
    },
    {
     "name": "stderr",
     "output_type": "stream",
     "text": [
      "  6%|▌         | 364/6394 [00:28<08:09, 12.32it/s]"
     ]
    },
    {
     "name": "stdout",
     "output_type": "stream",
     "text": [
      "vad.shape(372,)\n",
      "features.shape(62, 291)\n",
      "vad.shape(291,)\n",
      "features.shape(62, 444)\n",
      "vad.shape(444,)\n"
     ]
    },
    {
     "name": "stderr",
     "output_type": "stream",
     "text": [
      "  6%|▌         | 366/6394 [00:28<08:51, 11.33it/s]"
     ]
    },
    {
     "name": "stdout",
     "output_type": "stream",
     "text": [
      "features.shape(62, 338)\n",
      "vad.shape(338,)\n",
      "features.shape(62, 266)\n",
      "vad.shape(266,)\n",
      "features.shape(62, 278)\n",
      "vad.shape(278,)\n"
     ]
    },
    {
     "name": "stderr",
     "output_type": "stream",
     "text": [
      "  6%|▌         | 371/6394 [00:29<06:51, 14.64it/s]"
     ]
    },
    {
     "name": "stdout",
     "output_type": "stream",
     "text": [
      "features.shape(62, 257)\n",
      "vad.shape(257,)\n",
      "features.shape(62, 1119)\n",
      "vad.shape(1119,)\n",
      "features.shape(62, 466)\n",
      "vad.shape(466,)\n",
      "features.shape(62, 316)\n",
      "vad.shape(316,)\n"
     ]
    },
    {
     "name": "stderr",
     "output_type": "stream",
     "text": [
      "  6%|▌         | 373/6394 [00:29<07:49, 12.82it/s]"
     ]
    },
    {
     "name": "stdout",
     "output_type": "stream",
     "text": [
      "features.shape(62, 231)\n",
      "vad.shape(231,)\n",
      "features.shape(62, 261)\n",
      "vad.shape(261,)\n"
     ]
    },
    {
     "name": "stderr",
     "output_type": "stream",
     "text": [
      "  6%|▌         | 375/6394 [00:29<08:28, 11.85it/s]"
     ]
    },
    {
     "name": "stdout",
     "output_type": "stream",
     "text": [
      "features.shape(62, 250)\n",
      "vad.shape(250,)\n",
      "features.shape(62, 436)\n",
      "vad.shape(436,)\n",
      "features.shape(62, 316)\n",
      "vad.shape(316,)\n"
     ]
    },
    {
     "name": "stderr",
     "output_type": "stream",
     "text": [
      "  6%|▌         | 379/6394 [00:29<08:44, 11.47it/s]"
     ]
    },
    {
     "name": "stdout",
     "output_type": "stream",
     "text": [
      "features.shape(62, 248)\n",
      "vad.shape(248,)\n",
      "features.shape(62, 334)\n",
      "vad.shape(334,)\n",
      "features.shape(62, 252)\n",
      "vad.shape(252,)\n"
     ]
    },
    {
     "name": "stderr",
     "output_type": "stream",
     "text": [
      "  6%|▌         | 381/6394 [00:30<08:28, 11.82it/s]"
     ]
    },
    {
     "name": "stdout",
     "output_type": "stream",
     "text": [
      "features.shape(62, 376)\n",
      "vad.shape(376,)\n",
      "features.shape(62, 368)\n",
      "vad.shape(368,)\n",
      "features.shape(62, 227)\n",
      "vad.shape(227,)\n"
     ]
    },
    {
     "name": "stderr",
     "output_type": "stream",
     "text": [
      "  6%|▌         | 383/6394 [00:30<09:12, 10.87it/s]"
     ]
    },
    {
     "name": "stdout",
     "output_type": "stream",
     "text": [
      "features.shape(62, 329)\n",
      "vad.shape(329,)\n",
      "features.shape(62, 261)\n",
      "vad.shape(261,)\n"
     ]
    },
    {
     "name": "stderr",
     "output_type": "stream",
     "text": [
      "  6%|▌         | 387/6394 [00:30<09:03, 11.04it/s]"
     ]
    },
    {
     "name": "stdout",
     "output_type": "stream",
     "text": [
      "features.shape(62, 312)\n",
      "vad.shape(312,)\n",
      "features.shape(62, 440)\n",
      "vad.shape(440,)\n",
      "features.shape(62, 389)\n",
      "vad.shape(389,)\n",
      "features.shape(62, 300)\n",
      "vad.shape(300,)\n"
     ]
    },
    {
     "name": "stderr",
     "output_type": "stream",
     "text": [
      "  6%|▌         | 391/6394 [00:30<07:15, 13.78it/s]"
     ]
    },
    {
     "name": "stdout",
     "output_type": "stream",
     "text": [
      "features.shape(62, 701)\n",
      "vad.shape(701,)\n",
      "features.shape(62, 368)\n",
      "vad.shape(368,)\n",
      "features.shape(62, 359)\n",
      "vad.shape(359,)\n",
      "features.shape(62, 278)\n",
      "vad.shape(278,)\n"
     ]
    },
    {
     "name": "stderr",
     "output_type": "stream",
     "text": [
      "  6%|▌         | 395/6394 [00:31<06:33, 15.24it/s]"
     ]
    },
    {
     "name": "stdout",
     "output_type": "stream",
     "text": [
      "features.shape(62, 257)\n",
      "vad.shape(257,)\n",
      "features.shape(62, 323)\n",
      "vad.shape(323,)\n",
      "features.shape(62, 368)\n",
      "vad.shape(368,)\n",
      "features.shape(62, 321)\n",
      "vad.shape(321,)\n"
     ]
    },
    {
     "name": "stderr",
     "output_type": "stream",
     "text": [
      "  6%|▌         | 397/6394 [00:31<06:49, 14.66it/s]"
     ]
    },
    {
     "name": "stdout",
     "output_type": "stream",
     "text": [
      "features.shape(62, 282)\n",
      "vad.shape(282,)\n",
      "features.shape(62, 304)\n",
      "vad.shape(304,)\n"
     ]
    },
    {
     "name": "stderr",
     "output_type": "stream",
     "text": [
      "  6%|▋         | 401/6394 [00:31<08:19, 11.99it/s]"
     ]
    },
    {
     "name": "stdout",
     "output_type": "stream",
     "text": [
      "features.shape(62, 261)\n",
      "vad.shape(261,)\n",
      "features.shape(62, 270)\n",
      "vad.shape(270,)\n",
      "features.shape(62, 291)\n",
      "vad.shape(291,)\n"
     ]
    },
    {
     "name": "stderr",
     "output_type": "stream",
     "text": [
      "  6%|▋         | 403/6394 [00:31<08:19, 11.99it/s]"
     ]
    },
    {
     "name": "stdout",
     "output_type": "stream",
     "text": [
      "features.shape(62, 316)\n",
      "vad.shape(316,)\n",
      "features.shape(62, 487)\n",
      "vad.shape(487,)\n",
      "features.shape(62, 265)\n",
      "vad.shape(265,)\n"
     ]
    },
    {
     "name": "stderr",
     "output_type": "stream",
     "text": [
      "  6%|▋         | 407/6394 [00:32<08:27, 11.80it/s]"
     ]
    },
    {
     "name": "stdout",
     "output_type": "stream",
     "text": [
      "features.shape(62, 649)\n",
      "vad.shape(649,)\n",
      "features.shape(62, 278)\n",
      "vad.shape(278,)\n",
      "features.shape(62, 317)\n",
      "vad.shape(317,)\n"
     ]
    },
    {
     "name": "stderr",
     "output_type": "stream",
     "text": [
      "  6%|▋         | 409/6394 [00:32<08:58, 11.12it/s]"
     ]
    },
    {
     "name": "stdout",
     "output_type": "stream",
     "text": [
      "features.shape(62, 355)\n",
      "vad.shape(355,)\n",
      "features.shape(62, 236)\n",
      "vad.shape(236,)\n"
     ]
    },
    {
     "name": "stderr",
     "output_type": "stream",
     "text": [
      "  6%|▋         | 411/6394 [00:32<09:32, 10.46it/s]"
     ]
    },
    {
     "name": "stdout",
     "output_type": "stream",
     "text": [
      "features.shape(62, 312)\n",
      "vad.shape(312,)\n",
      "features.shape(62, 364)\n",
      "vad.shape(364,)\n",
      "features.shape(62, 491)\n",
      "vad.shape(491,)\n",
      "features.shape(62, 299)\n",
      "vad.shape(299,)\n"
     ]
    },
    {
     "name": "stderr",
     "output_type": "stream",
     "text": [
      "  7%|▋         | 417/6394 [00:32<06:23, 15.57it/s]"
     ]
    },
    {
     "name": "stdout",
     "output_type": "stream",
     "text": [
      "features.shape(62, 133)\n",
      "vad.shape(133,)\n",
      "features.shape(62, 278)\n",
      "vad.shape(278,)\n",
      "features.shape(62, 269)\n",
      "vad.shape(269,)\n",
      "features.shape(62, 342)\n",
      "vad.shape(342,)\n"
     ]
    },
    {
     "name": "stderr",
     "output_type": "stream",
     "text": [
      "  7%|▋         | 419/6394 [00:33<07:46, 12.82it/s]"
     ]
    },
    {
     "name": "stdout",
     "output_type": "stream",
     "text": [
      "features.shape(62, 274)\n",
      "vad.shape(274,)\n",
      "features.shape(62, 364)\n",
      "vad.shape(364,)\n",
      "features.shape(62, 274)\n",
      "vad.shape(274,)\n"
     ]
    },
    {
     "name": "stderr",
     "output_type": "stream",
     "text": [
      "  7%|▋         | 423/6394 [00:33<07:26, 13.36it/s]"
     ]
    },
    {
     "name": "stdout",
     "output_type": "stream",
     "text": [
      "features.shape(62, 304)\n",
      "vad.shape(304,)\n",
      "features.shape(62, 440)\n",
      "vad.shape(440,)\n",
      "features.shape(62, 376)\n",
      "vad.shape(376,)\n",
      "features.shape(62, 338)\n",
      "vad.shape(338,)\n"
     ]
    },
    {
     "name": "stderr",
     "output_type": "stream",
     "text": [
      "  7%|▋         | 429/6394 [00:33<05:44, 17.30it/s]"
     ]
    },
    {
     "name": "stdout",
     "output_type": "stream",
     "text": [
      "features.shape(62, 402)\n",
      "vad.shape(402,)\n",
      "features.shape(62, 270)\n",
      "vad.shape(270,)\n",
      "features.shape(62, 338)\n",
      "vad.shape(338,)\n",
      "features.shape(62, 317)\n",
      "vad.shape(317,)\n",
      "features.shape(62, 308)\n",
      "vad.shape(308,)\n"
     ]
    },
    {
     "name": "stderr",
     "output_type": "stream",
     "text": [
      "  7%|▋         | 431/6394 [00:33<06:26, 15.44it/s]"
     ]
    },
    {
     "name": "stdout",
     "output_type": "stream",
     "text": [
      "features.shape(62, 607)\n",
      "vad.shape(607,)\n",
      "features.shape(62, 342)\n",
      "vad.shape(342,)\n"
     ]
    },
    {
     "name": "stderr",
     "output_type": "stream",
     "text": [
      "  7%|▋         | 436/6394 [00:34<05:40, 17.52it/s]"
     ]
    },
    {
     "name": "stdout",
     "output_type": "stream",
     "text": [
      "features.shape(62, 692)\n",
      "vad.shape(692,)\n",
      "features.shape(62, 987)\n",
      "vad.shape(987,)\n",
      "features.shape(62, 530)\n",
      "vad.shape(530,)\n",
      "features.shape(62, 722)\n",
      "vad.shape(722,)\n",
      "features.shape(62, 372)\n",
      "vad.shape(372,)\n",
      "features.shape(62, 308)\n",
      "vad.shape(308,)\n"
     ]
    },
    {
     "name": "stderr",
     "output_type": "stream",
     "text": [
      "  7%|▋         | 440/6394 [00:34<06:58, 14.22it/s]"
     ]
    },
    {
     "name": "stdout",
     "output_type": "stream",
     "text": [
      "features.shape(62, 444)\n",
      "vad.shape(444,)\n",
      "features.shape(62, 662)\n",
      "vad.shape(662,)\n",
      "features.shape(62, 427)\n",
      "vad.shape(427,)\n"
     ]
    },
    {
     "name": "stderr",
     "output_type": "stream",
     "text": [
      "  7%|▋         | 444/6394 [00:34<06:48, 14.57it/s]"
     ]
    },
    {
     "name": "stdout",
     "output_type": "stream",
     "text": [
      "features.shape(62, 338)\n",
      "vad.shape(338,)\n",
      "features.shape(62, 521)\n",
      "vad.shape(521,)\n",
      "features.shape(62, 381)\n",
      "vad.shape(381,)\n",
      "features.shape(62, 799)\n",
      "vad.shape(799,)\n"
     ]
    },
    {
     "name": "stderr",
     "output_type": "stream",
     "text": [
      "  7%|▋         | 446/6394 [00:34<07:03, 14.05it/s]"
     ]
    },
    {
     "name": "stdout",
     "output_type": "stream",
     "text": [
      "features.shape(62, 410)\n",
      "vad.shape(410,)\n",
      "features.shape(62, 376)\n",
      "vad.shape(376,)\n",
      "features.shape(62, 410)\n",
      "vad.shape(410,)\n",
      "features.shape(62, 261)\n",
      "vad.shape(261,)\n"
     ]
    },
    {
     "name": "stderr",
     "output_type": "stream",
     "text": [
      "  7%|▋         | 452/6394 [00:35<05:14, 18.88it/s]"
     ]
    },
    {
     "name": "stdout",
     "output_type": "stream",
     "text": [
      "features.shape(62, 624)\n",
      "vad.shape(624,)\n",
      "features.shape(62, 722)\n",
      "vad.shape(722,)\n",
      "features.shape(62, 445)\n",
      "vad.shape(445,)\n",
      "features.shape(62, 760)\n",
      "vad.shape(760,)\n",
      "features.shape(62, 675)\n",
      "vad.shape(675,)\n"
     ]
    },
    {
     "name": "stderr",
     "output_type": "stream",
     "text": [
      "  7%|▋         | 458/6394 [00:35<04:47, 20.68it/s]"
     ]
    },
    {
     "name": "stdout",
     "output_type": "stream",
     "text": [
      "features.shape(62, 470)\n",
      "vad.shape(470,)\n",
      "features.shape(62, 479)\n",
      "vad.shape(479,)\n",
      "features.shape(62, 338)\n",
      "vad.shape(338,)\n",
      "features.shape(62, 816)\n",
      "vad.shape(816,)\n",
      "features.shape(62, 735)\n",
      "vad.shape(735,)\n"
     ]
    },
    {
     "name": "stderr",
     "output_type": "stream",
     "text": [
      "  7%|▋         | 461/6394 [00:35<04:53, 20.23it/s]"
     ]
    },
    {
     "name": "stdout",
     "output_type": "stream",
     "text": [
      "features.shape(62, 338)\n",
      "vad.shape(338,)\n",
      "features.shape(62, 487)\n",
      "vad.shape(487,)\n",
      "features.shape(62, 602)\n",
      "vad.shape(602,)\n",
      "features.shape(62, 432)\n",
      "vad.shape(432,)\n"
     ]
    },
    {
     "name": "stderr",
     "output_type": "stream",
     "text": [
      "  7%|▋         | 467/6394 [00:35<05:25, 18.19it/s]"
     ]
    },
    {
     "name": "stdout",
     "output_type": "stream",
     "text": [
      "features.shape(62, 897)\n",
      "vad.shape(897,)\n",
      "features.shape(62, 466)\n",
      "vad.shape(466,)\n",
      "features.shape(62, 858)\n",
      "vad.shape(858,)\n",
      "features.shape(62, 299)\n",
      "vad.shape(299,)\n",
      "features.shape(62, 487)\n",
      "vad.shape(487,)\n"
     ]
    },
    {
     "name": "stderr",
     "output_type": "stream",
     "text": [
      "  7%|▋         | 470/6394 [00:36<05:07, 19.27it/s]"
     ]
    },
    {
     "name": "stdout",
     "output_type": "stream",
     "text": [
      "features.shape(62, 687)\n",
      "vad.shape(687,)\n",
      "features.shape(62, 722)\n",
      "vad.shape(722,)\n",
      "features.shape(62, 206)\n",
      "vad.shape(206,)\n",
      "features.shape(62, 560)\n",
      "vad.shape(560,)\n"
     ]
    },
    {
     "name": "stderr",
     "output_type": "stream",
     "text": [
      "  7%|▋         | 473/6394 [00:36<05:23, 18.28it/s]"
     ]
    },
    {
     "name": "stdout",
     "output_type": "stream",
     "text": [
      "features.shape(62, 581)\n",
      "vad.shape(581,)\n",
      "features.shape(62, 436)\n",
      "vad.shape(436,)\n",
      "features.shape(62, 598)\n",
      "vad.shape(598,)\n",
      "features.shape(62, 705)\n",
      "vad.shape(705,)\n"
     ]
    },
    {
     "name": "stderr",
     "output_type": "stream",
     "text": [
      "  7%|▋         | 478/6394 [00:36<05:42, 17.26it/s]"
     ]
    },
    {
     "name": "stdout",
     "output_type": "stream",
     "text": [
      "features.shape(62, 402)\n",
      "vad.shape(402,)\n",
      "features.shape(62, 803)\n",
      "vad.shape(803,)\n",
      "features.shape(62, 299)\n",
      "vad.shape(299,)\n",
      "features.shape(62, 342)\n",
      "vad.shape(342,)\n"
     ]
    },
    {
     "name": "stderr",
     "output_type": "stream",
     "text": [
      "  8%|▊         | 484/6394 [00:36<04:31, 21.79it/s]"
     ]
    },
    {
     "name": "stdout",
     "output_type": "stream",
     "text": [
      "features.shape(62, 419)\n",
      "vad.shape(419,)\n",
      "features.shape(62, 381)\n",
      "vad.shape(381,)\n",
      "features.shape(62, 445)\n",
      "vad.shape(445,)\n",
      "features.shape(62, 513)\n",
      "vad.shape(513,)\n",
      "features.shape(62, 308)\n",
      "vad.shape(308,)\n",
      "features.shape(62, 577)\n",
      "vad.shape(577,)\n"
     ]
    },
    {
     "name": "stderr",
     "output_type": "stream",
     "text": [
      "  8%|▊         | 487/6394 [00:37<05:42, 17.26it/s]"
     ]
    },
    {
     "name": "stdout",
     "output_type": "stream",
     "text": [
      "features.shape(62, 449)\n",
      "vad.shape(449,)\n",
      "features.shape(62, 590)\n",
      "vad.shape(590,)\n"
     ]
    },
    {
     "name": "stderr",
     "output_type": "stream",
     "text": [
      "  8%|▊         | 489/6394 [00:37<06:21, 15.47it/s]"
     ]
    },
    {
     "name": "stdout",
     "output_type": "stream",
     "text": [
      "features.shape(62, 701)\n",
      "vad.shape(701,)\n",
      "features.shape(62, 483)\n",
      "vad.shape(483,)\n",
      "features.shape(62, 756)\n",
      "vad.shape(756,)\n",
      "features.shape(62, 739)\n"
     ]
    },
    {
     "name": "stderr",
     "output_type": "stream",
     "text": [
      "  8%|▊         | 493/6394 [00:37<07:09, 13.75it/s]"
     ]
    },
    {
     "name": "stdout",
     "output_type": "stream",
     "text": [
      "vad.shape(739,)\n",
      "features.shape(62, 231)\n",
      "vad.shape(231,)\n",
      "features.shape(62, 709)\n",
      "vad.shape(709,)\n"
     ]
    },
    {
     "name": "stderr",
     "output_type": "stream",
     "text": [
      "  8%|▊         | 495/6394 [00:37<07:18, 13.46it/s]"
     ]
    },
    {
     "name": "stdout",
     "output_type": "stream",
     "text": [
      "features.shape(62, 509)\n",
      "vad.shape(509,)\n",
      "features.shape(62, 461)\n",
      "vad.shape(461,)\n",
      "features.shape(62, 508)\n",
      "vad.shape(508,)\n"
     ]
    },
    {
     "name": "stderr",
     "output_type": "stream",
     "text": [
      "  8%|▊         | 499/6394 [00:37<07:28, 13.16it/s]"
     ]
    },
    {
     "name": "stdout",
     "output_type": "stream",
     "text": [
      "features.shape(62, 628)\n",
      "vad.shape(628,)\n",
      "features.shape(62, 637)\n",
      "vad.shape(637,)\n",
      "features.shape(62, 415)\n",
      "vad.shape(415,)\n"
     ]
    },
    {
     "name": "stderr",
     "output_type": "stream",
     "text": [
      "  8%|▊         | 503/6394 [00:38<07:03, 13.91it/s]"
     ]
    },
    {
     "name": "stdout",
     "output_type": "stream",
     "text": [
      "features.shape(62, 539)\n",
      "vad.shape(539,)\n",
      "features.shape(62, 449)\n",
      "vad.shape(449,)\n",
      "features.shape(62, 756)\n",
      "vad.shape(756,)\n",
      "features.shape(62, 436)\n",
      "vad.shape(436,)\n"
     ]
    },
    {
     "name": "stderr",
     "output_type": "stream",
     "text": [
      "  8%|▊         | 505/6394 [00:38<07:16, 13.49it/s]"
     ]
    },
    {
     "name": "stdout",
     "output_type": "stream",
     "text": [
      "features.shape(62, 419)\n",
      "vad.shape(419,)\n",
      "features.shape(62, 577)\n",
      "vad.shape(577,)\n",
      "features.shape(62, 620)\n",
      "vad.shape(620,)\n",
      "features.shape(62, 739)\n",
      "vad.shape(739,)\n"
     ]
    },
    {
     "name": "stderr",
     "output_type": "stream",
     "text": [
      "  8%|▊         | 509/6394 [00:38<07:27, 13.16it/s]"
     ]
    },
    {
     "name": "stdout",
     "output_type": "stream",
     "text": [
      "features.shape(62, 769)\n",
      "vad.shape(769,)\n",
      "features.shape(62, 436)\n",
      "vad.shape(436,)\n",
      "features.shape(62, 291)\n",
      "vad.shape(291,)\n"
     ]
    },
    {
     "name": "stderr",
     "output_type": "stream",
     "text": [
      "  8%|▊         | 514/6394 [00:38<06:01, 16.26it/s]"
     ]
    },
    {
     "name": "stdout",
     "output_type": "stream",
     "text": [
      "features.shape(62, 688)\n",
      "vad.shape(688,)\n",
      "features.shape(62, 432)\n",
      "vad.shape(432,)\n",
      "features.shape(62, 479)\n",
      "vad.shape(479,)\n",
      "features.shape(62, 240)\n",
      "vad.shape(240,)\n",
      "features.shape(62, 782)\n",
      "vad.shape(782,)\n"
     ]
    },
    {
     "name": "stderr",
     "output_type": "stream",
     "text": [
      "  8%|▊         | 520/6394 [00:39<04:44, 20.65it/s]"
     ]
    },
    {
     "name": "stdout",
     "output_type": "stream",
     "text": [
      "features.shape(62, 475)\n",
      "vad.shape(475,)\n",
      "features.shape(62, 577)\n",
      "vad.shape(577,)\n",
      "features.shape(62, 427)\n",
      "vad.shape(427,)\n",
      "features.shape(62, 500)\n",
      "vad.shape(500,)\n",
      "features.shape(62, 419)\n",
      "vad.shape(419,)\n"
     ]
    },
    {
     "name": "stderr",
     "output_type": "stream",
     "text": [
      "  8%|▊         | 523/6394 [00:39<04:31, 21.60it/s]"
     ]
    },
    {
     "name": "stdout",
     "output_type": "stream",
     "text": [
      "features.shape(62, 624)\n",
      "vad.shape(624,)\n",
      "features.shape(62, 632)\n",
      "vad.shape(632,)\n",
      "features.shape(62, 521)\n",
      "vad.shape(521,)\n",
      "features.shape(62, 427)\n",
      "vad.shape(427,)\n",
      "features.shape(62, 402)\n",
      "vad.shape(402,)\n"
     ]
    },
    {
     "name": "stderr",
     "output_type": "stream",
     "text": [
      "  8%|▊         | 526/6394 [00:39<04:42, 20.77it/s]"
     ]
    },
    {
     "name": "stdout",
     "output_type": "stream",
     "text": [
      "features.shape(62, 790)\n",
      "vad.shape(790,)\n",
      "features.shape(62, 526)\n",
      "vad.shape(526,)\n",
      "features.shape(62, 406)\n",
      "vad.shape(406,)\n"
     ]
    },
    {
     "name": "stderr",
     "output_type": "stream",
     "text": [
      "  8%|▊         | 531/6394 [00:39<05:29, 17.82it/s]"
     ]
    },
    {
     "name": "stdout",
     "output_type": "stream",
     "text": [
      "features.shape(62, 423)\n",
      "vad.shape(423,)\n",
      "features.shape(62, 547)\n",
      "vad.shape(547,)\n",
      "features.shape(62, 342)\n",
      "vad.shape(342,)\n",
      "features.shape(62, 927)\n",
      "vad.shape(927,)\n",
      "features.shape(62, 351)\n",
      "vad.shape(351,)\n"
     ]
    },
    {
     "name": "stderr",
     "output_type": "stream",
     "text": [
      "  8%|▊         | 537/6394 [00:40<04:50, 20.15it/s]"
     ]
    },
    {
     "name": "stdout",
     "output_type": "stream",
     "text": [
      "features.shape(62, 555)\n",
      "vad.shape(555,)\n",
      "features.shape(62, 317)\n",
      "vad.shape(317,)\n",
      "features.shape(62, 602)\n",
      "vad.shape(602,)\n",
      "features.shape(62, 380)\n",
      "vad.shape(380,)\n",
      "features.shape(62, 380)\n",
      "vad.shape(380,)\n",
      "features.shape(62, 342)\n",
      "vad.shape(342,)\n"
     ]
    },
    {
     "name": "stderr",
     "output_type": "stream",
     "text": [
      "  8%|▊         | 543/6394 [00:40<04:22, 22.28it/s]"
     ]
    },
    {
     "name": "stdout",
     "output_type": "stream",
     "text": [
      "features.shape(62, 270)\n",
      "vad.shape(270,)\n",
      "features.shape(62, 769)\n",
      "vad.shape(769,)\n",
      "features.shape(62, 393)\n",
      "vad.shape(393,)\n",
      "features.shape(62, 342)\n",
      "vad.shape(342,)\n",
      "features.shape(62, 475)\n",
      "vad.shape(475,)\n"
     ]
    },
    {
     "name": "stderr",
     "output_type": "stream",
     "text": [
      "  9%|▊         | 546/6394 [00:40<04:48, 20.26it/s]"
     ]
    },
    {
     "name": "stdout",
     "output_type": "stream",
     "text": [
      "features.shape(62, 824)\n",
      "vad.shape(824,)\n",
      "features.shape(62, 756)\n",
      "vad.shape(756,)\n"
     ]
    },
    {
     "name": "stderr",
     "output_type": "stream",
     "text": [
      "  9%|▊         | 549/6394 [00:40<05:35, 17.42it/s]"
     ]
    },
    {
     "name": "stdout",
     "output_type": "stream",
     "text": [
      "features.shape(62, 184)\n",
      "vad.shape(184,)\n",
      "features.shape(62, 487)\n",
      "vad.shape(487,)\n",
      "features.shape(62, 556)\n",
      "vad.shape(556,)\n",
      "features.shape(62, 636)\n",
      "vad.shape(636,)\n"
     ]
    },
    {
     "name": "stderr",
     "output_type": "stream",
     "text": [
      "  9%|▊         | 553/6394 [00:41<06:22, 15.27it/s]"
     ]
    },
    {
     "name": "stdout",
     "output_type": "stream",
     "text": [
      "features.shape(62, 415)\n",
      "vad.shape(415,)\n",
      "features.shape(62, 453)\n",
      "vad.shape(453,)\n",
      "features.shape(62, 500)\n",
      "vad.shape(500,)\n"
     ]
    },
    {
     "name": "stderr",
     "output_type": "stream",
     "text": [
      "  9%|▊         | 555/6394 [00:41<07:22, 13.20it/s]"
     ]
    },
    {
     "name": "stdout",
     "output_type": "stream",
     "text": [
      "features.shape(62, 393)\n",
      "vad.shape(393,)\n",
      "features.shape(62, 845)\n",
      "vad.shape(845,)\n",
      "features.shape(62, 483)\n",
      "vad.shape(483,)\n"
     ]
    },
    {
     "name": "stderr",
     "output_type": "stream",
     "text": [
      "  9%|▉         | 560/6394 [00:41<06:05, 15.98it/s]"
     ]
    },
    {
     "name": "stdout",
     "output_type": "stream",
     "text": [
      "features.shape(62, 713)\n",
      "vad.shape(713,)\n",
      "features.shape(62, 376)\n",
      "vad.shape(376,)\n",
      "features.shape(62, 423)\n",
      "vad.shape(423,)\n",
      "features.shape(62, 411)\n",
      "vad.shape(411,)\n"
     ]
    },
    {
     "name": "stderr",
     "output_type": "stream",
     "text": [
      "  9%|▉         | 562/6394 [00:41<06:48, 14.28it/s]"
     ]
    },
    {
     "name": "stdout",
     "output_type": "stream",
     "text": [
      "features.shape(62, 359)\n",
      "vad.shape(359,)\n",
      "features.shape(62, 756)\n",
      "vad.shape(756,)\n",
      "features.shape(62, 679)\n",
      "vad.shape(679,)\n"
     ]
    },
    {
     "name": "stderr",
     "output_type": "stream",
     "text": [
      "  9%|▉         | 566/6394 [00:42<07:58, 12.18it/s]"
     ]
    },
    {
     "name": "stdout",
     "output_type": "stream",
     "text": [
      "features.shape(62, 1396)\n",
      "vad.shape(1396,)\n",
      "features.shape(62, 1038)\n",
      "vad.shape(1038,)\n",
      "features.shape(62, 291)\n",
      "vad.shape(291,)\n"
     ]
    },
    {
     "name": "stderr",
     "output_type": "stream",
     "text": [
      "  9%|▉         | 570/6394 [00:42<07:34, 12.82it/s]"
     ]
    },
    {
     "name": "stdout",
     "output_type": "stream",
     "text": [
      "features.shape(62, 884)\n",
      "vad.shape(884,)\n",
      "features.shape(62, 611)\n",
      "vad.shape(611,)\n",
      "features.shape(62, 760)\n",
      "vad.shape(760,)\n",
      "features.shape(62, 295)\n",
      "vad.shape(295,)\n"
     ]
    },
    {
     "name": "stderr",
     "output_type": "stream",
     "text": [
      "  9%|▉         | 573/6394 [00:42<06:24, 15.15it/s]"
     ]
    },
    {
     "name": "stdout",
     "output_type": "stream",
     "text": [
      "features.shape(62, 312)\n",
      "vad.shape(312,)\n",
      "features.shape(62, 432)\n",
      "vad.shape(432,)\n",
      "features.shape(62, 376)\n",
      "vad.shape(376,)\n",
      "features.shape(62, 329)\n",
      "vad.shape(329,)\n"
     ]
    },
    {
     "name": "stderr",
     "output_type": "stream",
     "text": [
      "  9%|▉         | 577/6394 [00:42<07:04, 13.70it/s]"
     ]
    },
    {
     "name": "stdout",
     "output_type": "stream",
     "text": [
      "features.shape(62, 295)\n",
      "vad.shape(295,)\n",
      "features.shape(62, 253)\n",
      "vad.shape(253,)\n",
      "features.shape(62, 402)\n",
      "vad.shape(402,)\n",
      "features.shape(62, 572)\n"
     ]
    },
    {
     "name": "stderr",
     "output_type": "stream",
     "text": [
      "  9%|▉         | 579/6394 [00:42<07:00, 13.82it/s]"
     ]
    },
    {
     "name": "stdout",
     "output_type": "stream",
     "text": [
      "vad.shape(572,)\n",
      "features.shape(62, 539)\n",
      "vad.shape(539,)\n",
      "features.shape(62, 829)\n",
      "vad.shape(829,)\n"
     ]
    },
    {
     "name": "stderr",
     "output_type": "stream",
     "text": [
      "  9%|▉         | 583/6394 [00:43<06:53, 14.06it/s]"
     ]
    },
    {
     "name": "stdout",
     "output_type": "stream",
     "text": [
      "features.shape(62, 406)\n",
      "vad.shape(406,)\n",
      "features.shape(62, 436)\n",
      "vad.shape(436,)\n",
      "features.shape(62, 500)\n",
      "vad.shape(500,)\n",
      "features.shape(62, 530)\n",
      "vad.shape(530,)\n",
      "features.shape(62, 474)\n",
      "vad.shape(474,)\n"
     ]
    },
    {
     "name": "stderr",
     "output_type": "stream",
     "text": [
      "  9%|▉         | 588/6394 [00:43<06:19, 15.30it/s]"
     ]
    },
    {
     "name": "stdout",
     "output_type": "stream",
     "text": [
      "features.shape(62, 901)\n",
      "vad.shape(901,)\n",
      "features.shape(62, 342)\n",
      "vad.shape(342,)\n",
      "features.shape(62, 364)\n",
      "vad.shape(364,)\n"
     ]
    },
    {
     "name": "stderr",
     "output_type": "stream",
     "text": [
      "  9%|▉         | 590/6394 [00:43<06:48, 14.21it/s]"
     ]
    },
    {
     "name": "stdout",
     "output_type": "stream",
     "text": [
      "features.shape(62, 325)\n",
      "vad.shape(325,)\n",
      "features.shape(62, 372)\n",
      "vad.shape(372,)\n",
      "features.shape(62, 688)\n",
      "vad.shape(688,)\n"
     ]
    },
    {
     "name": "stderr",
     "output_type": "stream",
     "text": [
      "  9%|▉         | 595/6394 [00:44<06:32, 14.77it/s]"
     ]
    },
    {
     "name": "stdout",
     "output_type": "stream",
     "text": [
      "features.shape(62, 206)\n",
      "vad.shape(206,)\n",
      "features.shape(62, 747)\n",
      "vad.shape(747,)\n",
      "features.shape(62, 410)\n",
      "vad.shape(410,)\n",
      "features.shape(62, 449)\n",
      "vad.shape(449,)\n",
      "features.shape(62, 427)\n",
      "vad.shape(427,)\n"
     ]
    },
    {
     "name": "stderr",
     "output_type": "stream",
     "text": [
      "  9%|▉         | 599/6394 [00:44<07:02, 13.70it/s]"
     ]
    },
    {
     "name": "stdout",
     "output_type": "stream",
     "text": [
      "features.shape(62, 658)\n",
      "vad.shape(658,)\n",
      "features.shape(62, 585)\n",
      "vad.shape(585,)\n",
      "features.shape(62, 321)\n",
      "vad.shape(321,)\n"
     ]
    },
    {
     "name": "stderr",
     "output_type": "stream",
     "text": [
      "  9%|▉         | 601/6394 [00:44<06:57, 13.88it/s]"
     ]
    },
    {
     "name": "stdout",
     "output_type": "stream",
     "text": [
      "features.shape(62, 287)\n",
      "vad.shape(287,)\n",
      "features.shape(62, 483)\n",
      "vad.shape(483,)\n",
      "features.shape(62, 760)\n",
      "vad.shape(760,)\n"
     ]
    },
    {
     "name": "stderr",
     "output_type": "stream",
     "text": [
      "  9%|▉         | 605/6394 [00:44<07:10, 13.43it/s]"
     ]
    },
    {
     "name": "stdout",
     "output_type": "stream",
     "text": [
      "features.shape(62, 321)\n",
      "vad.shape(321,)\n",
      "features.shape(62, 794)\n",
      "vad.shape(794,)\n",
      "features.shape(62, 790)\n",
      "vad.shape(790,)\n"
     ]
    },
    {
     "name": "stderr",
     "output_type": "stream",
     "text": [
      "  9%|▉         | 607/6394 [00:45<07:37, 12.66it/s]"
     ]
    },
    {
     "name": "stdout",
     "output_type": "stream",
     "text": [
      "features.shape(62, 751)\n",
      "vad.shape(751,)\n",
      "features.shape(62, 696)\n",
      "vad.shape(696,)\n",
      "features.shape(62, 568)\n",
      "vad.shape(568,)\n",
      "features.shape(62, 735)\n",
      "vad.shape(735,)\n",
      "features.shape(62, 346)\n",
      "vad.shape(346,)\n"
     ]
    },
    {
     "name": "stderr",
     "output_type": "stream",
     "text": [
      " 10%|▉         | 614/6394 [00:45<05:11, 18.54it/s]"
     ]
    },
    {
     "name": "stdout",
     "output_type": "stream",
     "text": [
      "features.shape(62, 619)\n",
      "vad.shape(619,)\n",
      "features.shape(62, 611)\n",
      "vad.shape(611,)\n",
      "features.shape(62, 475)\n",
      "vad.shape(475,)\n",
      "features.shape(62, 295)\n",
      "vad.shape(295,)\n"
     ]
    },
    {
     "name": "stderr",
     "output_type": "stream",
     "text": [
      " 10%|▉         | 616/6394 [00:45<05:41, 16.93it/s]"
     ]
    },
    {
     "name": "stdout",
     "output_type": "stream",
     "text": [
      "features.shape(62, 372)\n",
      "vad.shape(372,)\n",
      "features.shape(62, 385)\n",
      "vad.shape(385,)\n",
      "features.shape(62, 560)\n",
      "vad.shape(560,)\n",
      "features.shape(62, 415)\n",
      "vad.shape(415,)\n"
     ]
    },
    {
     "name": "stderr",
     "output_type": "stream",
     "text": [
      " 10%|▉         | 620/6394 [00:45<06:06, 15.74it/s]"
     ]
    },
    {
     "name": "stdout",
     "output_type": "stream",
     "text": [
      "features.shape(62, 705)\n",
      "vad.shape(705,)\n",
      "features.shape(62, 547)\n",
      "vad.shape(547,)\n",
      "features.shape(62, 496)\n",
      "vad.shape(496,)\n"
     ]
    },
    {
     "name": "stderr",
     "output_type": "stream",
     "text": [
      " 10%|▉         | 624/6394 [00:46<07:04, 13.59it/s]"
     ]
    },
    {
     "name": "stdout",
     "output_type": "stream",
     "text": [
      "features.shape(62, 325)\n",
      "vad.shape(325,)\n",
      "features.shape(62, 334)\n",
      "vad.shape(334,)\n",
      "features.shape(62, 419)\n",
      "vad.shape(419,)\n"
     ]
    },
    {
     "name": "stderr",
     "output_type": "stream",
     "text": [
      " 10%|▉         | 630/6394 [00:46<05:51, 16.41it/s]"
     ]
    },
    {
     "name": "stdout",
     "output_type": "stream",
     "text": [
      "features.shape(62, 257)\n",
      "vad.shape(257,)\n",
      "features.shape(62, 773)\n",
      "vad.shape(773,)\n",
      "features.shape(62, 470)\n",
      "vad.shape(470,)\n",
      "features.shape(62, 329)\n",
      "vad.shape(329,)\n",
      "features.shape(62, 372)\n",
      "vad.shape(372,)\n",
      "features.shape(62, 530)\n",
      "vad.shape(530,)\n"
     ]
    },
    {
     "name": "stderr",
     "output_type": "stream",
     "text": [
      " 10%|▉         | 632/6394 [00:46<06:25, 14.93it/s]"
     ]
    },
    {
     "name": "stdout",
     "output_type": "stream",
     "text": [
      "features.shape(62, 769)\n",
      "vad.shape(769,)\n",
      "features.shape(62, 777)\n",
      "vad.shape(777,)\n",
      "features.shape(62, 457)\n"
     ]
    },
    {
     "name": "stderr",
     "output_type": "stream",
     "text": [
      " 10%|▉         | 634/6394 [00:46<07:24, 12.97it/s]"
     ]
    },
    {
     "name": "stdout",
     "output_type": "stream",
     "text": [
      "vad.shape(457,)\n",
      "features.shape(62, 274)\n",
      "vad.shape(274,)\n",
      "features.shape(62, 236)\n",
      "vad.shape(236,)\n"
     ]
    },
    {
     "name": "stderr",
     "output_type": "stream",
     "text": [
      " 10%|▉         | 639/6394 [00:47<06:23, 15.02it/s]"
     ]
    },
    {
     "name": "stdout",
     "output_type": "stream",
     "text": [
      "features.shape(62, 278)\n",
      "vad.shape(278,)\n",
      "features.shape(62, 505)\n",
      "vad.shape(505,)\n",
      "features.shape(62, 517)\n",
      "vad.shape(517,)\n",
      "features.shape(62, 329)\n",
      "vad.shape(329,)\n",
      "features.shape(62, 581)\n",
      "vad.shape(581,)\n",
      "features.shape(62, 453)\n",
      "vad.shape(453,)\n"
     ]
    },
    {
     "name": "stderr",
     "output_type": "stream",
     "text": [
      " 10%|█         | 645/6394 [00:47<05:07, 18.71it/s]"
     ]
    },
    {
     "name": "stdout",
     "output_type": "stream",
     "text": [
      "features.shape(62, 530)\n",
      "vad.shape(530,)\n",
      "features.shape(62, 628)\n",
      "vad.shape(628,)\n",
      "features.shape(62, 453)\n",
      "vad.shape(453,)\n",
      "features.shape(62, 854)\n",
      "vad.shape(854,)\n",
      "features.shape(62, 299)\n",
      "vad.shape(299,)\n"
     ]
    },
    {
     "name": "stderr",
     "output_type": "stream",
     "text": [
      " 10%|█         | 649/6394 [00:47<06:56, 13.81it/s]"
     ]
    },
    {
     "name": "stdout",
     "output_type": "stream",
     "text": [
      "features.shape(62, 159)\n",
      "vad.shape(159,)\n",
      "features.shape(62, 406)\n",
      "vad.shape(406,)\n",
      "features.shape(62, 377)\n",
      "vad.shape(377,)\n"
     ]
    },
    {
     "name": "stderr",
     "output_type": "stream",
     "text": [
      " 10%|█         | 654/6394 [00:48<05:48, 16.48it/s]"
     ]
    },
    {
     "name": "stdout",
     "output_type": "stream",
     "text": [
      "features.shape(62, 406)\n",
      "vad.shape(406,)\n",
      "features.shape(62, 551)\n",
      "vad.shape(551,)\n",
      "features.shape(62, 393)\n",
      "vad.shape(393,)\n",
      "features.shape(62, 679)\n",
      "vad.shape(679,)\n",
      "features.shape(62, 718)\n",
      "vad.shape(718,)\n"
     ]
    },
    {
     "name": "stderr",
     "output_type": "stream",
     "text": [
      " 10%|█         | 656/6394 [00:48<06:26, 14.85it/s]"
     ]
    },
    {
     "name": "stdout",
     "output_type": "stream",
     "text": [
      "features.shape(62, 594)\n",
      "vad.shape(594,)\n",
      "features.shape(62, 752)\n",
      "vad.shape(752,)\n",
      "features.shape(62, 722)\n",
      "vad.shape(722,)\n"
     ]
    },
    {
     "name": "stderr",
     "output_type": "stream",
     "text": [
      " 10%|█         | 660/6394 [00:48<06:09, 15.51it/s]"
     ]
    },
    {
     "name": "stdout",
     "output_type": "stream",
     "text": [
      "features.shape(62, 436)\n",
      "vad.shape(436,)\n",
      "features.shape(62, 359)\n",
      "vad.shape(359,)\n",
      "features.shape(62, 419)\n",
      "vad.shape(419,)\n",
      "features.shape(62, 449)\n",
      "vad.shape(449,)\n"
     ]
    },
    {
     "name": "stderr",
     "output_type": "stream",
     "text": [
      " 10%|█         | 665/6394 [00:48<05:23, 17.72it/s]"
     ]
    },
    {
     "name": "stdout",
     "output_type": "stream",
     "text": [
      "features.shape(62, 436)\n",
      "vad.shape(436,)\n",
      "features.shape(62, 922)\n",
      "vad.shape(922,)\n",
      "features.shape(62, 368)\n",
      "vad.shape(368,)\n",
      "features.shape(62, 624)\n",
      "vad.shape(624,)\n"
     ]
    },
    {
     "name": "stderr",
     "output_type": "stream",
     "text": [
      " 10%|█         | 667/6394 [00:48<05:58, 15.97it/s]"
     ]
    },
    {
     "name": "stdout",
     "output_type": "stream",
     "text": [
      "features.shape(62, 530)\n",
      "vad.shape(530,)\n",
      "features.shape(62, 440)\n",
      "vad.shape(440,)\n",
      "features.shape(62, 842)\n",
      "vad.shape(842,)\n"
     ]
    },
    {
     "name": "stderr",
     "output_type": "stream",
     "text": [
      " 10%|█         | 671/6394 [00:49<06:45, 14.11it/s]"
     ]
    },
    {
     "name": "stdout",
     "output_type": "stream",
     "text": [
      "features.shape(62, 504)\n",
      "vad.shape(504,)\n",
      "features.shape(62, 188)\n",
      "vad.shape(188,)\n",
      "features.shape(62, 478)\n",
      "vad.shape(478,)\n"
     ]
    },
    {
     "name": "stderr",
     "output_type": "stream",
     "text": [
      " 11%|█         | 673/6394 [00:49<06:52, 13.86it/s]"
     ]
    },
    {
     "name": "stdout",
     "output_type": "stream",
     "text": [
      "features.shape(62, 581)\n",
      "vad.shape(581,)\n",
      "features.shape(62, 513)\n",
      "vad.shape(513,)\n",
      "features.shape(62, 739)\n",
      "vad.shape(739,)\n",
      "features.shape(62, 747)\n",
      "vad.shape(747,)\n"
     ]
    },
    {
     "name": "stderr",
     "output_type": "stream",
     "text": [
      " 11%|█         | 678/6394 [00:49<06:36, 14.41it/s]"
     ]
    },
    {
     "name": "stdout",
     "output_type": "stream",
     "text": [
      "features.shape(62, 577)\n",
      "vad.shape(577,)\n",
      "features.shape(62, 347)\n",
      "vad.shape(347,)\n",
      "features.shape(62, 406)\n",
      "vad.shape(406,)\n",
      "features.shape(62, 355)\n",
      "vad.shape(355,)\n",
      "features.shape(62, 500)\n",
      "vad.shape(500,)\n"
     ]
    },
    {
     "name": "stderr",
     "output_type": "stream",
     "text": [
      " 11%|█         | 684/6394 [00:49<04:49, 19.70it/s]"
     ]
    },
    {
     "name": "stdout",
     "output_type": "stream",
     "text": [
      "features.shape(62, 530)\n",
      "vad.shape(530,)\n",
      "features.shape(62, 692)\n",
      "vad.shape(692,)\n",
      "features.shape(62, 398)\n",
      "vad.shape(398,)\n",
      "features.shape(62, 304)\n",
      "vad.shape(304,)\n",
      "features.shape(62, 526)\n",
      "vad.shape(526,)\n"
     ]
    },
    {
     "name": "stderr",
     "output_type": "stream",
     "text": [
      " 11%|█         | 689/6394 [00:50<05:35, 17.00it/s]"
     ]
    },
    {
     "name": "stdout",
     "output_type": "stream",
     "text": [
      "features.shape(62, 602)\n",
      "vad.shape(602,)\n",
      "features.shape(62, 321)\n",
      "vad.shape(321,)\n",
      "features.shape(62, 747)\n",
      "vad.shape(747,)\n",
      "features.shape(62, 526)\n",
      "vad.shape(526,)\n"
     ]
    },
    {
     "name": "stderr",
     "output_type": "stream",
     "text": [
      " 11%|█         | 692/6394 [00:50<05:10, 18.38it/s]"
     ]
    },
    {
     "name": "stdout",
     "output_type": "stream",
     "text": [
      "features.shape(62, 773)\n",
      "vad.shape(773,)\n",
      "features.shape(62, 500)\n",
      "vad.shape(500,)\n",
      "features.shape(62, 274)\n",
      "vad.shape(274,)\n",
      "features.shape(62, 432)\n",
      "vad.shape(432,)\n"
     ]
    },
    {
     "name": "stderr",
     "output_type": "stream",
     "text": [
      " 11%|█         | 698/6394 [00:50<04:24, 21.56it/s]"
     ]
    },
    {
     "name": "stdout",
     "output_type": "stream",
     "text": [
      "features.shape(62, 735)\n",
      "vad.shape(735,)\n",
      "features.shape(62, 666)\n",
      "vad.shape(666,)\n",
      "features.shape(62, 500)\n",
      "vad.shape(500,)\n",
      "features.shape(62, 496)\n",
      "vad.shape(496,)\n",
      "features.shape(62, 781)\n",
      "vad.shape(781,)\n",
      "features.shape(62, 650)\n",
      "vad.shape(650,)\n"
     ]
    },
    {
     "name": "stderr",
     "output_type": "stream",
     "text": [
      " 11%|█         | 704/6394 [00:50<04:20, 21.87it/s]"
     ]
    },
    {
     "name": "stdout",
     "output_type": "stream",
     "text": [
      "features.shape(62, 385)\n",
      "vad.shape(385,)\n",
      "features.shape(62, 615)\n",
      "vad.shape(615,)\n",
      "features.shape(62, 688)\n",
      "vad.shape(688,)\n",
      "features.shape(62, 231)\n",
      "vad.shape(231,)\n",
      "features.shape(62, 496)\n",
      "vad.shape(496,)\n"
     ]
    },
    {
     "name": "stderr",
     "output_type": "stream",
     "text": [
      " 11%|█         | 710/6394 [00:51<03:59, 23.77it/s]"
     ]
    },
    {
     "name": "stdout",
     "output_type": "stream",
     "text": [
      "features.shape(62, 470)\n",
      "vad.shape(470,)\n",
      "features.shape(62, 359)\n",
      "vad.shape(359,)\n",
      "features.shape(62, 509)\n",
      "vad.shape(509,)\n",
      "features.shape(62, 671)\n",
      "vad.shape(671,)\n",
      "features.shape(62, 875)\n",
      "vad.shape(875,)\n",
      "features.shape(62, 351)\n",
      "vad.shape(351,)\n"
     ]
    },
    {
     "name": "stderr",
     "output_type": "stream",
     "text": [
      " 11%|█         | 713/6394 [00:51<04:10, 22.69it/s]"
     ]
    },
    {
     "name": "stdout",
     "output_type": "stream",
     "text": [
      "features.shape(62, 453)\n",
      "vad.shape(453,)\n",
      "features.shape(62, 504)\n",
      "vad.shape(504,)\n",
      "features.shape(62, 470)\n",
      "vad.shape(470,)\n",
      "features.shape(62, 171)\n",
      "vad.shape(171,)\n",
      "features.shape(62, 530)\n",
      "vad.shape(530,)\n"
     ]
    },
    {
     "name": "stderr",
     "output_type": "stream",
     "text": [
      " 11%|█         | 719/6394 [00:51<04:27, 21.20it/s]"
     ]
    },
    {
     "name": "stdout",
     "output_type": "stream",
     "text": [
      "features.shape(62, 423)\n",
      "vad.shape(423,)\n",
      "features.shape(62, 321)\n",
      "vad.shape(321,)\n",
      "features.shape(62, 410)\n",
      "vad.shape(410,)\n",
      "features.shape(62, 667)\n",
      "vad.shape(667,)\n"
     ]
    },
    {
     "name": "stderr",
     "output_type": "stream",
     "text": [
      " 11%|█▏        | 722/6394 [00:51<05:04, 18.62it/s]"
     ]
    },
    {
     "name": "stdout",
     "output_type": "stream",
     "text": [
      "features.shape(62, 479)\n",
      "vad.shape(479,)\n",
      "features.shape(62, 559)\n",
      "vad.shape(559,)\n",
      "features.shape(62, 423)\n",
      "vad.shape(423,)\n",
      "features.shape(62, 436)\n",
      "vad.shape(436,)\n"
     ]
    },
    {
     "name": "stderr",
     "output_type": "stream",
     "text": [
      " 11%|█▏        | 727/6394 [00:51<04:45, 19.82it/s]"
     ]
    },
    {
     "name": "stdout",
     "output_type": "stream",
     "text": [
      "features.shape(62, 867)\n",
      "vad.shape(867,)\n",
      "features.shape(62, 432)\n",
      "vad.shape(432,)\n",
      "features.shape(62, 688)\n",
      "vad.shape(688,)\n",
      "features.shape(62, 282)\n",
      "vad.shape(282,)\n",
      "features.shape(62, 790)\n",
      "vad.shape(790,)\n"
     ]
    },
    {
     "name": "stderr",
     "output_type": "stream",
     "text": [
      " 11%|█▏        | 730/6394 [00:52<04:22, 21.58it/s]"
     ]
    },
    {
     "name": "stdout",
     "output_type": "stream",
     "text": [
      "features.shape(62, 483)\n",
      "vad.shape(483,)\n",
      "features.shape(62, 684)\n",
      "vad.shape(684,)\n",
      "features.shape(62, 325)\n",
      "vad.shape(325,)\n",
      "features.shape(62, 466)\n",
      "vad.shape(466,)\n"
     ]
    },
    {
     "name": "stderr",
     "output_type": "stream",
     "text": [
      " 11%|█▏        | 733/6394 [00:52<04:54, 19.24it/s]"
     ]
    },
    {
     "name": "stdout",
     "output_type": "stream",
     "text": [
      "features.shape(62, 777)\n",
      "vad.shape(777,)\n",
      "features.shape(62, 585)\n",
      "vad.shape(585,)\n",
      "features.shape(62, 560)\n",
      "vad.shape(560,)\n"
     ]
    },
    {
     "name": "stderr",
     "output_type": "stream",
     "text": [
      " 12%|█▏        | 738/6394 [00:52<05:58, 15.76it/s]"
     ]
    },
    {
     "name": "stdout",
     "output_type": "stream",
     "text": [
      "features.shape(62, 389)\n",
      "vad.shape(389,)\n",
      "features.shape(62, 449)\n",
      "vad.shape(449,)\n",
      "features.shape(62, 620)\n",
      "vad.shape(620,)\n"
     ]
    },
    {
     "name": "stderr",
     "output_type": "stream",
     "text": [
      " 12%|█▏        | 740/6394 [00:52<06:12, 15.20it/s]"
     ]
    },
    {
     "name": "stdout",
     "output_type": "stream",
     "text": [
      "features.shape(62, 538)\n",
      "vad.shape(538,)\n",
      "features.shape(62, 620)\n",
      "vad.shape(620,)\n",
      "features.shape(62, 474)\n",
      "vad.shape(474,)\n"
     ]
    },
    {
     "name": "stderr",
     "output_type": "stream",
     "text": [
      " 12%|█▏        | 744/6394 [00:53<06:59, 13.46it/s]"
     ]
    },
    {
     "name": "stdout",
     "output_type": "stream",
     "text": [
      "features.shape(62, 718)\n",
      "vad.shape(718,)\n",
      "features.shape(62, 619)\n",
      "vad.shape(619,)\n",
      "features.shape(62, 423)\n",
      "vad.shape(423,)\n"
     ]
    },
    {
     "name": "stderr",
     "output_type": "stream",
     "text": [
      " 12%|█▏        | 746/6394 [00:53<06:52, 13.68it/s]"
     ]
    },
    {
     "name": "stdout",
     "output_type": "stream",
     "text": [
      "features.shape(62, 406)\n",
      "vad.shape(406,)\n",
      "features.shape(62, 769)\n",
      "vad.shape(769,)\n",
      "features.shape(62, 398)\n",
      "vad.shape(398,)\n"
     ]
    },
    {
     "name": "stderr",
     "output_type": "stream",
     "text": [
      " 12%|█▏        | 750/6394 [00:53<07:08, 13.16it/s]"
     ]
    },
    {
     "name": "stdout",
     "output_type": "stream",
     "text": [
      "features.shape(62, 534)\n",
      "vad.shape(534,)\n",
      "features.shape(62, 411)\n",
      "vad.shape(411,)\n",
      "features.shape(62, 675)\n",
      "vad.shape(675,)\n"
     ]
    },
    {
     "name": "stderr",
     "output_type": "stream",
     "text": [
      " 12%|█▏        | 752/6394 [00:53<07:13, 13.01it/s]"
     ]
    },
    {
     "name": "stdout",
     "output_type": "stream",
     "text": [
      "features.shape(62, 637)\n",
      "vad.shape(637,)\n",
      "features.shape(62, 735)\n",
      "vad.shape(735,)\n",
      "features.shape(62, 709)\n",
      "vad.shape(709,)\n"
     ]
    },
    {
     "name": "stderr",
     "output_type": "stream",
     "text": [
      " 12%|█▏        | 757/6394 [00:54<06:15, 15.01it/s]"
     ]
    },
    {
     "name": "stdout",
     "output_type": "stream",
     "text": [
      "features.shape(62, 1076)\n",
      "vad.shape(1076,)\n",
      "features.shape(62, 534)\n",
      "vad.shape(534,)\n",
      "features.shape(62, 615)\n",
      "vad.shape(615,)\n",
      "features.shape(62, 841)\n",
      "vad.shape(841,)\n"
     ]
    },
    {
     "name": "stderr",
     "output_type": "stream",
     "text": [
      " 12%|█▏        | 759/6394 [00:54<06:49, 13.75it/s]"
     ]
    },
    {
     "name": "stdout",
     "output_type": "stream",
     "text": [
      "features.shape(62, 240)\n",
      "vad.shape(240,)\n",
      "features.shape(62, 995)\n",
      "vad.shape(995,)\n",
      "features.shape(62, 658)\n",
      "vad.shape(658,)\n"
     ]
    },
    {
     "name": "stderr",
     "output_type": "stream",
     "text": [
      " 12%|█▏        | 761/6394 [00:54<07:13, 13.00it/s]"
     ]
    },
    {
     "name": "stdout",
     "output_type": "stream",
     "text": [
      "features.shape(62, 611)\n",
      "vad.shape(611,)\n",
      "features.shape(62, 368)\n",
      "vad.shape(368,)\n"
     ]
    },
    {
     "name": "stderr",
     "output_type": "stream",
     "text": [
      " 12%|█▏        | 767/6394 [00:54<05:37, 16.68it/s]"
     ]
    },
    {
     "name": "stdout",
     "output_type": "stream",
     "text": [
      "features.shape(62, 654)\n",
      "vad.shape(654,)\n",
      "features.shape(62, 500)\n",
      "vad.shape(500,)\n",
      "features.shape(62, 679)\n",
      "vad.shape(679,)\n",
      "features.shape(62, 756)\n",
      "vad.shape(756,)\n",
      "features.shape(62, 291)\n",
      "vad.shape(291,)\n",
      "features.shape(62, 585)\n",
      "vad.shape(585,)\n"
     ]
    },
    {
     "name": "stderr",
     "output_type": "stream",
     "text": [
      " 12%|█▏        | 772/6394 [00:54<04:43, 19.81it/s]"
     ]
    },
    {
     "name": "stdout",
     "output_type": "stream",
     "text": [
      "features.shape(62, 227)\n",
      "vad.shape(227,)\n",
      "features.shape(62, 636)\n",
      "vad.shape(636,)\n",
      "features.shape(62, 658)\n",
      "vad.shape(658,)\n",
      "features.shape(62, 479)\n",
      "vad.shape(479,)\n",
      "features.shape(62, 564)\n",
      "vad.shape(564,)\n"
     ]
    },
    {
     "name": "stderr",
     "output_type": "stream",
     "text": [
      " 12%|█▏        | 775/6394 [00:55<05:18, 17.67it/s]"
     ]
    },
    {
     "name": "stdout",
     "output_type": "stream",
     "text": [
      "features.shape(62, 517)\n",
      "vad.shape(517,)\n",
      "features.shape(62, 274)\n",
      "vad.shape(274,)\n",
      "features.shape(62, 675)\n",
      "vad.shape(675,)\n"
     ]
    },
    {
     "name": "stderr",
     "output_type": "stream",
     "text": [
      " 12%|█▏        | 781/6394 [00:55<04:59, 18.74it/s]"
     ]
    },
    {
     "name": "stdout",
     "output_type": "stream",
     "text": [
      "features.shape(62, 470)\n",
      "vad.shape(470,)\n",
      "features.shape(62, 645)\n",
      "vad.shape(645,)\n",
      "features.shape(62, 513)\n",
      "vad.shape(513,)\n",
      "features.shape(62, 466)\n",
      "vad.shape(466,)\n",
      "features.shape(62, 176)\n",
      "vad.shape(176,)\n"
     ]
    },
    {
     "name": "stderr",
     "output_type": "stream",
     "text": [
      " 12%|█▏        | 783/6394 [00:55<05:35, 16.73it/s]"
     ]
    },
    {
     "name": "stdout",
     "output_type": "stream",
     "text": [
      "features.shape(62, 683)\n",
      "vad.shape(683,)\n",
      "features.shape(62, 487)\n",
      "vad.shape(487,)\n",
      "features.shape(62, 747)\n",
      "vad.shape(747,)\n"
     ]
    },
    {
     "name": "stderr",
     "output_type": "stream",
     "text": [
      " 12%|█▏        | 787/6394 [00:55<06:34, 14.21it/s]"
     ]
    },
    {
     "name": "stdout",
     "output_type": "stream",
     "text": [
      "features.shape(62, 654)\n",
      "vad.shape(654,)\n",
      "features.shape(62, 440)\n",
      "vad.shape(440,)\n",
      "features.shape(62, 338)\n",
      "vad.shape(338,)\n"
     ]
    },
    {
     "name": "stderr",
     "output_type": "stream",
     "text": [
      " 12%|█▏        | 790/6394 [00:56<05:35, 16.70it/s]"
     ]
    },
    {
     "name": "stdout",
     "output_type": "stream",
     "text": [
      "features.shape(62, 338)\n",
      "vad.shape(338,)\n",
      "features.shape(62, 538)\n",
      "vad.shape(538,)\n",
      "features.shape(62, 308)\n",
      "vad.shape(308,)\n",
      "features.shape(62, 274)\n",
      "vad.shape(274,)\n"
     ]
    },
    {
     "name": "stderr",
     "output_type": "stream",
     "text": [
      " 12%|█▏        | 795/6394 [00:56<05:54, 15.80it/s]"
     ]
    },
    {
     "name": "stdout",
     "output_type": "stream",
     "text": [
      "features.shape(62, 218)\n",
      "vad.shape(218,)\n",
      "features.shape(62, 419)\n",
      "vad.shape(419,)\n",
      "features.shape(62, 483)\n",
      "vad.shape(483,)\n",
      "features.shape(62, 303)\n",
      "vad.shape(303,)\n"
     ]
    },
    {
     "name": "stderr",
     "output_type": "stream",
     "text": [
      " 12%|█▏        | 797/6394 [00:56<06:03, 15.42it/s]"
     ]
    },
    {
     "name": "stdout",
     "output_type": "stream",
     "text": [
      "features.shape(62, 359)\n",
      "vad.shape(359,)\n",
      "features.shape(62, 508)\n",
      "vad.shape(508,)\n",
      "features.shape(62, 231)\n",
      "vad.shape(231,)\n"
     ]
    },
    {
     "name": "stderr",
     "output_type": "stream",
     "text": [
      " 13%|█▎        | 801/6394 [00:57<07:36, 12.24it/s]"
     ]
    },
    {
     "name": "stdout",
     "output_type": "stream",
     "text": [
      "features.shape(62, 355)\n",
      "vad.shape(355,)\n",
      "features.shape(62, 380)\n",
      "vad.shape(380,)\n",
      "features.shape(62, 427)\n",
      "vad.shape(427,)\n"
     ]
    },
    {
     "name": "stderr",
     "output_type": "stream",
     "text": [
      " 13%|█▎        | 804/6394 [00:57<06:10, 15.09it/s]"
     ]
    },
    {
     "name": "stdout",
     "output_type": "stream",
     "text": [
      "features.shape(62, 295)\n",
      "vad.shape(295,)\n",
      "features.shape(62, 235)\n",
      "vad.shape(235,)\n",
      "features.shape(62, 483)\n",
      "vad.shape(483,)\n",
      "features.shape(62, 496)\n",
      "vad.shape(496,)\n"
     ]
    },
    {
     "name": "stderr",
     "output_type": "stream",
     "text": [
      " 13%|█▎        | 809/6394 [00:57<05:58, 15.57it/s]"
     ]
    },
    {
     "name": "stdout",
     "output_type": "stream",
     "text": [
      "features.shape(62, 252)\n",
      "vad.shape(252,)\n",
      "features.shape(62, 300)\n",
      "vad.shape(300,)\n",
      "features.shape(62, 359)\n",
      "vad.shape(359,)\n",
      "features.shape(62, 334)\n",
      "vad.shape(334,)\n",
      "features.shape(62, 364)\n",
      "vad.shape(364,)\n"
     ]
    },
    {
     "name": "stderr",
     "output_type": "stream",
     "text": [
      " 13%|█▎        | 813/6394 [00:57<06:19, 14.70it/s]"
     ]
    },
    {
     "name": "stdout",
     "output_type": "stream",
     "text": [
      "features.shape(62, 355)\n",
      "vad.shape(355,)\n",
      "features.shape(62, 410)\n",
      "vad.shape(410,)\n",
      "features.shape(62, 317)\n",
      "vad.shape(317,)\n",
      "features.shape(62, 227)\n",
      "vad.shape(227,)\n"
     ]
    },
    {
     "name": "stderr",
     "output_type": "stream",
     "text": [
      " 13%|█▎        | 817/6394 [00:58<06:23, 14.56it/s]"
     ]
    },
    {
     "name": "stdout",
     "output_type": "stream",
     "text": [
      "features.shape(62, 509)\n",
      "vad.shape(509,)\n",
      "features.shape(62, 295)\n",
      "vad.shape(295,)\n",
      "features.shape(62, 551)\n",
      "vad.shape(551,)\n"
     ]
    },
    {
     "name": "stderr",
     "output_type": "stream",
     "text": [
      " 13%|█▎        | 819/6394 [00:58<07:05, 13.11it/s]"
     ]
    },
    {
     "name": "stdout",
     "output_type": "stream",
     "text": [
      "features.shape(62, 359)\n",
      "vad.shape(359,)\n",
      "features.shape(62, 355)\n",
      "vad.shape(355,)\n",
      "features.shape(62, 393)\n",
      "vad.shape(393,)\n",
      "features.shape(62, 274)\n",
      "vad.shape(274,)\n"
     ]
    },
    {
     "name": "stderr",
     "output_type": "stream",
     "text": [
      " 13%|█▎        | 822/6394 [00:58<05:49, 15.95it/s]"
     ]
    },
    {
     "name": "stdout",
     "output_type": "stream",
     "text": [
      "features.shape(62, 478)\n",
      "vad.shape(478,)\n",
      "features.shape(62, 389)\n",
      "vad.shape(389,)\n",
      "features.shape(62, 312)\n",
      "vad.shape(312,)\n",
      "features.shape(62, 252)\n",
      "vad.shape(252,)\n"
     ]
    },
    {
     "name": "stderr",
     "output_type": "stream",
     "text": [
      " 13%|█▎        | 827/6394 [00:58<06:29, 14.30it/s]"
     ]
    },
    {
     "name": "stdout",
     "output_type": "stream",
     "text": [
      "features.shape(62, 316)\n",
      "vad.shape(316,)\n",
      "features.shape(62, 270)\n",
      "vad.shape(270,)\n",
      "features.shape(62, 261)\n",
      "vad.shape(261,)\n"
     ]
    },
    {
     "name": "stderr",
     "output_type": "stream",
     "text": [
      " 13%|█▎        | 832/6394 [00:59<06:26, 14.39it/s]"
     ]
    },
    {
     "name": "stdout",
     "output_type": "stream",
     "text": [
      "features.shape(62, 287)\n",
      "vad.shape(287,)\n",
      "features.shape(62, 347)\n",
      "vad.shape(347,)\n",
      "features.shape(62, 330)\n",
      "vad.shape(330,)\n",
      "features.shape(62, 206)\n",
      "vad.shape(206,)\n",
      "features.shape(62, 368)\n",
      "vad.shape(368,)\n"
     ]
    },
    {
     "name": "stderr",
     "output_type": "stream",
     "text": [
      " 13%|█▎        | 837/6394 [00:59<05:18, 17.44it/s]"
     ]
    },
    {
     "name": "stdout",
     "output_type": "stream",
     "text": [
      "features.shape(62, 188)\n",
      "vad.shape(188,)\n",
      "features.shape(62, 487)\n",
      "vad.shape(487,)\n",
      "features.shape(62, 295)\n",
      "vad.shape(295,)\n",
      "features.shape(62, 291)\n",
      "vad.shape(291,)\n",
      "features.shape(62, 359)\n",
      "vad.shape(359,)\n"
     ]
    },
    {
     "name": "stderr",
     "output_type": "stream",
     "text": [
      " 13%|█▎        | 840/6394 [00:59<04:49, 19.21it/s]"
     ]
    },
    {
     "name": "stdout",
     "output_type": "stream",
     "text": [
      "features.shape(62, 318)\n",
      "vad.shape(318,)\n",
      "features.shape(62, 398)\n",
      "vad.shape(398,)\n",
      "features.shape(62, 193)\n",
      "vad.shape(193,)\n"
     ]
    },
    {
     "name": "stderr",
     "output_type": "stream",
     "text": [
      " 13%|█▎        | 846/6394 [00:59<05:09, 17.91it/s]"
     ]
    },
    {
     "name": "stdout",
     "output_type": "stream",
     "text": [
      "features.shape(62, 355)\n",
      "vad.shape(355,)\n",
      "features.shape(62, 444)\n",
      "vad.shape(444,)\n",
      "features.shape(62, 380)\n",
      "vad.shape(380,)\n",
      "features.shape(62, 470)\n",
      "vad.shape(470,)\n",
      "features.shape(62, 364)\n",
      "vad.shape(364,)\n"
     ]
    },
    {
     "name": "stderr",
     "output_type": "stream",
     "text": [
      " 13%|█▎        | 848/6394 [01:00<05:51, 15.79it/s]"
     ]
    },
    {
     "name": "stdout",
     "output_type": "stream",
     "text": [
      "features.shape(62, 287)\n",
      "vad.shape(287,)\n",
      "features.shape(62, 329)\n",
      "vad.shape(329,)\n",
      "features.shape(62, 363)\n",
      "vad.shape(363,)\n",
      "features.shape(62, 342)\n",
      "vad.shape(342,)\n"
     ]
    },
    {
     "name": "stderr",
     "output_type": "stream",
     "text": [
      " 13%|█▎        | 853/6394 [01:00<06:05, 15.16it/s]"
     ]
    },
    {
     "name": "stdout",
     "output_type": "stream",
     "text": [
      "features.shape(62, 406)\n",
      "vad.shape(406,)\n",
      "features.shape(62, 508)\n",
      "vad.shape(508,)\n",
      "features.shape(62, 253)\n",
      "vad.shape(253,)\n"
     ]
    },
    {
     "name": "stderr",
     "output_type": "stream",
     "text": [
      " 13%|█▎        | 855/6394 [01:00<06:07, 15.09it/s]"
     ]
    },
    {
     "name": "stdout",
     "output_type": "stream",
     "text": [
      "features.shape(62, 325)\n",
      "vad.shape(325,)\n",
      "features.shape(62, 329)\n",
      "vad.shape(329,)\n",
      "features.shape(62, 414)\n",
      "vad.shape(414,)\n"
     ]
    },
    {
     "name": "stderr",
     "output_type": "stream",
     "text": [
      " 13%|█▎        | 859/6394 [01:00<06:52, 13.43it/s]"
     ]
    },
    {
     "name": "stdout",
     "output_type": "stream",
     "text": [
      "features.shape(62, 363)\n",
      "vad.shape(363,)\n",
      "features.shape(62, 432)\n",
      "vad.shape(432,)\n",
      "features.shape(62, 308)\n",
      "vad.shape(308,)\n"
     ]
    },
    {
     "name": "stderr",
     "output_type": "stream",
     "text": [
      " 13%|█▎        | 861/6394 [01:00<06:53, 13.39it/s]"
     ]
    },
    {
     "name": "stdout",
     "output_type": "stream",
     "text": [
      "features.shape(62, 504)\n",
      "vad.shape(504,)\n",
      "features.shape(62, 398)\n",
      "vad.shape(398,)\n",
      "features.shape(62, 513)\n",
      "vad.shape(513,)\n"
     ]
    },
    {
     "name": "stderr",
     "output_type": "stream",
     "text": [
      " 14%|█▎        | 866/6394 [01:01<05:42, 16.13it/s]"
     ]
    },
    {
     "name": "stdout",
     "output_type": "stream",
     "text": [
      "features.shape(62, 530)\n",
      "vad.shape(530,)\n",
      "features.shape(62, 214)\n",
      "vad.shape(214,)\n",
      "features.shape(62, 431)\n",
      "vad.shape(431,)\n",
      "features.shape(62, 461)\n",
      "vad.shape(461,)\n",
      "features.shape(62, 440)\n",
      "vad.shape(440,)\n",
      "features.shape(62, 300)\n",
      "vad.shape(300,)\n"
     ]
    },
    {
     "name": "stderr",
     "output_type": "stream",
     "text": [
      " 14%|█▎        | 872/6394 [01:01<04:55, 18.71it/s]"
     ]
    },
    {
     "name": "stdout",
     "output_type": "stream",
     "text": [
      "features.shape(62, 278)\n",
      "vad.shape(278,)\n",
      "features.shape(62, 449)\n",
      "vad.shape(449,)\n",
      "features.shape(62, 270)\n",
      "vad.shape(270,)\n",
      "features.shape(62, 538)\n",
      "vad.shape(538,)\n",
      "features.shape(62, 317)\n",
      "vad.shape(317,)\n"
     ]
    },
    {
     "name": "stderr",
     "output_type": "stream",
     "text": [
      " 14%|█▎        | 875/6394 [01:01<05:16, 17.46it/s]"
     ]
    },
    {
     "name": "stdout",
     "output_type": "stream",
     "text": [
      "features.shape(62, 308)\n",
      "vad.shape(308,)\n",
      "features.shape(62, 261)\n",
      "vad.shape(261,)\n",
      "features.shape(62, 398)\n",
      "vad.shape(398,)\n"
     ]
    },
    {
     "name": "stderr",
     "output_type": "stream",
     "text": [
      " 14%|█▍        | 880/6394 [01:02<05:25, 16.94it/s]"
     ]
    },
    {
     "name": "stdout",
     "output_type": "stream",
     "text": [
      "features.shape(62, 452)\n",
      "vad.shape(452,)\n",
      "features.shape(62, 261)\n",
      "vad.shape(261,)\n",
      "features.shape(62, 295)\n",
      "vad.shape(295,)\n",
      "features.shape(62, 402)\n",
      "vad.shape(402,)\n",
      "features.shape(62, 410)\n",
      "vad.shape(410,)\n"
     ]
    },
    {
     "name": "stderr",
     "output_type": "stream",
     "text": [
      " 14%|█▍        | 885/6394 [01:02<05:15, 17.48it/s]"
     ]
    },
    {
     "name": "stdout",
     "output_type": "stream",
     "text": [
      "features.shape(62, 513)\n",
      "vad.shape(513,)\n",
      "features.shape(62, 278)\n",
      "vad.shape(278,)\n",
      "features.shape(62, 364)\n",
      "vad.shape(364,)\n",
      "features.shape(62, 602)\n",
      "vad.shape(602,)\n"
     ]
    },
    {
     "name": "stderr",
     "output_type": "stream",
     "text": [
      " 14%|█▍        | 888/6394 [01:02<04:33, 20.13it/s]"
     ]
    },
    {
     "name": "stdout",
     "output_type": "stream",
     "text": [
      "features.shape(62, 334)\n",
      "vad.shape(334,)\n",
      "features.shape(62, 901)\n",
      "vad.shape(901,)\n",
      "features.shape(62, 385)\n",
      "vad.shape(385,)\n",
      "features.shape(62, 222)\n"
     ]
    },
    {
     "name": "stderr",
     "output_type": "stream",
     "text": [
      " 14%|█▍        | 891/6394 [01:02<05:32, 16.53it/s]"
     ]
    },
    {
     "name": "stdout",
     "output_type": "stream",
     "text": [
      "vad.shape(222,)\n",
      "features.shape(62, 632)\n",
      "vad.shape(632,)\n",
      "features.shape(62, 380)\n",
      "vad.shape(380,)\n",
      "features.shape(62, 334)\n",
      "vad.shape(334,)\n",
      "features.shape(62, 346)\n",
      "vad.shape(346,)\n"
     ]
    },
    {
     "name": "stderr",
     "output_type": "stream",
     "text": [
      " 14%|█▍        | 897/6394 [01:02<04:54, 18.64it/s]"
     ]
    },
    {
     "name": "stdout",
     "output_type": "stream",
     "text": [
      "features.shape(62, 338)\n",
      "vad.shape(338,)\n",
      "features.shape(62, 402)\n",
      "vad.shape(402,)\n",
      "features.shape(62, 270)\n",
      "vad.shape(270,)\n",
      "features.shape(62, 330)\n",
      "vad.shape(330,)\n",
      "features.shape(62, 432)\n",
      "vad.shape(432,)\n"
     ]
    },
    {
     "name": "stderr",
     "output_type": "stream",
     "text": [
      " 14%|█▍        | 901/6394 [01:03<05:45, 15.88it/s]"
     ]
    },
    {
     "name": "stdout",
     "output_type": "stream",
     "text": [
      "features.shape(62, 321)\n",
      "vad.shape(321,)\n",
      "features.shape(62, 325)\n",
      "vad.shape(325,)\n",
      "features.shape(62, 436)\n",
      "vad.shape(436,)\n"
     ]
    },
    {
     "name": "stderr",
     "output_type": "stream",
     "text": [
      " 14%|█▍        | 906/6394 [01:03<05:07, 17.82it/s]"
     ]
    },
    {
     "name": "stdout",
     "output_type": "stream",
     "text": [
      "features.shape(62, 449)\n",
      "vad.shape(449,)\n",
      "features.shape(62, 282)\n",
      "vad.shape(282,)\n",
      "features.shape(62, 325)\n",
      "vad.shape(325,)\n",
      "features.shape(62, 423)\n",
      "vad.shape(423,)\n",
      "features.shape(62, 351)\n",
      "vad.shape(351,)\n",
      "features.shape(62, 274)\n"
     ]
    },
    {
     "name": "stderr",
     "output_type": "stream",
     "text": [
      " 14%|█▍        | 908/6394 [01:03<05:30, 16.59it/s]"
     ]
    },
    {
     "name": "stdout",
     "output_type": "stream",
     "text": [
      "vad.shape(274,)\n",
      "features.shape(62, 317)\n",
      "vad.shape(317,)\n",
      "features.shape(62, 333)\n",
      "vad.shape(333,)\n"
     ]
    },
    {
     "name": "stderr",
     "output_type": "stream",
     "text": [
      " 14%|█▍        | 912/6394 [01:03<05:48, 15.74it/s]"
     ]
    },
    {
     "name": "stdout",
     "output_type": "stream",
     "text": [
      "features.shape(62, 500)\n",
      "vad.shape(500,)\n",
      "features.shape(62, 274)\n",
      "vad.shape(274,)\n",
      "features.shape(62, 222)\n",
      "vad.shape(222,)\n",
      "features.shape(62, 410)\n",
      "vad.shape(410,)\n"
     ]
    },
    {
     "name": "stderr",
     "output_type": "stream",
     "text": [
      " 14%|█▍        | 916/6394 [01:04<06:06, 14.95it/s]"
     ]
    },
    {
     "name": "stdout",
     "output_type": "stream",
     "text": [
      "features.shape(62, 368)\n",
      "vad.shape(368,)\n",
      "features.shape(62, 607)\n",
      "vad.shape(607,)\n",
      "features.shape(62, 349)\n",
      "vad.shape(349,)\n"
     ]
    },
    {
     "name": "stderr",
     "output_type": "stream",
     "text": [
      " 14%|█▍        | 921/6394 [01:04<04:56, 18.45it/s]"
     ]
    },
    {
     "name": "stdout",
     "output_type": "stream",
     "text": [
      "features.shape(62, 427)\n",
      "vad.shape(427,)\n",
      "features.shape(62, 483)\n",
      "vad.shape(483,)\n",
      "features.shape(62, 402)\n",
      "vad.shape(402,)\n",
      "features.shape(62, 300)\n",
      "vad.shape(300,)\n",
      "features.shape(62, 385)\n",
      "vad.shape(385,)\n",
      "features.shape(62, 457)\n",
      "vad.shape(457,)\n"
     ]
    },
    {
     "name": "stderr",
     "output_type": "stream",
     "text": [
      " 14%|█▍        | 927/6394 [01:04<04:16, 21.35it/s]"
     ]
    },
    {
     "name": "stdout",
     "output_type": "stream",
     "text": [
      "features.shape(62, 504)\n",
      "vad.shape(504,)\n",
      "features.shape(62, 547)\n",
      "vad.shape(547,)\n",
      "features.shape(62, 282)\n",
      "vad.shape(282,)\n",
      "features.shape(62, 402)\n",
      "vad.shape(402,)\n",
      "features.shape(62, 355)\n",
      "vad.shape(355,)\n"
     ]
    },
    {
     "name": "stderr",
     "output_type": "stream",
     "text": [
      " 15%|█▍        | 930/6394 [01:04<05:16, 17.26it/s]"
     ]
    },
    {
     "name": "stdout",
     "output_type": "stream",
     "text": [
      "features.shape(62, 338)\n",
      "vad.shape(338,)\n",
      "features.shape(62, 329)\n",
      "vad.shape(329,)\n",
      "features.shape(62, 240)\n",
      "vad.shape(240,)\n"
     ]
    },
    {
     "name": "stderr",
     "output_type": "stream",
     "text": [
      " 15%|█▍        | 932/6394 [01:05<05:51, 15.56it/s]"
     ]
    },
    {
     "name": "stdout",
     "output_type": "stream",
     "text": [
      "features.shape(62, 385)\n",
      "vad.shape(385,)\n",
      "features.shape(62, 355)\n",
      "vad.shape(355,)\n",
      "features.shape(62, 248)\n",
      "vad.shape(248,)\n"
     ]
    },
    {
     "name": "stderr",
     "output_type": "stream",
     "text": [
      " 15%|█▍        | 936/6394 [01:05<06:53, 13.19it/s]"
     ]
    },
    {
     "name": "stdout",
     "output_type": "stream",
     "text": [
      "features.shape(62, 398)\n",
      "vad.shape(398,)\n",
      "features.shape(62, 167)\n",
      "vad.shape(167,)\n",
      "features.shape(62, 223)\n",
      "vad.shape(223,)\n"
     ]
    },
    {
     "name": "stderr",
     "output_type": "stream",
     "text": [
      " 15%|█▍        | 938/6394 [01:05<06:53, 13.21it/s]"
     ]
    },
    {
     "name": "stdout",
     "output_type": "stream",
     "text": [
      "features.shape(62, 445)\n",
      "vad.shape(445,)\n",
      "features.shape(62, 291)\n",
      "vad.shape(291,)\n",
      "features.shape(62, 351)\n",
      "vad.shape(351,)\n"
     ]
    },
    {
     "name": "stderr",
     "output_type": "stream",
     "text": [
      " 15%|█▍        | 942/6394 [01:05<07:31, 12.09it/s]"
     ]
    },
    {
     "name": "stdout",
     "output_type": "stream",
     "text": [
      "features.shape(62, 334)\n",
      "vad.shape(334,)\n",
      "features.shape(62, 231)\n",
      "vad.shape(231,)\n",
      "features.shape(62, 491)\n",
      "vad.shape(491,)\n"
     ]
    },
    {
     "name": "stderr",
     "output_type": "stream",
     "text": [
      " 15%|█▍        | 946/6394 [01:06<05:32, 16.39it/s]"
     ]
    },
    {
     "name": "stdout",
     "output_type": "stream",
     "text": [
      "features.shape(62, 513)\n",
      "vad.shape(513,)\n",
      "features.shape(62, 402)\n",
      "vad.shape(402,)\n",
      "features.shape(62, 393)\n",
      "vad.shape(393,)\n",
      "features.shape(62, 368)\n",
      "vad.shape(368,)\n"
     ]
    },
    {
     "name": "stderr",
     "output_type": "stream",
     "text": [
      " 15%|█▍        | 948/6394 [01:06<06:01, 15.08it/s]"
     ]
    },
    {
     "name": "stdout",
     "output_type": "stream",
     "text": [
      "features.shape(62, 491)\n",
      "vad.shape(491,)\n",
      "features.shape(62, 491)\n",
      "vad.shape(491,)\n",
      "features.shape(62, 525)\n",
      "vad.shape(525,)\n"
     ]
    },
    {
     "name": "stderr",
     "output_type": "stream",
     "text": [
      " 15%|█▍        | 952/6394 [01:06<06:07, 14.80it/s]"
     ]
    },
    {
     "name": "stdout",
     "output_type": "stream",
     "text": [
      "features.shape(62, 359)\n",
      "vad.shape(359,)\n",
      "features.shape(62, 291)\n",
      "vad.shape(291,)\n",
      "features.shape(62, 218)\n",
      "vad.shape(218,)\n",
      "features.shape(62, 491)\n",
      "vad.shape(491,)\n"
     ]
    },
    {
     "name": "stderr",
     "output_type": "stream",
     "text": [
      " 15%|█▍        | 958/6394 [01:06<04:31, 20.05it/s]"
     ]
    },
    {
     "name": "stdout",
     "output_type": "stream",
     "text": [
      "features.shape(62, 325)\n",
      "vad.shape(325,)\n",
      "features.shape(62, 474)\n",
      "vad.shape(474,)\n",
      "features.shape(62, 295)\n",
      "vad.shape(295,)\n",
      "features.shape(62, 1042)\n",
      "vad.shape(1042,)\n",
      "features.shape(62, 355)\n",
      "vad.shape(355,)\n"
     ]
    },
    {
     "name": "stderr",
     "output_type": "stream",
     "text": [
      " 15%|█▌        | 961/6394 [01:06<05:20, 16.95it/s]"
     ]
    },
    {
     "name": "stdout",
     "output_type": "stream",
     "text": [
      "features.shape(62, 405)\n",
      "vad.shape(405,)\n",
      "features.shape(62, 385)\n",
      "vad.shape(385,)\n",
      "features.shape(62, 252)\n",
      "vad.shape(252,)\n",
      "features.shape(62, 346)\n",
      "vad.shape(346,)\n"
     ]
    },
    {
     "name": "stderr",
     "output_type": "stream",
     "text": [
      " 15%|█▌        | 964/6394 [01:07<04:42, 19.21it/s]"
     ]
    },
    {
     "name": "stdout",
     "output_type": "stream",
     "text": [
      "features.shape(62, 854)\n",
      "vad.shape(854,)\n",
      "features.shape(62, 355)\n",
      "vad.shape(355,)\n",
      "features.shape(62, 551)\n",
      "vad.shape(551,)\n"
     ]
    },
    {
     "name": "stderr",
     "output_type": "stream",
     "text": [
      " 15%|█▌        | 967/6394 [01:07<05:24, 16.74it/s]"
     ]
    },
    {
     "name": "stdout",
     "output_type": "stream",
     "text": [
      "features.shape(62, 414)\n",
      "vad.shape(414,)\n",
      "features.shape(62, 355)\n",
      "vad.shape(355,)\n",
      "features.shape(62, 496)\n",
      "vad.shape(496,)\n",
      "features.shape(62, 287)\n",
      "vad.shape(287,)\n",
      "features.shape(62, 466)\n",
      "vad.shape(466,)\n"
     ]
    },
    {
     "name": "stderr",
     "output_type": "stream",
     "text": [
      " 15%|█▌        | 971/6394 [01:07<04:33, 19.85it/s]"
     ]
    },
    {
     "name": "stdout",
     "output_type": "stream",
     "text": [
      "features.shape(62, 406)\n",
      "vad.shape(406,)\n",
      "features.shape(62, 381)\n",
      "vad.shape(381,)\n",
      "features.shape(62, 351)\n",
      "vad.shape(351,)\n"
     ]
    },
    {
     "name": "stderr",
     "output_type": "stream",
     "text": [
      " 15%|█▌        | 976/6394 [01:07<05:38, 15.99it/s]"
     ]
    },
    {
     "name": "stdout",
     "output_type": "stream",
     "text": [
      "features.shape(62, 278)\n",
      "vad.shape(278,)\n",
      "features.shape(62, 269)\n",
      "vad.shape(269,)\n",
      "features.shape(62, 308)\n",
      "vad.shape(308,)\n",
      "features.shape(62, 363)\n",
      "vad.shape(363,)\n"
     ]
    },
    {
     "name": "stderr",
     "output_type": "stream",
     "text": [
      " 15%|█▌        | 979/6394 [01:07<04:59, 18.06it/s]"
     ]
    },
    {
     "name": "stdout",
     "output_type": "stream",
     "text": [
      "features.shape(62, 316)\n",
      "vad.shape(316,)\n",
      "features.shape(62, 291)\n",
      "vad.shape(291,)\n",
      "features.shape(62, 308)\n",
      "vad.shape(308,)\n"
     ]
    },
    {
     "name": "stderr",
     "output_type": "stream",
     "text": [
      " 15%|█▌        | 983/6394 [01:08<05:30, 16.37it/s]"
     ]
    },
    {
     "name": "stdout",
     "output_type": "stream",
     "text": [
      "features.shape(62, 458)\n",
      "vad.shape(458,)\n",
      "features.shape(62, 427)\n",
      "vad.shape(427,)\n",
      "features.shape(62, 299)\n",
      "vad.shape(299,)\n",
      "features.shape(62, 534)\n",
      "vad.shape(534,)\n"
     ]
    },
    {
     "name": "stderr",
     "output_type": "stream",
     "text": [
      " 15%|█▌        | 985/6394 [01:08<05:30, 16.34it/s]"
     ]
    },
    {
     "name": "stdout",
     "output_type": "stream",
     "text": [
      "features.shape(62, 423)\n",
      "vad.shape(423,)\n",
      "features.shape(62, 402)\n",
      "vad.shape(402,)\n"
     ]
    },
    {
     "name": "stderr",
     "output_type": "stream",
     "text": [
      " 15%|█▌        | 989/6394 [01:08<06:18, 14.30it/s]"
     ]
    },
    {
     "name": "stdout",
     "output_type": "stream",
     "text": [
      "features.shape(62, 513)\n",
      "vad.shape(513,)\n",
      "features.shape(62, 641)\n",
      "vad.shape(641,)\n",
      "features.shape(62, 295)\n",
      "vad.shape(295,)\n",
      "features.shape(62, 918)\n",
      "vad.shape(918,)\n",
      "features.shape(62, 299)\n",
      "vad.shape(299,)\n"
     ]
    },
    {
     "name": "stderr",
     "output_type": "stream",
     "text": [
      " 16%|█▌        | 994/6394 [01:09<05:51, 15.36it/s]"
     ]
    },
    {
     "name": "stdout",
     "output_type": "stream",
     "text": [
      "features.shape(62, 321)\n",
      "vad.shape(321,)\n",
      "features.shape(62, 338)\n",
      "vad.shape(338,)\n",
      "features.shape(62, 304)\n",
      "vad.shape(304,)\n"
     ]
    },
    {
     "name": "stderr",
     "output_type": "stream",
     "text": [
      " 16%|█▌        | 996/6394 [01:09<06:21, 14.16it/s]"
     ]
    },
    {
     "name": "stdout",
     "output_type": "stream",
     "text": [
      "features.shape(62, 287)\n",
      "vad.shape(287,)\n",
      "features.shape(62, 270)\n",
      "vad.shape(270,)\n",
      "features.shape(62, 274)\n",
      "vad.shape(274,)\n"
     ]
    },
    {
     "name": "stderr",
     "output_type": "stream",
     "text": [
      " 16%|█▌        | 1000/6394 [01:09<06:37, 13.58it/s]"
     ]
    },
    {
     "name": "stdout",
     "output_type": "stream",
     "text": [
      "features.shape(62, 317)\n",
      "vad.shape(317,)\n",
      "features.shape(62, 496)\n",
      "vad.shape(496,)\n",
      "features.shape(62, 304)\n",
      "vad.shape(304,)\n"
     ]
    },
    {
     "name": "stderr",
     "output_type": "stream",
     "text": [
      " 16%|█▌        | 1002/6394 [01:09<07:08, 12.59it/s]"
     ]
    },
    {
     "name": "stdout",
     "output_type": "stream",
     "text": [
      "features.shape(62, 504)\n",
      "vad.shape(504,)\n",
      "features.shape(62, 376)\n",
      "vad.shape(376,)\n",
      "features.shape(62, 299)\n",
      "vad.shape(299,)\n"
     ]
    },
    {
     "name": "stderr",
     "output_type": "stream",
     "text": [
      " 16%|█▌        | 1006/6394 [01:09<06:18, 14.23it/s]"
     ]
    },
    {
     "name": "stdout",
     "output_type": "stream",
     "text": [
      "features.shape(62, 308)\n",
      "vad.shape(308,)\n",
      "features.shape(62, 282)\n",
      "vad.shape(282,)\n",
      "features.shape(62, 402)\n",
      "vad.shape(402,)\n",
      "features.shape(62, 475)\n",
      "vad.shape(475,)\n",
      "features.shape(62, 543)\n",
      "vad.shape(543,)\n"
     ]
    },
    {
     "name": "stderr",
     "output_type": "stream",
     "text": [
      " 16%|█▌        | 1009/6394 [01:10<05:23, 16.67it/s]"
     ]
    },
    {
     "name": "stdout",
     "output_type": "stream",
     "text": [
      "features.shape(62, 278)\n",
      "vad.shape(278,)\n",
      "features.shape(62, 312)\n",
      "vad.shape(312,)\n",
      "features.shape(62, 321)\n",
      "vad.shape(321,)\n"
     ]
    },
    {
     "name": "stderr",
     "output_type": "stream",
     "text": [
      " 16%|█▌        | 1014/6394 [01:10<05:27, 16.43it/s]"
     ]
    },
    {
     "name": "stdout",
     "output_type": "stream",
     "text": [
      "features.shape(62, 363)\n",
      "vad.shape(363,)\n",
      "features.shape(62, 333)\n",
      "vad.shape(333,)\n",
      "features.shape(62, 218)\n",
      "vad.shape(218,)\n",
      "features.shape(62, 500)\n",
      "vad.shape(500,)\n"
     ]
    },
    {
     "name": "stderr",
     "output_type": "stream",
     "text": [
      " 16%|█▌        | 1018/6394 [01:10<06:09, 14.56it/s]"
     ]
    },
    {
     "name": "stdout",
     "output_type": "stream",
     "text": [
      "features.shape(62, 278)\n",
      "vad.shape(278,)\n",
      "features.shape(62, 334)\n",
      "vad.shape(334,)\n",
      "features.shape(62, 244)\n",
      "vad.shape(244,)\n"
     ]
    },
    {
     "name": "stderr",
     "output_type": "stream",
     "text": [
      " 16%|█▌        | 1020/6394 [01:10<06:35, 13.60it/s]"
     ]
    },
    {
     "name": "stdout",
     "output_type": "stream",
     "text": [
      "features.shape(62, 453)\n",
      "vad.shape(453,)\n",
      "features.shape(62, 364)\n",
      "vad.shape(364,)\n",
      "features.shape(62, 299)\n",
      "vad.shape(299,)\n"
     ]
    },
    {
     "name": "stderr",
     "output_type": "stream",
     "text": [
      " 16%|█▌        | 1026/6394 [01:11<05:35, 16.02it/s]"
     ]
    },
    {
     "name": "stdout",
     "output_type": "stream",
     "text": [
      "features.shape(62, 406)\n",
      "vad.shape(406,)\n",
      "features.shape(62, 278)\n",
      "vad.shape(278,)\n",
      "features.shape(62, 607)\n",
      "vad.shape(607,)\n",
      "features.shape(62, 586)\n",
      "vad.shape(586,)\n",
      "features.shape(62, 338)\n",
      "vad.shape(338,)\n"
     ]
    },
    {
     "name": "stderr",
     "output_type": "stream",
     "text": [
      " 16%|█▌        | 1028/6394 [01:11<06:11, 14.46it/s]"
     ]
    },
    {
     "name": "stdout",
     "output_type": "stream",
     "text": [
      "features.shape(62, 257)\n",
      "vad.shape(257,)\n",
      "features.shape(62, 436)\n",
      "vad.shape(436,)\n",
      "features.shape(62, 231)\n",
      "vad.shape(231,)\n"
     ]
    },
    {
     "name": "stderr",
     "output_type": "stream",
     "text": [
      " 16%|█▌        | 1032/6394 [01:11<07:08, 12.53it/s]"
     ]
    },
    {
     "name": "stdout",
     "output_type": "stream",
     "text": [
      "features.shape(62, 466)\n",
      "vad.shape(466,)\n",
      "features.shape(62, 295)\n",
      "vad.shape(295,)\n",
      "features.shape(62, 534)\n",
      "vad.shape(534,)\n"
     ]
    },
    {
     "name": "stderr",
     "output_type": "stream",
     "text": [
      " 16%|█▌        | 1035/6394 [01:11<05:55, 15.09it/s]"
     ]
    },
    {
     "name": "stdout",
     "output_type": "stream",
     "text": [
      "features.shape(62, 299)\n",
      "vad.shape(299,)\n",
      "features.shape(62, 274)\n",
      "vad.shape(274,)\n",
      "features.shape(62, 312)\n",
      "vad.shape(312,)\n"
     ]
    },
    {
     "name": "stderr",
     "output_type": "stream",
     "text": [
      " 16%|█▌        | 1037/6394 [01:12<06:36, 13.50it/s]"
     ]
    },
    {
     "name": "stdout",
     "output_type": "stream",
     "text": [
      "features.shape(62, 248)\n",
      "vad.shape(248,)\n",
      "features.shape(62, 334)\n",
      "vad.shape(334,)\n",
      "features.shape(62, 295)\n",
      "vad.shape(295,)\n"
     ]
    },
    {
     "name": "stderr",
     "output_type": "stream",
     "text": [
      " 16%|█▋        | 1041/6394 [01:12<06:24, 13.93it/s]"
     ]
    },
    {
     "name": "stdout",
     "output_type": "stream",
     "text": [
      "features.shape(62, 321)\n",
      "vad.shape(321,)\n",
      "features.shape(62, 466)\n",
      "vad.shape(466,)\n",
      "features.shape(62, 491)\n",
      "vad.shape(491,)\n",
      "features.shape(62, 368)\n",
      "vad.shape(368,)\n",
      "features.shape(62, 274)\n",
      "vad.shape(274,)\n"
     ]
    },
    {
     "name": "stderr",
     "output_type": "stream",
     "text": [
      " 16%|█▋        | 1046/6394 [01:12<06:21, 14.03it/s]"
     ]
    },
    {
     "name": "stdout",
     "output_type": "stream",
     "text": [
      "features.shape(62, 398)\n",
      "vad.shape(398,)\n",
      "features.shape(62, 385)\n",
      "vad.shape(385,)\n",
      "features.shape(62, 517)\n",
      "vad.shape(517,)\n"
     ]
    },
    {
     "name": "stderr",
     "output_type": "stream",
     "text": [
      " 16%|█▋        | 1051/6394 [01:13<05:16, 16.86it/s]"
     ]
    },
    {
     "name": "stdout",
     "output_type": "stream",
     "text": [
      "features.shape(62, 266)\n",
      "vad.shape(266,)\n",
      "features.shape(62, 253)\n",
      "vad.shape(253,)\n",
      "features.shape(62, 248)\n",
      "vad.shape(248,)\n",
      "features.shape(62, 427)\n",
      "vad.shape(427,)\n",
      "features.shape(62, 291)\n",
      "vad.shape(291,)\n"
     ]
    },
    {
     "name": "stderr",
     "output_type": "stream",
     "text": [
      " 16%|█▋        | 1054/6394 [01:13<04:29, 19.85it/s]"
     ]
    },
    {
     "name": "stdout",
     "output_type": "stream",
     "text": [
      "features.shape(62, 457)\n",
      "vad.shape(457,)\n",
      "features.shape(62, 462)\n",
      "vad.shape(462,)\n",
      "features.shape(62, 287)\n",
      "vad.shape(287,)\n",
      "features.shape(62, 291)\n",
      "vad.shape(291,)\n"
     ]
    },
    {
     "name": "stderr",
     "output_type": "stream",
     "text": [
      " 17%|█▋        | 1057/6394 [01:13<05:08, 17.31it/s]"
     ]
    },
    {
     "name": "stdout",
     "output_type": "stream",
     "text": [
      "features.shape(62, 466)\n",
      "vad.shape(466,)\n",
      "features.shape(62, 397)\n",
      "vad.shape(397,)\n",
      "features.shape(62, 154)\n",
      "vad.shape(154,)\n"
     ]
    },
    {
     "name": "stderr",
     "output_type": "stream",
     "text": [
      " 17%|█▋        | 1063/6394 [01:13<04:24, 20.17it/s]"
     ]
    },
    {
     "name": "stdout",
     "output_type": "stream",
     "text": [
      "features.shape(62, 436)\n",
      "vad.shape(436,)\n",
      "features.shape(62, 577)\n",
      "vad.shape(577,)\n",
      "features.shape(62, 436)\n",
      "vad.shape(436,)\n",
      "features.shape(62, 347)\n",
      "vad.shape(347,)\n",
      "features.shape(62, 286)\n",
      "vad.shape(286,)\n",
      "features.shape(62, 376)\n",
      "vad.shape(376,)\n"
     ]
    },
    {
     "name": "stderr",
     "output_type": "stream",
     "text": [
      " 17%|█▋        | 1066/6394 [01:13<04:51, 18.26it/s]"
     ]
    },
    {
     "name": "stdout",
     "output_type": "stream",
     "text": [
      "features.shape(62, 274)\n",
      "vad.shape(274,)\n",
      "features.shape(62, 666)\n",
      "vad.shape(666,)\n",
      "features.shape(62, 363)\n",
      "vad.shape(363,)\n"
     ]
    },
    {
     "name": "stderr",
     "output_type": "stream",
     "text": [
      " 17%|█▋        | 1069/6394 [01:14<05:00, 17.73it/s]"
     ]
    },
    {
     "name": "stdout",
     "output_type": "stream",
     "text": [
      "features.shape(62, 282)\n",
      "vad.shape(282,)\n",
      "features.shape(62, 329)\n",
      "vad.shape(329,)\n",
      "features.shape(62, 278)\n",
      "vad.shape(278,)\n",
      "features.shape(62, 402)\n",
      "vad.shape(402,)\n",
      "features.shape(62, 483)\n",
      "vad.shape(483,)\n",
      "features.shape(62, 325)\n",
      "vad.shape(325,)\n"
     ]
    },
    {
     "name": "stderr",
     "output_type": "stream",
     "text": [
      " 17%|█▋        | 1076/6394 [01:14<04:51, 18.25it/s]"
     ]
    },
    {
     "name": "stdout",
     "output_type": "stream",
     "text": [
      "features.shape(62, 590)\n",
      "vad.shape(590,)\n",
      "features.shape(62, 338)\n",
      "vad.shape(338,)\n",
      "features.shape(62, 312)\n",
      "vad.shape(312,)\n",
      "features.shape(62, 483)\n",
      "vad.shape(483,)\n"
     ]
    },
    {
     "name": "stderr",
     "output_type": "stream",
     "text": [
      " 17%|█▋        | 1080/6394 [01:14<04:43, 18.75it/s]"
     ]
    },
    {
     "name": "stdout",
     "output_type": "stream",
     "text": [
      "features.shape(62, 201)\n",
      "vad.shape(201,)\n",
      "features.shape(62, 346)\n",
      "vad.shape(346,)\n",
      "features.shape(62, 432)\n",
      "vad.shape(432,)\n",
      "features.shape(62, 560)\n",
      "vad.shape(560,)\n"
     ]
    },
    {
     "name": "stderr",
     "output_type": "stream",
     "text": [
      " 17%|█▋        | 1084/6394 [01:14<05:50, 15.15it/s]"
     ]
    },
    {
     "name": "stdout",
     "output_type": "stream",
     "text": [
      "features.shape(62, 534)\n",
      "vad.shape(534,)\n",
      "features.shape(62, 581)\n",
      "vad.shape(581,)\n",
      "features.shape(62, 363)\n",
      "vad.shape(363,)\n"
     ]
    },
    {
     "name": "stderr",
     "output_type": "stream",
     "text": [
      " 17%|█▋        | 1090/6394 [01:15<04:15, 20.80it/s]"
     ]
    },
    {
     "name": "stdout",
     "output_type": "stream",
     "text": [
      "features.shape(62, 266)\n",
      "vad.shape(266,)\n",
      "features.shape(62, 432)\n",
      "vad.shape(432,)\n",
      "features.shape(62, 538)\n",
      "vad.shape(538,)\n",
      "features.shape(62, 283)\n",
      "vad.shape(283,)\n",
      "features.shape(62, 342)\n",
      "vad.shape(342,)\n",
      "features.shape(62, 589)\n",
      "vad.shape(589,)\n",
      "features.shape(62, 176)\n",
      "vad.shape(176,)\n"
     ]
    },
    {
     "name": "stderr",
     "output_type": "stream",
     "text": [
      " 17%|█▋        | 1093/6394 [01:15<06:36, 13.38it/s]"
     ]
    },
    {
     "name": "stdout",
     "output_type": "stream",
     "text": [
      "features.shape(62, 193)\n",
      "vad.shape(193,)\n",
      "features.shape(62, 470)\n",
      "vad.shape(470,)\n",
      "features.shape(62, 291)\n",
      "vad.shape(291,)\n"
     ]
    },
    {
     "name": "stderr",
     "output_type": "stream",
     "text": [
      " 17%|█▋        | 1099/6394 [01:15<05:10, 17.06it/s]"
     ]
    },
    {
     "name": "stdout",
     "output_type": "stream",
     "text": [
      "features.shape(62, 295)\n",
      "vad.shape(295,)\n",
      "features.shape(62, 389)\n",
      "vad.shape(389,)\n",
      "features.shape(62, 474)\n",
      "vad.shape(474,)\n",
      "features.shape(62, 287)\n",
      "vad.shape(287,)\n",
      "features.shape(62, 436)\n",
      "vad.shape(436,)\n",
      "features.shape(62, 321)\n",
      "vad.shape(321,)\n"
     ]
    },
    {
     "name": "stderr",
     "output_type": "stream",
     "text": [
      " 17%|█▋        | 1105/6394 [01:16<05:24, 16.32it/s]"
     ]
    },
    {
     "name": "stdout",
     "output_type": "stream",
     "text": [
      "features.shape(62, 218)\n",
      "vad.shape(218,)\n",
      "features.shape(62, 248)\n",
      "vad.shape(248,)\n",
      "features.shape(62, 385)\n",
      "vad.shape(385,)\n",
      "features.shape(62, 304)\n",
      "vad.shape(304,)\n",
      "features.shape(62, 248)\n",
      "vad.shape(248,)\n"
     ]
    },
    {
     "name": "stderr",
     "output_type": "stream",
     "text": [
      " 17%|█▋        | 1108/6394 [01:16<05:57, 14.79it/s]"
     ]
    },
    {
     "name": "stdout",
     "output_type": "stream",
     "text": [
      "features.shape(62, 799)\n",
      "vad.shape(799,)\n",
      "features.shape(62, 304)\n",
      "vad.shape(304,)\n",
      "features.shape(62, 334)\n",
      "vad.shape(334,)\n"
     ]
    },
    {
     "name": "stderr",
     "output_type": "stream",
     "text": [
      " 17%|█▋        | 1110/6394 [01:16<06:06, 14.41it/s]"
     ]
    },
    {
     "name": "stdout",
     "output_type": "stream",
     "text": [
      "features.shape(62, 376)\n",
      "vad.shape(376,)\n",
      "features.shape(62, 402)\n",
      "vad.shape(402,)\n",
      "features.shape(62, 265)\n",
      "vad.shape(265,)\n"
     ]
    },
    {
     "name": "stderr",
     "output_type": "stream",
     "text": [
      " 17%|█▋        | 1114/6394 [01:16<06:21, 13.85it/s]"
     ]
    },
    {
     "name": "stdout",
     "output_type": "stream",
     "text": [
      "features.shape(62, 402)\n",
      "vad.shape(402,)\n",
      "features.shape(62, 521)\n",
      "vad.shape(521,)\n",
      "features.shape(62, 342)\n",
      "vad.shape(342,)\n"
     ]
    },
    {
     "name": "stderr",
     "output_type": "stream",
     "text": [
      " 17%|█▋        | 1116/6394 [01:17<06:50, 12.85it/s]"
     ]
    },
    {
     "name": "stdout",
     "output_type": "stream",
     "text": [
      "features.shape(62, 325)\n",
      "vad.shape(325,)\n",
      "features.shape(62, 248)\n",
      "vad.shape(248,)\n"
     ]
    },
    {
     "name": "stderr",
     "output_type": "stream",
     "text": [
      " 18%|█▊        | 1121/6394 [01:17<05:52, 14.94it/s]"
     ]
    },
    {
     "name": "stdout",
     "output_type": "stream",
     "text": [
      "features.shape(62, 257)\n",
      "vad.shape(257,)\n",
      "features.shape(62, 274)\n",
      "vad.shape(274,)\n",
      "features.shape(62, 372)\n",
      "vad.shape(372,)\n",
      "features.shape(62, 338)\n",
      "vad.shape(338,)\n",
      "features.shape(62, 338)\n",
      "vad.shape(338,)\n"
     ]
    },
    {
     "name": "stderr",
     "output_type": "stream",
     "text": [
      " 18%|█▊        | 1123/6394 [01:17<05:54, 14.85it/s]"
     ]
    },
    {
     "name": "stdout",
     "output_type": "stream",
     "text": [
      "features.shape(62, 436)\n",
      "vad.shape(436,)\n",
      "features.shape(62, 385)\n",
      "vad.shape(385,)\n",
      "features.shape(62, 376)\n",
      "vad.shape(376,)\n"
     ]
    },
    {
     "name": "stderr",
     "output_type": "stream",
     "text": [
      " 18%|█▊        | 1127/6394 [01:17<06:13, 14.11it/s]"
     ]
    },
    {
     "name": "stdout",
     "output_type": "stream",
     "text": [
      "features.shape(62, 547)\n",
      "vad.shape(547,)\n",
      "features.shape(62, 355)\n",
      "vad.shape(355,)\n",
      "features.shape(62, 432)\n",
      "vad.shape(432,)\n"
     ]
    },
    {
     "name": "stderr",
     "output_type": "stream",
     "text": [
      " 18%|█▊        | 1129/6394 [01:18<06:56, 12.65it/s]"
     ]
    },
    {
     "name": "stdout",
     "output_type": "stream",
     "text": [
      "features.shape(62, 206)\n",
      "vad.shape(206,)\n",
      "features.shape(62, 355)\n",
      "vad.shape(355,)\n",
      "features.shape(62, 274)\n",
      "vad.shape(274,)\n"
     ]
    },
    {
     "name": "stderr",
     "output_type": "stream",
     "text": [
      " 18%|█▊        | 1133/6394 [01:18<06:42, 13.08it/s]"
     ]
    },
    {
     "name": "stdout",
     "output_type": "stream",
     "text": [
      "features.shape(62, 338)\n",
      "vad.shape(338,)\n",
      "features.shape(62, 380)\n",
      "vad.shape(380,)\n",
      "features.shape(62, 325)\n",
      "vad.shape(325,)\n"
     ]
    },
    {
     "name": "stderr",
     "output_type": "stream",
     "text": [
      " 18%|█▊        | 1139/6394 [01:18<04:40, 18.74it/s]"
     ]
    },
    {
     "name": "stdout",
     "output_type": "stream",
     "text": [
      "features.shape(62, 304)\n",
      "vad.shape(304,)\n",
      "features.shape(62, 191)\n",
      "vad.shape(191,)\n",
      "features.shape(62, 645)\n",
      "vad.shape(645,)\n",
      "features.shape(62, 321)\n",
      "vad.shape(321,)\n",
      "features.shape(62, 287)\n",
      "vad.shape(287,)\n",
      "features.shape(62, 1127)\n",
      "vad.shape(1127,)\n",
      "features.shape(62, 539)\n",
      "vad.shape(539,)\n"
     ]
    },
    {
     "name": "stderr",
     "output_type": "stream",
     "text": [
      " 18%|█▊        | 1142/6394 [01:18<04:20, 20.19it/s]"
     ]
    },
    {
     "name": "stdout",
     "output_type": "stream",
     "text": [
      "features.shape(62, 364)\n",
      "vad.shape(364,)\n",
      "features.shape(62, 240)\n",
      "vad.shape(240,)\n",
      "features.shape(62, 350)\n",
      "vad.shape(350,)\n",
      "features.shape(62, 572)\n",
      "vad.shape(572,)\n",
      "features.shape(62, 201)\n",
      "vad.shape(201,)\n"
     ]
    },
    {
     "name": "stderr",
     "output_type": "stream",
     "text": [
      " 18%|█▊        | 1148/6394 [01:19<05:13, 16.74it/s]"
     ]
    },
    {
     "name": "stdout",
     "output_type": "stream",
     "text": [
      "features.shape(62, 278)\n",
      "vad.shape(278,)\n",
      "features.shape(62, 453)\n",
      "vad.shape(453,)\n",
      "features.shape(62, 333)\n",
      "vad.shape(333,)\n"
     ]
    },
    {
     "name": "stderr",
     "output_type": "stream",
     "text": [
      " 18%|█▊        | 1150/6394 [01:19<05:12, 16.77it/s]"
     ]
    },
    {
     "name": "stdout",
     "output_type": "stream",
     "text": [
      "features.shape(62, 295)\n",
      "vad.shape(295,)\n",
      "features.shape(62, 329)\n",
      "vad.shape(329,)\n",
      "features.shape(62, 500)\n",
      "vad.shape(500,)\n",
      "features.shape(62, 352)\n",
      "vad.shape(352,)\n",
      "features.shape(62, 299)\n",
      "vad.shape(299,)\n"
     ]
    },
    {
     "name": "stderr",
     "output_type": "stream",
     "text": [
      " 18%|█▊        | 1156/6394 [01:19<05:04, 17.21it/s]"
     ]
    },
    {
     "name": "stdout",
     "output_type": "stream",
     "text": [
      "features.shape(62, 397)\n",
      "vad.shape(397,)\n",
      "features.shape(62, 278)\n",
      "vad.shape(278,)\n",
      "features.shape(62, 307)\n",
      "vad.shape(307,)\n"
     ]
    },
    {
     "name": "stderr",
     "output_type": "stream",
     "text": [
      " 18%|█▊        | 1158/6394 [01:19<05:34, 15.66it/s]"
     ]
    },
    {
     "name": "stdout",
     "output_type": "stream",
     "text": [
      "features.shape(62, 355)\n",
      "vad.shape(355,)\n",
      "features.shape(62, 286)\n",
      "vad.shape(286,)\n",
      "features.shape(62, 398)\n",
      "vad.shape(398,)\n"
     ]
    },
    {
     "name": "stderr",
     "output_type": "stream",
     "text": [
      " 18%|█▊        | 1163/6394 [01:19<04:55, 17.69it/s]"
     ]
    },
    {
     "name": "stdout",
     "output_type": "stream",
     "text": [
      "features.shape(62, 321)\n",
      "vad.shape(321,)\n",
      "features.shape(62, 474)\n",
      "vad.shape(474,)\n",
      "features.shape(62, 299)\n",
      "vad.shape(299,)\n",
      "features.shape(62, 363)\n",
      "vad.shape(363,)\n",
      "features.shape(62, 496)\n",
      "vad.shape(496,)\n"
     ]
    },
    {
     "name": "stderr",
     "output_type": "stream",
     "text": [
      " 18%|█▊        | 1167/6394 [01:20<05:51, 14.86it/s]"
     ]
    },
    {
     "name": "stdout",
     "output_type": "stream",
     "text": [
      "features.shape(62, 274)\n",
      "vad.shape(274,)\n",
      "features.shape(62, 325)\n",
      "vad.shape(325,)\n",
      "features.shape(62, 359)\n",
      "vad.shape(359,)\n"
     ]
    },
    {
     "name": "stderr",
     "output_type": "stream",
     "text": [
      " 18%|█▊        | 1172/6394 [01:20<04:46, 18.20it/s]"
     ]
    },
    {
     "name": "stdout",
     "output_type": "stream",
     "text": [
      "features.shape(62, 270)\n",
      "vad.shape(270,)\n",
      "features.shape(62, 428)\n",
      "vad.shape(428,)\n",
      "features.shape(62, 270)\n",
      "vad.shape(270,)\n",
      "features.shape(62, 274)\n",
      "vad.shape(274,)\n",
      "features.shape(62, 445)\n",
      "vad.shape(445,)\n",
      "features.shape(62, 436)\n"
     ]
    },
    {
     "name": "stderr",
     "output_type": "stream",
     "text": [
      " 18%|█▊        | 1174/6394 [01:20<05:05, 17.08it/s]"
     ]
    },
    {
     "name": "stdout",
     "output_type": "stream",
     "text": [
      "vad.shape(436,)\n",
      "features.shape(62, 317)\n",
      "vad.shape(317,)\n",
      "features.shape(62, 287)\n",
      "vad.shape(287,)\n"
     ]
    },
    {
     "name": "stderr",
     "output_type": "stream",
     "text": [
      " 18%|█▊        | 1179/6394 [01:20<04:39, 18.66it/s]"
     ]
    },
    {
     "name": "stdout",
     "output_type": "stream",
     "text": [
      "features.shape(62, 406)\n",
      "vad.shape(406,)\n",
      "features.shape(62, 410)\n",
      "vad.shape(410,)\n",
      "features.shape(62, 406)\n",
      "vad.shape(406,)\n",
      "features.shape(62, 282)\n",
      "vad.shape(282,)\n",
      "features.shape(62, 432)\n",
      "vad.shape(432,)\n"
     ]
    },
    {
     "name": "stderr",
     "output_type": "stream",
     "text": [
      " 19%|█▊        | 1183/6394 [01:21<05:33, 15.64it/s]"
     ]
    },
    {
     "name": "stdout",
     "output_type": "stream",
     "text": [
      "features.shape(62, 286)\n",
      "vad.shape(286,)\n",
      "features.shape(62, 240)\n",
      "vad.shape(240,)\n",
      "features.shape(62, 462)\n",
      "vad.shape(462,)\n",
      "features.shape(62, 389)\n",
      "vad.shape(389,)\n"
     ]
    },
    {
     "name": "stderr",
     "output_type": "stream",
     "text": [
      " 19%|█▊        | 1187/6394 [01:21<05:10, 16.75it/s]"
     ]
    },
    {
     "name": "stdout",
     "output_type": "stream",
     "text": [
      "features.shape(62, 462)\n",
      "vad.shape(462,)\n",
      "features.shape(62, 667)\n",
      "vad.shape(667,)\n",
      "features.shape(62, 496)\n",
      "vad.shape(496,)\n",
      "features.shape(62, 312)\n",
      "vad.shape(312,)\n"
     ]
    },
    {
     "name": "stderr",
     "output_type": "stream",
     "text": [
      " 19%|█▊        | 1191/6394 [01:21<05:50, 14.82it/s]"
     ]
    },
    {
     "name": "stdout",
     "output_type": "stream",
     "text": [
      "features.shape(62, 329)\n",
      "vad.shape(329,)\n",
      "features.shape(62, 577)\n",
      "vad.shape(577,)\n",
      "features.shape(62, 278)\n",
      "vad.shape(278,)\n"
     ]
    },
    {
     "name": "stderr",
     "output_type": "stream",
     "text": [
      " 19%|█▊        | 1193/6394 [01:21<06:17, 13.78it/s]"
     ]
    },
    {
     "name": "stdout",
     "output_type": "stream",
     "text": [
      "features.shape(62, 261)\n",
      "vad.shape(261,)\n",
      "features.shape(62, 376)\n",
      "vad.shape(376,)\n",
      "features.shape(62, 304)\n",
      "vad.shape(304,)\n",
      "features.shape(62, 397)\n",
      "vad.shape(397,)\n"
     ]
    },
    {
     "name": "stderr",
     "output_type": "stream",
     "text": [
      " 19%|█▊        | 1198/6394 [01:22<05:48, 14.92it/s]"
     ]
    },
    {
     "name": "stdout",
     "output_type": "stream",
     "text": [
      "features.shape(62, 299)\n",
      "vad.shape(299,)\n",
      "features.shape(62, 786)\n",
      "vad.shape(786,)\n",
      "features.shape(62, 351)\n",
      "vad.shape(351,)\n"
     ]
    },
    {
     "name": "stderr",
     "output_type": "stream",
     "text": [
      " 19%|█▉        | 1202/6394 [01:22<05:46, 14.97it/s]"
     ]
    },
    {
     "name": "stdout",
     "output_type": "stream",
     "text": [
      "features.shape(62, 364)\n",
      "vad.shape(364,)\n",
      "features.shape(62, 338)\n",
      "vad.shape(338,)\n",
      "features.shape(62, 300)\n",
      "vad.shape(300,)\n",
      "features.shape(62, 1507)\n",
      "vad.shape(1507,)\n"
     ]
    },
    {
     "name": "stderr",
     "output_type": "stream",
     "text": [
      " 19%|█▉        | 1205/6394 [01:22<04:45, 18.14it/s]"
     ]
    },
    {
     "name": "stdout",
     "output_type": "stream",
     "text": [
      "features.shape(62, 381)\n",
      "vad.shape(381,)\n",
      "features.shape(62, 368)\n",
      "vad.shape(368,)\n",
      "features.shape(62, 423)\n",
      "vad.shape(423,)\n",
      "features.shape(62, 534)\n",
      "vad.shape(534,)\n"
     ]
    },
    {
     "name": "stderr",
     "output_type": "stream",
     "text": [
      " 19%|█▉        | 1210/6394 [01:22<05:05, 16.98it/s]"
     ]
    },
    {
     "name": "stdout",
     "output_type": "stream",
     "text": [
      "features.shape(62, 380)\n",
      "vad.shape(380,)\n",
      "features.shape(62, 572)\n",
      "vad.shape(572,)\n",
      "features.shape(62, 236)\n",
      "vad.shape(236,)\n",
      "features.shape(62, 389)\n",
      "vad.shape(389,)\n",
      "features.shape(62, 449)\n",
      "vad.shape(449,)\n"
     ]
    },
    {
     "name": "stderr",
     "output_type": "stream",
     "text": [
      " 19%|█▉        | 1214/6394 [01:23<05:22, 16.07it/s]"
     ]
    },
    {
     "name": "stdout",
     "output_type": "stream",
     "text": [
      "features.shape(62, 509)\n",
      "vad.shape(509,)\n",
      "features.shape(62, 543)\n",
      "vad.shape(543,)\n",
      "features.shape(62, 172)\n",
      "vad.shape(172,)\n",
      "features.shape(62, 602)\n",
      "vad.shape(602,)\n"
     ]
    },
    {
     "name": "stderr",
     "output_type": "stream",
     "text": [
      " 19%|█▉        | 1217/6394 [01:23<05:07, 16.85it/s]"
     ]
    },
    {
     "name": "stdout",
     "output_type": "stream",
     "text": [
      "features.shape(62, 444)\n",
      "vad.shape(444,)\n",
      "features.shape(62, 427)\n",
      "vad.shape(427,)\n",
      "features.shape(62, 321)\n",
      "vad.shape(321,)\n"
     ]
    },
    {
     "name": "stderr",
     "output_type": "stream",
     "text": [
      " 19%|█▉        | 1222/6394 [01:23<04:39, 18.51it/s]"
     ]
    },
    {
     "name": "stdout",
     "output_type": "stream",
     "text": [
      "features.shape(62, 385)\n",
      "vad.shape(385,)\n",
      "features.shape(62, 598)\n",
      "vad.shape(598,)\n",
      "features.shape(62, 402)\n",
      "vad.shape(402,)\n",
      "features.shape(62, 283)\n",
      "vad.shape(283,)\n",
      "features.shape(62, 415)\n",
      "vad.shape(415,)\n",
      "features.shape(62, 645)\n",
      "vad.shape(645,)\n",
      "features.shape(62, 376)\n",
      "vad.shape(376,)\n"
     ]
    },
    {
     "name": "stderr",
     "output_type": "stream",
     "text": [
      " 19%|█▉        | 1226/6394 [01:23<04:08, 20.76it/s]"
     ]
    },
    {
     "name": "stdout",
     "output_type": "stream",
     "text": [
      "features.shape(62, 222)\n",
      "vad.shape(222,)\n",
      "features.shape(62, 406)\n",
      "vad.shape(406,)\n",
      "features.shape(62, 235)\n",
      "vad.shape(235,)\n"
     ]
    },
    {
     "name": "stderr",
     "output_type": "stream",
     "text": [
      " 19%|█▉        | 1231/6394 [01:24<05:40, 15.18it/s]"
     ]
    },
    {
     "name": "stdout",
     "output_type": "stream",
     "text": [
      "features.shape(62, 312)\n",
      "vad.shape(312,)\n",
      "features.shape(62, 316)\n",
      "vad.shape(316,)\n",
      "features.shape(62, 253)\n",
      "vad.shape(253,)\n"
     ]
    },
    {
     "name": "stderr",
     "output_type": "stream",
     "text": [
      " 19%|█▉        | 1235/6394 [01:24<05:24, 15.91it/s]"
     ]
    },
    {
     "name": "stdout",
     "output_type": "stream",
     "text": [
      "features.shape(62, 257)\n",
      "vad.shape(257,)\n",
      "features.shape(62, 534)\n",
      "vad.shape(534,)\n",
      "features.shape(62, 266)\n",
      "vad.shape(266,)\n",
      "features.shape(62, 769)\n",
      "vad.shape(769,)\n"
     ]
    },
    {
     "name": "stderr",
     "output_type": "stream",
     "text": [
      " 19%|█▉        | 1237/6394 [01:24<05:49, 14.74it/s]"
     ]
    },
    {
     "name": "stdout",
     "output_type": "stream",
     "text": [
      "features.shape(62, 509)\n",
      "vad.shape(509,)\n",
      "features.shape(62, 163)\n",
      "vad.shape(163,)\n",
      "features.shape(62, 671)\n",
      "vad.shape(671,)\n"
     ]
    },
    {
     "name": "stderr",
     "output_type": "stream",
     "text": [
      " 19%|█▉        | 1241/6394 [01:24<05:50, 14.69it/s]"
     ]
    },
    {
     "name": "stdout",
     "output_type": "stream",
     "text": [
      "features.shape(62, 308)\n",
      "vad.shape(308,)\n",
      "features.shape(62, 500)\n",
      "vad.shape(500,)\n",
      "features.shape(62, 393)\n",
      "vad.shape(393,)\n",
      "features.shape(62, 419)\n",
      "vad.shape(419,)\n",
      "features.shape(62, 330)\n",
      "vad.shape(330,)\n"
     ]
    },
    {
     "name": "stderr",
     "output_type": "stream",
     "text": [
      " 20%|█▉        | 1247/6394 [01:25<04:44, 18.12it/s]"
     ]
    },
    {
     "name": "stdout",
     "output_type": "stream",
     "text": [
      "features.shape(62, 257)\n",
      "vad.shape(257,)\n",
      "features.shape(62, 295)\n",
      "vad.shape(295,)\n",
      "features.shape(62, 419)\n",
      "vad.shape(419,)\n",
      "features.shape(62, 321)\n",
      "vad.shape(321,)\n",
      "features.shape(62, 419)\n"
     ]
    },
    {
     "name": "stderr",
     "output_type": "stream",
     "text": [
      " 20%|█▉        | 1251/6394 [01:25<05:01, 17.07it/s]"
     ]
    },
    {
     "name": "stdout",
     "output_type": "stream",
     "text": [
      "vad.shape(419,)\n",
      "features.shape(62, 312)\n",
      "vad.shape(312,)\n",
      "features.shape(62, 389)\n",
      "vad.shape(389,)\n",
      "features.shape(62, 432)\n",
      "vad.shape(432,)\n"
     ]
    },
    {
     "name": "stderr",
     "output_type": "stream",
     "text": [
      " 20%|█▉        | 1254/6394 [01:25<04:37, 18.54it/s]"
     ]
    },
    {
     "name": "stdout",
     "output_type": "stream",
     "text": [
      "features.shape(62, 389)\n",
      "vad.shape(389,)\n",
      "features.shape(62, 257)\n",
      "vad.shape(257,)\n",
      "features.shape(62, 351)\n",
      "vad.shape(351,)\n"
     ]
    },
    {
     "name": "stderr",
     "output_type": "stream",
     "text": [
      " 20%|█▉        | 1256/6394 [01:25<05:15, 16.30it/s]"
     ]
    },
    {
     "name": "stdout",
     "output_type": "stream",
     "text": [
      "features.shape(62, 428)\n",
      "vad.shape(428,)\n",
      "features.shape(62, 376)\n",
      "vad.shape(376,)\n",
      "features.shape(62, 278)\n",
      "vad.shape(278,)\n"
     ]
    },
    {
     "name": "stderr",
     "output_type": "stream",
     "text": [
      " 20%|█▉        | 1260/6394 [01:26<05:39, 15.11it/s]"
     ]
    },
    {
     "name": "stdout",
     "output_type": "stream",
     "text": [
      "features.shape(62, 236)\n",
      "vad.shape(236,)\n",
      "features.shape(62, 474)\n",
      "vad.shape(474,)\n",
      "features.shape(62, 543)\n",
      "vad.shape(543,)\n",
      "features.shape(62, 270)\n",
      "vad.shape(270,)\n"
     ]
    },
    {
     "name": "stderr",
     "output_type": "stream",
     "text": [
      " 20%|█▉        | 1262/6394 [01:26<05:46, 14.82it/s]"
     ]
    },
    {
     "name": "stdout",
     "output_type": "stream",
     "text": [
      "features.shape(62, 747)\n",
      "vad.shape(747,)\n",
      "features.shape(62, 240)\n",
      "vad.shape(240,)\n"
     ]
    },
    {
     "name": "stderr",
     "output_type": "stream",
     "text": [
      " 20%|█▉        | 1266/6394 [01:26<06:44, 12.69it/s]"
     ]
    },
    {
     "name": "stdout",
     "output_type": "stream",
     "text": [
      "features.shape(62, 355)\n",
      "vad.shape(355,)\n",
      "features.shape(62, 295)\n",
      "vad.shape(295,)\n",
      "features.shape(62, 419)\n",
      "vad.shape(419,)\n"
     ]
    },
    {
     "name": "stderr",
     "output_type": "stream",
     "text": [
      " 20%|█▉        | 1268/6394 [01:26<06:51, 12.45it/s]"
     ]
    },
    {
     "name": "stdout",
     "output_type": "stream",
     "text": [
      "features.shape(62, 265)\n",
      "vad.shape(265,)\n",
      "features.shape(62, 389)\n",
      "vad.shape(389,)\n",
      "features.shape(62, 235)\n",
      "vad.shape(235,)\n"
     ]
    },
    {
     "name": "stderr",
     "output_type": "stream",
     "text": [
      " 20%|█▉        | 1273/6394 [01:27<06:02, 14.12it/s]"
     ]
    },
    {
     "name": "stdout",
     "output_type": "stream",
     "text": [
      "features.shape(62, 261)\n",
      "vad.shape(261,)\n",
      "features.shape(62, 252)\n",
      "vad.shape(252,)\n",
      "features.shape(62, 291)\n",
      "vad.shape(291,)\n",
      "features.shape(62, 265)\n",
      "vad.shape(265,)\n",
      "features.shape(62, 423)\n",
      "vad.shape(423,)\n"
     ]
    },
    {
     "name": "stderr",
     "output_type": "stream",
     "text": [
      " 20%|█▉        | 1277/6394 [01:27<05:52, 14.50it/s]"
     ]
    },
    {
     "name": "stdout",
     "output_type": "stream",
     "text": [
      "features.shape(62, 317)\n",
      "vad.shape(317,)\n",
      "features.shape(62, 363)\n",
      "vad.shape(363,)\n",
      "features.shape(62, 547)\n",
      "vad.shape(547,)\n",
      "features.shape(62, 368)\n",
      "vad.shape(368,)\n"
     ]
    },
    {
     "name": "stderr",
     "output_type": "stream",
     "text": [
      " 20%|██        | 1283/6394 [01:27<04:25, 19.27it/s]"
     ]
    },
    {
     "name": "stdout",
     "output_type": "stream",
     "text": [
      "features.shape(62, 295)\n",
      "vad.shape(295,)\n",
      "features.shape(62, 483)\n",
      "vad.shape(483,)\n",
      "features.shape(62, 266)\n",
      "vad.shape(266,)\n",
      "features.shape(62, 269)\n",
      "vad.shape(269,)\n",
      "features.shape(62, 312)\n",
      "vad.shape(312,)\n"
     ]
    },
    {
     "name": "stderr",
     "output_type": "stream",
     "text": [
      " 20%|██        | 1286/6394 [01:27<05:04, 16.79it/s]"
     ]
    },
    {
     "name": "stdout",
     "output_type": "stream",
     "text": [
      "features.shape(62, 329)\n",
      "vad.shape(329,)\n",
      "features.shape(62, 321)\n",
      "vad.shape(321,)\n",
      "features.shape(62, 372)\n",
      "vad.shape(372,)\n"
     ]
    },
    {
     "name": "stderr",
     "output_type": "stream",
     "text": [
      " 20%|██        | 1290/6394 [01:28<05:30, 15.42it/s]"
     ]
    },
    {
     "name": "stdout",
     "output_type": "stream",
     "text": [
      "features.shape(62, 257)\n",
      "vad.shape(257,)\n",
      "features.shape(62, 316)\n",
      "vad.shape(316,)\n",
      "features.shape(62, 317)\n",
      "vad.shape(317,)\n",
      "features.shape(62, 321)\n",
      "vad.shape(321,)\n"
     ]
    },
    {
     "name": "stderr",
     "output_type": "stream",
     "text": [
      " 20%|██        | 1292/6394 [01:28<05:59, 14.20it/s]"
     ]
    },
    {
     "name": "stdout",
     "output_type": "stream",
     "text": [
      "features.shape(62, 329)\n",
      "vad.shape(329,)\n",
      "features.shape(62, 193)\n",
      "vad.shape(193,)\n"
     ]
    },
    {
     "name": "stderr",
     "output_type": "stream",
     "text": [
      " 20%|██        | 1296/6394 [01:28<05:51, 14.52it/s]"
     ]
    },
    {
     "name": "stdout",
     "output_type": "stream",
     "text": [
      "features.shape(62, 415)\n",
      "vad.shape(415,)\n",
      "features.shape(62, 355)\n",
      "vad.shape(355,)\n",
      "features.shape(62, 436)\n",
      "vad.shape(436,)\n",
      "features.shape(62, 308)\n",
      "vad.shape(308,)\n"
     ]
    },
    {
     "name": "stderr",
     "output_type": "stream",
     "text": [
      " 20%|██        | 1300/6394 [01:28<05:22, 15.79it/s]"
     ]
    },
    {
     "name": "stdout",
     "output_type": "stream",
     "text": [
      "features.shape(62, 539)\n",
      "vad.shape(539,)\n",
      "features.shape(62, 368)\n",
      "vad.shape(368,)\n",
      "features.shape(62, 278)\n",
      "vad.shape(278,)\n",
      "features.shape(62, 321)\n",
      "vad.shape(321,)\n"
     ]
    },
    {
     "name": "stderr",
     "output_type": "stream",
     "text": [
      " 20%|██        | 1302/6394 [01:28<05:27, 15.54it/s]"
     ]
    },
    {
     "name": "stdout",
     "output_type": "stream",
     "text": [
      "features.shape(62, 325)\n",
      "vad.shape(325,)\n",
      "features.shape(62, 406)\n",
      "vad.shape(406,)\n",
      "features.shape(62, 210)\n",
      "vad.shape(210,)\n",
      "features.shape(62, 270)\n",
      "vad.shape(270,)\n",
      "features.shape(62, 312)\n",
      "vad.shape(312,)\n"
     ]
    },
    {
     "name": "stderr",
     "output_type": "stream",
     "text": [
      " 20%|██        | 1308/6394 [01:29<05:25, 15.64it/s]"
     ]
    },
    {
     "name": "stdout",
     "output_type": "stream",
     "text": [
      "features.shape(62, 253)\n",
      "vad.shape(253,)\n",
      "features.shape(62, 269)\n",
      "vad.shape(269,)\n",
      "features.shape(62, 355)\n",
      "vad.shape(355,)\n",
      "features.shape(62, 295)\n",
      "vad.shape(295,)\n"
     ]
    },
    {
     "name": "stderr",
     "output_type": "stream",
     "text": [
      " 21%|██        | 1311/6394 [01:29<05:02, 16.82it/s]"
     ]
    },
    {
     "name": "stdout",
     "output_type": "stream",
     "text": [
      "features.shape(62, 227)\n",
      "vad.shape(227,)\n",
      "features.shape(62, 551)\n",
      "vad.shape(551,)\n",
      "features.shape(62, 381)\n",
      "vad.shape(381,)\n"
     ]
    },
    {
     "name": "stderr",
     "output_type": "stream",
     "text": [
      " 21%|██        | 1315/6394 [01:29<05:35, 15.12it/s]"
     ]
    },
    {
     "name": "stdout",
     "output_type": "stream",
     "text": [
      "features.shape(62, 274)\n",
      "vad.shape(274,)\n",
      "features.shape(62, 261)\n",
      "vad.shape(261,)\n",
      "features.shape(62, 449)\n",
      "vad.shape(449,)\n"
     ]
    },
    {
     "name": "stderr",
     "output_type": "stream",
     "text": [
      " 21%|██        | 1317/6394 [01:29<05:46, 14.64it/s]"
     ]
    },
    {
     "name": "stdout",
     "output_type": "stream",
     "text": [
      "features.shape(62, 414)\n",
      "vad.shape(414,)\n",
      "features.shape(62, 287)\n",
      "vad.shape(287,)\n",
      "features.shape(62, 342)\n",
      "vad.shape(342,)\n"
     ]
    },
    {
     "name": "stderr",
     "output_type": "stream",
     "text": [
      " 21%|██        | 1321/6394 [01:30<06:01, 14.01it/s]"
     ]
    },
    {
     "name": "stdout",
     "output_type": "stream",
     "text": [
      "features.shape(62, 367)\n",
      "vad.shape(367,)\n",
      "features.shape(62, 534)\n",
      "vad.shape(534,)\n",
      "features.shape(62, 411)\n",
      "vad.shape(411,)\n",
      "features.shape(62, 440)\n",
      "vad.shape(440,)\n"
     ]
    },
    {
     "name": "stderr",
     "output_type": "stream",
     "text": [
      " 21%|██        | 1327/6394 [01:30<04:16, 19.72it/s]"
     ]
    },
    {
     "name": "stdout",
     "output_type": "stream",
     "text": [
      "features.shape(62, 402)\n",
      "vad.shape(402,)\n",
      "features.shape(62, 419)\n",
      "vad.shape(419,)\n",
      "features.shape(62, 394)\n",
      "vad.shape(394,)\n",
      "features.shape(62, 483)\n",
      "vad.shape(483,)\n",
      "features.shape(62, 385)\n",
      "vad.shape(385,)\n"
     ]
    },
    {
     "name": "stderr",
     "output_type": "stream",
     "text": [
      " 21%|██        | 1330/6394 [01:30<05:32, 15.21it/s]"
     ]
    },
    {
     "name": "stdout",
     "output_type": "stream",
     "text": [
      "features.shape(62, 252)\n",
      "vad.shape(252,)\n",
      "features.shape(62, 624)\n",
      "vad.shape(624,)\n",
      "features.shape(62, 261)\n",
      "vad.shape(261,)\n"
     ]
    },
    {
     "name": "stderr",
     "output_type": "stream",
     "text": [
      " 21%|██        | 1334/6394 [01:30<05:07, 16.47it/s]"
     ]
    },
    {
     "name": "stdout",
     "output_type": "stream",
     "text": [
      "features.shape(62, 308)\n",
      "vad.shape(308,)\n",
      "features.shape(62, 278)\n",
      "vad.shape(278,)\n",
      "features.shape(62, 380)\n",
      "vad.shape(380,)\n",
      "features.shape(62, 329)\n",
      "vad.shape(329,)\n"
     ]
    },
    {
     "name": "stderr",
     "output_type": "stream",
     "text": [
      " 21%|██        | 1339/6394 [01:31<04:32, 18.56it/s]"
     ]
    },
    {
     "name": "stdout",
     "output_type": "stream",
     "text": [
      "features.shape(62, 321)\n",
      "vad.shape(321,)\n",
      "features.shape(62, 287)\n",
      "vad.shape(287,)\n",
      "features.shape(62, 248)\n",
      "vad.shape(248,)\n",
      "features.shape(62, 359)\n",
      "vad.shape(359,)\n",
      "features.shape(62, 389)\n",
      "vad.shape(389,)\n",
      "features.shape(62, 321)\n",
      "vad.shape(321,)\n"
     ]
    },
    {
     "name": "stderr",
     "output_type": "stream",
     "text": [
      " 21%|██        | 1343/6394 [01:31<03:49, 21.99it/s]"
     ]
    },
    {
     "name": "stdout",
     "output_type": "stream",
     "text": [
      "features.shape(62, 287)\n",
      "vad.shape(287,)\n",
      "features.shape(62, 393)\n",
      "vad.shape(393,)\n",
      "features.shape(62, 364)\n",
      "vad.shape(364,)\n",
      "features.shape(62, 389)\n",
      "vad.shape(389,)\n",
      "features.shape(62, 462)\n",
      "vad.shape(462,)\n",
      "features.shape(62, 479)\n"
     ]
    },
    {
     "name": "stderr",
     "output_type": "stream",
     "text": [
      " 21%|██        | 1346/6394 [01:31<03:46, 22.33it/s]"
     ]
    },
    {
     "name": "stdout",
     "output_type": "stream",
     "text": [
      "vad.shape(479,)\n",
      "features.shape(62, 410)\n",
      "vad.shape(410,)\n",
      "features.shape(62, 257)\n",
      "vad.shape(257,)\n"
     ]
    },
    {
     "name": "stderr",
     "output_type": "stream",
     "text": [
      " 21%|██        | 1351/6394 [01:31<05:11, 16.18it/s]"
     ]
    },
    {
     "name": "stdout",
     "output_type": "stream",
     "text": [
      "features.shape(62, 308)\n",
      "vad.shape(308,)\n",
      "features.shape(62, 287)\n",
      "vad.shape(287,)\n",
      "features.shape(62, 291)\n",
      "vad.shape(291,)\n",
      "features.shape(62, 265)\n",
      "vad.shape(265,)\n"
     ]
    },
    {
     "name": "stderr",
     "output_type": "stream",
     "text": [
      " 21%|██        | 1356/6394 [01:32<04:36, 18.20it/s]"
     ]
    },
    {
     "name": "stdout",
     "output_type": "stream",
     "text": [
      "features.shape(62, 428)\n",
      "vad.shape(428,)\n",
      "features.shape(62, 376)\n",
      "vad.shape(376,)\n",
      "features.shape(62, 325)\n",
      "vad.shape(325,)\n",
      "features.shape(62, 295)\n",
      "vad.shape(295,)\n"
     ]
    },
    {
     "name": "stderr",
     "output_type": "stream",
     "text": [
      " 21%|██▏       | 1360/6394 [01:32<05:05, 16.45it/s]"
     ]
    },
    {
     "name": "stdout",
     "output_type": "stream",
     "text": [
      "features.shape(62, 253)\n",
      "vad.shape(253,)\n",
      "features.shape(62, 333)\n",
      "vad.shape(333,)\n",
      "features.shape(62, 227)\n",
      "vad.shape(227,)\n",
      "features.shape(62, 513)\n",
      "vad.shape(513,)\n",
      "features.shape(62, 389)\n"
     ]
    },
    {
     "name": "stderr",
     "output_type": "stream",
     "text": [
      " 21%|██▏       | 1362/6394 [01:32<05:38, 14.87it/s]"
     ]
    },
    {
     "name": "stdout",
     "output_type": "stream",
     "text": [
      "vad.shape(389,)\n",
      "features.shape(62, 350)\n",
      "vad.shape(350,)\n",
      "features.shape(62, 244)\n",
      "vad.shape(244,)\n"
     ]
    },
    {
     "name": "stderr",
     "output_type": "stream",
     "text": [
      " 21%|██▏       | 1367/6394 [01:32<04:29, 18.65it/s]"
     ]
    },
    {
     "name": "stdout",
     "output_type": "stream",
     "text": [
      "features.shape(62, 338)\n",
      "vad.shape(338,)\n",
      "features.shape(62, 329)\n",
      "vad.shape(329,)\n",
      "features.shape(62, 376)\n",
      "vad.shape(376,)\n",
      "features.shape(62, 325)\n",
      "vad.shape(325,)\n",
      "features.shape(62, 355)\n",
      "vad.shape(355,)\n"
     ]
    },
    {
     "name": "stderr",
     "output_type": "stream",
     "text": [
      " 21%|██▏       | 1371/6394 [01:33<05:07, 16.34it/s]"
     ]
    },
    {
     "name": "stdout",
     "output_type": "stream",
     "text": [
      "features.shape(62, 274)\n",
      "vad.shape(274,)\n",
      "features.shape(62, 423)\n",
      "vad.shape(423,)\n",
      "features.shape(62, 406)\n",
      "vad.shape(406,)\n"
     ]
    },
    {
     "name": "stderr",
     "output_type": "stream",
     "text": [
      " 21%|██▏       | 1373/6394 [01:33<05:55, 14.14it/s]"
     ]
    },
    {
     "name": "stdout",
     "output_type": "stream",
     "text": [
      "features.shape(62, 347)\n",
      "vad.shape(347,)\n",
      "features.shape(62, 478)\n",
      "vad.shape(478,)\n",
      "features.shape(62, 244)\n",
      "vad.shape(244,)\n",
      "features.shape(62, 304)\n",
      "vad.shape(304,)\n"
     ]
    },
    {
     "name": "stderr",
     "output_type": "stream",
     "text": [
      " 22%|██▏       | 1380/6394 [01:33<03:58, 21.04it/s]"
     ]
    },
    {
     "name": "stdout",
     "output_type": "stream",
     "text": [
      "features.shape(62, 329)\n",
      "vad.shape(329,)\n",
      "features.shape(62, 334)\n",
      "vad.shape(334,)\n",
      "features.shape(62, 304)\n",
      "vad.shape(304,)\n",
      "features.shape(62, 321)\n",
      "vad.shape(321,)\n",
      "features.shape(62, 393)\n",
      "vad.shape(393,)\n",
      "features.shape(62, 427)\n",
      "vad.shape(427,)\n",
      "features.shape(62, 300)\n",
      "vad.shape(300,)\n"
     ]
    },
    {
     "name": "stderr",
     "output_type": "stream",
     "text": [
      " 22%|██▏       | 1386/6394 [01:33<04:32, 18.37it/s]"
     ]
    },
    {
     "name": "stdout",
     "output_type": "stream",
     "text": [
      "features.shape(62, 235)\n",
      "vad.shape(235,)\n",
      "features.shape(62, 491)\n",
      "vad.shape(491,)\n",
      "features.shape(62, 440)\n",
      "vad.shape(440,)\n",
      "features.shape(62, 231)\n",
      "vad.shape(231,)\n",
      "features.shape(62, 658)\n",
      "vad.shape(658,)\n"
     ]
    },
    {
     "name": "stderr",
     "output_type": "stream",
     "text": [
      " 22%|██▏       | 1392/6394 [01:34<03:57, 21.04it/s]"
     ]
    },
    {
     "name": "stdout",
     "output_type": "stream",
     "text": [
      "features.shape(62, 402)\n",
      "vad.shape(402,)\n",
      "features.shape(62, 286)\n",
      "vad.shape(286,)\n",
      "features.shape(62, 308)\n",
      "vad.shape(308,)\n",
      "features.shape(62, 287)\n",
      "vad.shape(287,)\n",
      "features.shape(62, 321)\n",
      "vad.shape(321,)\n"
     ]
    },
    {
     "name": "stderr",
     "output_type": "stream",
     "text": [
      " 22%|██▏       | 1395/6394 [01:34<04:21, 19.13it/s]"
     ]
    },
    {
     "name": "stdout",
     "output_type": "stream",
     "text": [
      "features.shape(62, 270)\n",
      "vad.shape(270,)\n",
      "features.shape(62, 317)\n",
      "vad.shape(317,)\n",
      "features.shape(62, 231)\n",
      "vad.shape(231,)\n",
      "features.shape(62, 308)\n"
     ]
    },
    {
     "name": "stderr",
     "output_type": "stream",
     "text": [
      " 22%|██▏       | 1398/6394 [01:34<04:46, 17.44it/s]"
     ]
    },
    {
     "name": "stdout",
     "output_type": "stream",
     "text": [
      "vad.shape(308,)\n",
      "features.shape(62, 474)\n",
      "vad.shape(474,)\n",
      "features.shape(62, 398)\n",
      "vad.shape(398,)\n"
     ]
    },
    {
     "name": "stderr",
     "output_type": "stream",
     "text": [
      " 22%|██▏       | 1400/6394 [01:34<05:34, 14.91it/s]"
     ]
    },
    {
     "name": "stdout",
     "output_type": "stream",
     "text": [
      "features.shape(62, 338)\n",
      "vad.shape(338,)\n",
      "features.shape(62, 351)\n",
      "vad.shape(351,)\n",
      "features.shape(62, 231)\n",
      "vad.shape(231,)\n",
      "features.shape(62, 824)\n",
      "vad.shape(824,)\n"
     ]
    },
    {
     "name": "stderr",
     "output_type": "stream",
     "text": [
      " 22%|██▏       | 1405/6394 [01:34<04:55, 16.88it/s]"
     ]
    },
    {
     "name": "stdout",
     "output_type": "stream",
     "text": [
      "features.shape(62, 521)\n",
      "vad.shape(521,)\n",
      "features.shape(62, 444)\n",
      "vad.shape(444,)\n",
      "features.shape(62, 201)\n",
      "vad.shape(201,)\n",
      "features.shape(62, 308)\n",
      "vad.shape(308,)\n"
     ]
    },
    {
     "name": "stderr",
     "output_type": "stream",
     "text": [
      " 22%|██▏       | 1407/6394 [01:35<04:52, 17.04it/s]"
     ]
    },
    {
     "name": "stdout",
     "output_type": "stream",
     "text": [
      "features.shape(62, 205)\n",
      "vad.shape(205,)\n",
      "features.shape(62, 299)\n",
      "vad.shape(299,)\n",
      "features.shape(62, 338)\n",
      "vad.shape(338,)\n"
     ]
    },
    {
     "name": "stderr",
     "output_type": "stream",
     "text": [
      " 22%|██▏       | 1414/6394 [01:35<04:55, 16.85it/s]"
     ]
    },
    {
     "name": "stdout",
     "output_type": "stream",
     "text": [
      "features.shape(62, 265)\n",
      "vad.shape(265,)\n",
      "features.shape(62, 291)\n",
      "vad.shape(291,)\n",
      "features.shape(62, 312)\n",
      "vad.shape(312,)\n",
      "features.shape(62, 381)\n",
      "vad.shape(381,)\n",
      "features.shape(62, 248)\n",
      "vad.shape(248,)\n"
     ]
    },
    {
     "name": "stderr",
     "output_type": "stream",
     "text": [
      " 22%|██▏       | 1418/6394 [01:35<04:10, 19.86it/s]"
     ]
    },
    {
     "name": "stdout",
     "output_type": "stream",
     "text": [
      "features.shape(62, 325)\n",
      "vad.shape(325,)\n",
      "features.shape(62, 419)\n",
      "vad.shape(419,)\n",
      "features.shape(62, 368)\n",
      "vad.shape(368,)\n",
      "features.shape(62, 291)\n",
      "vad.shape(291,)\n",
      "features.shape(62, 385)\n",
      "vad.shape(385,)\n"
     ]
    },
    {
     "name": "stderr",
     "output_type": "stream",
     "text": [
      " 22%|██▏       | 1423/6394 [01:35<04:40, 17.73it/s]"
     ]
    },
    {
     "name": "stdout",
     "output_type": "stream",
     "text": [
      "features.shape(62, 380)\n",
      "vad.shape(380,)\n",
      "features.shape(62, 492)\n",
      "vad.shape(492,)\n",
      "features.shape(62, 748)\n",
      "vad.shape(748,)\n",
      "features.shape(62, 189)\n",
      "vad.shape(189,)\n"
     ]
    },
    {
     "name": "stderr",
     "output_type": "stream",
     "text": [
      " 22%|██▏       | 1425/6394 [01:36<05:57, 13.91it/s]"
     ]
    },
    {
     "name": "stdout",
     "output_type": "stream",
     "text": [
      "features.shape(62, 261)\n",
      "vad.shape(261,)\n",
      "features.shape(62, 214)\n",
      "vad.shape(214,)\n",
      "features.shape(62, 428)\n",
      "vad.shape(428,)\n"
     ]
    },
    {
     "name": "stderr",
     "output_type": "stream",
     "text": [
      " 22%|██▏       | 1429/6394 [01:36<05:16, 15.70it/s]"
     ]
    },
    {
     "name": "stdout",
     "output_type": "stream",
     "text": [
      "features.shape(62, 376)\n",
      "vad.shape(376,)\n",
      "features.shape(62, 261)\n",
      "vad.shape(261,)\n",
      "features.shape(62, 586)\n",
      "vad.shape(586,)\n",
      "features.shape(62, 287)\n",
      "vad.shape(287,)\n",
      "features.shape(62, 338)\n",
      "vad.shape(338,)\n"
     ]
    },
    {
     "name": "stderr",
     "output_type": "stream",
     "text": [
      " 22%|██▏       | 1434/6394 [01:36<05:10, 15.99it/s]"
     ]
    },
    {
     "name": "stdout",
     "output_type": "stream",
     "text": [
      "features.shape(62, 334)\n",
      "vad.shape(334,)\n",
      "features.shape(62, 265)\n",
      "vad.shape(265,)\n",
      "features.shape(62, 333)\n",
      "vad.shape(333,)\n"
     ]
    },
    {
     "name": "stderr",
     "output_type": "stream",
     "text": [
      " 23%|██▎       | 1440/6394 [01:36<03:59, 20.68it/s]"
     ]
    },
    {
     "name": "stdout",
     "output_type": "stream",
     "text": [
      "features.shape(62, 261)\n",
      "vad.shape(261,)\n",
      "features.shape(62, 346)\n",
      "vad.shape(346,)\n",
      "features.shape(62, 466)\n",
      "vad.shape(466,)\n",
      "features.shape(62, 393)\n",
      "vad.shape(393,)\n",
      "features.shape(62, 423)\n",
      "vad.shape(423,)\n",
      "features.shape(62, 308)\n",
      "vad.shape(308,)\n"
     ]
    },
    {
     "name": "stderr",
     "output_type": "stream",
     "text": [
      " 23%|██▎       | 1443/6394 [01:37<05:18, 15.53it/s]"
     ]
    },
    {
     "name": "stdout",
     "output_type": "stream",
     "text": [
      "features.shape(62, 235)\n",
      "vad.shape(235,)\n",
      "features.shape(62, 351)\n",
      "vad.shape(351,)\n",
      "features.shape(62, 278)\n",
      "vad.shape(278,)\n"
     ]
    },
    {
     "name": "stderr",
     "output_type": "stream",
     "text": [
      " 23%|██▎       | 1447/6394 [01:37<04:18, 19.13it/s]"
     ]
    },
    {
     "name": "stdout",
     "output_type": "stream",
     "text": [
      "features.shape(62, 376)\n",
      "vad.shape(376,)\n",
      "features.shape(62, 270)\n",
      "vad.shape(270,)\n",
      "features.shape(62, 428)\n",
      "vad.shape(428,)\n",
      "features.shape(62, 329)\n",
      "vad.shape(329,)\n",
      "features.shape(62, 338)\n",
      "vad.shape(338,)\n",
      "features.shape(62, 402)\n",
      "vad.shape(402,)\n"
     ]
    },
    {
     "name": "stderr",
     "output_type": "stream",
     "text": [
      " 23%|██▎       | 1453/6394 [01:37<04:19, 19.02it/s]"
     ]
    },
    {
     "name": "stdout",
     "output_type": "stream",
     "text": [
      "features.shape(62, 295)\n",
      "vad.shape(295,)\n",
      "features.shape(62, 457)\n",
      "vad.shape(457,)\n",
      "features.shape(62, 317)\n",
      "vad.shape(317,)\n",
      "features.shape(62, 372)\n",
      "vad.shape(372,)\n"
     ]
    },
    {
     "name": "stderr",
     "output_type": "stream",
     "text": [
      " 23%|██▎       | 1456/6394 [01:38<10:10,  8.09it/s]"
     ]
    },
    {
     "name": "stdout",
     "output_type": "stream",
     "text": [
      "features.shape(62, 248)\n",
      "vad.shape(248,)\n",
      "features.shape(62, 1178)\n",
      "vad.shape(1178,)\n",
      "features.shape(62, 334)\n",
      "vad.shape(334,)\n",
      "features.shape(62, 475)\n",
      "vad.shape(475,)\n",
      "features.shape(62, 389)\n",
      "vad.shape(389,)\n"
     ]
    },
    {
     "name": "stderr",
     "output_type": "stream",
     "text": [
      " 23%|██▎       | 1461/6394 [01:38<07:48, 10.52it/s]"
     ]
    },
    {
     "name": "stdout",
     "output_type": "stream",
     "text": [
      "features.shape(62, 159)\n",
      "vad.shape(159,)\n",
      "features.shape(62, 359)\n",
      "vad.shape(359,)\n",
      "features.shape(62, 312)\n",
      "vad.shape(312,)\n"
     ]
    },
    {
     "name": "stderr",
     "output_type": "stream",
     "text": [
      " 23%|██▎       | 1463/6394 [01:38<07:11, 11.44it/s]"
     ]
    },
    {
     "name": "stdout",
     "output_type": "stream",
     "text": [
      "features.shape(62, 419)\n",
      "vad.shape(419,)\n",
      "features.shape(62, 316)\n",
      "vad.shape(316,)\n",
      "features.shape(62, 329)\n",
      "vad.shape(329,)\n",
      "features.shape(62, 282)\n",
      "vad.shape(282,)\n",
      "features.shape(62, 304)\n",
      "vad.shape(304,)\n"
     ]
    },
    {
     "name": "stderr",
     "output_type": "stream",
     "text": [
      " 23%|██▎       | 1469/6394 [01:39<06:07, 13.41it/s]"
     ]
    },
    {
     "name": "stdout",
     "output_type": "stream",
     "text": [
      "features.shape(62, 227)\n",
      "vad.shape(227,)\n",
      "features.shape(62, 402)\n",
      "vad.shape(402,)\n",
      "features.shape(62, 218)\n",
      "vad.shape(218,)\n"
     ]
    },
    {
     "name": "stderr",
     "output_type": "stream",
     "text": [
      " 23%|██▎       | 1471/6394 [01:39<06:06, 13.42it/s]"
     ]
    },
    {
     "name": "stdout",
     "output_type": "stream",
     "text": [
      "features.shape(62, 368)\n",
      "vad.shape(368,)\n",
      "features.shape(62, 218)\n",
      "vad.shape(218,)\n",
      "features.shape(62, 308)\n",
      "vad.shape(308,)\n",
      "features.shape(62, 325)\n",
      "vad.shape(325,)\n"
     ]
    },
    {
     "name": "stderr",
     "output_type": "stream",
     "text": [
      " 23%|██▎       | 1476/6394 [01:39<05:45, 14.23it/s]"
     ]
    },
    {
     "name": "stdout",
     "output_type": "stream",
     "text": [
      "features.shape(62, 218)\n",
      "vad.shape(218,)\n",
      "features.shape(62, 590)\n",
      "vad.shape(590,)\n",
      "features.shape(62, 982)\n",
      "vad.shape(982,)\n"
     ]
    },
    {
     "name": "stderr",
     "output_type": "stream",
     "text": [
      " 23%|██▎       | 1478/6394 [01:39<06:10, 13.28it/s]"
     ]
    },
    {
     "name": "stdout",
     "output_type": "stream",
     "text": [
      "features.shape(62, 257)\n",
      "vad.shape(257,)\n",
      "features.shape(62, 325)\n",
      "vad.shape(325,)\n",
      "features.shape(62, 423)\n",
      "vad.shape(423,)\n"
     ]
    },
    {
     "name": "stderr",
     "output_type": "stream",
     "text": [
      " 23%|██▎       | 1480/6394 [01:40<06:14, 13.14it/s]"
     ]
    },
    {
     "name": "stdout",
     "output_type": "stream",
     "text": [
      "features.shape(62, 402)\n",
      "vad.shape(402,)\n",
      "features.shape(62, 385)\n",
      "vad.shape(385,)\n",
      "features.shape(62, 351)\n",
      "vad.shape(351,)\n",
      "features.shape(62, 189)\n",
      "vad.shape(189,)\n"
     ]
    },
    {
     "name": "stderr",
     "output_type": "stream",
     "text": [
      " 23%|██▎       | 1485/6394 [01:40<06:08, 13.34it/s]"
     ]
    },
    {
     "name": "stdout",
     "output_type": "stream",
     "text": [
      "features.shape(62, 372)\n",
      "vad.shape(372,)\n",
      "features.shape(62, 436)\n",
      "vad.shape(436,)\n",
      "features.shape(62, 346)\n",
      "vad.shape(346,)\n",
      "features.shape(62, 372)\n",
      "vad.shape(372,)\n"
     ]
    },
    {
     "name": "stderr",
     "output_type": "stream",
     "text": [
      " 23%|██▎       | 1491/6394 [01:40<05:12, 15.70it/s]"
     ]
    },
    {
     "name": "stdout",
     "output_type": "stream",
     "text": [
      "features.shape(62, 321)\n",
      "vad.shape(321,)\n",
      "features.shape(62, 244)\n",
      "vad.shape(244,)\n",
      "features.shape(62, 393)\n",
      "vad.shape(393,)\n",
      "features.shape(62, 261)\n",
      "vad.shape(261,)\n"
     ]
    },
    {
     "name": "stderr",
     "output_type": "stream",
     "text": [
      " 23%|██▎       | 1493/6394 [01:41<06:12, 13.17it/s]"
     ]
    },
    {
     "name": "stdout",
     "output_type": "stream",
     "text": [
      "features.shape(62, 214)\n",
      "vad.shape(214,)\n",
      "features.shape(62, 304)\n",
      "vad.shape(304,)\n",
      "features.shape(62, 291)\n",
      "vad.shape(291,)\n"
     ]
    },
    {
     "name": "stderr",
     "output_type": "stream",
     "text": [
      " 23%|██▎       | 1497/6394 [01:41<06:19, 12.90it/s]"
     ]
    },
    {
     "name": "stdout",
     "output_type": "stream",
     "text": [
      "features.shape(62, 525)\n",
      "vad.shape(525,)\n",
      "features.shape(62, 265)\n",
      "vad.shape(265,)\n",
      "features.shape(62, 359)\n",
      "vad.shape(359,)\n"
     ]
    },
    {
     "name": "stderr",
     "output_type": "stream",
     "text": [
      " 23%|██▎       | 1499/6394 [01:41<06:49, 11.95it/s]"
     ]
    },
    {
     "name": "stdout",
     "output_type": "stream",
     "text": [
      "features.shape(62, 312)\n",
      "vad.shape(312,)\n",
      "features.shape(62, 231)\n",
      "vad.shape(231,)\n",
      "features.shape(62, 300)\n",
      "vad.shape(300,)\n"
     ]
    },
    {
     "name": "stderr",
     "output_type": "stream",
     "text": [
      " 24%|██▎       | 1503/6394 [01:41<06:14, 13.06it/s]"
     ]
    },
    {
     "name": "stdout",
     "output_type": "stream",
     "text": [
      "features.shape(62, 359)\n",
      "vad.shape(359,)\n",
      "features.shape(62, 257)\n",
      "vad.shape(257,)\n",
      "features.shape(62, 427)\n",
      "vad.shape(427,)\n",
      "features.shape(62, 257)\n"
     ]
    },
    {
     "name": "stderr",
     "output_type": "stream",
     "text": [
      " 24%|██▎       | 1505/6394 [01:41<06:02, 13.49it/s]"
     ]
    },
    {
     "name": "stdout",
     "output_type": "stream",
     "text": [
      "vad.shape(257,)\n",
      "features.shape(62, 483)\n",
      "vad.shape(483,)\n",
      "features.shape(62, 325)\n",
      "vad.shape(325,)\n"
     ]
    },
    {
     "name": "stderr",
     "output_type": "stream",
     "text": [
      " 24%|██▎       | 1507/6394 [01:42<07:15, 11.22it/s]"
     ]
    },
    {
     "name": "stdout",
     "output_type": "stream",
     "text": [
      "features.shape(62, 261)\n",
      "vad.shape(261,)\n",
      "features.shape(62, 274)\n",
      "vad.shape(274,)\n",
      "features.shape(62, 346)\n",
      "vad.shape(346,)\n"
     ]
    },
    {
     "name": "stderr",
     "output_type": "stream",
     "text": [
      " 24%|██▎       | 1513/6394 [01:42<05:23, 15.08it/s]"
     ]
    },
    {
     "name": "stdout",
     "output_type": "stream",
     "text": [
      "features.shape(62, 244)\n",
      "vad.shape(244,)\n",
      "features.shape(62, 466)\n",
      "vad.shape(466,)\n",
      "features.shape(62, 269)\n",
      "vad.shape(269,)\n",
      "features.shape(62, 295)\n",
      "vad.shape(295,)\n",
      "features.shape(62, 235)\n",
      "vad.shape(235,)\n"
     ]
    },
    {
     "name": "stderr",
     "output_type": "stream",
     "text": [
      " 24%|██▎       | 1515/6394 [01:42<05:36, 14.49it/s]"
     ]
    },
    {
     "name": "stdout",
     "output_type": "stream",
     "text": [
      "features.shape(62, 564)\n",
      "vad.shape(564,)\n",
      "features.shape(62, 248)\n",
      "vad.shape(248,)\n"
     ]
    },
    {
     "name": "stderr",
     "output_type": "stream",
     "text": [
      " 24%|██▍       | 1521/6394 [01:43<05:05, 15.93it/s]"
     ]
    },
    {
     "name": "stdout",
     "output_type": "stream",
     "text": [
      "features.shape(62, 248)\n",
      "vad.shape(248,)\n",
      "features.shape(62, 346)\n",
      "vad.shape(346,)\n",
      "features.shape(62, 462)\n",
      "vad.shape(462,)\n",
      "features.shape(62, 329)\n",
      "vad.shape(329,)\n",
      "features.shape(62, 317)\n",
      "vad.shape(317,)\n"
     ]
    },
    {
     "name": "stderr",
     "output_type": "stream",
     "text": [
      " 24%|██▍       | 1523/6394 [01:43<05:25, 14.97it/s]"
     ]
    },
    {
     "name": "stdout",
     "output_type": "stream",
     "text": [
      "features.shape(62, 299)\n",
      "vad.shape(299,)\n",
      "features.shape(62, 329)\n",
      "vad.shape(329,)\n",
      "features.shape(62, 419)\n",
      "vad.shape(419,)\n"
     ]
    },
    {
     "name": "stderr",
     "output_type": "stream",
     "text": [
      " 24%|██▍       | 1527/6394 [01:43<05:34, 14.57it/s]"
     ]
    },
    {
     "name": "stdout",
     "output_type": "stream",
     "text": [
      "features.shape(62, 385)\n",
      "vad.shape(385,)\n",
      "features.shape(62, 321)\n",
      "vad.shape(321,)\n",
      "features.shape(62, 419)\n",
      "vad.shape(419,)\n",
      "features.shape(62, 325)\n",
      "vad.shape(325,)\n",
      "features.shape(62, 406)\n",
      "vad.shape(406,)\n",
      "features.shape(62, 283)\n",
      "vad.shape(283,)\n"
     ]
    },
    {
     "name": "stderr",
     "output_type": "stream",
     "text": [
      " 24%|██▍       | 1534/6394 [01:43<04:18, 18.78it/s]"
     ]
    },
    {
     "name": "stdout",
     "output_type": "stream",
     "text": [
      "features.shape(62, 342)\n",
      "vad.shape(342,)\n",
      "features.shape(62, 231)\n",
      "vad.shape(231,)\n",
      "features.shape(62, 376)\n",
      "vad.shape(376,)\n",
      "features.shape(62, 257)\n",
      "vad.shape(257,)\n",
      "features.shape(62, 368)\n",
      "vad.shape(368,)\n"
     ]
    },
    {
     "name": "stderr",
     "output_type": "stream",
     "text": [
      " 24%|██▍       | 1537/6394 [01:43<04:21, 18.55it/s]"
     ]
    },
    {
     "name": "stdout",
     "output_type": "stream",
     "text": [
      "features.shape(62, 274)\n",
      "vad.shape(274,)\n",
      "features.shape(62, 240)\n",
      "vad.shape(240,)\n",
      "features.shape(62, 338)\n",
      "vad.shape(338,)\n",
      "features.shape(62, 265)\n",
      "vad.shape(265,)\n",
      "features.shape(62, 308)\n",
      "vad.shape(308,)\n"
     ]
    },
    {
     "name": "stderr",
     "output_type": "stream",
     "text": [
      " 24%|██▍       | 1543/6394 [01:44<04:10, 19.34it/s]"
     ]
    },
    {
     "name": "stdout",
     "output_type": "stream",
     "text": [
      "features.shape(62, 265)\n",
      "vad.shape(265,)\n",
      "features.shape(62, 564)\n",
      "vad.shape(564,)\n",
      "features.shape(62, 368)\n",
      "vad.shape(368,)\n",
      "features.shape(62, 372)\n",
      "vad.shape(372,)\n"
     ]
    },
    {
     "name": "stderr",
     "output_type": "stream",
     "text": [
      " 24%|██▍       | 1549/6394 [01:44<03:50, 20.99it/s]"
     ]
    },
    {
     "name": "stdout",
     "output_type": "stream",
     "text": [
      "features.shape(62, 248)\n",
      "vad.shape(248,)\n",
      "features.shape(62, 321)\n",
      "vad.shape(321,)\n",
      "features.shape(62, 415)\n",
      "vad.shape(415,)\n",
      "features.shape(62, 406)\n",
      "vad.shape(406,)\n",
      "features.shape(62, 248)\n",
      "vad.shape(248,)\n",
      "features.shape(62, 334)\n",
      "vad.shape(334,)\n"
     ]
    },
    {
     "name": "stderr",
     "output_type": "stream",
     "text": [
      " 24%|██▍       | 1555/6394 [01:44<03:25, 23.49it/s]"
     ]
    },
    {
     "name": "stdout",
     "output_type": "stream",
     "text": [
      "features.shape(62, 312)\n",
      "vad.shape(312,)\n",
      "features.shape(62, 300)\n",
      "vad.shape(300,)\n",
      "features.shape(62, 342)\n",
      "vad.shape(342,)\n",
      "features.shape(62, 274)\n",
      "vad.shape(274,)\n",
      "features.shape(62, 287)\n",
      "vad.shape(287,)\n",
      "features.shape(62, 308)\n",
      "vad.shape(308,)\n"
     ]
    },
    {
     "name": "stderr",
     "output_type": "stream",
     "text": [
      " 24%|██▍       | 1558/6394 [01:44<03:57, 20.36it/s]"
     ]
    },
    {
     "name": "stdout",
     "output_type": "stream",
     "text": [
      "features.shape(62, 235)\n",
      "vad.shape(235,)\n",
      "features.shape(62, 295)\n",
      "vad.shape(295,)\n",
      "features.shape(62, 641)\n",
      "vad.shape(641,)\n"
     ]
    },
    {
     "name": "stderr",
     "output_type": "stream",
     "text": [
      " 24%|██▍       | 1564/6394 [01:45<04:10, 19.30it/s]"
     ]
    },
    {
     "name": "stdout",
     "output_type": "stream",
     "text": [
      "features.shape(62, 457)\n",
      "vad.shape(457,)\n",
      "features.shape(62, 602)\n",
      "vad.shape(602,)\n",
      "features.shape(62, 466)\n",
      "vad.shape(466,)\n",
      "features.shape(62, 385)\n",
      "vad.shape(385,)\n",
      "features.shape(62, 351)\n",
      "vad.shape(351,)\n"
     ]
    },
    {
     "name": "stderr",
     "output_type": "stream",
     "text": [
      " 25%|██▍       | 1567/6394 [01:45<04:53, 16.47it/s]"
     ]
    },
    {
     "name": "stdout",
     "output_type": "stream",
     "text": [
      "features.shape(62, 317)\n",
      "vad.shape(317,)\n",
      "features.shape(62, 359)\n",
      "vad.shape(359,)\n",
      "features.shape(62, 253)\n",
      "vad.shape(253,)\n"
     ]
    },
    {
     "name": "stderr",
     "output_type": "stream",
     "text": [
      " 25%|██▍       | 1572/6394 [01:45<04:34, 17.58it/s]"
     ]
    },
    {
     "name": "stdout",
     "output_type": "stream",
     "text": [
      "features.shape(62, 274)\n",
      "vad.shape(274,)\n",
      "features.shape(62, 295)\n",
      "vad.shape(295,)\n",
      "features.shape(62, 210)\n",
      "vad.shape(210,)\n",
      "features.shape(62, 312)\n",
      "vad.shape(312,)\n",
      "features.shape(62, 359)\n",
      "vad.shape(359,)\n"
     ]
    },
    {
     "name": "stderr",
     "output_type": "stream",
     "text": [
      " 25%|██▍       | 1574/6394 [01:45<04:39, 17.23it/s]"
     ]
    },
    {
     "name": "stdout",
     "output_type": "stream",
     "text": [
      "features.shape(62, 389)\n",
      "vad.shape(389,)\n",
      "features.shape(62, 291)\n",
      "vad.shape(291,)\n",
      "features.shape(62, 346)\n",
      "vad.shape(346,)\n"
     ]
    },
    {
     "name": "stderr",
     "output_type": "stream",
     "text": [
      " 25%|██▍       | 1578/6394 [01:46<04:55, 16.29it/s]"
     ]
    },
    {
     "name": "stdout",
     "output_type": "stream",
     "text": [
      "features.shape(62, 513)\n",
      "vad.shape(513,)\n",
      "features.shape(62, 231)\n",
      "vad.shape(231,)\n",
      "features.shape(62, 325)\n",
      "vad.shape(325,)\n",
      "features.shape(62, 385)\n",
      "vad.shape(385,)\n",
      "features.shape(62, 329)\n",
      "vad.shape(329,)\n"
     ]
    },
    {
     "name": "stderr",
     "output_type": "stream",
     "text": [
      " 25%|██▍       | 1582/6394 [01:46<03:54, 20.54it/s]"
     ]
    },
    {
     "name": "stdout",
     "output_type": "stream",
     "text": [
      "features.shape(62, 474)\n",
      "vad.shape(474,)\n",
      "features.shape(62, 346)\n",
      "vad.shape(346,)\n",
      "features.shape(62, 295)\n",
      "vad.shape(295,)\n",
      "features.shape(62, 312)\n",
      "vad.shape(312,)\n"
     ]
    },
    {
     "name": "stderr",
     "output_type": "stream",
     "text": [
      " 25%|██▍       | 1588/6394 [01:46<04:15, 18.78it/s]"
     ]
    },
    {
     "name": "stdout",
     "output_type": "stream",
     "text": [
      "features.shape(62, 726)\n",
      "vad.shape(726,)\n",
      "features.shape(62, 380)\n",
      "vad.shape(380,)\n",
      "features.shape(62, 248)\n",
      "vad.shape(248,)\n",
      "features.shape(62, 265)\n",
      "vad.shape(265,)\n",
      "features.shape(62, 282)\n",
      "vad.shape(282,)\n"
     ]
    },
    {
     "name": "stderr",
     "output_type": "stream",
     "text": [
      " 25%|██▍       | 1594/6394 [01:46<04:00, 19.93it/s]"
     ]
    },
    {
     "name": "stdout",
     "output_type": "stream",
     "text": [
      "features.shape(62, 462)\n",
      "vad.shape(462,)\n",
      "features.shape(62, 462)\n",
      "vad.shape(462,)\n",
      "features.shape(62, 487)\n",
      "vad.shape(487,)\n",
      "features.shape(62, 453)\n",
      "vad.shape(453,)\n",
      "features.shape(62, 496)\n",
      "vad.shape(496,)\n"
     ]
    },
    {
     "name": "stderr",
     "output_type": "stream",
     "text": [
      " 25%|██▌       | 1600/6394 [01:47<03:29, 22.90it/s]"
     ]
    },
    {
     "name": "stdout",
     "output_type": "stream",
     "text": [
      "features.shape(62, 278)\n",
      "vad.shape(278,)\n",
      "features.shape(62, 376)\n",
      "vad.shape(376,)\n",
      "features.shape(62, 282)\n",
      "vad.shape(282,)\n",
      "features.shape(62, 291)\n",
      "vad.shape(291,)\n",
      "features.shape(62, 214)\n",
      "vad.shape(214,)\n",
      "features.shape(62, 359)\n",
      "vad.shape(359,)\n"
     ]
    },
    {
     "name": "stderr",
     "output_type": "stream",
     "text": [
      " 25%|██▌       | 1603/6394 [01:47<04:18, 18.51it/s]"
     ]
    },
    {
     "name": "stdout",
     "output_type": "stream",
     "text": [
      "features.shape(62, 406)\n",
      "vad.shape(406,)\n",
      "features.shape(62, 368)\n",
      "vad.shape(368,)\n",
      "features.shape(62, 248)\n",
      "vad.shape(248,)\n"
     ]
    },
    {
     "name": "stderr",
     "output_type": "stream",
     "text": [
      " 25%|██▌       | 1606/6394 [01:47<04:34, 17.45it/s]"
     ]
    },
    {
     "name": "stdout",
     "output_type": "stream",
     "text": [
      "features.shape(62, 368)\n",
      "vad.shape(368,)\n",
      "features.shape(62, 427)\n",
      "vad.shape(427,)\n",
      "features.shape(62, 283)\n",
      "vad.shape(283,)\n",
      "features.shape(62, 380)\n",
      "vad.shape(380,)\n",
      "features.shape(62, 398)\n",
      "vad.shape(398,)\n"
     ]
    },
    {
     "name": "stderr",
     "output_type": "stream",
     "text": [
      " 25%|██▌       | 1609/6394 [01:47<04:07, 19.37it/s]"
     ]
    },
    {
     "name": "stdout",
     "output_type": "stream",
     "text": [
      "features.shape(62, 351)\n",
      "vad.shape(351,)\n",
      "features.shape(62, 389)\n",
      "vad.shape(389,)\n",
      "features.shape(62, 359)\n",
      "vad.shape(359,)\n"
     ]
    },
    {
     "name": "stderr",
     "output_type": "stream",
     "text": [
      " 25%|██▌       | 1614/6394 [01:48<04:40, 17.07it/s]"
     ]
    },
    {
     "name": "stdout",
     "output_type": "stream",
     "text": [
      "features.shape(62, 701)\n",
      "vad.shape(701,)\n",
      "features.shape(62, 411)\n",
      "vad.shape(411,)\n",
      "features.shape(62, 210)\n",
      "vad.shape(210,)\n",
      "features.shape(62, 496)\n",
      "vad.shape(496,)\n",
      "features.shape(62, 295)\n",
      "vad.shape(295,)\n"
     ]
    },
    {
     "name": "stderr",
     "output_type": "stream",
     "text": [
      " 25%|██▌       | 1620/6394 [01:48<04:16, 18.61it/s]"
     ]
    },
    {
     "name": "stdout",
     "output_type": "stream",
     "text": [
      "features.shape(62, 359)\n",
      "vad.shape(359,)\n",
      "features.shape(62, 393)\n",
      "vad.shape(393,)\n",
      "features.shape(62, 270)\n",
      "vad.shape(270,)\n",
      "features.shape(62, 432)\n",
      "vad.shape(432,)\n"
     ]
    },
    {
     "name": "stderr",
     "output_type": "stream",
     "text": [
      " 25%|██▌       | 1622/6394 [01:48<04:46, 16.68it/s]"
     ]
    },
    {
     "name": "stdout",
     "output_type": "stream",
     "text": [
      "features.shape(62, 376)\n",
      "vad.shape(376,)\n",
      "features.shape(62, 330)\n",
      "vad.shape(330,)\n",
      "features.shape(62, 287)\n",
      "vad.shape(287,)\n"
     ]
    },
    {
     "name": "stderr",
     "output_type": "stream",
     "text": [
      " 25%|██▌       | 1626/6394 [01:48<05:20, 14.89it/s]"
     ]
    },
    {
     "name": "stdout",
     "output_type": "stream",
     "text": [
      "features.shape(62, 235)\n",
      "vad.shape(235,)\n",
      "features.shape(62, 244)\n",
      "vad.shape(244,)\n",
      "features.shape(62, 299)\n",
      "vad.shape(299,)\n",
      "features.shape(62, 240)\n",
      "vad.shape(240,)\n"
     ]
    },
    {
     "name": "stderr",
     "output_type": "stream",
     "text": [
      " 25%|██▌       | 1630/6394 [01:49<05:41, 13.96it/s]"
     ]
    },
    {
     "name": "stdout",
     "output_type": "stream",
     "text": [
      "features.shape(62, 363)\n",
      "vad.shape(363,)\n",
      "features.shape(62, 261)\n",
      "vad.shape(261,)\n",
      "features.shape(62, 394)\n",
      "vad.shape(394,)\n",
      "features.shape(62, 423)\n"
     ]
    },
    {
     "name": "stderr",
     "output_type": "stream",
     "text": [
      " 26%|██▌       | 1632/6394 [01:49<05:48, 13.66it/s]"
     ]
    },
    {
     "name": "stdout",
     "output_type": "stream",
     "text": [
      "vad.shape(423,)\n",
      "features.shape(62, 364)\n",
      "vad.shape(364,)\n",
      "features.shape(62, 299)\n",
      "vad.shape(299,)\n",
      "features.shape(62, 483)\n",
      "vad.shape(483,)\n"
     ]
    },
    {
     "name": "stderr",
     "output_type": "stream",
     "text": [
      " 26%|██▌       | 1637/6394 [01:49<05:12, 15.24it/s]"
     ]
    },
    {
     "name": "stdout",
     "output_type": "stream",
     "text": [
      "features.shape(62, 312)\n",
      "vad.shape(312,)\n",
      "features.shape(62, 227)\n",
      "vad.shape(227,)\n",
      "features.shape(62, 295)\n",
      "vad.shape(295,)\n"
     ]
    },
    {
     "name": "stderr",
     "output_type": "stream",
     "text": [
      " 26%|██▌       | 1639/6394 [01:49<05:31, 14.35it/s]"
     ]
    },
    {
     "name": "stdout",
     "output_type": "stream",
     "text": [
      "features.shape(62, 270)\n",
      "vad.shape(270,)\n",
      "features.shape(62, 291)\n",
      "vad.shape(291,)\n",
      "features.shape(62, 278)\n",
      "vad.shape(278,)\n"
     ]
    },
    {
     "name": "stderr",
     "output_type": "stream",
     "text": [
      " 26%|██▌       | 1645/6394 [01:50<04:24, 17.95it/s]"
     ]
    },
    {
     "name": "stdout",
     "output_type": "stream",
     "text": [
      "features.shape(62, 312)\n",
      "vad.shape(312,)\n",
      "features.shape(62, 304)\n",
      "vad.shape(304,)\n",
      "features.shape(62, 333)\n",
      "vad.shape(333,)\n",
      "features.shape(62, 423)\n",
      "vad.shape(423,)\n",
      "features.shape(62, 316)\n",
      "vad.shape(316,)\n",
      "features.shape(62, 329)\n",
      "vad.shape(329,)\n"
     ]
    },
    {
     "name": "stderr",
     "output_type": "stream",
     "text": [
      " 26%|██▌       | 1648/6394 [01:50<04:14, 18.68it/s]"
     ]
    },
    {
     "name": "stdout",
     "output_type": "stream",
     "text": [
      "features.shape(62, 240)\n",
      "vad.shape(240,)\n",
      "features.shape(62, 342)\n",
      "vad.shape(342,)\n",
      "features.shape(62, 381)\n",
      "vad.shape(381,)\n"
     ]
    },
    {
     "name": "stderr",
     "output_type": "stream",
     "text": [
      " 26%|██▌       | 1654/6394 [01:50<03:52, 20.41it/s]"
     ]
    },
    {
     "name": "stdout",
     "output_type": "stream",
     "text": [
      "features.shape(62, 496)\n",
      "vad.shape(496,)\n",
      "features.shape(62, 500)\n",
      "vad.shape(500,)\n",
      "features.shape(62, 312)\n",
      "vad.shape(312,)\n",
      "features.shape(62, 299)\n",
      "vad.shape(299,)\n",
      "features.shape(62, 743)\n",
      "vad.shape(743,)\n"
     ]
    },
    {
     "name": "stderr",
     "output_type": "stream",
     "text": [
      " 26%|██▌       | 1657/6394 [01:50<04:56, 15.99it/s]"
     ]
    },
    {
     "name": "stdout",
     "output_type": "stream",
     "text": [
      "features.shape(62, 240)\n",
      "vad.shape(240,)\n",
      "features.shape(62, 432)\n",
      "vad.shape(432,)\n",
      "features.shape(62, 334)\n",
      "vad.shape(334,)\n"
     ]
    },
    {
     "name": "stderr",
     "output_type": "stream",
     "text": [
      " 26%|██▌       | 1662/6394 [01:51<04:35, 17.19it/s]"
     ]
    },
    {
     "name": "stdout",
     "output_type": "stream",
     "text": [
      "features.shape(62, 257)\n",
      "vad.shape(257,)\n",
      "features.shape(62, 308)\n",
      "vad.shape(308,)\n",
      "features.shape(62, 278)\n",
      "vad.shape(278,)\n",
      "features.shape(62, 274)\n",
      "vad.shape(274,)\n",
      "features.shape(62, 274)\n",
      "vad.shape(274,)\n"
     ]
    },
    {
     "name": "stderr",
     "output_type": "stream",
     "text": [
      " 26%|██▌       | 1664/6394 [01:51<04:51, 16.25it/s]"
     ]
    },
    {
     "name": "stdout",
     "output_type": "stream",
     "text": [
      "features.shape(62, 312)\n",
      "vad.shape(312,)\n",
      "features.shape(62, 312)\n",
      "vad.shape(312,)\n",
      "features.shape(62, 291)\n",
      "vad.shape(291,)\n",
      "features.shape(62, 351)\n",
      "vad.shape(351,)\n"
     ]
    },
    {
     "name": "stderr",
     "output_type": "stream",
     "text": [
      " 26%|██▌       | 1670/6394 [01:51<04:00, 19.60it/s]"
     ]
    },
    {
     "name": "stdout",
     "output_type": "stream",
     "text": [
      "features.shape(62, 398)\n",
      "vad.shape(398,)\n",
      "features.shape(62, 402)\n",
      "vad.shape(402,)\n",
      "features.shape(62, 351)\n",
      "vad.shape(351,)\n",
      "features.shape(62, 261)\n",
      "vad.shape(261,)\n",
      "features.shape(62, 363)\n",
      "vad.shape(363,)\n",
      "features.shape(62, 321)\n",
      "vad.shape(321,)\n"
     ]
    },
    {
     "name": "stderr",
     "output_type": "stream",
     "text": [
      " 26%|██▌       | 1673/6394 [01:51<04:00, 19.62it/s]"
     ]
    },
    {
     "name": "stdout",
     "output_type": "stream",
     "text": [
      "features.shape(62, 299)\n",
      "vad.shape(299,)\n",
      "features.shape(62, 334)\n",
      "vad.shape(334,)\n",
      "features.shape(62, 350)\n",
      "vad.shape(350,)\n"
     ]
    },
    {
     "name": "stderr",
     "output_type": "stream",
     "text": [
      " 26%|██▌       | 1678/6394 [01:52<04:52, 16.10it/s]"
     ]
    },
    {
     "name": "stdout",
     "output_type": "stream",
     "text": [
      "features.shape(62, 487)\n",
      "vad.shape(487,)\n",
      "features.shape(62, 363)\n",
      "vad.shape(363,)\n",
      "features.shape(62, 470)\n",
      "vad.shape(470,)\n",
      "features.shape(62, 346)\n",
      "vad.shape(346,)\n"
     ]
    },
    {
     "name": "stderr",
     "output_type": "stream",
     "text": [
      " 26%|██▋       | 1683/6394 [01:52<04:27, 17.63it/s]"
     ]
    },
    {
     "name": "stdout",
     "output_type": "stream",
     "text": [
      "features.shape(62, 295)\n",
      "vad.shape(295,)\n",
      "features.shape(62, 364)\n",
      "vad.shape(364,)\n",
      "features.shape(62, 359)\n",
      "vad.shape(359,)\n",
      "features.shape(62, 325)\n",
      "vad.shape(325,)\n"
     ]
    },
    {
     "name": "stderr",
     "output_type": "stream",
     "text": [
      " 26%|██▋       | 1686/6394 [01:52<03:52, 20.23it/s]"
     ]
    },
    {
     "name": "stdout",
     "output_type": "stream",
     "text": [
      "features.shape(62, 402)\n",
      "vad.shape(402,)\n",
      "features.shape(62, 253)\n",
      "vad.shape(253,)\n",
      "features.shape(62, 299)\n",
      "vad.shape(299,)\n",
      "features.shape(62, 325)\n",
      "vad.shape(325,)\n",
      "features.shape(62, 291)\n",
      "vad.shape(291,)\n",
      "features.shape(62, 948)\n",
      "vad.shape(948,)\n"
     ]
    },
    {
     "name": "stderr",
     "output_type": "stream",
     "text": [
      " 26%|██▋       | 1690/6394 [01:52<03:33, 22.05it/s]"
     ]
    },
    {
     "name": "stdout",
     "output_type": "stream",
     "text": [
      "features.shape(62, 240)\n",
      "vad.shape(240,)\n",
      "features.shape(62, 299)\n",
      "vad.shape(299,)\n",
      "features.shape(62, 218)\n",
      "vad.shape(218,)\n"
     ]
    },
    {
     "name": "stderr",
     "output_type": "stream",
     "text": [
      " 27%|██▋       | 1696/6394 [01:52<03:38, 21.51it/s]"
     ]
    },
    {
     "name": "stdout",
     "output_type": "stream",
     "text": [
      "features.shape(62, 334)\n",
      "vad.shape(334,)\n",
      "features.shape(62, 317)\n",
      "vad.shape(317,)\n",
      "features.shape(62, 219)\n",
      "vad.shape(219,)\n",
      "features.shape(62, 299)\n",
      "vad.shape(299,)\n",
      "features.shape(62, 240)\n",
      "vad.shape(240,)\n"
     ]
    },
    {
     "name": "stderr",
     "output_type": "stream",
     "text": [
      " 27%|██▋       | 1702/6394 [01:53<03:44, 20.86it/s]"
     ]
    },
    {
     "name": "stdout",
     "output_type": "stream",
     "text": [
      "features.shape(62, 334)\n",
      "vad.shape(334,)\n",
      "features.shape(62, 342)\n",
      "vad.shape(342,)\n",
      "features.shape(62, 444)\n",
      "vad.shape(444,)\n",
      "features.shape(62, 287)\n",
      "vad.shape(287,)\n",
      "features.shape(62, 355)\n",
      "vad.shape(355,)\n"
     ]
    },
    {
     "name": "stderr",
     "output_type": "stream",
     "text": [
      " 27%|██▋       | 1705/6394 [01:53<04:14, 18.44it/s]"
     ]
    },
    {
     "name": "stdout",
     "output_type": "stream",
     "text": [
      "features.shape(62, 282)\n",
      "vad.shape(282,)\n",
      "features.shape(62, 249)\n",
      "vad.shape(249,)\n",
      "features.shape(62, 223)\n",
      "vad.shape(223,)\n"
     ]
    },
    {
     "name": "stderr",
     "output_type": "stream",
     "text": [
      " 27%|██▋       | 1707/6394 [01:53<04:27, 17.51it/s]"
     ]
    },
    {
     "name": "stdout",
     "output_type": "stream",
     "text": [
      "features.shape(62, 521)\n",
      "vad.shape(521,)\n",
      "features.shape(62, 295)\n",
      "vad.shape(295,)\n",
      "features.shape(62, 316)\n",
      "vad.shape(316,)\n",
      "features.shape(62, 397)\n",
      "vad.shape(397,)\n"
     ]
    },
    {
     "name": "stderr",
     "output_type": "stream",
     "text": [
      " 27%|██▋       | 1712/6394 [01:53<04:30, 17.31it/s]"
     ]
    },
    {
     "name": "stdout",
     "output_type": "stream",
     "text": [
      "features.shape(62, 436)\n",
      "vad.shape(436,)\n",
      "features.shape(62, 547)\n",
      "vad.shape(547,)\n",
      "features.shape(62, 274)\n",
      "vad.shape(274,)\n",
      "features.shape(62, 240)\n",
      "vad.shape(240,)\n"
     ]
    },
    {
     "name": "stderr",
     "output_type": "stream",
     "text": [
      " 27%|██▋       | 1718/6394 [01:54<03:53, 20.00it/s]"
     ]
    },
    {
     "name": "stdout",
     "output_type": "stream",
     "text": [
      "features.shape(62, 180)\n",
      "vad.shape(180,)\n",
      "features.shape(62, 240)\n",
      "vad.shape(240,)\n",
      "features.shape(62, 278)\n",
      "vad.shape(278,)\n",
      "features.shape(62, 432)\n",
      "vad.shape(432,)\n",
      "features.shape(62, 308)\n",
      "vad.shape(308,)\n"
     ]
    },
    {
     "name": "stderr",
     "output_type": "stream",
     "text": [
      " 27%|██▋       | 1721/6394 [01:54<04:50, 16.10it/s]"
     ]
    },
    {
     "name": "stdout",
     "output_type": "stream",
     "text": [
      "features.shape(62, 291)\n",
      "vad.shape(291,)\n",
      "features.shape(62, 244)\n",
      "vad.shape(244,)\n",
      "features.shape(62, 398)\n",
      "vad.shape(398,)\n"
     ]
    },
    {
     "name": "stderr",
     "output_type": "stream",
     "text": [
      " 27%|██▋       | 1726/6394 [01:54<04:10, 18.61it/s]"
     ]
    },
    {
     "name": "stdout",
     "output_type": "stream",
     "text": [
      "features.shape(62, 325)\n",
      "vad.shape(325,)\n",
      "features.shape(62, 474)\n",
      "vad.shape(474,)\n",
      "features.shape(62, 419)\n",
      "vad.shape(419,)\n",
      "features.shape(62, 650)\n",
      "vad.shape(650,)\n",
      "features.shape(62, 397)\n",
      "vad.shape(397,)\n",
      "features.shape(62, 428)\n",
      "vad.shape(428,)\n"
     ]
    },
    {
     "name": "stderr",
     "output_type": "stream",
     "text": [
      " 27%|██▋       | 1733/6394 [01:54<03:31, 22.08it/s]"
     ]
    },
    {
     "name": "stdout",
     "output_type": "stream",
     "text": [
      "features.shape(62, 317)\n",
      "vad.shape(317,)\n",
      "features.shape(62, 483)\n",
      "vad.shape(483,)\n",
      "features.shape(62, 316)\n",
      "vad.shape(316,)\n",
      "features.shape(62, 291)\n",
      "vad.shape(291,)\n",
      "features.shape(62, 487)\n",
      "vad.shape(487,)\n",
      "features.shape(62, 295)\n",
      "vad.shape(295,)\n"
     ]
    },
    {
     "name": "stderr",
     "output_type": "stream",
     "text": [
      " 27%|██▋       | 1736/6394 [01:54<03:32, 21.97it/s]"
     ]
    },
    {
     "name": "stdout",
     "output_type": "stream",
     "text": [
      "features.shape(62, 346)\n",
      "vad.shape(346,)\n",
      "features.shape(62, 539)\n",
      "vad.shape(539,)\n",
      "features.shape(62, 295)\n",
      "vad.shape(295,)\n",
      "features.shape(62, 248)\n"
     ]
    },
    {
     "name": "stderr",
     "output_type": "stream",
     "text": [
      " 27%|██▋       | 1739/6394 [01:55<04:03, 19.12it/s]"
     ]
    },
    {
     "name": "stdout",
     "output_type": "stream",
     "text": [
      "vad.shape(248,)\n",
      "features.shape(62, 308)\n",
      "vad.shape(308,)\n",
      "features.shape(62, 522)\n",
      "vad.shape(522,)\n",
      "features.shape(62, 167)\n",
      "vad.shape(167,)\n",
      "features.shape(62, 286)\n"
     ]
    },
    {
     "name": "stderr",
     "output_type": "stream",
     "text": [
      " 27%|██▋       | 1745/6394 [01:55<03:47, 20.42it/s]"
     ]
    },
    {
     "name": "stdout",
     "output_type": "stream",
     "text": [
      "vad.shape(286,)\n",
      "features.shape(62, 423)\n",
      "vad.shape(423,)\n",
      "features.shape(62, 419)\n",
      "vad.shape(419,)\n",
      "features.shape(62, 363)\n",
      "vad.shape(363,)\n",
      "features.shape(62, 252)\n",
      "vad.shape(252,)\n"
     ]
    },
    {
     "name": "stderr",
     "output_type": "stream",
     "text": [
      " 27%|██▋       | 1748/6394 [01:55<03:49, 20.28it/s]"
     ]
    },
    {
     "name": "stdout",
     "output_type": "stream",
     "text": [
      "features.shape(62, 325)\n",
      "vad.shape(325,)\n",
      "features.shape(62, 146)\n",
      "vad.shape(146,)\n",
      "features.shape(62, 769)\n",
      "vad.shape(769,)\n",
      "features.shape(62, 304)\n",
      "vad.shape(304,)\n",
      "features.shape(62, 372)\n",
      "vad.shape(372,)\n"
     ]
    },
    {
     "name": "stderr",
     "output_type": "stream",
     "text": [
      " 27%|██▋       | 1755/6394 [01:56<04:04, 19.00it/s]"
     ]
    },
    {
     "name": "stdout",
     "output_type": "stream",
     "text": [
      "features.shape(62, 346)\n",
      "vad.shape(346,)\n",
      "features.shape(62, 325)\n",
      "vad.shape(325,)\n",
      "features.shape(62, 411)\n",
      "vad.shape(411,)\n",
      "features.shape(62, 304)\n",
      "vad.shape(304,)\n",
      "features.shape(62, 239)\n",
      "vad.shape(239,)\n",
      "features.shape(62, 299)\n",
      "vad.shape(299,)\n"
     ]
    },
    {
     "name": "stderr",
     "output_type": "stream",
     "text": [
      " 27%|██▋       | 1758/6394 [01:56<04:44, 16.29it/s]"
     ]
    },
    {
     "name": "stdout",
     "output_type": "stream",
     "text": [
      "features.shape(62, 325)\n",
      "vad.shape(325,)\n",
      "features.shape(62, 197)\n",
      "vad.shape(197,)\n",
      "features.shape(62, 363)\n",
      "vad.shape(363,)\n"
     ]
    },
    {
     "name": "stderr",
     "output_type": "stream",
     "text": [
      " 28%|██▊       | 1762/6394 [01:56<05:22, 14.34it/s]"
     ]
    },
    {
     "name": "stdout",
     "output_type": "stream",
     "text": [
      "features.shape(62, 363)\n",
      "vad.shape(363,)\n",
      "features.shape(62, 380)\n",
      "vad.shape(380,)\n",
      "features.shape(62, 240)\n",
      "vad.shape(240,)\n"
     ]
    },
    {
     "name": "stderr",
     "output_type": "stream",
     "text": [
      " 28%|██▊       | 1764/6394 [01:56<05:30, 14.00it/s]"
     ]
    },
    {
     "name": "stdout",
     "output_type": "stream",
     "text": [
      "features.shape(62, 423)\n",
      "vad.shape(423,)\n",
      "features.shape(62, 867)\n",
      "vad.shape(867,)\n",
      "features.shape(62, 261)\n",
      "vad.shape(261,)\n"
     ]
    },
    {
     "name": "stderr",
     "output_type": "stream",
     "text": [
      " 28%|██▊       | 1769/6394 [01:57<04:48, 16.05it/s]"
     ]
    },
    {
     "name": "stdout",
     "output_type": "stream",
     "text": [
      "features.shape(62, 351)\n",
      "vad.shape(351,)\n",
      "features.shape(62, 338)\n",
      "vad.shape(338,)\n",
      "features.shape(62, 487)\n",
      "vad.shape(487,)\n",
      "features.shape(62, 453)\n",
      "vad.shape(453,)\n",
      "features.shape(62, 410)\n",
      "vad.shape(410,)\n"
     ]
    },
    {
     "name": "stderr",
     "output_type": "stream",
     "text": [
      " 28%|██▊       | 1773/6394 [01:57<05:20, 14.40it/s]"
     ]
    },
    {
     "name": "stdout",
     "output_type": "stream",
     "text": [
      "features.shape(62, 261)\n",
      "vad.shape(261,)\n",
      "features.shape(62, 538)\n",
      "vad.shape(538,)\n",
      "features.shape(62, 504)\n",
      "vad.shape(504,)\n"
     ]
    },
    {
     "name": "stderr",
     "output_type": "stream",
     "text": [
      " 28%|██▊       | 1775/6394 [01:57<05:11, 14.83it/s]"
     ]
    },
    {
     "name": "stdout",
     "output_type": "stream",
     "text": [
      "features.shape(62, 509)\n",
      "vad.shape(509,)\n",
      "features.shape(62, 295)\n",
      "vad.shape(295,)\n",
      "features.shape(62, 338)\n",
      "vad.shape(338,)\n"
     ]
    },
    {
     "name": "stderr",
     "output_type": "stream",
     "text": [
      " 28%|██▊       | 1780/6394 [01:57<04:43, 16.28it/s]"
     ]
    },
    {
     "name": "stdout",
     "output_type": "stream",
     "text": [
      "features.shape(62, 351)\n",
      "vad.shape(351,)\n",
      "features.shape(62, 334)\n",
      "vad.shape(334,)\n",
      "features.shape(62, 568)\n",
      "vad.shape(568,)\n",
      "features.shape(62, 372)\n",
      "vad.shape(372,)\n",
      "features.shape(62, 253)\n",
      "vad.shape(253,)\n"
     ]
    },
    {
     "name": "stderr",
     "output_type": "stream",
     "text": [
      " 28%|██▊       | 1786/6394 [01:58<04:13, 18.21it/s]"
     ]
    },
    {
     "name": "stdout",
     "output_type": "stream",
     "text": [
      "features.shape(62, 219)\n",
      "vad.shape(219,)\n",
      "features.shape(62, 423)\n",
      "vad.shape(423,)\n",
      "features.shape(62, 513)\n",
      "vad.shape(513,)\n",
      "features.shape(62, 316)\n",
      "vad.shape(316,)\n",
      "features.shape(62, 304)\n",
      "vad.shape(304,)\n",
      "features.shape(62, 393)\n",
      "vad.shape(393,)\n"
     ]
    },
    {
     "name": "stderr",
     "output_type": "stream",
     "text": [
      " 28%|██▊       | 1789/6394 [01:58<04:16, 17.99it/s]"
     ]
    },
    {
     "name": "stdout",
     "output_type": "stream",
     "text": [
      "features.shape(62, 317)\n",
      "vad.shape(317,)\n",
      "features.shape(62, 338)\n",
      "vad.shape(338,)\n",
      "features.shape(62, 517)\n",
      "vad.shape(517,)\n"
     ]
    },
    {
     "name": "stderr",
     "output_type": "stream",
     "text": [
      " 28%|██▊       | 1793/6394 [01:58<05:08, 14.90it/s]"
     ]
    },
    {
     "name": "stdout",
     "output_type": "stream",
     "text": [
      "features.shape(62, 402)\n",
      "vad.shape(402,)\n",
      "features.shape(62, 240)\n",
      "vad.shape(240,)\n",
      "features.shape(62, 329)\n",
      "vad.shape(329,)\n"
     ]
    },
    {
     "name": "stderr",
     "output_type": "stream",
     "text": [
      " 28%|██▊       | 1797/6394 [01:58<05:09, 14.87it/s]"
     ]
    },
    {
     "name": "stdout",
     "output_type": "stream",
     "text": [
      "features.shape(62, 479)\n",
      "vad.shape(479,)\n",
      "features.shape(62, 441)\n",
      "vad.shape(441,)\n",
      "features.shape(62, 338)\n",
      "vad.shape(338,)\n",
      "features.shape(62, 397)\n",
      "vad.shape(397,)\n"
     ]
    },
    {
     "name": "stderr",
     "output_type": "stream",
     "text": [
      " 28%|██▊       | 1800/6394 [01:59<04:17, 17.82it/s]"
     ]
    },
    {
     "name": "stdout",
     "output_type": "stream",
     "text": [
      "features.shape(62, 402)\n",
      "vad.shape(402,)\n",
      "features.shape(62, 444)\n",
      "vad.shape(444,)\n",
      "features.shape(62, 649)\n",
      "vad.shape(649,)\n",
      "features.shape(62, 346)\n",
      "vad.shape(346,)\n"
     ]
    },
    {
     "name": "stderr",
     "output_type": "stream",
     "text": [
      " 28%|██▊       | 1804/6394 [01:59<04:41, 16.30it/s]"
     ]
    },
    {
     "name": "stdout",
     "output_type": "stream",
     "text": [
      "features.shape(62, 291)\n",
      "vad.shape(291,)\n",
      "features.shape(62, 159)\n",
      "vad.shape(159,)\n",
      "features.shape(62, 300)\n",
      "vad.shape(300,)\n",
      "features.shape(62, 368)\n",
      "vad.shape(368,)\n",
      "features.shape(62, 355)\n",
      "vad.shape(355,)\n"
     ]
    },
    {
     "name": "stderr",
     "output_type": "stream",
     "text": [
      " 28%|██▊       | 1809/6394 [01:59<04:18, 17.74it/s]"
     ]
    },
    {
     "name": "stdout",
     "output_type": "stream",
     "text": [
      "features.shape(62, 342)\n",
      "vad.shape(342,)\n",
      "features.shape(62, 278)\n",
      "vad.shape(278,)\n",
      "features.shape(62, 449)\n",
      "vad.shape(449,)\n",
      "features.shape(62, 414)\n",
      "vad.shape(414,)\n",
      "features.shape(62, 338)\n",
      "vad.shape(338,)\n"
     ]
    },
    {
     "name": "stderr",
     "output_type": "stream",
     "text": [
      " 28%|██▊       | 1815/6394 [01:59<03:24, 22.42it/s]"
     ]
    },
    {
     "name": "stdout",
     "output_type": "stream",
     "text": [
      "features.shape(62, 364)\n",
      "vad.shape(364,)\n",
      "features.shape(62, 346)\n",
      "vad.shape(346,)\n",
      "features.shape(62, 475)\n",
      "vad.shape(475,)\n",
      "features.shape(62, 581)\n",
      "vad.shape(581,)\n",
      "features.shape(62, 359)\n",
      "vad.shape(359,)\n"
     ]
    },
    {
     "name": "stderr",
     "output_type": "stream",
     "text": [
      " 28%|██▊       | 1821/6394 [02:00<03:55, 19.42it/s]"
     ]
    },
    {
     "name": "stdout",
     "output_type": "stream",
     "text": [
      "features.shape(62, 291)\n",
      "vad.shape(291,)\n",
      "features.shape(62, 419)\n",
      "vad.shape(419,)\n",
      "features.shape(62, 517)\n",
      "vad.shape(517,)\n",
      "features.shape(62, 393)\n",
      "vad.shape(393,)\n",
      "features.shape(62, 368)\n",
      "vad.shape(368,)\n"
     ]
    },
    {
     "name": "stderr",
     "output_type": "stream",
     "text": [
      " 29%|██▊       | 1824/6394 [02:00<03:52, 19.67it/s]"
     ]
    },
    {
     "name": "stdout",
     "output_type": "stream",
     "text": [
      "features.shape(62, 295)\n",
      "vad.shape(295,)\n",
      "features.shape(62, 333)\n",
      "vad.shape(333,)\n",
      "features.shape(62, 291)\n",
      "vad.shape(291,)\n",
      "features.shape(62, 338)\n",
      "vad.shape(338,)\n"
     ]
    },
    {
     "name": "stderr",
     "output_type": "stream",
     "text": [
      " 29%|██▊       | 1827/6394 [02:00<04:44, 16.08it/s]"
     ]
    },
    {
     "name": "stdout",
     "output_type": "stream",
     "text": [
      "features.shape(62, 346)\n",
      "vad.shape(346,)\n",
      "features.shape(62, 261)\n",
      "vad.shape(261,)\n",
      "features.shape(62, 380)\n",
      "vad.shape(380,)\n"
     ]
    },
    {
     "name": "stderr",
     "output_type": "stream",
     "text": [
      " 29%|██▊       | 1831/6394 [02:00<04:31, 16.82it/s]"
     ]
    },
    {
     "name": "stdout",
     "output_type": "stream",
     "text": [
      "features.shape(62, 350)\n",
      "vad.shape(350,)\n",
      "features.shape(62, 308)\n",
      "vad.shape(308,)\n",
      "features.shape(62, 265)\n",
      "vad.shape(265,)\n",
      "features.shape(62, 632)\n",
      "vad.shape(632,)\n",
      "features.shape(62, 462)\n",
      "vad.shape(462,)\n"
     ]
    },
    {
     "name": "stderr",
     "output_type": "stream",
     "text": [
      " 29%|██▊       | 1836/6394 [02:01<04:28, 16.97it/s]"
     ]
    },
    {
     "name": "stdout",
     "output_type": "stream",
     "text": [
      "features.shape(62, 406)\n",
      "vad.shape(406,)\n",
      "features.shape(62, 466)\n",
      "vad.shape(466,)\n",
      "features.shape(62, 214)\n",
      "vad.shape(214,)\n",
      "features.shape(62, 351)\n",
      "vad.shape(351,)\n"
     ]
    },
    {
     "name": "stderr",
     "output_type": "stream",
     "text": [
      " 29%|██▉       | 1839/6394 [02:01<04:23, 17.27it/s]"
     ]
    },
    {
     "name": "stdout",
     "output_type": "stream",
     "text": [
      "features.shape(62, 338)\n",
      "vad.shape(338,)\n",
      "features.shape(62, 244)\n",
      "vad.shape(244,)\n",
      "features.shape(62, 368)\n",
      "vad.shape(368,)\n"
     ]
    },
    {
     "name": "stderr",
     "output_type": "stream",
     "text": [
      " 29%|██▉       | 1843/6394 [02:01<04:32, 16.67it/s]"
     ]
    },
    {
     "name": "stdout",
     "output_type": "stream",
     "text": [
      "features.shape(62, 530)\n",
      "vad.shape(530,)\n",
      "features.shape(62, 321)\n",
      "vad.shape(321,)\n",
      "features.shape(62, 304)\n",
      "vad.shape(304,)\n",
      "features.shape(62, 338)\n",
      "vad.shape(338,)\n",
      "features.shape(62, 329)\n",
      "vad.shape(329,)\n"
     ]
    },
    {
     "name": "stderr",
     "output_type": "stream",
     "text": [
      " 29%|██▉       | 1849/6394 [02:01<04:14, 17.88it/s]"
     ]
    },
    {
     "name": "stdout",
     "output_type": "stream",
     "text": [
      "features.shape(62, 350)\n",
      "vad.shape(350,)\n",
      "features.shape(62, 282)\n",
      "vad.shape(282,)\n",
      "features.shape(62, 351)\n",
      "vad.shape(351,)\n",
      "features.shape(62, 274)\n",
      "vad.shape(274,)\n"
     ]
    },
    {
     "name": "stderr",
     "output_type": "stream",
     "text": [
      " 29%|██▉       | 1852/6394 [02:01<03:50, 19.74it/s]"
     ]
    },
    {
     "name": "stdout",
     "output_type": "stream",
     "text": [
      "features.shape(62, 432)\n",
      "vad.shape(432,)\n",
      "features.shape(62, 423)\n",
      "vad.shape(423,)\n",
      "features.shape(62, 372)\n",
      "vad.shape(372,)\n",
      "features.shape(62, 581)\n",
      "vad.shape(581,)\n"
     ]
    },
    {
     "name": "stderr",
     "output_type": "stream",
     "text": [
      " 29%|██▉       | 1855/6394 [02:02<04:48, 15.74it/s]"
     ]
    },
    {
     "name": "stdout",
     "output_type": "stream",
     "text": [
      "features.shape(62, 282)\n",
      "vad.shape(282,)\n",
      "features.shape(62, 462)\n",
      "vad.shape(462,)\n",
      "features.shape(62, 240)\n",
      "vad.shape(240,)\n"
     ]
    },
    {
     "name": "stderr",
     "output_type": "stream",
     "text": [
      " 29%|██▉       | 1860/6394 [02:02<04:11, 18.04it/s]"
     ]
    },
    {
     "name": "stdout",
     "output_type": "stream",
     "text": [
      "features.shape(62, 325)\n",
      "vad.shape(325,)\n",
      "features.shape(62, 231)\n",
      "vad.shape(231,)\n",
      "features.shape(62, 295)\n",
      "vad.shape(295,)\n",
      "features.shape(62, 453)\n",
      "vad.shape(453,)\n"
     ]
    },
    {
     "name": "stderr",
     "output_type": "stream",
     "text": [
      " 29%|██▉       | 1862/6394 [02:02<04:37, 16.33it/s]"
     ]
    },
    {
     "name": "stdout",
     "output_type": "stream",
     "text": [
      "features.shape(62, 253)\n",
      "vad.shape(253,)\n",
      "features.shape(62, 470)\n",
      "vad.shape(470,)\n",
      "features.shape(62, 316)\n",
      "vad.shape(316,)\n"
     ]
    },
    {
     "name": "stderr",
     "output_type": "stream",
     "text": [
      " 29%|██▉       | 1868/6394 [02:02<03:58, 18.94it/s]"
     ]
    },
    {
     "name": "stdout",
     "output_type": "stream",
     "text": [
      "features.shape(62, 231)\n",
      "vad.shape(231,)\n",
      "features.shape(62, 415)\n",
      "vad.shape(415,)\n",
      "features.shape(62, 474)\n",
      "vad.shape(474,)\n",
      "features.shape(62, 304)\n",
      "vad.shape(304,)\n",
      "features.shape(62, 385)\n",
      "vad.shape(385,)\n",
      "features.shape(62, 189)\n",
      "vad.shape(189,)\n"
     ]
    },
    {
     "name": "stderr",
     "output_type": "stream",
     "text": [
      " 29%|██▉       | 1871/6394 [02:03<03:56, 19.12it/s]"
     ]
    },
    {
     "name": "stdout",
     "output_type": "stream",
     "text": [
      "features.shape(62, 351)\n",
      "vad.shape(351,)\n",
      "features.shape(62, 372)\n",
      "vad.shape(372,)\n",
      "features.shape(62, 406)\n",
      "vad.shape(406,)\n"
     ]
    },
    {
     "name": "stderr",
     "output_type": "stream",
     "text": [
      " 29%|██▉       | 1877/6394 [02:03<04:04, 18.45it/s]"
     ]
    },
    {
     "name": "stdout",
     "output_type": "stream",
     "text": [
      "features.shape(62, 248)\n",
      "vad.shape(248,)\n",
      "features.shape(62, 987)\n",
      "vad.shape(987,)\n",
      "features.shape(62, 317)\n",
      "vad.shape(317,)\n",
      "features.shape(62, 283)\n",
      "vad.shape(283,)\n",
      "features.shape(62, 483)\n",
      "vad.shape(483,)\n",
      "features.shape(62, 394)\n",
      "vad.shape(394,)\n"
     ]
    },
    {
     "name": "stderr",
     "output_type": "stream",
     "text": [
      " 29%|██▉       | 1883/6394 [02:03<03:22, 22.26it/s]"
     ]
    },
    {
     "name": "stdout",
     "output_type": "stream",
     "text": [
      "features.shape(62, 479)\n",
      "vad.shape(479,)\n",
      "features.shape(62, 363)\n",
      "vad.shape(363,)\n",
      "features.shape(62, 419)\n",
      "vad.shape(419,)\n",
      "features.shape(62, 321)\n",
      "vad.shape(321,)\n",
      "features.shape(62, 325)\n",
      "vad.shape(325,)\n",
      "features.shape(62, 419)\n"
     ]
    },
    {
     "name": "stderr",
     "output_type": "stream",
     "text": [
      " 29%|██▉       | 1886/6394 [02:03<04:03, 18.48it/s]"
     ]
    },
    {
     "name": "stdout",
     "output_type": "stream",
     "text": [
      "vad.shape(419,)\n",
      "features.shape(62, 722)\n",
      "vad.shape(722,)\n",
      "features.shape(62, 265)\n",
      "vad.shape(265,)\n"
     ]
    },
    {
     "name": "stderr",
     "output_type": "stream",
     "text": [
      " 30%|██▉       | 1889/6394 [02:03<03:51, 19.44it/s]"
     ]
    },
    {
     "name": "stdout",
     "output_type": "stream",
     "text": [
      "features.shape(62, 287)\n",
      "vad.shape(287,)\n",
      "features.shape(62, 410)\n",
      "vad.shape(410,)\n",
      "features.shape(62, 278)\n",
      "vad.shape(278,)\n",
      "features.shape(62, 363)\n",
      "vad.shape(363,)\n",
      "features.shape(62, 423)\n",
      "vad.shape(423,)\n"
     ]
    },
    {
     "name": "stderr",
     "output_type": "stream",
     "text": [
      " 30%|██▉       | 1892/6394 [02:04<03:58, 18.87it/s]"
     ]
    },
    {
     "name": "stdout",
     "output_type": "stream",
     "text": [
      "features.shape(62, 231)\n",
      "vad.shape(231,)\n",
      "features.shape(62, 274)\n",
      "vad.shape(274,)\n",
      "features.shape(62, 351)\n",
      "vad.shape(351,)\n"
     ]
    },
    {
     "name": "stderr",
     "output_type": "stream",
     "text": [
      " 30%|██▉       | 1897/6394 [02:04<04:54, 15.25it/s]"
     ]
    },
    {
     "name": "stdout",
     "output_type": "stream",
     "text": [
      "features.shape(62, 253)\n",
      "vad.shape(253,)\n",
      "features.shape(62, 274)\n",
      "vad.shape(274,)\n",
      "features.shape(62, 398)\n",
      "vad.shape(398,)\n"
     ]
    },
    {
     "name": "stderr",
     "output_type": "stream",
     "text": [
      " 30%|██▉       | 1899/6394 [02:04<04:47, 15.65it/s]"
     ]
    },
    {
     "name": "stdout",
     "output_type": "stream",
     "text": [
      "features.shape(62, 176)\n",
      "vad.shape(176,)\n",
      "features.shape(62, 436)\n",
      "vad.shape(436,)\n",
      "features.shape(62, 291)\n",
      "vad.shape(291,)\n"
     ]
    },
    {
     "name": "stderr",
     "output_type": "stream",
     "text": [
      " 30%|██▉       | 1904/6394 [02:04<04:29, 16.65it/s]"
     ]
    },
    {
     "name": "stdout",
     "output_type": "stream",
     "text": [
      "features.shape(62, 436)\n",
      "vad.shape(436,)\n",
      "features.shape(62, 334)\n",
      "vad.shape(334,)\n",
      "features.shape(62, 236)\n",
      "vad.shape(236,)\n",
      "features.shape(62, 410)\n",
      "vad.shape(410,)\n",
      "features.shape(62, 372)\n",
      "vad.shape(372,)\n",
      "features.shape(62, 351)\n",
      "vad.shape(351,)\n"
     ]
    },
    {
     "name": "stderr",
     "output_type": "stream",
     "text": [
      " 30%|██▉       | 1909/6394 [02:05<04:35, 16.26it/s]"
     ]
    },
    {
     "name": "stdout",
     "output_type": "stream",
     "text": [
      "features.shape(62, 380)\n",
      "vad.shape(380,)\n",
      "features.shape(62, 317)\n",
      "vad.shape(317,)\n",
      "features.shape(62, 240)\n",
      "vad.shape(240,)\n"
     ]
    },
    {
     "name": "stderr",
     "output_type": "stream",
     "text": [
      " 30%|██▉       | 1911/6394 [02:05<04:23, 17.01it/s]"
     ]
    },
    {
     "name": "stdout",
     "output_type": "stream",
     "text": [
      "features.shape(62, 393)\n",
      "vad.shape(393,)\n",
      "features.shape(62, 240)\n",
      "vad.shape(240,)\n",
      "features.shape(62, 508)\n",
      "vad.shape(508,)\n"
     ]
    },
    {
     "name": "stderr",
     "output_type": "stream",
     "text": [
      " 30%|██▉       | 1915/6394 [02:05<04:37, 16.12it/s]"
     ]
    },
    {
     "name": "stdout",
     "output_type": "stream",
     "text": [
      "features.shape(62, 184)\n",
      "vad.shape(184,)\n",
      "features.shape(62, 176)\n",
      "vad.shape(176,)\n",
      "features.shape(62, 385)\n",
      "vad.shape(385,)\n",
      "features.shape(62, 334)\n",
      "vad.shape(334,)\n",
      "features.shape(62, 406)\n",
      "vad.shape(406,)\n"
     ]
    },
    {
     "name": "stderr",
     "output_type": "stream",
     "text": [
      " 30%|███       | 1920/6394 [02:05<04:25, 16.83it/s]"
     ]
    },
    {
     "name": "stdout",
     "output_type": "stream",
     "text": [
      "features.shape(62, 338)\n",
      "vad.shape(338,)\n",
      "features.shape(62, 346)\n",
      "vad.shape(346,)\n",
      "features.shape(62, 342)\n",
      "vad.shape(342,)\n"
     ]
    },
    {
     "name": "stderr",
     "output_type": "stream",
     "text": [
      " 30%|███       | 1925/6394 [02:06<04:12, 17.71it/s]"
     ]
    },
    {
     "name": "stdout",
     "output_type": "stream",
     "text": [
      "features.shape(62, 368)\n",
      "vad.shape(368,)\n",
      "features.shape(62, 414)\n",
      "vad.shape(414,)\n",
      "features.shape(62, 342)\n",
      "vad.shape(342,)\n",
      "features.shape(62, 380)\n",
      "vad.shape(380,)\n",
      "features.shape(62, 372)\n",
      "vad.shape(372,)\n"
     ]
    },
    {
     "name": "stderr",
     "output_type": "stream",
     "text": [
      " 30%|███       | 1927/6394 [02:06<04:19, 17.24it/s]"
     ]
    },
    {
     "name": "stdout",
     "output_type": "stream",
     "text": [
      "features.shape(62, 428)\n",
      "vad.shape(428,)\n",
      "features.shape(62, 338)\n",
      "vad.shape(338,)\n",
      "features.shape(62, 359)\n"
     ]
    },
    {
     "name": "stderr",
     "output_type": "stream",
     "text": [
      " 30%|███       | 1932/6394 [02:06<03:53, 19.09it/s]"
     ]
    },
    {
     "name": "stdout",
     "output_type": "stream",
     "text": [
      "vad.shape(359,)\n",
      "features.shape(62, 372)\n",
      "vad.shape(372,)\n",
      "features.shape(62, 329)\n",
      "vad.shape(329,)\n",
      "features.shape(62, 474)\n",
      "vad.shape(474,)\n",
      "features.shape(62, 346)\n",
      "vad.shape(346,)\n",
      "features.shape(62, 398)\n",
      "vad.shape(398,)\n",
      "features.shape(62, 346)\n",
      "vad.shape(346,)\n"
     ]
    },
    {
     "name": "stderr",
     "output_type": "stream",
     "text": [
      " 30%|███       | 1937/6394 [02:06<04:13, 17.56it/s]"
     ]
    },
    {
     "name": "stdout",
     "output_type": "stream",
     "text": [
      "features.shape(62, 278)\n",
      "vad.shape(278,)\n",
      "features.shape(62, 219)\n",
      "vad.shape(219,)\n",
      "features.shape(62, 551)\n",
      "vad.shape(551,)\n",
      "features.shape(62, 312)\n",
      "vad.shape(312,)\n",
      "features.shape(62, 329)\n",
      "vad.shape(329,)\n"
     ]
    },
    {
     "name": "stderr",
     "output_type": "stream",
     "text": [
      " 30%|███       | 1942/6394 [02:07<04:06, 18.03it/s]"
     ]
    },
    {
     "name": "stdout",
     "output_type": "stream",
     "text": [
      "features.shape(62, 266)\n",
      "vad.shape(266,)\n",
      "features.shape(62, 385)\n",
      "vad.shape(385,)\n",
      "features.shape(62, 398)\n",
      "vad.shape(398,)\n",
      "features.shape(62, 492)\n",
      "vad.shape(492,)\n",
      "features.shape(62, 402)\n",
      "vad.shape(402,)\n"
     ]
    },
    {
     "name": "stderr",
     "output_type": "stream",
     "text": [
      " 30%|███       | 1945/6394 [02:07<03:35, 20.60it/s]"
     ]
    },
    {
     "name": "stdout",
     "output_type": "stream",
     "text": [
      "features.shape(62, 313)\n",
      "vad.shape(313,)\n",
      "features.shape(62, 308)\n",
      "vad.shape(308,)\n",
      "features.shape(62, 364)\n",
      "vad.shape(364,)\n"
     ]
    },
    {
     "name": "stderr",
     "output_type": "stream",
     "text": [
      " 31%|███       | 1952/6394 [02:07<03:33, 20.81it/s]"
     ]
    },
    {
     "name": "stdout",
     "output_type": "stream",
     "text": [
      "features.shape(62, 355)\n",
      "vad.shape(355,)\n",
      "features.shape(62, 333)\n",
      "vad.shape(333,)\n",
      "features.shape(62, 385)\n",
      "vad.shape(385,)\n",
      "features.shape(62, 466)\n",
      "vad.shape(466,)\n",
      "features.shape(62, 295)\n",
      "vad.shape(295,)\n"
     ]
    },
    {
     "name": "stderr",
     "output_type": "stream",
     "text": [
      " 31%|███       | 1955/6394 [02:07<04:23, 16.86it/s]"
     ]
    },
    {
     "name": "stdout",
     "output_type": "stream",
     "text": [
      "features.shape(62, 671)\n",
      "vad.shape(671,)\n",
      "features.shape(62, 244)\n",
      "vad.shape(244,)\n",
      "features.shape(62, 257)\n",
      "vad.shape(257,)\n",
      "features.shape(62, 347)\n",
      "vad.shape(347,)\n"
     ]
    },
    {
     "name": "stderr",
     "output_type": "stream",
     "text": [
      " 31%|███       | 1961/6394 [02:08<03:37, 20.38it/s]"
     ]
    },
    {
     "name": "stdout",
     "output_type": "stream",
     "text": [
      "features.shape(62, 299)\n",
      "vad.shape(299,)\n",
      "features.shape(62, 483)\n",
      "vad.shape(483,)\n",
      "features.shape(62, 304)\n",
      "vad.shape(304,)\n",
      "features.shape(62, 427)\n",
      "vad.shape(427,)\n",
      "features.shape(62, 312)\n",
      "vad.shape(312,)\n"
     ]
    },
    {
     "name": "stderr",
     "output_type": "stream",
     "text": [
      " 31%|███       | 1964/6394 [02:08<04:25, 16.69it/s]"
     ]
    },
    {
     "name": "stdout",
     "output_type": "stream",
     "text": [
      "features.shape(62, 411)\n",
      "vad.shape(411,)\n",
      "features.shape(62, 397)\n",
      "vad.shape(397,)\n",
      "features.shape(62, 381)\n",
      "vad.shape(381,)\n"
     ]
    },
    {
     "name": "stderr",
     "output_type": "stream",
     "text": [
      " 31%|███       | 1969/6394 [02:08<03:47, 19.43it/s]"
     ]
    },
    {
     "name": "stdout",
     "output_type": "stream",
     "text": [
      "features.shape(62, 300)\n",
      "vad.shape(300,)\n",
      "features.shape(62, 406)\n",
      "vad.shape(406,)\n",
      "features.shape(62, 197)\n",
      "vad.shape(197,)\n",
      "features.shape(62, 355)\n",
      "vad.shape(355,)\n",
      "features.shape(62, 517)\n",
      "vad.shape(517,)\n"
     ]
    },
    {
     "name": "stderr",
     "output_type": "stream",
     "text": [
      " 31%|███       | 1972/6394 [02:08<04:28, 16.48it/s]"
     ]
    },
    {
     "name": "stdout",
     "output_type": "stream",
     "text": [
      "features.shape(62, 269)\n",
      "vad.shape(269,)\n",
      "features.shape(62, 436)\n",
      "vad.shape(436,)\n",
      "features.shape(62, 304)\n",
      "vad.shape(304,)\n"
     ]
    },
    {
     "name": "stderr",
     "output_type": "stream",
     "text": [
      " 31%|███       | 1974/6394 [02:08<04:36, 15.98it/s]"
     ]
    },
    {
     "name": "stdout",
     "output_type": "stream",
     "text": [
      "features.shape(62, 270)\n",
      "vad.shape(270,)\n",
      "features.shape(62, 496)\n",
      "vad.shape(496,)\n",
      "features.shape(62, 338)\n",
      "vad.shape(338,)\n",
      "features.shape(62, 286)\n",
      "vad.shape(286,)\n"
     ]
    },
    {
     "name": "stderr",
     "output_type": "stream",
     "text": [
      " 31%|███       | 1980/6394 [02:09<03:53, 18.93it/s]"
     ]
    },
    {
     "name": "stdout",
     "output_type": "stream",
     "text": [
      "features.shape(62, 351)\n",
      "vad.shape(351,)\n",
      "features.shape(62, 594)\n",
      "vad.shape(594,)\n",
      "features.shape(62, 406)\n",
      "vad.shape(406,)\n",
      "features.shape(62, 359)\n",
      "vad.shape(359,)\n",
      "features.shape(62, 287)\n",
      "vad.shape(287,)\n"
     ]
    },
    {
     "name": "stderr",
     "output_type": "stream",
     "text": [
      " 31%|███       | 1985/6394 [02:09<04:11, 17.51it/s]"
     ]
    },
    {
     "name": "stdout",
     "output_type": "stream",
     "text": [
      "features.shape(62, 406)\n",
      "vad.shape(406,)\n",
      "features.shape(62, 385)\n",
      "vad.shape(385,)\n",
      "features.shape(62, 342)\n",
      "vad.shape(342,)\n",
      "features.shape(62, 423)\n",
      "vad.shape(423,)\n"
     ]
    },
    {
     "name": "stderr",
     "output_type": "stream",
     "text": [
      " 31%|███       | 1988/6394 [02:09<04:02, 18.16it/s]"
     ]
    },
    {
     "name": "stdout",
     "output_type": "stream",
     "text": [
      "features.shape(62, 790)\n",
      "vad.shape(790,)\n",
      "features.shape(62, 457)\n",
      "vad.shape(457,)\n",
      "features.shape(62, 214)\n",
      "vad.shape(214,)\n",
      "features.shape(62, 577)\n",
      "vad.shape(577,)\n"
     ]
    },
    {
     "name": "stderr",
     "output_type": "stream",
     "text": [
      " 31%|███       | 1993/6394 [02:09<03:56, 18.64it/s]"
     ]
    },
    {
     "name": "stdout",
     "output_type": "stream",
     "text": [
      "features.shape(62, 253)\n",
      "vad.shape(253,)\n",
      "features.shape(62, 410)\n",
      "vad.shape(410,)\n",
      "features.shape(62, 274)\n",
      "vad.shape(274,)\n",
      "features.shape(62, 291)\n",
      "vad.shape(291,)\n",
      "features.shape(62, 287)\n",
      "vad.shape(287,)\n",
      "features.shape(62, 317)\n",
      "vad.shape(317,)\n"
     ]
    },
    {
     "name": "stderr",
     "output_type": "stream",
     "text": [
      " 31%|███       | 1998/6394 [02:10<04:33, 16.10it/s]"
     ]
    },
    {
     "name": "stdout",
     "output_type": "stream",
     "text": [
      "features.shape(62, 402)\n",
      "vad.shape(402,)\n",
      "features.shape(62, 312)\n",
      "vad.shape(312,)\n",
      "features.shape(62, 295)\n",
      "vad.shape(295,)\n",
      "features.shape(62, 393)\n",
      "vad.shape(393,)\n",
      "features.shape(62, 291)\n",
      "vad.shape(291,)\n"
     ]
    },
    {
     "name": "stderr",
     "output_type": "stream",
     "text": [
      " 31%|███▏      | 2002/6394 [02:10<03:42, 19.76it/s]"
     ]
    },
    {
     "name": "stdout",
     "output_type": "stream",
     "text": [
      "features.shape(62, 598)\n",
      "vad.shape(598,)\n",
      "features.shape(62, 376)\n",
      "vad.shape(376,)\n",
      "features.shape(62, 295)\n",
      "vad.shape(295,)\n",
      "features.shape(62, 453)\n",
      "vad.shape(453,)\n"
     ]
    },
    {
     "name": "stderr",
     "output_type": "stream",
     "text": [
      " 31%|███▏      | 2009/6394 [02:10<03:09, 23.10it/s]"
     ]
    },
    {
     "name": "stdout",
     "output_type": "stream",
     "text": [
      "features.shape(62, 389)\n",
      "vad.shape(389,)\n",
      "features.shape(62, 372)\n",
      "vad.shape(372,)\n",
      "features.shape(62, 397)\n",
      "vad.shape(397,)\n",
      "features.shape(62, 308)\n",
      "vad.shape(308,)\n",
      "features.shape(62, 274)\n",
      "vad.shape(274,)\n",
      "features.shape(62, 402)\n",
      "vad.shape(402,)\n",
      "features.shape(62, 257)\n",
      "vad.shape(257,)\n"
     ]
    },
    {
     "name": "stderr",
     "output_type": "stream",
     "text": [
      " 31%|███▏      | 2012/6394 [02:10<03:15, 22.39it/s]"
     ]
    },
    {
     "name": "stdout",
     "output_type": "stream",
     "text": [
      "features.shape(62, 300)\n",
      "vad.shape(300,)\n",
      "features.shape(62, 308)\n",
      "vad.shape(308,)\n",
      "features.shape(62, 526)\n",
      "vad.shape(526,)\n"
     ]
    },
    {
     "name": "stderr",
     "output_type": "stream",
     "text": [
      " 32%|███▏      | 2018/6394 [02:11<04:15, 17.15it/s]"
     ]
    },
    {
     "name": "stdout",
     "output_type": "stream",
     "text": [
      "features.shape(62, 376)\n",
      "vad.shape(376,)\n",
      "features.shape(62, 427)\n",
      "vad.shape(427,)\n",
      "features.shape(62, 300)\n",
      "vad.shape(300,)\n",
      "features.shape(62, 402)\n",
      "vad.shape(402,)\n"
     ]
    },
    {
     "name": "stderr",
     "output_type": "stream",
     "text": [
      " 32%|███▏      | 2022/6394 [02:11<03:36, 20.23it/s]"
     ]
    },
    {
     "name": "stdout",
     "output_type": "stream",
     "text": [
      "features.shape(62, 334)\n",
      "vad.shape(334,)\n",
      "features.shape(62, 487)\n",
      "vad.shape(487,)\n",
      "features.shape(62, 274)\n",
      "vad.shape(274,)\n",
      "features.shape(62, 304)\n",
      "vad.shape(304,)\n",
      "features.shape(62, 317)\n",
      "vad.shape(317,)\n",
      "features.shape(62, 329)\n",
      "vad.shape(329,)\n"
     ]
    },
    {
     "name": "stderr",
     "output_type": "stream",
     "text": [
      " 32%|███▏      | 2028/6394 [02:11<03:29, 20.83it/s]"
     ]
    },
    {
     "name": "stdout",
     "output_type": "stream",
     "text": [
      "features.shape(62, 377)\n",
      "vad.shape(377,)\n",
      "features.shape(62, 270)\n",
      "vad.shape(270,)\n",
      "features.shape(62, 265)\n",
      "vad.shape(265,)\n",
      "features.shape(62, 286)\n",
      "vad.shape(286,)\n"
     ]
    },
    {
     "name": "stderr",
     "output_type": "stream",
     "text": [
      " 32%|███▏      | 2031/6394 [02:11<04:02, 17.99it/s]"
     ]
    },
    {
     "name": "stdout",
     "output_type": "stream",
     "text": [
      "features.shape(62, 295)\n",
      "vad.shape(295,)\n",
      "features.shape(62, 346)\n",
      "vad.shape(346,)\n",
      "features.shape(62, 389)\n",
      "vad.shape(389,)\n"
     ]
    },
    {
     "name": "stderr",
     "output_type": "stream",
     "text": [
      " 32%|███▏      | 2035/6394 [02:12<03:20, 21.76it/s]"
     ]
    },
    {
     "name": "stdout",
     "output_type": "stream",
     "text": [
      "features.shape(62, 436)\n",
      "vad.shape(436,)\n",
      "features.shape(62, 270)\n",
      "vad.shape(270,)\n",
      "features.shape(62, 299)\n",
      "vad.shape(299,)\n",
      "features.shape(62, 393)\n",
      "vad.shape(393,)\n",
      "features.shape(62, 415)\n",
      "vad.shape(415,)\n",
      "features.shape(62, 308)\n",
      "vad.shape(308,)\n"
     ]
    },
    {
     "name": "stderr",
     "output_type": "stream",
     "text": [
      " 32%|███▏      | 2041/6394 [02:12<03:12, 22.62it/s]"
     ]
    },
    {
     "name": "stdout",
     "output_type": "stream",
     "text": [
      "features.shape(62, 359)\n",
      "vad.shape(359,)\n",
      "features.shape(62, 274)\n",
      "vad.shape(274,)\n",
      "features.shape(62, 287)\n",
      "vad.shape(287,)\n",
      "features.shape(62, 287)\n",
      "vad.shape(287,)\n",
      "features.shape(62, 325)\n",
      "vad.shape(325,)\n"
     ]
    },
    {
     "name": "stderr",
     "output_type": "stream",
     "text": [
      " 32%|███▏      | 2044/6394 [02:12<03:43, 19.44it/s]"
     ]
    },
    {
     "name": "stdout",
     "output_type": "stream",
     "text": [
      "features.shape(62, 355)\n",
      "vad.shape(355,)\n",
      "features.shape(62, 547)\n",
      "vad.shape(547,)\n",
      "features.shape(62, 594)\n",
      "vad.shape(594,)\n",
      "features.shape(62, 538)\n",
      "vad.shape(538,)\n"
     ]
    },
    {
     "name": "stderr",
     "output_type": "stream",
     "text": [
      " 32%|███▏      | 2050/6394 [02:12<03:45, 19.28it/s]"
     ]
    },
    {
     "name": "stdout",
     "output_type": "stream",
     "text": [
      "features.shape(62, 355)\n",
      "vad.shape(355,)\n",
      "features.shape(62, 257)\n",
      "vad.shape(257,)\n",
      "features.shape(62, 283)\n",
      "vad.shape(283,)\n",
      "features.shape(62, 333)\n",
      "vad.shape(333,)\n"
     ]
    },
    {
     "name": "stderr",
     "output_type": "stream",
     "text": [
      " 32%|███▏      | 2053/6394 [02:13<03:59, 18.13it/s]"
     ]
    },
    {
     "name": "stdout",
     "output_type": "stream",
     "text": [
      "features.shape(62, 457)\n",
      "vad.shape(457,)\n",
      "features.shape(62, 406)\n",
      "vad.shape(406,)\n",
      "features.shape(62, 372)\n",
      "vad.shape(372,)\n",
      "features.shape(62, 325)\n",
      "vad.shape(325,)\n",
      "features.shape(62, 380)\n",
      "vad.shape(380,)\n",
      "features.shape(62, 568)\n",
      "vad.shape(568,)\n"
     ]
    },
    {
     "name": "stderr",
     "output_type": "stream",
     "text": [
      " 32%|███▏      | 2061/6394 [02:13<02:53, 24.96it/s]"
     ]
    },
    {
     "name": "stdout",
     "output_type": "stream",
     "text": [
      "features.shape(62, 530)\n",
      "vad.shape(530,)\n",
      "features.shape(62, 385)\n",
      "vad.shape(385,)\n",
      "features.shape(62, 453)\n",
      "vad.shape(453,)\n",
      "features.shape(62, 419)\n",
      "vad.shape(419,)\n",
      "features.shape(62, 389)\n",
      "vad.shape(389,)\n",
      "features.shape(62, 299)\n",
      "vad.shape(299,)\n"
     ]
    },
    {
     "name": "stderr",
     "output_type": "stream",
     "text": [
      " 32%|███▏      | 2064/6394 [02:13<03:21, 21.45it/s]"
     ]
    },
    {
     "name": "stdout",
     "output_type": "stream",
     "text": [
      "features.shape(62, 466)\n",
      "vad.shape(466,)\n",
      "features.shape(62, 312)\n",
      "vad.shape(312,)\n",
      "features.shape(62, 265)\n",
      "vad.shape(265,)\n",
      "features.shape(62, 346)\n"
     ]
    },
    {
     "name": "stderr",
     "output_type": "stream",
     "text": [
      " 32%|███▏      | 2067/6394 [02:13<03:55, 18.36it/s]"
     ]
    },
    {
     "name": "stdout",
     "output_type": "stream",
     "text": [
      "vad.shape(346,)\n",
      "features.shape(62, 359)\n",
      "vad.shape(359,)\n",
      "features.shape(62, 287)\n",
      "vad.shape(287,)\n",
      "features.shape(62, 440)\n",
      "vad.shape(440,)\n"
     ]
    },
    {
     "name": "stderr",
     "output_type": "stream",
     "text": [
      " 32%|███▏      | 2073/6394 [02:13<03:42, 19.41it/s]"
     ]
    },
    {
     "name": "stdout",
     "output_type": "stream",
     "text": [
      "features.shape(62, 261)\n",
      "vad.shape(261,)\n",
      "features.shape(62, 317)\n",
      "vad.shape(317,)\n",
      "features.shape(62, 286)\n",
      "vad.shape(286,)\n",
      "features.shape(62, 402)\n",
      "vad.shape(402,)\n",
      "features.shape(62, 649)\n",
      "vad.shape(649,)\n",
      "features.shape(62, 342)\n",
      "vad.shape(342,)\n"
     ]
    },
    {
     "name": "stderr",
     "output_type": "stream",
     "text": [
      " 33%|███▎      | 2079/6394 [02:14<03:30, 20.51it/s]"
     ]
    },
    {
     "name": "stdout",
     "output_type": "stream",
     "text": [
      "features.shape(62, 398)\n",
      "vad.shape(398,)\n",
      "features.shape(62, 440)\n",
      "vad.shape(440,)\n",
      "features.shape(62, 589)\n",
      "vad.shape(589,)\n",
      "features.shape(62, 440)\n",
      "vad.shape(440,)\n"
     ]
    },
    {
     "name": "stderr",
     "output_type": "stream",
     "text": [
      " 33%|███▎      | 2082/6394 [02:14<03:48, 18.85it/s]"
     ]
    },
    {
     "name": "stdout",
     "output_type": "stream",
     "text": [
      "features.shape(62, 261)\n",
      "vad.shape(261,)\n",
      "features.shape(62, 291)\n",
      "vad.shape(291,)\n",
      "features.shape(62, 731)\n",
      "vad.shape(731,)\n",
      "features.shape(62, 270)\n",
      "vad.shape(270,)\n",
      "features.shape(62, 308)\n",
      "vad.shape(308,)\n"
     ]
    },
    {
     "name": "stderr",
     "output_type": "stream",
     "text": [
      " 33%|███▎      | 2088/6394 [02:14<03:35, 20.01it/s]"
     ]
    },
    {
     "name": "stdout",
     "output_type": "stream",
     "text": [
      "features.shape(62, 304)\n",
      "vad.shape(304,)\n",
      "features.shape(62, 308)\n",
      "vad.shape(308,)\n",
      "features.shape(62, 380)\n",
      "vad.shape(380,)\n",
      "features.shape(62, 154)\n",
      "vad.shape(154,)\n",
      "features.shape(62, 389)\n",
      "vad.shape(389,)\n"
     ]
    },
    {
     "name": "stderr",
     "output_type": "stream",
     "text": [
      " 33%|███▎      | 2094/6394 [02:14<03:21, 21.34it/s]"
     ]
    },
    {
     "name": "stdout",
     "output_type": "stream",
     "text": [
      "features.shape(62, 312)\n",
      "vad.shape(312,)\n",
      "features.shape(62, 334)\n",
      "vad.shape(334,)\n",
      "features.shape(62, 415)\n",
      "vad.shape(415,)\n",
      "features.shape(62, 304)\n",
      "vad.shape(304,)\n",
      "features.shape(62, 291)\n",
      "vad.shape(291,)\n"
     ]
    },
    {
     "name": "stderr",
     "output_type": "stream",
     "text": [
      " 33%|███▎      | 2097/6394 [02:15<03:22, 21.26it/s]"
     ]
    },
    {
     "name": "stdout",
     "output_type": "stream",
     "text": [
      "features.shape(62, 325)\n",
      "vad.shape(325,)\n",
      "features.shape(62, 295)\n",
      "vad.shape(295,)\n",
      "features.shape(62, 385)\n",
      "vad.shape(385,)\n",
      "features.shape(62, 346)\n",
      "vad.shape(346,)\n",
      "features.shape(62, 325)\n",
      "vad.shape(325,)\n"
     ]
    },
    {
     "name": "stderr",
     "output_type": "stream",
     "text": [
      " 33%|███▎      | 2102/6394 [02:15<03:46, 18.95it/s]"
     ]
    },
    {
     "name": "stdout",
     "output_type": "stream",
     "text": [
      "features.shape(62, 444)\n",
      "vad.shape(444,)\n",
      "features.shape(62, 351)\n",
      "vad.shape(351,)\n",
      "features.shape(62, 445)\n",
      "vad.shape(445,)\n",
      "features.shape(62, 325)\n",
      "vad.shape(325,)\n",
      "features.shape(62, 295)\n",
      "vad.shape(295,)\n",
      "features.shape(62, 376)\n",
      "vad.shape(376,)\n"
     ]
    },
    {
     "name": "stderr",
     "output_type": "stream",
     "text": [
      " 33%|███▎      | 2109/6394 [02:15<03:22, 21.14it/s]"
     ]
    },
    {
     "name": "stdout",
     "output_type": "stream",
     "text": [
      "features.shape(62, 346)\n",
      "vad.shape(346,)\n",
      "features.shape(62, 261)\n",
      "vad.shape(261,)\n",
      "features.shape(62, 359)\n",
      "vad.shape(359,)\n",
      "features.shape(62, 334)\n",
      "vad.shape(334,)\n",
      "features.shape(62, 731)\n",
      "vad.shape(731,)\n"
     ]
    },
    {
     "name": "stderr",
     "output_type": "stream",
     "text": [
      " 33%|███▎      | 2112/6394 [02:15<03:28, 20.52it/s]"
     ]
    },
    {
     "name": "stdout",
     "output_type": "stream",
     "text": [
      "features.shape(62, 534)\n",
      "vad.shape(534,)\n",
      "features.shape(62, 406)\n",
      "vad.shape(406,)\n",
      "features.shape(62, 470)\n",
      "vad.shape(470,)\n",
      "features.shape(62, 961)\n",
      "vad.shape(961,)\n"
     ]
    },
    {
     "name": "stderr",
     "output_type": "stream",
     "text": [
      " 33%|███▎      | 2118/6394 [02:16<03:17, 21.70it/s]"
     ]
    },
    {
     "name": "stdout",
     "output_type": "stream",
     "text": [
      "features.shape(62, 364)\n",
      "vad.shape(364,)\n",
      "features.shape(62, 359)\n",
      "vad.shape(359,)\n",
      "features.shape(62, 287)\n",
      "vad.shape(287,)\n",
      "features.shape(62, 219)\n",
      "vad.shape(219,)\n",
      "features.shape(62, 470)\n",
      "vad.shape(470,)\n",
      "features.shape(62, 470)\n",
      "vad.shape(470,)\n"
     ]
    },
    {
     "name": "stderr",
     "output_type": "stream",
     "text": [
      " 33%|███▎      | 2122/6394 [02:16<03:06, 22.95it/s]"
     ]
    },
    {
     "name": "stdout",
     "output_type": "stream",
     "text": [
      "features.shape(62, 265)\n",
      "vad.shape(265,)\n",
      "features.shape(62, 214)\n",
      "vad.shape(214,)\n",
      "features.shape(62, 282)\n",
      "vad.shape(282,)\n",
      "features.shape(62, 402)\n",
      "vad.shape(402,)\n"
     ]
    },
    {
     "name": "stderr",
     "output_type": "stream",
     "text": [
      " 33%|███▎      | 2128/6394 [02:16<03:33, 19.99it/s]"
     ]
    },
    {
     "name": "stdout",
     "output_type": "stream",
     "text": [
      "features.shape(62, 274)\n",
      "vad.shape(274,)\n",
      "features.shape(62, 525)\n",
      "vad.shape(525,)\n",
      "features.shape(62, 321)\n",
      "vad.shape(321,)\n",
      "features.shape(62, 363)\n",
      "vad.shape(363,)\n"
     ]
    },
    {
     "name": "stderr",
     "output_type": "stream",
     "text": [
      " 33%|███▎      | 2131/6394 [02:16<03:57, 17.94it/s]"
     ]
    },
    {
     "name": "stdout",
     "output_type": "stream",
     "text": [
      "features.shape(62, 406)\n",
      "vad.shape(406,)\n",
      "features.shape(62, 325)\n",
      "vad.shape(325,)\n",
      "features.shape(62, 334)\n",
      "vad.shape(334,)\n",
      "features.shape(62, 402)\n",
      "vad.shape(402,)\n",
      "features.shape(62, 278)\n",
      "vad.shape(278,)\n"
     ]
    },
    {
     "name": "stderr",
     "output_type": "stream",
     "text": [
      " 33%|███▎      | 2138/6394 [02:17<03:34, 19.88it/s]"
     ]
    },
    {
     "name": "stdout",
     "output_type": "stream",
     "text": [
      "features.shape(62, 321)\n",
      "vad.shape(321,)\n",
      "features.shape(62, 338)\n",
      "vad.shape(338,)\n",
      "features.shape(62, 364)\n",
      "vad.shape(364,)\n",
      "features.shape(62, 483)\n",
      "vad.shape(483,)\n",
      "features.shape(62, 342)\n",
      "vad.shape(342,)\n"
     ]
    },
    {
     "name": "stderr",
     "output_type": "stream",
     "text": [
      " 33%|███▎      | 2141/6394 [02:17<03:46, 18.79it/s]"
     ]
    },
    {
     "name": "stdout",
     "output_type": "stream",
     "text": [
      "features.shape(62, 189)\n",
      "vad.shape(189,)\n",
      "features.shape(62, 376)\n",
      "vad.shape(376,)\n",
      "features.shape(62, 368)\n",
      "vad.shape(368,)\n",
      "features.shape(62, 415)\n",
      "vad.shape(415,)\n"
     ]
    },
    {
     "name": "stderr",
     "output_type": "stream",
     "text": [
      " 34%|███▎      | 2145/6394 [02:17<04:20, 16.31it/s]"
     ]
    },
    {
     "name": "stdout",
     "output_type": "stream",
     "text": [
      "features.shape(62, 282)\n",
      "vad.shape(282,)\n",
      "features.shape(62, 389)\n",
      "vad.shape(389,)\n",
      "features.shape(62, 385)\n",
      "vad.shape(385,)\n"
     ]
    },
    {
     "name": "stderr",
     "output_type": "stream",
     "text": [
      " 34%|███▎      | 2147/6394 [02:17<04:55, 14.39it/s]"
     ]
    },
    {
     "name": "stdout",
     "output_type": "stream",
     "text": [
      "features.shape(62, 223)\n",
      "vad.shape(223,)\n",
      "features.shape(62, 223)\n",
      "vad.shape(223,)\n",
      "features.shape(62, 308)\n",
      "vad.shape(308,)\n",
      "features.shape(62, 338)\n",
      "vad.shape(338,)\n",
      "features.shape(62, 347)\n",
      "vad.shape(347,)\n"
     ]
    },
    {
     "name": "stderr",
     "output_type": "stream",
     "text": [
      " 34%|███▎      | 2155/6394 [02:18<03:08, 22.48it/s]"
     ]
    },
    {
     "name": "stdout",
     "output_type": "stream",
     "text": [
      "features.shape(62, 261)\n",
      "vad.shape(261,)\n",
      "features.shape(62, 389)\n",
      "vad.shape(389,)\n",
      "features.shape(62, 338)\n",
      "vad.shape(338,)\n",
      "features.shape(62, 368)\n",
      "vad.shape(368,)\n",
      "features.shape(62, 427)\n",
      "vad.shape(427,)\n",
      "features.shape(62, 261)\n",
      "vad.shape(261,)\n"
     ]
    },
    {
     "name": "stderr",
     "output_type": "stream",
     "text": [
      " 34%|███▍      | 2158/6394 [02:18<03:25, 20.64it/s]"
     ]
    },
    {
     "name": "stdout",
     "output_type": "stream",
     "text": [
      "features.shape(62, 321)\n",
      "vad.shape(321,)\n",
      "features.shape(62, 769)\n",
      "vad.shape(769,)\n",
      "features.shape(62, 457)\n",
      "vad.shape(457,)\n"
     ]
    },
    {
     "name": "stderr",
     "output_type": "stream",
     "text": [
      " 34%|███▍      | 2165/6394 [02:18<03:12, 21.93it/s]"
     ]
    },
    {
     "name": "stdout",
     "output_type": "stream",
     "text": [
      "features.shape(62, 248)\n",
      "vad.shape(248,)\n",
      "features.shape(62, 338)\n",
      "vad.shape(338,)\n",
      "features.shape(62, 449)\n",
      "vad.shape(449,)\n",
      "features.shape(62, 504)\n",
      "vad.shape(504,)\n",
      "features.shape(62, 1242)\n",
      "vad.shape(1242,)\n",
      "features.shape(62, 334)\n",
      "vad.shape(334,)\n",
      "features.shape(62, 359)\n",
      "vad.shape(359,)\n"
     ]
    },
    {
     "name": "stderr",
     "output_type": "stream",
     "text": [
      " 34%|███▍      | 2168/6394 [02:18<03:50, 18.32it/s]"
     ]
    },
    {
     "name": "stdout",
     "output_type": "stream",
     "text": [
      "features.shape(62, 406)\n",
      "vad.shape(406,)\n",
      "features.shape(62, 291)\n",
      "vad.shape(291,)\n",
      "features.shape(62, 457)\n",
      "vad.shape(457,)\n"
     ]
    },
    {
     "name": "stderr",
     "output_type": "stream",
     "text": [
      " 34%|███▍      | 2175/6394 [02:19<03:11, 21.99it/s]"
     ]
    },
    {
     "name": "stdout",
     "output_type": "stream",
     "text": [
      "features.shape(62, 466)\n",
      "vad.shape(466,)\n",
      "features.shape(62, 329)\n",
      "vad.shape(329,)\n",
      "features.shape(62, 530)\n",
      "vad.shape(530,)\n",
      "features.shape(62, 269)\n",
      "vad.shape(269,)\n",
      "features.shape(62, 278)\n",
      "vad.shape(278,)\n",
      "features.shape(62, 321)\n",
      "vad.shape(321,)\n",
      "features.shape(62, 436)\n",
      "vad.shape(436,)\n",
      "features.shape(62, 342)\n",
      "vad.shape(342,)\n"
     ]
    },
    {
     "name": "stderr",
     "output_type": "stream",
     "text": [
      " 34%|███▍      | 2178/6394 [02:19<03:02, 23.06it/s]"
     ]
    },
    {
     "name": "stdout",
     "output_type": "stream",
     "text": [
      "features.shape(62, 295)\n",
      "vad.shape(295,)\n",
      "features.shape(62, 317)\n",
      "vad.shape(317,)\n",
      "features.shape(62, 410)\n",
      "vad.shape(410,)\n"
     ]
    },
    {
     "name": "stderr",
     "output_type": "stream",
     "text": [
      " 34%|███▍      | 2185/6394 [02:19<03:09, 22.16it/s]"
     ]
    },
    {
     "name": "stdout",
     "output_type": "stream",
     "text": [
      "features.shape(62, 381)\n",
      "vad.shape(381,)\n",
      "features.shape(62, 402)\n",
      "vad.shape(402,)\n",
      "features.shape(62, 270)\n",
      "vad.shape(270,)\n",
      "features.shape(62, 316)\n",
      "vad.shape(316,)\n",
      "features.shape(62, 355)\n",
      "vad.shape(355,)\n",
      "features.shape(62, 419)\n",
      "vad.shape(419,)\n",
      "features.shape(62, 380)\n",
      "vad.shape(380,)\n"
     ]
    },
    {
     "name": "stderr",
     "output_type": "stream",
     "text": [
      " 34%|███▍      | 2188/6394 [02:19<03:11, 21.95it/s]"
     ]
    },
    {
     "name": "stdout",
     "output_type": "stream",
     "text": [
      "features.shape(62, 427)\n",
      "vad.shape(427,)\n",
      "features.shape(62, 351)\n",
      "vad.shape(351,)\n",
      "features.shape(62, 364)\n",
      "vad.shape(364,)\n"
     ]
    },
    {
     "name": "stderr",
     "output_type": "stream",
     "text": [
      " 34%|███▍      | 2194/6394 [02:20<03:24, 20.50it/s]"
     ]
    },
    {
     "name": "stdout",
     "output_type": "stream",
     "text": [
      "features.shape(62, 223)\n",
      "vad.shape(223,)\n",
      "features.shape(62, 782)\n",
      "vad.shape(782,)\n",
      "features.shape(62, 308)\n",
      "vad.shape(308,)\n",
      "features.shape(62, 598)\n",
      "vad.shape(598,)\n",
      "features.shape(62, 300)\n",
      "vad.shape(300,)\n"
     ]
    },
    {
     "name": "stderr",
     "output_type": "stream",
     "text": [
      " 34%|███▍      | 2197/6394 [02:20<03:39, 19.16it/s]"
     ]
    },
    {
     "name": "stdout",
     "output_type": "stream",
     "text": [
      "features.shape(62, 376)\n",
      "vad.shape(376,)\n",
      "features.shape(62, 282)\n",
      "vad.shape(282,)\n",
      "features.shape(62, 287)\n",
      "vad.shape(287,)\n"
     ]
    },
    {
     "name": "stderr",
     "output_type": "stream",
     "text": [
      " 34%|███▍      | 2202/6394 [02:20<04:07, 16.93it/s]"
     ]
    },
    {
     "name": "stdout",
     "output_type": "stream",
     "text": [
      "features.shape(62, 287)\n",
      "vad.shape(287,)\n",
      "features.shape(62, 440)\n",
      "vad.shape(440,)\n",
      "features.shape(62, 756)\n",
      "vad.shape(756,)\n",
      "features.shape(62, 411)\n",
      "vad.shape(411,)\n"
     ]
    },
    {
     "name": "stderr",
     "output_type": "stream",
     "text": [
      " 35%|███▍      | 2206/6394 [02:20<03:23, 20.53it/s]"
     ]
    },
    {
     "name": "stdout",
     "output_type": "stream",
     "text": [
      "features.shape(62, 466)\n",
      "vad.shape(466,)\n",
      "features.shape(62, 415)\n",
      "vad.shape(415,)\n",
      "features.shape(62, 453)\n",
      "vad.shape(453,)\n",
      "features.shape(62, 265)\n",
      "vad.shape(265,)\n",
      "features.shape(62, 359)\n",
      "vad.shape(359,)\n"
     ]
    },
    {
     "name": "stderr",
     "output_type": "stream",
     "text": [
      " 35%|███▍      | 2209/6394 [02:20<04:20, 16.05it/s]"
     ]
    },
    {
     "name": "stdout",
     "output_type": "stream",
     "text": [
      "features.shape(62, 547)\n",
      "vad.shape(547,)\n",
      "features.shape(62, 402)\n",
      "vad.shape(402,)\n",
      "features.shape(62, 611)\n",
      "vad.shape(611,)\n"
     ]
    },
    {
     "name": "stderr",
     "output_type": "stream",
     "text": [
      " 35%|███▍      | 2216/6394 [02:21<03:19, 20.96it/s]"
     ]
    },
    {
     "name": "stdout",
     "output_type": "stream",
     "text": [
      "features.shape(62, 411)\n",
      "vad.shape(411,)\n",
      "features.shape(62, 547)\n",
      "vad.shape(547,)\n",
      "features.shape(62, 385)\n",
      "vad.shape(385,)\n",
      "features.shape(62, 445)\n",
      "vad.shape(445,)\n",
      "features.shape(62, 670)\n",
      "vad.shape(670,)\n",
      "features.shape(62, 513)\n",
      "vad.shape(513,)\n",
      "features.shape(62, 423)\n",
      "vad.shape(423,)\n"
     ]
    },
    {
     "name": "stderr",
     "output_type": "stream",
     "text": [
      " 35%|███▍      | 2219/6394 [02:21<03:07, 22.30it/s]"
     ]
    },
    {
     "name": "stdout",
     "output_type": "stream",
     "text": [
      "features.shape(62, 372)\n",
      "vad.shape(372,)\n",
      "features.shape(62, 620)\n",
      "vad.shape(620,)\n",
      "features.shape(62, 1016)\n",
      "vad.shape(1016,)\n",
      "features.shape(62, 381)\n",
      "vad.shape(381,)\n"
     ]
    },
    {
     "name": "stderr",
     "output_type": "stream",
     "text": [
      " 35%|███▍      | 2225/6394 [02:21<04:03, 17.15it/s]"
     ]
    },
    {
     "name": "stdout",
     "output_type": "stream",
     "text": [
      "features.shape(62, 457)\n",
      "vad.shape(457,)\n",
      "features.shape(62, 414)\n",
      "vad.shape(414,)\n",
      "features.shape(62, 414)\n",
      "vad.shape(414,)\n",
      "features.shape(62, 300)\n",
      "vad.shape(300,)\n"
     ]
    },
    {
     "name": "stderr",
     "output_type": "stream",
     "text": [
      " 35%|███▍      | 2228/6394 [02:21<03:46, 18.42it/s]"
     ]
    },
    {
     "name": "stdout",
     "output_type": "stream",
     "text": [
      "features.shape(62, 312)\n",
      "vad.shape(312,)\n",
      "features.shape(62, 380)\n",
      "vad.shape(380,)\n",
      "features.shape(62, 482)\n",
      "vad.shape(482,)\n",
      "features.shape(62, 645)\n",
      "vad.shape(645,)\n",
      "features.shape(62, 517)\n",
      "vad.shape(517,)\n"
     ]
    },
    {
     "name": "stderr",
     "output_type": "stream",
     "text": [
      " 35%|███▍      | 2234/6394 [02:22<03:19, 20.88it/s]"
     ]
    },
    {
     "name": "stdout",
     "output_type": "stream",
     "text": [
      "features.shape(62, 556)\n",
      "vad.shape(556,)\n",
      "features.shape(62, 734)\n",
      "vad.shape(734,)\n",
      "features.shape(62, 410)\n",
      "vad.shape(410,)\n",
      "features.shape(62, 423)\n",
      "vad.shape(423,)\n",
      "features.shape(62, 487)\n",
      "vad.shape(487,)\n"
     ]
    },
    {
     "name": "stderr",
     "output_type": "stream",
     "text": [
      " 35%|███▍      | 2237/6394 [02:22<03:59, 17.35it/s]"
     ]
    },
    {
     "name": "stdout",
     "output_type": "stream",
     "text": [
      "features.shape(62, 654)\n",
      "vad.shape(654,)\n",
      "features.shape(62, 223)\n",
      "vad.shape(223,)\n",
      "features.shape(62, 607)\n",
      "vad.shape(607,)\n"
     ]
    },
    {
     "name": "stderr",
     "output_type": "stream",
     "text": [
      " 35%|███▌      | 2241/6394 [02:22<03:51, 17.95it/s]"
     ]
    },
    {
     "name": "stdout",
     "output_type": "stream",
     "text": [
      "features.shape(62, 628)\n",
      "vad.shape(628,)\n",
      "features.shape(62, 513)\n",
      "vad.shape(513,)\n",
      "features.shape(62, 521)\n",
      "vad.shape(521,)\n",
      "features.shape(62, 564)\n",
      "vad.shape(564,)\n",
      "features.shape(62, 581)\n",
      "vad.shape(581,)\n"
     ]
    },
    {
     "name": "stderr",
     "output_type": "stream",
     "text": [
      " 35%|███▌      | 2244/6394 [02:22<03:42, 18.68it/s]"
     ]
    },
    {
     "name": "stdout",
     "output_type": "stream",
     "text": [
      "features.shape(62, 513)\n",
      "vad.shape(513,)\n",
      "features.shape(62, 538)\n",
      "vad.shape(538,)\n"
     ]
    },
    {
     "name": "stderr",
     "output_type": "stream",
     "text": [
      " 35%|███▌      | 2249/6394 [02:23<04:08, 16.69it/s]"
     ]
    },
    {
     "name": "stdout",
     "output_type": "stream",
     "text": [
      "features.shape(62, 534)\n",
      "vad.shape(534,)\n",
      "features.shape(62, 415)\n",
      "vad.shape(415,)\n",
      "features.shape(62, 197)\n",
      "vad.shape(197,)\n",
      "features.shape(62, 419)\n",
      "vad.shape(419,)\n",
      "features.shape(62, 402)\n",
      "vad.shape(402,)\n",
      "features.shape(62, 675)\n",
      "vad.shape(675,)\n"
     ]
    },
    {
     "name": "stderr",
     "output_type": "stream",
     "text": [
      " 35%|███▌      | 2257/6394 [02:23<02:54, 23.68it/s]"
     ]
    },
    {
     "name": "stdout",
     "output_type": "stream",
     "text": [
      "features.shape(62, 500)\n",
      "vad.shape(500,)\n",
      "features.shape(62, 474)\n",
      "vad.shape(474,)\n",
      "features.shape(62, 398)\n",
      "vad.shape(398,)\n",
      "features.shape(62, 376)\n",
      "vad.shape(376,)\n",
      "features.shape(62, 692)\n",
      "vad.shape(692,)\n",
      "features.shape(62, 504)\n",
      "vad.shape(504,)\n",
      "features.shape(62, 572)\n",
      "vad.shape(572,)\n"
     ]
    },
    {
     "name": "stderr",
     "output_type": "stream",
     "text": [
      " 35%|███▌      | 2263/6394 [02:23<02:55, 23.52it/s]"
     ]
    },
    {
     "name": "stdout",
     "output_type": "stream",
     "text": [
      "features.shape(62, 457)\n",
      "vad.shape(457,)\n",
      "features.shape(62, 415)\n",
      "vad.shape(415,)\n",
      "features.shape(62, 504)\n",
      "vad.shape(504,)\n",
      "features.shape(62, 594)\n",
      "vad.shape(594,)\n",
      "features.shape(62, 508)\n",
      "vad.shape(508,)\n"
     ]
    },
    {
     "name": "stderr",
     "output_type": "stream",
     "text": [
      " 35%|███▌      | 2266/6394 [02:23<02:56, 23.37it/s]"
     ]
    },
    {
     "name": "stdout",
     "output_type": "stream",
     "text": [
      "features.shape(62, 479)\n",
      "vad.shape(479,)\n",
      "features.shape(62, 547)\n",
      "vad.shape(547,)\n",
      "features.shape(62, 423)\n",
      "vad.shape(423,)\n",
      "features.shape(62, 500)\n",
      "vad.shape(500,)\n",
      "features.shape(62, 483)\n",
      "vad.shape(483,)\n"
     ]
    },
    {
     "name": "stderr",
     "output_type": "stream",
     "text": [
      " 35%|███▌      | 2269/6394 [02:23<02:51, 24.01it/s]"
     ]
    },
    {
     "name": "stdout",
     "output_type": "stream",
     "text": [
      "features.shape(62, 564)\n",
      "vad.shape(564,)\n",
      "features.shape(62, 163)\n",
      "vad.shape(163,)\n",
      "features.shape(62, 500)\n",
      "vad.shape(500,)\n"
     ]
    },
    {
     "name": "stderr",
     "output_type": "stream",
     "text": [
      " 36%|███▌      | 2275/6394 [02:24<03:46, 18.20it/s]"
     ]
    },
    {
     "name": "stdout",
     "output_type": "stream",
     "text": [
      "features.shape(62, 449)\n",
      "vad.shape(449,)\n",
      "features.shape(62, 525)\n",
      "vad.shape(525,)\n",
      "features.shape(62, 500)\n",
      "vad.shape(500,)\n",
      "features.shape(62, 701)\n",
      "vad.shape(701,)\n"
     ]
    },
    {
     "name": "stderr",
     "output_type": "stream",
     "text": [
      " 36%|███▌      | 2279/6394 [02:24<03:52, 17.71it/s]"
     ]
    },
    {
     "name": "stdout",
     "output_type": "stream",
     "text": [
      "features.shape(62, 466)\n",
      "vad.shape(466,)\n",
      "features.shape(62, 415)\n",
      "vad.shape(415,)\n",
      "features.shape(62, 474)\n",
      "vad.shape(474,)\n",
      "features.shape(62, 363)\n",
      "vad.shape(363,)\n"
     ]
    },
    {
     "name": "stderr",
     "output_type": "stream",
     "text": [
      " 36%|███▌      | 2282/6394 [02:24<03:23, 20.21it/s]"
     ]
    },
    {
     "name": "stdout",
     "output_type": "stream",
     "text": [
      "features.shape(62, 436)\n",
      "vad.shape(436,)\n",
      "features.shape(62, 423)\n",
      "vad.shape(423,)\n",
      "features.shape(62, 479)\n",
      "vad.shape(479,)\n",
      "features.shape(62, 500)\n",
      "vad.shape(500,)\n",
      "features.shape(62, 449)\n",
      "vad.shape(449,)\n"
     ]
    },
    {
     "name": "stderr",
     "output_type": "stream",
     "text": [
      " 36%|███▌      | 2287/6394 [02:24<04:00, 17.10it/s]"
     ]
    },
    {
     "name": "stdout",
     "output_type": "stream",
     "text": [
      "features.shape(62, 560)\n",
      "vad.shape(560,)\n",
      "features.shape(62, 500)\n",
      "vad.shape(500,)\n",
      "features.shape(62, 351)\n",
      "vad.shape(351,)\n",
      "features.shape(62, 632)\n",
      "vad.shape(632,)\n",
      "features.shape(62, 338)\n"
     ]
    },
    {
     "name": "stderr",
     "output_type": "stream",
     "text": [
      " 36%|███▌      | 2295/6394 [02:25<02:52, 23.79it/s]"
     ]
    },
    {
     "name": "stdout",
     "output_type": "stream",
     "text": [
      "vad.shape(338,)\n",
      "features.shape(62, 547)\n",
      "vad.shape(547,)\n",
      "features.shape(62, 568)\n",
      "vad.shape(568,)\n",
      "features.shape(62, 479)\n",
      "vad.shape(479,)\n",
      "features.shape(62, 636)\n",
      "vad.shape(636,)\n",
      "features.shape(62, 491)\n",
      "vad.shape(491,)\n",
      "features.shape(62, 521)\n",
      "vad.shape(521,)\n"
     ]
    },
    {
     "name": "stderr",
     "output_type": "stream",
     "text": [
      " 36%|███▌      | 2298/6394 [02:25<03:34, 19.10it/s]"
     ]
    },
    {
     "name": "stdout",
     "output_type": "stream",
     "text": [
      "features.shape(62, 547)\n",
      "vad.shape(547,)\n",
      "features.shape(62, 479)\n",
      "vad.shape(479,)\n",
      "features.shape(62, 432)\n",
      "vad.shape(432,)\n"
     ]
    },
    {
     "name": "stderr",
     "output_type": "stream",
     "text": [
      " 36%|███▌      | 2301/6394 [02:25<03:58, 17.15it/s]"
     ]
    },
    {
     "name": "stdout",
     "output_type": "stream",
     "text": [
      "features.shape(62, 573)\n",
      "vad.shape(573,)\n",
      "features.shape(62, 321)\n",
      "vad.shape(321,)\n",
      "features.shape(62, 432)\n",
      "vad.shape(432,)\n",
      "features.shape(62, 726)\n",
      "vad.shape(726,)\n"
     ]
    },
    {
     "name": "stderr",
     "output_type": "stream",
     "text": [
      " 36%|███▌      | 2307/6394 [02:25<03:26, 19.83it/s]"
     ]
    },
    {
     "name": "stdout",
     "output_type": "stream",
     "text": [
      "features.shape(62, 193)\n",
      "vad.shape(193,)\n",
      "features.shape(62, 589)\n",
      "vad.shape(589,)\n",
      "features.shape(62, 453)\n",
      "vad.shape(453,)\n",
      "features.shape(62, 585)\n",
      "vad.shape(585,)\n",
      "features.shape(62, 491)\n",
      "vad.shape(491,)\n",
      "features.shape(62, 607)\n",
      "vad.shape(607,)\n"
     ]
    },
    {
     "name": "stderr",
     "output_type": "stream",
     "text": [
      " 36%|███▌      | 2313/6394 [02:26<03:26, 19.77it/s]"
     ]
    },
    {
     "name": "stdout",
     "output_type": "stream",
     "text": [
      "features.shape(62, 415)\n",
      "vad.shape(415,)\n",
      "features.shape(62, 577)\n",
      "vad.shape(577,)\n",
      "features.shape(62, 526)\n",
      "vad.shape(526,)\n",
      "features.shape(62, 483)\n",
      "vad.shape(483,)\n",
      "features.shape(62, 517)\n",
      "vad.shape(517,)\n"
     ]
    },
    {
     "name": "stderr",
     "output_type": "stream",
     "text": [
      " 36%|███▌      | 2316/6394 [02:26<04:04, 16.66it/s]"
     ]
    },
    {
     "name": "stdout",
     "output_type": "stream",
     "text": [
      "features.shape(62, 249)\n",
      "vad.shape(249,)\n",
      "features.shape(62, 445)\n",
      "vad.shape(445,)\n",
      "features.shape(62, 445)\n",
      "vad.shape(445,)\n",
      "features.shape(62, 479)\n",
      "vad.shape(479,)\n"
     ]
    },
    {
     "name": "stderr",
     "output_type": "stream",
     "text": [
      " 36%|███▋      | 2324/6394 [02:26<02:59, 22.67it/s]"
     ]
    },
    {
     "name": "stdout",
     "output_type": "stream",
     "text": [
      "features.shape(62, 491)\n",
      "vad.shape(491,)\n",
      "features.shape(62, 530)\n",
      "vad.shape(530,)\n",
      "features.shape(62, 539)\n",
      "vad.shape(539,)\n",
      "features.shape(62, 556)\n",
      "vad.shape(556,)\n",
      "features.shape(62, 525)\n",
      "vad.shape(525,)\n",
      "features.shape(62, 252)\n",
      "vad.shape(252,)\n",
      "features.shape(62, 560)\n",
      "vad.shape(560,)\n"
     ]
    },
    {
     "name": "stderr",
     "output_type": "stream",
     "text": [
      " 36%|███▋      | 2327/6394 [02:26<03:04, 22.05it/s]"
     ]
    },
    {
     "name": "stdout",
     "output_type": "stream",
     "text": [
      "features.shape(62, 304)\n",
      "vad.shape(304,)\n",
      "features.shape(62, 636)\n",
      "vad.shape(636,)\n",
      "features.shape(62, 594)\n",
      "vad.shape(594,)\n",
      "features.shape(62, 513)\n",
      "vad.shape(513,)\n",
      "features.shape(62, 300)\n",
      "vad.shape(300,)\n"
     ]
    },
    {
     "name": "stderr",
     "output_type": "stream",
     "text": [
      " 37%|███▋      | 2334/6394 [02:27<02:54, 23.31it/s]"
     ]
    },
    {
     "name": "stdout",
     "output_type": "stream",
     "text": [
      "features.shape(62, 816)\n",
      "vad.shape(816,)\n",
      "features.shape(62, 513)\n",
      "vad.shape(513,)\n",
      "features.shape(62, 376)\n",
      "vad.shape(376,)\n",
      "features.shape(62, 479)\n",
      "vad.shape(479,)\n",
      "features.shape(62, 517)\n",
      "vad.shape(517,)\n"
     ]
    },
    {
     "name": "stderr",
     "output_type": "stream",
     "text": [
      " 37%|███▋      | 2337/6394 [02:27<03:24, 19.86it/s]"
     ]
    },
    {
     "name": "stdout",
     "output_type": "stream",
     "text": [
      "features.shape(62, 415)\n",
      "vad.shape(415,)\n",
      "features.shape(62, 628)\n",
      "vad.shape(628,)\n",
      "features.shape(62, 372)\n",
      "vad.shape(372,)\n",
      "features.shape(62, 509)\n",
      "vad.shape(509,)\n"
     ]
    },
    {
     "name": "stderr",
     "output_type": "stream",
     "text": [
      " 37%|███▋      | 2340/6394 [02:27<03:31, 19.17it/s]"
     ]
    },
    {
     "name": "stdout",
     "output_type": "stream",
     "text": [
      "features.shape(62, 914)\n",
      "vad.shape(914,)\n",
      "features.shape(62, 423)\n",
      "vad.shape(423,)\n",
      "features.shape(62, 513)\n",
      "vad.shape(513,)\n",
      "features.shape(62, 496)\n",
      "vad.shape(496,)\n"
     ]
    },
    {
     "name": "stderr",
     "output_type": "stream",
     "text": [
      " 37%|███▋      | 2346/6394 [02:27<03:40, 18.35it/s]"
     ]
    },
    {
     "name": "stdout",
     "output_type": "stream",
     "text": [
      "features.shape(62, 402)\n",
      "vad.shape(402,)\n",
      "features.shape(62, 521)\n",
      "vad.shape(521,)\n",
      "features.shape(62, 568)\n",
      "vad.shape(568,)\n",
      "features.shape(62, 581)\n",
      "vad.shape(581,)\n",
      "features.shape(62, 1063)\n",
      "vad.shape(1063,)\n"
     ]
    },
    {
     "name": "stderr",
     "output_type": "stream",
     "text": [
      " 37%|███▋      | 2351/6394 [02:28<03:40, 18.37it/s]"
     ]
    },
    {
     "name": "stdout",
     "output_type": "stream",
     "text": [
      "features.shape(62, 222)\n",
      "vad.shape(222,)\n",
      "features.shape(62, 445)\n",
      "vad.shape(445,)\n",
      "features.shape(62, 529)\n",
      "vad.shape(529,)\n",
      "features.shape(62, 470)\n",
      "vad.shape(470,)\n"
     ]
    },
    {
     "name": "stderr",
     "output_type": "stream",
     "text": [
      " 37%|███▋      | 2354/6394 [02:28<03:22, 19.96it/s]"
     ]
    },
    {
     "name": "stdout",
     "output_type": "stream",
     "text": [
      "features.shape(62, 658)\n",
      "vad.shape(658,)\n",
      "features.shape(62, 427)\n",
      "vad.shape(427,)\n",
      "features.shape(62, 445)\n",
      "vad.shape(445,)\n",
      "features.shape(62, 398)\n",
      "vad.shape(398,)\n",
      "features.shape(62, 385)\n",
      "vad.shape(385,)\n"
     ]
    },
    {
     "name": "stderr",
     "output_type": "stream",
     "text": [
      " 37%|███▋      | 2360/6394 [02:28<03:22, 19.93it/s]"
     ]
    },
    {
     "name": "stdout",
     "output_type": "stream",
     "text": [
      "features.shape(62, 517)\n",
      "vad.shape(517,)\n",
      "features.shape(62, 466)\n",
      "vad.shape(466,)\n",
      "features.shape(62, 419)\n",
      "vad.shape(419,)\n",
      "features.shape(62, 406)\n",
      "vad.shape(406,)\n",
      "features.shape(62, 615)\n",
      "vad.shape(615,)\n"
     ]
    },
    {
     "name": "stderr",
     "output_type": "stream",
     "text": [
      " 37%|███▋      | 2363/6394 [02:28<03:47, 17.70it/s]"
     ]
    },
    {
     "name": "stdout",
     "output_type": "stream",
     "text": [
      "features.shape(62, 496)\n",
      "vad.shape(496,)\n",
      "features.shape(62, 521)\n",
      "vad.shape(521,)\n",
      "features.shape(62, 496)\n",
      "vad.shape(496,)\n"
     ]
    },
    {
     "name": "stderr",
     "output_type": "stream",
     "text": [
      " 37%|███▋      | 2368/6394 [02:29<03:25, 19.58it/s]"
     ]
    },
    {
     "name": "stdout",
     "output_type": "stream",
     "text": [
      "features.shape(62, 432)\n",
      "vad.shape(432,)\n",
      "features.shape(62, 560)\n",
      "vad.shape(560,)\n",
      "features.shape(62, 474)\n",
      "vad.shape(474,)\n",
      "features.shape(62, 560)\n",
      "vad.shape(560,)\n",
      "features.shape(62, 573)\n",
      "vad.shape(573,)\n",
      "features.shape(62, 321)\n",
      "vad.shape(321,)\n"
     ]
    },
    {
     "name": "stderr",
     "output_type": "stream",
     "text": [
      " 37%|███▋      | 2373/6394 [02:29<03:56, 16.99it/s]"
     ]
    },
    {
     "name": "stdout",
     "output_type": "stream",
     "text": [
      "features.shape(62, 462)\n",
      "vad.shape(462,)\n",
      "features.shape(62, 602)\n",
      "vad.shape(602,)\n",
      "features.shape(62, 513)\n",
      "vad.shape(513,)\n",
      "features.shape(62, 462)\n",
      "vad.shape(462,)\n",
      "features.shape(62, 419)\n",
      "vad.shape(419,)\n",
      "features.shape(62, 577)\n"
     ]
    },
    {
     "name": "stderr",
     "output_type": "stream",
     "text": [
      " 37%|███▋      | 2381/6394 [02:29<02:52, 23.29it/s]"
     ]
    },
    {
     "name": "stdout",
     "output_type": "stream",
     "text": [
      "vad.shape(577,)\n",
      "features.shape(62, 637)\n",
      "vad.shape(637,)\n",
      "features.shape(62, 406)\n",
      "vad.shape(406,)\n",
      "features.shape(62, 492)\n",
      "vad.shape(492,)\n",
      "features.shape(62, 474)\n",
      "vad.shape(474,)\n",
      "features.shape(62, 222)\n",
      "vad.shape(222,)\n"
     ]
    },
    {
     "name": "stderr",
     "output_type": "stream",
     "text": [
      " 37%|███▋      | 2384/6394 [02:29<03:01, 22.09it/s]"
     ]
    },
    {
     "name": "stdout",
     "output_type": "stream",
     "text": [
      "features.shape(62, 423)\n",
      "vad.shape(423,)\n",
      "features.shape(62, 496)\n",
      "vad.shape(496,)\n",
      "features.shape(62, 526)\n",
      "vad.shape(526,)\n",
      "features.shape(62, 517)\n"
     ]
    },
    {
     "name": "stderr",
     "output_type": "stream",
     "text": [
      " 37%|███▋      | 2387/6394 [02:29<03:02, 21.94it/s]"
     ]
    },
    {
     "name": "stdout",
     "output_type": "stream",
     "text": [
      "vad.shape(517,)\n",
      "features.shape(62, 709)\n",
      "vad.shape(709,)\n",
      "features.shape(62, 662)\n",
      "vad.shape(662,)\n",
      "features.shape(62, 466)\n",
      "vad.shape(466,)\n",
      "features.shape(62, 457)\n",
      "vad.shape(457,)\n",
      "features.shape(62, 662)\n",
      "vad.shape(662,)\n"
     ]
    },
    {
     "name": "stderr",
     "output_type": "stream",
     "text": [
      " 37%|███▋      | 2391/6394 [02:30<02:51, 23.31it/s]"
     ]
    },
    {
     "name": "stdout",
     "output_type": "stream",
     "text": [
      "features.shape(62, 564)\n",
      "vad.shape(564,)\n",
      "features.shape(62, 253)\n",
      "vad.shape(253,)\n",
      "features.shape(62, 534)\n",
      "vad.shape(534,)\n"
     ]
    },
    {
     "name": "stderr",
     "output_type": "stream",
     "text": [
      " 37%|███▋      | 2394/6394 [02:30<03:36, 18.51it/s]"
     ]
    },
    {
     "name": "stdout",
     "output_type": "stream",
     "text": [
      "features.shape(62, 910)\n",
      "vad.shape(910,)\n",
      "features.shape(62, 573)\n",
      "vad.shape(573,)\n",
      "features.shape(62, 368)\n",
      "vad.shape(368,)\n"
     ]
    },
    {
     "name": "stderr",
     "output_type": "stream",
     "text": [
      " 38%|███▊      | 2399/6394 [02:30<04:22, 15.20it/s]"
     ]
    },
    {
     "name": "stdout",
     "output_type": "stream",
     "text": [
      "features.shape(62, 444)\n",
      "vad.shape(444,)\n",
      "features.shape(62, 671)\n",
      "vad.shape(671,)\n",
      "features.shape(62, 423)\n",
      "vad.shape(423,)\n"
     ]
    },
    {
     "name": "stderr",
     "output_type": "stream",
     "text": [
      " 38%|███▊      | 2403/6394 [02:31<04:30, 14.77it/s]"
     ]
    },
    {
     "name": "stdout",
     "output_type": "stream",
     "text": [
      "features.shape(62, 517)\n",
      "vad.shape(517,)\n",
      "features.shape(62, 461)\n",
      "vad.shape(461,)\n",
      "features.shape(62, 500)\n",
      "vad.shape(500,)\n",
      "features.shape(62, 372)\n",
      "vad.shape(372,)\n"
     ]
    },
    {
     "name": "stderr",
     "output_type": "stream",
     "text": [
      " 38%|███▊      | 2407/6394 [02:31<03:30, 18.95it/s]"
     ]
    },
    {
     "name": "stdout",
     "output_type": "stream",
     "text": [
      "features.shape(62, 504)\n",
      "vad.shape(504,)\n",
      "features.shape(62, 803)\n",
      "vad.shape(803,)\n",
      "features.shape(62, 517)\n",
      "vad.shape(517,)\n",
      "features.shape(62, 624)\n",
      "vad.shape(624,)\n",
      "features.shape(62, 525)\n",
      "vad.shape(525,)\n",
      "features.shape(62, 355)\n",
      "vad.shape(355,)\n",
      "features.shape(62, 406)\n",
      "vad.shape(406,)\n"
     ]
    },
    {
     "name": "stderr",
     "output_type": "stream",
     "text": [
      " 38%|███▊      | 2414/6394 [02:31<03:06, 21.29it/s]"
     ]
    },
    {
     "name": "stdout",
     "output_type": "stream",
     "text": [
      "features.shape(62, 496)\n",
      "vad.shape(496,)\n",
      "features.shape(62, 449)\n",
      "vad.shape(449,)\n",
      "features.shape(62, 611)\n",
      "vad.shape(611,)\n",
      "features.shape(62, 295)\n",
      "vad.shape(295,)\n",
      "features.shape(62, 513)\n",
      "vad.shape(513,)\n"
     ]
    },
    {
     "name": "stderr",
     "output_type": "stream",
     "text": [
      " 38%|███▊      | 2420/6394 [02:31<03:04, 21.54it/s]"
     ]
    },
    {
     "name": "stdout",
     "output_type": "stream",
     "text": [
      "features.shape(62, 615)\n",
      "vad.shape(615,)\n",
      "features.shape(62, 398)\n",
      "vad.shape(398,)\n",
      "features.shape(62, 453)\n",
      "vad.shape(453,)\n",
      "features.shape(62, 453)\n",
      "vad.shape(453,)\n",
      "features.shape(62, 453)\n",
      "vad.shape(453,)\n"
     ]
    },
    {
     "name": "stderr",
     "output_type": "stream",
     "text": [
      " 38%|███▊      | 2423/6394 [02:31<03:05, 21.44it/s]"
     ]
    },
    {
     "name": "stdout",
     "output_type": "stream",
     "text": [
      "features.shape(62, 607)\n",
      "vad.shape(607,)\n",
      "features.shape(62, 573)\n",
      "vad.shape(573,)\n",
      "features.shape(62, 466)\n",
      "vad.shape(466,)\n",
      "features.shape(62, 423)\n",
      "vad.shape(423,)\n",
      "features.shape(62, 261)\n",
      "vad.shape(261,)\n"
     ]
    },
    {
     "name": "stderr",
     "output_type": "stream",
     "text": [
      " 38%|███▊      | 2429/6394 [02:32<03:14, 20.39it/s]"
     ]
    },
    {
     "name": "stdout",
     "output_type": "stream",
     "text": [
      "features.shape(62, 551)\n",
      "vad.shape(551,)\n",
      "features.shape(62, 508)\n",
      "vad.shape(508,)\n",
      "features.shape(62, 411)\n",
      "vad.shape(411,)\n",
      "features.shape(62, 564)\n",
      "vad.shape(564,)\n",
      "features.shape(62, 393)\n",
      "vad.shape(393,)\n"
     ]
    },
    {
     "name": "stderr",
     "output_type": "stream",
     "text": [
      " 38%|███▊      | 2432/6394 [02:32<02:59, 22.12it/s]"
     ]
    },
    {
     "name": "stdout",
     "output_type": "stream",
     "text": [
      "features.shape(62, 927)\n",
      "vad.shape(927,)\n",
      "features.shape(62, 722)\n",
      "vad.shape(722,)\n",
      "features.shape(62, 491)\n",
      "vad.shape(491,)\n"
     ]
    },
    {
     "name": "stderr",
     "output_type": "stream",
     "text": [
      " 38%|███▊      | 2437/6394 [02:32<03:39, 18.02it/s]"
     ]
    },
    {
     "name": "stdout",
     "output_type": "stream",
     "text": [
      "features.shape(62, 671)\n",
      "vad.shape(671,)\n",
      "features.shape(62, 466)\n",
      "vad.shape(466,)\n",
      "features.shape(62, 329)\n",
      "vad.shape(329,)\n",
      "features.shape(62, 530)\n",
      "vad.shape(530,)\n"
     ]
    },
    {
     "name": "stderr",
     "output_type": "stream",
     "text": [
      " 38%|███▊      | 2439/6394 [02:32<04:06, 16.07it/s]"
     ]
    },
    {
     "name": "stdout",
     "output_type": "stream",
     "text": [
      "features.shape(62, 619)\n",
      "vad.shape(619,)\n",
      "features.shape(62, 517)\n",
      "vad.shape(517,)\n",
      "features.shape(62, 470)\n",
      "vad.shape(470,)\n",
      "features.shape(62, 466)\n",
      "vad.shape(466,)\n"
     ]
    },
    {
     "name": "stderr",
     "output_type": "stream",
     "text": [
      " 38%|███▊      | 2445/6394 [02:33<03:14, 20.31it/s]"
     ]
    },
    {
     "name": "stdout",
     "output_type": "stream",
     "text": [
      "features.shape(62, 551)\n",
      "vad.shape(551,)\n",
      "features.shape(62, 491)\n",
      "vad.shape(491,)\n",
      "features.shape(62, 415)\n",
      "vad.shape(415,)\n",
      "features.shape(62, 521)\n",
      "vad.shape(521,)\n",
      "features.shape(62, 628)\n",
      "vad.shape(628,)\n"
     ]
    },
    {
     "name": "stderr",
     "output_type": "stream",
     "text": [
      " 38%|███▊      | 2450/6394 [02:33<03:34, 18.35it/s]"
     ]
    },
    {
     "name": "stdout",
     "output_type": "stream",
     "text": [
      "features.shape(62, 325)\n",
      "vad.shape(325,)\n",
      "features.shape(62, 312)\n",
      "vad.shape(312,)\n",
      "features.shape(62, 530)\n",
      "vad.shape(530,)\n",
      "features.shape(62, 487)\n",
      "vad.shape(487,)\n"
     ]
    },
    {
     "name": "stderr",
     "output_type": "stream",
     "text": [
      " 38%|███▊      | 2457/6394 [02:33<02:45, 23.78it/s]"
     ]
    },
    {
     "name": "stdout",
     "output_type": "stream",
     "text": [
      "features.shape(62, 521)\n",
      "vad.shape(521,)\n",
      "features.shape(62, 385)\n",
      "vad.shape(385,)\n",
      "features.shape(62, 628)\n",
      "vad.shape(628,)\n",
      "features.shape(62, 504)\n",
      "vad.shape(504,)\n",
      "features.shape(62, 427)\n",
      "vad.shape(427,)\n",
      "features.shape(62, 577)\n",
      "vad.shape(577,)\n",
      "features.shape(62, 530)\n",
      "vad.shape(530,)\n"
     ]
    },
    {
     "name": "stderr",
     "output_type": "stream",
     "text": [
      " 38%|███▊      | 2460/6394 [02:33<02:52, 22.77it/s]"
     ]
    },
    {
     "name": "stdout",
     "output_type": "stream",
     "text": [
      "features.shape(62, 504)\n",
      "vad.shape(504,)\n",
      "features.shape(62, 287)\n",
      "vad.shape(287,)\n",
      "features.shape(62, 551)\n",
      "vad.shape(551,)\n",
      "features.shape(62, 867)\n",
      "vad.shape(867,)\n"
     ]
    },
    {
     "name": "stderr",
     "output_type": "stream",
     "text": [
      " 39%|███▊      | 2467/6394 [02:34<02:43, 23.98it/s]"
     ]
    },
    {
     "name": "stdout",
     "output_type": "stream",
     "text": [
      "features.shape(62, 492)\n",
      "vad.shape(492,)\n",
      "features.shape(62, 410)\n",
      "vad.shape(410,)\n",
      "features.shape(62, 449)\n",
      "vad.shape(449,)\n",
      "features.shape(62, 581)\n",
      "vad.shape(581,)\n",
      "features.shape(62, 479)\n",
      "vad.shape(479,)\n",
      "features.shape(62, 589)\n",
      "vad.shape(589,)\n",
      "features.shape(62, 504)\n"
     ]
    },
    {
     "name": "stderr",
     "output_type": "stream",
     "text": [
      " 39%|███▊      | 2473/6394 [02:34<02:37, 24.97it/s]"
     ]
    },
    {
     "name": "stdout",
     "output_type": "stream",
     "text": [
      "vad.shape(504,)\n",
      "features.shape(62, 624)\n",
      "vad.shape(624,)\n",
      "features.shape(62, 287)\n",
      "vad.shape(287,)\n",
      "features.shape(62, 423)\n",
      "vad.shape(423,)\n",
      "features.shape(62, 466)\n",
      "vad.shape(466,)\n",
      "features.shape(62, 419)\n",
      "vad.shape(419,)\n"
     ]
    },
    {
     "name": "stderr",
     "output_type": "stream",
     "text": [
      " 39%|███▊      | 2476/6394 [02:34<02:54, 22.42it/s]"
     ]
    },
    {
     "name": "stdout",
     "output_type": "stream",
     "text": [
      "features.shape(62, 385)\n",
      "vad.shape(385,)\n",
      "features.shape(62, 555)\n",
      "vad.shape(555,)\n",
      "features.shape(62, 385)\n",
      "vad.shape(385,)\n"
     ]
    },
    {
     "name": "stderr",
     "output_type": "stream",
     "text": [
      " 39%|███▉      | 2480/6394 [02:34<02:39, 24.48it/s]"
     ]
    },
    {
     "name": "stdout",
     "output_type": "stream",
     "text": [
      "features.shape(62, 598)\n",
      "vad.shape(598,)\n",
      "features.shape(62, 539)\n",
      "vad.shape(539,)\n",
      "features.shape(62, 513)\n",
      "vad.shape(513,)\n",
      "features.shape(62, 423)\n",
      "vad.shape(423,)\n",
      "features.shape(62, 329)\n",
      "vad.shape(329,)\n",
      "features.shape(62, 474)\n",
      "vad.shape(474,)\n"
     ]
    },
    {
     "name": "stderr",
     "output_type": "stream",
     "text": [
      " 39%|███▉      | 2486/6394 [02:34<02:49, 23.11it/s]"
     ]
    },
    {
     "name": "stdout",
     "output_type": "stream",
     "text": [
      "features.shape(62, 487)\n",
      "vad.shape(487,)\n",
      "features.shape(62, 334)\n",
      "vad.shape(334,)\n",
      "features.shape(62, 487)\n",
      "vad.shape(487,)\n",
      "features.shape(62, 641)\n",
      "vad.shape(641,)\n",
      "features.shape(62, 513)\n",
      "vad.shape(513,)\n"
     ]
    },
    {
     "name": "stderr",
     "output_type": "stream",
     "text": [
      " 39%|███▉      | 2494/6394 [02:35<02:17, 28.42it/s]"
     ]
    },
    {
     "name": "stdout",
     "output_type": "stream",
     "text": [
      "features.shape(62, 479)\n",
      "vad.shape(479,)\n",
      "features.shape(62, 427)\n",
      "vad.shape(427,)\n",
      "features.shape(62, 598)\n",
      "vad.shape(598,)\n",
      "features.shape(62, 598)\n",
      "vad.shape(598,)\n",
      "features.shape(62, 419)\n",
      "vad.shape(419,)\n",
      "features.shape(62, 517)\n",
      "vad.shape(517,)\n",
      "features.shape(62, 513)\n",
      "vad.shape(513,)\n",
      "features.shape(62, 551)\n",
      "vad.shape(551,)\n"
     ]
    },
    {
     "name": "stderr",
     "output_type": "stream",
     "text": [
      " 39%|███▉      | 2500/6394 [02:35<02:18, 28.07it/s]"
     ]
    },
    {
     "name": "stdout",
     "output_type": "stream",
     "text": [
      "features.shape(62, 500)\n",
      "vad.shape(500,)\n",
      "features.shape(62, 372)\n",
      "vad.shape(372,)\n",
      "features.shape(62, 487)\n",
      "vad.shape(487,)\n",
      "features.shape(62, 526)\n",
      "vad.shape(526,)\n",
      "features.shape(62, 547)\n",
      "vad.shape(547,)\n",
      "features.shape(62, 393)\n",
      "vad.shape(393,)\n",
      "features.shape(62, 492)\n"
     ]
    },
    {
     "name": "stderr",
     "output_type": "stream",
     "text": [
      " 39%|███▉      | 2503/6394 [02:35<02:17, 28.28it/s]"
     ]
    },
    {
     "name": "stdout",
     "output_type": "stream",
     "text": [
      "vad.shape(492,)\n",
      "features.shape(62, 244)\n",
      "vad.shape(244,)\n",
      "features.shape(62, 846)\n",
      "vad.shape(846,)\n",
      "features.shape(62, 513)\n",
      "vad.shape(513,)\n"
     ]
    },
    {
     "name": "stderr",
     "output_type": "stream",
     "text": [
      " 39%|███▉      | 2509/6394 [02:35<02:38, 24.55it/s]"
     ]
    },
    {
     "name": "stdout",
     "output_type": "stream",
     "text": [
      "features.shape(62, 372)\n",
      "vad.shape(372,)\n",
      "features.shape(62, 509)\n",
      "vad.shape(509,)\n",
      "features.shape(62, 568)\n",
      "vad.shape(568,)\n",
      "features.shape(62, 462)\n",
      "vad.shape(462,)\n",
      "features.shape(62, 342)\n",
      "vad.shape(342,)\n",
      "features.shape(62, 474)\n",
      "vad.shape(474,)\n"
     ]
    },
    {
     "name": "stderr",
     "output_type": "stream",
     "text": [
      " 39%|███▉      | 2516/6394 [02:35<02:30, 25.85it/s]"
     ]
    },
    {
     "name": "stdout",
     "output_type": "stream",
     "text": [
      "features.shape(62, 513)\n",
      "vad.shape(513,)\n",
      "features.shape(62, 496)\n",
      "vad.shape(496,)\n",
      "features.shape(62, 355)\n",
      "vad.shape(355,)\n",
      "features.shape(62, 334)\n",
      "vad.shape(334,)\n",
      "features.shape(62, 607)\n",
      "vad.shape(607,)\n",
      "features.shape(62, 462)\n",
      "vad.shape(462,)\n"
     ]
    },
    {
     "name": "stderr",
     "output_type": "stream",
     "text": [
      " 39%|███▉      | 2522/6394 [02:36<02:31, 25.60it/s]"
     ]
    },
    {
     "name": "stdout",
     "output_type": "stream",
     "text": [
      "features.shape(62, 453)\n",
      "vad.shape(453,)\n",
      "features.shape(62, 402)\n",
      "vad.shape(402,)\n",
      "features.shape(62, 495)\n",
      "vad.shape(495,)\n",
      "features.shape(62, 504)\n",
      "vad.shape(504,)\n",
      "features.shape(62, 692)\n",
      "vad.shape(692,)\n"
     ]
    },
    {
     "name": "stderr",
     "output_type": "stream",
     "text": [
      " 40%|███▉      | 2529/6394 [02:36<02:21, 27.35it/s]"
     ]
    },
    {
     "name": "stdout",
     "output_type": "stream",
     "text": [
      "features.shape(62, 543)\n",
      "vad.shape(543,)\n",
      "features.shape(62, 466)\n",
      "vad.shape(466,)\n",
      "features.shape(62, 261)\n",
      "vad.shape(261,)\n",
      "features.shape(62, 662)\n",
      "vad.shape(662,)\n",
      "features.shape(62, 521)\n",
      "vad.shape(521,)\n",
      "features.shape(62, 620)\n",
      "vad.shape(620,)\n",
      "features.shape(62, 602)\n",
      "vad.shape(602,)\n"
     ]
    },
    {
     "name": "stderr",
     "output_type": "stream",
     "text": [
      " 40%|███▉      | 2532/6394 [02:36<02:20, 27.53it/s]"
     ]
    },
    {
     "name": "stdout",
     "output_type": "stream",
     "text": [
      "features.shape(62, 402)\n",
      "vad.shape(402,)\n",
      "features.shape(62, 462)\n",
      "vad.shape(462,)\n",
      "features.shape(62, 381)\n",
      "vad.shape(381,)\n",
      "features.shape(62, 628)\n",
      "vad.shape(628,)\n",
      "features.shape(62, 611)\n",
      "vad.shape(611,)\n"
     ]
    },
    {
     "name": "stderr",
     "output_type": "stream",
     "text": [
      " 40%|███▉      | 2538/6394 [02:36<02:32, 25.20it/s]"
     ]
    },
    {
     "name": "stdout",
     "output_type": "stream",
     "text": [
      "features.shape(62, 858)\n",
      "vad.shape(858,)\n",
      "features.shape(62, 299)\n",
      "vad.shape(299,)\n",
      "features.shape(62, 607)\n",
      "vad.shape(607,)\n",
      "features.shape(62, 363)\n",
      "vad.shape(363,)\n",
      "features.shape(62, 338)\n",
      "vad.shape(338,)\n",
      "features.shape(62, 491)\n",
      "vad.shape(491,)\n"
     ]
    },
    {
     "name": "stderr",
     "output_type": "stream",
     "text": [
      " 40%|███▉      | 2544/6394 [02:37<03:09, 20.34it/s]"
     ]
    },
    {
     "name": "stdout",
     "output_type": "stream",
     "text": [
      "features.shape(62, 304)\n",
      "vad.shape(304,)\n",
      "features.shape(62, 534)\n",
      "vad.shape(534,)\n",
      "features.shape(62, 572)\n",
      "vad.shape(572,)\n",
      "features.shape(62, 804)\n",
      "vad.shape(804,)\n"
     ]
    },
    {
     "name": "stderr",
     "output_type": "stream",
     "text": [
      " 40%|███▉      | 2547/6394 [02:37<03:04, 20.87it/s]"
     ]
    },
    {
     "name": "stdout",
     "output_type": "stream",
     "text": [
      "features.shape(62, 428)\n",
      "vad.shape(428,)\n",
      "features.shape(62, 620)\n",
      "vad.shape(620,)\n",
      "features.shape(62, 228)\n",
      "vad.shape(228,)\n",
      "features.shape(62, 509)\n",
      "vad.shape(509,)\n",
      "features.shape(62, 1272)\n",
      "vad.shape(1272,)\n"
     ]
    },
    {
     "name": "stderr",
     "output_type": "stream",
     "text": [
      " 40%|███▉      | 2550/6394 [02:37<03:17, 19.48it/s]"
     ]
    },
    {
     "name": "stdout",
     "output_type": "stream",
     "text": [
      "features.shape(62, 432)\n",
      "vad.shape(432,)\n",
      "features.shape(62, 470)\n",
      "vad.shape(470,)\n",
      "features.shape(62, 411)\n",
      "vad.shape(411,)\n"
     ]
    },
    {
     "name": "stderr",
     "output_type": "stream",
     "text": [
      " 40%|███▉      | 2557/6394 [02:37<03:12, 19.95it/s]"
     ]
    },
    {
     "name": "stdout",
     "output_type": "stream",
     "text": [
      "features.shape(62, 462)\n",
      "vad.shape(462,)\n",
      "features.shape(62, 602)\n",
      "vad.shape(602,)\n",
      "features.shape(62, 598)\n",
      "vad.shape(598,)\n",
      "features.shape(62, 496)\n",
      "vad.shape(496,)\n",
      "features.shape(62, 470)\n",
      "vad.shape(470,)\n"
     ]
    },
    {
     "name": "stderr",
     "output_type": "stream",
     "text": [
      " 40%|████      | 2560/6394 [02:38<03:39, 17.48it/s]"
     ]
    },
    {
     "name": "stdout",
     "output_type": "stream",
     "text": [
      "features.shape(62, 389)\n",
      "vad.shape(389,)\n",
      "features.shape(62, 312)\n",
      "vad.shape(312,)\n",
      "features.shape(62, 500)\n",
      "vad.shape(500,)\n",
      "features.shape(62, 696)\n",
      "vad.shape(696,)\n",
      "features.shape(62, 573)\n",
      "vad.shape(573,)\n"
     ]
    },
    {
     "name": "stderr",
     "output_type": "stream",
     "text": [
      " 40%|████      | 2566/6394 [02:38<02:59, 21.34it/s]"
     ]
    },
    {
     "name": "stdout",
     "output_type": "stream",
     "text": [
      "features.shape(62, 530)\n",
      "vad.shape(530,)\n",
      "features.shape(62, 517)\n",
      "vad.shape(517,)\n",
      "features.shape(62, 504)\n",
      "vad.shape(504,)\n",
      "features.shape(62, 453)\n",
      "vad.shape(453,)\n",
      "features.shape(62, 773)\n",
      "vad.shape(773,)\n",
      "features.shape(62, 479)\n",
      "vad.shape(479,)\n"
     ]
    },
    {
     "name": "stderr",
     "output_type": "stream",
     "text": [
      " 40%|████      | 2572/6394 [02:38<02:58, 21.40it/s]"
     ]
    },
    {
     "name": "stdout",
     "output_type": "stream",
     "text": [
      "features.shape(62, 419)\n",
      "vad.shape(419,)\n",
      "features.shape(62, 240)\n",
      "vad.shape(240,)\n",
      "features.shape(62, 551)\n",
      "vad.shape(551,)\n",
      "features.shape(62, 440)\n",
      "vad.shape(440,)\n"
     ]
    },
    {
     "name": "stderr",
     "output_type": "stream",
     "text": [
      " 40%|████      | 2578/6394 [02:38<02:53, 22.04it/s]"
     ]
    },
    {
     "name": "stdout",
     "output_type": "stream",
     "text": [
      "features.shape(62, 368)\n",
      "vad.shape(368,)\n",
      "features.shape(62, 423)\n",
      "vad.shape(423,)\n",
      "features.shape(62, 504)\n",
      "vad.shape(504,)\n",
      "features.shape(62, 312)\n",
      "vad.shape(312,)\n",
      "features.shape(62, 500)\n",
      "vad.shape(500,)\n",
      "features.shape(62, 534)\n",
      "vad.shape(534,)\n",
      "features.shape(62, 513)\n",
      "vad.shape(513,)\n"
     ]
    },
    {
     "name": "stderr",
     "output_type": "stream",
     "text": [
      " 40%|████      | 2585/6394 [02:39<02:32, 24.97it/s]"
     ]
    },
    {
     "name": "stdout",
     "output_type": "stream",
     "text": [
      "features.shape(62, 585)\n",
      "vad.shape(585,)\n",
      "features.shape(62, 304)\n",
      "vad.shape(304,)\n",
      "features.shape(62, 475)\n",
      "vad.shape(475,)\n",
      "features.shape(62, 513)\n",
      "vad.shape(513,)\n",
      "features.shape(62, 450)\n",
      "vad.shape(450,)\n",
      "features.shape(62, 603)\n",
      "vad.shape(603,)\n"
     ]
    },
    {
     "name": "stderr",
     "output_type": "stream",
     "text": [
      " 41%|████      | 2591/6394 [02:39<02:29, 25.45it/s]"
     ]
    },
    {
     "name": "stdout",
     "output_type": "stream",
     "text": [
      "features.shape(62, 948)\n",
      "vad.shape(948,)\n",
      "features.shape(62, 351)\n",
      "vad.shape(351,)\n",
      "features.shape(62, 440)\n",
      "vad.shape(440,)\n",
      "features.shape(62, 615)\n",
      "vad.shape(615,)\n",
      "features.shape(62, 457)\n",
      "vad.shape(457,)\n",
      "features.shape(62, 564)\n",
      "vad.shape(564,)\n"
     ]
    },
    {
     "name": "stderr",
     "output_type": "stream",
     "text": [
      " 41%|████      | 2594/6394 [02:39<02:29, 25.35it/s]"
     ]
    },
    {
     "name": "stdout",
     "output_type": "stream",
     "text": [
      "features.shape(62, 355)\n",
      "vad.shape(355,)\n",
      "features.shape(62, 589)\n",
      "vad.shape(589,)\n",
      "features.shape(62, 539)\n",
      "vad.shape(539,)\n",
      "features.shape(62, 555)\n",
      "vad.shape(555,)\n",
      "features.shape(62, 534)\n",
      "vad.shape(534,)\n"
     ]
    },
    {
     "name": "stderr",
     "output_type": "stream",
     "text": [
      " 41%|████      | 2600/6394 [02:39<02:40, 23.68it/s]"
     ]
    },
    {
     "name": "stdout",
     "output_type": "stream",
     "text": [
      "features.shape(62, 466)\n",
      "vad.shape(466,)\n",
      "features.shape(62, 436)\n",
      "vad.shape(436,)\n",
      "features.shape(62, 385)\n",
      "vad.shape(385,)\n",
      "features.shape(62, 462)\n",
      "vad.shape(462,)\n",
      "features.shape(62, 521)\n",
      "vad.shape(521,)\n"
     ]
    },
    {
     "name": "stderr",
     "output_type": "stream",
     "text": [
      " 41%|████      | 2606/6394 [02:40<03:00, 21.04it/s]"
     ]
    },
    {
     "name": "stdout",
     "output_type": "stream",
     "text": [
      "features.shape(62, 521)\n",
      "vad.shape(521,)\n",
      "features.shape(62, 308)\n",
      "vad.shape(308,)\n",
      "features.shape(62, 526)\n",
      "vad.shape(526,)\n",
      "features.shape(62, 551)\n",
      "vad.shape(551,)\n",
      "features.shape(62, 470)\n",
      "vad.shape(470,)\n"
     ]
    },
    {
     "name": "stderr",
     "output_type": "stream",
     "text": [
      " 41%|████      | 2609/6394 [02:40<02:56, 21.49it/s]"
     ]
    },
    {
     "name": "stdout",
     "output_type": "stream",
     "text": [
      "features.shape(62, 470)\n",
      "vad.shape(470,)\n",
      "features.shape(62, 683)\n",
      "vad.shape(683,)\n",
      "features.shape(62, 679)\n",
      "vad.shape(679,)\n",
      "features.shape(62, 368)\n",
      "vad.shape(368,)\n"
     ]
    },
    {
     "name": "stderr",
     "output_type": "stream",
     "text": [
      " 41%|████      | 2612/6394 [02:40<03:13, 19.54it/s]"
     ]
    },
    {
     "name": "stdout",
     "output_type": "stream",
     "text": [
      "features.shape(62, 492)\n",
      "vad.shape(492,)\n",
      "features.shape(62, 325)\n",
      "vad.shape(325,)\n",
      "features.shape(62, 428)\n",
      "vad.shape(428,)\n"
     ]
    },
    {
     "name": "stderr",
     "output_type": "stream",
     "text": [
      " 41%|████      | 2617/6394 [02:40<04:15, 14.79it/s]"
     ]
    },
    {
     "name": "stdout",
     "output_type": "stream",
     "text": [
      "features.shape(62, 210)\n",
      "vad.shape(210,)\n",
      "features.shape(62, 453)\n",
      "vad.shape(453,)\n",
      "features.shape(62, 595)\n",
      "vad.shape(595,)\n",
      "features.shape(62, 530)\n",
      "vad.shape(530,)\n"
     ]
    },
    {
     "name": "stderr",
     "output_type": "stream",
     "text": [
      " 41%|████      | 2619/6394 [02:40<04:04, 15.43it/s]"
     ]
    },
    {
     "name": "stdout",
     "output_type": "stream",
     "text": [
      "features.shape(62, 380)\n",
      "vad.shape(380,)\n",
      "features.shape(62, 453)\n",
      "vad.shape(453,)\n",
      "features.shape(62, 440)\n",
      "vad.shape(440,)\n",
      "features.shape(62, 475)\n",
      "vad.shape(475,)\n"
     ]
    },
    {
     "name": "stderr",
     "output_type": "stream",
     "text": [
      " 41%|████      | 2625/6394 [02:41<03:24, 18.41it/s]"
     ]
    },
    {
     "name": "stdout",
     "output_type": "stream",
     "text": [
      "features.shape(62, 590)\n",
      "vad.shape(590,)\n",
      "features.shape(62, 458)\n",
      "vad.shape(458,)\n",
      "features.shape(62, 530)\n",
      "vad.shape(530,)\n",
      "features.shape(62, 278)\n",
      "vad.shape(278,)\n",
      "features.shape(62, 440)\n",
      "vad.shape(440,)\n"
     ]
    },
    {
     "name": "stderr",
     "output_type": "stream",
     "text": [
      " 41%|████      | 2629/6394 [02:41<03:46, 16.62it/s]"
     ]
    },
    {
     "name": "stdout",
     "output_type": "stream",
     "text": [
      "features.shape(62, 530)\n",
      "vad.shape(530,)\n",
      "features.shape(62, 551)\n",
      "vad.shape(551,)\n",
      "features.shape(62, 475)\n",
      "vad.shape(475,)\n",
      "features.shape(62, 398)\n",
      "vad.shape(398,)\n"
     ]
    },
    {
     "name": "stderr",
     "output_type": "stream",
     "text": [
      " 41%|████      | 2634/6394 [02:41<03:30, 17.84it/s]"
     ]
    },
    {
     "name": "stdout",
     "output_type": "stream",
     "text": [
      "features.shape(62, 419)\n",
      "vad.shape(419,)\n",
      "features.shape(62, 496)\n",
      "vad.shape(496,)\n",
      "features.shape(62, 530)\n",
      "vad.shape(530,)\n",
      "features.shape(62, 538)\n",
      "vad.shape(538,)\n"
     ]
    },
    {
     "name": "stderr",
     "output_type": "stream",
     "text": [
      " 41%|████▏     | 2639/6394 [02:41<02:58, 21.08it/s]"
     ]
    },
    {
     "name": "stdout",
     "output_type": "stream",
     "text": [
      "features.shape(62, 427)\n",
      "vad.shape(427,)\n",
      "features.shape(62, 321)\n",
      "vad.shape(321,)\n",
      "features.shape(62, 615)\n",
      "vad.shape(615,)\n",
      "features.shape(62, 513)\n",
      "vad.shape(513,)\n",
      "features.shape(62, 487)\n",
      "vad.shape(487,)\n",
      "features.shape(62, 483)\n",
      "vad.shape(483,)\n",
      "features.shape(62, 525)\n",
      "vad.shape(525,)\n"
     ]
    },
    {
     "name": "stderr",
     "output_type": "stream",
     "text": [
      " 41%|████▏     | 2645/6394 [02:42<02:39, 23.55it/s]"
     ]
    },
    {
     "name": "stdout",
     "output_type": "stream",
     "text": [
      "features.shape(62, 662)\n",
      "vad.shape(662,)\n",
      "features.shape(62, 496)\n",
      "vad.shape(496,)\n",
      "features.shape(62, 381)\n",
      "vad.shape(381,)\n",
      "features.shape(62, 461)\n",
      "vad.shape(461,)\n",
      "features.shape(62, 564)\n",
      "vad.shape(564,)\n",
      "features.shape(62, 308)\n",
      "vad.shape(308,)\n"
     ]
    },
    {
     "name": "stderr",
     "output_type": "stream",
     "text": [
      " 41%|████▏     | 2648/6394 [02:42<02:47, 22.38it/s]"
     ]
    },
    {
     "name": "stdout",
     "output_type": "stream",
     "text": [
      "features.shape(62, 423)\n",
      "vad.shape(423,)\n",
      "features.shape(62, 444)\n",
      "vad.shape(444,)\n",
      "features.shape(62, 542)\n",
      "vad.shape(542,)\n"
     ]
    },
    {
     "name": "stderr",
     "output_type": "stream",
     "text": [
      " 42%|████▏     | 2654/6394 [02:42<03:06, 20.01it/s]"
     ]
    },
    {
     "name": "stdout",
     "output_type": "stream",
     "text": [
      "features.shape(62, 478)\n",
      "vad.shape(478,)\n",
      "features.shape(62, 406)\n",
      "vad.shape(406,)\n",
      "features.shape(62, 478)\n",
      "vad.shape(478,)\n",
      "features.shape(62, 440)\n",
      "vad.shape(440,)\n",
      "features.shape(62, 496)\n",
      "vad.shape(496,)\n"
     ]
    },
    {
     "name": "stderr",
     "output_type": "stream",
     "text": [
      " 42%|████▏     | 2657/6394 [02:42<02:52, 21.68it/s]"
     ]
    },
    {
     "name": "stdout",
     "output_type": "stream",
     "text": [
      "features.shape(62, 483)\n",
      "vad.shape(483,)\n",
      "features.shape(62, 790)\n",
      "vad.shape(790,)\n",
      "features.shape(62, 261)\n",
      "vad.shape(261,)\n",
      "features.shape(62, 445)\n",
      "vad.shape(445,)\n"
     ]
    },
    {
     "name": "stderr",
     "output_type": "stream",
     "text": [
      " 42%|████▏     | 2663/6394 [02:43<03:27, 18.01it/s]"
     ]
    },
    {
     "name": "stdout",
     "output_type": "stream",
     "text": [
      "features.shape(62, 577)\n",
      "vad.shape(577,)\n",
      "features.shape(62, 526)\n",
      "vad.shape(526,)\n",
      "features.shape(62, 436)\n",
      "vad.shape(436,)\n",
      "features.shape(62, 470)\n",
      "vad.shape(470,)\n",
      "features.shape(62, 461)\n",
      "vad.shape(461,)\n",
      "features.shape(62, 534)\n",
      "vad.shape(534,)\n",
      "features.shape(62, 312)\n",
      "vad.shape(312,)\n"
     ]
    },
    {
     "name": "stderr",
     "output_type": "stream",
     "text": [
      " 42%|████▏     | 2670/6394 [02:43<02:37, 23.62it/s]"
     ]
    },
    {
     "name": "stdout",
     "output_type": "stream",
     "text": [
      "features.shape(62, 295)\n",
      "vad.shape(295,)\n",
      "features.shape(62, 351)\n",
      "vad.shape(351,)\n",
      "features.shape(62, 385)\n",
      "vad.shape(385,)\n",
      "features.shape(62, 252)\n",
      "vad.shape(252,)\n",
      "features.shape(62, 440)\n",
      "vad.shape(440,)\n",
      "features.shape(62, 402)\n",
      "vad.shape(402,)\n",
      "features.shape(62, 347)\n",
      "vad.shape(347,)\n"
     ]
    },
    {
     "name": "stderr",
     "output_type": "stream",
     "text": [
      " 42%|████▏     | 2677/6394 [02:43<02:30, 24.63it/s]"
     ]
    },
    {
     "name": "stdout",
     "output_type": "stream",
     "text": [
      "features.shape(62, 244)\n",
      "vad.shape(244,)\n",
      "features.shape(62, 338)\n",
      "vad.shape(338,)\n",
      "features.shape(62, 329)\n",
      "vad.shape(329,)\n",
      "features.shape(62, 333)\n",
      "vad.shape(333,)\n",
      "features.shape(62, 368)\n",
      "vad.shape(368,)\n",
      "features.shape(62, 282)\n",
      "vad.shape(282,)\n"
     ]
    },
    {
     "name": "stderr",
     "output_type": "stream",
     "text": [
      " 42%|████▏     | 2683/6394 [02:43<02:52, 21.54it/s]"
     ]
    },
    {
     "name": "stdout",
     "output_type": "stream",
     "text": [
      "features.shape(62, 380)\n",
      "vad.shape(380,)\n",
      "features.shape(62, 261)\n",
      "vad.shape(261,)\n",
      "features.shape(62, 350)\n",
      "vad.shape(350,)\n",
      "features.shape(62, 282)\n",
      "vad.shape(282,)\n"
     ]
    },
    {
     "name": "stderr",
     "output_type": "stream",
     "text": [
      " 42%|████▏     | 2689/6394 [02:44<02:38, 23.35it/s]"
     ]
    },
    {
     "name": "stdout",
     "output_type": "stream",
     "text": [
      "features.shape(62, 517)\n",
      "vad.shape(517,)\n",
      "features.shape(62, 248)\n",
      "vad.shape(248,)\n",
      "features.shape(62, 312)\n",
      "vad.shape(312,)\n",
      "features.shape(62, 278)\n",
      "vad.shape(278,)\n",
      "features.shape(62, 321)\n",
      "vad.shape(321,)\n",
      "features.shape(62, 291)\n",
      "vad.shape(291,)\n"
     ]
    },
    {
     "name": "stderr",
     "output_type": "stream",
     "text": [
      " 42%|████▏     | 2692/6394 [02:44<02:30, 24.56it/s]"
     ]
    },
    {
     "name": "stdout",
     "output_type": "stream",
     "text": [
      "features.shape(62, 423)\n",
      "vad.shape(423,)\n",
      "features.shape(62, 359)\n",
      "vad.shape(359,)\n",
      "features.shape(62, 359)\n",
      "vad.shape(359,)\n",
      "features.shape(62, 308)\n",
      "vad.shape(308,)\n",
      "features.shape(62, 308)\n",
      "vad.shape(308,)\n"
     ]
    },
    {
     "name": "stderr",
     "output_type": "stream",
     "text": [
      " 42%|████▏     | 2698/6394 [02:44<02:47, 22.11it/s]"
     ]
    },
    {
     "name": "stdout",
     "output_type": "stream",
     "text": [
      "features.shape(62, 487)\n",
      "vad.shape(487,)\n",
      "features.shape(62, 1025)\n",
      "vad.shape(1025,)\n",
      "features.shape(62, 355)\n",
      "vad.shape(355,)\n",
      "features.shape(62, 227)\n",
      "vad.shape(227,)\n",
      "features.shape(62, 329)\n",
      "vad.shape(329,)\n"
     ]
    },
    {
     "name": "stderr",
     "output_type": "stream",
     "text": [
      " 42%|████▏     | 2705/6394 [02:44<02:32, 24.16it/s]"
     ]
    },
    {
     "name": "stdout",
     "output_type": "stream",
     "text": [
      "features.shape(62, 265)\n",
      "vad.shape(265,)\n",
      "features.shape(62, 347)\n",
      "vad.shape(347,)\n",
      "features.shape(62, 261)\n",
      "vad.shape(261,)\n",
      "features.shape(62, 202)\n",
      "vad.shape(202,)\n",
      "features.shape(62, 227)\n",
      "vad.shape(227,)\n",
      "features.shape(62, 381)\n",
      "vad.shape(381,)\n"
     ]
    },
    {
     "name": "stderr",
     "output_type": "stream",
     "text": [
      " 42%|████▏     | 2712/6394 [02:45<02:20, 26.17it/s]"
     ]
    },
    {
     "name": "stdout",
     "output_type": "stream",
     "text": [
      "features.shape(62, 329)\n",
      "vad.shape(329,)\n",
      "features.shape(62, 295)\n",
      "vad.shape(295,)\n",
      "features.shape(62, 564)\n",
      "vad.shape(564,)\n",
      "features.shape(62, 347)\n",
      "vad.shape(347,)\n",
      "features.shape(62, 338)\n",
      "vad.shape(338,)\n",
      "features.shape(62, 381)\n",
      "vad.shape(381,)\n",
      "features.shape(62, 222)\n",
      "vad.shape(222,)\n"
     ]
    },
    {
     "name": "stderr",
     "output_type": "stream",
     "text": [
      " 42%|████▏     | 2715/6394 [02:45<02:25, 25.27it/s]"
     ]
    },
    {
     "name": "stdout",
     "output_type": "stream",
     "text": [
      "features.shape(62, 449)\n",
      "vad.shape(449,)\n",
      "features.shape(62, 304)\n",
      "vad.shape(304,)\n",
      "features.shape(62, 368)\n",
      "vad.shape(368,)\n"
     ]
    },
    {
     "name": "stderr",
     "output_type": "stream",
     "text": [
      " 43%|████▎     | 2718/6394 [02:45<03:22, 18.15it/s]"
     ]
    },
    {
     "name": "stdout",
     "output_type": "stream",
     "text": [
      "features.shape(62, 325)\n",
      "vad.shape(325,)\n",
      "features.shape(62, 287)\n",
      "vad.shape(287,)\n",
      "features.shape(62, 261)\n",
      "vad.shape(261,)\n"
     ]
    },
    {
     "name": "stderr",
     "output_type": "stream",
     "text": [
      " 43%|████▎     | 2721/6394 [02:45<03:04, 19.87it/s]"
     ]
    },
    {
     "name": "stdout",
     "output_type": "stream",
     "text": [
      "features.shape(62, 308)\n",
      "vad.shape(308,)\n",
      "features.shape(62, 389)\n",
      "vad.shape(389,)\n",
      "features.shape(62, 551)\n",
      "vad.shape(551,)\n",
      "features.shape(62, 321)\n",
      "vad.shape(321,)\n"
     ]
    },
    {
     "name": "stderr",
     "output_type": "stream",
     "text": [
      " 43%|████▎     | 2727/6394 [02:46<03:19, 18.40it/s]"
     ]
    },
    {
     "name": "stdout",
     "output_type": "stream",
     "text": [
      "features.shape(62, 329)\n",
      "vad.shape(329,)\n",
      "features.shape(62, 376)\n",
      "vad.shape(376,)\n",
      "features.shape(62, 334)\n",
      "vad.shape(334,)\n",
      "features.shape(62, 389)\n",
      "vad.shape(389,)\n",
      "features.shape(62, 624)\n",
      "vad.shape(624,)\n"
     ]
    },
    {
     "name": "stderr",
     "output_type": "stream",
     "text": [
      " 43%|████▎     | 2734/6394 [02:46<02:32, 24.06it/s]"
     ]
    },
    {
     "name": "stdout",
     "output_type": "stream",
     "text": [
      "features.shape(62, 342)\n",
      "vad.shape(342,)\n",
      "features.shape(62, 329)\n",
      "vad.shape(329,)\n",
      "features.shape(62, 359)\n",
      "vad.shape(359,)\n",
      "features.shape(62, 334)\n",
      "vad.shape(334,)\n",
      "features.shape(62, 782)\n",
      "vad.shape(782,)\n",
      "features.shape(62, 321)\n",
      "vad.shape(321,)\n",
      "features.shape(62, 483)\n",
      "vad.shape(483,)\n"
     ]
    },
    {
     "name": "stderr",
     "output_type": "stream",
     "text": [
      " 43%|████▎     | 2737/6394 [02:46<03:14, 18.82it/s]"
     ]
    },
    {
     "name": "stdout",
     "output_type": "stream",
     "text": [
      "features.shape(62, 261)\n",
      "vad.shape(261,)\n",
      "features.shape(62, 359)\n",
      "vad.shape(359,)\n",
      "features.shape(62, 295)\n",
      "vad.shape(295,)\n"
     ]
    },
    {
     "name": "stderr",
     "output_type": "stream",
     "text": [
      " 43%|████▎     | 2740/6394 [02:46<03:40, 16.55it/s]"
     ]
    },
    {
     "name": "stdout",
     "output_type": "stream",
     "text": [
      "features.shape(62, 261)\n",
      "vad.shape(261,)\n",
      "features.shape(62, 363)\n",
      "vad.shape(363,)\n",
      "features.shape(62, 897)\n",
      "vad.shape(897,)\n",
      "features.shape(62, 427)\n",
      "vad.shape(427,)\n"
     ]
    },
    {
     "name": "stderr",
     "output_type": "stream",
     "text": [
      " 43%|████▎     | 2745/6394 [02:46<03:15, 18.66it/s]"
     ]
    },
    {
     "name": "stdout",
     "output_type": "stream",
     "text": [
      "features.shape(62, 453)\n",
      "vad.shape(453,)\n",
      "features.shape(62, 291)\n",
      "vad.shape(291,)\n",
      "features.shape(62, 508)\n",
      "vad.shape(508,)\n",
      "features.shape(62, 444)\n",
      "vad.shape(444,)\n",
      "features.shape(62, 317)\n",
      "vad.shape(317,)\n",
      "features.shape(62, 313)\n",
      "vad.shape(313,)\n"
     ]
    },
    {
     "name": "stderr",
     "output_type": "stream",
     "text": [
      " 43%|████▎     | 2748/6394 [02:47<02:58, 20.44it/s]"
     ]
    },
    {
     "name": "stdout",
     "output_type": "stream",
     "text": [
      "features.shape(62, 411)\n",
      "vad.shape(411,)\n",
      "features.shape(62, 359)\n",
      "vad.shape(359,)\n",
      "features.shape(62, 372)\n",
      "vad.shape(372,)\n"
     ]
    },
    {
     "name": "stderr",
     "output_type": "stream",
     "text": [
      " 43%|████▎     | 2755/6394 [02:47<02:47, 21.69it/s]"
     ]
    },
    {
     "name": "stdout",
     "output_type": "stream",
     "text": [
      "features.shape(62, 385)\n",
      "vad.shape(385,)\n",
      "features.shape(62, 752)\n",
      "vad.shape(752,)\n",
      "features.shape(62, 308)\n",
      "vad.shape(308,)\n",
      "features.shape(62, 355)\n",
      "vad.shape(355,)\n",
      "features.shape(62, 312)\n",
      "vad.shape(312,)\n",
      "features.shape(62, 389)\n",
      "vad.shape(389,)\n",
      "features.shape(62, 291)\n",
      "vad.shape(291,)\n"
     ]
    },
    {
     "name": "stderr",
     "output_type": "stream",
     "text": [
      " 43%|████▎     | 2758/6394 [02:47<02:42, 22.42it/s]"
     ]
    },
    {
     "name": "stdout",
     "output_type": "stream",
     "text": [
      "features.shape(62, 278)\n",
      "vad.shape(278,)\n",
      "features.shape(62, 282)\n",
      "vad.shape(282,)\n"
     ]
    },
    {
     "name": "stderr",
     "output_type": "stream",
     "text": [
      " 43%|████▎     | 2764/6394 [02:47<03:10, 19.01it/s]"
     ]
    },
    {
     "name": "stdout",
     "output_type": "stream",
     "text": [
      "features.shape(62, 389)\n",
      "vad.shape(389,)\n",
      "features.shape(62, 428)\n",
      "vad.shape(428,)\n",
      "features.shape(62, 338)\n",
      "vad.shape(338,)\n",
      "features.shape(62, 210)\n",
      "vad.shape(210,)\n",
      "features.shape(62, 278)\n",
      "vad.shape(278,)\n",
      "features.shape(62, 458)\n"
     ]
    },
    {
     "name": "stderr",
     "output_type": "stream",
     "text": [
      " 43%|████▎     | 2771/6394 [02:48<02:36, 23.10it/s]"
     ]
    },
    {
     "name": "stdout",
     "output_type": "stream",
     "text": [
      "vad.shape(458,)\n",
      "features.shape(62, 432)\n",
      "vad.shape(432,)\n",
      "features.shape(62, 304)\n",
      "vad.shape(304,)\n",
      "features.shape(62, 342)\n",
      "vad.shape(342,)\n",
      "features.shape(62, 359)\n",
      "vad.shape(359,)\n",
      "features.shape(62, 304)\n",
      "vad.shape(304,)\n",
      "features.shape(62, 385)\n",
      "vad.shape(385,)\n"
     ]
    },
    {
     "name": "stderr",
     "output_type": "stream",
     "text": [
      " 43%|████▎     | 2774/6394 [02:48<03:00, 20.05it/s]"
     ]
    },
    {
     "name": "stdout",
     "output_type": "stream",
     "text": [
      "features.shape(62, 364)\n",
      "vad.shape(364,)\n",
      "features.shape(62, 244)\n",
      "vad.shape(244,)\n",
      "features.shape(62, 287)\n",
      "vad.shape(287,)\n"
     ]
    },
    {
     "name": "stderr",
     "output_type": "stream",
     "text": [
      " 43%|████▎     | 2777/6394 [02:48<03:20, 18.07it/s]"
     ]
    },
    {
     "name": "stdout",
     "output_type": "stream",
     "text": [
      "features.shape(62, 300)\n",
      "vad.shape(300,)\n",
      "features.shape(62, 265)\n",
      "vad.shape(265,)\n",
      "features.shape(62, 368)\n",
      "vad.shape(368,)\n",
      "features.shape(62, 351)\n",
      "vad.shape(351,)\n",
      "features.shape(62, 372)\n",
      "vad.shape(372,)\n"
     ]
    },
    {
     "name": "stderr",
     "output_type": "stream",
     "text": [
      " 44%|████▎     | 2783/6394 [02:48<02:48, 21.44it/s]"
     ]
    },
    {
     "name": "stdout",
     "output_type": "stream",
     "text": [
      "features.shape(62, 394)\n",
      "vad.shape(394,)\n",
      "features.shape(62, 393)\n",
      "vad.shape(393,)\n",
      "features.shape(62, 218)\n",
      "vad.shape(218,)\n",
      "features.shape(62, 346)\n",
      "vad.shape(346,)\n",
      "features.shape(62, 474)\n",
      "vad.shape(474,)\n"
     ]
    },
    {
     "name": "stderr",
     "output_type": "stream",
     "text": [
      " 44%|████▎     | 2789/6394 [02:49<03:03, 19.68it/s]"
     ]
    },
    {
     "name": "stdout",
     "output_type": "stream",
     "text": [
      "features.shape(62, 372)\n",
      "vad.shape(372,)\n",
      "features.shape(62, 342)\n",
      "vad.shape(342,)\n",
      "features.shape(62, 419)\n",
      "vad.shape(419,)\n",
      "features.shape(62, 334)\n",
      "vad.shape(334,)\n",
      "features.shape(62, 231)\n",
      "vad.shape(231,)\n"
     ]
    },
    {
     "name": "stderr",
     "output_type": "stream",
     "text": [
      " 44%|████▎     | 2792/6394 [02:49<02:46, 21.58it/s]"
     ]
    },
    {
     "name": "stdout",
     "output_type": "stream",
     "text": [
      "features.shape(62, 274)\n",
      "vad.shape(274,)\n",
      "features.shape(62, 286)\n",
      "vad.shape(286,)\n",
      "features.shape(62, 414)\n",
      "vad.shape(414,)\n",
      "features.shape(62, 346)\n",
      "vad.shape(346,)\n",
      "features.shape(62, 432)\n",
      "vad.shape(432,)\n"
     ]
    },
    {
     "name": "stderr",
     "output_type": "stream",
     "text": [
      " 44%|████▍     | 2798/6394 [02:49<02:58, 20.19it/s]"
     ]
    },
    {
     "name": "stdout",
     "output_type": "stream",
     "text": [
      "features.shape(62, 304)\n",
      "vad.shape(304,)\n",
      "features.shape(62, 346)\n",
      "vad.shape(346,)\n",
      "features.shape(62, 274)\n",
      "vad.shape(274,)\n",
      "features.shape(62, 338)\n",
      "vad.shape(338,)\n",
      "features.shape(62, 380)\n",
      "vad.shape(380,)\n",
      "features.shape(62, 304)\n",
      "vad.shape(304,)\n"
     ]
    },
    {
     "name": "stderr",
     "output_type": "stream",
     "text": [
      " 44%|████▍     | 2804/6394 [02:49<02:52, 20.87it/s]"
     ]
    },
    {
     "name": "stdout",
     "output_type": "stream",
     "text": [
      "features.shape(62, 295)\n",
      "vad.shape(295,)\n",
      "features.shape(62, 359)\n",
      "vad.shape(359,)\n",
      "features.shape(62, 359)\n",
      "vad.shape(359,)\n",
      "features.shape(62, 304)\n",
      "vad.shape(304,)\n"
     ]
    },
    {
     "name": "stderr",
     "output_type": "stream",
     "text": [
      " 44%|████▍     | 2811/6394 [02:50<02:26, 24.53it/s]"
     ]
    },
    {
     "name": "stdout",
     "output_type": "stream",
     "text": [
      "features.shape(62, 295)\n",
      "vad.shape(295,)\n",
      "features.shape(62, 449)\n",
      "vad.shape(449,)\n",
      "features.shape(62, 338)\n",
      "vad.shape(338,)\n",
      "features.shape(62, 342)\n",
      "vad.shape(342,)\n",
      "features.shape(62, 342)\n",
      "vad.shape(342,)\n",
      "features.shape(62, 402)\n",
      "vad.shape(402,)\n",
      "features.shape(62, 313)\n",
      "vad.shape(313,)\n"
     ]
    },
    {
     "name": "stderr",
     "output_type": "stream",
     "text": [
      " 44%|████▍     | 2814/6394 [02:50<02:28, 24.11it/s]"
     ]
    },
    {
     "name": "stdout",
     "output_type": "stream",
     "text": [
      "features.shape(62, 321)\n",
      "vad.shape(321,)\n",
      "features.shape(62, 581)\n",
      "vad.shape(581,)\n",
      "features.shape(62, 231)\n",
      "vad.shape(231,)\n",
      "features.shape(62, 329)\n",
      "vad.shape(329,)\n",
      "features.shape(62, 684)\n",
      "vad.shape(684,)\n"
     ]
    },
    {
     "name": "stderr",
     "output_type": "stream",
     "text": [
      " 44%|████▍     | 2820/6394 [02:50<02:23, 24.99it/s]"
     ]
    },
    {
     "name": "stdout",
     "output_type": "stream",
     "text": [
      "features.shape(62, 500)\n",
      "vad.shape(500,)\n",
      "features.shape(62, 402)\n",
      "vad.shape(402,)\n",
      "features.shape(62, 406)\n",
      "vad.shape(406,)\n",
      "features.shape(62, 295)\n",
      "vad.shape(295,)\n",
      "features.shape(62, 299)\n",
      "vad.shape(299,)\n",
      "features.shape(62, 389)\n",
      "vad.shape(389,)\n"
     ]
    },
    {
     "name": "stderr",
     "output_type": "stream",
     "text": [
      " 44%|████▍     | 2826/6394 [02:50<02:31, 23.53it/s]"
     ]
    },
    {
     "name": "stdout",
     "output_type": "stream",
     "text": [
      "features.shape(62, 368)\n",
      "vad.shape(368,)\n",
      "features.shape(62, 248)\n",
      "vad.shape(248,)\n",
      "features.shape(62, 394)\n",
      "vad.shape(394,)\n",
      "features.shape(62, 329)\n",
      "vad.shape(329,)\n",
      "features.shape(62, 410)\n",
      "vad.shape(410,)\n"
     ]
    },
    {
     "name": "stderr",
     "output_type": "stream",
     "text": [
      " 44%|████▍     | 2832/6394 [02:50<02:27, 24.10it/s]"
     ]
    },
    {
     "name": "stdout",
     "output_type": "stream",
     "text": [
      "features.shape(62, 321)\n",
      "vad.shape(321,)\n",
      "features.shape(62, 355)\n",
      "vad.shape(355,)\n",
      "features.shape(62, 410)\n",
      "vad.shape(410,)\n",
      "features.shape(62, 346)\n",
      "vad.shape(346,)\n",
      "features.shape(62, 368)\n",
      "vad.shape(368,)\n"
     ]
    },
    {
     "name": "stderr",
     "output_type": "stream",
     "text": [
      " 44%|████▍     | 2835/6394 [02:51<02:46, 21.41it/s]"
     ]
    },
    {
     "name": "stdout",
     "output_type": "stream",
     "text": [
      "features.shape(62, 466)\n",
      "vad.shape(466,)\n",
      "features.shape(62, 376)\n",
      "vad.shape(376,)\n",
      "features.shape(62, 385)\n",
      "vad.shape(385,)\n",
      "features.shape(62, 278)\n",
      "vad.shape(278,)\n",
      "features.shape(62, 300)\n",
      "vad.shape(300,)\n"
     ]
    },
    {
     "name": "stderr",
     "output_type": "stream",
     "text": [
      " 44%|████▍     | 2841/6394 [02:51<02:28, 24.00it/s]"
     ]
    },
    {
     "name": "stdout",
     "output_type": "stream",
     "text": [
      "features.shape(62, 313)\n",
      "vad.shape(313,)\n",
      "features.shape(62, 351)\n",
      "vad.shape(351,)\n",
      "features.shape(62, 402)\n",
      "vad.shape(402,)\n",
      "features.shape(62, 419)\n",
      "vad.shape(419,)\n",
      "features.shape(62, 389)\n",
      "vad.shape(389,)\n",
      "features.shape(62, 274)\n",
      "vad.shape(274,)\n"
     ]
    },
    {
     "name": "stderr",
     "output_type": "stream",
     "text": [
      " 45%|████▍     | 2848/6394 [02:51<02:26, 24.15it/s]"
     ]
    },
    {
     "name": "stdout",
     "output_type": "stream",
     "text": [
      "features.shape(62, 317)\n",
      "vad.shape(317,)\n",
      "features.shape(62, 282)\n",
      "vad.shape(282,)\n",
      "features.shape(62, 589)\n",
      "vad.shape(589,)\n",
      "features.shape(62, 394)\n",
      "vad.shape(394,)\n",
      "features.shape(62, 317)\n",
      "vad.shape(317,)\n"
     ]
    },
    {
     "name": "stderr",
     "output_type": "stream",
     "text": [
      " 45%|████▍     | 2851/6394 [02:51<02:26, 24.12it/s]"
     ]
    },
    {
     "name": "stdout",
     "output_type": "stream",
     "text": [
      "features.shape(62, 871)\n",
      "vad.shape(871,)\n",
      "features.shape(62, 244)\n",
      "vad.shape(244,)\n",
      "features.shape(62, 423)\n",
      "vad.shape(423,)\n",
      "features.shape(62, 419)\n",
      "vad.shape(419,)\n",
      "features.shape(62, 398)\n",
      "vad.shape(398,)\n",
      "features.shape(62, 355)\n",
      "vad.shape(355,)\n"
     ]
    },
    {
     "name": "stderr",
     "output_type": "stream",
     "text": [
      " 45%|████▍     | 2858/6394 [02:52<02:17, 25.74it/s]"
     ]
    },
    {
     "name": "stdout",
     "output_type": "stream",
     "text": [
      "features.shape(62, 304)\n",
      "vad.shape(304,)\n",
      "features.shape(62, 389)\n",
      "vad.shape(389,)\n",
      "features.shape(62, 351)\n",
      "vad.shape(351,)\n",
      "features.shape(62, 282)\n",
      "vad.shape(282,)\n",
      "features.shape(62, 368)\n",
      "vad.shape(368,)\n"
     ]
    },
    {
     "name": "stderr",
     "output_type": "stream",
     "text": [
      " 45%|████▍     | 2864/6394 [02:52<02:19, 25.35it/s]"
     ]
    },
    {
     "name": "stdout",
     "output_type": "stream",
     "text": [
      "features.shape(62, 594)\n",
      "vad.shape(594,)\n",
      "features.shape(62, 466)\n",
      "vad.shape(466,)\n",
      "features.shape(62, 513)\n",
      "vad.shape(513,)\n",
      "features.shape(62, 372)\n",
      "vad.shape(372,)\n",
      "features.shape(62, 266)\n",
      "vad.shape(266,)\n",
      "features.shape(62, 274)\n",
      "vad.shape(274,)\n"
     ]
    },
    {
     "name": "stderr",
     "output_type": "stream",
     "text": [
      " 45%|████▍     | 2870/6394 [02:52<02:24, 24.38it/s]"
     ]
    },
    {
     "name": "stdout",
     "output_type": "stream",
     "text": [
      "features.shape(62, 351)\n",
      "vad.shape(351,)\n",
      "features.shape(62, 432)\n",
      "vad.shape(432,)\n",
      "features.shape(62, 530)\n",
      "vad.shape(530,)\n",
      "features.shape(62, 316)\n",
      "vad.shape(316,)\n",
      "features.shape(62, 312)\n",
      "vad.shape(312,)\n"
     ]
    },
    {
     "name": "stderr",
     "output_type": "stream",
     "text": [
      " 45%|████▍     | 2873/6394 [02:52<02:47, 21.03it/s]"
     ]
    },
    {
     "name": "stdout",
     "output_type": "stream",
     "text": [
      "features.shape(62, 274)\n",
      "vad.shape(274,)\n",
      "features.shape(62, 329)\n",
      "vad.shape(329,)\n",
      "features.shape(62, 363)\n",
      "vad.shape(363,)\n",
      "features.shape(62, 270)\n",
      "vad.shape(270,)\n"
     ]
    },
    {
     "name": "stderr",
     "output_type": "stream",
     "text": [
      " 45%|████▌     | 2879/6394 [02:53<02:55, 20.07it/s]"
     ]
    },
    {
     "name": "stdout",
     "output_type": "stream",
     "text": [
      "features.shape(62, 428)\n",
      "vad.shape(428,)\n",
      "features.shape(62, 240)\n",
      "vad.shape(240,)\n",
      "features.shape(62, 419)\n",
      "vad.shape(419,)\n",
      "features.shape(62, 372)\n",
      "vad.shape(372,)\n",
      "features.shape(62, 253)\n",
      "vad.shape(253,)\n"
     ]
    },
    {
     "name": "stderr",
     "output_type": "stream",
     "text": [
      " 45%|████▌     | 2883/6394 [02:53<02:31, 23.18it/s]"
     ]
    },
    {
     "name": "stdout",
     "output_type": "stream",
     "text": [
      "features.shape(62, 308)\n",
      "vad.shape(308,)\n",
      "features.shape(62, 415)\n",
      "vad.shape(415,)\n",
      "features.shape(62, 295)\n",
      "vad.shape(295,)\n",
      "features.shape(62, 393)\n",
      "vad.shape(393,)\n",
      "features.shape(62, 364)\n",
      "vad.shape(364,)\n",
      "features.shape(62, 334)\n",
      "vad.shape(334,)\n"
     ]
    },
    {
     "name": "stderr",
     "output_type": "stream",
     "text": [
      " 45%|████▌     | 2889/6394 [02:53<02:22, 24.59it/s]"
     ]
    },
    {
     "name": "stdout",
     "output_type": "stream",
     "text": [
      "features.shape(62, 474)\n",
      "vad.shape(474,)\n",
      "features.shape(62, 381)\n",
      "vad.shape(381,)\n",
      "features.shape(62, 364)\n",
      "vad.shape(364,)\n",
      "features.shape(62, 398)\n",
      "vad.shape(398,)\n",
      "features.shape(62, 287)\n",
      "vad.shape(287,)\n",
      "features.shape(62, 564)\n",
      "vad.shape(564,)\n"
     ]
    },
    {
     "name": "stderr",
     "output_type": "stream",
     "text": [
      " 45%|████▌     | 2892/6394 [02:53<02:22, 24.53it/s]"
     ]
    },
    {
     "name": "stdout",
     "output_type": "stream",
     "text": [
      "features.shape(62, 346)\n",
      "vad.shape(346,)\n",
      "features.shape(62, 466)\n",
      "vad.shape(466,)\n",
      "features.shape(62, 368)\n",
      "vad.shape(368,)\n"
     ]
    },
    {
     "name": "stderr",
     "output_type": "stream",
     "text": [
      " 45%|████▌     | 2898/6394 [02:53<03:14, 17.97it/s]"
     ]
    },
    {
     "name": "stdout",
     "output_type": "stream",
     "text": [
      "features.shape(62, 445)\n",
      "vad.shape(445,)\n",
      "features.shape(62, 329)\n",
      "vad.shape(329,)\n",
      "features.shape(62, 261)\n",
      "vad.shape(261,)\n",
      "features.shape(62, 389)\n",
      "vad.shape(389,)\n"
     ]
    },
    {
     "name": "stderr",
     "output_type": "stream",
     "text": [
      " 45%|████▌     | 2902/6394 [02:54<02:51, 20.40it/s]"
     ]
    },
    {
     "name": "stdout",
     "output_type": "stream",
     "text": [
      "features.shape(62, 397)\n",
      "vad.shape(397,)\n",
      "features.shape(62, 287)\n",
      "vad.shape(287,)\n",
      "features.shape(62, 457)\n",
      "vad.shape(457,)\n",
      "features.shape(62, 257)\n",
      "vad.shape(257,)\n",
      "features.shape(62, 270)\n",
      "vad.shape(270,)\n",
      "features.shape(62, 304)\n",
      "vad.shape(304,)\n"
     ]
    },
    {
     "name": "stderr",
     "output_type": "stream",
     "text": [
      " 45%|████▌     | 2908/6394 [02:54<02:51, 20.37it/s]"
     ]
    },
    {
     "name": "stdout",
     "output_type": "stream",
     "text": [
      "features.shape(62, 248)\n",
      "vad.shape(248,)\n",
      "features.shape(62, 406)\n",
      "vad.shape(406,)\n",
      "features.shape(62, 308)\n",
      "vad.shape(308,)\n",
      "features.shape(62, 389)\n",
      "vad.shape(389,)\n",
      "features.shape(62, 892)\n",
      "vad.shape(892,)\n",
      "features.shape(62, 359)\n",
      "vad.shape(359,)\n"
     ]
    },
    {
     "name": "stderr",
     "output_type": "stream",
     "text": [
      " 46%|████▌     | 2914/6394 [02:54<02:37, 22.10it/s]"
     ]
    },
    {
     "name": "stdout",
     "output_type": "stream",
     "text": [
      "features.shape(62, 291)\n",
      "vad.shape(291,)\n",
      "features.shape(62, 350)\n",
      "vad.shape(350,)\n",
      "features.shape(62, 393)\n",
      "vad.shape(393,)\n",
      "features.shape(62, 364)\n",
      "vad.shape(364,)\n",
      "features.shape(62, 329)\n",
      "vad.shape(329,)\n"
     ]
    },
    {
     "name": "stderr",
     "output_type": "stream",
     "text": [
      " 46%|████▌     | 2922/6394 [02:54<02:10, 26.60it/s]"
     ]
    },
    {
     "name": "stdout",
     "output_type": "stream",
     "text": [
      "features.shape(62, 398)\n",
      "vad.shape(398,)\n",
      "features.shape(62, 372)\n",
      "vad.shape(372,)\n",
      "features.shape(62, 316)\n",
      "vad.shape(316,)\n",
      "features.shape(62, 368)\n",
      "vad.shape(368,)\n",
      "features.shape(62, 351)\n",
      "vad.shape(351,)\n",
      "features.shape(62, 317)\n",
      "vad.shape(317,)\n",
      "features.shape(62, 342)\n",
      "vad.shape(342,)\n"
     ]
    },
    {
     "name": "stderr",
     "output_type": "stream",
     "text": [
      " 46%|████▌     | 2925/6394 [02:55<02:37, 22.04it/s]"
     ]
    },
    {
     "name": "stdout",
     "output_type": "stream",
     "text": [
      "features.shape(62, 333)\n",
      "vad.shape(333,)\n",
      "features.shape(62, 291)\n",
      "vad.shape(291,)\n",
      "features.shape(62, 244)\n",
      "vad.shape(244,)\n",
      "features.shape(62, 372)\n",
      "vad.shape(372,)\n"
     ]
    },
    {
     "name": "stderr",
     "output_type": "stream",
     "text": [
      " 46%|████▌     | 2931/6394 [02:55<02:28, 23.28it/s]"
     ]
    },
    {
     "name": "stdout",
     "output_type": "stream",
     "text": [
      "features.shape(62, 334)\n",
      "vad.shape(334,)\n",
      "features.shape(62, 317)\n",
      "vad.shape(317,)\n",
      "features.shape(62, 338)\n",
      "vad.shape(338,)\n",
      "features.shape(62, 333)\n",
      "vad.shape(333,)\n",
      "features.shape(62, 436)\n",
      "vad.shape(436,)\n",
      "features.shape(62, 291)\n",
      "vad.shape(291,)\n"
     ]
    },
    {
     "name": "stderr",
     "output_type": "stream",
     "text": [
      " 46%|████▌     | 2934/6394 [02:55<02:21, 24.50it/s]"
     ]
    },
    {
     "name": "stdout",
     "output_type": "stream",
     "text": [
      "features.shape(62, 338)\n",
      "vad.shape(338,)\n",
      "features.shape(62, 321)\n",
      "vad.shape(321,)\n",
      "features.shape(62, 314)\n",
      "vad.shape(314,)\n",
      "features.shape(62, 355)\n",
      "vad.shape(355,)\n"
     ]
    },
    {
     "name": "stderr",
     "output_type": "stream",
     "text": [
      " 46%|████▌     | 2941/6394 [02:55<02:19, 24.79it/s]"
     ]
    },
    {
     "name": "stdout",
     "output_type": "stream",
     "text": [
      "features.shape(62, 346)\n",
      "vad.shape(346,)\n",
      "features.shape(62, 376)\n",
      "vad.shape(376,)\n",
      "features.shape(62, 325)\n",
      "vad.shape(325,)\n",
      "features.shape(62, 329)\n",
      "vad.shape(329,)\n",
      "features.shape(62, 300)\n",
      "vad.shape(300,)\n",
      "features.shape(62, 321)\n",
      "vad.shape(321,)\n",
      "features.shape(62, 334)\n",
      "vad.shape(334,)\n"
     ]
    },
    {
     "name": "stderr",
     "output_type": "stream",
     "text": [
      " 46%|████▌     | 2948/6394 [02:56<02:17, 25.03it/s]"
     ]
    },
    {
     "name": "stdout",
     "output_type": "stream",
     "text": [
      "features.shape(62, 338)\n",
      "vad.shape(338,)\n",
      "features.shape(62, 321)\n",
      "vad.shape(321,)\n",
      "features.shape(62, 466)\n",
      "vad.shape(466,)\n",
      "features.shape(62, 308)\n",
      "vad.shape(308,)\n",
      "features.shape(62, 359)\n",
      "vad.shape(359,)\n"
     ]
    },
    {
     "name": "stderr",
     "output_type": "stream",
     "text": [
      " 46%|████▌     | 2951/6394 [02:56<02:33, 22.37it/s]"
     ]
    },
    {
     "name": "stdout",
     "output_type": "stream",
     "text": [
      "features.shape(62, 274)\n",
      "vad.shape(274,)\n",
      "features.shape(62, 321)\n",
      "vad.shape(321,)\n",
      "features.shape(62, 325)\n",
      "vad.shape(325,)\n",
      "features.shape(62, 287)\n",
      "vad.shape(287,)\n"
     ]
    },
    {
     "name": "stderr",
     "output_type": "stream",
     "text": [
      " 46%|████▌     | 2957/6394 [02:56<02:22, 24.14it/s]"
     ]
    },
    {
     "name": "stdout",
     "output_type": "stream",
     "text": [
      "features.shape(62, 278)\n",
      "vad.shape(278,)\n",
      "features.shape(62, 381)\n",
      "vad.shape(381,)\n",
      "features.shape(62, 359)\n",
      "vad.shape(359,)\n",
      "features.shape(62, 274)\n",
      "vad.shape(274,)\n",
      "features.shape(62, 445)\n",
      "vad.shape(445,)\n",
      "features.shape(62, 359)\n",
      "vad.shape(359,)\n"
     ]
    },
    {
     "name": "stderr",
     "output_type": "stream",
     "text": [
      " 46%|████▋     | 2960/6394 [02:56<03:02, 18.83it/s]"
     ]
    },
    {
     "name": "stdout",
     "output_type": "stream",
     "text": [
      "features.shape(62, 394)\n",
      "vad.shape(394,)\n",
      "features.shape(62, 205)\n",
      "vad.shape(205,)\n",
      "features.shape(62, 389)\n",
      "vad.shape(389,)\n"
     ]
    },
    {
     "name": "stderr",
     "output_type": "stream",
     "text": [
      " 46%|████▋     | 2963/6394 [02:56<03:28, 16.45it/s]"
     ]
    },
    {
     "name": "stdout",
     "output_type": "stream",
     "text": [
      "features.shape(62, 410)\n",
      "vad.shape(410,)\n",
      "features.shape(62, 359)\n",
      "vad.shape(359,)\n"
     ]
    },
    {
     "name": "stderr",
     "output_type": "stream",
     "text": [
      " 46%|████▋     | 2969/6394 [02:57<03:04, 18.52it/s]"
     ]
    },
    {
     "name": "stdout",
     "output_type": "stream",
     "text": [
      "features.shape(62, 397)\n",
      "vad.shape(397,)\n",
      "features.shape(62, 300)\n",
      "vad.shape(300,)\n",
      "features.shape(62, 491)\n",
      "vad.shape(491,)\n",
      "features.shape(62, 432)\n",
      "vad.shape(432,)\n",
      "features.shape(62, 347)\n",
      "vad.shape(347,)\n",
      "features.shape(62, 283)\n",
      "vad.shape(283,)\n"
     ]
    },
    {
     "name": "stderr",
     "output_type": "stream",
     "text": [
      " 46%|████▋     | 2972/6394 [02:57<03:00, 19.00it/s]"
     ]
    },
    {
     "name": "stdout",
     "output_type": "stream",
     "text": [
      "features.shape(62, 334)\n",
      "vad.shape(334,)\n",
      "features.shape(62, 513)\n",
      "vad.shape(513,)\n",
      "features.shape(62, 406)\n",
      "vad.shape(406,)\n"
     ]
    },
    {
     "name": "stderr",
     "output_type": "stream",
     "text": [
      " 47%|████▋     | 2975/6394 [02:57<03:10, 17.90it/s]"
     ]
    },
    {
     "name": "stdout",
     "output_type": "stream",
     "text": [
      "features.shape(62, 308)\n",
      "vad.shape(308,)\n",
      "features.shape(62, 474)\n",
      "vad.shape(474,)\n",
      "features.shape(62, 334)\n",
      "vad.shape(334,)\n",
      "features.shape(62, 483)\n",
      "vad.shape(483,)\n",
      "features.shape(62, 436)\n",
      "vad.shape(436,)\n"
     ]
    },
    {
     "name": "stderr",
     "output_type": "stream",
     "text": [
      " 47%|████▋     | 2981/6394 [02:57<03:02, 18.68it/s]"
     ]
    },
    {
     "name": "stdout",
     "output_type": "stream",
     "text": [
      "features.shape(62, 394)\n",
      "vad.shape(394,)\n",
      "features.shape(62, 428)\n",
      "vad.shape(428,)\n",
      "features.shape(62, 252)\n",
      "vad.shape(252,)\n",
      "features.shape(62, 348)\n",
      "vad.shape(348,)\n",
      "features.shape(62, 547)\n",
      "vad.shape(547,)\n"
     ]
    },
    {
     "name": "stderr",
     "output_type": "stream",
     "text": [
      " 47%|████▋     | 2987/6394 [02:58<02:44, 20.67it/s]"
     ]
    },
    {
     "name": "stdout",
     "output_type": "stream",
     "text": [
      "features.shape(62, 483)\n",
      "vad.shape(483,)\n",
      "features.shape(62, 300)\n",
      "vad.shape(300,)\n",
      "features.shape(62, 355)\n",
      "vad.shape(355,)\n",
      "features.shape(62, 269)\n",
      "vad.shape(269,)\n",
      "features.shape(62, 325)\n",
      "vad.shape(325,)\n"
     ]
    },
    {
     "name": "stderr",
     "output_type": "stream",
     "text": [
      " 47%|████▋     | 2990/6394 [02:58<03:22, 16.83it/s]"
     ]
    },
    {
     "name": "stdout",
     "output_type": "stream",
     "text": [
      "features.shape(62, 419)\n",
      "vad.shape(419,)\n",
      "features.shape(62, 240)\n",
      "vad.shape(240,)\n",
      "features.shape(62, 214)\n",
      "vad.shape(214,)\n"
     ]
    },
    {
     "name": "stderr",
     "output_type": "stream",
     "text": [
      " 47%|████▋     | 2996/6394 [02:58<02:42, 20.96it/s]"
     ]
    },
    {
     "name": "stdout",
     "output_type": "stream",
     "text": [
      "features.shape(62, 436)\n",
      "vad.shape(436,)\n",
      "features.shape(62, 334)\n",
      "vad.shape(334,)\n",
      "features.shape(62, 329)\n",
      "vad.shape(329,)\n",
      "features.shape(62, 334)\n",
      "vad.shape(334,)\n",
      "features.shape(62, 350)\n",
      "vad.shape(350,)\n",
      "features.shape(62, 607)\n",
      "vad.shape(607,)\n"
     ]
    },
    {
     "name": "stderr",
     "output_type": "stream",
     "text": [
      " 47%|████▋     | 3002/6394 [02:58<02:32, 22.22it/s]"
     ]
    },
    {
     "name": "stdout",
     "output_type": "stream",
     "text": [
      "features.shape(62, 410)\n",
      "vad.shape(410,)\n",
      "features.shape(62, 376)\n",
      "vad.shape(376,)\n",
      "features.shape(62, 291)\n",
      "vad.shape(291,)\n",
      "features.shape(62, 382)\n",
      "vad.shape(382,)\n",
      "features.shape(62, 312)\n",
      "vad.shape(312,)\n",
      "features.shape(62, 513)\n",
      "vad.shape(513,)\n"
     ]
    },
    {
     "name": "stderr",
     "output_type": "stream",
     "text": [
      " 47%|████▋     | 3005/6394 [02:58<02:42, 20.86it/s]"
     ]
    },
    {
     "name": "stdout",
     "output_type": "stream",
     "text": [
      "features.shape(62, 265)\n",
      "vad.shape(265,)\n",
      "features.shape(62, 351)\n",
      "vad.shape(351,)\n",
      "features.shape(62, 389)\n",
      "vad.shape(389,)\n",
      "features.shape(62, 671)\n",
      "vad.shape(671,)\n"
     ]
    },
    {
     "name": "stderr",
     "output_type": "stream",
     "text": [
      " 47%|████▋     | 3011/6394 [02:59<02:38, 21.33it/s]"
     ]
    },
    {
     "name": "stdout",
     "output_type": "stream",
     "text": [
      "features.shape(62, 257)\n",
      "vad.shape(257,)\n",
      "features.shape(62, 432)\n",
      "vad.shape(432,)\n",
      "features.shape(62, 427)\n",
      "vad.shape(427,)\n",
      "features.shape(62, 342)\n",
      "vad.shape(342,)\n",
      "features.shape(62, 560)\n",
      "vad.shape(560,)\n",
      "features.shape(62, 338)\n",
      "vad.shape(338,)\n",
      "features.shape(62, 317)\n",
      "vad.shape(317,)\n"
     ]
    },
    {
     "name": "stderr",
     "output_type": "stream",
     "text": [
      " 47%|████▋     | 3018/6394 [02:59<02:27, 22.88it/s]"
     ]
    },
    {
     "name": "stdout",
     "output_type": "stream",
     "text": [
      "features.shape(62, 299)\n",
      "vad.shape(299,)\n",
      "features.shape(62, 491)\n",
      "vad.shape(491,)\n",
      "features.shape(62, 342)\n",
      "vad.shape(342,)\n",
      "features.shape(62, 385)\n",
      "vad.shape(385,)\n",
      "features.shape(62, 402)\n",
      "vad.shape(402,)\n"
     ]
    },
    {
     "name": "stderr",
     "output_type": "stream",
     "text": [
      " 47%|████▋     | 3022/6394 [02:59<02:09, 26.08it/s]"
     ]
    },
    {
     "name": "stdout",
     "output_type": "stream",
     "text": [
      "features.shape(62, 632)\n",
      "vad.shape(632,)\n",
      "features.shape(62, 432)\n",
      "vad.shape(432,)\n",
      "features.shape(62, 269)\n",
      "vad.shape(269,)\n",
      "features.shape(62, 321)\n",
      "vad.shape(321,)\n",
      "features.shape(62, 364)\n",
      "vad.shape(364,)\n"
     ]
    },
    {
     "name": "stderr",
     "output_type": "stream",
     "text": [
      " 47%|████▋     | 3028/6394 [02:59<02:27, 22.76it/s]"
     ]
    },
    {
     "name": "stdout",
     "output_type": "stream",
     "text": [
      "features.shape(62, 387)\n",
      "vad.shape(387,)\n",
      "features.shape(62, 321)\n",
      "vad.shape(321,)\n",
      "features.shape(62, 334)\n",
      "vad.shape(334,)\n",
      "features.shape(62, 368)\n",
      "vad.shape(368,)\n",
      "features.shape(62, 346)\n",
      "vad.shape(346,)\n",
      "features.shape(62, 317)\n",
      "vad.shape(317,)\n"
     ]
    },
    {
     "name": "stderr",
     "output_type": "stream",
     "text": [
      " 47%|████▋     | 3032/6394 [03:00<02:16, 24.66it/s]"
     ]
    },
    {
     "name": "stdout",
     "output_type": "stream",
     "text": [
      "features.shape(62, 675)\n",
      "vad.shape(675,)\n",
      "features.shape(62, 321)\n",
      "vad.shape(321,)\n",
      "features.shape(62, 274)\n",
      "vad.shape(274,)\n",
      "features.shape(62, 568)\n",
      "vad.shape(568,)\n",
      "features.shape(62, 321)\n",
      "vad.shape(321,)\n"
     ]
    },
    {
     "name": "stderr",
     "output_type": "stream",
     "text": [
      " 48%|████▊     | 3038/6394 [03:00<02:35, 21.60it/s]"
     ]
    },
    {
     "name": "stdout",
     "output_type": "stream",
     "text": [
      "features.shape(62, 334)\n",
      "vad.shape(334,)\n",
      "features.shape(62, 321)\n",
      "vad.shape(321,)\n",
      "features.shape(62, 351)\n",
      "vad.shape(351,)\n",
      "features.shape(62, 427)\n",
      "vad.shape(427,)\n"
     ]
    },
    {
     "name": "stderr",
     "output_type": "stream",
     "text": [
      " 48%|████▊     | 3041/6394 [03:00<02:42, 20.60it/s]"
     ]
    },
    {
     "name": "stdout",
     "output_type": "stream",
     "text": [
      "features.shape(62, 329)\n",
      "vad.shape(329,)\n",
      "features.shape(62, 304)\n",
      "vad.shape(304,)\n",
      "features.shape(62, 402)\n",
      "vad.shape(402,)\n",
      "features.shape(62, 415)\n",
      "vad.shape(415,)\n",
      "features.shape(62, 278)\n"
     ]
    },
    {
     "name": "stderr",
     "output_type": "stream",
     "text": [
      " 48%|████▊     | 3044/6394 [03:00<03:09, 17.70it/s]"
     ]
    },
    {
     "name": "stdout",
     "output_type": "stream",
     "text": [
      "vad.shape(278,)\n",
      "features.shape(62, 329)\n",
      "vad.shape(329,)\n",
      "features.shape(62, 253)\n",
      "vad.shape(253,)\n"
     ]
    },
    {
     "name": "stderr",
     "output_type": "stream",
     "text": [
      " 48%|████▊     | 3049/6394 [03:01<02:53, 19.33it/s]"
     ]
    },
    {
     "name": "stdout",
     "output_type": "stream",
     "text": [
      "features.shape(62, 428)\n",
      "vad.shape(428,)\n",
      "features.shape(62, 355)\n",
      "vad.shape(355,)\n",
      "features.shape(62, 389)\n",
      "vad.shape(389,)\n",
      "features.shape(62, 398)\n",
      "vad.shape(398,)\n",
      "features.shape(62, 415)\n",
      "vad.shape(415,)\n",
      "features.shape(62, 372)\n",
      "vad.shape(372,)\n"
     ]
    },
    {
     "name": "stderr",
     "output_type": "stream",
     "text": [
      " 48%|████▊     | 3055/6394 [03:01<03:03, 18.22it/s]"
     ]
    },
    {
     "name": "stdout",
     "output_type": "stream",
     "text": [
      "features.shape(62, 368)\n",
      "vad.shape(368,)\n",
      "features.shape(62, 313)\n",
      "vad.shape(313,)\n",
      "features.shape(62, 483)\n",
      "vad.shape(483,)\n",
      "features.shape(62, 312)\n",
      "vad.shape(312,)\n"
     ]
    },
    {
     "name": "stderr",
     "output_type": "stream",
     "text": [
      " 48%|████▊     | 3059/6394 [03:01<03:18, 16.76it/s]"
     ]
    },
    {
     "name": "stdout",
     "output_type": "stream",
     "text": [
      "features.shape(62, 295)\n",
      "vad.shape(295,)\n",
      "features.shape(62, 261)\n",
      "vad.shape(261,)\n",
      "features.shape(62, 325)\n",
      "vad.shape(325,)\n",
      "features.shape(62, 427)\n",
      "vad.shape(427,)\n"
     ]
    },
    {
     "name": "stderr",
     "output_type": "stream",
     "text": [
      " 48%|████▊     | 3064/6394 [03:01<02:48, 19.74it/s]"
     ]
    },
    {
     "name": "stdout",
     "output_type": "stream",
     "text": [
      "features.shape(62, 278)\n",
      "vad.shape(278,)\n",
      "features.shape(62, 274)\n",
      "vad.shape(274,)\n",
      "features.shape(62, 338)\n",
      "vad.shape(338,)\n",
      "features.shape(62, 351)\n",
      "vad.shape(351,)\n",
      "features.shape(62, 330)\n",
      "vad.shape(330,)\n",
      "features.shape(62, 436)\n",
      "vad.shape(436,)\n",
      "features.shape(62, 312)\n"
     ]
    },
    {
     "name": "stderr",
     "output_type": "stream",
     "text": [
      " 48%|████▊     | 3071/6394 [03:02<02:21, 23.41it/s]"
     ]
    },
    {
     "name": "stdout",
     "output_type": "stream",
     "text": [
      "vad.shape(312,)\n",
      "features.shape(62, 568)\n",
      "vad.shape(568,)\n",
      "features.shape(62, 419)\n",
      "vad.shape(419,)\n",
      "features.shape(62, 321)\n",
      "vad.shape(321,)\n",
      "features.shape(62, 551)\n",
      "vad.shape(551,)\n",
      "features.shape(62, 325)\n",
      "vad.shape(325,)\n"
     ]
    },
    {
     "name": "stderr",
     "output_type": "stream",
     "text": [
      " 48%|████▊     | 3074/6394 [03:02<02:23, 23.21it/s]"
     ]
    },
    {
     "name": "stdout",
     "output_type": "stream",
     "text": [
      "features.shape(62, 325)\n",
      "vad.shape(325,)\n",
      "features.shape(62, 508)\n",
      "vad.shape(508,)\n",
      "features.shape(62, 449)\n",
      "vad.shape(449,)\n",
      "features.shape(62, 406)\n",
      "vad.shape(406,)\n",
      "features.shape(62, 342)\n",
      "vad.shape(342,)\n"
     ]
    },
    {
     "name": "stderr",
     "output_type": "stream",
     "text": [
      " 48%|████▊     | 3080/6394 [03:02<02:49, 19.54it/s]"
     ]
    },
    {
     "name": "stdout",
     "output_type": "stream",
     "text": [
      "features.shape(62, 423)\n",
      "vad.shape(423,)\n",
      "features.shape(62, 300)\n",
      "vad.shape(300,)\n",
      "features.shape(62, 244)\n",
      "vad.shape(244,)\n",
      "features.shape(62, 274)\n",
      "vad.shape(274,)\n",
      "features.shape(62, 359)\n",
      "vad.shape(359,)\n"
     ]
    },
    {
     "name": "stderr",
     "output_type": "stream",
     "text": [
      " 48%|████▊     | 3086/6394 [03:02<02:48, 19.69it/s]"
     ]
    },
    {
     "name": "stdout",
     "output_type": "stream",
     "text": [
      "features.shape(62, 291)\n",
      "vad.shape(291,)\n",
      "features.shape(62, 355)\n",
      "vad.shape(355,)\n",
      "features.shape(62, 350)\n",
      "vad.shape(350,)\n",
      "features.shape(62, 321)\n",
      "vad.shape(321,)\n",
      "features.shape(62, 351)\n",
      "vad.shape(351,)\n"
     ]
    },
    {
     "name": "stderr",
     "output_type": "stream",
     "text": [
      " 48%|████▊     | 3090/6394 [03:03<02:40, 20.56it/s]"
     ]
    },
    {
     "name": "stdout",
     "output_type": "stream",
     "text": [
      "features.shape(62, 346)\n",
      "vad.shape(346,)\n",
      "features.shape(62, 389)\n",
      "vad.shape(389,)\n",
      "features.shape(62, 359)\n",
      "vad.shape(359,)\n",
      "features.shape(62, 355)\n",
      "vad.shape(355,)\n"
     ]
    },
    {
     "name": "stderr",
     "output_type": "stream",
     "text": [
      " 48%|████▊     | 3097/6394 [03:03<02:16, 24.19it/s]"
     ]
    },
    {
     "name": "stdout",
     "output_type": "stream",
     "text": [
      "features.shape(62, 252)\n",
      "vad.shape(252,)\n",
      "features.shape(62, 397)\n",
      "vad.shape(397,)\n",
      "features.shape(62, 283)\n",
      "vad.shape(283,)\n",
      "features.shape(62, 300)\n",
      "vad.shape(300,)\n",
      "features.shape(62, 359)\n",
      "vad.shape(359,)\n",
      "features.shape(62, 436)\n",
      "vad.shape(436,)\n",
      "features.shape(62, 317)\n",
      "vad.shape(317,)\n"
     ]
    },
    {
     "name": "stderr",
     "output_type": "stream",
     "text": [
      " 48%|████▊     | 3101/6394 [03:03<02:07, 25.74it/s]"
     ]
    },
    {
     "name": "stdout",
     "output_type": "stream",
     "text": [
      "features.shape(62, 266)\n",
      "vad.shape(266,)\n",
      "features.shape(62, 504)\n",
      "vad.shape(504,)\n",
      "features.shape(62, 295)\n",
      "vad.shape(295,)\n",
      "features.shape(62, 381)\n",
      "vad.shape(381,)\n",
      "features.shape(62, 295)\n",
      "vad.shape(295,)\n"
     ]
    },
    {
     "name": "stderr",
     "output_type": "stream",
     "text": [
      " 49%|████▊     | 3104/6394 [03:03<02:35, 21.20it/s]"
     ]
    },
    {
     "name": "stdout",
     "output_type": "stream",
     "text": [
      "features.shape(62, 376)\n",
      "vad.shape(376,)\n",
      "features.shape(62, 803)\n",
      "vad.shape(803,)\n",
      "features.shape(62, 274)\n",
      "vad.shape(274,)\n",
      "features.shape(62, 368)\n",
      "vad.shape(368,)\n",
      "features.shape(62, 342)\n",
      "vad.shape(342,)\n"
     ]
    },
    {
     "name": "stderr",
     "output_type": "stream",
     "text": [
      " 49%|████▊     | 3113/6394 [03:04<02:16, 23.96it/s]"
     ]
    },
    {
     "name": "stdout",
     "output_type": "stream",
     "text": [
      "features.shape(62, 295)\n",
      "vad.shape(295,)\n",
      "features.shape(62, 500)\n",
      "vad.shape(500,)\n",
      "features.shape(62, 351)\n",
      "vad.shape(351,)\n",
      "features.shape(62, 308)\n",
      "vad.shape(308,)\n",
      "features.shape(62, 474)\n",
      "vad.shape(474,)\n",
      "features.shape(62, 300)\n",
      "vad.shape(300,)\n"
     ]
    },
    {
     "name": "stderr",
     "output_type": "stream",
     "text": [
      " 49%|████▊     | 3116/6394 [03:04<02:19, 23.47it/s]"
     ]
    },
    {
     "name": "stdout",
     "output_type": "stream",
     "text": [
      "features.shape(62, 223)\n",
      "vad.shape(223,)\n",
      "features.shape(62, 312)\n",
      "vad.shape(312,)\n",
      "features.shape(62, 483)\n",
      "vad.shape(483,)\n",
      "features.shape(62, 372)\n",
      "vad.shape(372,)\n",
      "features.shape(62, 755)\n",
      "vad.shape(755,)\n"
     ]
    },
    {
     "name": "stderr",
     "output_type": "stream",
     "text": [
      " 49%|████▉     | 3122/6394 [03:04<02:25, 22.44it/s]"
     ]
    },
    {
     "name": "stdout",
     "output_type": "stream",
     "text": [
      "features.shape(62, 278)\n",
      "vad.shape(278,)\n",
      "features.shape(62, 329)\n",
      "vad.shape(329,)\n",
      "features.shape(62, 611)\n",
      "vad.shape(611,)\n",
      "features.shape(62, 244)\n",
      "vad.shape(244,)\n",
      "features.shape(62, 449)\n",
      "vad.shape(449,)\n"
     ]
    },
    {
     "name": "stderr",
     "output_type": "stream",
     "text": [
      " 49%|████▉     | 3125/6394 [03:04<02:51, 19.11it/s]"
     ]
    },
    {
     "name": "stdout",
     "output_type": "stream",
     "text": [
      "features.shape(62, 278)\n",
      "vad.shape(278,)\n",
      "features.shape(62, 398)\n",
      "vad.shape(398,)\n",
      "features.shape(62, 436)\n",
      "vad.shape(436,)\n",
      "features.shape(62, 432)\n",
      "vad.shape(432,)\n"
     ]
    },
    {
     "name": "stderr",
     "output_type": "stream",
     "text": [
      " 49%|████▉     | 3130/6394 [03:05<03:02, 17.85it/s]"
     ]
    },
    {
     "name": "stdout",
     "output_type": "stream",
     "text": [
      "features.shape(62, 477)\n",
      "vad.shape(477,)\n",
      "features.shape(62, 295)\n",
      "vad.shape(295,)\n",
      "features.shape(62, 316)\n",
      "vad.shape(316,)\n",
      "features.shape(62, 274)\n",
      "vad.shape(274,)\n",
      "features.shape(62, 299)\n",
      "vad.shape(299,)\n"
     ]
    },
    {
     "name": "stderr",
     "output_type": "stream",
     "text": [
      " 49%|████▉     | 3133/6394 [03:05<02:42, 20.09it/s]"
     ]
    },
    {
     "name": "stdout",
     "output_type": "stream",
     "text": [
      "features.shape(62, 385)\n",
      "vad.shape(385,)\n",
      "features.shape(62, 402)\n",
      "vad.shape(402,)\n",
      "features.shape(62, 219)\n",
      "vad.shape(219,)\n"
     ]
    },
    {
     "name": "stderr",
     "output_type": "stream",
     "text": [
      " 49%|████▉     | 3138/6394 [03:05<03:22, 16.09it/s]"
     ]
    },
    {
     "name": "stdout",
     "output_type": "stream",
     "text": [
      "features.shape(62, 278)\n",
      "vad.shape(278,)\n",
      "features.shape(62, 397)\n",
      "vad.shape(397,)\n",
      "features.shape(62, 700)\n",
      "vad.shape(700,)\n",
      "features.shape(62, 188)\n",
      "vad.shape(188,)\n"
     ]
    },
    {
     "name": "stderr",
     "output_type": "stream",
     "text": [
      " 49%|████▉     | 3142/6394 [03:05<03:26, 15.77it/s]"
     ]
    },
    {
     "name": "stdout",
     "output_type": "stream",
     "text": [
      "features.shape(62, 363)\n",
      "vad.shape(363,)\n",
      "features.shape(62, 427)\n",
      "vad.shape(427,)\n",
      "features.shape(62, 253)\n",
      "vad.shape(253,)\n"
     ]
    },
    {
     "name": "stderr",
     "output_type": "stream",
     "text": [
      " 49%|████▉     | 3147/6394 [03:06<03:10, 17.07it/s]"
     ]
    },
    {
     "name": "stdout",
     "output_type": "stream",
     "text": [
      "features.shape(62, 219)\n",
      "vad.shape(219,)\n",
      "features.shape(62, 287)\n",
      "vad.shape(287,)\n",
      "features.shape(62, 406)\n",
      "vad.shape(406,)\n",
      "features.shape(62, 291)\n",
      "vad.shape(291,)\n",
      "features.shape(62, 338)\n",
      "vad.shape(338,)\n"
     ]
    },
    {
     "name": "stderr",
     "output_type": "stream",
     "text": [
      " 49%|████▉     | 3153/6394 [03:06<02:38, 20.45it/s]"
     ]
    },
    {
     "name": "stdout",
     "output_type": "stream",
     "text": [
      "features.shape(62, 142)\n",
      "vad.shape(142,)\n",
      "features.shape(62, 223)\n",
      "vad.shape(223,)\n",
      "features.shape(62, 368)\n",
      "vad.shape(368,)\n",
      "features.shape(62, 436)\n",
      "vad.shape(436,)\n",
      "features.shape(62, 376)\n",
      "vad.shape(376,)\n",
      "features.shape(62, 206)\n",
      "vad.shape(206,)\n"
     ]
    },
    {
     "name": "stderr",
     "output_type": "stream",
     "text": [
      " 49%|████▉     | 3156/6394 [03:06<03:32, 15.25it/s]"
     ]
    },
    {
     "name": "stdout",
     "output_type": "stream",
     "text": [
      "features.shape(62, 222)\n",
      "vad.shape(222,)\n",
      "features.shape(62, 462)\n",
      "vad.shape(462,)\n",
      "features.shape(62, 206)\n",
      "vad.shape(206,)\n"
     ]
    },
    {
     "name": "stderr",
     "output_type": "stream",
     "text": [
      " 49%|████▉     | 3158/6394 [03:06<03:34, 15.07it/s]"
     ]
    },
    {
     "name": "stdout",
     "output_type": "stream",
     "text": [
      "features.shape(62, 380)\n",
      "vad.shape(380,)\n",
      "features.shape(62, 329)\n",
      "vad.shape(329,)\n",
      "features.shape(62, 188)\n",
      "vad.shape(188,)\n"
     ]
    },
    {
     "name": "stderr",
     "output_type": "stream",
     "text": [
      " 49%|████▉     | 3163/6394 [03:07<03:33, 15.11it/s]"
     ]
    },
    {
     "name": "stdout",
     "output_type": "stream",
     "text": [
      "features.shape(62, 470)\n",
      "vad.shape(470,)\n",
      "features.shape(62, 317)\n",
      "vad.shape(317,)\n",
      "features.shape(62, 155)\n",
      "vad.shape(155,)\n",
      "features.shape(62, 180)\n",
      "vad.shape(180,)\n",
      "features.shape(62, 419)\n",
      "vad.shape(419,)\n"
     ]
    },
    {
     "name": "stderr",
     "output_type": "stream",
     "text": [
      " 50%|████▉     | 3167/6394 [03:07<03:42, 14.53it/s]"
     ]
    },
    {
     "name": "stdout",
     "output_type": "stream",
     "text": [
      "features.shape(62, 193)\n",
      "vad.shape(193,)\n",
      "features.shape(62, 214)\n",
      "vad.shape(214,)\n",
      "features.shape(62, 269)\n",
      "vad.shape(269,)\n"
     ]
    },
    {
     "name": "stderr",
     "output_type": "stream",
     "text": [
      " 50%|████▉     | 3171/6394 [03:07<02:43, 19.66it/s]"
     ]
    },
    {
     "name": "stdout",
     "output_type": "stream",
     "text": [
      "features.shape(62, 206)\n",
      "vad.shape(206,)\n",
      "features.shape(62, 453)\n",
      "vad.shape(453,)\n",
      "features.shape(62, 487)\n",
      "vad.shape(487,)\n",
      "features.shape(62, 415)\n",
      "vad.shape(415,)\n",
      "features.shape(62, 188)\n",
      "vad.shape(188,)\n"
     ]
    },
    {
     "name": "stderr",
     "output_type": "stream",
     "text": [
      " 50%|████▉     | 3177/6394 [03:07<02:51, 18.77it/s]"
     ]
    },
    {
     "name": "stdout",
     "output_type": "stream",
     "text": [
      "features.shape(62, 184)\n",
      "vad.shape(184,)\n",
      "features.shape(62, 261)\n",
      "vad.shape(261,)\n",
      "features.shape(62, 265)\n",
      "vad.shape(265,)\n",
      "features.shape(62, 428)\n",
      "vad.shape(428,)\n",
      "features.shape(62, 338)\n",
      "vad.shape(338,)\n",
      "features.shape(62, 244)\n",
      "vad.shape(244,)\n"
     ]
    },
    {
     "name": "stderr",
     "output_type": "stream",
     "text": [
      " 50%|████▉     | 3183/6394 [03:08<02:36, 20.49it/s]"
     ]
    },
    {
     "name": "stdout",
     "output_type": "stream",
     "text": [
      "features.shape(62, 415)\n",
      "vad.shape(415,)\n",
      "features.shape(62, 295)\n",
      "vad.shape(295,)\n",
      "features.shape(62, 159)\n",
      "vad.shape(159,)\n",
      "features.shape(62, 176)\n",
      "vad.shape(176,)\n",
      "features.shape(62, 325)\n",
      "vad.shape(325,)\n"
     ]
    },
    {
     "name": "stderr",
     "output_type": "stream",
     "text": [
      " 50%|████▉     | 3186/6394 [03:08<02:38, 20.30it/s]"
     ]
    },
    {
     "name": "stdout",
     "output_type": "stream",
     "text": [
      "features.shape(62, 274)\n",
      "vad.shape(274,)\n",
      "features.shape(62, 312)\n",
      "vad.shape(312,)\n",
      "features.shape(62, 167)\n",
      "vad.shape(167,)\n",
      "features.shape(62, 235)\n",
      "vad.shape(235,)\n",
      "features.shape(62, 180)\n",
      "vad.shape(180,)\n"
     ]
    },
    {
     "name": "stderr",
     "output_type": "stream",
     "text": [
      " 50%|████▉     | 3192/6394 [03:08<03:06, 17.19it/s]"
     ]
    },
    {
     "name": "stdout",
     "output_type": "stream",
     "text": [
      "features.shape(62, 338)\n",
      "vad.shape(338,)\n",
      "features.shape(62, 266)\n",
      "vad.shape(266,)\n",
      "features.shape(62, 372)\n",
      "vad.shape(372,)\n",
      "features.shape(62, 171)\n",
      "vad.shape(171,)\n",
      "features.shape(62, 466)\n",
      "vad.shape(466,)\n",
      "features.shape(62, 406)\n",
      "vad.shape(406,)\n"
     ]
    },
    {
     "name": "stderr",
     "output_type": "stream",
     "text": [
      " 50%|█████     | 3197/6394 [03:09<03:12, 16.59it/s]"
     ]
    },
    {
     "name": "stdout",
     "output_type": "stream",
     "text": [
      "features.shape(62, 244)\n",
      "vad.shape(244,)\n",
      "features.shape(62, 205)\n",
      "vad.shape(205,)\n",
      "features.shape(62, 291)\n",
      "vad.shape(291,)\n",
      "features.shape(62, 239)\n",
      "vad.shape(239,)\n",
      "features.shape(62, 445)\n",
      "vad.shape(445,)\n"
     ]
    },
    {
     "name": "stderr",
     "output_type": "stream",
     "text": [
      " 50%|█████     | 3200/6394 [03:09<02:58, 17.88it/s]"
     ]
    },
    {
     "name": "stdout",
     "output_type": "stream",
     "text": [
      "features.shape(62, 282)\n",
      "vad.shape(282,)\n",
      "features.shape(62, 236)\n",
      "vad.shape(236,)\n"
     ]
    },
    {
     "name": "stderr",
     "output_type": "stream",
     "text": [
      " 50%|█████     | 3204/6394 [03:09<05:21,  9.91it/s]"
     ]
    },
    {
     "name": "stdout",
     "output_type": "stream",
     "text": [
      "features.shape(62, 240)\n",
      "vad.shape(240,)\n",
      "features.shape(62, 444)\n",
      "vad.shape(444,)\n",
      "features.shape(62, 257)\n",
      "vad.shape(257,)\n"
     ]
    },
    {
     "name": "stderr",
     "output_type": "stream",
     "text": [
      " 50%|█████     | 3210/6394 [03:10<03:32, 14.99it/s]"
     ]
    },
    {
     "name": "stdout",
     "output_type": "stream",
     "text": [
      "features.shape(62, 581)\n",
      "vad.shape(581,)\n",
      "features.shape(62, 406)\n",
      "vad.shape(406,)\n",
      "features.shape(62, 500)\n",
      "vad.shape(500,)\n",
      "features.shape(62, 308)\n",
      "vad.shape(308,)\n",
      "features.shape(62, 257)\n",
      "vad.shape(257,)\n",
      "features.shape(62, 428)\n",
      "vad.shape(428,)\n"
     ]
    },
    {
     "name": "stderr",
     "output_type": "stream",
     "text": [
      " 50%|█████     | 3212/6394 [03:10<04:17, 12.34it/s]"
     ]
    },
    {
     "name": "stdout",
     "output_type": "stream",
     "text": [
      "features.shape(62, 205)\n",
      "vad.shape(205,)\n",
      "features.shape(62, 457)\n",
      "vad.shape(457,)\n"
     ]
    },
    {
     "name": "stderr",
     "output_type": "stream",
     "text": [
      " 50%|█████     | 3216/6394 [03:10<03:52, 13.70it/s]"
     ]
    },
    {
     "name": "stdout",
     "output_type": "stream",
     "text": [
      "features.shape(62, 257)\n",
      "vad.shape(257,)\n",
      "features.shape(62, 202)\n",
      "vad.shape(202,)\n",
      "features.shape(62, 201)\n",
      "vad.shape(201,)\n",
      "features.shape(62, 261)\n",
      "vad.shape(261,)\n",
      "features.shape(62, 274)\n",
      "vad.shape(274,)\n"
     ]
    },
    {
     "name": "stderr",
     "output_type": "stream",
     "text": [
      " 50%|█████     | 3220/6394 [03:10<03:46, 14.01it/s]"
     ]
    },
    {
     "name": "stdout",
     "output_type": "stream",
     "text": [
      "features.shape(62, 197)\n",
      "vad.shape(197,)\n",
      "features.shape(62, 381)\n",
      "vad.shape(381,)\n",
      "features.shape(62, 406)\n",
      "vad.shape(406,)\n",
      "features.shape(62, 312)\n",
      "vad.shape(312,)\n"
     ]
    },
    {
     "name": "stderr",
     "output_type": "stream",
     "text": [
      " 50%|█████     | 3227/6394 [03:11<02:40, 19.71it/s]"
     ]
    },
    {
     "name": "stdout",
     "output_type": "stream",
     "text": [
      "features.shape(62, 329)\n",
      "vad.shape(329,)\n",
      "features.shape(62, 321)\n",
      "vad.shape(321,)\n",
      "features.shape(62, 244)\n",
      "vad.shape(244,)\n",
      "features.shape(62, 291)\n",
      "vad.shape(291,)\n",
      "features.shape(62, 487)\n",
      "vad.shape(487,)\n",
      "features.shape(62, 342)\n",
      "vad.shape(342,)\n"
     ]
    },
    {
     "name": "stderr",
     "output_type": "stream",
     "text": [
      " 51%|█████     | 3230/6394 [03:11<03:04, 17.14it/s]"
     ]
    },
    {
     "name": "stdout",
     "output_type": "stream",
     "text": [
      "features.shape(62, 163)\n",
      "vad.shape(163,)\n",
      "features.shape(62, 193)\n",
      "vad.shape(193,)\n",
      "features.shape(62, 180)\n",
      "vad.shape(180,)\n"
     ]
    },
    {
     "name": "stderr",
     "output_type": "stream",
     "text": [
      " 51%|█████     | 3232/6394 [03:11<03:38, 14.45it/s]"
     ]
    },
    {
     "name": "stdout",
     "output_type": "stream",
     "text": [
      "features.shape(62, 172)\n",
      "vad.shape(172,)\n",
      "features.shape(62, 180)\n",
      "vad.shape(180,)\n",
      "features.shape(62, 346)\n",
      "vad.shape(346,)\n",
      "features.shape(62, 167)\n",
      "vad.shape(167,)\n"
     ]
    },
    {
     "name": "stderr",
     "output_type": "stream",
     "text": [
      " 51%|█████     | 3238/6394 [03:11<02:57, 17.75it/s]"
     ]
    },
    {
     "name": "stdout",
     "output_type": "stream",
     "text": [
      "features.shape(62, 266)\n",
      "vad.shape(266,)\n",
      "features.shape(62, 346)\n",
      "vad.shape(346,)\n",
      "features.shape(62, 205)\n",
      "vad.shape(205,)\n",
      "features.shape(62, 193)\n",
      "vad.shape(193,)\n"
     ]
    },
    {
     "name": "stderr",
     "output_type": "stream",
     "text": [
      " 51%|█████     | 3242/6394 [03:12<02:55, 17.93it/s]"
     ]
    },
    {
     "name": "stdout",
     "output_type": "stream",
     "text": [
      "features.shape(62, 214)\n",
      "vad.shape(214,)\n",
      "features.shape(62, 359)\n",
      "vad.shape(359,)\n",
      "features.shape(62, 150)\n",
      "vad.shape(150,)\n",
      "features.shape(62, 389)\n",
      "vad.shape(389,)\n",
      "features.shape(62, 312)\n",
      "vad.shape(312,)\n"
     ]
    },
    {
     "name": "stderr",
     "output_type": "stream",
     "text": [
      " 51%|█████     | 3246/6394 [03:12<02:56, 17.85it/s]"
     ]
    },
    {
     "name": "stdout",
     "output_type": "stream",
     "text": [
      "features.shape(62, 423)\n",
      "vad.shape(423,)\n",
      "features.shape(62, 355)\n",
      "vad.shape(355,)\n",
      "features.shape(62, 299)\n",
      "vad.shape(299,)\n",
      "features.shape(62, 346)\n",
      "vad.shape(346,)\n"
     ]
    },
    {
     "name": "stderr",
     "output_type": "stream",
     "text": [
      " 51%|█████     | 3252/6394 [03:12<02:34, 20.34it/s]"
     ]
    },
    {
     "name": "stdout",
     "output_type": "stream",
     "text": [
      "features.shape(62, 167)\n",
      "vad.shape(167,)\n",
      "features.shape(62, 462)\n",
      "vad.shape(462,)\n",
      "features.shape(62, 402)\n",
      "vad.shape(402,)\n",
      "features.shape(62, 184)\n",
      "vad.shape(184,)\n",
      "features.shape(62, 244)\n",
      "vad.shape(244,)\n"
     ]
    },
    {
     "name": "stderr",
     "output_type": "stream",
     "text": [
      " 51%|█████     | 3255/6394 [03:12<03:05, 16.90it/s]"
     ]
    },
    {
     "name": "stdout",
     "output_type": "stream",
     "text": [
      "features.shape(62, 385)\n",
      "vad.shape(385,)\n",
      "features.shape(62, 410)\n",
      "vad.shape(410,)\n",
      "features.shape(62, 265)\n",
      "vad.shape(265,)\n"
     ]
    },
    {
     "name": "stderr",
     "output_type": "stream",
     "text": [
      " 51%|█████     | 3260/6394 [03:13<02:52, 18.15it/s]"
     ]
    },
    {
     "name": "stdout",
     "output_type": "stream",
     "text": [
      "features.shape(62, 252)\n",
      "vad.shape(252,)\n",
      "features.shape(62, 364)\n",
      "vad.shape(364,)\n",
      "features.shape(62, 278)\n",
      "vad.shape(278,)\n",
      "features.shape(62, 248)\n",
      "vad.shape(248,)\n",
      "features.shape(62, 359)\n",
      "vad.shape(359,)\n"
     ]
    },
    {
     "name": "stderr",
     "output_type": "stream",
     "text": [
      " 51%|█████     | 3262/6394 [03:13<03:19, 15.71it/s]"
     ]
    },
    {
     "name": "stdout",
     "output_type": "stream",
     "text": [
      "features.shape(62, 210)\n",
      "vad.shape(210,)\n",
      "features.shape(62, 299)\n",
      "vad.shape(299,)\n",
      "features.shape(62, 376)\n",
      "vad.shape(376,)\n",
      "features.shape(62, 342)\n",
      "vad.shape(342,)\n"
     ]
    },
    {
     "name": "stderr",
     "output_type": "stream",
     "text": [
      " 51%|█████     | 3268/6394 [03:13<02:31, 20.57it/s]"
     ]
    },
    {
     "name": "stdout",
     "output_type": "stream",
     "text": [
      "features.shape(62, 427)\n",
      "vad.shape(427,)\n",
      "features.shape(62, 287)\n",
      "vad.shape(287,)\n",
      "features.shape(62, 453)\n",
      "vad.shape(453,)\n",
      "features.shape(62, 291)\n",
      "vad.shape(291,)\n",
      "features.shape(62, 346)\n",
      "vad.shape(346,)\n",
      "features.shape(62, 338)\n",
      "vad.shape(338,)\n"
     ]
    },
    {
     "name": "stderr",
     "output_type": "stream",
     "text": [
      " 51%|█████     | 3271/6394 [03:13<02:39, 19.58it/s]"
     ]
    },
    {
     "name": "stdout",
     "output_type": "stream",
     "text": [
      "features.shape(62, 410)\n",
      "vad.shape(410,)\n",
      "features.shape(62, 1119)\n",
      "vad.shape(1119,)\n",
      "features.shape(62, 291)\n",
      "vad.shape(291,)\n"
     ]
    },
    {
     "name": "stderr",
     "output_type": "stream",
     "text": [
      " 51%|█████▏    | 3277/6394 [03:14<02:58, 17.46it/s]"
     ]
    },
    {
     "name": "stdout",
     "output_type": "stream",
     "text": [
      "features.shape(62, 189)\n",
      "vad.shape(189,)\n",
      "features.shape(62, 154)\n",
      "vad.shape(154,)\n",
      "features.shape(62, 218)\n",
      "vad.shape(218,)\n",
      "features.shape(62, 351)\n",
      "vad.shape(351,)\n"
     ]
    },
    {
     "name": "stderr",
     "output_type": "stream",
     "text": [
      " 51%|█████▏    | 3283/6394 [03:14<02:34, 20.17it/s]"
     ]
    },
    {
     "name": "stdout",
     "output_type": "stream",
     "text": [
      "features.shape(62, 334)\n",
      "vad.shape(334,)\n",
      "features.shape(62, 457)\n",
      "vad.shape(457,)\n",
      "features.shape(62, 270)\n",
      "vad.shape(270,)\n",
      "features.shape(62, 261)\n",
      "vad.shape(261,)\n",
      "features.shape(62, 368)\n",
      "vad.shape(368,)\n",
      "features.shape(62, 231)\n",
      "vad.shape(231,)\n"
     ]
    },
    {
     "name": "stderr",
     "output_type": "stream",
     "text": [
      " 51%|█████▏    | 3286/6394 [03:14<02:48, 18.41it/s]"
     ]
    },
    {
     "name": "stdout",
     "output_type": "stream",
     "text": [
      "features.shape(62, 180)\n",
      "vad.shape(180,)\n",
      "features.shape(62, 146)\n",
      "vad.shape(146,)\n",
      "features.shape(62, 231)\n",
      "vad.shape(231,)\n"
     ]
    },
    {
     "name": "stderr",
     "output_type": "stream",
     "text": [
      " 51%|█████▏    | 3289/6394 [03:14<02:54, 17.77it/s]"
     ]
    },
    {
     "name": "stdout",
     "output_type": "stream",
     "text": [
      "features.shape(62, 142)\n",
      "vad.shape(142,)\n",
      "features.shape(62, 299)\n",
      "vad.shape(299,)\n",
      "features.shape(62, 252)\n",
      "vad.shape(252,)\n",
      "features.shape(62, 334)\n",
      "vad.shape(334,)\n"
     ]
    },
    {
     "name": "stderr",
     "output_type": "stream",
     "text": [
      " 52%|█████▏    | 3295/6394 [03:14<02:29, 20.70it/s]"
     ]
    },
    {
     "name": "stdout",
     "output_type": "stream",
     "text": [
      "features.shape(62, 312)\n",
      "vad.shape(312,)\n",
      "features.shape(62, 304)\n",
      "vad.shape(304,)\n",
      "features.shape(62, 202)\n",
      "vad.shape(202,)\n",
      "features.shape(62, 423)\n",
      "vad.shape(423,)\n",
      "features.shape(62, 380)\n",
      "vad.shape(380,)\n",
      "features.shape(62, 206)\n",
      "vad.shape(206,)\n"
     ]
    },
    {
     "name": "stderr",
     "output_type": "stream",
     "text": [
      " 52%|█████▏    | 3298/6394 [03:15<02:35, 19.90it/s]"
     ]
    },
    {
     "name": "stdout",
     "output_type": "stream",
     "text": [
      "features.shape(62, 167)\n",
      "vad.shape(167,)\n",
      "features.shape(62, 210)\n",
      "vad.shape(210,)\n",
      "features.shape(62, 654)\n",
      "vad.shape(654,)\n",
      "features.shape(62, 397)\n",
      "vad.shape(397,)\n"
     ]
    },
    {
     "name": "stderr",
     "output_type": "stream",
     "text": [
      " 52%|█████▏    | 3303/6394 [03:15<03:04, 16.75it/s]"
     ]
    },
    {
     "name": "stdout",
     "output_type": "stream",
     "text": [
      "features.shape(62, 202)\n",
      "vad.shape(202,)\n",
      "features.shape(62, 329)\n",
      "vad.shape(329,)\n",
      "features.shape(62, 193)\n",
      "vad.shape(193,)\n",
      "features.shape(62, 214)\n",
      "vad.shape(214,)\n",
      "features.shape(62, 248)\n",
      "vad.shape(248,)\n"
     ]
    },
    {
     "name": "stderr",
     "output_type": "stream",
     "text": [
      " 52%|█████▏    | 3308/6394 [03:15<02:51, 18.01it/s]"
     ]
    },
    {
     "name": "stdout",
     "output_type": "stream",
     "text": [
      "features.shape(62, 197)\n",
      "vad.shape(197,)\n",
      "features.shape(62, 201)\n",
      "vad.shape(201,)\n",
      "features.shape(62, 163)\n",
      "vad.shape(163,)\n",
      "features.shape(62, 376)\n",
      "vad.shape(376,)\n",
      "features.shape(62, 142)\n",
      "vad.shape(142,)\n"
     ]
    },
    {
     "name": "stderr",
     "output_type": "stream",
     "text": [
      " 52%|█████▏    | 3313/6394 [03:15<02:49, 18.16it/s]"
     ]
    },
    {
     "name": "stdout",
     "output_type": "stream",
     "text": [
      "features.shape(62, 427)\n",
      "vad.shape(427,)\n",
      "features.shape(62, 351)\n",
      "vad.shape(351,)\n",
      "features.shape(62, 402)\n",
      "vad.shape(402,)\n",
      "features.shape(62, 333)\n",
      "vad.shape(333,)\n",
      "features.shape(62, 355)\n",
      "vad.shape(355,)\n"
     ]
    },
    {
     "name": "stderr",
     "output_type": "stream",
     "text": [
      " 52%|█████▏    | 3319/6394 [03:16<02:31, 20.25it/s]"
     ]
    },
    {
     "name": "stdout",
     "output_type": "stream",
     "text": [
      "features.shape(62, 419)\n",
      "vad.shape(419,)\n",
      "features.shape(62, 295)\n",
      "vad.shape(295,)\n",
      "features.shape(62, 308)\n",
      "vad.shape(308,)\n",
      "features.shape(62, 201)\n",
      "vad.shape(201,)\n"
     ]
    },
    {
     "name": "stderr",
     "output_type": "stream",
     "text": [
      " 52%|█████▏    | 3322/6394 [03:16<02:37, 19.52it/s]"
     ]
    },
    {
     "name": "stdout",
     "output_type": "stream",
     "text": [
      "features.shape(62, 163)\n",
      "vad.shape(163,)\n",
      "features.shape(62, 189)\n",
      "vad.shape(189,)\n",
      "features.shape(62, 372)\n",
      "vad.shape(372,)\n",
      "features.shape(62, 257)\n",
      "vad.shape(257,)\n",
      "features.shape(62, 329)\n",
      "vad.shape(329,)\n"
     ]
    },
    {
     "name": "stderr",
     "output_type": "stream",
     "text": [
      " 52%|█████▏    | 3328/6394 [03:16<02:43, 18.72it/s]"
     ]
    },
    {
     "name": "stdout",
     "output_type": "stream",
     "text": [
      "features.shape(62, 240)\n",
      "vad.shape(240,)\n",
      "features.shape(62, 423)\n",
      "vad.shape(423,)\n",
      "features.shape(62, 240)\n",
      "vad.shape(240,)\n",
      "features.shape(62, 218)\n",
      "vad.shape(218,)\n"
     ]
    },
    {
     "name": "stderr",
     "output_type": "stream",
     "text": [
      " 52%|█████▏    | 3331/6394 [03:16<02:29, 20.56it/s]"
     ]
    },
    {
     "name": "stdout",
     "output_type": "stream",
     "text": [
      "features.shape(62, 338)\n",
      "vad.shape(338,)\n",
      "features.shape(62, 172)\n",
      "vad.shape(172,)\n",
      "features.shape(62, 270)\n",
      "vad.shape(270,)\n",
      "features.shape(62, 206)\n",
      "vad.shape(206,)\n"
     ]
    },
    {
     "name": "stderr",
     "output_type": "stream",
     "text": [
      " 52%|█████▏    | 3336/6394 [03:17<02:58, 17.11it/s]"
     ]
    },
    {
     "name": "stdout",
     "output_type": "stream",
     "text": [
      "features.shape(62, 167)\n",
      "vad.shape(167,)\n",
      "features.shape(62, 287)\n",
      "vad.shape(287,)\n",
      "features.shape(62, 236)\n",
      "vad.shape(236,)\n",
      "features.shape(62, 474)\n",
      "vad.shape(474,)\n"
     ]
    },
    {
     "name": "stderr",
     "output_type": "stream",
     "text": [
      " 52%|█████▏    | 3341/6394 [03:17<02:44, 18.55it/s]"
     ]
    },
    {
     "name": "stdout",
     "output_type": "stream",
     "text": [
      "features.shape(62, 271)\n",
      "vad.shape(271,)\n",
      "features.shape(62, 274)\n",
      "vad.shape(274,)\n",
      "features.shape(62, 364)\n",
      "vad.shape(364,)\n",
      "features.shape(62, 188)\n",
      "vad.shape(188,)\n",
      "features.shape(62, 359)\n",
      "vad.shape(359,)\n"
     ]
    },
    {
     "name": "stderr",
     "output_type": "stream",
     "text": [
      " 52%|█████▏    | 3344/6394 [03:17<02:28, 20.58it/s]"
     ]
    },
    {
     "name": "stdout",
     "output_type": "stream",
     "text": [
      "features.shape(62, 184)\n",
      "vad.shape(184,)\n",
      "features.shape(62, 385)\n",
      "vad.shape(385,)\n",
      "features.shape(62, 283)\n",
      "vad.shape(283,)\n",
      "features.shape(62, 180)\n",
      "vad.shape(180,)\n",
      "features.shape(62, 372)\n",
      "vad.shape(372,)\n"
     ]
    },
    {
     "name": "stderr",
     "output_type": "stream",
     "text": [
      " 52%|█████▏    | 3349/6394 [03:17<03:03, 16.59it/s]"
     ]
    },
    {
     "name": "stdout",
     "output_type": "stream",
     "text": [
      "features.shape(62, 158)\n",
      "vad.shape(158,)\n",
      "features.shape(62, 308)\n",
      "vad.shape(308,)\n",
      "features.shape(62, 167)\n",
      "vad.shape(167,)\n"
     ]
    },
    {
     "name": "stderr",
     "output_type": "stream",
     "text": [
      " 52%|█████▏    | 3351/6394 [03:18<03:19, 15.28it/s]"
     ]
    },
    {
     "name": "stdout",
     "output_type": "stream",
     "text": [
      "features.shape(62, 223)\n",
      "vad.shape(223,)\n",
      "features.shape(62, 244)\n",
      "vad.shape(244,)\n"
     ]
    },
    {
     "name": "stderr",
     "output_type": "stream",
     "text": [
      " 52%|█████▏    | 3355/6394 [03:19<06:49,  7.42it/s]"
     ]
    },
    {
     "name": "stdout",
     "output_type": "stream",
     "text": [
      "features.shape(62, 180)\n",
      "vad.shape(180,)\n",
      "features.shape(62, 188)\n",
      "vad.shape(188,)\n",
      "features.shape(62, 218)\n",
      "vad.shape(218,)\n",
      "features.shape(62, 419)\n",
      "vad.shape(419,)\n"
     ]
    },
    {
     "name": "stderr",
     "output_type": "stream",
     "text": [
      " 53%|█████▎    | 3357/6394 [03:19<06:03,  8.35it/s]"
     ]
    },
    {
     "name": "stdout",
     "output_type": "stream",
     "text": [
      "features.shape(62, 223)\n",
      "vad.shape(223,)\n",
      "features.shape(62, 295)\n",
      "vad.shape(295,)\n",
      "features.shape(62, 466)\n",
      "vad.shape(466,)\n",
      "features.shape(62, 210)\n",
      "vad.shape(210,)\n",
      "features.shape(62, 398)\n",
      "vad.shape(398,)\n"
     ]
    },
    {
     "name": "stderr",
     "output_type": "stream",
     "text": [
      " 53%|█████▎    | 3363/6394 [03:19<04:23, 11.52it/s]"
     ]
    },
    {
     "name": "stdout",
     "output_type": "stream",
     "text": [
      "features.shape(62, 252)\n",
      "vad.shape(252,)\n",
      "features.shape(62, 325)\n",
      "vad.shape(325,)\n",
      "features.shape(62, 227)\n",
      "vad.shape(227,)\n"
     ]
    },
    {
     "name": "stderr",
     "output_type": "stream",
     "text": [
      " 53%|█████▎    | 3366/6394 [03:19<03:37, 13.95it/s]"
     ]
    },
    {
     "name": "stdout",
     "output_type": "stream",
     "text": [
      "features.shape(62, 897)\n",
      "vad.shape(897,)\n",
      "features.shape(62, 402)\n",
      "vad.shape(402,)\n",
      "features.shape(62, 206)\n",
      "vad.shape(206,)\n",
      "features.shape(62, 231)\n",
      "vad.shape(231,)\n"
     ]
    },
    {
     "name": "stderr",
     "output_type": "stream",
     "text": [
      " 53%|█████▎    | 3371/6394 [03:19<03:04, 16.40it/s]"
     ]
    },
    {
     "name": "stdout",
     "output_type": "stream",
     "text": [
      "features.shape(62, 364)\n",
      "vad.shape(364,)\n",
      "features.shape(62, 393)\n",
      "vad.shape(393,)\n",
      "features.shape(62, 248)\n",
      "vad.shape(248,)\n",
      "features.shape(62, 291)\n",
      "vad.shape(291,)\n"
     ]
    },
    {
     "name": "stderr",
     "output_type": "stream",
     "text": [
      " 53%|█████▎    | 3374/6394 [03:20<02:45, 18.25it/s]"
     ]
    },
    {
     "name": "stdout",
     "output_type": "stream",
     "text": [
      "features.shape(62, 206)\n",
      "vad.shape(206,)\n",
      "features.shape(62, 355)\n",
      "vad.shape(355,)\n",
      "features.shape(62, 364)\n",
      "vad.shape(364,)\n",
      "features.shape(62, 231)\n",
      "vad.shape(231,)\n",
      "features.shape(62, 231)\n",
      "vad.shape(231,)\n"
     ]
    },
    {
     "name": "stderr",
     "output_type": "stream",
     "text": [
      " 53%|█████▎    | 3379/6394 [03:20<03:03, 16.41it/s]"
     ]
    },
    {
     "name": "stdout",
     "output_type": "stream",
     "text": [
      "features.shape(62, 252)\n",
      "vad.shape(252,)\n",
      "features.shape(62, 543)\n",
      "vad.shape(543,)\n",
      "features.shape(62, 334)\n",
      "vad.shape(334,)\n",
      "features.shape(62, 350)\n",
      "vad.shape(350,)\n",
      "features.shape(62, 291)\n"
     ]
    },
    {
     "name": "stderr",
     "output_type": "stream",
     "text": [
      " 53%|█████▎    | 3386/6394 [03:20<02:24, 20.76it/s]"
     ]
    },
    {
     "name": "stdout",
     "output_type": "stream",
     "text": [
      "vad.shape(291,)\n",
      "features.shape(62, 376)\n",
      "vad.shape(376,)\n",
      "features.shape(62, 227)\n",
      "vad.shape(227,)\n",
      "features.shape(62, 397)\n",
      "vad.shape(397,)\n",
      "features.shape(62, 304)\n",
      "vad.shape(304,)\n",
      "features.shape(62, 205)\n",
      "vad.shape(205,)\n"
     ]
    },
    {
     "name": "stderr",
     "output_type": "stream",
     "text": [
      " 53%|█████▎    | 3389/6394 [03:20<02:51, 17.55it/s]"
     ]
    },
    {
     "name": "stdout",
     "output_type": "stream",
     "text": [
      "features.shape(62, 368)\n",
      "vad.shape(368,)\n",
      "features.shape(62, 252)\n",
      "vad.shape(252,)\n",
      "features.shape(62, 351)\n",
      "vad.shape(351,)\n"
     ]
    },
    {
     "name": "stderr",
     "output_type": "stream",
     "text": [
      " 53%|█████▎    | 3391/6394 [03:21<03:07, 16.02it/s]"
     ]
    },
    {
     "name": "stdout",
     "output_type": "stream",
     "text": [
      "features.shape(62, 235)\n",
      "vad.shape(235,)\n",
      "features.shape(62, 329)\n",
      "vad.shape(329,)\n",
      "features.shape(62, 223)\n",
      "vad.shape(223,)\n"
     ]
    },
    {
     "name": "stderr",
     "output_type": "stream",
     "text": [
      " 53%|█████▎    | 3397/6394 [03:21<02:51, 17.46it/s]"
     ]
    },
    {
     "name": "stdout",
     "output_type": "stream",
     "text": [
      "features.shape(62, 193)\n",
      "vad.shape(193,)\n",
      "features.shape(62, 385)\n",
      "vad.shape(385,)\n",
      "features.shape(62, 299)\n",
      "vad.shape(299,)\n",
      "features.shape(62, 338)\n",
      "vad.shape(338,)\n",
      "features.shape(62, 222)\n",
      "vad.shape(222,)\n"
     ]
    },
    {
     "name": "stderr",
     "output_type": "stream",
     "text": [
      " 53%|█████▎    | 3399/6394 [03:21<03:39, 13.62it/s]"
     ]
    },
    {
     "name": "stdout",
     "output_type": "stream",
     "text": [
      "features.shape(62, 150)\n",
      "vad.shape(150,)\n",
      "features.shape(62, 253)\n",
      "vad.shape(253,)\n"
     ]
    },
    {
     "name": "stderr",
     "output_type": "stream",
     "text": [
      " 53%|█████▎    | 3401/6394 [03:21<03:48, 13.08it/s]"
     ]
    },
    {
     "name": "stdout",
     "output_type": "stream",
     "text": [
      "features.shape(62, 513)\n",
      "vad.shape(513,)\n",
      "features.shape(62, 406)\n",
      "vad.shape(406,)\n",
      "features.shape(62, 265)\n",
      "vad.shape(265,)\n",
      "features.shape(62, 325)\n",
      "vad.shape(325,)\n"
     ]
    },
    {
     "name": "stderr",
     "output_type": "stream",
     "text": [
      " 53%|█████▎    | 3407/6394 [03:22<02:47, 17.82it/s]"
     ]
    },
    {
     "name": "stdout",
     "output_type": "stream",
     "text": [
      "features.shape(62, 188)\n",
      "vad.shape(188,)\n",
      "features.shape(62, 291)\n",
      "vad.shape(291,)\n",
      "features.shape(62, 163)\n",
      "vad.shape(163,)\n",
      "features.shape(62, 184)\n",
      "vad.shape(184,)\n",
      "features.shape(62, 308)\n",
      "vad.shape(308,)\n"
     ]
    },
    {
     "name": "stderr",
     "output_type": "stream",
     "text": [
      " 53%|█████▎    | 3411/6394 [03:22<03:04, 16.21it/s]"
     ]
    },
    {
     "name": "stdout",
     "output_type": "stream",
     "text": [
      "features.shape(62, 163)\n",
      "vad.shape(163,)\n",
      "features.shape(62, 231)\n",
      "vad.shape(231,)\n",
      "features.shape(62, 235)\n",
      "vad.shape(235,)\n"
     ]
    },
    {
     "name": "stderr",
     "output_type": "stream",
     "text": [
      " 53%|█████▎    | 3414/6394 [03:22<02:46, 17.88it/s]"
     ]
    },
    {
     "name": "stdout",
     "output_type": "stream",
     "text": [
      "features.shape(62, 367)\n",
      "vad.shape(367,)\n",
      "features.shape(62, 453)\n",
      "vad.shape(453,)\n",
      "features.shape(62, 304)\n",
      "vad.shape(304,)\n",
      "features.shape(62, 219)\n",
      "vad.shape(219,)\n"
     ]
    },
    {
     "name": "stderr",
     "output_type": "stream",
     "text": [
      " 53%|█████▎    | 3418/6394 [03:22<02:55, 16.93it/s]"
     ]
    },
    {
     "name": "stdout",
     "output_type": "stream",
     "text": [
      "features.shape(62, 278)\n",
      "vad.shape(278,)\n",
      "features.shape(62, 466)\n",
      "vad.shape(466,)\n",
      "features.shape(62, 171)\n",
      "vad.shape(171,)\n",
      "features.shape(62, 274)\n",
      "vad.shape(274,)\n"
     ]
    },
    {
     "name": "stderr",
     "output_type": "stream",
     "text": [
      " 54%|█████▎    | 3423/6394 [03:23<02:38, 18.79it/s]"
     ]
    },
    {
     "name": "stdout",
     "output_type": "stream",
     "text": [
      "features.shape(62, 346)\n",
      "vad.shape(346,)\n",
      "features.shape(62, 602)\n",
      "vad.shape(602,)\n",
      "features.shape(62, 193)\n",
      "vad.shape(193,)\n",
      "features.shape(62, 184)\n",
      "vad.shape(184,)\n",
      "features.shape(62, 347)\n",
      "vad.shape(347,)\n"
     ]
    },
    {
     "name": "stderr",
     "output_type": "stream",
     "text": [
      " 54%|█████▎    | 3426/6394 [03:23<02:21, 21.01it/s]"
     ]
    },
    {
     "name": "stdout",
     "output_type": "stream",
     "text": [
      "features.shape(62, 291)\n",
      "vad.shape(291,)\n",
      "features.shape(62, 402)\n",
      "vad.shape(402,)\n",
      "features.shape(62, 167)\n",
      "vad.shape(167,)\n"
     ]
    },
    {
     "name": "stderr",
     "output_type": "stream",
     "text": [
      " 54%|█████▎    | 3431/6394 [03:23<03:02, 16.23it/s]"
     ]
    },
    {
     "name": "stdout",
     "output_type": "stream",
     "text": [
      "features.shape(62, 385)\n",
      "vad.shape(385,)\n",
      "features.shape(62, 278)\n",
      "vad.shape(278,)\n",
      "features.shape(62, 321)\n",
      "vad.shape(321,)\n",
      "features.shape(62, 193)\n",
      "vad.shape(193,)\n"
     ]
    },
    {
     "name": "stderr",
     "output_type": "stream",
     "text": [
      " 54%|█████▎    | 3434/6394 [03:23<02:54, 16.92it/s]"
     ]
    },
    {
     "name": "stdout",
     "output_type": "stream",
     "text": [
      "features.shape(62, 359)\n",
      "vad.shape(359,)\n",
      "features.shape(62, 227)\n",
      "vad.shape(227,)\n",
      "features.shape(62, 172)\n",
      "vad.shape(172,)\n",
      "features.shape(62, 359)\n",
      "vad.shape(359,)\n"
     ]
    },
    {
     "name": "stderr",
     "output_type": "stream",
     "text": [
      " 54%|█████▍    | 3439/6394 [03:23<02:42, 18.19it/s]"
     ]
    },
    {
     "name": "stdout",
     "output_type": "stream",
     "text": [
      "features.shape(62, 235)\n",
      "vad.shape(235,)\n",
      "features.shape(62, 189)\n",
      "vad.shape(189,)\n",
      "features.shape(62, 355)\n",
      "vad.shape(355,)\n",
      "features.shape(62, 334)\n",
      "vad.shape(334,)\n",
      "features.shape(62, 197)\n",
      "vad.shape(197,)\n"
     ]
    },
    {
     "name": "stderr",
     "output_type": "stream",
     "text": [
      " 54%|█████▍    | 3445/6394 [03:24<02:12, 22.21it/s]"
     ]
    },
    {
     "name": "stdout",
     "output_type": "stream",
     "text": [
      "features.shape(62, 415)\n",
      "vad.shape(415,)\n",
      "features.shape(62, 368)\n",
      "vad.shape(368,)\n",
      "features.shape(62, 415)\n",
      "vad.shape(415,)\n",
      "features.shape(62, 419)\n",
      "vad.shape(419,)\n",
      "features.shape(62, 219)\n",
      "vad.shape(219,)\n",
      "features.shape(62, 312)\n",
      "vad.shape(312,)\n"
     ]
    },
    {
     "name": "stderr",
     "output_type": "stream",
     "text": [
      " 54%|█████▍    | 3448/6394 [03:24<02:41, 18.26it/s]"
     ]
    },
    {
     "name": "stdout",
     "output_type": "stream",
     "text": [
      "features.shape(62, 321)\n",
      "vad.shape(321,)\n",
      "features.shape(62, 240)\n",
      "vad.shape(240,)\n",
      "features.shape(62, 325)\n",
      "vad.shape(325,)\n",
      "features.shape(62, 265)\n",
      "vad.shape(265,)\n"
     ]
    },
    {
     "name": "stderr",
     "output_type": "stream",
     "text": [
      " 54%|█████▍    | 3451/6394 [03:24<02:24, 20.31it/s]"
     ]
    },
    {
     "name": "stdout",
     "output_type": "stream",
     "text": [
      "features.shape(62, 760)\n",
      "vad.shape(760,)\n",
      "features.shape(62, 176)\n",
      "vad.shape(176,)\n",
      "features.shape(62, 308)\n",
      "vad.shape(308,)\n"
     ]
    },
    {
     "name": "stderr",
     "output_type": "stream",
     "text": [
      " 54%|█████▍    | 3456/6394 [03:24<03:23, 14.44it/s]"
     ]
    },
    {
     "name": "stdout",
     "output_type": "stream",
     "text": [
      "features.shape(62, 393)\n",
      "vad.shape(393,)\n",
      "features.shape(62, 653)\n",
      "vad.shape(653,)\n",
      "features.shape(62, 397)\n",
      "vad.shape(397,)\n",
      "features.shape(62, 214)\n",
      "vad.shape(214,)\n"
     ]
    },
    {
     "name": "stderr",
     "output_type": "stream",
     "text": [
      " 54%|█████▍    | 3459/6394 [03:25<02:50, 17.19it/s]"
     ]
    },
    {
     "name": "stdout",
     "output_type": "stream",
     "text": [
      "features.shape(62, 304)\n",
      "vad.shape(304,)\n",
      "features.shape(62, 406)\n",
      "vad.shape(406,)\n",
      "features.shape(62, 265)\n",
      "vad.shape(265,)\n",
      "features.shape(62, 189)\n",
      "vad.shape(189,)\n"
     ]
    },
    {
     "name": "stderr",
     "output_type": "stream",
     "text": [
      " 54%|█████▍    | 3465/6394 [03:25<02:50, 17.21it/s]"
     ]
    },
    {
     "name": "stdout",
     "output_type": "stream",
     "text": [
      "features.shape(62, 252)\n",
      "vad.shape(252,)\n",
      "features.shape(62, 193)\n",
      "vad.shape(193,)\n",
      "features.shape(62, 330)\n",
      "vad.shape(330,)\n",
      "features.shape(62, 193)\n",
      "vad.shape(193,)\n"
     ]
    },
    {
     "name": "stderr",
     "output_type": "stream",
     "text": [
      " 54%|█████▍    | 3467/6394 [03:25<03:18, 14.74it/s]"
     ]
    },
    {
     "name": "stdout",
     "output_type": "stream",
     "text": [
      "features.shape(62, 201)\n",
      "vad.shape(201,)\n",
      "features.shape(62, 218)\n",
      "vad.shape(218,)\n",
      "features.shape(62, 415)\n",
      "vad.shape(415,)\n"
     ]
    },
    {
     "name": "stderr",
     "output_type": "stream",
     "text": [
      " 54%|█████▍    | 3471/6394 [03:25<03:30, 13.91it/s]"
     ]
    },
    {
     "name": "stdout",
     "output_type": "stream",
     "text": [
      "features.shape(62, 462)\n",
      "vad.shape(462,)\n",
      "features.shape(62, 295)\n",
      "vad.shape(295,)\n",
      "features.shape(62, 227)\n",
      "vad.shape(227,)\n",
      "features.shape(62, 176)\n",
      "vad.shape(176,)\n"
     ]
    },
    {
     "name": "stderr",
     "output_type": "stream",
     "text": [
      " 54%|█████▍    | 3476/6394 [03:26<03:00, 16.19it/s]"
     ]
    },
    {
     "name": "stdout",
     "output_type": "stream",
     "text": [
      "features.shape(62, 453)\n",
      "vad.shape(453,)\n",
      "features.shape(62, 189)\n",
      "vad.shape(189,)\n",
      "features.shape(62, 590)\n",
      "vad.shape(590,)\n",
      "features.shape(62, 154)\n",
      "vad.shape(154,)\n"
     ]
    },
    {
     "name": "stderr",
     "output_type": "stream",
     "text": [
      " 54%|█████▍    | 3481/6394 [03:26<03:16, 14.80it/s]"
     ]
    },
    {
     "name": "stdout",
     "output_type": "stream",
     "text": [
      "features.shape(62, 163)\n",
      "vad.shape(163,)\n",
      "features.shape(62, 453)\n",
      "vad.shape(453,)\n",
      "features.shape(62, 210)\n",
      "vad.shape(210,)\n",
      "features.shape(62, 321)\n",
      "vad.shape(321,)\n",
      "features.shape(62, 355)\n",
      "vad.shape(355,)\n"
     ]
    },
    {
     "name": "stderr",
     "output_type": "stream",
     "text": [
      " 54%|█████▍    | 3483/6394 [03:26<03:16, 14.82it/s]"
     ]
    },
    {
     "name": "stdout",
     "output_type": "stream",
     "text": [
      "features.shape(62, 240)\n",
      "vad.shape(240,)\n",
      "features.shape(62, 364)\n",
      "vad.shape(364,)\n",
      "features.shape(62, 440)\n",
      "vad.shape(440,)\n"
     ]
    },
    {
     "name": "stderr",
     "output_type": "stream",
     "text": [
      " 55%|█████▍    | 3487/6394 [03:27<03:28, 13.96it/s]"
     ]
    },
    {
     "name": "stdout",
     "output_type": "stream",
     "text": [
      "features.shape(62, 197)\n",
      "vad.shape(197,)\n",
      "features.shape(62, 227)\n",
      "vad.shape(227,)\n",
      "features.shape(62, 167)\n",
      "vad.shape(167,)\n",
      "features.shape(62, 321)\n",
      "vad.shape(321,)\n",
      "features.shape(62, 342)\n",
      "vad.shape(342,)\n",
      "features.shape(62, 722)\n",
      "vad.shape(722,)\n"
     ]
    },
    {
     "name": "stderr",
     "output_type": "stream",
     "text": [
      " 55%|█████▍    | 3494/6394 [03:27<02:31, 19.17it/s]"
     ]
    },
    {
     "name": "stdout",
     "output_type": "stream",
     "text": [
      "features.shape(62, 410)\n",
      "vad.shape(410,)\n",
      "features.shape(62, 376)\n",
      "vad.shape(376,)\n",
      "features.shape(62, 231)\n",
      "vad.shape(231,)\n",
      "features.shape(62, 372)\n",
      "vad.shape(372,)\n",
      "features.shape(62, 167)\n",
      "vad.shape(167,)\n"
     ]
    },
    {
     "name": "stderr",
     "output_type": "stream",
     "text": [
      " 55%|█████▍    | 3500/6394 [03:27<02:23, 20.13it/s]"
     ]
    },
    {
     "name": "stdout",
     "output_type": "stream",
     "text": [
      "features.shape(62, 142)\n",
      "vad.shape(142,)\n",
      "features.shape(62, 376)\n",
      "vad.shape(376,)\n",
      "features.shape(62, 248)\n",
      "vad.shape(248,)\n",
      "features.shape(62, 270)\n",
      "vad.shape(270,)\n",
      "features.shape(62, 462)\n",
      "vad.shape(462,)\n"
     ]
    },
    {
     "name": "stderr",
     "output_type": "stream",
     "text": [
      " 55%|█████▍    | 3503/6394 [03:27<02:24, 19.95it/s]"
     ]
    },
    {
     "name": "stdout",
     "output_type": "stream",
     "text": [
      "features.shape(62, 214)\n",
      "vad.shape(214,)\n",
      "features.shape(62, 214)\n",
      "vad.shape(214,)\n",
      "features.shape(62, 636)\n",
      "vad.shape(636,)\n",
      "features.shape(62, 219)\n",
      "vad.shape(219,)\n",
      "features.shape(62, 457)\n",
      "vad.shape(457,)\n"
     ]
    },
    {
     "name": "stderr",
     "output_type": "stream",
     "text": [
      " 55%|█████▍    | 3509/6394 [03:28<02:28, 19.36it/s]"
     ]
    },
    {
     "name": "stdout",
     "output_type": "stream",
     "text": [
      "features.shape(62, 261)\n",
      "vad.shape(261,)\n",
      "features.shape(62, 167)\n",
      "vad.shape(167,)\n",
      "features.shape(62, 223)\n",
      "vad.shape(223,)\n",
      "features.shape(62, 227)\n",
      "vad.shape(227,)\n"
     ]
    },
    {
     "name": "stderr",
     "output_type": "stream",
     "text": [
      " 55%|█████▍    | 3511/6394 [03:28<02:38, 18.16it/s]"
     ]
    },
    {
     "name": "stdout",
     "output_type": "stream",
     "text": [
      "features.shape(62, 159)\n",
      "vad.shape(159,)\n",
      "features.shape(62, 197)\n",
      "vad.shape(197,)\n",
      "features.shape(62, 325)\n",
      "vad.shape(325,)\n",
      "features.shape(62, 487)\n",
      "vad.shape(487,)\n"
     ]
    },
    {
     "name": "stderr",
     "output_type": "stream",
     "text": [
      " 55%|█████▍    | 3516/6394 [03:28<02:44, 17.55it/s]"
     ]
    },
    {
     "name": "stdout",
     "output_type": "stream",
     "text": [
      "features.shape(62, 329)\n",
      "vad.shape(329,)\n",
      "features.shape(62, 299)\n",
      "vad.shape(299,)\n",
      "features.shape(62, 201)\n",
      "vad.shape(201,)\n",
      "features.shape(62, 359)\n"
     ]
    },
    {
     "name": "stderr",
     "output_type": "stream",
     "text": [
      " 55%|█████▌    | 3520/6394 [03:28<02:46, 17.23it/s]"
     ]
    },
    {
     "name": "stdout",
     "output_type": "stream",
     "text": [
      "vad.shape(359,)\n",
      "features.shape(62, 381)\n",
      "vad.shape(381,)\n",
      "features.shape(62, 248)\n",
      "vad.shape(248,)\n",
      "features.shape(62, 206)\n",
      "vad.shape(206,)\n"
     ]
    },
    {
     "name": "stderr",
     "output_type": "stream",
     "text": [
      " 55%|█████▌    | 3524/6394 [03:29<02:55, 16.37it/s]"
     ]
    },
    {
     "name": "stdout",
     "output_type": "stream",
     "text": [
      "features.shape(62, 197)\n",
      "vad.shape(197,)\n",
      "features.shape(62, 577)\n",
      "vad.shape(577,)\n",
      "features.shape(62, 419)\n",
      "vad.shape(419,)\n",
      "features.shape(62, 278)\n",
      "vad.shape(278,)\n"
     ]
    },
    {
     "name": "stderr",
     "output_type": "stream",
     "text": [
      " 55%|█████▌    | 3527/6394 [03:29<02:37, 18.19it/s]"
     ]
    },
    {
     "name": "stdout",
     "output_type": "stream",
     "text": [
      "features.shape(62, 317)\n",
      "vad.shape(317,)\n",
      "features.shape(62, 244)\n",
      "vad.shape(244,)\n",
      "features.shape(62, 146)\n",
      "vad.shape(146,)\n",
      "features.shape(62, 270)\n",
      "vad.shape(270,)\n",
      "features.shape(62, 432)\n",
      "vad.shape(432,)\n",
      "features.shape(62, 188)\n"
     ]
    },
    {
     "name": "stderr",
     "output_type": "stream",
     "text": [
      " 55%|█████▌    | 3532/6394 [03:29<02:33, 18.61it/s]"
     ]
    },
    {
     "name": "stdout",
     "output_type": "stream",
     "text": [
      "vad.shape(188,)\n",
      "features.shape(62, 385)\n",
      "vad.shape(385,)\n",
      "features.shape(62, 359)\n",
      "vad.shape(359,)\n",
      "features.shape(62, 163)\n",
      "vad.shape(163,)\n"
     ]
    },
    {
     "name": "stderr",
     "output_type": "stream",
     "text": [
      " 55%|█████▌    | 3535/6394 [03:29<02:35, 18.34it/s]"
     ]
    },
    {
     "name": "stdout",
     "output_type": "stream",
     "text": [
      "features.shape(62, 479)\n",
      "vad.shape(479,)\n",
      "features.shape(62, 176)\n",
      "vad.shape(176,)\n",
      "features.shape(62, 333)\n"
     ]
    },
    {
     "name": "stderr",
     "output_type": "stream",
     "text": [
      " 55%|█████▌    | 3539/6394 [03:29<02:55, 16.25it/s]"
     ]
    },
    {
     "name": "stdout",
     "output_type": "stream",
     "text": [
      "vad.shape(333,)\n",
      "features.shape(62, 432)\n",
      "vad.shape(432,)\n",
      "features.shape(62, 444)\n",
      "vad.shape(444,)\n",
      "features.shape(62, 449)\n",
      "vad.shape(449,)\n",
      "features.shape(62, 376)\n",
      "vad.shape(376,)\n"
     ]
    },
    {
     "name": "stderr",
     "output_type": "stream",
     "text": [
      " 55%|█████▌    | 3543/6394 [03:30<02:53, 16.42it/s]"
     ]
    },
    {
     "name": "stdout",
     "output_type": "stream",
     "text": [
      "features.shape(62, 287)\n",
      "vad.shape(287,)\n",
      "features.shape(62, 453)\n",
      "vad.shape(453,)\n",
      "features.shape(62, 222)\n",
      "vad.shape(222,)\n"
     ]
    },
    {
     "name": "stderr",
     "output_type": "stream",
     "text": [
      " 55%|█████▌    | 3545/6394 [03:30<03:13, 14.74it/s]"
     ]
    },
    {
     "name": "stdout",
     "output_type": "stream",
     "text": [
      "features.shape(62, 278)\n",
      "vad.shape(278,)\n",
      "features.shape(62, 231)\n",
      "vad.shape(231,)\n",
      "features.shape(62, 346)\n",
      "vad.shape(346,)\n"
     ]
    },
    {
     "name": "stderr",
     "output_type": "stream",
     "text": [
      " 56%|█████▌    | 3550/6394 [03:30<02:42, 17.52it/s]"
     ]
    },
    {
     "name": "stdout",
     "output_type": "stream",
     "text": [
      "features.shape(62, 270)\n",
      "vad.shape(270,)\n",
      "features.shape(62, 197)\n",
      "vad.shape(197,)\n",
      "features.shape(62, 346)\n",
      "vad.shape(346,)\n",
      "features.shape(62, 316)\n",
      "vad.shape(316,)\n",
      "features.shape(62, 406)\n",
      "vad.shape(406,)\n",
      "features.shape(62, 219)\n",
      "vad.shape(219,)\n"
     ]
    },
    {
     "name": "stderr",
     "output_type": "stream",
     "text": [
      " 56%|█████▌    | 3553/6394 [03:30<02:23, 19.75it/s]"
     ]
    },
    {
     "name": "stdout",
     "output_type": "stream",
     "text": [
      "features.shape(62, 346)\n",
      "vad.shape(346,)\n",
      "features.shape(62, 402)\n",
      "vad.shape(402,)\n",
      "features.shape(62, 487)\n",
      "vad.shape(487,)\n"
     ]
    },
    {
     "name": "stderr",
     "output_type": "stream",
     "text": [
      " 56%|█████▌    | 3559/6394 [03:31<02:38, 17.88it/s]"
     ]
    },
    {
     "name": "stdout",
     "output_type": "stream",
     "text": [
      "features.shape(62, 227)\n",
      "vad.shape(227,)\n",
      "features.shape(62, 146)\n",
      "vad.shape(146,)\n",
      "features.shape(62, 393)\n",
      "vad.shape(393,)\n",
      "features.shape(62, 223)\n",
      "vad.shape(223,)\n",
      "features.shape(62, 308)\n",
      "vad.shape(308,)\n"
     ]
    },
    {
     "name": "stderr",
     "output_type": "stream",
     "text": [
      " 56%|█████▌    | 3562/6394 [03:31<02:32, 18.62it/s]"
     ]
    },
    {
     "name": "stdout",
     "output_type": "stream",
     "text": [
      "features.shape(62, 645)\n",
      "vad.shape(645,)\n",
      "features.shape(62, 406)\n",
      "vad.shape(406,)\n",
      "features.shape(62, 300)\n",
      "vad.shape(300,)\n"
     ]
    },
    {
     "name": "stderr",
     "output_type": "stream",
     "text": [
      " 56%|█████▌    | 3566/6394 [03:31<02:44, 17.16it/s]"
     ]
    },
    {
     "name": "stdout",
     "output_type": "stream",
     "text": [
      "features.shape(62, 184)\n",
      "vad.shape(184,)\n",
      "features.shape(62, 163)\n",
      "vad.shape(163,)\n",
      "features.shape(62, 210)\n",
      "vad.shape(210,)\n",
      "features.shape(62, 180)\n",
      "vad.shape(180,)\n"
     ]
    },
    {
     "name": "stderr",
     "output_type": "stream",
     "text": [
      " 56%|█████▌    | 3568/6394 [03:31<02:49, 16.67it/s]"
     ]
    },
    {
     "name": "stdout",
     "output_type": "stream",
     "text": [
      "features.shape(62, 175)\n",
      "vad.shape(175,)\n"
     ]
    },
    {
     "name": "stderr",
     "output_type": "stream",
     "text": [
      " 56%|█████▌    | 3572/6394 [03:31<03:33, 13.22it/s]"
     ]
    },
    {
     "name": "stdout",
     "output_type": "stream",
     "text": [
      "features.shape(62, 257)\n",
      "vad.shape(257,)\n",
      "features.shape(62, 696)\n",
      "vad.shape(696,)\n",
      "features.shape(62, 244)\n",
      "vad.shape(244,)\n",
      "features.shape(62, 210)\n",
      "vad.shape(210,)\n",
      "features.shape(62, 138)\n",
      "vad.shape(138,)\n"
     ]
    },
    {
     "name": "stderr",
     "output_type": "stream",
     "text": [
      " 56%|█████▌    | 3575/6394 [03:32<03:19, 14.10it/s]"
     ]
    },
    {
     "name": "stdout",
     "output_type": "stream",
     "text": [
      "features.shape(62, 342)\n",
      "vad.shape(342,)\n",
      "features.shape(62, 363)\n",
      "vad.shape(363,)\n",
      "features.shape(62, 415)\n",
      "vad.shape(415,)\n",
      "features.shape(62, 180)\n",
      "vad.shape(180,)\n"
     ]
    },
    {
     "name": "stderr",
     "output_type": "stream",
     "text": [
      " 56%|█████▌    | 3581/6394 [03:32<02:30, 18.68it/s]"
     ]
    },
    {
     "name": "stdout",
     "output_type": "stream",
     "text": [
      "features.shape(62, 381)\n",
      "vad.shape(381,)\n",
      "features.shape(62, 252)\n",
      "vad.shape(252,)\n",
      "features.shape(62, 342)\n",
      "vad.shape(342,)\n",
      "features.shape(62, 372)\n",
      "vad.shape(372,)\n",
      "features.shape(62, 133)\n",
      "vad.shape(133,)\n"
     ]
    },
    {
     "name": "stderr",
     "output_type": "stream",
     "text": [
      " 56%|█████▌    | 3584/6394 [03:32<02:51, 16.34it/s]"
     ]
    },
    {
     "name": "stdout",
     "output_type": "stream",
     "text": [
      "features.shape(62, 359)\n",
      "vad.shape(359,)\n",
      "features.shape(62, 398)\n",
      "vad.shape(398,)\n"
     ]
    },
    {
     "name": "stderr",
     "output_type": "stream",
     "text": [
      " 56%|█████▌    | 3588/6394 [03:32<03:05, 15.15it/s]"
     ]
    },
    {
     "name": "stdout",
     "output_type": "stream",
     "text": [
      "features.shape(62, 227)\n",
      "vad.shape(227,)\n",
      "features.shape(62, 201)\n",
      "vad.shape(201,)\n",
      "features.shape(62, 146)\n",
      "vad.shape(146,)\n",
      "features.shape(62, 176)\n",
      "vad.shape(176,)\n"
     ]
    },
    {
     "name": "stderr",
     "output_type": "stream",
     "text": [
      " 56%|█████▌    | 3591/6394 [03:33<02:47, 16.77it/s]"
     ]
    },
    {
     "name": "stdout",
     "output_type": "stream",
     "text": [
      "features.shape(62, 248)\n",
      "vad.shape(248,)\n",
      "features.shape(62, 658)\n",
      "vad.shape(658,)\n",
      "features.shape(62, 261)\n",
      "vad.shape(261,)\n",
      "features.shape(62, 265)\n",
      "vad.shape(265,)\n"
     ]
    },
    {
     "name": "stderr",
     "output_type": "stream",
     "text": [
      " 56%|█████▌    | 3595/6394 [03:33<03:05, 15.07it/s]"
     ]
    },
    {
     "name": "stdout",
     "output_type": "stream",
     "text": [
      "features.shape(62, 171)\n",
      "vad.shape(171,)\n",
      "features.shape(62, 167)\n",
      "vad.shape(167,)\n",
      "features.shape(62, 167)\n",
      "vad.shape(167,)\n",
      "features.shape(62, 291)\n",
      "vad.shape(291,)\n"
     ]
    },
    {
     "name": "stderr",
     "output_type": "stream",
     "text": [
      " 56%|█████▋    | 3599/6394 [03:33<03:23, 13.76it/s]"
     ]
    },
    {
     "name": "stdout",
     "output_type": "stream",
     "text": [
      "features.shape(62, 244)\n",
      "vad.shape(244,)\n",
      "features.shape(62, 193)\n",
      "vad.shape(193,)\n",
      "features.shape(62, 457)\n",
      "vad.shape(457,)\n"
     ]
    },
    {
     "name": "stderr",
     "output_type": "stream",
     "text": [
      " 56%|█████▋    | 3601/6394 [03:33<03:21, 13.86it/s]"
     ]
    },
    {
     "name": "stdout",
     "output_type": "stream",
     "text": [
      "features.shape(62, 278)\n",
      "vad.shape(278,)\n",
      "features.shape(62, 440)\n",
      "vad.shape(440,)\n",
      "features.shape(62, 338)\n",
      "vad.shape(338,)\n"
     ]
    },
    {
     "name": "stderr",
     "output_type": "stream",
     "text": [
      " 56%|█████▋    | 3605/6394 [03:34<03:34, 13.00it/s]"
     ]
    },
    {
     "name": "stdout",
     "output_type": "stream",
     "text": [
      "features.shape(62, 308)\n",
      "vad.shape(308,)\n",
      "features.shape(62, 197)\n",
      "vad.shape(197,)\n",
      "features.shape(62, 240)\n",
      "vad.shape(240,)\n",
      "features.shape(62, 214)\n",
      "vad.shape(214,)\n",
      "features.shape(62, 415)\n",
      "vad.shape(415,)\n"
     ]
    },
    {
     "name": "stderr",
     "output_type": "stream",
     "text": [
      " 56%|█████▋    | 3610/6394 [03:34<03:17, 14.09it/s]"
     ]
    },
    {
     "name": "stdout",
     "output_type": "stream",
     "text": [
      "features.shape(62, 270)\n",
      "vad.shape(270,)\n",
      "features.shape(62, 351)\n",
      "vad.shape(351,)\n",
      "features.shape(62, 470)\n",
      "vad.shape(470,)\n"
     ]
    },
    {
     "name": "stderr",
     "output_type": "stream",
     "text": [
      " 57%|█████▋    | 3617/6394 [03:34<02:10, 21.30it/s]"
     ]
    },
    {
     "name": "stdout",
     "output_type": "stream",
     "text": [
      "features.shape(62, 227)\n",
      "vad.shape(227,)\n",
      "features.shape(62, 295)\n",
      "vad.shape(295,)\n",
      "features.shape(62, 206)\n",
      "vad.shape(206,)\n",
      "features.shape(62, 244)\n",
      "vad.shape(244,)\n",
      "features.shape(62, 278)\n",
      "vad.shape(278,)\n",
      "features.shape(62, 227)\n",
      "vad.shape(227,)\n",
      "features.shape(62, 372)\n",
      "vad.shape(372,)\n",
      "features.shape(62, 278)\n",
      "vad.shape(278,)\n",
      "features.shape(62, 205)\n",
      "vad.shape(205,)\n"
     ]
    },
    {
     "name": "stderr",
     "output_type": "stream",
     "text": [
      " 57%|█████▋    | 3630/6394 [03:34<01:10, 39.29it/s]"
     ]
    },
    {
     "name": "stdout",
     "output_type": "stream",
     "text": [
      "features.shape(62, 193)\n",
      "vad.shape(193,)\n",
      "features.shape(62, 730)\n",
      "vad.shape(730,)\n",
      "features.shape(62, 415)\n",
      "vad.shape(415,)\n",
      "features.shape(62, 342)\n",
      "vad.shape(342,)\n",
      "features.shape(62, 355)\n",
      "vad.shape(355,)\n",
      "features.shape(62, 342)\n",
      "vad.shape(342,)\n",
      "features.shape(62, 402)\n",
      "vad.shape(402,)\n",
      "features.shape(62, 394)\n",
      "vad.shape(394,)\n",
      "features.shape(62, 303)\n",
      "vad.shape(303,)\n",
      "features.shape(62, 406)\n",
      "vad.shape(406,)\n",
      "features.shape(62, 214)\n",
      "vad.shape(214,)\n",
      "features.shape(62, 312)\n",
      "vad.shape(312,)\n",
      "features.shape(62, 210)\n"
     ]
    },
    {
     "name": "stderr",
     "output_type": "stream",
     "text": [
      " 57%|█████▋    | 3645/6394 [03:35<00:49, 55.05it/s]"
     ]
    },
    {
     "name": "stdout",
     "output_type": "stream",
     "text": [
      "vad.shape(210,)\n",
      "features.shape(62, 278)\n",
      "vad.shape(278,)\n",
      "features.shape(62, 457)\n",
      "vad.shape(457,)\n",
      "features.shape(62, 508)\n",
      "vad.shape(508,)\n",
      "features.shape(62, 423)\n",
      "vad.shape(423,)\n",
      "features.shape(62, 248)\n",
      "vad.shape(248,)\n",
      "features.shape(62, 368)\n",
      "vad.shape(368,)\n",
      "features.shape(62, 184)\n",
      "vad.shape(184,)\n",
      "features.shape(62, 274)\n",
      "vad.shape(274,)\n",
      "features.shape(62, 419)\n",
      "vad.shape(419,)\n",
      "features.shape(62, 359)\n",
      "vad.shape(359,)\n",
      "features.shape(62, 227)\n",
      "vad.shape(227,)\n",
      "features.shape(62, 283)\n",
      "vad.shape(283,)\n",
      "features.shape(62, 231)\n",
      "vad.shape(231,)\n",
      "features.shape(62, 265)\n",
      "vad.shape(265,)\n"
     ]
    },
    {
     "name": "stderr",
     "output_type": "stream",
     "text": [
      " 57%|█████▋    | 3651/6394 [03:35<00:58, 46.66it/s]"
     ]
    },
    {
     "name": "stdout",
     "output_type": "stream",
     "text": [
      "features.shape(62, 223)\n",
      "vad.shape(223,)\n",
      "features.shape(62, 265)\n",
      "vad.shape(265,)\n",
      "features.shape(62, 197)\n",
      "vad.shape(197,)\n",
      "features.shape(62, 214)\n",
      "vad.shape(214,)\n",
      "features.shape(62, 261)\n",
      "vad.shape(261,)\n",
      "features.shape(62, 342)\n",
      "vad.shape(342,)\n",
      "features.shape(62, 235)\n",
      "vad.shape(235,)\n",
      "features.shape(62, 543)\n",
      "vad.shape(543,)\n",
      "features.shape(62, 206)\n",
      "vad.shape(206,)\n"
     ]
    },
    {
     "name": "stderr",
     "output_type": "stream",
     "text": [
      " 57%|█████▋    | 3664/6394 [03:35<00:51, 53.23it/s]"
     ]
    },
    {
     "name": "stdout",
     "output_type": "stream",
     "text": [
      "features.shape(62, 240)\n",
      "vad.shape(240,)\n",
      "features.shape(62, 188)\n",
      "vad.shape(188,)\n",
      "features.shape(62, 312)\n",
      "vad.shape(312,)\n",
      "features.shape(62, 300)\n",
      "vad.shape(300,)\n",
      "features.shape(62, 257)\n",
      "vad.shape(257,)\n",
      "features.shape(62, 436)\n",
      "vad.shape(436,)\n",
      "features.shape(62, 368)\n",
      "vad.shape(368,)\n",
      "features.shape(62, 389)\n",
      "vad.shape(389,)\n",
      "features.shape(62, 218)\n",
      "vad.shape(218,)\n",
      "features.shape(62, 197)\n",
      "vad.shape(197,)\n",
      "features.shape(62, 449)\n",
      "vad.shape(449,)\n",
      "features.shape(62, 278)\n",
      "vad.shape(278,)\n"
     ]
    },
    {
     "name": "stderr",
     "output_type": "stream",
     "text": [
      " 57%|█████▋    | 3670/6394 [03:35<00:54, 50.17it/s]"
     ]
    },
    {
     "name": "stdout",
     "output_type": "stream",
     "text": [
      "features.shape(62, 406)\n",
      "vad.shape(406,)\n",
      "features.shape(62, 513)\n",
      "vad.shape(513,)\n",
      "features.shape(62, 487)\n",
      "vad.shape(487,)\n",
      "features.shape(62, 368)\n",
      "vad.shape(368,)\n",
      "features.shape(62, 500)\n",
      "vad.shape(500,)\n",
      "features.shape(62, 227)\n",
      "vad.shape(227,)\n"
     ]
    },
    {
     "name": "stderr",
     "output_type": "stream",
     "text": [
      " 58%|█████▊    | 3681/6394 [03:36<01:29, 30.22it/s]"
     ]
    },
    {
     "name": "stdout",
     "output_type": "stream",
     "text": [
      "features.shape(62, 261)\n",
      "vad.shape(261,)\n",
      "features.shape(62, 223)\n",
      "vad.shape(223,)\n",
      "features.shape(62, 449)\n",
      "vad.shape(449,)\n",
      "features.shape(62, 278)\n",
      "vad.shape(278,)\n",
      "features.shape(62, 372)\n",
      "vad.shape(372,)\n",
      "features.shape(62, 231)\n",
      "vad.shape(231,)\n",
      "features.shape(62, 197)\n",
      "vad.shape(197,)\n",
      "features.shape(62, 274)\n",
      "vad.shape(274,)\n"
     ]
    },
    {
     "name": "stderr",
     "output_type": "stream",
     "text": [
      " 58%|█████▊    | 3685/6394 [03:36<01:26, 31.43it/s]"
     ]
    },
    {
     "name": "stdout",
     "output_type": "stream",
     "text": [
      "features.shape(62, 726)\n",
      "vad.shape(726,)\n",
      "features.shape(62, 445)\n",
      "vad.shape(445,)\n",
      "features.shape(62, 334)\n",
      "vad.shape(334,)\n",
      "features.shape(62, 342)\n",
      "vad.shape(342,)\n",
      "features.shape(62, 210)\n",
      "vad.shape(210,)\n",
      "features.shape(62, 253)\n",
      "vad.shape(253,)\n",
      "features.shape(62, 266)\n",
      "vad.shape(266,)\n"
     ]
    },
    {
     "name": "stderr",
     "output_type": "stream",
     "text": [
      " 58%|█████▊    | 3696/6394 [03:36<01:19, 33.76it/s]"
     ]
    },
    {
     "name": "stdout",
     "output_type": "stream",
     "text": [
      "features.shape(62, 364)\n",
      "vad.shape(364,)\n",
      "features.shape(62, 513)\n",
      "vad.shape(513,)\n",
      "features.shape(62, 338)\n",
      "vad.shape(338,)\n",
      "features.shape(62, 355)\n",
      "vad.shape(355,)\n",
      "features.shape(62, 295)\n",
      "vad.shape(295,)\n",
      "features.shape(62, 304)\n",
      "vad.shape(304,)\n",
      "features.shape(62, 244)\n",
      "vad.shape(244,)\n",
      "features.shape(62, 423)\n",
      "vad.shape(423,)\n",
      "features.shape(62, 176)\n",
      "vad.shape(176,)\n"
     ]
    },
    {
     "name": "stderr",
     "output_type": "stream",
     "text": [
      " 58%|█████▊    | 3708/6394 [03:36<01:01, 43.92it/s]"
     ]
    },
    {
     "name": "stdout",
     "output_type": "stream",
     "text": [
      "features.shape(62, 235)\n",
      "vad.shape(235,)\n",
      "features.shape(62, 197)\n",
      "vad.shape(197,)\n",
      "features.shape(62, 274)\n",
      "vad.shape(274,)\n",
      "features.shape(62, 197)\n",
      "vad.shape(197,)\n",
      "features.shape(62, 308)\n",
      "vad.shape(308,)\n",
      "features.shape(62, 620)\n",
      "vad.shape(620,)\n",
      "features.shape(62, 747)\n",
      "vad.shape(747,)\n",
      "features.shape(62, 205)\n",
      "vad.shape(205,)\n",
      "features.shape(62, 278)\n",
      "vad.shape(278,)\n",
      "features.shape(62, 351)\n",
      "vad.shape(351,)\n",
      "features.shape(62, 244)\n",
      "vad.shape(244,)\n",
      "features.shape(62, 270)\n",
      "vad.shape(270,)\n"
     ]
    },
    {
     "name": "stderr",
     "output_type": "stream",
     "text": [
      " 58%|█████▊    | 3719/6394 [03:37<01:00, 44.20it/s]"
     ]
    },
    {
     "name": "stdout",
     "output_type": "stream",
     "text": [
      "features.shape(62, 218)\n",
      "vad.shape(218,)\n",
      "features.shape(62, 206)\n",
      "vad.shape(206,)\n",
      "features.shape(62, 231)\n",
      "vad.shape(231,)\n",
      "features.shape(62, 381)\n",
      "vad.shape(381,)\n",
      "features.shape(62, 325)\n",
      "vad.shape(325,)\n",
      "features.shape(62, 363)\n",
      "vad.shape(363,)\n",
      "features.shape(62, 244)\n",
      "vad.shape(244,)\n",
      "features.shape(62, 176)\n",
      "vad.shape(176,)\n",
      "features.shape(62, 240)\n",
      "vad.shape(240,)\n",
      "features.shape(62, 393)\n",
      "vad.shape(393,)\n"
     ]
    },
    {
     "name": "stderr",
     "output_type": "stream",
     "text": [
      " 58%|█████▊    | 3730/6394 [03:37<00:54, 49.15it/s]"
     ]
    },
    {
     "name": "stdout",
     "output_type": "stream",
     "text": [
      "features.shape(62, 295)\n",
      "vad.shape(295,)\n",
      "features.shape(62, 278)\n",
      "vad.shape(278,)\n",
      "features.shape(62, 236)\n",
      "vad.shape(236,)\n",
      "features.shape(62, 312)\n",
      "vad.shape(312,)\n",
      "features.shape(62, 189)\n",
      "vad.shape(189,)\n",
      "features.shape(62, 265)\n",
      "vad.shape(265,)\n",
      "features.shape(62, 308)\n",
      "vad.shape(308,)\n",
      "features.shape(62, 171)\n",
      "vad.shape(171,)\n",
      "features.shape(62, 201)\n",
      "vad.shape(201,)\n",
      "features.shape(62, 432)\n",
      "vad.shape(432,)\n",
      "features.shape(62, 338)\n",
      "vad.shape(338,)\n",
      "features.shape(62, 564)\n",
      "vad.shape(564,)\n",
      "features.shape(62, 218)\n",
      "vad.shape(218,)\n"
     ]
    },
    {
     "name": "stderr",
     "output_type": "stream",
     "text": [
      " 59%|█████▊    | 3741/6394 [03:37<00:54, 48.24it/s]"
     ]
    },
    {
     "name": "stdout",
     "output_type": "stream",
     "text": [
      "features.shape(62, 410)\n",
      "vad.shape(410,)\n",
      "features.shape(62, 171)\n",
      "vad.shape(171,)\n",
      "features.shape(62, 436)\n",
      "vad.shape(436,)\n",
      "features.shape(62, 231)\n",
      "vad.shape(231,)\n",
      "features.shape(62, 355)\n",
      "vad.shape(355,)\n",
      "features.shape(62, 248)\n",
      "vad.shape(248,)\n",
      "features.shape(62, 368)\n",
      "vad.shape(368,)\n",
      "features.shape(62, 206)\n",
      "vad.shape(206,)\n",
      "features.shape(62, 338)\n",
      "vad.shape(338,)\n"
     ]
    },
    {
     "name": "stderr",
     "output_type": "stream",
     "text": [
      " 59%|█████▊    | 3753/6394 [03:37<00:52, 50.77it/s]"
     ]
    },
    {
     "name": "stdout",
     "output_type": "stream",
     "text": [
      "features.shape(62, 197)\n",
      "vad.shape(197,)\n",
      "features.shape(62, 811)\n",
      "vad.shape(811,)\n",
      "features.shape(62, 372)\n",
      "vad.shape(372,)\n",
      "features.shape(62, 542)\n",
      "vad.shape(542,)\n",
      "features.shape(62, 368)\n",
      "vad.shape(368,)\n",
      "features.shape(62, 299)\n",
      "vad.shape(299,)\n",
      "features.shape(62, 171)\n",
      "vad.shape(171,)\n",
      "features.shape(62, 304)\n",
      "vad.shape(304,)\n",
      "features.shape(62, 270)\n",
      "vad.shape(270,)\n",
      "features.shape(62, 410)\n",
      "vad.shape(410,)\n",
      "features.shape(62, 423)\n",
      "vad.shape(423,)\n",
      "features.shape(62, 671)\n",
      "vad.shape(671,)\n",
      "features.shape(62, 321)\n",
      "vad.shape(321,)\n",
      "features.shape(62, 248)\n",
      "vad.shape(248,)\n",
      "features.shape(62, 287)\n",
      "vad.shape(287,)\n",
      "features.shape(62, 436)\n",
      "vad.shape(436,)\n",
      "features.shape(62, 462)\n",
      "vad.shape(462,)\n",
      "features.shape(62, 197)\n"
     ]
    },
    {
     "name": "stderr",
     "output_type": "stream",
     "text": [
      " 59%|█████▉    | 3764/6394 [03:38<01:11, 37.00it/s]"
     ]
    },
    {
     "name": "stdout",
     "output_type": "stream",
     "text": [
      "vad.shape(197,)\n",
      "features.shape(62, 261)\n",
      "vad.shape(261,)\n",
      "features.shape(62, 440)\n",
      "vad.shape(440,)\n",
      "features.shape(62, 295)\n",
      "vad.shape(295,)\n",
      "features.shape(62, 270)\n",
      "vad.shape(270,)\n",
      "features.shape(62, 363)\n",
      "vad.shape(363,)\n",
      "features.shape(62, 329)\n",
      "vad.shape(329,)\n",
      "features.shape(62, 453)\n",
      "vad.shape(453,)\n",
      "features.shape(62, 419)\n",
      "vad.shape(419,)\n"
     ]
    },
    {
     "name": "stderr",
     "output_type": "stream",
     "text": [
      " 59%|█████▉    | 3774/6394 [03:38<01:03, 41.41it/s]"
     ]
    },
    {
     "name": "stdout",
     "output_type": "stream",
     "text": [
      "features.shape(62, 240)\n",
      "vad.shape(240,)\n",
      "features.shape(62, 274)\n",
      "vad.shape(274,)\n",
      "features.shape(62, 218)\n",
      "vad.shape(218,)\n",
      "features.shape(62, 244)\n",
      "vad.shape(244,)\n",
      "features.shape(62, 193)\n",
      "vad.shape(193,)\n",
      "features.shape(62, 270)\n",
      "vad.shape(270,)\n",
      "features.shape(62, 154)\n",
      "vad.shape(154,)\n",
      "features.shape(62, 252)\n",
      "vad.shape(252,)\n",
      "features.shape(62, 389)\n",
      "vad.shape(389,)\n",
      "features.shape(62, 210)\n",
      "vad.shape(210,)\n",
      "features.shape(62, 240)\n",
      "vad.shape(240,)\n",
      "features.shape(62, 287)\n",
      "vad.shape(287,)\n",
      "features.shape(62, 248)\n",
      "vad.shape(248,)\n"
     ]
    },
    {
     "name": "stderr",
     "output_type": "stream",
     "text": [
      " 59%|█████▉    | 3786/6394 [03:38<01:03, 40.95it/s]"
     ]
    },
    {
     "name": "stdout",
     "output_type": "stream",
     "text": [
      "features.shape(62, 261)\n",
      "vad.shape(261,)\n",
      "features.shape(62, 355)\n",
      "vad.shape(355,)\n",
      "features.shape(62, 206)\n",
      "vad.shape(206,)\n",
      "features.shape(62, 197)\n",
      "vad.shape(197,)\n",
      "features.shape(62, 295)\n",
      "vad.shape(295,)\n",
      "features.shape(62, 222)\n",
      "vad.shape(222,)\n",
      "features.shape(62, 253)\n",
      "vad.shape(253,)\n"
     ]
    },
    {
     "name": "stderr",
     "output_type": "stream",
     "text": [
      " 59%|█████▉    | 3796/6394 [03:38<01:01, 42.46it/s]"
     ]
    },
    {
     "name": "stdout",
     "output_type": "stream",
     "text": [
      "features.shape(62, 329)\n",
      "vad.shape(329,)\n",
      "features.shape(62, 243)\n",
      "vad.shape(243,)\n",
      "features.shape(62, 240)\n",
      "vad.shape(240,)\n",
      "features.shape(62, 295)\n",
      "vad.shape(295,)\n",
      "features.shape(62, 364)\n",
      "vad.shape(364,)\n",
      "features.shape(62, 223)\n",
      "vad.shape(223,)\n",
      "features.shape(62, 214)\n",
      "vad.shape(214,)\n",
      "features.shape(62, 368)\n",
      "vad.shape(368,)\n",
      "features.shape(62, 236)\n",
      "vad.shape(236,)\n",
      "features.shape(62, 427)\n",
      "vad.shape(427,)\n",
      "features.shape(62, 423)\n",
      "vad.shape(423,)\n"
     ]
    },
    {
     "name": "stderr",
     "output_type": "stream",
     "text": [
      " 60%|█████▉    | 3809/6394 [03:39<00:50, 50.80it/s]"
     ]
    },
    {
     "name": "stdout",
     "output_type": "stream",
     "text": [
      "features.shape(62, 240)\n",
      "vad.shape(240,)\n",
      "features.shape(62, 180)\n",
      "vad.shape(180,)\n",
      "features.shape(62, 334)\n",
      "vad.shape(334,)\n",
      "features.shape(62, 270)\n",
      "vad.shape(270,)\n",
      "features.shape(62, 244)\n",
      "vad.shape(244,)\n",
      "features.shape(62, 244)\n",
      "vad.shape(244,)\n",
      "features.shape(62, 283)\n",
      "vad.shape(283,)\n",
      "features.shape(62, 282)\n",
      "vad.shape(282,)\n",
      "features.shape(62, 346)\n",
      "vad.shape(346,)\n",
      "features.shape(62, 543)\n",
      "vad.shape(543,)\n",
      "features.shape(62, 474)\n",
      "vad.shape(474,)\n",
      "features.shape(62, 176)\n",
      "vad.shape(176,)\n",
      "features.shape(62, 240)\n",
      "vad.shape(240,)\n",
      "features.shape(62, 223)\n",
      "vad.shape(223,)\n",
      "features.shape(62, 478)\n",
      "vad.shape(478,)\n",
      "features.shape(62, 338)\n",
      "vad.shape(338,)\n"
     ]
    },
    {
     "name": "stderr",
     "output_type": "stream",
     "text": [
      " 60%|█████▉    | 3816/6394 [03:39<00:47, 54.57it/s]"
     ]
    },
    {
     "name": "stdout",
     "output_type": "stream",
     "text": [
      "features.shape(62, 325)\n",
      "vad.shape(325,)\n",
      "features.shape(62, 253)\n",
      "vad.shape(253,)\n",
      "features.shape(62, 257)\n",
      "vad.shape(257,)\n",
      "features.shape(62, 214)\n",
      "vad.shape(214,)\n",
      "features.shape(62, 470)\n"
     ]
    },
    {
     "name": "stderr",
     "output_type": "stream",
     "text": [
      " 60%|█████▉    | 3822/6394 [03:39<01:15, 34.00it/s]"
     ]
    },
    {
     "name": "stdout",
     "output_type": "stream",
     "text": [
      "vad.shape(470,)\n",
      "features.shape(62, 299)\n",
      "vad.shape(299,)\n",
      "features.shape(62, 197)\n",
      "vad.shape(197,)\n",
      "features.shape(62, 167)\n",
      "vad.shape(167,)\n",
      "features.shape(62, 278)\n",
      "vad.shape(278,)\n"
     ]
    },
    {
     "name": "stderr",
     "output_type": "stream",
     "text": [
      " 60%|█████▉    | 3832/6394 [03:39<01:21, 31.55it/s]"
     ]
    },
    {
     "name": "stdout",
     "output_type": "stream",
     "text": [
      "features.shape(62, 194)\n",
      "vad.shape(194,)\n",
      "features.shape(62, 342)\n",
      "vad.shape(342,)\n",
      "features.shape(62, 444)\n",
      "vad.shape(444,)\n",
      "features.shape(62, 201)\n",
      "vad.shape(201,)\n",
      "features.shape(62, 261)\n",
      "vad.shape(261,)\n",
      "features.shape(62, 176)\n",
      "vad.shape(176,)\n",
      "features.shape(62, 218)\n",
      "vad.shape(218,)\n",
      "features.shape(62, 176)\n",
      "vad.shape(176,)\n",
      "features.shape(62, 291)\n",
      "vad.shape(291,)\n",
      "features.shape(62, 129)\n",
      "vad.shape(129,)\n",
      "features.shape(62, 410)\n",
      "vad.shape(410,)\n",
      "features.shape(62, 445)\n",
      "vad.shape(445,)\n"
     ]
    },
    {
     "name": "stderr",
     "output_type": "stream",
     "text": [
      " 60%|██████    | 3850/6394 [03:40<00:50, 50.72it/s]"
     ]
    },
    {
     "name": "stdout",
     "output_type": "stream",
     "text": [
      "features.shape(62, 248)\n",
      "vad.shape(248,)\n",
      "features.shape(62, 478)\n",
      "vad.shape(478,)\n",
      "features.shape(62, 265)\n",
      "vad.shape(265,)\n",
      "features.shape(62, 415)\n",
      "vad.shape(415,)\n",
      "features.shape(62, 261)\n",
      "vad.shape(261,)\n",
      "features.shape(62, 244)\n",
      "vad.shape(244,)\n",
      "features.shape(62, 146)\n",
      "vad.shape(146,)\n",
      "features.shape(62, 393)\n",
      "vad.shape(393,)\n",
      "features.shape(62, 253)\n",
      "vad.shape(253,)\n",
      "features.shape(62, 295)\n",
      "vad.shape(295,)\n",
      "features.shape(62, 466)\n",
      "vad.shape(466,)\n",
      "features.shape(62, 445)\n",
      "vad.shape(445,)\n",
      "features.shape(62, 325)\n",
      "vad.shape(325,)\n",
      "features.shape(62, 372)\n",
      "vad.shape(372,)\n",
      "features.shape(62, 380)\n",
      "vad.shape(380,)\n",
      "features.shape(62, 265)\n",
      "vad.shape(265,)\n",
      "features.shape(62, 713)\n",
      "vad.shape(713,)\n"
     ]
    },
    {
     "name": "stderr",
     "output_type": "stream",
     "text": [
      " 60%|██████    | 3858/6394 [03:40<00:44, 57.28it/s]"
     ]
    },
    {
     "name": "stdout",
     "output_type": "stream",
     "text": [
      "features.shape(62, 359)\n",
      "vad.shape(359,)\n",
      "features.shape(62, 189)\n",
      "vad.shape(189,)\n",
      "features.shape(62, 218)\n",
      "vad.shape(218,)\n",
      "features.shape(62, 270)\n",
      "vad.shape(270,)\n",
      "features.shape(62, 261)\n",
      "vad.shape(261,)\n",
      "features.shape(62, 440)\n",
      "vad.shape(440,)\n",
      "features.shape(62, 389)\n",
      "vad.shape(389,)\n",
      "features.shape(62, 410)\n",
      "vad.shape(410,)\n",
      "features.shape(62, 223)\n",
      "vad.shape(223,)\n",
      "features.shape(62, 427)\n",
      "vad.shape(427,)\n",
      "features.shape(62, 240)\n",
      "vad.shape(240,)\n",
      "features.shape(62, 428)\n",
      "vad.shape(428,)\n"
     ]
    },
    {
     "name": "stderr",
     "output_type": "stream",
     "text": [
      " 61%|██████    | 3872/6394 [03:40<00:49, 50.54it/s]"
     ]
    },
    {
     "name": "stdout",
     "output_type": "stream",
     "text": [
      "features.shape(62, 172)\n",
      "vad.shape(172,)\n",
      "features.shape(62, 491)\n",
      "vad.shape(491,)\n",
      "features.shape(62, 457)\n",
      "vad.shape(457,)\n",
      "features.shape(62, 218)\n",
      "vad.shape(218,)\n",
      "features.shape(62, 244)\n",
      "vad.shape(244,)\n",
      "features.shape(62, 248)\n",
      "vad.shape(248,)\n",
      "features.shape(62, 411)\n",
      "vad.shape(411,)\n",
      "features.shape(62, 308)\n",
      "vad.shape(308,)\n",
      "features.shape(62, 201)\n",
      "vad.shape(201,)\n",
      "features.shape(62, 402)\n",
      "vad.shape(402,)\n"
     ]
    },
    {
     "name": "stderr",
     "output_type": "stream",
     "text": [
      " 61%|██████    | 3888/6394 [03:40<00:39, 62.74it/s]"
     ]
    },
    {
     "name": "stdout",
     "output_type": "stream",
     "text": [
      "features.shape(62, 240)\n",
      "vad.shape(240,)\n",
      "features.shape(62, 359)\n",
      "vad.shape(359,)\n",
      "features.shape(62, 381)\n",
      "vad.shape(381,)\n",
      "features.shape(62, 334)\n",
      "vad.shape(334,)\n",
      "features.shape(62, 231)\n",
      "vad.shape(231,)\n",
      "features.shape(62, 270)\n",
      "vad.shape(270,)\n",
      "features.shape(62, 321)\n",
      "vad.shape(321,)\n",
      "features.shape(62, 240)\n",
      "vad.shape(240,)\n",
      "features.shape(62, 210)\n",
      "vad.shape(210,)\n",
      "features.shape(62, 351)\n",
      "vad.shape(351,)\n",
      "features.shape(62, 419)\n",
      "vad.shape(419,)\n",
      "features.shape(62, 462)\n",
      "vad.shape(462,)\n",
      "features.shape(62, 223)\n",
      "vad.shape(223,)\n",
      "features.shape(62, 274)\n",
      "vad.shape(274,)\n",
      "features.shape(62, 159)\n",
      "vad.shape(159,)\n",
      "features.shape(62, 304)\n",
      "vad.shape(304,)\n",
      "features.shape(62, 517)\n",
      "vad.shape(517,)\n",
      "features.shape(62, 444)\n",
      "vad.shape(444,)\n",
      "features.shape(62, 261)\n"
     ]
    },
    {
     "name": "stderr",
     "output_type": "stream",
     "text": [
      " 61%|██████    | 3904/6394 [03:41<00:36, 68.46it/s]"
     ]
    },
    {
     "name": "stdout",
     "output_type": "stream",
     "text": [
      "vad.shape(261,)\n",
      "features.shape(62, 466)\n",
      "vad.shape(466,)\n",
      "features.shape(62, 223)\n",
      "vad.shape(223,)\n",
      "features.shape(62, 457)\n",
      "vad.shape(457,)\n",
      "features.shape(62, 210)\n",
      "vad.shape(210,)\n",
      "features.shape(62, 257)\n",
      "vad.shape(257,)\n",
      "features.shape(62, 210)\n",
      "vad.shape(210,)\n",
      "features.shape(62, 304)\n",
      "vad.shape(304,)\n",
      "features.shape(62, 338)\n",
      "vad.shape(338,)\n",
      "features.shape(62, 282)\n",
      "vad.shape(282,)\n",
      "features.shape(62, 368)\n",
      "vad.shape(368,)\n",
      "features.shape(62, 227)\n",
      "vad.shape(227,)\n",
      "features.shape(62, 389)\n",
      "vad.shape(389,)\n",
      "features.shape(62, 300)\n",
      "vad.shape(300,)\n",
      "features.shape(62, 240)\n",
      "vad.shape(240,)\n",
      "features.shape(62, 227)\n",
      "vad.shape(227,)\n",
      "features.shape(62, 253)\n"
     ]
    },
    {
     "name": "stderr",
     "output_type": "stream",
     "text": [
      " 61%|██████▏   | 3921/6394 [03:41<00:32, 75.16it/s]"
     ]
    },
    {
     "name": "stdout",
     "output_type": "stream",
     "text": [
      "vad.shape(253,)\n",
      "features.shape(62, 240)\n",
      "vad.shape(240,)\n",
      "features.shape(62, 376)\n",
      "vad.shape(376,)\n",
      "features.shape(62, 359)\n",
      "vad.shape(359,)\n",
      "features.shape(62, 402)\n",
      "vad.shape(402,)\n",
      "features.shape(62, 223)\n",
      "vad.shape(223,)\n",
      "features.shape(62, 313)\n",
      "vad.shape(313,)\n",
      "features.shape(62, 244)\n",
      "vad.shape(244,)\n",
      "features.shape(62, 278)\n",
      "vad.shape(278,)\n",
      "features.shape(62, 372)\n",
      "vad.shape(372,)\n",
      "features.shape(62, 188)\n",
      "vad.shape(188,)\n",
      "features.shape(62, 159)\n",
      "vad.shape(159,)\n",
      "features.shape(62, 333)\n",
      "vad.shape(333,)\n",
      "features.shape(62, 325)\n",
      "vad.shape(325,)\n",
      "features.shape(62, 402)\n",
      "vad.shape(402,)\n",
      "features.shape(62, 295)\n",
      "vad.shape(295,)\n",
      "features.shape(62, 739)\n",
      "vad.shape(739,)\n"
     ]
    },
    {
     "name": "stderr",
     "output_type": "stream",
     "text": [
      " 61%|██████▏   | 3929/6394 [03:41<00:35, 69.61it/s]"
     ]
    },
    {
     "name": "stdout",
     "output_type": "stream",
     "text": [
      "features.shape(62, 253)\n",
      "vad.shape(253,)\n",
      "features.shape(62, 436)\n",
      "vad.shape(436,)\n",
      "features.shape(62, 167)\n",
      "vad.shape(167,)\n",
      "features.shape(62, 312)\n",
      "vad.shape(312,)\n",
      "features.shape(62, 201)\n",
      "vad.shape(201,)\n",
      "features.shape(62, 436)\n",
      "vad.shape(436,)\n",
      "features.shape(62, 257)\n",
      "vad.shape(257,)\n"
     ]
    },
    {
     "name": "stderr",
     "output_type": "stream",
     "text": [
      " 62%|██████▏   | 3946/6394 [03:41<00:37, 65.94it/s]"
     ]
    },
    {
     "name": "stdout",
     "output_type": "stream",
     "text": [
      "features.shape(62, 210)\n",
      "vad.shape(210,)\n",
      "features.shape(62, 398)\n",
      "vad.shape(398,)\n",
      "features.shape(62, 1033)\n",
      "vad.shape(1033,)\n",
      "features.shape(62, 235)\n",
      "vad.shape(235,)\n",
      "features.shape(62, 282)\n",
      "vad.shape(282,)\n",
      "features.shape(62, 184)\n",
      "vad.shape(184,)\n",
      "features.shape(62, 257)\n",
      "vad.shape(257,)\n",
      "features.shape(62, 274)\n",
      "vad.shape(274,)\n",
      "features.shape(62, 598)\n",
      "vad.shape(598,)\n",
      "features.shape(62, 189)\n",
      "vad.shape(189,)\n",
      "features.shape(62, 330)\n",
      "vad.shape(330,)\n",
      "features.shape(62, 381)\n",
      "vad.shape(381,)\n",
      "features.shape(62, 415)\n",
      "vad.shape(415,)\n",
      "features.shape(62, 235)\n",
      "vad.shape(235,)\n",
      "features.shape(62, 240)\n",
      "vad.shape(240,)\n",
      "features.shape(62, 389)\n",
      "vad.shape(389,)\n",
      "features.shape(62, 167)\n",
      "vad.shape(167,)\n",
      "features.shape(62, 206)\n",
      "vad.shape(206,)\n",
      "features.shape(62, 180)\n",
      "vad.shape(180,)\n",
      "features.shape(62, 304)\n",
      "vad.shape(304,)\n",
      "features.shape(62, 171)\n",
      "vad.shape(171,)\n",
      "features.shape(62, 585)\n"
     ]
    },
    {
     "name": "stderr",
     "output_type": "stream",
     "text": [
      " 62%|██████▏   | 3967/6394 [03:41<00:30, 79.79it/s]"
     ]
    },
    {
     "name": "stdout",
     "output_type": "stream",
     "text": [
      "vad.shape(585,)\n",
      "features.shape(62, 346)\n",
      "vad.shape(346,)\n",
      "features.shape(62, 227)\n",
      "vad.shape(227,)\n",
      "features.shape(62, 193)\n",
      "vad.shape(193,)\n",
      "features.shape(62, 547)\n",
      "vad.shape(547,)\n",
      "features.shape(62, 261)\n",
      "vad.shape(261,)\n",
      "features.shape(62, 389)\n",
      "vad.shape(389,)\n",
      "features.shape(62, 240)\n",
      "vad.shape(240,)\n",
      "features.shape(62, 325)\n",
      "vad.shape(325,)\n",
      "features.shape(62, 176)\n",
      "vad.shape(176,)\n",
      "features.shape(62, 304)\n",
      "vad.shape(304,)\n",
      "features.shape(62, 189)\n",
      "vad.shape(189,)\n",
      "features.shape(62, 278)\n",
      "vad.shape(278,)\n",
      "features.shape(62, 261)\n",
      "vad.shape(261,)\n",
      "features.shape(62, 278)\n",
      "vad.shape(278,)\n",
      "features.shape(62, 278)\n",
      "vad.shape(278,)\n",
      "features.shape(62, 235)\n"
     ]
    },
    {
     "name": "stderr",
     "output_type": "stream",
     "text": [
      " 62%|██████▏   | 3988/6394 [03:42<00:26, 89.71it/s]"
     ]
    },
    {
     "name": "stdout",
     "output_type": "stream",
     "text": [
      "vad.shape(235,)\n",
      "features.shape(62, 223)\n",
      "vad.shape(223,)\n",
      "features.shape(62, 547)\n",
      "vad.shape(547,)\n",
      "features.shape(62, 248)\n",
      "vad.shape(248,)\n",
      "features.shape(62, 231)\n",
      "vad.shape(231,)\n",
      "features.shape(62, 321)\n",
      "vad.shape(321,)\n",
      "features.shape(62, 206)\n",
      "vad.shape(206,)\n",
      "features.shape(62, 303)\n",
      "vad.shape(303,)\n",
      "features.shape(62, 197)\n",
      "vad.shape(197,)\n",
      "features.shape(62, 368)\n",
      "vad.shape(368,)\n",
      "features.shape(62, 342)\n",
      "vad.shape(342,)\n",
      "features.shape(62, 244)\n",
      "vad.shape(244,)\n",
      "features.shape(62, 244)\n",
      "vad.shape(244,)\n",
      "features.shape(62, 248)\n",
      "vad.shape(248,)\n",
      "features.shape(62, 270)\n",
      "vad.shape(270,)\n",
      "features.shape(62, 295)\n",
      "vad.shape(295,)\n",
      "features.shape(62, 807)\n",
      "vad.shape(807,)\n",
      "features.shape(62, 274)\n",
      "vad.shape(274,)\n",
      "features.shape(62, 752)\n",
      "vad.shape(752,)\n",
      "features.shape(62, 223)\n",
      "vad.shape(223,)\n",
      "features.shape(62, 180)\n",
      "vad.shape(180,)\n",
      "features.shape(62, 278)\n"
     ]
    },
    {
     "name": "stderr",
     "output_type": "stream",
     "text": [
      " 63%|██████▎   | 3998/6394 [03:42<00:26, 91.48it/s]"
     ]
    },
    {
     "name": "stdout",
     "output_type": "stream",
     "text": [
      "vad.shape(278,)\n",
      "features.shape(62, 334)\n",
      "vad.shape(334,)\n",
      "features.shape(62, 261)\n",
      "vad.shape(261,)\n",
      "features.shape(62, 423)\n",
      "vad.shape(423,)\n",
      "features.shape(62, 197)\n",
      "vad.shape(197,)\n",
      "features.shape(62, 415)\n",
      "vad.shape(415,)\n",
      "features.shape(62, 184)\n",
      "vad.shape(184,)\n",
      "features.shape(62, 432)\n",
      "vad.shape(432,)\n",
      "features.shape(62, 372)\n",
      "vad.shape(372,)\n",
      "features.shape(62, 368)\n",
      "vad.shape(368,)\n",
      "features.shape(62, 312)\n",
      "vad.shape(312,)\n",
      "features.shape(62, 393)\n",
      "vad.shape(393,)\n",
      "features.shape(62, 308)\n",
      "vad.shape(308,)\n",
      "features.shape(62, 385)\n",
      "vad.shape(385,)\n",
      "features.shape(62, 351)\n",
      "vad.shape(351,)\n",
      "features.shape(62, 269)\n",
      "vad.shape(269,)\n",
      "features.shape(62, 393)\n",
      "vad.shape(393,)\n"
     ]
    },
    {
     "name": "stderr",
     "output_type": "stream",
     "text": [
      " 63%|██████▎   | 4019/6394 [03:42<00:26, 88.40it/s]"
     ]
    },
    {
     "name": "stdout",
     "output_type": "stream",
     "text": [
      "features.shape(62, 376)\n",
      "vad.shape(376,)\n",
      "features.shape(62, 227)\n",
      "vad.shape(227,)\n",
      "features.shape(62, 312)\n",
      "vad.shape(312,)\n",
      "features.shape(62, 427)\n",
      "vad.shape(427,)\n",
      "features.shape(62, 394)\n",
      "vad.shape(394,)\n",
      "features.shape(62, 402)\n",
      "vad.shape(402,)\n",
      "features.shape(62, 359)\n",
      "vad.shape(359,)\n",
      "features.shape(62, 303)\n",
      "vad.shape(303,)\n",
      "features.shape(62, 188)\n",
      "vad.shape(188,)\n",
      "features.shape(62, 269)\n",
      "vad.shape(269,)\n",
      "features.shape(62, 427)\n",
      "vad.shape(427,)\n",
      "features.shape(62, 487)\n",
      "vad.shape(487,)\n",
      "features.shape(62, 269)\n",
      "vad.shape(269,)\n",
      "features.shape(62, 180)\n",
      "vad.shape(180,)\n",
      "features.shape(62, 530)\n",
      "vad.shape(530,)\n",
      "features.shape(62, 355)\n",
      "vad.shape(355,)\n",
      "features.shape(62, 197)\n",
      "vad.shape(197,)\n",
      "features.shape(62, 295)\n",
      "vad.shape(295,)\n",
      "features.shape(62, 389)\n",
      "vad.shape(389,)\n",
      "features.shape(62, 312)\n",
      "vad.shape(312,)\n"
     ]
    },
    {
     "name": "stderr",
     "output_type": "stream",
     "text": [
      " 63%|██████▎   | 4030/6394 [03:42<00:25, 93.08it/s]"
     ]
    },
    {
     "name": "stdout",
     "output_type": "stream",
     "text": [
      "features.shape(62, 295)\n",
      "vad.shape(295,)\n",
      "features.shape(62, 197)\n",
      "vad.shape(197,)\n",
      "features.shape(62, 298)\n",
      "vad.shape(298,)\n",
      "features.shape(62, 355)\n",
      "vad.shape(355,)\n",
      "features.shape(62, 291)\n",
      "vad.shape(291,)\n",
      "features.shape(62, 176)\n",
      "vad.shape(176,)\n",
      "features.shape(62, 948)\n",
      "vad.shape(948,)\n",
      "features.shape(62, 304)\n",
      "vad.shape(304,)\n",
      "features.shape(62, 282)\n",
      "vad.shape(282,)\n",
      "features.shape(62, 432)\n",
      "vad.shape(432,)\n",
      "features.shape(62, 363)\n",
      "vad.shape(363,)\n"
     ]
    },
    {
     "name": "stderr",
     "output_type": "stream",
     "text": [
      " 63%|██████▎   | 4040/6394 [03:42<00:32, 73.13it/s]"
     ]
    },
    {
     "name": "stdout",
     "output_type": "stream",
     "text": [
      "features.shape(62, 372)\n",
      "vad.shape(372,)\n",
      "features.shape(62, 227)\n",
      "vad.shape(227,)\n",
      "features.shape(62, 231)\n",
      "vad.shape(231,)\n",
      "features.shape(62, 282)\n",
      "vad.shape(282,)\n",
      "features.shape(62, 376)\n",
      "vad.shape(376,)\n",
      "features.shape(62, 180)\n",
      "vad.shape(180,)\n",
      "features.shape(62, 236)\n",
      "vad.shape(236,)\n",
      "features.shape(62, 308)\n",
      "vad.shape(308,)\n",
      "features.shape(62, 393)\n",
      "vad.shape(393,)\n",
      "features.shape(62, 483)\n",
      "vad.shape(483,)\n",
      "features.shape(62, 393)\n",
      "vad.shape(393,)\n"
     ]
    },
    {
     "name": "stderr",
     "output_type": "stream",
     "text": [
      " 63%|██████▎   | 4057/6394 [03:43<00:38, 60.59it/s]"
     ]
    },
    {
     "name": "stdout",
     "output_type": "stream",
     "text": [
      "features.shape(62, 270)\n",
      "vad.shape(270,)\n",
      "features.shape(62, 372)\n",
      "vad.shape(372,)\n",
      "features.shape(62, 291)\n",
      "vad.shape(291,)\n",
      "features.shape(62, 270)\n",
      "vad.shape(270,)\n",
      "features.shape(62, 317)\n",
      "vad.shape(317,)\n",
      "features.shape(62, 176)\n",
      "vad.shape(176,)\n",
      "features.shape(62, 261)\n",
      "vad.shape(261,)\n",
      "features.shape(62, 355)\n",
      "vad.shape(355,)\n",
      "features.shape(62, 300)\n",
      "vad.shape(300,)\n",
      "features.shape(62, 201)\n",
      "vad.shape(201,)\n",
      "features.shape(62, 312)\n",
      "vad.shape(312,)\n",
      "features.shape(62, 261)\n",
      "vad.shape(261,)\n",
      "features.shape(62, 265)\n",
      "vad.shape(265,)\n"
     ]
    },
    {
     "name": "stderr",
     "output_type": "stream",
     "text": [
      " 64%|██████▎   | 4071/6394 [03:43<00:39, 59.03it/s]"
     ]
    },
    {
     "name": "stdout",
     "output_type": "stream",
     "text": [
      "features.shape(62, 202)\n",
      "vad.shape(202,)\n",
      "features.shape(62, 287)\n",
      "vad.shape(287,)\n",
      "features.shape(62, 683)\n",
      "vad.shape(683,)\n",
      "features.shape(62, 312)\n",
      "vad.shape(312,)\n",
      "features.shape(62, 210)\n",
      "vad.shape(210,)\n",
      "features.shape(62, 167)\n",
      "vad.shape(167,)\n",
      "features.shape(62, 295)\n",
      "vad.shape(295,)\n",
      "features.shape(62, 411)\n",
      "vad.shape(411,)\n",
      "features.shape(62, 197)\n",
      "vad.shape(197,)\n",
      "features.shape(62, 274)\n",
      "vad.shape(274,)\n",
      "features.shape(62, 398)\n",
      "vad.shape(398,)\n"
     ]
    },
    {
     "name": "stderr",
     "output_type": "stream",
     "text": [
      " 64%|██████▍   | 4087/6394 [03:43<00:33, 68.22it/s]"
     ]
    },
    {
     "name": "stdout",
     "output_type": "stream",
     "text": [
      "features.shape(62, 214)\n",
      "vad.shape(214,)\n",
      "features.shape(62, 726)\n",
      "vad.shape(726,)\n",
      "features.shape(62, 142)\n",
      "vad.shape(142,)\n",
      "features.shape(62, 359)\n",
      "vad.shape(359,)\n",
      "features.shape(62, 368)\n",
      "vad.shape(368,)\n",
      "features.shape(62, 133)\n",
      "vad.shape(133,)\n",
      "features.shape(62, 420)\n",
      "vad.shape(420,)\n",
      "features.shape(62, 167)\n",
      "vad.shape(167,)\n",
      "features.shape(62, 159)\n",
      "vad.shape(159,)\n",
      "features.shape(62, 266)\n",
      "vad.shape(266,)\n",
      "features.shape(62, 193)\n",
      "vad.shape(193,)\n",
      "features.shape(62, 372)\n",
      "vad.shape(372,)\n",
      "features.shape(62, 321)\n",
      "vad.shape(321,)\n",
      "features.shape(62, 338)\n",
      "vad.shape(338,)\n",
      "features.shape(62, 210)\n",
      "vad.shape(210,)\n",
      "features.shape(62, 270)\n",
      "vad.shape(270,)\n",
      "features.shape(62, 202)\n",
      "vad.shape(202,)\n",
      "features.shape(62, 483)\n",
      "vad.shape(483,)\n",
      "features.shape(62, 240)\n",
      "vad.shape(240,)\n"
     ]
    },
    {
     "name": "stderr",
     "output_type": "stream",
     "text": [
      " 64%|██████▍   | 4110/6394 [03:43<00:26, 86.42it/s]"
     ]
    },
    {
     "name": "stdout",
     "output_type": "stream",
     "text": [
      "features.shape(62, 321)\n",
      "vad.shape(321,)\n",
      "features.shape(62, 295)\n",
      "vad.shape(295,)\n",
      "features.shape(62, 287)\n",
      "vad.shape(287,)\n",
      "features.shape(62, 492)\n",
      "vad.shape(492,)\n",
      "features.shape(62, 223)\n",
      "vad.shape(223,)\n",
      "features.shape(62, 313)\n",
      "vad.shape(313,)\n",
      "features.shape(62, 137)\n",
      "vad.shape(137,)\n",
      "features.shape(62, 338)\n",
      "vad.shape(338,)\n",
      "features.shape(62, 218)\n",
      "vad.shape(218,)\n",
      "features.shape(62, 304)\n",
      "vad.shape(304,)\n",
      "features.shape(62, 368)\n",
      "vad.shape(368,)\n",
      "features.shape(62, 291)\n",
      "vad.shape(291,)\n",
      "features.shape(62, 236)\n",
      "vad.shape(236,)\n",
      "features.shape(62, 342)\n",
      "vad.shape(342,)\n",
      "features.shape(62, 312)\n",
      "vad.shape(312,)\n",
      "features.shape(62, 206)\n",
      "vad.shape(206,)\n",
      "features.shape(62, 265)\n",
      "vad.shape(265,)\n",
      "features.shape(62, 206)\n",
      "vad.shape(206,)\n",
      "features.shape(62, 330)\n",
      "vad.shape(330,)\n",
      "features.shape(62, 193)\n",
      "vad.shape(193,)\n",
      "features.shape(62, 308)\n",
      "vad.shape(308,)\n",
      "features.shape(62, 317)\n",
      "vad.shape(317,)\n",
      "features.shape(62, 189)\n",
      "vad.shape(189,)\n",
      "features.shape(62, 270)\n",
      "vad.shape(270,)\n"
     ]
    },
    {
     "name": "stderr",
     "output_type": "stream",
     "text": [
      " 65%|██████▍   | 4134/6394 [03:43<00:24, 92.82it/s]"
     ]
    },
    {
     "name": "stdout",
     "output_type": "stream",
     "text": [
      "features.shape(62, 223)\n",
      "vad.shape(223,)\n",
      "features.shape(62, 445)\n",
      "vad.shape(445,)\n",
      "features.shape(62, 385)\n",
      "vad.shape(385,)\n",
      "features.shape(62, 223)\n",
      "vad.shape(223,)\n",
      "features.shape(62, 393)\n",
      "vad.shape(393,)\n",
      "features.shape(62, 205)\n",
      "vad.shape(205,)\n",
      "features.shape(62, 286)\n",
      "vad.shape(286,)\n",
      "features.shape(62, 389)\n",
      "vad.shape(389,)\n",
      "features.shape(62, 372)\n",
      "vad.shape(372,)\n",
      "features.shape(62, 193)\n",
      "vad.shape(193,)\n",
      "features.shape(62, 227)\n",
      "vad.shape(227,)\n",
      "features.shape(62, 188)\n",
      "vad.shape(188,)\n",
      "features.shape(62, 398)\n",
      "vad.shape(398,)\n",
      "features.shape(62, 394)\n",
      "vad.shape(394,)\n",
      "features.shape(62, 282)\n",
      "vad.shape(282,)\n",
      "features.shape(62, 231)\n",
      "vad.shape(231,)\n",
      "features.shape(62, 291)\n",
      "vad.shape(291,)\n",
      "features.shape(62, 257)\n",
      "vad.shape(257,)\n"
     ]
    },
    {
     "name": "stderr",
     "output_type": "stream",
     "text": [
      " 65%|██████▍   | 4144/6394 [03:44<00:24, 91.89it/s]"
     ]
    },
    {
     "name": "stdout",
     "output_type": "stream",
     "text": [
      "features.shape(62, 184)\n",
      "vad.shape(184,)\n",
      "features.shape(62, 385)\n",
      "vad.shape(385,)\n",
      "features.shape(62, 291)\n",
      "vad.shape(291,)\n",
      "features.shape(62, 218)\n",
      "vad.shape(218,)\n",
      "features.shape(62, 261)\n",
      "vad.shape(261,)\n",
      "features.shape(62, 210)\n",
      "vad.shape(210,)\n",
      "features.shape(62, 295)\n",
      "vad.shape(295,)\n",
      "features.shape(62, 505)\n",
      "vad.shape(505,)\n",
      "features.shape(62, 393)\n",
      "vad.shape(393,)\n",
      "features.shape(62, 283)\n",
      "vad.shape(283,)\n",
      "features.shape(62, 231)\n",
      "vad.shape(231,)\n",
      "features.shape(62, 530)\n",
      "vad.shape(530,)\n",
      "features.shape(62, 227)\n",
      "vad.shape(227,)\n",
      "features.shape(62, 184)\n",
      "vad.shape(184,)\n",
      "features.shape(62, 304)\n",
      "vad.shape(304,)\n",
      "features.shape(62, 291)\n",
      "vad.shape(291,)\n",
      "features.shape(62, 363)\n",
      "vad.shape(363,)\n",
      "features.shape(62, 325)\n",
      "vad.shape(325,)\n"
     ]
    },
    {
     "name": "stderr",
     "output_type": "stream",
     "text": [
      " 65%|██████▌   | 4164/6394 [03:44<00:24, 90.18it/s]"
     ]
    },
    {
     "name": "stdout",
     "output_type": "stream",
     "text": [
      "features.shape(62, 201)\n",
      "vad.shape(201,)\n",
      "features.shape(62, 227)\n",
      "vad.shape(227,)\n",
      "features.shape(62, 150)\n",
      "vad.shape(150,)\n",
      "features.shape(62, 308)\n",
      "vad.shape(308,)\n",
      "features.shape(62, 457)\n",
      "vad.shape(457,)\n",
      "features.shape(62, 287)\n",
      "vad.shape(287,)\n",
      "features.shape(62, 193)\n",
      "vad.shape(193,)\n",
      "features.shape(62, 325)\n",
      "vad.shape(325,)\n",
      "features.shape(62, 325)\n",
      "vad.shape(325,)\n",
      "features.shape(62, 265)\n",
      "vad.shape(265,)\n",
      "features.shape(62, 257)\n",
      "vad.shape(257,)\n",
      "features.shape(62, 709)\n",
      "vad.shape(709,)\n",
      "features.shape(62, 389)\n",
      "vad.shape(389,)\n",
      "features.shape(62, 389)\n",
      "vad.shape(389,)\n",
      "features.shape(62, 206)\n",
      "vad.shape(206,)\n"
     ]
    },
    {
     "name": "stderr",
     "output_type": "stream",
     "text": [
      " 65%|██████▌   | 4174/6394 [03:44<00:31, 70.26it/s]"
     ]
    },
    {
     "name": "stdout",
     "output_type": "stream",
     "text": [
      "features.shape(62, 210)\n",
      "vad.shape(210,)\n",
      "features.shape(62, 227)\n",
      "vad.shape(227,)\n",
      "features.shape(62, 299)\n",
      "vad.shape(299,)\n",
      "features.shape(62, 261)\n",
      "vad.shape(261,)\n",
      "features.shape(62, 359)\n",
      "vad.shape(359,)\n",
      "features.shape(62, 415)\n",
      "vad.shape(415,)\n",
      "features.shape(62, 278)\n",
      "vad.shape(278,)\n",
      "features.shape(62, 184)\n",
      "vad.shape(184,)\n",
      "features.shape(62, 410)\n",
      "vad.shape(410,)\n",
      "features.shape(62, 205)\n",
      "vad.shape(205,)\n",
      "features.shape(62, 359)\n",
      "vad.shape(359,)\n"
     ]
    },
    {
     "name": "stderr",
     "output_type": "stream",
     "text": [
      " 66%|██████▌   | 4192/6394 [03:44<00:28, 78.20it/s]"
     ]
    },
    {
     "name": "stdout",
     "output_type": "stream",
     "text": [
      "features.shape(62, 308)\n",
      "vad.shape(308,)\n",
      "features.shape(62, 389)\n",
      "vad.shape(389,)\n",
      "features.shape(62, 236)\n",
      "vad.shape(236,)\n",
      "features.shape(62, 172)\n",
      "vad.shape(172,)\n",
      "features.shape(62, 304)\n",
      "vad.shape(304,)\n",
      "features.shape(62, 321)\n",
      "vad.shape(321,)\n",
      "features.shape(62, 355)\n",
      "vad.shape(355,)\n",
      "features.shape(62, 372)\n",
      "vad.shape(372,)\n",
      "features.shape(62, 351)\n",
      "vad.shape(351,)\n",
      "features.shape(62, 257)\n",
      "vad.shape(257,)\n",
      "features.shape(62, 364)\n",
      "vad.shape(364,)\n",
      "features.shape(62, 236)\n",
      "vad.shape(236,)\n",
      "features.shape(62, 325)\n",
      "vad.shape(325,)\n",
      "features.shape(62, 295)\n",
      "vad.shape(295,)\n",
      "features.shape(62, 231)\n",
      "vad.shape(231,)\n",
      "features.shape(62, 504)\n",
      "vad.shape(504,)\n",
      "features.shape(62, 223)\n",
      "vad.shape(223,)\n",
      "features.shape(62, 645)\n",
      "vad.shape(645,)\n",
      "features.shape(62, 1003)\n",
      "vad.shape(1003,)\n",
      "features.shape(62, 368)\n",
      "vad.shape(368,)\n"
     ]
    },
    {
     "name": "stderr",
     "output_type": "stream",
     "text": [
      " 66%|██████▌   | 4211/6394 [03:44<00:25, 84.93it/s]"
     ]
    },
    {
     "name": "stdout",
     "output_type": "stream",
     "text": [
      "features.shape(62, 398)\n",
      "vad.shape(398,)\n",
      "features.shape(62, 372)\n",
      "vad.shape(372,)\n",
      "features.shape(62, 381)\n",
      "vad.shape(381,)\n",
      "features.shape(62, 295)\n",
      "vad.shape(295,)\n",
      "features.shape(62, 363)\n",
      "vad.shape(363,)\n",
      "features.shape(62, 329)\n",
      "vad.shape(329,)\n",
      "features.shape(62, 351)\n",
      "vad.shape(351,)\n",
      "features.shape(62, 231)\n",
      "vad.shape(231,)\n",
      "features.shape(62, 244)\n",
      "vad.shape(244,)\n",
      "features.shape(62, 423)\n",
      "vad.shape(423,)\n",
      "features.shape(62, 342)\n",
      "vad.shape(342,)\n",
      "features.shape(62, 402)\n",
      "vad.shape(402,)\n",
      "features.shape(62, 244)\n",
      "vad.shape(244,)\n",
      "features.shape(62, 607)\n",
      "vad.shape(607,)\n",
      "features.shape(62, 351)\n",
      "vad.shape(351,)\n",
      "features.shape(62, 227)\n",
      "vad.shape(227,)\n"
     ]
    },
    {
     "name": "stderr",
     "output_type": "stream",
     "text": [
      " 66%|██████▌   | 4229/6394 [03:45<00:29, 73.84it/s]"
     ]
    },
    {
     "name": "stdout",
     "output_type": "stream",
     "text": [
      "features.shape(62, 350)\n",
      "vad.shape(350,)\n",
      "features.shape(62, 381)\n",
      "vad.shape(381,)\n",
      "features.shape(62, 342)\n",
      "vad.shape(342,)\n",
      "features.shape(62, 304)\n",
      "vad.shape(304,)\n",
      "features.shape(62, 248)\n",
      "vad.shape(248,)\n",
      "features.shape(62, 380)\n",
      "vad.shape(380,)\n",
      "features.shape(62, 376)\n",
      "vad.shape(376,)\n",
      "features.shape(62, 299)\n",
      "vad.shape(299,)\n",
      "features.shape(62, 338)\n",
      "vad.shape(338,)\n",
      "features.shape(62, 325)\n",
      "vad.shape(325,)\n",
      "features.shape(62, 346)\n",
      "vad.shape(346,)\n",
      "features.shape(62, 197)\n",
      "vad.shape(197,)\n",
      "features.shape(62, 240)\n",
      "vad.shape(240,)\n",
      "features.shape(62, 355)\n",
      "vad.shape(355,)\n",
      "features.shape(62, 351)\n",
      "vad.shape(351,)\n"
     ]
    },
    {
     "name": "stderr",
     "output_type": "stream",
     "text": [
      " 66%|██████▋   | 4238/6394 [03:45<00:28, 76.92it/s]"
     ]
    },
    {
     "name": "stdout",
     "output_type": "stream",
     "text": [
      "features.shape(62, 180)\n",
      "vad.shape(180,)\n",
      "features.shape(62, 261)\n",
      "vad.shape(261,)\n",
      "features.shape(62, 411)\n",
      "vad.shape(411,)\n",
      "features.shape(62, 615)\n",
      "vad.shape(615,)\n",
      "features.shape(62, 295)\n",
      "vad.shape(295,)\n",
      "features.shape(62, 317)\n",
      "vad.shape(317,)\n",
      "features.shape(62, 312)\n",
      "vad.shape(312,)\n",
      "features.shape(62, 346)\n",
      "vad.shape(346,)\n",
      "features.shape(62, 368)\n",
      "vad.shape(368,)\n",
      "features.shape(62, 231)\n",
      "vad.shape(231,)\n",
      "features.shape(62, 453)\n",
      "vad.shape(453,)\n",
      "features.shape(62, 248)\n",
      "vad.shape(248,)\n",
      "features.shape(62, 291)\n",
      "vad.shape(291,)\n",
      "features.shape(62, 274)\n",
      "vad.shape(274,)\n"
     ]
    },
    {
     "name": "stderr",
     "output_type": "stream",
     "text": [
      " 67%|██████▋   | 4257/6394 [03:45<00:25, 83.10it/s]"
     ]
    },
    {
     "name": "stdout",
     "output_type": "stream",
     "text": [
      "features.shape(62, 214)\n",
      "vad.shape(214,)\n",
      "features.shape(62, 223)\n",
      "vad.shape(223,)\n",
      "features.shape(62, 197)\n",
      "vad.shape(197,)\n",
      "features.shape(62, 299)\n",
      "vad.shape(299,)\n",
      "features.shape(62, 299)\n",
      "vad.shape(299,)\n",
      "features.shape(62, 291)\n",
      "vad.shape(291,)\n",
      "features.shape(62, 444)\n",
      "vad.shape(444,)\n",
      "features.shape(62, 807)\n",
      "vad.shape(807,)\n",
      "features.shape(62, 312)\n",
      "vad.shape(312,)\n",
      "features.shape(62, 287)\n",
      "vad.shape(287,)\n",
      "features.shape(62, 253)\n",
      "vad.shape(253,)\n",
      "features.shape(62, 163)\n",
      "vad.shape(163,)\n",
      "features.shape(62, 427)\n",
      "vad.shape(427,)\n",
      "features.shape(62, 325)\n",
      "vad.shape(325,)\n",
      "features.shape(62, 287)\n",
      "vad.shape(287,)\n",
      "features.shape(62, 248)\n",
      "vad.shape(248,)\n",
      "features.shape(62, 432)\n",
      "vad.shape(432,)\n",
      "features.shape(62, 406)\n",
      "vad.shape(406,)\n",
      "features.shape(62, 188)\n",
      "vad.shape(188,)\n",
      "features.shape(62, 385)\n",
      "vad.shape(385,)\n"
     ]
    },
    {
     "name": "stderr",
     "output_type": "stream",
     "text": [
      " 67%|██████▋   | 4275/6394 [03:45<00:27, 76.24it/s]"
     ]
    },
    {
     "name": "stdout",
     "output_type": "stream",
     "text": [
      "features.shape(62, 398)\n",
      "vad.shape(398,)\n",
      "features.shape(62, 270)\n",
      "vad.shape(270,)\n",
      "features.shape(62, 180)\n",
      "vad.shape(180,)\n",
      "features.shape(62, 325)\n",
      "vad.shape(325,)\n",
      "features.shape(62, 338)\n",
      "vad.shape(338,)\n",
      "features.shape(62, 325)\n",
      "vad.shape(325,)\n",
      "features.shape(62, 355)\n",
      "vad.shape(355,)\n",
      "features.shape(62, 321)\n",
      "vad.shape(321,)\n",
      "features.shape(62, 252)\n",
      "vad.shape(252,)\n",
      "features.shape(62, 176)\n",
      "vad.shape(176,)\n",
      "features.shape(62, 202)\n",
      "vad.shape(202,)\n",
      "features.shape(62, 321)\n",
      "vad.shape(321,)\n",
      "features.shape(62, 223)\n",
      "vad.shape(223,)\n",
      "features.shape(62, 419)\n",
      "vad.shape(419,)\n"
     ]
    },
    {
     "name": "stderr",
     "output_type": "stream",
     "text": [
      " 67%|██████▋   | 4292/6394 [03:46<00:26, 78.83it/s]"
     ]
    },
    {
     "name": "stdout",
     "output_type": "stream",
     "text": [
      "features.shape(62, 235)\n",
      "vad.shape(235,)\n",
      "features.shape(62, 202)\n",
      "vad.shape(202,)\n",
      "features.shape(62, 286)\n",
      "vad.shape(286,)\n",
      "features.shape(62, 338)\n",
      "vad.shape(338,)\n",
      "features.shape(62, 364)\n",
      "vad.shape(364,)\n",
      "features.shape(62, 308)\n",
      "vad.shape(308,)\n",
      "features.shape(62, 287)\n",
      "vad.shape(287,)\n",
      "features.shape(62, 389)\n",
      "vad.shape(389,)\n",
      "features.shape(62, 355)\n",
      "vad.shape(355,)\n",
      "features.shape(62, 389)\n",
      "vad.shape(389,)\n",
      "features.shape(62, 364)\n",
      "vad.shape(364,)\n",
      "features.shape(62, 189)\n",
      "vad.shape(189,)\n",
      "features.shape(62, 372)\n",
      "vad.shape(372,)\n",
      "features.shape(62, 308)\n",
      "vad.shape(308,)\n",
      "features.shape(62, 466)\n",
      "vad.shape(466,)\n",
      "features.shape(62, 244)\n",
      "vad.shape(244,)\n",
      "features.shape(62, 436)\n",
      "vad.shape(436,)\n",
      "features.shape(62, 180)\n",
      "vad.shape(180,)\n",
      "features.shape(62, 167)\n",
      "vad.shape(167,)\n",
      "features.shape(62, 205)\n",
      "vad.shape(205,)\n",
      "features.shape(62, 342)\n",
      "vad.shape(342,)\n"
     ]
    },
    {
     "name": "stderr",
     "output_type": "stream",
     "text": [
      " 67%|██████▋   | 4310/6394 [03:46<00:28, 71.92it/s]"
     ]
    },
    {
     "name": "stdout",
     "output_type": "stream",
     "text": [
      "features.shape(62, 184)\n",
      "vad.shape(184,)\n",
      "features.shape(62, 261)\n",
      "vad.shape(261,)\n",
      "features.shape(62, 219)\n",
      "vad.shape(219,)\n",
      "features.shape(62, 210)\n",
      "vad.shape(210,)\n",
      "features.shape(62, 346)\n",
      "vad.shape(346,)\n",
      "features.shape(62, 351)\n",
      "vad.shape(351,)\n",
      "features.shape(62, 180)\n",
      "vad.shape(180,)\n",
      "features.shape(62, 252)\n",
      "vad.shape(252,)\n",
      "features.shape(62, 184)\n",
      "vad.shape(184,)\n",
      "features.shape(62, 282)\n",
      "vad.shape(282,)\n",
      "features.shape(62, 214)\n",
      "vad.shape(214,)\n",
      "features.shape(62, 338)\n",
      "vad.shape(338,)\n"
     ]
    },
    {
     "name": "stderr",
     "output_type": "stream",
     "text": [
      " 68%|██████▊   | 4318/6394 [03:46<00:31, 65.32it/s]"
     ]
    },
    {
     "name": "stdout",
     "output_type": "stream",
     "text": [
      "features.shape(62, 308)\n",
      "vad.shape(308,)\n",
      "features.shape(62, 402)\n",
      "vad.shape(402,)\n",
      "features.shape(62, 287)\n",
      "vad.shape(287,)\n",
      "features.shape(62, 240)\n",
      "vad.shape(240,)\n",
      "features.shape(62, 214)\n",
      "vad.shape(214,)\n",
      "features.shape(62, 440)\n",
      "vad.shape(440,)\n",
      "features.shape(62, 227)\n",
      "vad.shape(227,)\n",
      "features.shape(62, 274)\n",
      "vad.shape(274,)\n",
      "features.shape(62, 218)\n",
      "vad.shape(218,)\n",
      "features.shape(62, 206)\n",
      "vad.shape(206,)\n",
      "features.shape(62, 265)\n"
     ]
    },
    {
     "name": "stderr",
     "output_type": "stream",
     "text": [
      " 68%|██████▊   | 4336/6394 [03:46<00:28, 72.12it/s]"
     ]
    },
    {
     "name": "stdout",
     "output_type": "stream",
     "text": [
      "vad.shape(265,)\n",
      "features.shape(62, 423)\n",
      "vad.shape(423,)\n",
      "features.shape(62, 223)\n",
      "vad.shape(223,)\n",
      "features.shape(62, 300)\n",
      "vad.shape(300,)\n",
      "features.shape(62, 300)\n",
      "vad.shape(300,)\n",
      "features.shape(62, 240)\n",
      "vad.shape(240,)\n",
      "features.shape(62, 214)\n",
      "vad.shape(214,)\n",
      "features.shape(62, 436)\n",
      "vad.shape(436,)\n",
      "features.shape(62, 227)\n",
      "vad.shape(227,)\n",
      "features.shape(62, 376)\n",
      "vad.shape(376,)\n",
      "features.shape(62, 304)\n",
      "vad.shape(304,)\n",
      "features.shape(62, 286)\n",
      "vad.shape(286,)\n",
      "features.shape(62, 214)\n",
      "vad.shape(214,)\n",
      "features.shape(62, 325)\n",
      "vad.shape(325,)\n",
      "features.shape(62, 270)\n",
      "vad.shape(270,)\n",
      "features.shape(62, 364)\n",
      "vad.shape(364,)\n",
      "features.shape(62, 184)\n",
      "vad.shape(184,)\n",
      "features.shape(62, 325)\n",
      "vad.shape(325,)\n",
      "features.shape(62, 189)\n",
      "vad.shape(189,)\n"
     ]
    },
    {
     "name": "stderr",
     "output_type": "stream",
     "text": [
      " 68%|██████▊   | 4353/6394 [03:46<00:27, 73.73it/s]"
     ]
    },
    {
     "name": "stdout",
     "output_type": "stream",
     "text": [
      "features.shape(62, 406)\n",
      "vad.shape(406,)\n",
      "features.shape(62, 282)\n",
      "vad.shape(282,)\n",
      "features.shape(62, 317)\n",
      "vad.shape(317,)\n",
      "features.shape(62, 325)\n",
      "vad.shape(325,)\n",
      "features.shape(62, 240)\n",
      "vad.shape(240,)\n",
      "features.shape(62, 248)\n",
      "vad.shape(248,)\n",
      "features.shape(62, 286)\n",
      "vad.shape(286,)\n",
      "features.shape(62, 291)\n",
      "vad.shape(291,)\n",
      "features.shape(62, 193)\n",
      "vad.shape(193,)\n",
      "features.shape(62, 385)\n",
      "vad.shape(385,)\n",
      "features.shape(62, 227)\n",
      "vad.shape(227,)\n",
      "features.shape(62, 261)\n",
      "vad.shape(261,)\n",
      "features.shape(62, 922)\n",
      "vad.shape(922,)\n",
      "features.shape(62, 286)\n",
      "vad.shape(286,)\n",
      "features.shape(62, 346)\n",
      "vad.shape(346,)\n",
      "features.shape(62, 393)\n",
      "vad.shape(393,)\n",
      "features.shape(62, 265)\n",
      "vad.shape(265,)\n"
     ]
    },
    {
     "name": "stderr",
     "output_type": "stream",
     "text": [
      " 68%|██████▊   | 4371/6394 [03:47<00:26, 77.33it/s]"
     ]
    },
    {
     "name": "stdout",
     "output_type": "stream",
     "text": [
      "features.shape(62, 261)\n",
      "vad.shape(261,)\n",
      "features.shape(62, 299)\n",
      "vad.shape(299,)\n",
      "features.shape(62, 466)\n",
      "vad.shape(466,)\n",
      "features.shape(62, 321)\n",
      "vad.shape(321,)\n",
      "features.shape(62, 351)\n",
      "vad.shape(351,)\n",
      "features.shape(62, 632)\n",
      "vad.shape(632,)\n",
      "features.shape(62, 368)\n",
      "vad.shape(368,)\n",
      "features.shape(62, 231)\n",
      "vad.shape(231,)\n",
      "features.shape(62, 329)\n",
      "vad.shape(329,)\n",
      "features.shape(62, 197)\n",
      "vad.shape(197,)\n",
      "features.shape(62, 432)\n",
      "vad.shape(432,)\n",
      "features.shape(62, 240)\n",
      "vad.shape(240,)\n",
      "features.shape(62, 1114)\n",
      "vad.shape(1114,)\n",
      "features.shape(62, 184)\n",
      "vad.shape(184,)\n",
      "features.shape(62, 312)\n",
      "vad.shape(312,)\n",
      "features.shape(62, 317)\n",
      "vad.shape(317,)\n",
      "features.shape(62, 184)\n",
      "vad.shape(184,)\n"
     ]
    },
    {
     "name": "stderr",
     "output_type": "stream",
     "text": [
      " 69%|██████▊   | 4388/6394 [03:47<00:25, 78.39it/s]"
     ]
    },
    {
     "name": "stdout",
     "output_type": "stream",
     "text": [
      "features.shape(62, 248)\n",
      "vad.shape(248,)\n",
      "features.shape(62, 355)\n",
      "vad.shape(355,)\n",
      "features.shape(62, 308)\n",
      "vad.shape(308,)\n",
      "features.shape(62, 342)\n",
      "vad.shape(342,)\n",
      "features.shape(62, 667)\n",
      "vad.shape(667,)\n",
      "features.shape(62, 193)\n",
      "vad.shape(193,)\n",
      "features.shape(62, 342)\n",
      "vad.shape(342,)\n",
      "features.shape(62, 155)\n",
      "vad.shape(155,)\n",
      "features.shape(62, 295)\n",
      "vad.shape(295,)\n",
      "features.shape(62, 184)\n",
      "vad.shape(184,)\n",
      "features.shape(62, 270)\n",
      "vad.shape(270,)\n",
      "features.shape(62, 201)\n",
      "vad.shape(201,)\n",
      "features.shape(62, 308)\n",
      "vad.shape(308,)\n",
      "features.shape(62, 214)\n",
      "vad.shape(214,)\n",
      "features.shape(62, 253)\n",
      "vad.shape(253,)\n",
      "features.shape(62, 308)\n",
      "vad.shape(308,)\n",
      "features.shape(62, 261)\n",
      "vad.shape(261,)\n",
      "features.shape(62, 282)\n",
      "vad.shape(282,)\n"
     ]
    },
    {
     "name": "stderr",
     "output_type": "stream",
     "text": [
      " 69%|██████▉   | 4404/6394 [03:47<00:27, 72.55it/s]"
     ]
    },
    {
     "name": "stdout",
     "output_type": "stream",
     "text": [
      "features.shape(62, 201)\n",
      "vad.shape(201,)\n",
      "features.shape(62, 304)\n",
      "vad.shape(304,)\n",
      "features.shape(62, 351)\n",
      "vad.shape(351,)\n",
      "features.shape(62, 453)\n",
      "vad.shape(453,)\n",
      "features.shape(62, 210)\n",
      "vad.shape(210,)\n",
      "features.shape(62, 342)\n",
      "vad.shape(342,)\n",
      "features.shape(62, 483)\n",
      "vad.shape(483,)\n",
      "features.shape(62, 244)\n",
      "vad.shape(244,)\n",
      "features.shape(62, 278)\n",
      "vad.shape(278,)\n",
      "features.shape(62, 163)\n",
      "vad.shape(163,)\n",
      "features.shape(62, 312)\n",
      "vad.shape(312,)\n",
      "features.shape(62, 265)\n",
      "vad.shape(265,)\n",
      "features.shape(62, 236)\n",
      "vad.shape(236,)\n"
     ]
    },
    {
     "name": "stderr",
     "output_type": "stream",
     "text": [
      " 69%|██████▉   | 4425/6394 [03:47<00:22, 86.59it/s]"
     ]
    },
    {
     "name": "stdout",
     "output_type": "stream",
     "text": [
      "features.shape(62, 180)\n",
      "vad.shape(180,)\n",
      "features.shape(62, 261)\n",
      "vad.shape(261,)\n",
      "features.shape(62, 253)\n",
      "vad.shape(253,)\n",
      "features.shape(62, 197)\n",
      "vad.shape(197,)\n",
      "features.shape(62, 372)\n",
      "vad.shape(372,)\n",
      "features.shape(62, 436)\n",
      "vad.shape(436,)\n",
      "features.shape(62, 317)\n",
      "vad.shape(317,)\n",
      "features.shape(62, 304)\n",
      "vad.shape(304,)\n",
      "features.shape(62, 316)\n",
      "vad.shape(316,)\n",
      "features.shape(62, 517)\n",
      "vad.shape(517,)\n",
      "features.shape(62, 393)\n",
      "vad.shape(393,)\n",
      "features.shape(62, 381)\n",
      "vad.shape(381,)\n",
      "features.shape(62, 346)\n",
      "vad.shape(346,)\n",
      "features.shape(62, 146)\n",
      "vad.shape(146,)\n",
      "features.shape(62, 176)\n",
      "vad.shape(176,)\n",
      "features.shape(62, 397)\n",
      "vad.shape(397,)\n",
      "features.shape(62, 426)\n",
      "vad.shape(426,)\n",
      "features.shape(62, 355)\n",
      "vad.shape(355,)\n",
      "features.shape(62, 269)\n",
      "vad.shape(269,)\n",
      "features.shape(62, 479)\n",
      "vad.shape(479,)\n",
      "features.shape(62, 201)\n",
      "vad.shape(201,)\n"
     ]
    },
    {
     "name": "stderr",
     "output_type": "stream",
     "text": [
      " 69%|██████▉   | 4437/6394 [03:47<00:20, 93.58it/s]"
     ]
    },
    {
     "name": "stdout",
     "output_type": "stream",
     "text": [
      "features.shape(62, 397)\n",
      "vad.shape(397,)\n",
      "features.shape(62, 240)\n",
      "vad.shape(240,)\n",
      "features.shape(62, 223)\n",
      "vad.shape(223,)\n",
      "features.shape(62, 261)\n",
      "vad.shape(261,)\n",
      "features.shape(62, 175)\n",
      "vad.shape(175,)\n",
      "features.shape(62, 295)\n",
      "vad.shape(295,)\n",
      "features.shape(62, 274)\n",
      "vad.shape(274,)\n",
      "features.shape(62, 427)\n",
      "vad.shape(427,)\n",
      "features.shape(62, 359)\n",
      "vad.shape(359,)\n",
      "features.shape(62, 236)\n",
      "vad.shape(236,)\n",
      "features.shape(62, 427)\n",
      "vad.shape(427,)\n",
      "features.shape(62, 257)\n",
      "vad.shape(257,)\n",
      "features.shape(62, 227)\n",
      "vad.shape(227,)\n",
      "features.shape(62, 317)\n",
      "vad.shape(317,)\n",
      "features.shape(62, 419)\n",
      "vad.shape(419,)\n",
      "features.shape(62, 193)\n",
      "vad.shape(193,)\n",
      "features.shape(62, 248)\n",
      "vad.shape(248,)\n",
      "features.shape(62, 265)\n",
      "vad.shape(265,)\n",
      "features.shape(62, 508)\n",
      "vad.shape(508,)\n",
      "features.shape(62, 406)\n",
      "vad.shape(406,)\n",
      "features.shape(62, 415)\n",
      "vad.shape(415,)\n"
     ]
    },
    {
     "name": "stderr",
     "output_type": "stream",
     "text": [
      " 70%|██████▉   | 4456/6394 [03:48<00:23, 81.88it/s]"
     ]
    },
    {
     "name": "stdout",
     "output_type": "stream",
     "text": [
      "features.shape(62, 321)\n",
      "vad.shape(321,)\n",
      "features.shape(62, 385)\n",
      "vad.shape(385,)\n",
      "features.shape(62, 444)\n",
      "vad.shape(444,)\n",
      "features.shape(62, 214)\n",
      "vad.shape(214,)\n",
      "features.shape(62, 398)\n",
      "vad.shape(398,)\n",
      "features.shape(62, 193)\n",
      "vad.shape(193,)\n",
      "features.shape(62, 214)\n",
      "vad.shape(214,)\n",
      "features.shape(62, 445)\n",
      "vad.shape(445,)\n",
      "features.shape(62, 317)\n",
      "vad.shape(317,)\n",
      "features.shape(62, 176)\n",
      "vad.shape(176,)\n",
      "features.shape(62, 210)\n",
      "vad.shape(210,)\n",
      "features.shape(62, 257)\n",
      "vad.shape(257,)\n",
      "features.shape(62, 342)\n",
      "vad.shape(342,)\n",
      "features.shape(62, 210)\n",
      "vad.shape(210,)\n",
      "features.shape(62, 214)\n",
      "vad.shape(214,)\n",
      "features.shape(62, 214)\n",
      "vad.shape(214,)\n",
      "features.shape(62, 355)\n",
      "vad.shape(355,)\n",
      "features.shape(62, 180)\n",
      "vad.shape(180,)\n",
      "features.shape(62, 492)\n",
      "vad.shape(492,)\n",
      "features.shape(62, 312)\n",
      "vad.shape(312,)\n",
      "features.shape(62, 773)\n",
      "vad.shape(773,)\n"
     ]
    },
    {
     "name": "stderr",
     "output_type": "stream",
     "text": [
      " 70%|███████   | 4478/6394 [03:48<00:20, 93.78it/s]"
     ]
    },
    {
     "name": "stdout",
     "output_type": "stream",
     "text": [
      "features.shape(62, 300)\n",
      "vad.shape(300,)\n",
      "features.shape(62, 393)\n",
      "vad.shape(393,)\n",
      "features.shape(62, 419)\n",
      "vad.shape(419,)\n",
      "features.shape(62, 274)\n",
      "vad.shape(274,)\n",
      "features.shape(62, 376)\n",
      "vad.shape(376,)\n",
      "features.shape(62, 210)\n",
      "vad.shape(210,)\n",
      "features.shape(62, 270)\n",
      "vad.shape(270,)\n",
      "features.shape(62, 205)\n",
      "vad.shape(205,)\n",
      "features.shape(62, 368)\n",
      "vad.shape(368,)\n",
      "features.shape(62, 257)\n",
      "vad.shape(257,)\n",
      "features.shape(62, 197)\n",
      "vad.shape(197,)\n",
      "features.shape(62, 274)\n",
      "vad.shape(274,)\n",
      "features.shape(62, 261)\n",
      "vad.shape(261,)\n",
      "features.shape(62, 333)\n",
      "vad.shape(333,)\n",
      "features.shape(62, 321)\n",
      "vad.shape(321,)\n"
     ]
    },
    {
     "name": "stderr",
     "output_type": "stream",
     "text": [
      " 70%|███████   | 4488/6394 [03:48<00:26, 71.64it/s]"
     ]
    },
    {
     "name": "stdout",
     "output_type": "stream",
     "text": [
      "features.shape(62, 317)\n",
      "vad.shape(317,)\n",
      "features.shape(62, 342)\n",
      "vad.shape(342,)\n",
      "features.shape(62, 351)\n",
      "vad.shape(351,)\n",
      "features.shape(62, 244)\n",
      "vad.shape(244,)\n",
      "features.shape(62, 521)\n",
      "vad.shape(521,)\n",
      "features.shape(62, 313)\n",
      "vad.shape(313,)\n",
      "features.shape(62, 372)\n",
      "vad.shape(372,)\n",
      "features.shape(62, 188)\n",
      "vad.shape(188,)\n",
      "features.shape(62, 257)\n",
      "vad.shape(257,)\n",
      "features.shape(62, 214)\n",
      "vad.shape(214,)\n",
      "features.shape(62, 244)\n",
      "vad.shape(244,)\n",
      "features.shape(62, 330)\n",
      "vad.shape(330,)\n"
     ]
    },
    {
     "name": "stderr",
     "output_type": "stream",
     "text": [
      " 70%|███████   | 4505/6394 [03:48<00:26, 72.38it/s]"
     ]
    },
    {
     "name": "stdout",
     "output_type": "stream",
     "text": [
      "features.shape(62, 214)\n",
      "vad.shape(214,)\n",
      "features.shape(62, 244)\n",
      "vad.shape(244,)\n",
      "features.shape(62, 325)\n",
      "vad.shape(325,)\n",
      "features.shape(62, 270)\n",
      "vad.shape(270,)\n",
      "features.shape(62, 359)\n",
      "vad.shape(359,)\n",
      "features.shape(62, 257)\n",
      "vad.shape(257,)\n",
      "features.shape(62, 261)\n",
      "vad.shape(261,)\n",
      "features.shape(62, 180)\n",
      "vad.shape(180,)\n",
      "features.shape(62, 355)\n",
      "vad.shape(355,)\n",
      "features.shape(62, 436)\n",
      "vad.shape(436,)\n",
      "features.shape(62, 291)\n",
      "vad.shape(291,)\n",
      "features.shape(62, 556)\n",
      "vad.shape(556,)\n",
      "features.shape(62, 551)\n",
      "vad.shape(551,)\n",
      "features.shape(62, 385)\n",
      "vad.shape(385,)\n",
      "features.shape(62, 329)\n",
      "vad.shape(329,)\n",
      "features.shape(62, 517)\n",
      "vad.shape(517,)\n",
      "features.shape(62, 649)\n",
      "vad.shape(649,)\n",
      "features.shape(62, 282)\n",
      "vad.shape(282,)\n",
      "features.shape(62, 312)\n"
     ]
    },
    {
     "name": "stderr",
     "output_type": "stream",
     "text": [
      " 71%|███████   | 4525/6394 [03:49<00:26, 71.72it/s]"
     ]
    },
    {
     "name": "stdout",
     "output_type": "stream",
     "text": [
      "vad.shape(312,)\n",
      "features.shape(62, 368)\n",
      "vad.shape(368,)\n",
      "features.shape(62, 406)\n",
      "vad.shape(406,)\n",
      "features.shape(62, 329)\n",
      "vad.shape(329,)\n",
      "features.shape(62, 300)\n",
      "vad.shape(300,)\n",
      "features.shape(62, 479)\n",
      "vad.shape(479,)\n",
      "features.shape(62, 423)\n",
      "vad.shape(423,)\n",
      "features.shape(62, 432)\n",
      "vad.shape(432,)\n",
      "features.shape(62, 538)\n",
      "vad.shape(538,)\n",
      "features.shape(62, 291)\n",
      "vad.shape(291,)\n",
      "features.shape(62, 440)\n",
      "vad.shape(440,)\n",
      "features.shape(62, 257)\n",
      "vad.shape(257,)\n",
      "features.shape(62, 828)\n",
      "vad.shape(828,)\n"
     ]
    },
    {
     "name": "stderr",
     "output_type": "stream",
     "text": [
      " 71%|███████   | 4547/6394 [03:49<00:21, 86.78it/s]"
     ]
    },
    {
     "name": "stdout",
     "output_type": "stream",
     "text": [
      "features.shape(62, 342)\n",
      "vad.shape(342,)\n",
      "features.shape(62, 410)\n",
      "vad.shape(410,)\n",
      "features.shape(62, 257)\n",
      "vad.shape(257,)\n",
      "features.shape(62, 338)\n",
      "vad.shape(338,)\n",
      "features.shape(62, 474)\n",
      "vad.shape(474,)\n",
      "features.shape(62, 466)\n",
      "vad.shape(466,)\n",
      "features.shape(62, 355)\n",
      "vad.shape(355,)\n",
      "features.shape(62, 244)\n",
      "vad.shape(244,)\n",
      "features.shape(62, 487)\n",
      "vad.shape(487,)\n",
      "features.shape(62, 265)\n",
      "vad.shape(265,)\n",
      "features.shape(62, 261)\n",
      "vad.shape(261,)\n",
      "features.shape(62, 495)\n",
      "vad.shape(495,)\n",
      "features.shape(62, 560)\n",
      "vad.shape(560,)\n",
      "features.shape(62, 410)\n",
      "vad.shape(410,)\n",
      "features.shape(62, 419)\n",
      "vad.shape(419,)\n",
      "features.shape(62, 269)\n",
      "vad.shape(269,)\n",
      "features.shape(62, 470)\n",
      "vad.shape(470,)\n",
      "features.shape(62, 884)\n",
      "vad.shape(884,)\n",
      "features.shape(62, 227)\n",
      "vad.shape(227,)\n",
      "features.shape(62, 291)\n",
      "vad.shape(291,)\n",
      "features.shape(62, 316)\n",
      "vad.shape(316,)\n",
      "features.shape(62, 393)\n",
      "vad.shape(393,)\n"
     ]
    },
    {
     "name": "stderr",
     "output_type": "stream",
     "text": [
      " 71%|███████▏  | 4557/6394 [03:49<00:21, 86.86it/s]"
     ]
    },
    {
     "name": "stdout",
     "output_type": "stream",
     "text": [
      "features.shape(62, 214)\n",
      "vad.shape(214,)\n",
      "features.shape(62, 462)\n",
      "vad.shape(462,)\n",
      "features.shape(62, 385)\n",
      "vad.shape(385,)\n",
      "features.shape(62, 786)\n",
      "vad.shape(786,)\n",
      "features.shape(62, 492)\n",
      "vad.shape(492,)\n",
      "features.shape(62, 372)\n",
      "vad.shape(372,)\n",
      "features.shape(62, 376)\n",
      "vad.shape(376,)\n",
      "features.shape(62, 530)\n",
      "vad.shape(530,)\n",
      "features.shape(62, 351)\n",
      "vad.shape(351,)\n",
      "features.shape(62, 483)\n",
      "vad.shape(483,)\n",
      "features.shape(62, 329)\n",
      "vad.shape(329,)\n",
      "features.shape(62, 466)\n",
      "vad.shape(466,)\n",
      "features.shape(62, 300)\n",
      "vad.shape(300,)\n",
      "features.shape(62, 394)\n",
      "vad.shape(394,)\n"
     ]
    },
    {
     "name": "stderr",
     "output_type": "stream",
     "text": [
      " 71%|███████▏  | 4566/6394 [03:49<00:24, 73.84it/s]"
     ]
    },
    {
     "name": "stdout",
     "output_type": "stream",
     "text": [
      "features.shape(62, 440)\n",
      "vad.shape(440,)\n",
      "features.shape(62, 261)\n",
      "vad.shape(261,)\n",
      "features.shape(62, 457)\n",
      "vad.shape(457,)\n",
      "features.shape(62, 248)\n",
      "vad.shape(248,)\n",
      "features.shape(62, 581)\n",
      "vad.shape(581,)\n",
      "features.shape(62, 440)\n",
      "vad.shape(440,)\n",
      "features.shape(62, 406)\n",
      "vad.shape(406,)\n",
      "features.shape(62, 709)\n",
      "vad.shape(709,)\n",
      "features.shape(62, 231)\n",
      "vad.shape(231,)\n",
      "features.shape(62, 402)\n",
      "vad.shape(402,)\n",
      "features.shape(62, 389)\n",
      "vad.shape(389,)\n",
      "features.shape(62, 346)\n",
      "vad.shape(346,)\n",
      "features.shape(62, 458)\n",
      "vad.shape(458,)\n",
      "features.shape(62, 265)\n",
      "vad.shape(265,)\n",
      "features.shape(62, 825)\n",
      "vad.shape(825,)\n",
      "features.shape(62, 295)\n"
     ]
    },
    {
     "name": "stderr",
     "output_type": "stream",
     "text": [
      " 72%|███████▏  | 4586/6394 [03:49<00:22, 79.19it/s]"
     ]
    },
    {
     "name": "stdout",
     "output_type": "stream",
     "text": [
      "vad.shape(295,)\n",
      "features.shape(62, 355)\n",
      "vad.shape(355,)\n",
      "features.shape(62, 496)\n",
      "vad.shape(496,)\n",
      "features.shape(62, 385)\n",
      "vad.shape(385,)\n",
      "features.shape(62, 244)\n",
      "vad.shape(244,)\n",
      "features.shape(62, 355)\n",
      "vad.shape(355,)\n",
      "features.shape(62, 376)\n",
      "vad.shape(376,)\n",
      "features.shape(62, 261)\n",
      "vad.shape(261,)\n",
      "features.shape(62, 513)\n",
      "vad.shape(513,)\n",
      "features.shape(62, 555)\n",
      "vad.shape(555,)\n",
      "features.shape(62, 509)\n",
      "vad.shape(509,)\n",
      "features.shape(62, 479)\n",
      "vad.shape(479,)\n",
      "features.shape(62, 257)\n",
      "vad.shape(257,)\n",
      "features.shape(62, 261)\n",
      "vad.shape(261,)\n",
      "features.shape(62, 585)\n",
      "vad.shape(585,)\n"
     ]
    },
    {
     "name": "stderr",
     "output_type": "stream",
     "text": [
      " 72%|███████▏  | 4603/6394 [03:50<00:24, 72.30it/s]"
     ]
    },
    {
     "name": "stdout",
     "output_type": "stream",
     "text": [
      "features.shape(62, 393)\n",
      "vad.shape(393,)\n",
      "features.shape(62, 397)\n",
      "vad.shape(397,)\n",
      "features.shape(62, 333)\n",
      "vad.shape(333,)\n",
      "features.shape(62, 466)\n",
      "vad.shape(466,)\n",
      "features.shape(62, 602)\n",
      "vad.shape(602,)\n",
      "features.shape(62, 376)\n",
      "vad.shape(376,)\n",
      "features.shape(62, 474)\n",
      "vad.shape(474,)\n",
      "features.shape(62, 278)\n",
      "vad.shape(278,)\n",
      "features.shape(62, 261)\n",
      "vad.shape(261,)\n",
      "features.shape(62, 278)\n",
      "vad.shape(278,)\n",
      "features.shape(62, 342)\n",
      "vad.shape(342,)\n",
      "features.shape(62, 436)\n",
      "vad.shape(436,)\n",
      "features.shape(62, 316)\n",
      "vad.shape(316,)\n",
      "features.shape(62, 359)\n",
      "vad.shape(359,)\n",
      "features.shape(62, 278)\n",
      "vad.shape(278,)\n",
      "features.shape(62, 265)\n"
     ]
    },
    {
     "name": "stderr",
     "output_type": "stream",
     "text": [
      " 72%|███████▏  | 4623/6394 [03:50<00:20, 84.65it/s]"
     ]
    },
    {
     "name": "stdout",
     "output_type": "stream",
     "text": [
      "vad.shape(265,)\n",
      "features.shape(62, 483)\n",
      "vad.shape(483,)\n",
      "features.shape(62, 252)\n",
      "vad.shape(252,)\n",
      "features.shape(62, 363)\n",
      "vad.shape(363,)\n",
      "features.shape(62, 675)\n",
      "vad.shape(675,)\n",
      "features.shape(62, 504)\n",
      "vad.shape(504,)\n",
      "features.shape(62, 556)\n",
      "vad.shape(556,)\n",
      "features.shape(62, 261)\n",
      "vad.shape(261,)\n",
      "features.shape(62, 389)\n",
      "vad.shape(389,)\n",
      "features.shape(62, 500)\n",
      "vad.shape(500,)\n",
      "features.shape(62, 274)\n",
      "vad.shape(274,)\n",
      "features.shape(62, 564)\n",
      "vad.shape(564,)\n",
      "features.shape(62, 556)\n",
      "vad.shape(556,)\n",
      "features.shape(62, 419)\n",
      "vad.shape(419,)\n",
      "features.shape(62, 282)\n",
      "vad.shape(282,)\n",
      "features.shape(62, 363)\n",
      "vad.shape(363,)\n",
      "features.shape(62, 248)\n",
      "vad.shape(248,)\n",
      "features.shape(62, 598)\n",
      "vad.shape(598,)\n",
      "features.shape(62, 846)\n",
      "vad.shape(846,)\n",
      "features.shape(62, 692)\n",
      "vad.shape(692,)\n"
     ]
    },
    {
     "name": "stderr",
     "output_type": "stream",
     "text": [
      " 72%|███████▏  | 4632/6394 [03:50<00:24, 72.33it/s]"
     ]
    },
    {
     "name": "stdout",
     "output_type": "stream",
     "text": [
      "features.shape(62, 286)\n",
      "vad.shape(286,)\n",
      "features.shape(62, 453)\n",
      "vad.shape(453,)\n",
      "features.shape(62, 338)\n",
      "vad.shape(338,)\n",
      "features.shape(62, 457)\n",
      "vad.shape(457,)\n",
      "features.shape(62, 811)\n",
      "vad.shape(811,)\n",
      "features.shape(62, 317)\n",
      "vad.shape(317,)\n",
      "features.shape(62, 389)\n",
      "vad.shape(389,)\n",
      "features.shape(62, 534)\n",
      "vad.shape(534,)\n",
      "features.shape(62, 359)\n",
      "vad.shape(359,)\n",
      "features.shape(62, 261)\n",
      "vad.shape(261,)\n",
      "features.shape(62, 470)\n",
      "vad.shape(470,)\n",
      "features.shape(62, 393)\n",
      "vad.shape(393,)\n",
      "features.shape(62, 500)\n",
      "vad.shape(500,)\n"
     ]
    },
    {
     "name": "stderr",
     "output_type": "stream",
     "text": [
      " 73%|███████▎  | 4648/6394 [03:50<00:26, 66.44it/s]"
     ]
    },
    {
     "name": "stdout",
     "output_type": "stream",
     "text": [
      "features.shape(62, 457)\n",
      "vad.shape(457,)\n",
      "features.shape(62, 347)\n",
      "vad.shape(347,)\n",
      "features.shape(62, 265)\n",
      "vad.shape(265,)\n",
      "features.shape(62, 372)\n",
      "vad.shape(372,)\n",
      "features.shape(62, 282)\n",
      "vad.shape(282,)\n",
      "features.shape(62, 530)\n",
      "vad.shape(530,)\n",
      "features.shape(62, 402)\n",
      "vad.shape(402,)\n",
      "features.shape(62, 419)\n",
      "vad.shape(419,)\n",
      "features.shape(62, 218)\n",
      "vad.shape(218,)\n",
      "features.shape(62, 474)\n",
      "vad.shape(474,)\n",
      "features.shape(62, 235)\n",
      "vad.shape(235,)\n",
      "features.shape(62, 449)\n",
      "vad.shape(449,)\n",
      "features.shape(62, 500)\n",
      "vad.shape(500,)\n"
     ]
    },
    {
     "name": "stderr",
     "output_type": "stream",
     "text": [
      " 73%|███████▎  | 4663/6394 [03:50<00:28, 61.11it/s]"
     ]
    },
    {
     "name": "stdout",
     "output_type": "stream",
     "text": [
      "features.shape(62, 257)\n",
      "vad.shape(257,)\n",
      "features.shape(62, 589)\n",
      "vad.shape(589,)\n",
      "features.shape(62, 364)\n",
      "vad.shape(364,)\n",
      "features.shape(62, 278)\n",
      "vad.shape(278,)\n",
      "features.shape(62, 295)\n",
      "vad.shape(295,)\n",
      "features.shape(62, 253)\n",
      "vad.shape(253,)\n",
      "features.shape(62, 628)\n",
      "vad.shape(628,)\n",
      "features.shape(62, 414)\n",
      "vad.shape(414,)\n",
      "features.shape(62, 325)\n",
      "vad.shape(325,)\n",
      "features.shape(62, 389)\n",
      "vad.shape(389,)\n",
      "features.shape(62, 359)\n",
      "vad.shape(359,)\n"
     ]
    },
    {
     "name": "stderr",
     "output_type": "stream",
     "text": [
      " 73%|███████▎  | 4672/6394 [03:51<00:25, 67.21it/s]"
     ]
    },
    {
     "name": "stdout",
     "output_type": "stream",
     "text": [
      "features.shape(62, 453)\n",
      "vad.shape(453,)\n",
      "features.shape(62, 257)\n",
      "vad.shape(257,)\n",
      "features.shape(62, 385)\n",
      "vad.shape(385,)\n",
      "features.shape(62, 572)\n",
      "vad.shape(572,)\n",
      "features.shape(62, 406)\n",
      "vad.shape(406,)\n",
      "features.shape(62, 436)\n",
      "vad.shape(436,)\n",
      "features.shape(62, 312)\n",
      "vad.shape(312,)\n",
      "features.shape(62, 530)\n",
      "vad.shape(530,)\n",
      "features.shape(62, 478)\n",
      "vad.shape(478,)\n",
      "features.shape(62, 235)\n",
      "vad.shape(235,)\n",
      "features.shape(62, 487)\n",
      "vad.shape(487,)\n",
      "features.shape(62, 381)\n",
      "vad.shape(381,)\n",
      "features.shape(62, 312)\n",
      "vad.shape(312,)\n",
      "features.shape(62, 432)\n",
      "vad.shape(432,)\n",
      "features.shape(62, 231)\n",
      "vad.shape(231,)\n",
      "features.shape(62, 530)\n",
      "vad.shape(530,)\n",
      "features.shape(62, 355)\n"
     ]
    },
    {
     "name": "stderr",
     "output_type": "stream",
     "text": [
      " 73%|███████▎  | 4688/6394 [03:51<00:24, 68.57it/s]"
     ]
    },
    {
     "name": "stdout",
     "output_type": "stream",
     "text": [
      "vad.shape(355,)\n",
      "features.shape(62, 483)\n",
      "vad.shape(483,)\n",
      "features.shape(62, 517)\n",
      "vad.shape(517,)\n",
      "features.shape(62, 278)\n",
      "vad.shape(278,)\n",
      "features.shape(62, 457)\n",
      "vad.shape(457,)\n",
      "features.shape(62, 432)\n",
      "vad.shape(432,)\n",
      "features.shape(62, 372)\n",
      "vad.shape(372,)\n",
      "features.shape(62, 525)\n",
      "vad.shape(525,)\n",
      "features.shape(62, 560)\n",
      "vad.shape(560,)\n",
      "features.shape(62, 573)\n",
      "vad.shape(573,)\n",
      "features.shape(62, 406)\n",
      "vad.shape(406,)\n",
      "features.shape(62, 475)\n",
      "vad.shape(475,)\n",
      "features.shape(62, 308)\n",
      "vad.shape(308,)\n",
      "features.shape(62, 662)\n",
      "vad.shape(662,)\n",
      "features.shape(62, 423)\n",
      "vad.shape(423,)\n",
      "features.shape(62, 385)\n",
      "vad.shape(385,)\n",
      "features.shape(62, 347)\n",
      "vad.shape(347,)\n",
      "features.shape(62, 282)\n",
      "vad.shape(282,)\n"
     ]
    },
    {
     "name": "stderr",
     "output_type": "stream",
     "text": [
      " 74%|███████▎  | 4708/6394 [03:51<00:21, 77.97it/s]"
     ]
    },
    {
     "name": "stdout",
     "output_type": "stream",
     "text": [
      "features.shape(62, 479)\n",
      "vad.shape(479,)\n",
      "features.shape(62, 308)\n",
      "vad.shape(308,)\n",
      "features.shape(62, 410)\n",
      "vad.shape(410,)\n",
      "features.shape(62, 269)\n",
      "vad.shape(269,)\n",
      "features.shape(62, 321)\n",
      "vad.shape(321,)\n",
      "features.shape(62, 227)\n",
      "vad.shape(227,)\n",
      "features.shape(62, 423)\n",
      "vad.shape(423,)\n",
      "features.shape(62, 291)\n",
      "vad.shape(291,)\n",
      "features.shape(62, 283)\n",
      "vad.shape(283,)\n",
      "features.shape(62, 539)\n",
      "vad.shape(539,)\n",
      "features.shape(62, 342)\n",
      "vad.shape(342,)\n",
      "features.shape(62, 270)\n",
      "vad.shape(270,)\n",
      "features.shape(62, 338)\n",
      "vad.shape(338,)\n",
      "features.shape(62, 457)\n",
      "vad.shape(457,)\n",
      "features.shape(62, 223)\n",
      "vad.shape(223,)\n",
      "features.shape(62, 944)\n",
      "vad.shape(944,)\n"
     ]
    },
    {
     "name": "stderr",
     "output_type": "stream",
     "text": [
      " 74%|███████▍  | 4727/6394 [03:51<00:19, 83.72it/s]"
     ]
    },
    {
     "name": "stdout",
     "output_type": "stream",
     "text": [
      "features.shape(62, 287)\n",
      "vad.shape(287,)\n",
      "features.shape(62, 492)\n",
      "vad.shape(492,)\n",
      "features.shape(62, 376)\n",
      "vad.shape(376,)\n",
      "features.shape(62, 632)\n",
      "vad.shape(632,)\n",
      "features.shape(62, 815)\n",
      "vad.shape(815,)\n",
      "features.shape(62, 500)\n",
      "vad.shape(500,)\n",
      "features.shape(62, 397)\n",
      "vad.shape(397,)\n",
      "features.shape(62, 282)\n",
      "vad.shape(282,)\n",
      "features.shape(62, 295)\n",
      "vad.shape(295,)\n",
      "features.shape(62, 316)\n",
      "vad.shape(316,)\n",
      "features.shape(62, 304)\n",
      "vad.shape(304,)\n",
      "features.shape(62, 333)\n",
      "vad.shape(333,)\n",
      "features.shape(62, 283)\n",
      "vad.shape(283,)\n",
      "features.shape(62, 325)\n",
      "vad.shape(325,)\n",
      "features.shape(62, 547)\n",
      "vad.shape(547,)\n",
      "features.shape(62, 508)\n",
      "vad.shape(508,)\n",
      "features.shape(62, 274)\n",
      "vad.shape(274,)\n",
      "features.shape(62, 333)\n",
      "vad.shape(333,)\n",
      "features.shape(62, 411)\n",
      "vad.shape(411,)\n",
      "features.shape(62, 491)\n",
      "vad.shape(491,)\n",
      "features.shape(62, 385)\n",
      "vad.shape(385,)\n",
      "features.shape(62, 338)\n",
      "vad.shape(338,)\n"
     ]
    },
    {
     "name": "stderr",
     "output_type": "stream",
     "text": [
      " 74%|███████▍  | 4739/6394 [03:51<00:18, 90.81it/s]"
     ]
    },
    {
     "name": "stdout",
     "output_type": "stream",
     "text": [
      "features.shape(62, 363)\n",
      "vad.shape(363,)\n",
      "features.shape(62, 513)\n",
      "vad.shape(513,)\n",
      "features.shape(62, 393)\n",
      "vad.shape(393,)\n",
      "features.shape(62, 449)\n",
      "vad.shape(449,)\n",
      "features.shape(62, 385)\n",
      "vad.shape(385,)\n",
      "features.shape(62, 411)\n",
      "vad.shape(411,)\n",
      "features.shape(62, 299)\n",
      "vad.shape(299,)\n",
      "features.shape(62, 338)\n",
      "vad.shape(338,)\n",
      "features.shape(62, 270)\n",
      "vad.shape(270,)\n",
      "features.shape(62, 329)\n",
      "vad.shape(329,)\n",
      "features.shape(62, 364)\n",
      "vad.shape(364,)\n",
      "features.shape(62, 235)\n",
      "vad.shape(235,)\n",
      "features.shape(62, 534)\n",
      "vad.shape(534,)\n"
     ]
    },
    {
     "name": "stderr",
     "output_type": "stream",
     "text": [
      " 74%|███████▍  | 4761/6394 [03:52<00:20, 81.19it/s]"
     ]
    },
    {
     "name": "stdout",
     "output_type": "stream",
     "text": [
      "features.shape(62, 649)\n",
      "vad.shape(649,)\n",
      "features.shape(62, 491)\n",
      "vad.shape(491,)\n",
      "features.shape(62, 496)\n",
      "vad.shape(496,)\n",
      "features.shape(62, 1093)\n",
      "vad.shape(1093,)\n",
      "features.shape(62, 265)\n",
      "vad.shape(265,)\n",
      "features.shape(62, 509)\n",
      "vad.shape(509,)\n",
      "features.shape(62, 500)\n",
      "vad.shape(500,)\n",
      "features.shape(62, 231)\n",
      "vad.shape(231,)\n",
      "features.shape(62, 398)\n",
      "vad.shape(398,)\n",
      "features.shape(62, 330)\n",
      "vad.shape(330,)\n",
      "features.shape(62, 295)\n",
      "vad.shape(295,)\n",
      "features.shape(62, 444)\n",
      "vad.shape(444,)\n",
      "features.shape(62, 385)\n",
      "vad.shape(385,)\n",
      "features.shape(62, 603)\n",
      "vad.shape(603,)\n",
      "features.shape(62, 334)\n",
      "vad.shape(334,)\n",
      "features.shape(62, 334)\n",
      "vad.shape(334,)\n",
      "features.shape(62, 231)\n",
      "vad.shape(231,)\n",
      "features.shape(62, 346)\n",
      "vad.shape(346,)\n",
      "features.shape(62, 385)\n",
      "vad.shape(385,)\n",
      "features.shape(62, 291)\n",
      "vad.shape(291,)\n",
      "features.shape(62, 419)\n",
      "vad.shape(419,)\n",
      "features.shape(62, 381)\n",
      "vad.shape(381,)\n",
      "features.shape(62, 342)\n",
      "vad.shape(342,)\n",
      "features.shape(62, 632)\n",
      "vad.shape(632,)\n",
      "features.shape(62, 534)\n",
      "vad.shape(534,)\n"
     ]
    },
    {
     "name": "stderr",
     "output_type": "stream",
     "text": [
      " 75%|███████▍  | 4784/6394 [03:52<00:17, 92.69it/s]"
     ]
    },
    {
     "name": "stdout",
     "output_type": "stream",
     "text": [
      "features.shape(62, 551)\n",
      "vad.shape(551,)\n",
      "features.shape(62, 470)\n",
      "vad.shape(470,)\n",
      "features.shape(62, 248)\n",
      "vad.shape(248,)\n",
      "features.shape(62, 598)\n",
      "vad.shape(598,)\n",
      "features.shape(62, 509)\n",
      "vad.shape(509,)\n",
      "features.shape(62, 496)\n",
      "vad.shape(496,)\n",
      "features.shape(62, 274)\n",
      "vad.shape(274,)\n",
      "features.shape(62, 406)\n",
      "vad.shape(406,)\n",
      "features.shape(62, 240)\n",
      "vad.shape(240,)\n",
      "features.shape(62, 517)\n",
      "vad.shape(517,)\n",
      "features.shape(62, 564)\n",
      "vad.shape(564,)\n",
      "features.shape(62, 240)\n",
      "vad.shape(240,)\n",
      "features.shape(62, 453)\n",
      "vad.shape(453,)\n",
      "features.shape(62, 253)\n",
      "vad.shape(253,)\n",
      "features.shape(62, 402)\n",
      "vad.shape(402,)\n",
      "features.shape(62, 265)\n",
      "vad.shape(265,)\n",
      "features.shape(62, 372)\n",
      "vad.shape(372,)\n",
      "features.shape(62, 513)\n",
      "vad.shape(513,)\n",
      "features.shape(62, 295)\n"
     ]
    },
    {
     "name": "stderr",
     "output_type": "stream",
     "text": [
      " 75%|███████▍  | 4794/6394 [03:52<00:20, 79.65it/s]"
     ]
    },
    {
     "name": "stdout",
     "output_type": "stream",
     "text": [
      "vad.shape(295,)\n",
      "features.shape(62, 479)\n",
      "vad.shape(479,)\n",
      "features.shape(62, 287)\n",
      "vad.shape(287,)\n",
      "features.shape(62, 295)\n",
      "vad.shape(295,)\n",
      "features.shape(62, 325)\n",
      "vad.shape(325,)\n",
      "features.shape(62, 935)\n",
      "vad.shape(935,)\n",
      "features.shape(62, 389)\n",
      "vad.shape(389,)\n",
      "features.shape(62, 363)\n",
      "vad.shape(363,)\n",
      "features.shape(62, 351)\n",
      "vad.shape(351,)\n",
      "features.shape(62, 287)\n",
      "vad.shape(287,)\n"
     ]
    },
    {
     "name": "stderr",
     "output_type": "stream",
     "text": [
      " 75%|███████▌  | 4817/6394 [03:52<00:18, 84.52it/s]"
     ]
    },
    {
     "name": "stdout",
     "output_type": "stream",
     "text": [
      "features.shape(62, 1400)\n",
      "vad.shape(1400,)\n",
      "features.shape(62, 325)\n",
      "vad.shape(325,)\n",
      "features.shape(62, 372)\n",
      "vad.shape(372,)\n",
      "features.shape(62, 368)\n",
      "vad.shape(368,)\n",
      "features.shape(62, 402)\n",
      "vad.shape(402,)\n",
      "features.shape(62, 257)\n",
      "vad.shape(257,)\n",
      "features.shape(62, 308)\n",
      "vad.shape(308,)\n",
      "features.shape(62, 261)\n",
      "vad.shape(261,)\n",
      "features.shape(62, 432)\n",
      "vad.shape(432,)\n",
      "features.shape(62, 261)\n",
      "vad.shape(261,)\n",
      "features.shape(62, 551)\n",
      "vad.shape(551,)\n",
      "features.shape(62, 244)\n",
      "vad.shape(244,)\n",
      "features.shape(62, 248)\n",
      "vad.shape(248,)\n",
      "features.shape(62, 543)\n",
      "vad.shape(543,)\n",
      "features.shape(62, 564)\n",
      "vad.shape(564,)\n",
      "features.shape(62, 402)\n",
      "vad.shape(402,)\n",
      "features.shape(62, 274)\n",
      "vad.shape(274,)\n",
      "features.shape(62, 350)\n",
      "vad.shape(350,)\n",
      "features.shape(62, 347)\n",
      "vad.shape(347,)\n",
      "features.shape(62, 334)\n",
      "vad.shape(334,)\n",
      "features.shape(62, 475)\n",
      "vad.shape(475,)\n",
      "features.shape(62, 308)\n",
      "vad.shape(308,)\n",
      "features.shape(62, 380)\n",
      "vad.shape(380,)\n",
      "features.shape(62, 300)\n",
      "vad.shape(300,)\n",
      "features.shape(62, 300)\n",
      "vad.shape(300,)\n",
      "features.shape(62, 517)\n",
      "vad.shape(517,)\n",
      "features.shape(62, 201)\n",
      "vad.shape(201,)\n"
     ]
    },
    {
     "name": "stderr",
     "output_type": "stream",
     "text": [
      " 76%|███████▌  | 4840/6394 [03:53<00:17, 88.57it/s]"
     ]
    },
    {
     "name": "stdout",
     "output_type": "stream",
     "text": [
      "features.shape(62, 376)\n",
      "vad.shape(376,)\n",
      "features.shape(62, 265)\n",
      "vad.shape(265,)\n",
      "features.shape(62, 278)\n",
      "vad.shape(278,)\n",
      "features.shape(62, 282)\n",
      "vad.shape(282,)\n",
      "features.shape(62, 462)\n",
      "vad.shape(462,)\n",
      "features.shape(62, 244)\n",
      "vad.shape(244,)\n",
      "features.shape(62, 620)\n",
      "vad.shape(620,)\n",
      "features.shape(62, 410)\n",
      "vad.shape(410,)\n",
      "features.shape(62, 278)\n",
      "vad.shape(278,)\n",
      "features.shape(62, 270)\n",
      "vad.shape(270,)\n",
      "features.shape(62, 453)\n",
      "vad.shape(453,)\n",
      "features.shape(62, 594)\n",
      "vad.shape(594,)\n",
      "features.shape(62, 534)\n",
      "vad.shape(534,)\n",
      "features.shape(62, 487)\n",
      "vad.shape(487,)\n",
      "features.shape(62, 444)\n",
      "vad.shape(444,)\n",
      "features.shape(62, 291)\n",
      "vad.shape(291,)\n",
      "features.shape(62, 590)\n"
     ]
    },
    {
     "name": "stderr",
     "output_type": "stream",
     "text": [
      " 76%|███████▌  | 4862/6394 [03:53<00:16, 95.72it/s]"
     ]
    },
    {
     "name": "stdout",
     "output_type": "stream",
     "text": [
      "vad.shape(590,)\n",
      "features.shape(62, 248)\n",
      "vad.shape(248,)\n",
      "features.shape(62, 236)\n",
      "vad.shape(236,)\n",
      "features.shape(62, 295)\n",
      "vad.shape(295,)\n",
      "features.shape(62, 312)\n",
      "vad.shape(312,)\n",
      "features.shape(62, 457)\n",
      "vad.shape(457,)\n",
      "features.shape(62, 330)\n",
      "vad.shape(330,)\n",
      "features.shape(62, 236)\n",
      "vad.shape(236,)\n",
      "features.shape(62, 483)\n",
      "vad.shape(483,)\n",
      "features.shape(62, 274)\n",
      "vad.shape(274,)\n",
      "features.shape(62, 551)\n",
      "vad.shape(551,)\n",
      "features.shape(62, 329)\n",
      "vad.shape(329,)\n",
      "features.shape(62, 385)\n",
      "vad.shape(385,)\n",
      "features.shape(62, 316)\n",
      "vad.shape(316,)\n",
      "features.shape(62, 210)\n",
      "vad.shape(210,)\n",
      "features.shape(62, 261)\n",
      "vad.shape(261,)\n",
      "features.shape(62, 440)\n",
      "vad.shape(440,)\n",
      "features.shape(62, 355)\n",
      "vad.shape(355,)\n",
      "features.shape(62, 419)\n",
      "vad.shape(419,)\n",
      "features.shape(62, 556)\n",
      "vad.shape(556,)\n",
      "features.shape(62, 291)\n",
      "vad.shape(291,)\n",
      "features.shape(62, 517)\n",
      "vad.shape(517,)\n",
      "features.shape(62, 269)\n",
      "vad.shape(269,)\n",
      "features.shape(62, 363)\n"
     ]
    },
    {
     "name": "stderr",
     "output_type": "stream",
     "text": [
      " 76%|███████▋  | 4882/6394 [03:53<00:17, 85.44it/s]"
     ]
    },
    {
     "name": "stdout",
     "output_type": "stream",
     "text": [
      "vad.shape(363,)\n",
      "features.shape(62, 312)\n",
      "vad.shape(312,)\n",
      "features.shape(62, 372)\n",
      "vad.shape(372,)\n",
      "features.shape(62, 534)\n",
      "vad.shape(534,)\n",
      "features.shape(62, 376)\n",
      "vad.shape(376,)\n",
      "features.shape(62, 338)\n",
      "vad.shape(338,)\n",
      "features.shape(62, 364)\n",
      "vad.shape(364,)\n",
      "features.shape(62, 389)\n",
      "vad.shape(389,)\n",
      "features.shape(62, 398)\n",
      "vad.shape(398,)\n",
      "features.shape(62, 359)\n",
      "vad.shape(359,)\n",
      "features.shape(62, 479)\n",
      "vad.shape(479,)\n",
      "features.shape(62, 363)\n",
      "vad.shape(363,)\n",
      "features.shape(62, 338)\n",
      "vad.shape(338,)\n",
      "features.shape(62, 359)\n",
      "vad.shape(359,)\n",
      "features.shape(62, 491)\n",
      "vad.shape(491,)\n"
     ]
    },
    {
     "name": "stderr",
     "output_type": "stream",
     "text": [
      " 76%|███████▋  | 4891/6394 [03:53<00:19, 75.55it/s]"
     ]
    },
    {
     "name": "stdout",
     "output_type": "stream",
     "text": [
      "features.shape(62, 235)\n",
      "vad.shape(235,)\n",
      "features.shape(62, 449)\n",
      "vad.shape(449,)\n",
      "features.shape(62, 530)\n",
      "vad.shape(530,)\n",
      "features.shape(62, 513)\n",
      "vad.shape(513,)\n",
      "features.shape(62, 922)\n",
      "vad.shape(922,)\n",
      "features.shape(62, 440)\n",
      "vad.shape(440,)\n",
      "features.shape(62, 521)\n",
      "vad.shape(521,)\n",
      "features.shape(62, 530)\n",
      "vad.shape(530,)\n",
      "features.shape(62, 1324)\n",
      "vad.shape(1324,)\n",
      "features.shape(62, 291)\n",
      "vad.shape(291,)\n"
     ]
    },
    {
     "name": "stderr",
     "output_type": "stream",
     "text": [
      " 77%|███████▋  | 4899/6394 [03:53<00:24, 62.23it/s]"
     ]
    },
    {
     "name": "stdout",
     "output_type": "stream",
     "text": [
      "features.shape(62, 478)\n",
      "vad.shape(478,)\n",
      "features.shape(62, 393)\n",
      "vad.shape(393,)\n",
      "features.shape(62, 517)\n",
      "vad.shape(517,)\n",
      "features.shape(62, 222)\n",
      "vad.shape(222,)\n",
      "features.shape(62, 284)\n",
      "vad.shape(284,)\n",
      "features.shape(62, 278)\n",
      "vad.shape(278,)\n",
      "features.shape(62, 214)\n",
      "vad.shape(214,)\n",
      "features.shape(62, 265)\n",
      "vad.shape(265,)\n",
      "features.shape(62, 206)\n",
      "vad.shape(206,)\n",
      "features.shape(62, 304)\n",
      "vad.shape(304,)\n",
      "features.shape(62, 317)\n",
      "vad.shape(317,)\n",
      "features.shape(62, 257)\n",
      "vad.shape(257,)\n",
      "features.shape(62, 265)\n",
      "vad.shape(265,)\n",
      "features.shape(62, 240)\n",
      "vad.shape(240,)\n",
      "features.shape(62, 184)\n",
      "vad.shape(184,)\n"
     ]
    },
    {
     "name": "stderr",
     "output_type": "stream",
     "text": [
      " 77%|███████▋  | 4921/6394 [03:54<00:18, 80.81it/s]"
     ]
    },
    {
     "name": "stdout",
     "output_type": "stream",
     "text": [
      "features.shape(62, 248)\n",
      "vad.shape(248,)\n",
      "features.shape(62, 329)\n",
      "vad.shape(329,)\n",
      "features.shape(62, 398)\n",
      "vad.shape(398,)\n",
      "features.shape(62, 240)\n",
      "vad.shape(240,)\n",
      "features.shape(62, 269)\n",
      "vad.shape(269,)\n",
      "features.shape(62, 291)\n",
      "vad.shape(291,)\n",
      "features.shape(62, 282)\n",
      "vad.shape(282,)\n",
      "features.shape(62, 283)\n",
      "vad.shape(283,)\n",
      "features.shape(62, 252)\n",
      "vad.shape(252,)\n",
      "features.shape(62, 316)\n",
      "vad.shape(316,)\n",
      "features.shape(62, 410)\n",
      "vad.shape(410,)\n",
      "features.shape(62, 312)\n",
      "vad.shape(312,)\n",
      "features.shape(62, 304)\n",
      "vad.shape(304,)\n",
      "features.shape(62, 282)\n",
      "vad.shape(282,)\n",
      "features.shape(62, 265)\n",
      "vad.shape(265,)\n",
      "features.shape(62, 274)\n",
      "vad.shape(274,)\n",
      "features.shape(62, 278)\n",
      "vad.shape(278,)\n",
      "features.shape(62, 308)\n",
      "vad.shape(308,)\n",
      "features.shape(62, 270)\n",
      "vad.shape(270,)\n",
      "features.shape(62, 308)\n",
      "vad.shape(308,)\n",
      "features.shape(62, 257)\n",
      "vad.shape(257,)\n",
      "features.shape(62, 355)\n",
      "vad.shape(355,)\n",
      "features.shape(62, 521)\n",
      "vad.shape(521,)\n",
      "features.shape(62, 334)\n",
      "vad.shape(334,)\n",
      "features.shape(62, 158)\n",
      "vad.shape(158,)\n",
      "features.shape(62, 312)\n",
      "vad.shape(312,)\n",
      "features.shape(62, 295)\n",
      "vad.shape(295,)\n",
      "features.shape(62, 270)\n",
      "vad.shape(270,)\n"
     ]
    },
    {
     "name": "stderr",
     "output_type": "stream",
     "text": [
      " 77%|███████▋  | 4948/6394 [03:54<00:14, 102.87it/s]"
     ]
    },
    {
     "name": "stdout",
     "output_type": "stream",
     "text": [
      "features.shape(62, 265)\n",
      "vad.shape(265,)\n",
      "features.shape(62, 321)\n",
      "vad.shape(321,)\n",
      "features.shape(62, 317)\n",
      "vad.shape(317,)\n",
      "features.shape(62, 423)\n",
      "vad.shape(423,)\n",
      "features.shape(62, 509)\n",
      "vad.shape(509,)\n",
      "features.shape(62, 240)\n",
      "vad.shape(240,)\n",
      "features.shape(62, 304)\n",
      "vad.shape(304,)\n",
      "features.shape(62, 244)\n",
      "vad.shape(244,)\n",
      "features.shape(62, 317)\n",
      "vad.shape(317,)\n",
      "features.shape(62, 244)\n",
      "vad.shape(244,)\n",
      "features.shape(62, 265)\n",
      "vad.shape(265,)\n",
      "features.shape(62, 338)\n",
      "vad.shape(338,)\n",
      "features.shape(62, 385)\n",
      "vad.shape(385,)\n",
      "features.shape(62, 159)\n",
      "vad.shape(159,)\n",
      "features.shape(62, 193)\n",
      "vad.shape(193,)\n",
      "features.shape(62, 197)\n",
      "vad.shape(197,)\n",
      "features.shape(62, 286)\n",
      "vad.shape(286,)\n",
      "features.shape(62, 295)\n",
      "vad.shape(295,)\n",
      "features.shape(62, 227)\n",
      "vad.shape(227,)\n",
      "features.shape(62, 227)\n"
     ]
    },
    {
     "name": "stderr",
     "output_type": "stream",
     "text": [
      " 78%|███████▊  | 4959/6394 [03:54<00:17, 81.89it/s] "
     ]
    },
    {
     "name": "stdout",
     "output_type": "stream",
     "text": [
      "vad.shape(227,)\n",
      "features.shape(62, 321)\n",
      "vad.shape(321,)\n",
      "features.shape(62, 210)\n",
      "vad.shape(210,)\n",
      "features.shape(62, 269)\n",
      "vad.shape(269,)\n",
      "features.shape(62, 338)\n",
      "vad.shape(338,)\n",
      "features.shape(62, 257)\n",
      "vad.shape(257,)\n",
      "features.shape(62, 291)\n",
      "vad.shape(291,)\n",
      "features.shape(62, 163)\n",
      "vad.shape(163,)\n",
      "features.shape(62, 308)\n",
      "vad.shape(308,)\n",
      "features.shape(62, 176)\n",
      "vad.shape(176,)\n",
      "features.shape(62, 317)\n"
     ]
    },
    {
     "name": "stderr",
     "output_type": "stream",
     "text": [
      " 78%|███████▊  | 4981/6394 [03:54<00:17, 82.81it/s]"
     ]
    },
    {
     "name": "stdout",
     "output_type": "stream",
     "text": [
      "vad.shape(317,)\n",
      "features.shape(62, 257)\n",
      "vad.shape(257,)\n",
      "features.shape(62, 171)\n",
      "vad.shape(171,)\n",
      "features.shape(62, 295)\n",
      "vad.shape(295,)\n",
      "features.shape(62, 223)\n",
      "vad.shape(223,)\n",
      "features.shape(62, 223)\n",
      "vad.shape(223,)\n",
      "features.shape(62, 218)\n",
      "vad.shape(218,)\n",
      "features.shape(62, 304)\n",
      "vad.shape(304,)\n",
      "features.shape(62, 218)\n",
      "vad.shape(218,)\n",
      "features.shape(62, 188)\n",
      "vad.shape(188,)\n",
      "features.shape(62, 995)\n",
      "vad.shape(995,)\n",
      "features.shape(62, 295)\n",
      "vad.shape(295,)\n",
      "features.shape(62, 253)\n",
      "vad.shape(253,)\n",
      "features.shape(62, 227)\n",
      "vad.shape(227,)\n",
      "features.shape(62, 184)\n",
      "vad.shape(184,)\n",
      "features.shape(62, 255)\n",
      "vad.shape(255,)\n",
      "features.shape(62, 295)\n",
      "vad.shape(295,)\n",
      "features.shape(62, 619)\n",
      "vad.shape(619,)\n",
      "features.shape(62, 261)\n",
      "vad.shape(261,)\n",
      "features.shape(62, 380)\n",
      "vad.shape(380,)\n",
      "features.shape(62, 176)\n",
      "vad.shape(176,)\n",
      "features.shape(62, 304)\n"
     ]
    },
    {
     "name": "stderr",
     "output_type": "stream",
     "text": [
      " 78%|███████▊  | 5002/6394 [03:55<00:16, 86.96it/s]"
     ]
    },
    {
     "name": "stdout",
     "output_type": "stream",
     "text": [
      "vad.shape(304,)\n",
      "features.shape(62, 223)\n",
      "vad.shape(223,)\n",
      "features.shape(62, 235)\n",
      "vad.shape(235,)\n",
      "features.shape(62, 368)\n",
      "vad.shape(368,)\n",
      "features.shape(62, 231)\n",
      "vad.shape(231,)\n",
      "features.shape(62, 346)\n",
      "vad.shape(346,)\n",
      "features.shape(62, 291)\n",
      "vad.shape(291,)\n",
      "features.shape(62, 765)\n",
      "vad.shape(765,)\n",
      "features.shape(62, 257)\n",
      "vad.shape(257,)\n",
      "features.shape(62, 734)\n",
      "vad.shape(734,)\n",
      "features.shape(62, 534)\n",
      "vad.shape(534,)\n",
      "features.shape(62, 201)\n",
      "vad.shape(201,)\n",
      "features.shape(62, 372)\n",
      "vad.shape(372,)\n",
      "features.shape(62, 222)\n",
      "vad.shape(222,)\n",
      "features.shape(62, 253)\n",
      "vad.shape(253,)\n",
      "features.shape(62, 206)\n",
      "vad.shape(206,)\n",
      "features.shape(62, 628)\n",
      "vad.shape(628,)\n",
      "features.shape(62, 274)\n",
      "vad.shape(274,)\n",
      "features.shape(62, 316)\n",
      "vad.shape(316,)\n",
      "features.shape(62, 236)\n"
     ]
    },
    {
     "name": "stderr",
     "output_type": "stream",
     "text": [
      " 79%|███████▊  | 5023/6394 [03:55<00:15, 90.70it/s]"
     ]
    },
    {
     "name": "stdout",
     "output_type": "stream",
     "text": [
      "vad.shape(236,)\n",
      "features.shape(62, 329)\n",
      "vad.shape(329,)\n",
      "features.shape(62, 304)\n",
      "vad.shape(304,)\n",
      "features.shape(62, 235)\n",
      "vad.shape(235,)\n",
      "features.shape(62, 240)\n",
      "vad.shape(240,)\n",
      "features.shape(62, 269)\n",
      "vad.shape(269,)\n",
      "features.shape(62, 346)\n",
      "vad.shape(346,)\n",
      "features.shape(62, 269)\n",
      "vad.shape(269,)\n",
      "features.shape(62, 231)\n",
      "vad.shape(231,)\n",
      "features.shape(62, 295)\n",
      "vad.shape(295,)\n",
      "features.shape(62, 257)\n",
      "vad.shape(257,)\n",
      "features.shape(62, 231)\n",
      "vad.shape(231,)\n",
      "features.shape(62, 295)\n",
      "vad.shape(295,)\n",
      "features.shape(62, 193)\n",
      "vad.shape(193,)\n",
      "features.shape(62, 359)\n",
      "vad.shape(359,)\n",
      "features.shape(62, 248)\n",
      "vad.shape(248,)\n",
      "features.shape(62, 308)\n",
      "vad.shape(308,)\n",
      "features.shape(62, 321)\n",
      "vad.shape(321,)\n",
      "features.shape(62, 248)\n",
      "vad.shape(248,)\n",
      "features.shape(62, 236)\n",
      "vad.shape(236,)\n",
      "features.shape(62, 380)\n",
      "vad.shape(380,)\n"
     ]
    },
    {
     "name": "stderr",
     "output_type": "stream",
     "text": [
      " 79%|███████▊  | 5033/6394 [03:55<00:18, 72.98it/s]"
     ]
    },
    {
     "name": "stdout",
     "output_type": "stream",
     "text": [
      "features.shape(62, 368)\n",
      "vad.shape(368,)\n",
      "features.shape(62, 304)\n",
      "vad.shape(304,)\n",
      "features.shape(62, 265)\n",
      "vad.shape(265,)\n",
      "features.shape(62, 214)\n",
      "vad.shape(214,)\n",
      "features.shape(62, 289)\n",
      "vad.shape(289,)\n",
      "features.shape(62, 197)\n",
      "vad.shape(197,)\n",
      "features.shape(62, 253)\n",
      "vad.shape(253,)\n",
      "features.shape(62, 329)\n",
      "vad.shape(329,)\n",
      "features.shape(62, 282)\n",
      "vad.shape(282,)\n",
      "features.shape(62, 287)\n",
      "vad.shape(287,)\n"
     ]
    },
    {
     "name": "stderr",
     "output_type": "stream",
     "text": [
      " 79%|███████▉  | 5051/6394 [03:55<00:17, 76.49it/s]"
     ]
    },
    {
     "name": "stdout",
     "output_type": "stream",
     "text": [
      "features.shape(62, 346)\n",
      "vad.shape(346,)\n",
      "features.shape(62, 236)\n",
      "vad.shape(236,)\n",
      "features.shape(62, 222)\n",
      "vad.shape(222,)\n",
      "features.shape(62, 300)\n",
      "vad.shape(300,)\n",
      "features.shape(62, 321)\n",
      "vad.shape(321,)\n",
      "features.shape(62, 385)\n",
      "vad.shape(385,)\n",
      "features.shape(62, 217)\n",
      "vad.shape(217,)\n",
      "features.shape(62, 218)\n",
      "vad.shape(218,)\n",
      "features.shape(62, 235)\n",
      "vad.shape(235,)\n",
      "features.shape(62, 252)\n",
      "vad.shape(252,)\n",
      "features.shape(62, 248)\n",
      "vad.shape(248,)\n",
      "features.shape(62, 287)\n",
      "vad.shape(287,)\n",
      "features.shape(62, 227)\n",
      "vad.shape(227,)\n",
      "features.shape(62, 265)\n",
      "vad.shape(265,)\n",
      "features.shape(62, 351)\n",
      "vad.shape(351,)\n",
      "features.shape(62, 295)\n",
      "vad.shape(295,)\n",
      "features.shape(62, 265)\n",
      "vad.shape(265,)\n",
      "features.shape(62, 291)\n",
      "vad.shape(291,)\n"
     ]
    },
    {
     "name": "stderr",
     "output_type": "stream",
     "text": [
      " 79%|███████▉  | 5071/6394 [03:55<00:15, 86.89it/s]"
     ]
    },
    {
     "name": "stdout",
     "output_type": "stream",
     "text": [
      "features.shape(62, 210)\n",
      "vad.shape(210,)\n",
      "features.shape(62, 1361)\n",
      "vad.shape(1361,)\n",
      "features.shape(62, 197)\n",
      "vad.shape(197,)\n",
      "features.shape(62, 248)\n",
      "vad.shape(248,)\n",
      "features.shape(62, 210)\n",
      "vad.shape(210,)\n",
      "features.shape(62, 321)\n",
      "vad.shape(321,)\n",
      "features.shape(62, 299)\n",
      "vad.shape(299,)\n",
      "features.shape(62, 248)\n",
      "vad.shape(248,)\n",
      "features.shape(62, 257)\n",
      "vad.shape(257,)\n",
      "features.shape(62, 278)\n",
      "vad.shape(278,)\n",
      "features.shape(62, 299)\n",
      "vad.shape(299,)\n",
      "features.shape(62, 197)\n",
      "vad.shape(197,)\n",
      "features.shape(62, 295)\n",
      "vad.shape(295,)\n",
      "features.shape(62, 269)\n",
      "vad.shape(269,)\n",
      "features.shape(62, 266)\n",
      "vad.shape(266,)\n",
      "features.shape(62, 317)\n",
      "vad.shape(317,)\n",
      "features.shape(62, 300)\n",
      "vad.shape(300,)\n",
      "features.shape(62, 201)\n",
      "vad.shape(201,)\n",
      "features.shape(62, 393)\n",
      "vad.shape(393,)\n",
      "features.shape(62, 346)\n",
      "vad.shape(346,)\n",
      "features.shape(62, 394)\n",
      "vad.shape(394,)\n",
      "features.shape(62, 278)\n",
      "vad.shape(278,)\n",
      "features.shape(62, 248)\n",
      "vad.shape(248,)\n",
      "features.shape(62, 347)\n",
      "vad.shape(347,)\n",
      "features.shape(62, 816)\n",
      "vad.shape(816,)\n"
     ]
    },
    {
     "name": "stderr",
     "output_type": "stream",
     "text": [
      " 80%|███████▉  | 5093/6394 [03:56<00:13, 95.02it/s]"
     ]
    },
    {
     "name": "stdout",
     "output_type": "stream",
     "text": [
      "features.shape(62, 299)\n",
      "vad.shape(299,)\n",
      "features.shape(62, 231)\n",
      "vad.shape(231,)\n",
      "features.shape(62, 297)\n",
      "vad.shape(297,)\n",
      "features.shape(62, 321)\n",
      "vad.shape(321,)\n",
      "features.shape(62, 321)\n",
      "vad.shape(321,)\n",
      "features.shape(62, 244)\n",
      "vad.shape(244,)\n",
      "features.shape(62, 274)\n",
      "vad.shape(274,)\n",
      "features.shape(62, 321)\n",
      "vad.shape(321,)\n",
      "features.shape(62, 189)\n",
      "vad.shape(189,)\n",
      "features.shape(62, 248)\n",
      "vad.shape(248,)\n",
      "features.shape(62, 317)\n",
      "vad.shape(317,)\n",
      "features.shape(62, 244)\n",
      "vad.shape(244,)\n",
      "features.shape(62, 274)\n",
      "vad.shape(274,)\n",
      "features.shape(62, 295)\n",
      "vad.shape(295,)\n",
      "features.shape(62, 295)\n",
      "vad.shape(295,)\n",
      "features.shape(62, 261)\n",
      "vad.shape(261,)\n",
      "features.shape(62, 283)\n",
      "vad.shape(283,)\n",
      "features.shape(62, 321)\n",
      "vad.shape(321,)\n",
      "features.shape(62, 513)\n",
      "vad.shape(513,)\n",
      "features.shape(62, 334)\n"
     ]
    },
    {
     "name": "stderr",
     "output_type": "stream",
     "text": [
      " 80%|████████  | 5117/6394 [03:56<00:12, 103.39it/s]"
     ]
    },
    {
     "name": "stdout",
     "output_type": "stream",
     "text": [
      "vad.shape(334,)\n",
      "features.shape(62, 278)\n",
      "vad.shape(278,)\n",
      "features.shape(62, 325)\n",
      "vad.shape(325,)\n",
      "features.shape(62, 253)\n",
      "vad.shape(253,)\n",
      "features.shape(62, 397)\n",
      "vad.shape(397,)\n",
      "features.shape(62, 219)\n",
      "vad.shape(219,)\n",
      "features.shape(62, 223)\n",
      "vad.shape(223,)\n",
      "features.shape(62, 167)\n",
      "vad.shape(167,)\n",
      "features.shape(62, 278)\n",
      "vad.shape(278,)\n",
      "features.shape(62, 219)\n",
      "vad.shape(219,)\n",
      "features.shape(62, 214)\n",
      "vad.shape(214,)\n",
      "features.shape(62, 202)\n",
      "vad.shape(202,)\n",
      "features.shape(62, 171)\n",
      "vad.shape(171,)\n",
      "features.shape(62, 244)\n",
      "vad.shape(244,)\n",
      "features.shape(62, 316)\n",
      "vad.shape(316,)\n",
      "features.shape(62, 841)\n",
      "vad.shape(841,)\n",
      "features.shape(62, 285)\n",
      "vad.shape(285,)\n",
      "features.shape(62, 223)\n",
      "vad.shape(223,)\n",
      "features.shape(62, 248)\n",
      "vad.shape(248,)\n",
      "features.shape(62, 223)\n",
      "vad.shape(223,)\n",
      "features.shape(62, 973)\n",
      "vad.shape(973,)\n",
      "features.shape(62, 252)\n",
      "vad.shape(252,)\n",
      "features.shape(62, 397)\n",
      "vad.shape(397,)\n",
      "features.shape(62, 270)\n"
     ]
    },
    {
     "name": "stderr",
     "output_type": "stream",
     "text": [
      " 80%|████████  | 5128/6394 [03:56<00:12, 100.48it/s]"
     ]
    },
    {
     "name": "stdout",
     "output_type": "stream",
     "text": [
      "vad.shape(270,)\n",
      "features.shape(62, 291)\n",
      "vad.shape(291,)\n",
      "features.shape(62, 363)\n",
      "vad.shape(363,)\n",
      "features.shape(62, 799)\n",
      "vad.shape(799,)\n",
      "features.shape(62, 444)\n",
      "vad.shape(444,)\n",
      "features.shape(62, 278)\n",
      "vad.shape(278,)\n",
      "features.shape(62, 270)\n",
      "vad.shape(270,)\n",
      "features.shape(62, 274)\n",
      "vad.shape(274,)\n",
      "features.shape(62, 287)\n",
      "vad.shape(287,)\n",
      "features.shape(62, 338)\n",
      "vad.shape(338,)\n",
      "features.shape(62, 219)\n",
      "vad.shape(219,)\n",
      "features.shape(62, 312)\n",
      "vad.shape(312,)\n",
      "features.shape(62, 214)\n",
      "vad.shape(214,)\n",
      "features.shape(62, 214)\n",
      "vad.shape(214,)\n",
      "features.shape(62, 227)\n",
      "vad.shape(227,)\n",
      "features.shape(62, 283)\n",
      "vad.shape(283,)\n",
      "features.shape(62, 244)\n",
      "vad.shape(244,)\n",
      "features.shape(62, 218)\n",
      "vad.shape(218,)\n"
     ]
    },
    {
     "name": "stderr",
     "output_type": "stream",
     "text": [
      " 81%|████████  | 5152/6394 [03:56<00:11, 106.67it/s]"
     ]
    },
    {
     "name": "stdout",
     "output_type": "stream",
     "text": [
      "features.shape(62, 380)\n",
      "vad.shape(380,)\n",
      "features.shape(62, 287)\n",
      "vad.shape(287,)\n",
      "features.shape(62, 192)\n",
      "vad.shape(192,)\n",
      "features.shape(62, 278)\n",
      "vad.shape(278,)\n",
      "features.shape(62, 244)\n",
      "vad.shape(244,)\n",
      "features.shape(62, 197)\n",
      "vad.shape(197,)\n",
      "features.shape(62, 231)\n",
      "vad.shape(231,)\n",
      "features.shape(62, 282)\n",
      "vad.shape(282,)\n",
      "features.shape(62, 346)\n",
      "vad.shape(346,)\n",
      "features.shape(62, 206)\n",
      "vad.shape(206,)\n",
      "features.shape(62, 295)\n",
      "vad.shape(295,)\n",
      "features.shape(62, 287)\n",
      "vad.shape(287,)\n",
      "features.shape(62, 278)\n",
      "vad.shape(278,)\n",
      "features.shape(62, 257)\n",
      "vad.shape(257,)\n",
      "features.shape(62, 210)\n",
      "vad.shape(210,)\n",
      "features.shape(62, 227)\n",
      "vad.shape(227,)\n",
      "features.shape(62, 210)\n",
      "vad.shape(210,)\n",
      "features.shape(62, 257)\n",
      "vad.shape(257,)\n",
      "features.shape(62, 325)\n",
      "vad.shape(325,)\n",
      "features.shape(62, 368)\n",
      "vad.shape(368,)\n",
      "features.shape(62, 278)\n",
      "vad.shape(278,)\n",
      "features.shape(62, 329)\n",
      "vad.shape(329,)\n",
      "features.shape(62, 284)\n",
      "vad.shape(284,)\n",
      "features.shape(62, 291)\n",
      "vad.shape(291,)\n",
      "features.shape(62, 223)\n",
      "vad.shape(223,)\n",
      "features.shape(62, 265)\n",
      "vad.shape(265,)\n"
     ]
    },
    {
     "name": "stderr",
     "output_type": "stream",
     "text": [
      " 81%|████████  | 5178/6394 [03:56<00:12, 94.91it/s] "
     ]
    },
    {
     "name": "stdout",
     "output_type": "stream",
     "text": [
      "features.shape(62, 257)\n",
      "vad.shape(257,)\n",
      "features.shape(62, 231)\n",
      "vad.shape(231,)\n",
      "features.shape(62, 172)\n",
      "vad.shape(172,)\n",
      "features.shape(62, 675)\n",
      "vad.shape(675,)\n",
      "features.shape(62, 1183)\n",
      "vad.shape(1183,)\n",
      "features.shape(62, 295)\n",
      "vad.shape(295,)\n",
      "features.shape(62, 317)\n",
      "vad.shape(317,)\n",
      "features.shape(62, 189)\n",
      "vad.shape(189,)\n",
      "features.shape(62, 253)\n",
      "vad.shape(253,)\n",
      "features.shape(62, 351)\n",
      "vad.shape(351,)\n",
      "features.shape(62, 304)\n",
      "vad.shape(304,)\n",
      "features.shape(62, 380)\n",
      "vad.shape(380,)\n",
      "features.shape(62, 201)\n",
      "vad.shape(201,)\n",
      "features.shape(62, 282)\n",
      "vad.shape(282,)\n"
     ]
    },
    {
     "name": "stderr",
     "output_type": "stream",
     "text": [
      " 81%|████████  | 5189/6394 [03:57<00:12, 95.82it/s]"
     ]
    },
    {
     "name": "stdout",
     "output_type": "stream",
     "text": [
      "features.shape(62, 184)\n",
      "vad.shape(184,)\n",
      "features.shape(62, 300)\n",
      "vad.shape(300,)\n",
      "features.shape(62, 282)\n",
      "vad.shape(282,)\n",
      "features.shape(62, 193)\n",
      "vad.shape(193,)\n",
      "features.shape(62, 295)\n",
      "vad.shape(295,)\n",
      "features.shape(62, 214)\n",
      "vad.shape(214,)\n",
      "features.shape(62, 248)\n",
      "vad.shape(248,)\n",
      "features.shape(62, 278)\n",
      "vad.shape(278,)\n",
      "features.shape(62, 342)\n",
      "vad.shape(342,)\n",
      "features.shape(62, 508)\n",
      "vad.shape(508,)\n",
      "features.shape(62, 236)\n",
      "vad.shape(236,)\n",
      "features.shape(62, 295)\n",
      "vad.shape(295,)\n",
      "features.shape(62, 312)\n",
      "vad.shape(312,)\n",
      "features.shape(62, 338)\n",
      "vad.shape(338,)\n",
      "features.shape(62, 211)\n",
      "vad.shape(211,)\n",
      "features.shape(62, 265)\n",
      "vad.shape(265,)\n",
      "features.shape(62, 180)\n",
      "vad.shape(180,)\n",
      "features.shape(62, 205)\n",
      "vad.shape(205,)\n",
      "features.shape(62, 244)\n",
      "vad.shape(244,)\n",
      "features.shape(62, 223)\n",
      "vad.shape(223,)\n",
      "features.shape(62, 188)\n",
      "vad.shape(188,)\n"
     ]
    },
    {
     "name": "stderr",
     "output_type": "stream",
     "text": [
      " 81%|████████▏ | 5210/6394 [03:57<00:13, 86.57it/s]"
     ]
    },
    {
     "name": "stdout",
     "output_type": "stream",
     "text": [
      "features.shape(62, 316)\n",
      "vad.shape(316,)\n",
      "features.shape(62, 231)\n",
      "vad.shape(231,)\n",
      "features.shape(62, 282)\n",
      "vad.shape(282,)\n",
      "features.shape(62, 291)\n",
      "vad.shape(291,)\n",
      "features.shape(62, 291)\n",
      "vad.shape(291,)\n",
      "features.shape(62, 274)\n",
      "vad.shape(274,)\n",
      "features.shape(62, 291)\n",
      "vad.shape(291,)\n",
      "features.shape(62, 253)\n",
      "vad.shape(253,)\n",
      "features.shape(62, 359)\n",
      "vad.shape(359,)\n",
      "features.shape(62, 248)\n",
      "vad.shape(248,)\n",
      "features.shape(62, 244)\n",
      "vad.shape(244,)\n",
      "features.shape(62, 346)\n",
      "vad.shape(346,)\n",
      "features.shape(62, 351)\n",
      "vad.shape(351,)\n",
      "features.shape(62, 325)\n",
      "vad.shape(325,)\n",
      "features.shape(62, 547)\n",
      "vad.shape(547,)\n"
     ]
    },
    {
     "name": "stderr",
     "output_type": "stream",
     "text": [
      " 82%|████████▏ | 5231/6394 [03:57<00:12, 93.62it/s]"
     ]
    },
    {
     "name": "stdout",
     "output_type": "stream",
     "text": [
      "features.shape(62, 193)\n",
      "vad.shape(193,)\n",
      "features.shape(62, 227)\n",
      "vad.shape(227,)\n",
      "features.shape(62, 325)\n",
      "vad.shape(325,)\n",
      "features.shape(62, 265)\n",
      "vad.shape(265,)\n",
      "features.shape(62, 359)\n",
      "vad.shape(359,)\n",
      "features.shape(62, 274)\n",
      "vad.shape(274,)\n",
      "features.shape(62, 257)\n",
      "vad.shape(257,)\n",
      "features.shape(62, 244)\n",
      "vad.shape(244,)\n",
      "features.shape(62, 308)\n",
      "vad.shape(308,)\n",
      "features.shape(62, 274)\n",
      "vad.shape(274,)\n",
      "features.shape(62, 295)\n",
      "vad.shape(295,)\n",
      "features.shape(62, 769)\n",
      "vad.shape(769,)\n",
      "features.shape(62, 214)\n",
      "vad.shape(214,)\n",
      "features.shape(62, 261)\n",
      "vad.shape(261,)\n",
      "features.shape(62, 240)\n",
      "vad.shape(240,)\n",
      "features.shape(62, 321)\n",
      "vad.shape(321,)\n",
      "features.shape(62, 227)\n",
      "vad.shape(227,)\n",
      "features.shape(62, 347)\n",
      "vad.shape(347,)\n",
      "features.shape(62, 389)\n",
      "vad.shape(389,)\n",
      "features.shape(62, 598)\n",
      "vad.shape(598,)\n",
      "features.shape(62, 261)\n",
      "vad.shape(261,)\n",
      "features.shape(62, 363)\n",
      "vad.shape(363,)\n",
      "features.shape(62, 202)\n",
      "vad.shape(202,)\n",
      "features.shape(62, 304)\n",
      "vad.shape(304,)\n",
      "features.shape(62, 308)\n",
      "vad.shape(308,)\n"
     ]
    },
    {
     "name": "stderr",
     "output_type": "stream",
     "text": [
      " 82%|████████▏ | 5252/6394 [03:57<00:13, 84.01it/s]"
     ]
    },
    {
     "name": "stdout",
     "output_type": "stream",
     "text": [
      "features.shape(62, 265)\n",
      "vad.shape(265,)\n",
      "features.shape(62, 269)\n",
      "vad.shape(269,)\n",
      "features.shape(62, 240)\n",
      "vad.shape(240,)\n",
      "features.shape(62, 257)\n",
      "vad.shape(257,)\n",
      "features.shape(62, 261)\n",
      "vad.shape(261,)\n",
      "features.shape(62, 334)\n",
      "vad.shape(334,)\n",
      "features.shape(62, 214)\n",
      "vad.shape(214,)\n",
      "features.shape(62, 308)\n",
      "vad.shape(308,)\n",
      "features.shape(62, 299)\n",
      "vad.shape(299,)\n",
      "features.shape(62, 202)\n",
      "vad.shape(202,)\n",
      "features.shape(62, 432)\n",
      "vad.shape(432,)\n",
      "features.shape(62, 248)\n",
      "vad.shape(248,)\n",
      "features.shape(62, 300)\n",
      "vad.shape(300,)\n"
     ]
    },
    {
     "name": "stderr",
     "output_type": "stream",
     "text": [
      " 83%|████████▎ | 5277/6394 [03:57<00:11, 100.45it/s]"
     ]
    },
    {
     "name": "stdout",
     "output_type": "stream",
     "text": [
      "features.shape(62, 240)\n",
      "vad.shape(240,)\n",
      "features.shape(62, 176)\n",
      "vad.shape(176,)\n",
      "features.shape(62, 278)\n",
      "vad.shape(278,)\n",
      "features.shape(62, 794)\n",
      "vad.shape(794,)\n",
      "features.shape(62, 223)\n",
      "vad.shape(223,)\n",
      "features.shape(62, 223)\n",
      "vad.shape(223,)\n",
      "features.shape(62, 291)\n",
      "vad.shape(291,)\n",
      "features.shape(62, 308)\n",
      "vad.shape(308,)\n",
      "features.shape(62, 236)\n",
      "vad.shape(236,)\n",
      "features.shape(62, 287)\n",
      "vad.shape(287,)\n",
      "features.shape(62, 206)\n",
      "vad.shape(206,)\n",
      "features.shape(62, 227)\n",
      "vad.shape(227,)\n",
      "features.shape(62, 265)\n",
      "vad.shape(265,)\n",
      "features.shape(62, 859)\n",
      "vad.shape(859,)\n",
      "features.shape(62, 201)\n",
      "vad.shape(201,)\n",
      "features.shape(62, 278)\n",
      "vad.shape(278,)\n",
      "features.shape(62, 257)\n",
      "vad.shape(257,)\n",
      "features.shape(62, 248)\n",
      "vad.shape(248,)\n",
      "features.shape(62, 317)\n",
      "vad.shape(317,)\n",
      "features.shape(62, 265)\n",
      "vad.shape(265,)\n",
      "features.shape(62, 325)\n",
      "vad.shape(325,)\n",
      "features.shape(62, 248)\n",
      "vad.shape(248,)\n",
      "features.shape(62, 265)\n",
      "vad.shape(265,)\n",
      "features.shape(62, 304)\n",
      "vad.shape(304,)\n",
      "features.shape(62, 291)\n",
      "vad.shape(291,)\n"
     ]
    },
    {
     "name": "stderr",
     "output_type": "stream",
     "text": [
      " 83%|████████▎ | 5289/6394 [03:58<00:10, 104.05it/s]"
     ]
    },
    {
     "name": "stdout",
     "output_type": "stream",
     "text": [
      "features.shape(62, 227)\n",
      "vad.shape(227,)\n",
      "features.shape(62, 380)\n",
      "vad.shape(380,)\n",
      "features.shape(62, 257)\n",
      "vad.shape(257,)\n",
      "features.shape(62, 329)\n",
      "vad.shape(329,)\n",
      "features.shape(62, 329)\n",
      "vad.shape(329,)\n",
      "features.shape(62, 287)\n",
      "vad.shape(287,)\n",
      "features.shape(62, 253)\n",
      "vad.shape(253,)\n",
      "features.shape(62, 248)\n",
      "vad.shape(248,)\n",
      "features.shape(62, 236)\n",
      "vad.shape(236,)\n",
      "features.shape(62, 252)\n",
      "vad.shape(252,)\n",
      "features.shape(62, 248)\n",
      "vad.shape(248,)\n",
      "features.shape(62, 184)\n",
      "vad.shape(184,)\n",
      "features.shape(62, 253)\n",
      "vad.shape(253,)\n",
      "features.shape(62, 355)\n",
      "vad.shape(355,)\n",
      "features.shape(62, 342)\n",
      "vad.shape(342,)\n",
      "features.shape(62, 180)\n",
      "vad.shape(180,)\n",
      "features.shape(62, 285)\n",
      "vad.shape(285,)\n",
      "features.shape(62, 180)\n",
      "vad.shape(180,)\n",
      "features.shape(62, 244)\n",
      "vad.shape(244,)\n",
      "features.shape(62, 338)\n",
      "vad.shape(338,)\n"
     ]
    },
    {
     "name": "stderr",
     "output_type": "stream",
     "text": [
      " 83%|████████▎ | 5312/6394 [03:58<00:10, 101.12it/s]"
     ]
    },
    {
     "name": "stdout",
     "output_type": "stream",
     "text": [
      "features.shape(62, 287)\n",
      "vad.shape(287,)\n",
      "features.shape(62, 325)\n",
      "vad.shape(325,)\n",
      "features.shape(62, 261)\n",
      "vad.shape(261,)\n",
      "features.shape(62, 218)\n",
      "vad.shape(218,)\n",
      "features.shape(62, 427)\n",
      "vad.shape(427,)\n",
      "features.shape(62, 176)\n",
      "vad.shape(176,)\n",
      "features.shape(62, 346)\n",
      "vad.shape(346,)\n",
      "features.shape(62, 334)\n",
      "vad.shape(334,)\n",
      "features.shape(62, 197)\n",
      "vad.shape(197,)\n",
      "features.shape(62, 295)\n",
      "vad.shape(295,)\n",
      "features.shape(62, 372)\n",
      "vad.shape(372,)\n",
      "features.shape(62, 325)\n",
      "vad.shape(325,)\n",
      "features.shape(62, 270)\n",
      "vad.shape(270,)\n",
      "features.shape(62, 202)\n",
      "vad.shape(202,)\n",
      "features.shape(62, 201)\n",
      "vad.shape(201,)\n",
      "features.shape(62, 261)\n",
      "vad.shape(261,)\n",
      "features.shape(62, 304)\n",
      "vad.shape(304,)\n",
      "features.shape(62, 295)\n",
      "vad.shape(295,)\n",
      "features.shape(62, 201)\n",
      "vad.shape(201,)\n",
      "features.shape(62, 363)\n",
      "vad.shape(363,)\n",
      "features.shape(62, 231)\n",
      "vad.shape(231,)\n",
      "features.shape(62, 240)\n",
      "vad.shape(240,)\n",
      "features.shape(62, 236)\n"
     ]
    },
    {
     "name": "stderr",
     "output_type": "stream",
     "text": [
      " 83%|████████▎ | 5338/6394 [03:58<00:10, 102.73it/s]"
     ]
    },
    {
     "name": "stdout",
     "output_type": "stream",
     "text": [
      "vad.shape(236,)\n",
      "features.shape(62, 223)\n",
      "vad.shape(223,)\n",
      "features.shape(62, 304)\n",
      "vad.shape(304,)\n",
      "features.shape(62, 236)\n",
      "vad.shape(236,)\n",
      "features.shape(62, 338)\n",
      "vad.shape(338,)\n",
      "features.shape(62, 210)\n",
      "vad.shape(210,)\n",
      "features.shape(62, 321)\n",
      "vad.shape(321,)\n",
      "features.shape(62, 304)\n",
      "vad.shape(304,)\n",
      "features.shape(62, 184)\n",
      "vad.shape(184,)\n",
      "features.shape(62, 291)\n",
      "vad.shape(291,)\n",
      "features.shape(62, 700)\n",
      "vad.shape(700,)\n",
      "features.shape(62, 282)\n",
      "vad.shape(282,)\n",
      "features.shape(62, 346)\n",
      "vad.shape(346,)\n",
      "features.shape(62, 385)\n",
      "vad.shape(385,)\n",
      "features.shape(62, 227)\n",
      "vad.shape(227,)\n",
      "features.shape(62, 415)\n",
      "vad.shape(415,)\n",
      "features.shape(62, 581)\n",
      "vad.shape(581,)\n",
      "features.shape(62, 287)\n",
      "vad.shape(287,)\n",
      "features.shape(62, 220)\n",
      "vad.shape(220,)\n"
     ]
    },
    {
     "name": "stderr",
     "output_type": "stream",
     "text": [
      " 84%|████████▎ | 5349/6394 [03:58<00:10, 100.64it/s]"
     ]
    },
    {
     "name": "stdout",
     "output_type": "stream",
     "text": [
      "features.shape(62, 248)\n",
      "vad.shape(248,)\n",
      "features.shape(62, 453)\n",
      "vad.shape(453,)\n",
      "features.shape(62, 235)\n",
      "vad.shape(235,)\n",
      "features.shape(62, 265)\n",
      "vad.shape(265,)\n",
      "features.shape(62, 223)\n",
      "vad.shape(223,)\n",
      "features.shape(62, 240)\n",
      "vad.shape(240,)\n",
      "features.shape(62, 205)\n",
      "vad.shape(205,)\n",
      "features.shape(62, 214)\n",
      "vad.shape(214,)\n",
      "features.shape(62, 316)\n",
      "vad.shape(316,)\n",
      "features.shape(62, 338)\n",
      "vad.shape(338,)\n",
      "features.shape(62, 227)\n",
      "vad.shape(227,)\n",
      "features.shape(62, 368)\n",
      "vad.shape(368,)\n",
      "features.shape(62, 274)\n",
      "vad.shape(274,)\n",
      "features.shape(62, 235)\n",
      "vad.shape(235,)\n",
      "features.shape(62, 261)\n",
      "vad.shape(261,)\n",
      "features.shape(62, 363)\n",
      "vad.shape(363,)\n",
      "features.shape(62, 257)\n"
     ]
    },
    {
     "name": "stderr",
     "output_type": "stream",
     "text": [
      " 84%|████████▍ | 5375/6394 [03:58<00:09, 105.20it/s]"
     ]
    },
    {
     "name": "stdout",
     "output_type": "stream",
     "text": [
      "vad.shape(257,)\n",
      "features.shape(62, 312)\n",
      "vad.shape(312,)\n",
      "features.shape(62, 227)\n",
      "vad.shape(227,)\n",
      "features.shape(62, 334)\n",
      "vad.shape(334,)\n",
      "features.shape(62, 202)\n",
      "vad.shape(202,)\n",
      "features.shape(62, 286)\n",
      "vad.shape(286,)\n",
      "features.shape(62, 274)\n",
      "vad.shape(274,)\n",
      "features.shape(62, 436)\n",
      "vad.shape(436,)\n",
      "features.shape(62, 304)\n",
      "vad.shape(304,)\n",
      "features.shape(62, 265)\n",
      "vad.shape(265,)\n",
      "features.shape(62, 308)\n",
      "vad.shape(308,)\n",
      "features.shape(62, 227)\n",
      "vad.shape(227,)\n",
      "features.shape(62, 269)\n",
      "vad.shape(269,)\n",
      "features.shape(62, 270)\n",
      "vad.shape(270,)\n",
      "features.shape(62, 304)\n",
      "vad.shape(304,)\n",
      "features.shape(62, 312)\n",
      "vad.shape(312,)\n",
      "features.shape(62, 253)\n",
      "vad.shape(253,)\n",
      "features.shape(62, 308)\n",
      "vad.shape(308,)\n",
      "features.shape(62, 402)\n",
      "vad.shape(402,)\n",
      "features.shape(62, 376)\n",
      "vad.shape(376,)\n",
      "features.shape(62, 240)\n",
      "vad.shape(240,)\n",
      "features.shape(62, 261)\n",
      "vad.shape(261,)\n",
      "features.shape(62, 235)\n",
      "vad.shape(235,)\n",
      "features.shape(62, 300)\n",
      "vad.shape(300,)\n",
      "features.shape(62, 397)\n",
      "vad.shape(397,)\n",
      "features.shape(62, 931)\n",
      "vad.shape(931,)\n"
     ]
    },
    {
     "name": "stderr",
     "output_type": "stream",
     "text": [
      " 84%|████████▍ | 5398/6394 [03:59<00:09, 106.36it/s]"
     ]
    },
    {
     "name": "stdout",
     "output_type": "stream",
     "text": [
      "features.shape(62, 300)\n",
      "vad.shape(300,)\n",
      "features.shape(62, 329)\n",
      "vad.shape(329,)\n",
      "features.shape(62, 257)\n",
      "vad.shape(257,)\n",
      "features.shape(62, 317)\n",
      "vad.shape(317,)\n",
      "features.shape(62, 334)\n",
      "vad.shape(334,)\n",
      "features.shape(62, 282)\n",
      "vad.shape(282,)\n",
      "features.shape(62, 291)\n",
      "vad.shape(291,)\n",
      "features.shape(62, 547)\n",
      "vad.shape(547,)\n",
      "features.shape(62, 287)\n",
      "vad.shape(287,)\n",
      "features.shape(62, 274)\n",
      "vad.shape(274,)\n",
      "features.shape(62, 351)\n",
      "vad.shape(351,)\n",
      "features.shape(62, 257)\n",
      "vad.shape(257,)\n",
      "features.shape(62, 351)\n",
      "vad.shape(351,)\n",
      "features.shape(62, 372)\n",
      "vad.shape(372,)\n",
      "features.shape(62, 624)\n",
      "vad.shape(624,)\n",
      "features.shape(62, 568)\n",
      "vad.shape(568,)\n",
      "features.shape(62, 376)\n",
      "vad.shape(376,)\n",
      "features.shape(62, 641)\n",
      "vad.shape(641,)\n",
      "features.shape(62, 235)\n",
      "vad.shape(235,)\n",
      "features.shape(62, 321)\n",
      "vad.shape(321,)\n",
      "features.shape(62, 278)\n",
      "vad.shape(278,)\n",
      "features.shape(62, 525)\n",
      "vad.shape(525,)\n",
      "features.shape(62, 287)\n",
      "vad.shape(287,)\n",
      "features.shape(62, 329)\n",
      "vad.shape(329,)\n"
     ]
    },
    {
     "name": "stderr",
     "output_type": "stream",
     "text": [
      " 85%|████████▍ | 5420/6394 [03:59<00:09, 105.28it/s]"
     ]
    },
    {
     "name": "stdout",
     "output_type": "stream",
     "text": [
      "features.shape(62, 321)\n",
      "vad.shape(321,)\n",
      "features.shape(62, 244)\n",
      "vad.shape(244,)\n",
      "features.shape(62, 304)\n",
      "vad.shape(304,)\n",
      "features.shape(62, 201)\n",
      "vad.shape(201,)\n",
      "features.shape(62, 338)\n",
      "vad.shape(338,)\n",
      "features.shape(62, 287)\n",
      "vad.shape(287,)\n",
      "features.shape(62, 261)\n",
      "vad.shape(261,)\n",
      "features.shape(62, 231)\n",
      "vad.shape(231,)\n",
      "features.shape(62, 308)\n",
      "vad.shape(308,)\n",
      "features.shape(62, 342)\n",
      "vad.shape(342,)\n",
      "features.shape(62, 291)\n",
      "vad.shape(291,)\n",
      "features.shape(62, 304)\n",
      "vad.shape(304,)\n",
      "features.shape(62, 244)\n",
      "vad.shape(244,)\n",
      "features.shape(62, 235)\n",
      "vad.shape(235,)\n",
      "features.shape(62, 278)\n",
      "vad.shape(278,)\n",
      "features.shape(62, 291)\n",
      "vad.shape(291,)\n",
      "features.shape(62, 308)\n",
      "vad.shape(308,)\n",
      "features.shape(62, 248)\n",
      "vad.shape(248,)\n",
      "features.shape(62, 205)\n",
      "vad.shape(205,)\n",
      "features.shape(62, 270)\n",
      "vad.shape(270,)\n",
      "features.shape(62, 351)\n",
      "vad.shape(351,)\n",
      "features.shape(62, 214)\n",
      "vad.shape(214,)\n"
     ]
    },
    {
     "name": "stderr",
     "output_type": "stream",
     "text": [
      " 85%|████████▌ | 5445/6394 [03:59<00:08, 109.15it/s]"
     ]
    },
    {
     "name": "stdout",
     "output_type": "stream",
     "text": [
      "features.shape(62, 342)\n",
      "vad.shape(342,)\n",
      "features.shape(62, 270)\n",
      "vad.shape(270,)\n",
      "features.shape(62, 359)\n",
      "vad.shape(359,)\n",
      "features.shape(62, 299)\n",
      "vad.shape(299,)\n",
      "features.shape(62, 338)\n",
      "vad.shape(338,)\n",
      "features.shape(62, 308)\n",
      "vad.shape(308,)\n",
      "features.shape(62, 274)\n",
      "vad.shape(274,)\n",
      "features.shape(62, 342)\n",
      "vad.shape(342,)\n",
      "features.shape(62, 321)\n",
      "vad.shape(321,)\n",
      "features.shape(62, 346)\n",
      "vad.shape(346,)\n",
      "features.shape(62, 219)\n",
      "vad.shape(219,)\n",
      "features.shape(62, 291)\n",
      "vad.shape(291,)\n",
      "features.shape(62, 270)\n",
      "vad.shape(270,)\n",
      "features.shape(62, 291)\n",
      "vad.shape(291,)\n",
      "features.shape(62, 304)\n",
      "vad.shape(304,)\n",
      "features.shape(62, 249)\n",
      "vad.shape(249,)\n",
      "features.shape(62, 329)\n",
      "vad.shape(329,)\n",
      "features.shape(62, 342)\n",
      "vad.shape(342,)\n",
      "features.shape(62, 291)\n",
      "vad.shape(291,)\n",
      "features.shape(62, 462)\n",
      "vad.shape(462,)\n",
      "features.shape(62, 445)\n",
      "vad.shape(445,)\n",
      "features.shape(62, 321)\n",
      "vad.shape(321,)\n",
      "features.shape(62, 265)\n",
      "vad.shape(265,)\n",
      "features.shape(62, 244)\n",
      "vad.shape(244,)\n",
      "features.shape(62, 265)\n",
      "vad.shape(265,)\n",
      "features.shape(62, 334)\n",
      "vad.shape(334,)\n",
      "features.shape(62, 342)\n",
      "vad.shape(342,)\n"
     ]
    },
    {
     "name": "stderr",
     "output_type": "stream",
     "text": [
      " 85%|████████▌ | 5457/6394 [03:59<00:08, 106.31it/s]"
     ]
    },
    {
     "name": "stdout",
     "output_type": "stream",
     "text": [
      "features.shape(62, 248)\n",
      "vad.shape(248,)\n",
      "features.shape(62, 231)\n",
      "vad.shape(231,)\n",
      "features.shape(62, 287)\n",
      "vad.shape(287,)\n",
      "features.shape(62, 295)\n",
      "vad.shape(295,)\n",
      "features.shape(62, 330)\n",
      "vad.shape(330,)\n",
      "features.shape(62, 206)\n",
      "vad.shape(206,)\n",
      "features.shape(62, 270)\n",
      "vad.shape(270,)\n",
      "features.shape(62, 325)\n",
      "vad.shape(325,)\n",
      "features.shape(62, 253)\n",
      "vad.shape(253,)\n",
      "features.shape(62, 244)\n",
      "vad.shape(244,)\n",
      "features.shape(62, 351)\n",
      "vad.shape(351,)\n"
     ]
    },
    {
     "name": "stderr",
     "output_type": "stream",
     "text": [
      " 86%|████████▌ | 5481/6394 [04:00<00:09, 92.17it/s] "
     ]
    },
    {
     "name": "stdout",
     "output_type": "stream",
     "text": [
      "features.shape(62, 317)\n",
      "vad.shape(317,)\n",
      "features.shape(62, 231)\n",
      "vad.shape(231,)\n",
      "features.shape(62, 265)\n",
      "vad.shape(265,)\n",
      "features.shape(62, 368)\n",
      "vad.shape(368,)\n",
      "features.shape(62, 376)\n",
      "vad.shape(376,)\n",
      "features.shape(62, 364)\n",
      "vad.shape(364,)\n",
      "features.shape(62, 363)\n",
      "vad.shape(363,)\n",
      "features.shape(62, 385)\n",
      "vad.shape(385,)\n",
      "features.shape(62, 291)\n",
      "vad.shape(291,)\n",
      "features.shape(62, 419)\n",
      "vad.shape(419,)\n",
      "features.shape(62, 355)\n",
      "vad.shape(355,)\n",
      "features.shape(62, 282)\n",
      "vad.shape(282,)\n",
      "features.shape(62, 227)\n",
      "vad.shape(227,)\n",
      "features.shape(62, 274)\n",
      "vad.shape(274,)\n",
      "features.shape(62, 316)\n",
      "vad.shape(316,)\n",
      "features.shape(62, 308)\n",
      "vad.shape(308,)\n",
      "features.shape(62, 252)\n",
      "vad.shape(252,)\n",
      "features.shape(62, 291)\n",
      "vad.shape(291,)\n",
      "features.shape(62, 270)\n",
      "vad.shape(270,)\n",
      "features.shape(62, 278)\n",
      "vad.shape(278,)\n",
      "features.shape(62, 351)\n",
      "vad.shape(351,)\n",
      "features.shape(62, 205)\n",
      "vad.shape(205,)\n",
      "features.shape(62, 244)\n",
      "vad.shape(244,)\n",
      "features.shape(62, 359)\n",
      "vad.shape(359,)\n",
      "features.shape(62, 317)\n",
      "vad.shape(317,)\n"
     ]
    },
    {
     "name": "stderr",
     "output_type": "stream",
     "text": [
      " 86%|████████▌ | 5507/6394 [04:00<00:08, 104.41it/s]"
     ]
    },
    {
     "name": "stdout",
     "output_type": "stream",
     "text": [
      "features.shape(62, 265)\n",
      "vad.shape(265,)\n",
      "features.shape(62, 253)\n",
      "vad.shape(253,)\n",
      "features.shape(62, 231)\n",
      "vad.shape(231,)\n",
      "features.shape(62, 415)\n",
      "vad.shape(415,)\n",
      "features.shape(62, 355)\n",
      "vad.shape(355,)\n",
      "features.shape(62, 244)\n",
      "vad.shape(244,)\n",
      "features.shape(62, 248)\n",
      "vad.shape(248,)\n",
      "features.shape(62, 231)\n",
      "vad.shape(231,)\n",
      "features.shape(62, 252)\n",
      "vad.shape(252,)\n",
      "features.shape(62, 427)\n",
      "vad.shape(427,)\n",
      "features.shape(62, 351)\n",
      "vad.shape(351,)\n",
      "features.shape(62, 304)\n",
      "vad.shape(304,)\n",
      "features.shape(62, 645)\n",
      "vad.shape(645,)\n",
      "features.shape(62, 803)\n",
      "vad.shape(803,)\n",
      "features.shape(62, 235)\n",
      "vad.shape(235,)\n",
      "features.shape(62, 227)\n",
      "vad.shape(227,)\n",
      "features.shape(62, 278)\n",
      "vad.shape(278,)\n",
      "features.shape(62, 304)\n",
      "vad.shape(304,)\n",
      "features.shape(62, 295)\n",
      "vad.shape(295,)\n"
     ]
    },
    {
     "name": "stderr",
     "output_type": "stream",
     "text": [
      " 86%|████████▋ | 5518/6394 [04:00<00:09, 89.98it/s] "
     ]
    },
    {
     "name": "stdout",
     "output_type": "stream",
     "text": [
      "features.shape(62, 325)\n",
      "vad.shape(325,)\n",
      "features.shape(62, 312)\n",
      "vad.shape(312,)\n",
      "features.shape(62, 235)\n",
      "vad.shape(235,)\n",
      "features.shape(62, 266)\n",
      "vad.shape(266,)\n",
      "features.shape(62, 359)\n",
      "vad.shape(359,)\n",
      "features.shape(62, 316)\n",
      "vad.shape(316,)\n",
      "features.shape(62, 299)\n",
      "vad.shape(299,)\n",
      "features.shape(62, 334)\n",
      "vad.shape(334,)\n",
      "features.shape(62, 329)\n",
      "vad.shape(329,)\n",
      "features.shape(62, 253)\n",
      "vad.shape(253,)\n",
      "features.shape(62, 389)\n",
      "vad.shape(389,)\n",
      "features.shape(62, 419)\n",
      "vad.shape(419,)\n",
      "features.shape(62, 295)\n",
      "vad.shape(295,)\n",
      "features.shape(62, 317)\n",
      "vad.shape(317,)\n",
      "features.shape(62, 278)\n",
      "vad.shape(278,)\n",
      "features.shape(62, 295)\n",
      "vad.shape(295,)\n",
      "features.shape(62, 325)\n",
      "vad.shape(325,)\n",
      "features.shape(62, 342)\n",
      "vad.shape(342,)\n",
      "features.shape(62, 304)\n",
      "vad.shape(304,)\n"
     ]
    },
    {
     "name": "stderr",
     "output_type": "stream",
     "text": [
      " 87%|████████▋ | 5543/6394 [04:00<00:08, 100.41it/s]"
     ]
    },
    {
     "name": "stdout",
     "output_type": "stream",
     "text": [
      "features.shape(62, 283)\n",
      "vad.shape(283,)\n",
      "features.shape(62, 231)\n",
      "vad.shape(231,)\n",
      "features.shape(62, 261)\n",
      "vad.shape(261,)\n",
      "features.shape(62, 278)\n",
      "vad.shape(278,)\n",
      "features.shape(62, 334)\n",
      "vad.shape(334,)\n",
      "features.shape(62, 342)\n",
      "vad.shape(342,)\n",
      "features.shape(62, 291)\n",
      "vad.shape(291,)\n",
      "features.shape(62, 376)\n",
      "vad.shape(376,)\n",
      "features.shape(62, 334)\n",
      "vad.shape(334,)\n",
      "features.shape(62, 299)\n",
      "vad.shape(299,)\n",
      "features.shape(62, 257)\n",
      "vad.shape(257,)\n",
      "features.shape(62, 287)\n",
      "vad.shape(287,)\n",
      "features.shape(62, 312)\n",
      "vad.shape(312,)\n",
      "features.shape(62, 342)\n",
      "vad.shape(342,)\n",
      "features.shape(62, 257)\n",
      "vad.shape(257,)\n",
      "features.shape(62, 359)\n",
      "vad.shape(359,)\n",
      "features.shape(62, 304)\n",
      "vad.shape(304,)\n",
      "features.shape(62, 257)\n",
      "vad.shape(257,)\n",
      "features.shape(62, 334)\n",
      "vad.shape(334,)\n",
      "features.shape(62, 304)\n",
      "vad.shape(304,)\n",
      "features.shape(62, 253)\n",
      "vad.shape(253,)\n"
     ]
    },
    {
     "name": "stderr",
     "output_type": "stream",
     "text": [
      " 87%|████████▋ | 5554/6394 [04:00<00:10, 82.51it/s] "
     ]
    },
    {
     "name": "stdout",
     "output_type": "stream",
     "text": [
      "features.shape(62, 308)\n",
      "vad.shape(308,)\n",
      "features.shape(62, 283)\n",
      "vad.shape(283,)\n",
      "features.shape(62, 496)\n",
      "vad.shape(496,)\n",
      "features.shape(62, 248)\n",
      "vad.shape(248,)\n",
      "features.shape(62, 231)\n",
      "vad.shape(231,)\n",
      "features.shape(62, 368)\n",
      "vad.shape(368,)\n",
      "features.shape(62, 402)\n",
      "vad.shape(402,)\n",
      "features.shape(62, 304)\n",
      "vad.shape(304,)\n",
      "features.shape(62, 415)\n",
      "vad.shape(415,)\n",
      "features.shape(62, 372)\n",
      "vad.shape(372,)\n",
      "features.shape(62, 351)\n",
      "vad.shape(351,)\n",
      "features.shape(62, 363)\n",
      "vad.shape(363,)\n"
     ]
    },
    {
     "name": "stderr",
     "output_type": "stream",
     "text": [
      " 87%|████████▋ | 5573/6394 [04:01<00:10, 80.00it/s]"
     ]
    },
    {
     "name": "stdout",
     "output_type": "stream",
     "text": [
      "features.shape(62, 283)\n",
      "vad.shape(283,)\n",
      "features.shape(62, 287)\n",
      "vad.shape(287,)\n",
      "features.shape(62, 333)\n",
      "vad.shape(333,)\n",
      "features.shape(62, 283)\n",
      "vad.shape(283,)\n",
      "features.shape(62, 261)\n",
      "vad.shape(261,)\n",
      "features.shape(62, 397)\n",
      "vad.shape(397,)\n",
      "features.shape(62, 372)\n",
      "vad.shape(372,)\n",
      "features.shape(62, 291)\n",
      "vad.shape(291,)\n",
      "features.shape(62, 364)\n",
      "vad.shape(364,)\n",
      "features.shape(62, 257)\n",
      "vad.shape(257,)\n",
      "features.shape(62, 325)\n",
      "vad.shape(325,)\n",
      "features.shape(62, 359)\n",
      "vad.shape(359,)\n",
      "features.shape(62, 449)\n",
      "vad.shape(449,)\n",
      "features.shape(62, 274)\n",
      "vad.shape(274,)\n",
      "features.shape(62, 385)\n",
      "vad.shape(385,)\n",
      "features.shape(62, 368)\n",
      "vad.shape(368,)\n",
      "features.shape(62, 286)\n",
      "vad.shape(286,)\n",
      "features.shape(62, 231)\n",
      "vad.shape(231,)\n",
      "features.shape(62, 397)\n",
      "vad.shape(397,)\n",
      "features.shape(62, 257)\n",
      "vad.shape(257,)\n",
      "features.shape(62, 201)\n",
      "vad.shape(201,)\n",
      "features.shape(62, 470)\n",
      "vad.shape(470,)\n",
      "features.shape(62, 291)\n",
      "vad.shape(291,)\n",
      "features.shape(62, 338)\n",
      "vad.shape(338,)\n"
     ]
    },
    {
     "name": "stderr",
     "output_type": "stream",
     "text": [
      " 87%|████████▋ | 5585/6394 [04:01<00:09, 87.28it/s]"
     ]
    },
    {
     "name": "stdout",
     "output_type": "stream",
     "text": [
      "features.shape(62, 223)\n",
      "vad.shape(223,)\n",
      "features.shape(62, 231)\n",
      "vad.shape(231,)\n",
      "features.shape(62, 359)\n",
      "vad.shape(359,)\n",
      "features.shape(62, 278)\n",
      "vad.shape(278,)\n",
      "features.shape(62, 283)\n",
      "vad.shape(283,)\n",
      "features.shape(62, 325)\n",
      "vad.shape(325,)\n",
      "features.shape(62, 342)\n",
      "vad.shape(342,)\n",
      "features.shape(62, 214)\n",
      "vad.shape(214,)\n",
      "features.shape(62, 295)\n",
      "vad.shape(295,)\n",
      "features.shape(62, 266)\n",
      "vad.shape(266,)\n",
      "features.shape(62, 261)\n"
     ]
    },
    {
     "name": "stderr",
     "output_type": "stream",
     "text": [
      " 88%|████████▊ | 5603/6394 [04:01<00:11, 66.89it/s]"
     ]
    },
    {
     "name": "stdout",
     "output_type": "stream",
     "text": [
      "vad.shape(261,)\n",
      "features.shape(62, 334)\n",
      "vad.shape(334,)\n",
      "features.shape(62, 419)\n",
      "vad.shape(419,)\n",
      "features.shape(62, 1054)\n",
      "vad.shape(1054,)\n",
      "features.shape(62, 236)\n",
      "vad.shape(236,)\n",
      "features.shape(62, 257)\n",
      "vad.shape(257,)\n",
      "features.shape(62, 385)\n",
      "vad.shape(385,)\n",
      "features.shape(62, 363)\n",
      "vad.shape(363,)\n",
      "features.shape(62, 308)\n",
      "vad.shape(308,)\n",
      "features.shape(62, 449)\n",
      "vad.shape(449,)\n",
      "features.shape(62, 654)\n",
      "vad.shape(654,)\n",
      "features.shape(62, 1332)\n",
      "vad.shape(1332,)\n",
      "features.shape(62, 240)\n",
      "vad.shape(240,)\n",
      "features.shape(62, 286)\n",
      "vad.shape(286,)\n",
      "features.shape(62, 282)\n",
      "vad.shape(282,)\n",
      "features.shape(62, 240)\n"
     ]
    },
    {
     "name": "stderr",
     "output_type": "stream",
     "text": [
      " 88%|████████▊ | 5623/6394 [04:01<00:09, 77.97it/s]"
     ]
    },
    {
     "name": "stdout",
     "output_type": "stream",
     "text": [
      "vad.shape(240,)\n",
      "features.shape(62, 274)\n",
      "vad.shape(274,)\n",
      "features.shape(62, 338)\n",
      "vad.shape(338,)\n",
      "features.shape(62, 304)\n",
      "vad.shape(304,)\n",
      "features.shape(62, 291)\n",
      "vad.shape(291,)\n",
      "features.shape(62, 568)\n",
      "vad.shape(568,)\n",
      "features.shape(62, 367)\n",
      "vad.shape(367,)\n",
      "features.shape(62, 261)\n",
      "vad.shape(261,)\n",
      "features.shape(62, 312)\n",
      "vad.shape(312,)\n",
      "features.shape(62, 743)\n",
      "vad.shape(743,)\n",
      "features.shape(62, 317)\n",
      "vad.shape(317,)\n",
      "features.shape(62, 346)\n",
      "vad.shape(346,)\n",
      "features.shape(62, 342)\n",
      "vad.shape(342,)\n",
      "features.shape(62, 317)\n",
      "vad.shape(317,)\n",
      "features.shape(62, 274)\n",
      "vad.shape(274,)\n",
      "features.shape(62, 240)\n",
      "vad.shape(240,)\n",
      "features.shape(62, 257)\n",
      "vad.shape(257,)\n",
      "features.shape(62, 240)\n",
      "vad.shape(240,)\n"
     ]
    },
    {
     "name": "stderr",
     "output_type": "stream",
     "text": [
      " 88%|████████▊ | 5632/6394 [04:01<00:11, 67.80it/s]"
     ]
    },
    {
     "name": "stdout",
     "output_type": "stream",
     "text": [
      "features.shape(62, 359)\n",
      "vad.shape(359,)\n",
      "features.shape(62, 364)\n",
      "vad.shape(364,)\n",
      "features.shape(62, 274)\n",
      "vad.shape(274,)\n",
      "features.shape(62, 261)\n",
      "vad.shape(261,)\n",
      "features.shape(62, 218)\n",
      "vad.shape(218,)\n",
      "features.shape(62, 312)\n",
      "vad.shape(312,)\n",
      "features.shape(62, 240)\n",
      "vad.shape(240,)\n",
      "features.shape(62, 300)\n",
      "vad.shape(300,)\n",
      "features.shape(62, 321)\n",
      "vad.shape(321,)\n",
      "features.shape(62, 846)\n",
      "vad.shape(846,)\n",
      "features.shape(62, 252)\n",
      "vad.shape(252,)\n",
      "features.shape(62, 257)\n",
      "vad.shape(257,)\n",
      "features.shape(62, 214)\n",
      "vad.shape(214,)\n",
      "features.shape(62, 329)\n",
      "vad.shape(329,)\n",
      "features.shape(62, 201)\n",
      "vad.shape(201,)\n",
      "features.shape(62, 410)\n",
      "vad.shape(410,)\n",
      "features.shape(62, 325)\n"
     ]
    },
    {
     "name": "stderr",
     "output_type": "stream",
     "text": [
      " 88%|████████▊ | 5654/6394 [04:02<00:08, 82.83it/s]"
     ]
    },
    {
     "name": "stdout",
     "output_type": "stream",
     "text": [
      "vad.shape(325,)\n",
      "features.shape(62, 312)\n",
      "vad.shape(312,)\n",
      "features.shape(62, 364)\n",
      "vad.shape(364,)\n",
      "features.shape(62, 351)\n",
      "vad.shape(351,)\n",
      "features.shape(62, 308)\n",
      "vad.shape(308,)\n",
      "features.shape(62, 248)\n",
      "vad.shape(248,)\n",
      "features.shape(62, 538)\n",
      "vad.shape(538,)\n",
      "features.shape(62, 367)\n",
      "vad.shape(367,)\n",
      "features.shape(62, 240)\n",
      "vad.shape(240,)\n",
      "features.shape(62, 300)\n",
      "vad.shape(300,)\n",
      "features.shape(62, 257)\n",
      "vad.shape(257,)\n",
      "features.shape(62, 342)\n",
      "vad.shape(342,)\n",
      "features.shape(62, 252)\n",
      "vad.shape(252,)\n",
      "features.shape(62, 304)\n",
      "vad.shape(304,)\n"
     ]
    },
    {
     "name": "stderr",
     "output_type": "stream",
     "text": [
      " 89%|████████▊ | 5674/6394 [04:02<00:09, 78.53it/s]"
     ]
    },
    {
     "name": "stdout",
     "output_type": "stream",
     "text": [
      "features.shape(62, 325)\n",
      "vad.shape(325,)\n",
      "features.shape(62, 283)\n",
      "vad.shape(283,)\n",
      "features.shape(62, 300)\n",
      "vad.shape(300,)\n",
      "features.shape(62, 274)\n",
      "vad.shape(274,)\n",
      "features.shape(62, 325)\n",
      "vad.shape(325,)\n",
      "features.shape(62, 266)\n",
      "vad.shape(266,)\n",
      "features.shape(62, 278)\n",
      "vad.shape(278,)\n",
      "features.shape(62, 329)\n",
      "vad.shape(329,)\n",
      "features.shape(62, 257)\n",
      "vad.shape(257,)\n",
      "features.shape(62, 334)\n",
      "vad.shape(334,)\n",
      "features.shape(62, 334)\n",
      "vad.shape(334,)\n",
      "features.shape(62, 347)\n",
      "vad.shape(347,)\n",
      "features.shape(62, 334)\n",
      "vad.shape(334,)\n",
      "features.shape(62, 372)\n",
      "vad.shape(372,)\n",
      "features.shape(62, 325)\n",
      "vad.shape(325,)\n",
      "features.shape(62, 312)\n",
      "vad.shape(312,)\n",
      "features.shape(62, 299)\n",
      "vad.shape(299,)\n"
     ]
    },
    {
     "name": "stderr",
     "output_type": "stream",
     "text": [
      " 89%|████████▉ | 5684/6394 [04:02<00:08, 82.53it/s]"
     ]
    },
    {
     "name": "stdout",
     "output_type": "stream",
     "text": [
      "features.shape(62, 291)\n",
      "vad.shape(291,)\n",
      "features.shape(62, 274)\n",
      "vad.shape(274,)\n",
      "features.shape(62, 534)\n",
      "vad.shape(534,)\n",
      "features.shape(62, 632)\n",
      "vad.shape(632,)\n",
      "features.shape(62, 299)\n",
      "vad.shape(299,)\n",
      "features.shape(62, 257)\n",
      "vad.shape(257,)\n",
      "features.shape(62, 393)\n",
      "vad.shape(393,)\n",
      "features.shape(62, 449)\n",
      "vad.shape(449,)\n",
      "features.shape(62, 355)\n",
      "vad.shape(355,)\n",
      "features.shape(62, 261)\n",
      "vad.shape(261,)\n",
      "features.shape(62, 261)\n",
      "vad.shape(261,)\n",
      "features.shape(62, 278)\n",
      "vad.shape(278,)\n",
      "features.shape(62, 312)\n",
      "vad.shape(312,)\n",
      "features.shape(62, 248)\n",
      "vad.shape(248,)\n",
      "features.shape(62, 334)\n",
      "vad.shape(334,)\n",
      "features.shape(62, 483)\n",
      "vad.shape(483,)\n",
      "features.shape(62, 312)\n",
      "vad.shape(312,)\n",
      "features.shape(62, 274)\n",
      "vad.shape(274,)\n",
      "features.shape(62, 253)\n",
      "vad.shape(253,)\n",
      "features.shape(62, 444)\n",
      "vad.shape(444,)\n",
      "features.shape(62, 282)\n",
      "vad.shape(282,)\n"
     ]
    },
    {
     "name": "stderr",
     "output_type": "stream",
     "text": [
      " 89%|████████▉ | 5710/6394 [04:02<00:06, 104.47it/s]"
     ]
    },
    {
     "name": "stdout",
     "output_type": "stream",
     "text": [
      "features.shape(62, 223)\n",
      "vad.shape(223,)\n",
      "features.shape(62, 308)\n",
      "vad.shape(308,)\n",
      "features.shape(62, 795)\n",
      "vad.shape(795,)\n",
      "features.shape(62, 346)\n",
      "vad.shape(346,)\n",
      "features.shape(62, 266)\n",
      "vad.shape(266,)\n",
      "features.shape(62, 372)\n",
      "vad.shape(372,)\n",
      "features.shape(62, 214)\n",
      "vad.shape(214,)\n",
      "features.shape(62, 381)\n",
      "vad.shape(381,)\n",
      "features.shape(62, 295)\n",
      "vad.shape(295,)\n",
      "features.shape(62, 291)\n",
      "vad.shape(291,)\n",
      "features.shape(62, 278)\n",
      "vad.shape(278,)\n",
      "features.shape(62, 287)\n",
      "vad.shape(287,)\n",
      "features.shape(62, 223)\n",
      "vad.shape(223,)\n",
      "features.shape(62, 321)\n",
      "vad.shape(321,)\n",
      "features.shape(62, 457)\n",
      "vad.shape(457,)\n",
      "features.shape(62, 278)\n",
      "vad.shape(278,)\n",
      "features.shape(62, 253)\n",
      "vad.shape(253,)\n",
      "features.shape(62, 261)\n",
      "vad.shape(261,)\n",
      "features.shape(62, 439)\n",
      "vad.shape(439,)\n",
      "features.shape(62, 393)\n",
      "vad.shape(393,)\n",
      "features.shape(62, 218)\n",
      "vad.shape(218,)\n",
      "features.shape(62, 372)\n",
      "vad.shape(372,)\n",
      "features.shape(62, 295)\n",
      "vad.shape(295,)\n",
      "features.shape(62, 257)\n",
      "vad.shape(257,)\n",
      "features.shape(62, 308)\n",
      "vad.shape(308,)\n"
     ]
    },
    {
     "name": "stderr",
     "output_type": "stream",
     "text": [
      " 90%|████████▉ | 5731/6394 [04:03<00:08, 77.92it/s] "
     ]
    },
    {
     "name": "stdout",
     "output_type": "stream",
     "text": [
      "features.shape(62, 398)\n",
      "vad.shape(398,)\n",
      "features.shape(62, 359)\n",
      "vad.shape(359,)\n",
      "features.shape(62, 444)\n",
      "vad.shape(444,)\n",
      "features.shape(62, 274)\n",
      "vad.shape(274,)\n",
      "features.shape(62, 231)\n",
      "vad.shape(231,)\n",
      "features.shape(62, 564)\n",
      "vad.shape(564,)\n",
      "features.shape(62, 427)\n",
      "vad.shape(427,)\n",
      "features.shape(62, 892)\n",
      "vad.shape(892,)\n",
      "features.shape(62, 393)\n",
      "vad.shape(393,)\n",
      "features.shape(62, 334)\n",
      "vad.shape(334,)\n",
      "features.shape(62, 214)\n",
      "vad.shape(214,)\n"
     ]
    },
    {
     "name": "stderr",
     "output_type": "stream",
     "text": [
      " 90%|█████████ | 5756/6394 [04:03<00:06, 93.74it/s]"
     ]
    },
    {
     "name": "stdout",
     "output_type": "stream",
     "text": [
      "features.shape(62, 261)\n",
      "vad.shape(261,)\n",
      "features.shape(62, 240)\n",
      "vad.shape(240,)\n",
      "features.shape(62, 479)\n",
      "vad.shape(479,)\n",
      "features.shape(62, 338)\n",
      "vad.shape(338,)\n",
      "features.shape(62, 321)\n",
      "vad.shape(321,)\n",
      "features.shape(62, 282)\n",
      "vad.shape(282,)\n",
      "features.shape(62, 286)\n",
      "vad.shape(286,)\n",
      "features.shape(62, 368)\n",
      "vad.shape(368,)\n",
      "features.shape(62, 342)\n",
      "vad.shape(342,)\n",
      "features.shape(62, 278)\n",
      "vad.shape(278,)\n",
      "features.shape(62, 338)\n",
      "vad.shape(338,)\n",
      "features.shape(62, 338)\n",
      "vad.shape(338,)\n",
      "features.shape(62, 317)\n",
      "vad.shape(317,)\n",
      "features.shape(62, 325)\n",
      "vad.shape(325,)\n",
      "features.shape(62, 300)\n",
      "vad.shape(300,)\n",
      "features.shape(62, 274)\n",
      "vad.shape(274,)\n",
      "features.shape(62, 760)\n",
      "vad.shape(760,)\n",
      "features.shape(62, 346)\n",
      "vad.shape(346,)\n",
      "features.shape(62, 351)\n",
      "vad.shape(351,)\n",
      "features.shape(62, 334)\n",
      "vad.shape(334,)\n",
      "features.shape(62, 257)\n",
      "vad.shape(257,)\n",
      "features.shape(62, 355)\n",
      "vad.shape(355,)\n",
      "features.shape(62, 261)\n",
      "vad.shape(261,)\n",
      "features.shape(62, 406)\n",
      "vad.shape(406,)\n",
      "features.shape(62, 270)\n",
      "vad.shape(270,)\n"
     ]
    },
    {
     "name": "stderr",
     "output_type": "stream",
     "text": [
      " 90%|█████████ | 5766/6394 [04:03<00:07, 88.95it/s]"
     ]
    },
    {
     "name": "stdout",
     "output_type": "stream",
     "text": [
      "features.shape(62, 393)\n",
      "vad.shape(393,)\n",
      "features.shape(62, 236)\n",
      "vad.shape(236,)\n",
      "features.shape(62, 325)\n",
      "vad.shape(325,)\n",
      "features.shape(62, 252)\n",
      "vad.shape(252,)\n",
      "features.shape(62, 227)\n",
      "vad.shape(227,)\n",
      "features.shape(62, 269)\n",
      "vad.shape(269,)\n",
      "features.shape(62, 231)\n",
      "vad.shape(231,)\n",
      "features.shape(62, 184)\n",
      "vad.shape(184,)\n",
      "features.shape(62, 299)\n",
      "vad.shape(299,)\n",
      "features.shape(62, 304)\n",
      "vad.shape(304,)\n",
      "features.shape(62, 295)\n",
      "vad.shape(295,)\n",
      "features.shape(62, 330)\n",
      "vad.shape(330,)\n",
      "features.shape(62, 335)\n",
      "vad.shape(335,)\n",
      "features.shape(62, 342)\n",
      "vad.shape(342,)\n",
      "features.shape(62, 244)\n",
      "vad.shape(244,)\n",
      "features.shape(62, 248)\n",
      "vad.shape(248,)\n",
      "features.shape(62, 304)\n",
      "vad.shape(304,)\n"
     ]
    },
    {
     "name": "stderr",
     "output_type": "stream",
     "text": [
      " 91%|█████████ | 5789/6394 [04:03<00:06, 94.49it/s]"
     ]
    },
    {
     "name": "stdout",
     "output_type": "stream",
     "text": [
      "features.shape(62, 782)\n",
      "vad.shape(782,)\n",
      "features.shape(62, 346)\n",
      "vad.shape(346,)\n",
      "features.shape(62, 308)\n",
      "vad.shape(308,)\n",
      "features.shape(62, 261)\n",
      "vad.shape(261,)\n",
      "features.shape(62, 312)\n",
      "vad.shape(312,)\n",
      "features.shape(62, 338)\n",
      "vad.shape(338,)\n",
      "features.shape(62, 278)\n",
      "vad.shape(278,)\n",
      "features.shape(62, 338)\n",
      "vad.shape(338,)\n",
      "features.shape(62, 236)\n",
      "vad.shape(236,)\n",
      "features.shape(62, 235)\n",
      "vad.shape(235,)\n",
      "features.shape(62, 252)\n",
      "vad.shape(252,)\n",
      "features.shape(62, 308)\n",
      "vad.shape(308,)\n",
      "features.shape(62, 274)\n",
      "vad.shape(274,)\n",
      "features.shape(62, 295)\n",
      "vad.shape(295,)\n",
      "features.shape(62, 270)\n",
      "vad.shape(270,)\n",
      "features.shape(62, 269)\n",
      "vad.shape(269,)\n",
      "features.shape(62, 205)\n",
      "vad.shape(205,)\n",
      "features.shape(62, 227)\n",
      "vad.shape(227,)\n"
     ]
    },
    {
     "name": "stderr",
     "output_type": "stream",
     "text": [
      " 91%|█████████ | 5799/6394 [04:03<00:07, 84.40it/s]"
     ]
    },
    {
     "name": "stdout",
     "output_type": "stream",
     "text": [
      "features.shape(62, 338)\n",
      "vad.shape(338,)\n",
      "features.shape(62, 402)\n",
      "vad.shape(402,)\n",
      "features.shape(62, 304)\n",
      "vad.shape(304,)\n",
      "features.shape(62, 282)\n",
      "vad.shape(282,)\n",
      "features.shape(62, 295)\n",
      "vad.shape(295,)\n",
      "features.shape(62, 193)\n",
      "vad.shape(193,)\n",
      "features.shape(62, 248)\n",
      "vad.shape(248,)\n",
      "features.shape(62, 257)\n",
      "vad.shape(257,)\n",
      "features.shape(62, 244)\n",
      "vad.shape(244,)\n",
      "features.shape(62, 338)\n",
      "vad.shape(338,)\n",
      "features.shape(62, 270)\n",
      "vad.shape(270,)\n",
      "features.shape(62, 428)\n",
      "vad.shape(428,)\n",
      "features.shape(62, 333)\n",
      "vad.shape(333,)\n",
      "features.shape(62, 359)\n",
      "vad.shape(359,)\n",
      "features.shape(62, 338)\n",
      "vad.shape(338,)\n",
      "features.shape(62, 231)\n",
      "vad.shape(231,)\n",
      "features.shape(62, 368)\n",
      "vad.shape(368,)\n",
      "features.shape(62, 410)\n",
      "vad.shape(410,)\n",
      "features.shape(62, 266)\n",
      "vad.shape(266,)\n"
     ]
    },
    {
     "name": "stderr",
     "output_type": "stream",
     "text": [
      " 91%|█████████ | 5823/6394 [04:04<00:05, 97.49it/s]"
     ]
    },
    {
     "name": "stdout",
     "output_type": "stream",
     "text": [
      "features.shape(62, 385)\n",
      "vad.shape(385,)\n",
      "features.shape(62, 282)\n",
      "vad.shape(282,)\n",
      "features.shape(62, 325)\n",
      "vad.shape(325,)\n",
      "features.shape(62, 419)\n",
      "vad.shape(419,)\n",
      "features.shape(62, 283)\n",
      "vad.shape(283,)\n",
      "features.shape(62, 219)\n",
      "vad.shape(219,)\n",
      "features.shape(62, 351)\n",
      "vad.shape(351,)\n",
      "features.shape(62, 346)\n",
      "vad.shape(346,)\n",
      "features.shape(62, 389)\n",
      "vad.shape(389,)\n",
      "features.shape(62, 854)\n",
      "vad.shape(854,)\n",
      "features.shape(62, 359)\n",
      "vad.shape(359,)\n",
      "features.shape(62, 240)\n",
      "vad.shape(240,)\n",
      "features.shape(62, 291)\n",
      "vad.shape(291,)\n",
      "features.shape(62, 240)\n",
      "vad.shape(240,)\n",
      "features.shape(62, 449)\n",
      "vad.shape(449,)\n",
      "features.shape(62, 227)\n",
      "vad.shape(227,)\n",
      "features.shape(62, 227)\n",
      "vad.shape(227,)\n",
      "features.shape(62, 295)\n",
      "vad.shape(295,)\n",
      "features.shape(62, 342)\n",
      "vad.shape(342,)\n",
      "features.shape(62, 436)\n",
      "vad.shape(436,)\n",
      "features.shape(62, 188)\n",
      "vad.shape(188,)\n",
      "features.shape(62, 402)\n",
      "vad.shape(402,)\n",
      "features.shape(62, 508)\n",
      "vad.shape(508,)\n",
      "features.shape(62, 359)\n"
     ]
    },
    {
     "name": "stderr",
     "output_type": "stream",
     "text": [
      " 91%|█████████▏| 5845/6394 [04:04<00:05, 100.57it/s]"
     ]
    },
    {
     "name": "stdout",
     "output_type": "stream",
     "text": [
      "vad.shape(359,)\n",
      "features.shape(62, 300)\n",
      "vad.shape(300,)\n",
      "features.shape(62, 355)\n",
      "vad.shape(355,)\n",
      "features.shape(62, 521)\n",
      "vad.shape(521,)\n",
      "features.shape(62, 602)\n",
      "vad.shape(602,)\n",
      "features.shape(62, 645)\n",
      "vad.shape(645,)\n",
      "features.shape(62, 692)\n",
      "vad.shape(692,)\n",
      "features.shape(62, 338)\n",
      "vad.shape(338,)\n",
      "features.shape(62, 961)\n",
      "vad.shape(961,)\n",
      "features.shape(62, 325)\n",
      "vad.shape(325,)\n",
      "features.shape(62, 948)\n",
      "vad.shape(948,)\n",
      "features.shape(62, 675)\n",
      "vad.shape(675,)\n",
      "features.shape(62, 504)\n",
      "vad.shape(504,)\n",
      "features.shape(62, 287)\n",
      "vad.shape(287,)\n",
      "features.shape(62, 368)\n",
      "vad.shape(368,)\n",
      "features.shape(62, 568)\n",
      "vad.shape(568,)\n",
      "features.shape(62, 615)\n",
      "vad.shape(615,)\n",
      "features.shape(62, 453)\n",
      "vad.shape(453,)\n",
      "features.shape(62, 423)\n",
      "vad.shape(423,)\n",
      "features.shape(62, 598)\n",
      "vad.shape(598,)\n"
     ]
    },
    {
     "name": "stderr",
     "output_type": "stream",
     "text": [
      " 92%|█████████▏| 5856/6394 [04:04<00:05, 90.70it/s] "
     ]
    },
    {
     "name": "stdout",
     "output_type": "stream",
     "text": [
      "features.shape(62, 351)\n",
      "vad.shape(351,)\n",
      "features.shape(62, 679)\n",
      "vad.shape(679,)\n",
      "features.shape(62, 492)\n",
      "vad.shape(492,)\n",
      "features.shape(62, 658)\n",
      "vad.shape(658,)\n",
      "features.shape(62, 278)\n",
      "vad.shape(278,)\n",
      "features.shape(62, 556)\n",
      "vad.shape(556,)\n",
      "features.shape(62, 461)\n",
      "vad.shape(461,)\n",
      "features.shape(62, 265)\n",
      "vad.shape(265,)\n",
      "features.shape(62, 1272)\n",
      "vad.shape(1272,)\n",
      "features.shape(62, 628)\n",
      "vad.shape(628,)\n"
     ]
    },
    {
     "name": "stderr",
     "output_type": "stream",
     "text": [
      " 92%|█████████▏| 5876/6394 [04:04<00:06, 80.04it/s]"
     ]
    },
    {
     "name": "stdout",
     "output_type": "stream",
     "text": [
      "features.shape(62, 560)\n",
      "vad.shape(560,)\n",
      "features.shape(62, 415)\n",
      "vad.shape(415,)\n",
      "features.shape(62, 679)\n",
      "vad.shape(679,)\n",
      "features.shape(62, 206)\n",
      "vad.shape(206,)\n",
      "features.shape(62, 718)\n",
      "vad.shape(718,)\n",
      "features.shape(62, 359)\n",
      "vad.shape(359,)\n",
      "features.shape(62, 833)\n",
      "vad.shape(833,)\n",
      "features.shape(62, 525)\n",
      "vad.shape(525,)\n",
      "features.shape(62, 321)\n",
      "vad.shape(321,)\n",
      "features.shape(62, 385)\n",
      "vad.shape(385,)\n",
      "features.shape(62, 624)\n",
      "vad.shape(624,)\n",
      "features.shape(62, 410)\n",
      "vad.shape(410,)\n",
      "features.shape(62, 615)\n",
      "vad.shape(615,)\n",
      "features.shape(62, 393)\n",
      "vad.shape(393,)\n",
      "features.shape(62, 393)\n",
      "vad.shape(393,)\n",
      "features.shape(62, 278)\n",
      "vad.shape(278,)\n",
      "features.shape(62, 244)\n",
      "vad.shape(244,)\n",
      "features.shape(62, 863)\n",
      "vad.shape(863,)\n",
      "features.shape(62, 342)\n",
      "vad.shape(342,)\n",
      "features.shape(62, 539)\n",
      "vad.shape(539,)\n",
      "features.shape(62, 863)\n",
      "vad.shape(863,)\n"
     ]
    },
    {
     "name": "stderr",
     "output_type": "stream",
     "text": [
      " 92%|█████████▏| 5894/6394 [04:04<00:07, 68.10it/s]"
     ]
    },
    {
     "name": "stdout",
     "output_type": "stream",
     "text": [
      "features.shape(62, 321)\n",
      "vad.shape(321,)\n",
      "features.shape(62, 786)\n",
      "vad.shape(786,)\n",
      "features.shape(62, 479)\n",
      "vad.shape(479,)\n",
      "features.shape(62, 449)\n",
      "vad.shape(449,)\n",
      "features.shape(62, 517)\n",
      "vad.shape(517,)\n",
      "features.shape(62, 303)\n",
      "vad.shape(303,)\n",
      "features.shape(62, 521)\n",
      "vad.shape(521,)\n",
      "features.shape(62, 385)\n",
      "vad.shape(385,)\n",
      "features.shape(62, 479)\n",
      "vad.shape(479,)\n",
      "features.shape(62, 346)\n",
      "vad.shape(346,)\n"
     ]
    },
    {
     "name": "stderr",
     "output_type": "stream",
     "text": [
      " 92%|█████████▏| 5906/6394 [04:05<00:06, 78.23it/s]"
     ]
    },
    {
     "name": "stdout",
     "output_type": "stream",
     "text": [
      "features.shape(62, 496)\n",
      "vad.shape(496,)\n",
      "features.shape(62, 939)\n",
      "vad.shape(939,)\n",
      "features.shape(62, 436)\n",
      "vad.shape(436,)\n",
      "features.shape(62, 683)\n",
      "vad.shape(683,)\n",
      "features.shape(62, 214)\n",
      "vad.shape(214,)\n",
      "features.shape(62, 347)\n",
      "vad.shape(347,)\n",
      "features.shape(62, 709)\n",
      "vad.shape(709,)\n",
      "features.shape(62, 359)\n",
      "vad.shape(359,)\n",
      "features.shape(62, 278)\n",
      "vad.shape(278,)\n",
      "features.shape(62, 342)\n",
      "vad.shape(342,)\n",
      "features.shape(62, 415)\n",
      "vad.shape(415,)\n",
      "features.shape(62, 325)\n",
      "vad.shape(325,)\n",
      "features.shape(62, 547)\n",
      "vad.shape(547,)\n",
      "features.shape(62, 193)\n",
      "vad.shape(193,)\n",
      "features.shape(62, 568)\n",
      "vad.shape(568,)\n",
      "features.shape(62, 645)\n",
      "vad.shape(645,)\n",
      "features.shape(62, 620)\n",
      "vad.shape(620,)\n",
      "features.shape(62, 312)\n",
      "vad.shape(312,)\n",
      "features.shape(62, 419)\n",
      "vad.shape(419,)\n",
      "features.shape(62, 385)\n",
      "vad.shape(385,)\n",
      "features.shape(62, 308)\n",
      "vad.shape(308,)\n"
     ]
    },
    {
     "name": "stderr",
     "output_type": "stream",
     "text": [
      " 93%|█████████▎| 5925/6394 [04:05<00:06, 70.07it/s]"
     ]
    },
    {
     "name": "stdout",
     "output_type": "stream",
     "text": [
      "features.shape(62, 372)\n",
      "vad.shape(372,)\n",
      "features.shape(62, 359)\n",
      "vad.shape(359,)\n",
      "features.shape(62, 555)\n",
      "vad.shape(555,)\n",
      "features.shape(62, 355)\n",
      "vad.shape(355,)\n",
      "features.shape(62, 658)\n",
      "vad.shape(658,)\n",
      "features.shape(62, 551)\n",
      "vad.shape(551,)\n",
      "features.shape(62, 517)\n",
      "vad.shape(517,)\n",
      "features.shape(62, 355)\n",
      "vad.shape(355,)\n",
      "features.shape(62, 449)\n",
      "vad.shape(449,)\n",
      "features.shape(62, 244)\n",
      "vad.shape(244,)\n",
      "features.shape(62, 346)\n",
      "vad.shape(346,)\n",
      "features.shape(62, 359)\n",
      "vad.shape(359,)\n"
     ]
    },
    {
     "name": "stderr",
     "output_type": "stream",
     "text": [
      " 93%|█████████▎| 5945/6394 [04:05<00:05, 75.69it/s]"
     ]
    },
    {
     "name": "stdout",
     "output_type": "stream",
     "text": [
      "features.shape(62, 461)\n",
      "vad.shape(461,)\n",
      "features.shape(62, 436)\n",
      "vad.shape(436,)\n",
      "features.shape(62, 376)\n",
      "vad.shape(376,)\n",
      "features.shape(62, 581)\n",
      "vad.shape(581,)\n",
      "features.shape(62, 607)\n",
      "vad.shape(607,)\n",
      "features.shape(62, 389)\n",
      "vad.shape(389,)\n",
      "features.shape(62, 526)\n",
      "vad.shape(526,)\n",
      "features.shape(62, 461)\n",
      "vad.shape(461,)\n",
      "features.shape(62, 308)\n",
      "vad.shape(308,)\n",
      "features.shape(62, 807)\n",
      "vad.shape(807,)\n",
      "features.shape(62, 372)\n",
      "vad.shape(372,)\n",
      "features.shape(62, 312)\n",
      "vad.shape(312,)\n",
      "features.shape(62, 364)\n",
      "vad.shape(364,)\n",
      "features.shape(62, 530)\n",
      "vad.shape(530,)\n",
      "features.shape(62, 615)\n",
      "vad.shape(615,)\n",
      "features.shape(62, 368)\n",
      "vad.shape(368,)\n",
      "features.shape(62, 265)\n",
      "vad.shape(265,)\n",
      "features.shape(62, 376)\n",
      "vad.shape(376,)\n"
     ]
    },
    {
     "name": "stderr",
     "output_type": "stream",
     "text": [
      " 93%|█████████▎| 5955/6394 [04:05<00:05, 80.43it/s]"
     ]
    },
    {
     "name": "stdout",
     "output_type": "stream",
     "text": [
      "features.shape(62, 222)\n",
      "vad.shape(222,)\n",
      "features.shape(62, 415)\n",
      "vad.shape(415,)\n",
      "features.shape(62, 368)\n",
      "vad.shape(368,)\n",
      "features.shape(62, 299)\n",
      "vad.shape(299,)\n",
      "features.shape(62, 440)\n",
      "vad.shape(440,)\n",
      "features.shape(62, 414)\n",
      "vad.shape(414,)\n",
      "features.shape(62, 645)\n",
      "vad.shape(645,)\n",
      "features.shape(62, 641)\n",
      "vad.shape(641,)\n",
      "features.shape(62, 419)\n",
      "vad.shape(419,)\n",
      "features.shape(62, 478)\n",
      "vad.shape(478,)\n",
      "features.shape(62, 172)\n",
      "vad.shape(172,)\n",
      "features.shape(62, 312)\n",
      "vad.shape(312,)\n",
      "features.shape(62, 282)\n",
      "vad.shape(282,)\n",
      "features.shape(62, 329)\n",
      "vad.shape(329,)\n",
      "features.shape(62, 235)\n",
      "vad.shape(235,)\n",
      "features.shape(62, 312)\n",
      "vad.shape(312,)\n",
      "features.shape(62, 479)\n",
      "vad.shape(479,)\n",
      "features.shape(62, 568)\n",
      "vad.shape(568,)\n",
      "features.shape(62, 522)\n",
      "vad.shape(522,)\n"
     ]
    },
    {
     "name": "stderr",
     "output_type": "stream",
     "text": [
      " 93%|█████████▎| 5977/6394 [04:05<00:04, 91.37it/s]"
     ]
    },
    {
     "name": "stdout",
     "output_type": "stream",
     "text": [
      "features.shape(62, 342)\n",
      "vad.shape(342,)\n",
      "features.shape(62, 287)\n",
      "vad.shape(287,)\n",
      "features.shape(62, 342)\n",
      "vad.shape(342,)\n",
      "features.shape(62, 718)\n",
      "vad.shape(718,)\n",
      "features.shape(62, 286)\n",
      "vad.shape(286,)\n",
      "features.shape(62, 636)\n",
      "vad.shape(636,)\n",
      "features.shape(62, 440)\n",
      "vad.shape(440,)\n",
      "features.shape(62, 479)\n",
      "vad.shape(479,)\n",
      "features.shape(62, 312)\n",
      "vad.shape(312,)\n",
      "features.shape(62, 888)\n",
      "vad.shape(888,)\n",
      "features.shape(62, 534)\n",
      "vad.shape(534,)\n",
      "features.shape(62, 411)\n",
      "vad.shape(411,)\n",
      "features.shape(62, 513)\n",
      "vad.shape(513,)\n",
      "features.shape(62, 692)\n",
      "vad.shape(692,)\n",
      "features.shape(62, 423)\n",
      "vad.shape(423,)\n",
      "features.shape(62, 257)\n",
      "vad.shape(257,)\n",
      "features.shape(62, 351)\n",
      "vad.shape(351,)\n",
      "features.shape(62, 496)\n",
      "vad.shape(496,)\n",
      "features.shape(62, 253)\n",
      "vad.shape(253,)\n",
      "features.shape(62, 449)\n",
      "vad.shape(449,)\n",
      "features.shape(62, 240)\n",
      "vad.shape(240,)\n",
      "features.shape(62, 261)\n",
      "vad.shape(261,)\n",
      "features.shape(62, 368)\n",
      "vad.shape(368,)\n"
     ]
    },
    {
     "name": "stderr",
     "output_type": "stream",
     "text": [
      " 94%|█████████▍| 5998/6394 [04:06<00:04, 95.04it/s]"
     ]
    },
    {
     "name": "stdout",
     "output_type": "stream",
     "text": [
      "features.shape(62, 317)\n",
      "vad.shape(317,)\n",
      "features.shape(62, 419)\n",
      "vad.shape(419,)\n",
      "features.shape(62, 410)\n",
      "vad.shape(410,)\n",
      "features.shape(62, 303)\n",
      "vad.shape(303,)\n",
      "features.shape(62, 410)\n",
      "vad.shape(410,)\n",
      "features.shape(62, 265)\n",
      "vad.shape(265,)\n",
      "features.shape(62, 419)\n",
      "vad.shape(419,)\n",
      "features.shape(62, 479)\n",
      "vad.shape(479,)\n",
      "features.shape(62, 722)\n",
      "vad.shape(722,)\n",
      "features.shape(62, 526)\n",
      "vad.shape(526,)\n",
      "features.shape(62, 513)\n",
      "vad.shape(513,)\n",
      "features.shape(62, 410)\n",
      "vad.shape(410,)\n",
      "features.shape(62, 206)\n",
      "vad.shape(206,)\n",
      "features.shape(62, 436)\n",
      "vad.shape(436,)\n",
      "features.shape(62, 308)\n",
      "vad.shape(308,)\n",
      "features.shape(62, 381)\n",
      "vad.shape(381,)\n",
      "features.shape(62, 185)\n",
      "vad.shape(185,)\n",
      "features.shape(62, 321)\n",
      "vad.shape(321,)\n",
      "features.shape(62, 530)\n",
      "vad.shape(530,)\n",
      "features.shape(62, 270)\n",
      "vad.shape(270,)\n"
     ]
    },
    {
     "name": "stderr",
     "output_type": "stream",
     "text": [
      " 94%|█████████▍| 6009/6394 [04:06<00:03, 96.80it/s]"
     ]
    },
    {
     "name": "stdout",
     "output_type": "stream",
     "text": [
      "features.shape(62, 334)\n",
      "vad.shape(334,)\n",
      "features.shape(62, 602)\n",
      "vad.shape(602,)\n",
      "features.shape(62, 300)\n",
      "vad.shape(300,)\n",
      "features.shape(62, 453)\n",
      "vad.shape(453,)\n",
      "features.shape(62, 837)\n",
      "vad.shape(837,)\n",
      "features.shape(62, 308)\n",
      "vad.shape(308,)\n",
      "features.shape(62, 189)\n",
      "vad.shape(189,)\n",
      "features.shape(62, 462)\n",
      "vad.shape(462,)\n",
      "features.shape(62, 359)\n",
      "vad.shape(359,)\n"
     ]
    },
    {
     "name": "stderr",
     "output_type": "stream",
     "text": [
      " 94%|█████████▍| 6028/6394 [04:06<00:04, 77.65it/s]"
     ]
    },
    {
     "name": "stdout",
     "output_type": "stream",
     "text": [
      "features.shape(62, 679)\n",
      "vad.shape(679,)\n",
      "features.shape(62, 479)\n",
      "vad.shape(479,)\n",
      "features.shape(62, 722)\n",
      "vad.shape(722,)\n",
      "features.shape(62, 393)\n",
      "vad.shape(393,)\n",
      "features.shape(62, 586)\n",
      "vad.shape(586,)\n",
      "features.shape(62, 227)\n",
      "vad.shape(227,)\n",
      "features.shape(62, 398)\n",
      "vad.shape(398,)\n",
      "features.shape(62, 201)\n",
      "vad.shape(201,)\n",
      "features.shape(62, 333)\n",
      "vad.shape(333,)\n",
      "features.shape(62, 525)\n",
      "vad.shape(525,)\n",
      "features.shape(62, 824)\n",
      "vad.shape(824,)\n",
      "features.shape(62, 193)\n",
      "vad.shape(193,)\n",
      "features.shape(62, 547)\n",
      "vad.shape(547,)\n",
      "features.shape(62, 278)\n",
      "vad.shape(278,)\n",
      "features.shape(62, 679)\n",
      "vad.shape(679,)\n",
      "features.shape(62, 607)\n",
      "vad.shape(607,)\n",
      "features.shape(62, 573)\n",
      "vad.shape(573,)\n",
      "features.shape(62, 278)\n",
      "vad.shape(278,)\n"
     ]
    },
    {
     "name": "stderr",
     "output_type": "stream",
     "text": [
      " 95%|█████████▍| 6045/6394 [04:06<00:05, 68.16it/s]"
     ]
    },
    {
     "name": "stdout",
     "output_type": "stream",
     "text": [
      "features.shape(62, 427)\n",
      "vad.shape(427,)\n",
      "features.shape(62, 214)\n",
      "vad.shape(214,)\n",
      "features.shape(62, 282)\n",
      "vad.shape(282,)\n",
      "features.shape(62, 338)\n",
      "vad.shape(338,)\n",
      "features.shape(62, 581)\n",
      "vad.shape(581,)\n",
      "features.shape(62, 722)\n",
      "vad.shape(722,)\n",
      "features.shape(62, 688)\n",
      "vad.shape(688,)\n",
      "features.shape(62, 675)\n",
      "vad.shape(675,)\n",
      "features.shape(62, 317)\n",
      "vad.shape(317,)\n",
      "features.shape(62, 436)\n",
      "vad.shape(436,)\n",
      "features.shape(62, 649)\n",
      "vad.shape(649,)\n",
      "features.shape(62, 304)\n",
      "vad.shape(304,)\n",
      "features.shape(62, 261)\n",
      "vad.shape(261,)\n",
      "features.shape(62, 922)\n",
      "vad.shape(922,)\n"
     ]
    },
    {
     "name": "stderr",
     "output_type": "stream",
     "text": [
      " 95%|█████████▍| 6068/6394 [04:07<00:03, 84.57it/s]"
     ]
    },
    {
     "name": "stdout",
     "output_type": "stream",
     "text": [
      "features.shape(62, 871)\n",
      "vad.shape(871,)\n",
      "features.shape(62, 304)\n",
      "vad.shape(304,)\n",
      "features.shape(62, 440)\n",
      "vad.shape(440,)\n",
      "features.shape(62, 355)\n",
      "vad.shape(355,)\n",
      "features.shape(62, 248)\n",
      "vad.shape(248,)\n",
      "features.shape(62, 683)\n",
      "vad.shape(683,)\n",
      "features.shape(62, 709)\n",
      "vad.shape(709,)\n",
      "features.shape(62, 773)\n",
      "vad.shape(773,)\n",
      "features.shape(62, 474)\n",
      "vad.shape(474,)\n",
      "features.shape(62, 718)\n",
      "vad.shape(718,)\n",
      "features.shape(62, 303)\n",
      "vad.shape(303,)\n",
      "features.shape(62, 428)\n",
      "vad.shape(428,)\n",
      "features.shape(62, 666)\n",
      "vad.shape(666,)\n",
      "features.shape(62, 756)\n",
      "vad.shape(756,)\n",
      "features.shape(62, 389)\n",
      "vad.shape(389,)\n",
      "features.shape(62, 351)\n",
      "vad.shape(351,)\n",
      "features.shape(62, 449)\n",
      "vad.shape(449,)\n",
      "features.shape(62, 863)\n",
      "vad.shape(863,)\n",
      "features.shape(62, 257)\n",
      "vad.shape(257,)\n",
      "features.shape(62, 670)\n",
      "vad.shape(670,)\n"
     ]
    },
    {
     "name": "stderr",
     "output_type": "stream",
     "text": [
      " 95%|█████████▌| 6081/6394 [04:07<00:03, 95.08it/s]"
     ]
    },
    {
     "name": "stdout",
     "output_type": "stream",
     "text": [
      "features.shape(62, 389)\n",
      "vad.shape(389,)\n",
      "features.shape(62, 551)\n",
      "vad.shape(551,)\n",
      "features.shape(62, 717)\n",
      "vad.shape(717,)\n",
      "features.shape(62, 248)\n",
      "vad.shape(248,)\n",
      "features.shape(62, 432)\n",
      "vad.shape(432,)\n",
      "features.shape(62, 308)\n",
      "vad.shape(308,)\n",
      "features.shape(62, 445)\n",
      "vad.shape(445,)\n",
      "features.shape(62, 223)\n",
      "vad.shape(223,)\n",
      "features.shape(62, 355)\n",
      "vad.shape(355,)\n",
      "features.shape(62, 688)\n",
      "vad.shape(688,)\n",
      "features.shape(62, 628)\n",
      "vad.shape(628,)\n",
      "features.shape(62, 534)\n",
      "vad.shape(534,)\n",
      "features.shape(62, 555)\n",
      "vad.shape(555,)\n",
      "features.shape(62, 833)\n",
      "vad.shape(833,)\n",
      "features.shape(62, 683)\n",
      "vad.shape(683,)\n",
      "features.shape(62, 381)\n",
      "vad.shape(381,)\n",
      "features.shape(62, 1264)\n",
      "vad.shape(1264,)\n",
      "features.shape(62, 807)\n",
      "vad.shape(807,)\n",
      "features.shape(62, 312)\n",
      "vad.shape(312,)\n",
      "features.shape(62, 709)\n",
      "vad.shape(709,)\n",
      "features.shape(62, 666)\n",
      "vad.shape(666,)\n",
      "features.shape(62, 338)\n",
      "vad.shape(338,)\n",
      "features.shape(62, 265)\n"
     ]
    },
    {
     "name": "stderr",
     "output_type": "stream",
     "text": [
      " 95%|█████████▌| 6101/6394 [04:07<00:03, 92.11it/s]"
     ]
    },
    {
     "name": "stdout",
     "output_type": "stream",
     "text": [
      "vad.shape(265,)\n",
      "features.shape(62, 581)\n",
      "vad.shape(581,)\n",
      "features.shape(62, 355)\n",
      "vad.shape(355,)\n",
      "features.shape(62, 645)\n",
      "vad.shape(645,)\n",
      "features.shape(62, 432)\n",
      "vad.shape(432,)\n",
      "features.shape(62, 696)\n",
      "vad.shape(696,)\n",
      "features.shape(62, 500)\n",
      "vad.shape(500,)\n",
      "features.shape(62, 317)\n",
      "vad.shape(317,)\n",
      "features.shape(62, 385)\n",
      "vad.shape(385,)\n",
      "features.shape(62, 376)\n",
      "vad.shape(376,)\n",
      "features.shape(62, 530)\n",
      "vad.shape(530,)\n",
      "features.shape(62, 296)\n",
      "vad.shape(296,)\n",
      "features.shape(62, 295)\n",
      "vad.shape(295,)\n",
      "features.shape(62, 479)\n",
      "vad.shape(479,)\n",
      "features.shape(62, 329)\n",
      "vad.shape(329,)\n",
      "features.shape(62, 449)\n",
      "vad.shape(449,)\n",
      "features.shape(62, 261)\n",
      "vad.shape(261,)\n",
      "features.shape(62, 615)\n",
      "vad.shape(615,)\n",
      "features.shape(62, 701)\n",
      "vad.shape(701,)\n",
      "features.shape(62, 304)\n",
      "vad.shape(304,)\n"
     ]
    },
    {
     "name": "stderr",
     "output_type": "stream",
     "text": [
      " 96%|█████████▌| 6120/6394 [04:07<00:03, 70.48it/s]"
     ]
    },
    {
     "name": "stdout",
     "output_type": "stream",
     "text": [
      "features.shape(62, 364)\n",
      "vad.shape(364,)\n",
      "features.shape(62, 675)\n",
      "vad.shape(675,)\n",
      "features.shape(62, 325)\n",
      "vad.shape(325,)\n",
      "features.shape(62, 227)\n",
      "vad.shape(227,)\n",
      "features.shape(62, 547)\n",
      "vad.shape(547,)\n",
      "features.shape(62, 338)\n",
      "vad.shape(338,)\n",
      "features.shape(62, 389)\n",
      "vad.shape(389,)\n",
      "features.shape(62, 359)\n",
      "vad.shape(359,)\n",
      "features.shape(62, 265)\n",
      "vad.shape(265,)\n",
      "features.shape(62, 560)\n",
      "vad.shape(560,)\n"
     ]
    },
    {
     "name": "stderr",
     "output_type": "stream",
     "text": [
      " 96%|█████████▌| 6129/6394 [04:07<00:03, 74.95it/s]"
     ]
    },
    {
     "name": "stdout",
     "output_type": "stream",
     "text": [
      "features.shape(62, 218)\n",
      "vad.shape(218,)\n",
      "features.shape(62, 453)\n",
      "vad.shape(453,)\n",
      "features.shape(62, 415)\n",
      "vad.shape(415,)\n",
      "features.shape(62, 671)\n",
      "vad.shape(671,)\n",
      "features.shape(62, 415)\n",
      "vad.shape(415,)\n",
      "features.shape(62, 287)\n",
      "vad.shape(287,)\n",
      "features.shape(62, 351)\n",
      "vad.shape(351,)\n",
      "features.shape(62, 269)\n",
      "vad.shape(269,)\n",
      "features.shape(62, 556)\n",
      "vad.shape(556,)\n",
      "features.shape(62, 637)\n",
      "vad.shape(637,)\n",
      "features.shape(62, 449)\n",
      "vad.shape(449,)\n",
      "features.shape(62, 539)\n",
      "vad.shape(539,)\n",
      "features.shape(62, 406)\n",
      "vad.shape(406,)\n",
      "features.shape(62, 427)\n",
      "vad.shape(427,)\n",
      "features.shape(62, 496)\n",
      "vad.shape(496,)\n",
      "features.shape(62, 231)\n",
      "vad.shape(231,)\n",
      "features.shape(62, 479)\n",
      "vad.shape(479,)\n",
      "features.shape(62, 436)\n",
      "vad.shape(436,)\n",
      "features.shape(62, 444)\n",
      "vad.shape(444,)\n",
      "features.shape(62, 496)\n",
      "vad.shape(496,)\n",
      "features.shape(62, 321)\n"
     ]
    },
    {
     "name": "stderr",
     "output_type": "stream",
     "text": [
      " 96%|█████████▌| 6152/6394 [04:08<00:02, 91.15it/s]"
     ]
    },
    {
     "name": "stdout",
     "output_type": "stream",
     "text": [
      "vad.shape(321,)\n",
      "features.shape(62, 329)\n",
      "vad.shape(329,)\n",
      "features.shape(62, 769)\n",
      "vad.shape(769,)\n",
      "features.shape(62, 705)\n",
      "vad.shape(705,)\n",
      "features.shape(62, 414)\n",
      "vad.shape(414,)\n",
      "features.shape(62, 334)\n",
      "vad.shape(334,)\n",
      "features.shape(62, 500)\n",
      "vad.shape(500,)\n",
      "features.shape(62, 701)\n",
      "vad.shape(701,)\n",
      "features.shape(62, 248)\n",
      "vad.shape(248,)\n",
      "features.shape(62, 700)\n",
      "vad.shape(700,)\n",
      "features.shape(62, 688)\n",
      "vad.shape(688,)\n",
      "features.shape(62, 411)\n",
      "vad.shape(411,)\n",
      "features.shape(62, 167)\n",
      "vad.shape(167,)\n",
      "features.shape(62, 432)\n",
      "vad.shape(432,)\n",
      "features.shape(62, 606)\n",
      "vad.shape(606,)\n",
      "features.shape(62, 257)\n",
      "vad.shape(257,)\n",
      "features.shape(62, 355)\n",
      "vad.shape(355,)\n",
      "features.shape(62, 257)\n",
      "vad.shape(257,)\n",
      "features.shape(62, 351)\n",
      "vad.shape(351,)\n",
      "features.shape(62, 304)\n",
      "vad.shape(304,)\n",
      "features.shape(62, 385)\n",
      "vad.shape(385,)\n",
      "features.shape(62, 304)\n",
      "vad.shape(304,)\n",
      "features.shape(62, 462)\n",
      "vad.shape(462,)\n",
      "features.shape(62, 287)\n",
      "vad.shape(287,)\n"
     ]
    },
    {
     "name": "stderr",
     "output_type": "stream",
     "text": [
      " 97%|█████████▋| 6177/6394 [04:08<00:02, 100.39it/s]"
     ]
    },
    {
     "name": "stdout",
     "output_type": "stream",
     "text": [
      "features.shape(62, 355)\n",
      "vad.shape(355,)\n",
      "features.shape(62, 312)\n",
      "vad.shape(312,)\n",
      "features.shape(62, 376)\n",
      "vad.shape(376,)\n",
      "features.shape(62, 355)\n",
      "vad.shape(355,)\n",
      "features.shape(62, 270)\n",
      "vad.shape(270,)\n",
      "features.shape(62, 270)\n",
      "vad.shape(270,)\n",
      "features.shape(62, 389)\n",
      "vad.shape(389,)\n",
      "features.shape(62, 432)\n",
      "vad.shape(432,)\n",
      "features.shape(62, 380)\n",
      "vad.shape(380,)\n",
      "features.shape(62, 338)\n",
      "vad.shape(338,)\n",
      "features.shape(62, 368)\n",
      "vad.shape(368,)\n",
      "features.shape(62, 257)\n",
      "vad.shape(257,)\n",
      "features.shape(62, 244)\n",
      "vad.shape(244,)\n",
      "features.shape(62, 453)\n",
      "vad.shape(453,)\n",
      "features.shape(62, 334)\n",
      "vad.shape(334,)\n",
      "features.shape(62, 270)\n",
      "vad.shape(270,)\n",
      "features.shape(62, 333)\n",
      "vad.shape(333,)\n",
      "features.shape(62, 282)\n",
      "vad.shape(282,)\n"
     ]
    },
    {
     "name": "stderr",
     "output_type": "stream",
     "text": [
      " 97%|█████████▋| 6198/6394 [04:08<00:02, 84.90it/s] "
     ]
    },
    {
     "name": "stdout",
     "output_type": "stream",
     "text": [
      "features.shape(62, 251)\n",
      "vad.shape(251,)\n",
      "features.shape(62, 270)\n",
      "vad.shape(270,)\n",
      "features.shape(62, 410)\n",
      "vad.shape(410,)\n",
      "features.shape(62, 359)\n",
      "vad.shape(359,)\n",
      "features.shape(62, 368)\n",
      "vad.shape(368,)\n",
      "features.shape(62, 402)\n",
      "vad.shape(402,)\n",
      "features.shape(62, 317)\n",
      "vad.shape(317,)\n",
      "features.shape(62, 359)\n",
      "vad.shape(359,)\n",
      "features.shape(62, 329)\n",
      "vad.shape(329,)\n",
      "features.shape(62, 338)\n",
      "vad.shape(338,)\n",
      "features.shape(62, 299)\n",
      "vad.shape(299,)\n",
      "features.shape(62, 240)\n",
      "vad.shape(240,)\n",
      "features.shape(62, 321)\n",
      "vad.shape(321,)\n",
      "features.shape(62, 470)\n",
      "vad.shape(470,)\n",
      "features.shape(62, 282)\n",
      "vad.shape(282,)\n",
      "features.shape(62, 410)\n",
      "vad.shape(410,)\n"
     ]
    },
    {
     "name": "stderr",
     "output_type": "stream",
     "text": [
      " 97%|█████████▋| 6208/6394 [04:08<00:02, 88.65it/s]"
     ]
    },
    {
     "name": "stdout",
     "output_type": "stream",
     "text": [
      "features.shape(62, 321)\n",
      "vad.shape(321,)\n",
      "features.shape(62, 393)\n",
      "vad.shape(393,)\n",
      "features.shape(62, 445)\n",
      "vad.shape(445,)\n",
      "features.shape(62, 270)\n",
      "vad.shape(270,)\n",
      "features.shape(62, 321)\n",
      "vad.shape(321,)\n",
      "features.shape(62, 347)\n",
      "vad.shape(347,)\n",
      "features.shape(62, 317)\n",
      "vad.shape(317,)\n",
      "features.shape(62, 291)\n",
      "vad.shape(291,)\n",
      "features.shape(62, 372)\n",
      "vad.shape(372,)\n",
      "features.shape(62, 329)\n",
      "vad.shape(329,)\n",
      "features.shape(62, 253)\n",
      "vad.shape(253,)\n",
      "features.shape(62, 329)\n",
      "vad.shape(329,)\n",
      "features.shape(62, 1200)\n",
      "vad.shape(1200,)\n",
      "features.shape(62, 381)\n",
      "vad.shape(381,)\n",
      "features.shape(62, 423)\n",
      "vad.shape(423,)\n",
      "features.shape(62, 372)\n",
      "vad.shape(372,)\n",
      "features.shape(62, 227)\n",
      "vad.shape(227,)\n",
      "features.shape(62, 381)\n",
      "vad.shape(381,)\n",
      "features.shape(62, 338)\n",
      "vad.shape(338,)\n"
     ]
    },
    {
     "name": "stderr",
     "output_type": "stream",
     "text": [
      " 97%|█████████▋| 6230/6394 [04:08<00:01, 96.49it/s]"
     ]
    },
    {
     "name": "stdout",
     "output_type": "stream",
     "text": [
      "features.shape(62, 645)\n",
      "vad.shape(645,)\n",
      "features.shape(62, 436)\n",
      "vad.shape(436,)\n",
      "features.shape(62, 282)\n",
      "vad.shape(282,)\n",
      "features.shape(62, 269)\n",
      "vad.shape(269,)\n",
      "features.shape(62, 363)\n",
      "vad.shape(363,)\n",
      "features.shape(62, 317)\n",
      "vad.shape(317,)\n",
      "features.shape(62, 329)\n",
      "vad.shape(329,)\n",
      "features.shape(62, 350)\n",
      "vad.shape(350,)\n",
      "features.shape(62, 385)\n",
      "vad.shape(385,)\n",
      "features.shape(62, 376)\n",
      "vad.shape(376,)\n",
      "features.shape(62, 372)\n",
      "vad.shape(372,)\n",
      "features.shape(62, 338)\n",
      "vad.shape(338,)\n",
      "features.shape(62, 372)\n",
      "vad.shape(372,)\n",
      "features.shape(62, 684)\n",
      "vad.shape(684,)\n",
      "features.shape(62, 321)\n",
      "vad.shape(321,)\n",
      "features.shape(62, 351)\n",
      "vad.shape(351,)\n",
      "features.shape(62, 308)\n",
      "vad.shape(308,)\n",
      "features.shape(62, 223)\n",
      "vad.shape(223,)\n",
      "features.shape(62, 286)\n",
      "vad.shape(286,)\n",
      "features.shape(62, 419)\n",
      "vad.shape(419,)\n",
      "features.shape(62, 240)\n",
      "vad.shape(240,)\n",
      "features.shape(62, 355)\n",
      "vad.shape(355,)\n",
      "features.shape(62, 504)\n",
      "vad.shape(504,)\n",
      "features.shape(62, 278)\n",
      "vad.shape(278,)\n"
     ]
    },
    {
     "name": "stderr",
     "output_type": "stream",
     "text": [
      " 98%|█████████▊| 6253/6394 [04:09<00:01, 91.84it/s] "
     ]
    },
    {
     "name": "stdout",
     "output_type": "stream",
     "text": [
      "features.shape(62, 257)\n",
      "vad.shape(257,)\n",
      "features.shape(62, 329)\n",
      "vad.shape(329,)\n",
      "features.shape(62, 828)\n",
      "vad.shape(828,)\n",
      "features.shape(62, 394)\n",
      "vad.shape(394,)\n",
      "features.shape(62, 291)\n",
      "vad.shape(291,)\n",
      "features.shape(62, 1323)\n",
      "vad.shape(1323,)\n",
      "features.shape(62, 457)\n",
      "vad.shape(457,)\n",
      "features.shape(62, 359)\n",
      "vad.shape(359,)\n",
      "features.shape(62, 333)\n",
      "vad.shape(333,)\n",
      "features.shape(62, 385)\n",
      "vad.shape(385,)\n",
      "features.shape(62, 278)\n",
      "vad.shape(278,)\n",
      "features.shape(62, 342)\n",
      "vad.shape(342,)\n",
      "features.shape(62, 414)\n",
      "vad.shape(414,)\n",
      "features.shape(62, 283)\n",
      "vad.shape(283,)\n",
      "features.shape(62, 236)\n",
      "vad.shape(236,)\n",
      "features.shape(62, 398)\n",
      "vad.shape(398,)\n"
     ]
    },
    {
     "name": "stderr",
     "output_type": "stream",
     "text": [
      " 98%|█████████▊| 6263/6394 [04:09<00:01, 78.88it/s]"
     ]
    },
    {
     "name": "stdout",
     "output_type": "stream",
     "text": [
      "features.shape(62, 244)\n",
      "vad.shape(244,)\n",
      "features.shape(62, 351)\n",
      "vad.shape(351,)\n",
      "features.shape(62, 286)\n",
      "vad.shape(286,)\n",
      "features.shape(62, 363)\n",
      "vad.shape(363,)\n",
      "features.shape(62, 329)\n",
      "vad.shape(329,)\n",
      "features.shape(62, 329)\n",
      "vad.shape(329,)\n",
      "features.shape(62, 355)\n",
      "vad.shape(355,)\n",
      "features.shape(62, 308)\n",
      "vad.shape(308,)\n",
      "features.shape(62, 282)\n",
      "vad.shape(282,)\n",
      "features.shape(62, 342)\n"
     ]
    },
    {
     "name": "stderr",
     "output_type": "stream",
     "text": [
      " 98%|█████████▊| 6285/6394 [04:09<00:01, 81.90it/s]"
     ]
    },
    {
     "name": "stdout",
     "output_type": "stream",
     "text": [
      "vad.shape(342,)\n",
      "features.shape(62, 449)\n",
      "vad.shape(449,)\n",
      "features.shape(62, 244)\n",
      "vad.shape(244,)\n",
      "features.shape(62, 299)\n",
      "vad.shape(299,)\n",
      "features.shape(62, 278)\n",
      "vad.shape(278,)\n",
      "features.shape(62, 295)\n",
      "vad.shape(295,)\n",
      "features.shape(62, 257)\n",
      "vad.shape(257,)\n",
      "features.shape(62, 274)\n",
      "vad.shape(274,)\n",
      "features.shape(62, 372)\n",
      "vad.shape(372,)\n",
      "features.shape(62, 308)\n",
      "vad.shape(308,)\n",
      "features.shape(62, 244)\n",
      "vad.shape(244,)\n",
      "features.shape(62, 440)\n",
      "vad.shape(440,)\n",
      "features.shape(62, 283)\n",
      "vad.shape(283,)\n",
      "features.shape(62, 470)\n",
      "vad.shape(470,)\n",
      "features.shape(62, 410)\n",
      "vad.shape(410,)\n",
      "features.shape(62, 376)\n",
      "vad.shape(376,)\n",
      "features.shape(62, 363)\n",
      "vad.shape(363,)\n",
      "features.shape(62, 317)\n",
      "vad.shape(317,)\n",
      "features.shape(62, 351)\n",
      "vad.shape(351,)\n"
     ]
    },
    {
     "name": "stderr",
     "output_type": "stream",
     "text": [
      " 98%|█████████▊| 6296/6394 [04:09<00:01, 87.00it/s]"
     ]
    },
    {
     "name": "stdout",
     "output_type": "stream",
     "text": [
      "features.shape(62, 807)\n",
      "vad.shape(807,)\n",
      "features.shape(62, 312)\n",
      "vad.shape(312,)\n",
      "features.shape(62, 381)\n",
      "vad.shape(381,)\n",
      "features.shape(62, 223)\n",
      "vad.shape(223,)\n",
      "features.shape(62, 274)\n",
      "vad.shape(274,)\n",
      "features.shape(62, 282)\n",
      "vad.shape(282,)\n",
      "features.shape(62, 415)\n",
      "vad.shape(415,)\n",
      "features.shape(62, 359)\n",
      "vad.shape(359,)\n",
      "features.shape(62, 244)\n",
      "vad.shape(244,)\n",
      "features.shape(62, 415)\n",
      "vad.shape(415,)\n",
      "features.shape(62, 252)\n",
      "vad.shape(252,)\n",
      "features.shape(62, 364)\n",
      "vad.shape(364,)\n",
      "features.shape(62, 568)\n",
      "vad.shape(568,)\n",
      "features.shape(62, 308)\n",
      "vad.shape(308,)\n",
      "features.shape(62, 410)\n",
      "vad.shape(410,)\n",
      "features.shape(62, 355)\n",
      "vad.shape(355,)\n",
      "features.shape(62, 227)\n",
      "vad.shape(227,)\n",
      "features.shape(62, 266)\n",
      "vad.shape(266,)\n",
      "features.shape(62, 282)\n",
      "vad.shape(282,)\n",
      "features.shape(62, 338)\n",
      "vad.shape(338,)\n",
      "features.shape(62, 325)\n",
      "vad.shape(325,)\n",
      "features.shape(62, 359)\n",
      "vad.shape(359,)\n",
      "features.shape(62, 312)\n",
      "vad.shape(312,)\n",
      "features.shape(62, 406)\n",
      "vad.shape(406,)\n"
     ]
    },
    {
     "name": "stderr",
     "output_type": "stream",
     "text": [
      " 99%|█████████▉| 6335/6394 [04:09<00:00, 110.30it/s]"
     ]
    },
    {
     "name": "stdout",
     "output_type": "stream",
     "text": [
      "features.shape(62, 269)\n",
      "vad.shape(269,)\n",
      "features.shape(62, 402)\n",
      "vad.shape(402,)\n",
      "features.shape(62, 312)\n",
      "vad.shape(312,)\n",
      "features.shape(62, 270)\n",
      "vad.shape(270,)\n",
      "features.shape(62, 231)\n",
      "vad.shape(231,)\n",
      "features.shape(62, 355)\n",
      "vad.shape(355,)\n",
      "features.shape(62, 321)\n",
      "vad.shape(321,)\n",
      "features.shape(62, 270)\n",
      "vad.shape(270,)\n",
      "features.shape(62, 381)\n",
      "vad.shape(381,)\n",
      "features.shape(62, 312)\n",
      "vad.shape(312,)\n",
      "features.shape(62, 351)\n",
      "vad.shape(351,)\n",
      "features.shape(62, 406)\n",
      "vad.shape(406,)\n",
      "features.shape(62, 321)\n",
      "vad.shape(321,)\n",
      "features.shape(62, 278)\n",
      "vad.shape(278,)\n",
      "features.shape(62, 265)\n",
      "vad.shape(265,)\n",
      "features.shape(62, 338)\n",
      "vad.shape(338,)\n",
      "features.shape(62, 330)\n",
      "vad.shape(330,)\n",
      "features.shape(62, 359)\n",
      "vad.shape(359,)\n",
      "features.shape(62, 321)\n",
      "vad.shape(321,)\n",
      "features.shape(62, 414)\n",
      "vad.shape(414,)\n",
      "features.shape(62, 289)\n",
      "vad.shape(289,)\n",
      "features.shape(62, 308)\n",
      "vad.shape(308,)\n",
      "features.shape(62, 368)\n",
      "vad.shape(368,)\n",
      "features.shape(62, 316)\n",
      "vad.shape(316,)\n",
      "features.shape(62, 291)\n",
      "vad.shape(291,)\n",
      "features.shape(62, 406)\n",
      "vad.shape(406,)\n",
      "features.shape(62, 253)\n",
      "vad.shape(253,)\n",
      "features.shape(62, 308)\n",
      "vad.shape(308,)\n",
      "features.shape(62, 329)\n",
      "vad.shape(329,)\n",
      "features.shape(62, 351)\n",
      "vad.shape(351,)\n",
      "features.shape(62, 436)\n",
      "vad.shape(436,)\n",
      "features.shape(62, 398)\n",
      "vad.shape(398,)\n",
      "features.shape(62, 334)\n",
      "vad.shape(334,)\n",
      "features.shape(62, 619)\n",
      "vad.shape(619,)\n"
     ]
    },
    {
     "name": "stderr",
     "output_type": "stream",
     "text": [
      " 99%|█████████▉| 6360/6394 [04:10<00:00, 87.27it/s] "
     ]
    },
    {
     "name": "stdout",
     "output_type": "stream",
     "text": [
      "features.shape(62, 253)\n",
      "vad.shape(253,)\n",
      "features.shape(62, 427)\n",
      "vad.shape(427,)\n",
      "features.shape(62, 376)\n",
      "vad.shape(376,)\n",
      "features.shape(62, 278)\n",
      "vad.shape(278,)\n",
      "features.shape(62, 342)\n",
      "vad.shape(342,)\n",
      "features.shape(62, 376)\n",
      "vad.shape(376,)\n",
      "features.shape(62, 278)\n",
      "vad.shape(278,)\n",
      "features.shape(62, 299)\n",
      "vad.shape(299,)\n",
      "features.shape(62, 410)\n",
      "vad.shape(410,)\n",
      "features.shape(62, 270)\n",
      "vad.shape(270,)\n",
      "features.shape(62, 321)\n",
      "vad.shape(321,)\n",
      "features.shape(62, 316)\n",
      "vad.shape(316,)\n",
      "features.shape(62, 270)\n",
      "vad.shape(270,)\n",
      "features.shape(62, 402)\n",
      "vad.shape(402,)\n",
      "features.shape(62, 206)\n",
      "vad.shape(206,)\n",
      "features.shape(62, 406)\n",
      "vad.shape(406,)\n",
      "features.shape(62, 803)\n",
      "vad.shape(803,)\n",
      "features.shape(62, 372)\n",
      "vad.shape(372,)\n",
      "features.shape(62, 376)\n",
      "vad.shape(376,)\n",
      "features.shape(62, 270)\n",
      "vad.shape(270,)\n",
      "features.shape(62, 308)\n",
      "vad.shape(308,)\n",
      "features.shape(62, 308)\n",
      "vad.shape(308,)\n",
      "features.shape(62, 253)\n"
     ]
    },
    {
     "name": "stderr",
     "output_type": "stream",
     "text": [
      "100%|█████████▉| 6383/6394 [04:10<00:00, 97.40it/s]"
     ]
    },
    {
     "name": "stdout",
     "output_type": "stream",
     "text": [
      "vad.shape(253,)\n",
      "features.shape(62, 355)\n",
      "vad.shape(355,)\n",
      "features.shape(62, 385)\n",
      "vad.shape(385,)\n",
      "features.shape(62, 287)\n",
      "vad.shape(287,)\n",
      "features.shape(62, 411)\n",
      "vad.shape(411,)\n",
      "features.shape(62, 282)\n",
      "vad.shape(282,)\n",
      "features.shape(62, 248)\n",
      "vad.shape(248,)\n",
      "features.shape(62, 402)\n",
      "vad.shape(402,)\n",
      "features.shape(62, 261)\n",
      "vad.shape(261,)\n",
      "features.shape(62, 415)\n",
      "vad.shape(415,)\n",
      "features.shape(62, 415)\n",
      "vad.shape(415,)\n",
      "features.shape(62, 325)\n",
      "vad.shape(325,)\n",
      "features.shape(62, 329)\n",
      "vad.shape(329,)\n",
      "features.shape(62, 231)\n",
      "vad.shape(231,)\n",
      "features.shape(62, 231)\n",
      "vad.shape(231,)\n",
      "features.shape(62, 436)\n",
      "vad.shape(436,)\n",
      "features.shape(62, 287)\n",
      "vad.shape(287,)\n",
      "features.shape(62, 291)\n",
      "vad.shape(291,)\n",
      "features.shape(62, 321)\n",
      "vad.shape(321,)\n",
      "features.shape(62, 453)\n",
      "vad.shape(453,)\n",
      "features.shape(62, 338)\n",
      "vad.shape(338,)\n",
      "features.shape(62, 308)\n",
      "vad.shape(308,)\n"
     ]
    },
    {
     "name": "stderr",
     "output_type": "stream",
     "text": [
      "100%|██████████| 6394/6394 [04:10<00:00, 25.51it/s]\n"
     ]
    },
    {
     "name": "stdout",
     "output_type": "stream",
     "text": [
      "features.shape(62, 308)\n",
      "vad.shape(308,)\n",
      "features.shape(62, 346)\n",
      "vad.shape(346,)\n",
      "features.shape(62, 363)\n",
      "vad.shape(363,)\n",
      "features.shape(62, 893)\n",
      "vad.shape(893,)\n",
      "features.shape(62, 325)\n",
      "vad.shape(325,)\n",
      "features.shape(62, 317)\n",
      "vad.shape(317,)\n",
      "features.shape(62, 410)\n",
      "vad.shape(410,)\n"
     ]
    },
    {
     "name": "stderr",
     "output_type": "stream",
     "text": [
      "  0%|          | 0/1221 [00:00<?, ?it/s]"
     ]
    },
    {
     "name": "stdout",
     "output_type": "stream",
     "text": [
      "features.shape(62, 201)\n"
     ]
    },
    {
     "name": "stderr",
     "output_type": "stream",
     "text": [
      "  1%|          | 10/1221 [00:00<00:13, 87.84it/s]"
     ]
    },
    {
     "name": "stdout",
     "output_type": "stream",
     "text": [
      "vad.shape(201,)\n",
      "features.shape(62, 368)\n",
      "vad.shape(368,)\n",
      "features.shape(62, 227)\n",
      "vad.shape(227,)\n",
      "features.shape(62, 308)\n",
      "vad.shape(308,)\n",
      "features.shape(62, 351)\n",
      "vad.shape(351,)\n",
      "features.shape(62, 274)\n",
      "vad.shape(274,)\n",
      "features.shape(62, 415)\n",
      "vad.shape(415,)\n",
      "features.shape(62, 248)\n",
      "vad.shape(248,)\n",
      "features.shape(62, 543)\n",
      "vad.shape(543,)\n",
      "features.shape(62, 282)\n",
      "vad.shape(282,)\n",
      "features.shape(62, 355)\n",
      "vad.shape(355,)\n",
      "features.shape(62, 321)\n",
      "vad.shape(321,)\n",
      "features.shape(62, 432)\n",
      "vad.shape(432,)\n",
      "features.shape(62, 278)\n",
      "vad.shape(278,)\n",
      "features.shape(62, 385)\n",
      "vad.shape(385,)\n",
      "features.shape(62, 444)\n",
      "vad.shape(444,)\n",
      "features.shape(62, 385)\n",
      "vad.shape(385,)\n",
      "features.shape(62, 312)\n",
      "vad.shape(312,)\n",
      "features.shape(62, 475)\n",
      "vad.shape(475,)\n",
      "features.shape(62, 359)\n",
      "vad.shape(359,)\n",
      "features.shape(62, 359)\n",
      "vad.shape(359,)\n",
      "features.shape(62, 380)\n",
      "vad.shape(380,)\n"
     ]
    },
    {
     "name": "stderr",
     "output_type": "stream",
     "text": [
      "  3%|▎         | 35/1221 [00:00<00:10, 110.86it/s]"
     ]
    },
    {
     "name": "stdout",
     "output_type": "stream",
     "text": [
      "features.shape(62, 368)\n",
      "vad.shape(368,)\n",
      "features.shape(62, 278)\n",
      "vad.shape(278,)\n",
      "features.shape(62, 317)\n",
      "vad.shape(317,)\n",
      "features.shape(62, 291)\n",
      "vad.shape(291,)\n",
      "features.shape(62, 359)\n",
      "vad.shape(359,)\n",
      "features.shape(62, 261)\n",
      "vad.shape(261,)\n",
      "features.shape(62, 777)\n",
      "vad.shape(777,)\n",
      "features.shape(62, 338)\n",
      "vad.shape(338,)\n",
      "features.shape(62, 368)\n",
      "vad.shape(368,)\n",
      "features.shape(62, 300)\n",
      "vad.shape(300,)\n",
      "features.shape(62, 248)\n",
      "vad.shape(248,)\n",
      "features.shape(62, 338)\n",
      "vad.shape(338,)\n",
      "features.shape(62, 496)\n",
      "vad.shape(496,)\n",
      "features.shape(62, 402)\n",
      "vad.shape(402,)\n",
      "features.shape(62, 317)\n",
      "vad.shape(317,)\n",
      "features.shape(62, 321)\n",
      "vad.shape(321,)\n",
      "features.shape(62, 265)\n",
      "vad.shape(265,)\n",
      "features.shape(62, 240)\n",
      "vad.shape(240,)\n",
      "features.shape(62, 368)\n",
      "vad.shape(368,)\n",
      "features.shape(62, 295)\n",
      "vad.shape(295,)\n",
      "features.shape(62, 347)\n",
      "vad.shape(347,)\n",
      "features.shape(62, 355)\n",
      "vad.shape(355,)\n",
      "features.shape(62, 393)\n",
      "vad.shape(393,)\n",
      "features.shape(62, 278)\n",
      "vad.shape(278,)\n",
      "features.shape(62, 227)\n",
      "vad.shape(227,)\n",
      "features.shape(62, 316)\n",
      "vad.shape(316,)\n"
     ]
    },
    {
     "name": "stderr",
     "output_type": "stream",
     "text": [
      "  5%|▍         | 61/1221 [00:00<00:11, 100.76it/s]"
     ]
    },
    {
     "name": "stdout",
     "output_type": "stream",
     "text": [
      "features.shape(62, 483)\n",
      "vad.shape(483,)\n",
      "features.shape(62, 317)\n",
      "vad.shape(317,)\n",
      "features.shape(62, 381)\n",
      "vad.shape(381,)\n",
      "features.shape(62, 329)\n",
      "vad.shape(329,)\n",
      "features.shape(62, 308)\n",
      "vad.shape(308,)\n",
      "features.shape(62, 355)\n",
      "vad.shape(355,)\n",
      "features.shape(62, 428)\n",
      "vad.shape(428,)\n",
      "features.shape(62, 398)\n",
      "vad.shape(398,)\n",
      "features.shape(62, 269)\n",
      "vad.shape(269,)\n",
      "features.shape(62, 389)\n",
      "vad.shape(389,)\n",
      "features.shape(62, 363)\n",
      "vad.shape(363,)\n",
      "features.shape(62, 381)\n",
      "vad.shape(381,)\n",
      "features.shape(62, 346)\n",
      "vad.shape(346,)\n",
      "features.shape(62, 304)\n",
      "vad.shape(304,)\n",
      "features.shape(62, 436)\n",
      "vad.shape(436,)\n",
      "features.shape(62, 372)\n",
      "vad.shape(372,)\n",
      "features.shape(62, 453)\n",
      "vad.shape(453,)\n"
     ]
    },
    {
     "name": "stderr",
     "output_type": "stream",
     "text": [
      "  6%|▌         | 72/1221 [00:00<00:13, 86.58it/s] "
     ]
    },
    {
     "name": "stdout",
     "output_type": "stream",
     "text": [
      "features.shape(62, 283)\n",
      "vad.shape(283,)\n",
      "features.shape(62, 231)\n",
      "vad.shape(231,)\n",
      "features.shape(62, 355)\n",
      "vad.shape(355,)\n",
      "features.shape(62, 551)\n",
      "vad.shape(551,)\n",
      "features.shape(62, 406)\n",
      "vad.shape(406,)\n",
      "features.shape(62, 325)\n",
      "vad.shape(325,)\n",
      "features.shape(62, 308)\n",
      "vad.shape(308,)\n",
      "features.shape(62, 304)\n",
      "vad.shape(304,)\n",
      "features.shape(62, 291)\n",
      "vad.shape(291,)\n",
      "features.shape(62, 325)\n",
      "vad.shape(325,)\n",
      "features.shape(62, 466)\n",
      "vad.shape(466,)\n",
      "features.shape(62, 504)\n",
      "vad.shape(504,)\n",
      "features.shape(62, 372)\n",
      "vad.shape(372,)\n",
      "features.shape(62, 325)\n",
      "vad.shape(325,)\n",
      "features.shape(62, 236)\n",
      "vad.shape(236,)\n"
     ]
    },
    {
     "name": "stderr",
     "output_type": "stream",
     "text": [
      "  8%|▊         | 94/1221 [00:00<00:12, 91.61it/s]"
     ]
    },
    {
     "name": "stdout",
     "output_type": "stream",
     "text": [
      "features.shape(62, 346)\n",
      "vad.shape(346,)\n",
      "features.shape(62, 312)\n",
      "vad.shape(312,)\n",
      "features.shape(62, 522)\n",
      "vad.shape(522,)\n",
      "features.shape(62, 385)\n",
      "vad.shape(385,)\n",
      "features.shape(62, 381)\n",
      "vad.shape(381,)\n",
      "features.shape(62, 428)\n",
      "vad.shape(428,)\n",
      "features.shape(62, 427)\n",
      "vad.shape(427,)\n",
      "features.shape(62, 244)\n",
      "vad.shape(244,)\n",
      "features.shape(62, 244)\n",
      "vad.shape(244,)\n",
      "features.shape(62, 278)\n",
      "vad.shape(278,)\n",
      "features.shape(62, 201)\n",
      "vad.shape(201,)\n",
      "features.shape(62, 329)\n",
      "vad.shape(329,)\n",
      "features.shape(62, 274)\n",
      "vad.shape(274,)\n",
      "features.shape(62, 385)\n",
      "vad.shape(385,)\n",
      "features.shape(62, 581)\n",
      "vad.shape(581,)\n",
      "features.shape(62, 316)\n",
      "vad.shape(316,)\n",
      "features.shape(62, 197)\n",
      "vad.shape(197,)\n",
      "features.shape(62, 321)\n",
      "vad.shape(321,)\n"
     ]
    },
    {
     "name": "stderr",
     "output_type": "stream",
     "text": [
      "  9%|▊         | 104/1221 [00:01<00:14, 76.01it/s]"
     ]
    },
    {
     "name": "stdout",
     "output_type": "stream",
     "text": [
      "features.shape(62, 389)\n",
      "vad.shape(389,)\n",
      "features.shape(62, 321)\n",
      "vad.shape(321,)\n",
      "features.shape(62, 300)\n",
      "vad.shape(300,)\n",
      "features.shape(62, 240)\n",
      "vad.shape(240,)\n",
      "features.shape(62, 329)\n",
      "vad.shape(329,)\n",
      "features.shape(62, 278)\n",
      "vad.shape(278,)\n",
      "features.shape(62, 231)\n",
      "vad.shape(231,)\n",
      "features.shape(62, 231)\n",
      "vad.shape(231,)\n",
      "features.shape(62, 308)\n",
      "vad.shape(308,)\n",
      "features.shape(62, 269)\n",
      "vad.shape(269,)\n",
      "features.shape(62, 338)\n",
      "vad.shape(338,)\n",
      "features.shape(62, 491)\n",
      "vad.shape(491,)\n",
      "features.shape(62, 359)\n",
      "vad.shape(359,)\n",
      "features.shape(62, 291)\n",
      "vad.shape(291,)\n",
      "features.shape(62, 257)\n",
      "vad.shape(257,)\n"
     ]
    },
    {
     "name": "stderr",
     "output_type": "stream",
     "text": [
      " 11%|█         | 129/1221 [00:01<00:11, 95.48it/s]"
     ]
    },
    {
     "name": "stdout",
     "output_type": "stream",
     "text": [
      "features.shape(62, 261)\n",
      "vad.shape(261,)\n",
      "features.shape(62, 376)\n",
      "vad.shape(376,)\n",
      "features.shape(62, 295)\n",
      "vad.shape(295,)\n",
      "features.shape(62, 419)\n",
      "vad.shape(419,)\n",
      "features.shape(62, 347)\n",
      "vad.shape(347,)\n",
      "features.shape(62, 270)\n",
      "vad.shape(270,)\n",
      "features.shape(62, 325)\n",
      "vad.shape(325,)\n",
      "features.shape(62, 508)\n",
      "vad.shape(508,)\n",
      "features.shape(62, 491)\n",
      "vad.shape(491,)\n",
      "features.shape(62, 291)\n",
      "vad.shape(291,)\n",
      "features.shape(62, 278)\n",
      "vad.shape(278,)\n",
      "features.shape(62, 350)\n",
      "vad.shape(350,)\n",
      "features.shape(62, 419)\n",
      "vad.shape(419,)\n",
      "features.shape(62, 338)\n",
      "vad.shape(338,)\n",
      "features.shape(62, 312)\n",
      "vad.shape(312,)\n",
      "features.shape(62, 393)\n",
      "vad.shape(393,)\n",
      "features.shape(62, 278)\n",
      "vad.shape(278,)\n",
      "features.shape(62, 376)\n",
      "vad.shape(376,)\n",
      "features.shape(62, 334)\n",
      "vad.shape(334,)\n",
      "features.shape(62, 329)\n",
      "vad.shape(329,)\n",
      "features.shape(62, 423)\n",
      "vad.shape(423,)\n",
      "features.shape(62, 304)\n",
      "vad.shape(304,)\n",
      "features.shape(62, 287)\n",
      "vad.shape(287,)\n",
      "features.shape(62, 304)\n",
      "vad.shape(304,)\n",
      "features.shape(62, 223)\n",
      "vad.shape(223,)\n",
      "features.shape(62, 359)\n",
      "vad.shape(359,)\n",
      "features.shape(62, 283)\n",
      "vad.shape(283,)\n"
     ]
    },
    {
     "name": "stderr",
     "output_type": "stream",
     "text": [
      " 12%|█▏        | 152/1221 [00:01<00:11, 96.52it/s]"
     ]
    },
    {
     "name": "stdout",
     "output_type": "stream",
     "text": [
      "features.shape(62, 350)\n",
      "vad.shape(350,)\n",
      "features.shape(62, 308)\n",
      "vad.shape(308,)\n",
      "features.shape(62, 278)\n",
      "vad.shape(278,)\n",
      "features.shape(62, 411)\n",
      "vad.shape(411,)\n",
      "features.shape(62, 325)\n",
      "vad.shape(325,)\n",
      "features.shape(62, 491)\n",
      "vad.shape(491,)\n",
      "features.shape(62, 278)\n",
      "vad.shape(278,)\n",
      "features.shape(62, 368)\n",
      "vad.shape(368,)\n",
      "features.shape(62, 325)\n",
      "vad.shape(325,)\n",
      "features.shape(62, 329)\n",
      "vad.shape(329,)\n",
      "features.shape(62, 325)\n",
      "vad.shape(325,)\n",
      "features.shape(62, 299)\n",
      "vad.shape(299,)\n",
      "features.shape(62, 317)\n",
      "vad.shape(317,)\n",
      "features.shape(62, 986)\n",
      "vad.shape(986,)\n",
      "features.shape(62, 321)\n",
      "vad.shape(321,)\n",
      "features.shape(62, 436)\n",
      "vad.shape(436,)\n",
      "features.shape(62, 325)\n",
      "vad.shape(325,)\n",
      "features.shape(62, 278)\n",
      "vad.shape(278,)\n",
      "features.shape(62, 325)\n",
      "vad.shape(325,)\n",
      "features.shape(62, 283)\n",
      "vad.shape(283,)\n",
      "features.shape(62, 389)\n",
      "vad.shape(389,)\n"
     ]
    },
    {
     "name": "stderr",
     "output_type": "stream",
     "text": [
      " 14%|█▍        | 172/1221 [00:01<00:13, 77.14it/s]"
     ]
    },
    {
     "name": "stdout",
     "output_type": "stream",
     "text": [
      "features.shape(62, 304)\n",
      "vad.shape(304,)\n",
      "features.shape(62, 231)\n",
      "vad.shape(231,)\n",
      "features.shape(62, 261)\n",
      "vad.shape(261,)\n",
      "features.shape(62, 308)\n",
      "vad.shape(308,)\n",
      "features.shape(62, 240)\n",
      "vad.shape(240,)\n",
      "features.shape(62, 368)\n",
      "vad.shape(368,)\n",
      "features.shape(62, 330)\n",
      "vad.shape(330,)\n",
      "features.shape(62, 287)\n",
      "vad.shape(287,)\n",
      "features.shape(62, 351)\n",
      "vad.shape(351,)\n",
      "features.shape(62, 270)\n",
      "vad.shape(270,)\n",
      "features.shape(62, 347)\n",
      "vad.shape(347,)\n"
     ]
    },
    {
     "name": "stderr",
     "output_type": "stream",
     "text": [
      " 15%|█▍        | 182/1221 [00:02<00:12, 82.08it/s]"
     ]
    },
    {
     "name": "stdout",
     "output_type": "stream",
     "text": [
      "features.shape(62, 726)\n",
      "vad.shape(726,)\n",
      "features.shape(62, 342)\n",
      "vad.shape(342,)\n",
      "features.shape(62, 325)\n",
      "vad.shape(325,)\n",
      "features.shape(62, 236)\n",
      "vad.shape(236,)\n",
      "features.shape(62, 261)\n",
      "vad.shape(261,)\n",
      "features.shape(62, 227)\n",
      "vad.shape(227,)\n",
      "features.shape(62, 274)\n",
      "vad.shape(274,)\n",
      "features.shape(62, 244)\n",
      "vad.shape(244,)\n",
      "features.shape(62, 299)\n",
      "vad.shape(299,)\n",
      "features.shape(62, 240)\n",
      "vad.shape(240,)\n",
      "features.shape(62, 300)\n",
      "vad.shape(300,)\n",
      "features.shape(62, 359)\n",
      "vad.shape(359,)\n",
      "features.shape(62, 316)\n",
      "vad.shape(316,)\n",
      "features.shape(62, 1144)\n",
      "vad.shape(1144,)\n",
      "features.shape(62, 287)\n",
      "vad.shape(287,)\n",
      "features.shape(62, 325)\n",
      "vad.shape(325,)\n",
      "features.shape(62, 376)\n",
      "vad.shape(376,)\n",
      "features.shape(62, 274)\n",
      "vad.shape(274,)\n",
      "features.shape(62, 368)\n",
      "vad.shape(368,)\n",
      "features.shape(62, 291)\n",
      "vad.shape(291,)\n",
      "features.shape(62, 278)\n",
      "vad.shape(278,)\n"
     ]
    },
    {
     "name": "stderr",
     "output_type": "stream",
     "text": [
      " 17%|█▋        | 205/1221 [00:02<00:12, 79.14it/s]"
     ]
    },
    {
     "name": "stdout",
     "output_type": "stream",
     "text": [
      "features.shape(62, 338)\n",
      "vad.shape(338,)\n",
      "features.shape(62, 287)\n",
      "vad.shape(287,)\n",
      "features.shape(62, 347)\n",
      "vad.shape(347,)\n",
      "features.shape(62, 415)\n",
      "vad.shape(415,)\n",
      "features.shape(62, 303)\n",
      "vad.shape(303,)\n",
      "features.shape(62, 278)\n",
      "vad.shape(278,)\n",
      "features.shape(62, 406)\n",
      "vad.shape(406,)\n",
      "features.shape(62, 359)\n",
      "vad.shape(359,)\n",
      "features.shape(62, 786)\n",
      "vad.shape(786,)\n",
      "features.shape(62, 304)\n",
      "vad.shape(304,)\n",
      "features.shape(62, 385)\n",
      "vad.shape(385,)\n",
      "features.shape(62, 321)\n",
      "vad.shape(321,)\n"
     ]
    },
    {
     "name": "stderr",
     "output_type": "stream",
     "text": [
      " 19%|█▉        | 229/1221 [00:02<00:10, 95.65it/s]"
     ]
    },
    {
     "name": "stdout",
     "output_type": "stream",
     "text": [
      "features.shape(62, 363)\n",
      "vad.shape(363,)\n",
      "features.shape(62, 325)\n",
      "vad.shape(325,)\n",
      "features.shape(62, 419)\n",
      "vad.shape(419,)\n",
      "features.shape(62, 321)\n",
      "vad.shape(321,)\n",
      "features.shape(62, 240)\n",
      "vad.shape(240,)\n",
      "features.shape(62, 274)\n",
      "vad.shape(274,)\n",
      "features.shape(62, 389)\n",
      "vad.shape(389,)\n",
      "features.shape(62, 227)\n",
      "vad.shape(227,)\n",
      "features.shape(62, 270)\n",
      "vad.shape(270,)\n",
      "features.shape(62, 291)\n",
      "vad.shape(291,)\n",
      "features.shape(62, 329)\n",
      "vad.shape(329,)\n",
      "features.shape(62, 308)\n",
      "vad.shape(308,)\n",
      "features.shape(62, 304)\n",
      "vad.shape(304,)\n",
      "features.shape(62, 261)\n",
      "vad.shape(261,)\n",
      "features.shape(62, 355)\n",
      "vad.shape(355,)\n",
      "features.shape(62, 321)\n",
      "vad.shape(321,)\n",
      "features.shape(62, 287)\n",
      "vad.shape(287,)\n",
      "features.shape(62, 398)\n",
      "vad.shape(398,)\n",
      "features.shape(62, 248)\n",
      "vad.shape(248,)\n",
      "features.shape(62, 394)\n",
      "vad.shape(394,)\n",
      "features.shape(62, 231)\n",
      "vad.shape(231,)\n",
      "features.shape(62, 239)\n",
      "vad.shape(239,)\n",
      "features.shape(62, 444)\n",
      "vad.shape(444,)\n",
      "features.shape(62, 436)\n",
      "vad.shape(436,)\n"
     ]
    },
    {
     "name": "stderr",
     "output_type": "stream",
     "text": [
      " 20%|█▉        | 240/1221 [00:02<00:10, 93.18it/s]"
     ]
    },
    {
     "name": "stdout",
     "output_type": "stream",
     "text": [
      "features.shape(62, 253)\n",
      "vad.shape(253,)\n",
      "features.shape(62, 649)\n",
      "vad.shape(649,)\n",
      "features.shape(62, 300)\n",
      "vad.shape(300,)\n",
      "features.shape(62, 300)\n",
      "vad.shape(300,)\n",
      "features.shape(62, 423)\n",
      "vad.shape(423,)\n",
      "features.shape(62, 291)\n",
      "vad.shape(291,)\n",
      "features.shape(62, 248)\n",
      "vad.shape(248,)\n",
      "features.shape(62, 325)\n",
      "vad.shape(325,)\n",
      "features.shape(62, 526)\n",
      "vad.shape(526,)\n",
      "features.shape(62, 325)\n",
      "vad.shape(325,)\n",
      "features.shape(62, 321)\n",
      "vad.shape(321,)\n",
      "features.shape(62, 287)\n",
      "vad.shape(287,)\n",
      "features.shape(62, 338)\n",
      "vad.shape(338,)\n",
      "features.shape(62, 329)\n",
      "vad.shape(329,)\n",
      "features.shape(62, 312)\n",
      "vad.shape(312,)\n",
      "features.shape(62, 683)\n",
      "vad.shape(683,)\n",
      "features.shape(62, 269)\n",
      "vad.shape(269,)\n",
      "features.shape(62, 210)\n",
      "vad.shape(210,)\n"
     ]
    },
    {
     "name": "stderr",
     "output_type": "stream",
     "text": [
      " 21%|██▏       | 260/1221 [00:02<00:10, 95.08it/s]"
     ]
    },
    {
     "name": "stdout",
     "output_type": "stream",
     "text": [
      "features.shape(62, 312)\n",
      "vad.shape(312,)\n",
      "features.shape(62, 338)\n",
      "vad.shape(338,)\n",
      "features.shape(62, 351)\n",
      "vad.shape(351,)\n",
      "features.shape(62, 312)\n",
      "vad.shape(312,)\n",
      "features.shape(62, 257)\n",
      "vad.shape(257,)\n",
      "features.shape(62, 346)\n",
      "vad.shape(346,)\n",
      "features.shape(62, 270)\n",
      "vad.shape(270,)\n",
      "features.shape(62, 385)\n",
      "vad.shape(385,)\n",
      "features.shape(62, 308)\n",
      "vad.shape(308,)\n",
      "features.shape(62, 393)\n",
      "vad.shape(393,)\n",
      "features.shape(62, 346)\n",
      "vad.shape(346,)\n",
      "features.shape(62, 500)\n",
      "vad.shape(500,)\n",
      "features.shape(62, 735)\n",
      "vad.shape(735,)\n",
      "features.shape(62, 346)\n",
      "vad.shape(346,)\n",
      "features.shape(62, 624)\n",
      "vad.shape(624,)\n",
      "features.shape(62, 350)\n",
      "vad.shape(350,)\n",
      "features.shape(62, 393)\n",
      "vad.shape(393,)\n",
      "features.shape(62, 304)\n",
      "vad.shape(304,)\n",
      "features.shape(62, 449)\n",
      "vad.shape(449,)\n",
      "features.shape(62, 248)\n",
      "vad.shape(248,)\n",
      "features.shape(62, 504)\n",
      "vad.shape(504,)\n"
     ]
    },
    {
     "name": "stderr",
     "output_type": "stream",
     "text": [
      " 23%|██▎       | 279/1221 [00:03<00:12, 75.73it/s]"
     ]
    },
    {
     "name": "stdout",
     "output_type": "stream",
     "text": [
      "features.shape(62, 304)\n",
      "vad.shape(304,)\n",
      "features.shape(62, 308)\n",
      "vad.shape(308,)\n",
      "features.shape(62, 299)\n",
      "vad.shape(299,)\n",
      "features.shape(62, 295)\n",
      "vad.shape(295,)\n",
      "features.shape(62, 393)\n",
      "vad.shape(393,)\n",
      "features.shape(62, 329)\n",
      "vad.shape(329,)\n",
      "features.shape(62, 312)\n",
      "vad.shape(312,)\n",
      "features.shape(62, 381)\n",
      "vad.shape(381,)\n",
      "features.shape(62, 330)\n",
      "vad.shape(330,)\n",
      "features.shape(62, 270)\n",
      "vad.shape(270,)\n",
      "features.shape(62, 334)\n",
      "vad.shape(334,)\n",
      "features.shape(62, 351)\n",
      "vad.shape(351,)\n",
      "features.shape(62, 261)\n",
      "vad.shape(261,)\n",
      "features.shape(62, 231)\n",
      "vad.shape(231,)\n"
     ]
    },
    {
     "name": "stderr",
     "output_type": "stream",
     "text": [
      " 24%|██▍       | 291/1221 [00:03<00:10, 85.59it/s]"
     ]
    },
    {
     "name": "stdout",
     "output_type": "stream",
     "text": [
      "features.shape(62, 444)\n",
      "vad.shape(444,)\n",
      "features.shape(62, 265)\n",
      "vad.shape(265,)\n",
      "features.shape(62, 432)\n",
      "vad.shape(432,)\n",
      "features.shape(62, 304)\n",
      "vad.shape(304,)\n",
      "features.shape(62, 316)\n",
      "vad.shape(316,)\n",
      "features.shape(62, 483)\n",
      "vad.shape(483,)\n",
      "features.shape(62, 461)\n",
      "vad.shape(461,)\n",
      "features.shape(62, 270)\n",
      "vad.shape(270,)\n",
      "features.shape(62, 355)\n",
      "vad.shape(355,)\n",
      "features.shape(62, 334)\n",
      "vad.shape(334,)\n",
      "features.shape(62, 270)\n",
      "vad.shape(270,)\n",
      "features.shape(62, 359)\n",
      "vad.shape(359,)\n",
      "features.shape(62, 534)\n",
      "vad.shape(534,)\n",
      "features.shape(62, 342)\n",
      "vad.shape(342,)\n",
      "features.shape(62, 244)\n",
      "vad.shape(244,)\n",
      "features.shape(62, 206)\n",
      "vad.shape(206,)\n",
      "features.shape(62, 299)\n",
      "vad.shape(299,)\n",
      "features.shape(62, 389)\n"
     ]
    },
    {
     "name": "stderr",
     "output_type": "stream",
     "text": [
      " 25%|██▌       | 310/1221 [00:03<00:11, 77.59it/s]"
     ]
    },
    {
     "name": "stdout",
     "output_type": "stream",
     "text": [
      "vad.shape(389,)\n",
      "features.shape(62, 577)\n",
      "vad.shape(577,)\n",
      "features.shape(62, 269)\n",
      "vad.shape(269,)\n",
      "features.shape(62, 346)\n",
      "vad.shape(346,)\n",
      "features.shape(62, 385)\n",
      "vad.shape(385,)\n",
      "features.shape(62, 590)\n",
      "vad.shape(590,)\n",
      "features.shape(62, 556)\n",
      "vad.shape(556,)\n",
      "features.shape(62, 291)\n",
      "vad.shape(291,)\n",
      "features.shape(62, 411)\n",
      "vad.shape(411,)\n",
      "features.shape(62, 236)\n",
      "vad.shape(236,)\n",
      "features.shape(62, 474)\n",
      "vad.shape(474,)\n",
      "features.shape(62, 568)\n",
      "vad.shape(568,)\n",
      "features.shape(62, 334)\n",
      "vad.shape(334,)\n",
      "features.shape(62, 270)\n",
      "vad.shape(270,)\n",
      "features.shape(62, 628)\n",
      "vad.shape(628,)\n",
      "features.shape(62, 470)\n",
      "vad.shape(470,)\n",
      "features.shape(62, 261)\n",
      "vad.shape(261,)\n",
      "features.shape(62, 530)\n",
      "vad.shape(530,)\n"
     ]
    },
    {
     "name": "stderr",
     "output_type": "stream",
     "text": [
      " 27%|██▋       | 330/1221 [00:03<00:10, 84.52it/s]"
     ]
    },
    {
     "name": "stdout",
     "output_type": "stream",
     "text": [
      "features.shape(62, 261)\n",
      "vad.shape(261,)\n",
      "features.shape(62, 999)\n",
      "vad.shape(999,)\n",
      "features.shape(62, 338)\n",
      "vad.shape(338,)\n",
      "features.shape(62, 325)\n",
      "vad.shape(325,)\n",
      "features.shape(62, 568)\n",
      "vad.shape(568,)\n",
      "features.shape(62, 547)\n",
      "vad.shape(547,)\n",
      "features.shape(62, 265)\n",
      "vad.shape(265,)\n",
      "features.shape(62, 564)\n",
      "vad.shape(564,)\n",
      "features.shape(62, 517)\n",
      "vad.shape(517,)\n",
      "features.shape(62, 410)\n",
      "vad.shape(410,)\n",
      "features.shape(62, 534)\n",
      "vad.shape(534,)\n",
      "features.shape(62, 440)\n",
      "vad.shape(440,)\n",
      "features.shape(62, 688)\n",
      "vad.shape(688,)\n",
      "features.shape(62, 876)\n",
      "vad.shape(876,)\n",
      "features.shape(62, 380)\n",
      "vad.shape(380,)\n",
      "features.shape(62, 252)\n",
      "vad.shape(252,)\n",
      "features.shape(62, 504)\n",
      "vad.shape(504,)\n",
      "features.shape(62, 713)\n",
      "vad.shape(713,)\n",
      "features.shape(62, 380)\n",
      "vad.shape(380,)\n",
      "features.shape(62, 270)\n",
      "vad.shape(270,)\n",
      "features.shape(62, 325)\n"
     ]
    },
    {
     "name": "stderr",
     "output_type": "stream",
     "text": [
      " 29%|██▊       | 349/1221 [00:03<00:10, 80.98it/s]"
     ]
    },
    {
     "name": "stdout",
     "output_type": "stream",
     "text": [
      "vad.shape(325,)\n",
      "features.shape(62, 530)\n",
      "vad.shape(530,)\n",
      "features.shape(62, 440)\n",
      "vad.shape(440,)\n",
      "features.shape(62, 478)\n",
      "vad.shape(478,)\n",
      "features.shape(62, 688)\n",
      "vad.shape(688,)\n",
      "features.shape(62, 863)\n",
      "vad.shape(863,)\n",
      "features.shape(62, 453)\n",
      "vad.shape(453,)\n",
      "features.shape(62, 444)\n",
      "vad.shape(444,)\n",
      "features.shape(62, 274)\n",
      "vad.shape(274,)\n",
      "features.shape(62, 236)\n",
      "vad.shape(236,)\n",
      "features.shape(62, 346)\n",
      "vad.shape(346,)\n",
      "features.shape(62, 240)\n",
      "vad.shape(240,)\n",
      "features.shape(62, 470)\n",
      "vad.shape(470,)\n",
      "features.shape(62, 530)\n",
      "vad.shape(530,)\n",
      "features.shape(62, 300)\n",
      "vad.shape(300,)\n",
      "features.shape(62, 342)\n",
      "vad.shape(342,)\n"
     ]
    },
    {
     "name": "stderr",
     "output_type": "stream",
     "text": [
      " 30%|███       | 368/1221 [00:04<00:10, 85.23it/s]"
     ]
    },
    {
     "name": "stdout",
     "output_type": "stream",
     "text": [
      "features.shape(62, 219)\n",
      "vad.shape(219,)\n",
      "features.shape(62, 283)\n",
      "vad.shape(283,)\n",
      "features.shape(62, 333)\n",
      "vad.shape(333,)\n",
      "features.shape(62, 509)\n",
      "vad.shape(509,)\n",
      "features.shape(62, 811)\n",
      "vad.shape(811,)\n",
      "features.shape(62, 355)\n",
      "vad.shape(355,)\n",
      "features.shape(62, 641)\n",
      "vad.shape(641,)\n",
      "features.shape(62, 504)\n",
      "vad.shape(504,)\n",
      "features.shape(62, 359)\n",
      "vad.shape(359,)\n",
      "features.shape(62, 462)\n",
      "vad.shape(462,)\n",
      "features.shape(62, 500)\n",
      "vad.shape(500,)\n",
      "features.shape(62, 470)\n",
      "vad.shape(470,)\n",
      "features.shape(62, 414)\n",
      "vad.shape(414,)\n",
      "features.shape(62, 692)\n",
      "vad.shape(692,)\n",
      "features.shape(62, 342)\n",
      "vad.shape(342,)\n",
      "features.shape(62, 338)\n",
      "vad.shape(338,)\n",
      "features.shape(62, 556)\n",
      "vad.shape(556,)\n",
      "features.shape(62, 432)\n",
      "vad.shape(432,)\n",
      "features.shape(62, 466)\n",
      "vad.shape(466,)\n",
      "features.shape(62, 402)\n",
      "vad.shape(402,)\n"
     ]
    },
    {
     "name": "stderr",
     "output_type": "stream",
     "text": [
      " 32%|███▏      | 387/1221 [00:04<00:09, 85.94it/s]"
     ]
    },
    {
     "name": "stdout",
     "output_type": "stream",
     "text": [
      "features.shape(62, 338)\n",
      "vad.shape(338,)\n",
      "features.shape(62, 615)\n",
      "vad.shape(615,)\n",
      "features.shape(62, 496)\n",
      "vad.shape(496,)\n",
      "features.shape(62, 393)\n",
      "vad.shape(393,)\n",
      "features.shape(62, 308)\n",
      "vad.shape(308,)\n",
      "features.shape(62, 585)\n",
      "vad.shape(585,)\n",
      "features.shape(62, 385)\n",
      "vad.shape(385,)\n",
      "features.shape(62, 457)\n",
      "vad.shape(457,)\n",
      "features.shape(62, 282)\n",
      "vad.shape(282,)\n",
      "features.shape(62, 1170)\n",
      "vad.shape(1170,)\n",
      "features.shape(62, 351)\n",
      "vad.shape(351,)\n",
      "features.shape(62, 304)\n",
      "vad.shape(304,)\n",
      "features.shape(62, 654)\n",
      "vad.shape(654,)\n",
      "features.shape(62, 428)\n",
      "vad.shape(428,)\n",
      "features.shape(62, 538)\n",
      "vad.shape(538,)\n",
      "features.shape(62, 261)\n",
      "vad.shape(261,)\n",
      "features.shape(62, 381)\n",
      "vad.shape(381,)\n",
      "features.shape(62, 594)\n",
      "vad.shape(594,)\n",
      "features.shape(62, 283)\n",
      "vad.shape(283,)\n",
      "features.shape(62, 649)\n"
     ]
    },
    {
     "name": "stderr",
     "output_type": "stream",
     "text": [
      " 33%|███▎      | 405/1221 [00:04<00:09, 82.36it/s]"
     ]
    },
    {
     "name": "stdout",
     "output_type": "stream",
     "text": [
      "vad.shape(649,)\n",
      "features.shape(62, 509)\n",
      "vad.shape(509,)\n",
      "features.shape(62, 333)\n",
      "vad.shape(333,)\n",
      "features.shape(62, 525)\n",
      "vad.shape(525,)\n",
      "features.shape(62, 231)\n",
      "vad.shape(231,)\n",
      "features.shape(62, 244)\n",
      "vad.shape(244,)\n",
      "features.shape(62, 342)\n",
      "vad.shape(342,)\n",
      "features.shape(62, 308)\n",
      "vad.shape(308,)\n",
      "features.shape(62, 547)\n",
      "vad.shape(547,)\n",
      "features.shape(62, 252)\n",
      "vad.shape(252,)\n",
      "features.shape(62, 470)\n",
      "vad.shape(470,)\n",
      "features.shape(62, 244)\n",
      "vad.shape(244,)\n",
      "features.shape(62, 270)\n",
      "vad.shape(270,)\n",
      "features.shape(62, 308)\n",
      "vad.shape(308,)\n",
      "features.shape(62, 449)\n",
      "vad.shape(449,)\n",
      "features.shape(62, 244)\n",
      "vad.shape(244,)\n"
     ]
    },
    {
     "name": "stderr",
     "output_type": "stream",
     "text": [
      " 35%|███▍      | 423/1221 [00:04<00:10, 75.71it/s]"
     ]
    },
    {
     "name": "stdout",
     "output_type": "stream",
     "text": [
      "features.shape(62, 342)\n",
      "vad.shape(342,)\n",
      "features.shape(62, 300)\n",
      "vad.shape(300,)\n",
      "features.shape(62, 317)\n",
      "vad.shape(317,)\n",
      "features.shape(62, 372)\n",
      "vad.shape(372,)\n",
      "features.shape(62, 231)\n",
      "vad.shape(231,)\n",
      "features.shape(62, 389)\n",
      "vad.shape(389,)\n",
      "features.shape(62, 398)\n",
      "vad.shape(398,)\n",
      "features.shape(62, 346)\n",
      "vad.shape(346,)\n",
      "features.shape(62, 402)\n",
      "vad.shape(402,)\n",
      "features.shape(62, 475)\n",
      "vad.shape(475,)\n",
      "features.shape(62, 641)\n",
      "vad.shape(641,)\n",
      "features.shape(62, 372)\n",
      "vad.shape(372,)\n",
      "features.shape(62, 555)\n",
      "vad.shape(555,)\n",
      "features.shape(62, 419)\n",
      "vad.shape(419,)\n",
      "features.shape(62, 543)\n",
      "vad.shape(543,)\n"
     ]
    },
    {
     "name": "stderr",
     "output_type": "stream",
     "text": [
      " 35%|███▌      | 433/1221 [00:05<00:09, 79.87it/s]"
     ]
    },
    {
     "name": "stdout",
     "output_type": "stream",
     "text": [
      "features.shape(62, 270)\n",
      "vad.shape(270,)\n",
      "features.shape(62, 910)\n",
      "vad.shape(910,)\n",
      "features.shape(62, 389)\n",
      "vad.shape(389,)\n",
      "features.shape(62, 389)\n",
      "vad.shape(389,)\n",
      "features.shape(62, 504)\n",
      "vad.shape(504,)\n",
      "features.shape(62, 475)\n",
      "vad.shape(475,)\n",
      "features.shape(62, 559)\n",
      "vad.shape(559,)\n",
      "features.shape(62, 547)\n",
      "vad.shape(547,)\n",
      "features.shape(62, 585)\n",
      "vad.shape(585,)\n",
      "features.shape(62, 223)\n",
      "vad.shape(223,)\n",
      "features.shape(62, 367)\n",
      "vad.shape(367,)\n",
      "features.shape(62, 291)\n",
      "vad.shape(291,)\n",
      "features.shape(62, 372)\n",
      "vad.shape(372,)\n",
      "features.shape(62, 436)\n",
      "vad.shape(436,)\n",
      "features.shape(62, 415)\n",
      "vad.shape(415,)\n",
      "features.shape(62, 449)\n",
      "vad.shape(449,)\n",
      "features.shape(62, 329)\n",
      "vad.shape(329,)\n",
      "features.shape(62, 372)\n",
      "vad.shape(372,)\n",
      "features.shape(62, 509)\n",
      "vad.shape(509,)\n"
     ]
    },
    {
     "name": "stderr",
     "output_type": "stream",
     "text": [
      " 38%|███▊      | 461/1221 [00:05<00:08, 85.35it/s]"
     ]
    },
    {
     "name": "stdout",
     "output_type": "stream",
     "text": [
      "features.shape(62, 444)\n",
      "vad.shape(444,)\n",
      "features.shape(62, 236)\n",
      "vad.shape(236,)\n",
      "features.shape(62, 231)\n",
      "vad.shape(231,)\n",
      "features.shape(62, 261)\n",
      "vad.shape(261,)\n",
      "features.shape(62, 334)\n",
      "vad.shape(334,)\n",
      "features.shape(62, 219)\n",
      "vad.shape(219,)\n",
      "features.shape(62, 1153)\n",
      "vad.shape(1153,)\n",
      "features.shape(62, 961)\n",
      "vad.shape(961,)\n",
      "features.shape(62, 376)\n",
      "vad.shape(376,)\n",
      "features.shape(62, 649)\n",
      "vad.shape(649,)\n",
      "features.shape(62, 709)\n",
      "vad.shape(709,)\n",
      "features.shape(62, 201)\n",
      "vad.shape(201,)\n",
      "features.shape(62, 722)\n",
      "vad.shape(722,)\n",
      "features.shape(62, 350)\n",
      "vad.shape(350,)\n",
      "features.shape(62, 466)\n",
      "vad.shape(466,)\n",
      "features.shape(62, 316)\n",
      "vad.shape(316,)\n",
      "features.shape(62, 475)\n",
      "vad.shape(475,)\n",
      "features.shape(62, 521)\n",
      "vad.shape(521,)\n",
      "features.shape(62, 321)\n",
      "vad.shape(321,)\n"
     ]
    },
    {
     "name": "stderr",
     "output_type": "stream",
     "text": [
      " 39%|███▊      | 471/1221 [00:05<00:08, 89.24it/s]"
     ]
    },
    {
     "name": "stdout",
     "output_type": "stream",
     "text": [
      "features.shape(62, 333)\n",
      "vad.shape(333,)\n",
      "features.shape(62, 236)\n",
      "vad.shape(236,)\n",
      "features.shape(62, 240)\n",
      "vad.shape(240,)\n",
      "features.shape(62, 316)\n",
      "vad.shape(316,)\n",
      "features.shape(62, 334)\n",
      "vad.shape(334,)\n",
      "features.shape(62, 538)\n",
      "vad.shape(538,)\n",
      "features.shape(62, 261)\n",
      "vad.shape(261,)\n",
      "features.shape(62, 295)\n",
      "vad.shape(295,)\n",
      "features.shape(62, 414)\n",
      "vad.shape(414,)\n",
      "features.shape(62, 492)\n",
      "vad.shape(492,)\n",
      "features.shape(62, 458)\n",
      "vad.shape(458,)\n",
      "features.shape(62, 342)\n",
      "vad.shape(342,)\n",
      "features.shape(62, 457)\n",
      "vad.shape(457,)\n",
      "features.shape(62, 350)\n",
      "vad.shape(350,)\n",
      "features.shape(62, 381)\n",
      "vad.shape(381,)\n",
      "features.shape(62, 218)\n",
      "vad.shape(218,)\n",
      "features.shape(62, 504)\n",
      "vad.shape(504,)\n",
      "features.shape(62, 679)\n",
      "vad.shape(679,)\n"
     ]
    },
    {
     "name": "stderr",
     "output_type": "stream",
     "text": [
      " 40%|████      | 490/1221 [00:05<00:08, 83.92it/s]"
     ]
    },
    {
     "name": "stdout",
     "output_type": "stream",
     "text": [
      "features.shape(62, 244)\n",
      "vad.shape(244,)\n",
      "features.shape(62, 244)\n",
      "vad.shape(244,)\n",
      "features.shape(62, 393)\n",
      "vad.shape(393,)\n",
      "features.shape(62, 312)\n",
      "vad.shape(312,)\n",
      "features.shape(62, 346)\n",
      "vad.shape(346,)\n",
      "features.shape(62, 295)\n",
      "vad.shape(295,)\n",
      "features.shape(62, 423)\n",
      "vad.shape(423,)\n",
      "features.shape(62, 312)\n",
      "vad.shape(312,)\n",
      "features.shape(62, 329)\n",
      "vad.shape(329,)\n",
      "features.shape(62, 304)\n",
      "vad.shape(304,)\n",
      "features.shape(62, 457)\n",
      "vad.shape(457,)\n",
      "features.shape(62, 206)\n",
      "vad.shape(206,)\n",
      "features.shape(62, 415)\n",
      "vad.shape(415,)\n",
      "features.shape(62, 334)\n",
      "vad.shape(334,)\n",
      "features.shape(62, 777)\n",
      "vad.shape(777,)\n"
     ]
    },
    {
     "name": "stderr",
     "output_type": "stream",
     "text": [
      " 42%|████▏     | 508/1221 [00:05<00:09, 76.90it/s]"
     ]
    },
    {
     "name": "stdout",
     "output_type": "stream",
     "text": [
      "features.shape(62, 543)\n",
      "vad.shape(543,)\n",
      "features.shape(62, 589)\n",
      "vad.shape(589,)\n",
      "features.shape(62, 568)\n",
      "vad.shape(568,)\n",
      "features.shape(62, 397)\n",
      "vad.shape(397,)\n",
      "features.shape(62, 338)\n",
      "vad.shape(338,)\n",
      "features.shape(62, 368)\n",
      "vad.shape(368,)\n",
      "features.shape(62, 274)\n",
      "vad.shape(274,)\n",
      "features.shape(62, 291)\n",
      "vad.shape(291,)\n",
      "features.shape(62, 688)\n",
      "vad.shape(688,)\n",
      "features.shape(62, 670)\n",
      "vad.shape(670,)\n",
      "features.shape(62, 551)\n",
      "vad.shape(551,)\n",
      "features.shape(62, 458)\n",
      "vad.shape(458,)\n",
      "features.shape(62, 462)\n",
      "vad.shape(462,)\n",
      "features.shape(62, 342)\n",
      "vad.shape(342,)\n",
      "features.shape(62, 530)\n",
      "vad.shape(530,)\n",
      "features.shape(62, 555)\n",
      "vad.shape(555,)\n",
      "features.shape(62, 346)\n",
      "vad.shape(346,)\n",
      "features.shape(62, 359)\n",
      "vad.shape(359,)\n",
      "features.shape(62, 223)\n",
      "vad.shape(223,)\n",
      "features.shape(62, 381)\n",
      "vad.shape(381,)\n",
      "features.shape(62, 381)\n",
      "vad.shape(381,)\n"
     ]
    },
    {
     "name": "stderr",
     "output_type": "stream",
     "text": [
      " 42%|████▏     | 516/1221 [00:06<00:13, 51.65it/s]"
     ]
    },
    {
     "name": "stdout",
     "output_type": "stream",
     "text": [
      "features.shape(62, 479)\n",
      "vad.shape(479,)\n",
      "features.shape(62, 483)\n",
      "vad.shape(483,)\n",
      "features.shape(62, 240)\n",
      "vad.shape(240,)\n",
      "features.shape(62, 278)\n",
      "vad.shape(278,)\n",
      "features.shape(62, 496)\n",
      "vad.shape(496,)\n",
      "features.shape(62, 389)\n",
      "vad.shape(389,)\n"
     ]
    },
    {
     "name": "stderr",
     "output_type": "stream",
     "text": [
      " 43%|████▎     | 530/1221 [00:06<00:14, 47.73it/s]"
     ]
    },
    {
     "name": "stdout",
     "output_type": "stream",
     "text": [
      "features.shape(62, 393)\n",
      "vad.shape(393,)\n",
      "features.shape(62, 624)\n",
      "vad.shape(624,)\n",
      "features.shape(62, 312)\n",
      "vad.shape(312,)\n",
      "features.shape(62, 308)\n",
      "vad.shape(308,)\n",
      "features.shape(62, 654)\n",
      "vad.shape(654,)\n",
      "features.shape(62, 346)\n",
      "vad.shape(346,)\n",
      "features.shape(62, 829)\n",
      "vad.shape(829,)\n",
      "features.shape(62, 308)\n",
      "vad.shape(308,)\n",
      "features.shape(62, 585)\n",
      "vad.shape(585,)\n",
      "features.shape(62, 449)\n",
      "vad.shape(449,)\n",
      "features.shape(62, 624)\n",
      "vad.shape(624,)\n",
      "features.shape(62, 534)\n",
      "vad.shape(534,)\n",
      "features.shape(62, 688)\n",
      "vad.shape(688,)\n",
      "features.shape(62, 231)\n",
      "vad.shape(231,)\n",
      "features.shape(62, 385)\n",
      "vad.shape(385,)\n",
      "features.shape(62, 607)\n",
      "vad.shape(607,)\n"
     ]
    },
    {
     "name": "stderr",
     "output_type": "stream",
     "text": [
      " 45%|████▍     | 548/1221 [00:06<00:10, 61.79it/s]"
     ]
    },
    {
     "name": "stdout",
     "output_type": "stream",
     "text": [
      "features.shape(62, 308)\n",
      "vad.shape(308,)\n",
      "features.shape(62, 542)\n",
      "vad.shape(542,)\n",
      "features.shape(62, 316)\n",
      "vad.shape(316,)\n",
      "features.shape(62, 551)\n",
      "vad.shape(551,)\n",
      "features.shape(62, 581)\n",
      "vad.shape(581,)\n",
      "features.shape(62, 530)\n",
      "vad.shape(530,)\n",
      "features.shape(62, 321)\n",
      "vad.shape(321,)\n",
      "features.shape(62, 193)\n",
      "vad.shape(193,)\n",
      "features.shape(62, 372)\n",
      "vad.shape(372,)\n",
      "features.shape(62, 829)\n",
      "vad.shape(829,)\n",
      "features.shape(62, 444)\n",
      "vad.shape(444,)\n",
      "features.shape(62, 521)\n",
      "vad.shape(521,)\n",
      "features.shape(62, 504)\n",
      "vad.shape(504,)\n",
      "features.shape(62, 517)\n",
      "vad.shape(517,)\n",
      "features.shape(62, 504)\n",
      "vad.shape(504,)\n",
      "features.shape(62, 504)\n",
      "vad.shape(504,)\n",
      "features.shape(62, 474)\n",
      "vad.shape(474,)\n",
      "features.shape(62, 504)\n",
      "vad.shape(504,)\n",
      "features.shape(62, 274)\n",
      "vad.shape(274,)\n",
      "features.shape(62, 235)\n",
      "vad.shape(235,)\n",
      "features.shape(62, 261)\n",
      "vad.shape(261,)\n",
      "features.shape(62, 312)\n",
      "vad.shape(312,)\n",
      "features.shape(62, 483)\n",
      "vad.shape(483,)\n",
      "features.shape(62, 406)\n",
      "vad.shape(406,)\n"
     ]
    },
    {
     "name": "stderr",
     "output_type": "stream",
     "text": [
      " 48%|████▊     | 580/1221 [00:07<00:07, 84.27it/s]"
     ]
    },
    {
     "name": "stdout",
     "output_type": "stream",
     "text": [
      "features.shape(62, 312)\n",
      "vad.shape(312,)\n",
      "features.shape(62, 257)\n",
      "vad.shape(257,)\n",
      "features.shape(62, 607)\n",
      "vad.shape(607,)\n",
      "features.shape(62, 393)\n",
      "vad.shape(393,)\n",
      "features.shape(62, 350)\n",
      "vad.shape(350,)\n",
      "features.shape(62, 363)\n",
      "vad.shape(363,)\n",
      "features.shape(62, 419)\n",
      "vad.shape(419,)\n",
      "features.shape(62, 236)\n",
      "vad.shape(236,)\n",
      "features.shape(62, 696)\n",
      "vad.shape(696,)\n",
      "features.shape(62, 513)\n",
      "vad.shape(513,)\n",
      "features.shape(62, 598)\n",
      "vad.shape(598,)\n",
      "features.shape(62, 444)\n",
      "vad.shape(444,)\n",
      "features.shape(62, 214)\n",
      "vad.shape(214,)\n",
      "features.shape(62, 573)\n",
      "vad.shape(573,)\n",
      "features.shape(62, 308)\n",
      "vad.shape(308,)\n",
      "features.shape(62, 235)\n",
      "vad.shape(235,)\n",
      "features.shape(62, 308)\n",
      "vad.shape(308,)\n",
      "features.shape(62, 308)\n",
      "vad.shape(308,)\n",
      "features.shape(62, 282)\n",
      "vad.shape(282,)\n",
      "features.shape(62, 329)\n",
      "vad.shape(329,)\n",
      "features.shape(62, 453)\n",
      "vad.shape(453,)\n",
      "features.shape(62, 244)\n",
      "vad.shape(244,)\n",
      "features.shape(62, 287)\n",
      "vad.shape(287,)\n",
      "features.shape(62, 457)\n",
      "vad.shape(457,)\n",
      "features.shape(62, 393)\n",
      "vad.shape(393,)\n",
      "features.shape(62, 568)\n",
      "vad.shape(568,)\n"
     ]
    },
    {
     "name": "stderr",
     "output_type": "stream",
     "text": [
      " 49%|████▉     | 598/1221 [00:07<00:09, 68.33it/s]"
     ]
    },
    {
     "name": "stdout",
     "output_type": "stream",
     "text": [
      "features.shape(62, 304)\n",
      "vad.shape(304,)\n",
      "features.shape(62, 329)\n",
      "vad.shape(329,)\n",
      "features.shape(62, 577)\n",
      "vad.shape(577,)\n",
      "features.shape(62, 278)\n",
      "vad.shape(278,)\n",
      "features.shape(62, 295)\n",
      "vad.shape(295,)\n",
      "features.shape(62, 308)\n",
      "vad.shape(308,)\n",
      "features.shape(62, 521)\n",
      "vad.shape(521,)\n",
      "features.shape(62, 568)\n",
      "vad.shape(568,)\n",
      "features.shape(62, 283)\n",
      "vad.shape(283,)\n",
      "features.shape(62, 278)\n",
      "vad.shape(278,)\n",
      "features.shape(62, 508)\n",
      "vad.shape(508,)\n",
      "features.shape(62, 402)\n",
      "vad.shape(402,)\n",
      "features.shape(62, 325)\n",
      "vad.shape(325,)\n",
      "features.shape(62, 428)\n",
      "vad.shape(428,)\n",
      "features.shape(62, 317)\n",
      "vad.shape(317,)\n",
      "features.shape(62, 402)\n",
      "vad.shape(402,)\n",
      "features.shape(62, 274)\n",
      "vad.shape(274,)\n",
      "features.shape(62, 453)\n",
      "vad.shape(453,)\n"
     ]
    },
    {
     "name": "stderr",
     "output_type": "stream",
     "text": [
      " 51%|█████     | 618/1221 [00:07<00:07, 77.56it/s]"
     ]
    },
    {
     "name": "stdout",
     "output_type": "stream",
     "text": [
      "features.shape(62, 231)\n",
      "vad.shape(231,)\n",
      "features.shape(62, 837)\n",
      "vad.shape(837,)\n",
      "features.shape(62, 295)\n",
      "vad.shape(295,)\n",
      "features.shape(62, 402)\n",
      "vad.shape(402,)\n",
      "features.shape(62, 321)\n",
      "vad.shape(321,)\n",
      "features.shape(62, 385)\n",
      "vad.shape(385,)\n",
      "features.shape(62, 291)\n",
      "vad.shape(291,)\n",
      "features.shape(62, 333)\n",
      "vad.shape(333,)\n",
      "features.shape(62, 671)\n",
      "vad.shape(671,)\n",
      "features.shape(62, 633)\n",
      "vad.shape(633,)\n",
      "features.shape(62, 325)\n",
      "vad.shape(325,)\n",
      "features.shape(62, 491)\n",
      "vad.shape(491,)\n",
      "features.shape(62, 291)\n",
      "vad.shape(291,)\n",
      "features.shape(62, 632)\n",
      "vad.shape(632,)\n",
      "features.shape(62, 236)\n",
      "vad.shape(236,)\n",
      "features.shape(62, 406)\n",
      "vad.shape(406,)\n",
      "features.shape(62, 406)\n",
      "vad.shape(406,)\n",
      "features.shape(62, 462)\n",
      "vad.shape(462,)\n"
     ]
    },
    {
     "name": "stderr",
     "output_type": "stream",
     "text": [
      " 52%|█████▏    | 635/1221 [00:07<00:08, 66.24it/s]"
     ]
    },
    {
     "name": "stdout",
     "output_type": "stream",
     "text": [
      "features.shape(62, 346)\n",
      "vad.shape(346,)\n",
      "features.shape(62, 380)\n",
      "vad.shape(380,)\n",
      "features.shape(62, 385)\n",
      "vad.shape(385,)\n",
      "features.shape(62, 317)\n",
      "vad.shape(317,)\n",
      "features.shape(62, 389)\n",
      "vad.shape(389,)\n",
      "features.shape(62, 585)\n",
      "vad.shape(585,)\n",
      "features.shape(62, 402)\n",
      "vad.shape(402,)\n",
      "features.shape(62, 466)\n",
      "vad.shape(466,)\n",
      "features.shape(62, 649)\n",
      "vad.shape(649,)\n",
      "features.shape(62, 269)\n",
      "vad.shape(269,)\n",
      "features.shape(62, 308)\n",
      "vad.shape(308,)\n",
      "features.shape(62, 598)\n",
      "vad.shape(598,)\n"
     ]
    },
    {
     "name": "stderr",
     "output_type": "stream",
     "text": [
      " 53%|█████▎    | 643/1221 [00:08<00:08, 67.22it/s]"
     ]
    },
    {
     "name": "stdout",
     "output_type": "stream",
     "text": [
      "features.shape(62, 219)\n",
      "vad.shape(219,)\n",
      "features.shape(62, 406)\n",
      "vad.shape(406,)\n",
      "features.shape(62, 261)\n",
      "vad.shape(261,)\n",
      "features.shape(62, 462)\n",
      "vad.shape(462,)\n",
      "features.shape(62, 261)\n",
      "vad.shape(261,)\n",
      "features.shape(62, 385)\n",
      "vad.shape(385,)\n",
      "features.shape(62, 295)\n",
      "vad.shape(295,)\n",
      "features.shape(62, 466)\n",
      "vad.shape(466,)\n",
      "features.shape(62, 462)\n",
      "vad.shape(462,)\n",
      "features.shape(62, 568)\n",
      "vad.shape(568,)\n",
      "features.shape(62, 253)\n",
      "vad.shape(253,)\n",
      "features.shape(62, 338)\n",
      "vad.shape(338,)\n",
      "features.shape(62, 675)\n",
      "vad.shape(675,)\n",
      "features.shape(62, 376)\n",
      "vad.shape(376,)\n",
      "features.shape(62, 556)\n",
      "vad.shape(556,)\n",
      "features.shape(62, 338)\n"
     ]
    },
    {
     "name": "stderr",
     "output_type": "stream",
     "text": [
      " 54%|█████▍    | 660/1221 [00:08<00:07, 73.23it/s]"
     ]
    },
    {
     "name": "stdout",
     "output_type": "stream",
     "text": [
      "vad.shape(338,)\n",
      "features.shape(62, 359)\n",
      "vad.shape(359,)\n",
      "features.shape(62, 359)\n",
      "vad.shape(359,)\n",
      "features.shape(62, 334)\n",
      "vad.shape(334,)\n",
      "features.shape(62, 295)\n",
      "vad.shape(295,)\n",
      "features.shape(62, 564)\n",
      "vad.shape(564,)\n",
      "features.shape(62, 270)\n",
      "vad.shape(270,)\n",
      "features.shape(62, 381)\n",
      "vad.shape(381,)\n",
      "features.shape(62, 278)\n",
      "vad.shape(278,)\n",
      "features.shape(62, 402)\n",
      "vad.shape(402,)\n",
      "features.shape(62, 1473)\n",
      "vad.shape(1473,)\n",
      "features.shape(62, 427)\n",
      "vad.shape(427,)\n",
      "features.shape(62, 415)\n",
      "vad.shape(415,)\n",
      "features.shape(62, 556)\n",
      "vad.shape(556,)\n",
      "features.shape(62, 346)\n",
      "vad.shape(346,)\n",
      "features.shape(62, 201)\n",
      "vad.shape(201,)\n",
      "features.shape(62, 397)\n",
      "vad.shape(397,)\n"
     ]
    },
    {
     "name": "stderr",
     "output_type": "stream",
     "text": [
      " 55%|█████▌    | 676/1221 [00:08<00:07, 75.69it/s]"
     ]
    },
    {
     "name": "stdout",
     "output_type": "stream",
     "text": [
      "features.shape(62, 240)\n",
      "vad.shape(240,)\n",
      "features.shape(62, 274)\n",
      "vad.shape(274,)\n",
      "features.shape(62, 538)\n",
      "vad.shape(538,)\n",
      "features.shape(62, 321)\n",
      "vad.shape(321,)\n",
      "features.shape(62, 607)\n",
      "vad.shape(607,)\n",
      "features.shape(62, 282)\n",
      "vad.shape(282,)\n",
      "features.shape(62, 496)\n",
      "vad.shape(496,)\n",
      "features.shape(62, 461)\n",
      "vad.shape(461,)\n",
      "features.shape(62, 586)\n",
      "vad.shape(586,)\n",
      "features.shape(62, 321)\n",
      "vad.shape(321,)\n",
      "features.shape(62, 632)\n",
      "vad.shape(632,)\n",
      "features.shape(62, 274)\n",
      "vad.shape(274,)\n",
      "features.shape(62, 338)\n",
      "vad.shape(338,)\n",
      "features.shape(62, 811)\n",
      "vad.shape(811,)\n",
      "features.shape(62, 453)\n",
      "vad.shape(453,)\n",
      "features.shape(62, 534)\n",
      "vad.shape(534,)\n",
      "features.shape(62, 372)\n",
      "vad.shape(372,)\n",
      "features.shape(62, 594)\n",
      "vad.shape(594,)\n",
      "features.shape(62, 513)\n",
      "vad.shape(513,)\n"
     ]
    },
    {
     "name": "stderr",
     "output_type": "stream",
     "text": [
      " 57%|█████▋    | 696/1221 [00:08<00:06, 84.20it/s]"
     ]
    },
    {
     "name": "stdout",
     "output_type": "stream",
     "text": [
      "features.shape(62, 427)\n",
      "vad.shape(427,)\n",
      "features.shape(62, 581)\n",
      "vad.shape(581,)\n",
      "features.shape(62, 500)\n",
      "vad.shape(500,)\n",
      "features.shape(62, 355)\n",
      "vad.shape(355,)\n",
      "features.shape(62, 261)\n",
      "vad.shape(261,)\n",
      "features.shape(62, 176)\n",
      "vad.shape(176,)\n",
      "features.shape(62, 206)\n",
      "vad.shape(206,)\n",
      "features.shape(62, 244)\n",
      "vad.shape(244,)\n",
      "features.shape(62, 184)\n",
      "vad.shape(184,)\n",
      "features.shape(62, 201)\n",
      "vad.shape(201,)\n",
      "features.shape(62, 244)\n",
      "vad.shape(244,)\n",
      "features.shape(62, 658)\n",
      "vad.shape(658,)\n",
      "features.shape(62, 236)\n",
      "vad.shape(236,)\n",
      "features.shape(62, 239)\n",
      "vad.shape(239,)\n",
      "features.shape(62, 278)\n",
      "vad.shape(278,)\n",
      "features.shape(62, 364)\n",
      "vad.shape(364,)\n",
      "features.shape(62, 218)\n",
      "vad.shape(218,)\n",
      "features.shape(62, 257)\n",
      "vad.shape(257,)\n",
      "features.shape(62, 231)\n"
     ]
    },
    {
     "name": "stderr",
     "output_type": "stream",
     "text": [
      " 58%|█████▊    | 705/1221 [00:08<00:06, 85.51it/s]"
     ]
    },
    {
     "name": "stdout",
     "output_type": "stream",
     "text": [
      "vad.shape(231,)\n",
      "features.shape(62, 184)\n",
      "vad.shape(184,)\n",
      "features.shape(62, 274)\n",
      "vad.shape(274,)\n",
      "features.shape(62, 231)\n",
      "vad.shape(231,)\n",
      "features.shape(62, 530)\n",
      "vad.shape(530,)\n",
      "features.shape(62, 193)\n",
      "vad.shape(193,)\n",
      "features.shape(62, 227)\n",
      "vad.shape(227,)\n",
      "features.shape(62, 223)\n",
      "vad.shape(223,)\n",
      "features.shape(62, 278)\n",
      "vad.shape(278,)\n"
     ]
    },
    {
     "name": "stderr",
     "output_type": "stream",
     "text": [
      " 60%|██████    | 733/1221 [00:09<00:06, 77.28it/s]"
     ]
    },
    {
     "name": "stdout",
     "output_type": "stream",
     "text": [
      "features.shape(62, 252)\n",
      "vad.shape(252,)\n",
      "features.shape(62, 483)\n",
      "vad.shape(483,)\n",
      "features.shape(62, 176)\n",
      "vad.shape(176,)\n",
      "features.shape(62, 227)\n",
      "vad.shape(227,)\n",
      "features.shape(62, 240)\n",
      "vad.shape(240,)\n",
      "features.shape(62, 282)\n",
      "vad.shape(282,)\n",
      "features.shape(62, 590)\n",
      "vad.shape(590,)\n",
      "features.shape(62, 253)\n",
      "vad.shape(253,)\n",
      "features.shape(62, 244)\n",
      "vad.shape(244,)\n",
      "features.shape(62, 231)\n",
      "vad.shape(231,)\n",
      "features.shape(62, 291)\n",
      "vad.shape(291,)\n",
      "features.shape(62, 419)\n",
      "vad.shape(419,)\n",
      "features.shape(62, 235)\n",
      "vad.shape(235,)\n",
      "features.shape(62, 214)\n",
      "vad.shape(214,)\n",
      "features.shape(62, 218)\n",
      "vad.shape(218,)\n",
      "features.shape(62, 261)\n",
      "vad.shape(261,)\n",
      "features.shape(62, 244)\n",
      "vad.shape(244,)\n",
      "features.shape(62, 257)\n",
      "vad.shape(257,)\n",
      "features.shape(62, 223)\n",
      "vad.shape(223,)\n",
      "features.shape(62, 257)\n",
      "vad.shape(257,)\n"
     ]
    },
    {
     "name": "stderr",
     "output_type": "stream",
     "text": [
      " 61%|██████    | 743/1221 [00:09<00:05, 81.01it/s]"
     ]
    },
    {
     "name": "stdout",
     "output_type": "stream",
     "text": [
      "features.shape(62, 176)\n",
      "vad.shape(176,)\n",
      "features.shape(62, 257)\n",
      "vad.shape(257,)\n",
      "features.shape(62, 227)\n",
      "vad.shape(227,)\n",
      "features.shape(62, 240)\n",
      "vad.shape(240,)\n",
      "features.shape(62, 197)\n",
      "vad.shape(197,)\n",
      "features.shape(62, 214)\n",
      "vad.shape(214,)\n",
      "features.shape(62, 202)\n",
      "vad.shape(202,)\n",
      "features.shape(62, 253)\n",
      "vad.shape(253,)\n",
      "features.shape(62, 253)\n",
      "vad.shape(253,)\n",
      "features.shape(62, 235)\n",
      "vad.shape(235,)\n",
      "features.shape(62, 189)\n",
      "vad.shape(189,)\n",
      "features.shape(62, 219)\n",
      "vad.shape(219,)\n",
      "features.shape(62, 504)\n",
      "vad.shape(504,)\n",
      "features.shape(62, 235)\n",
      "vad.shape(235,)\n",
      "features.shape(62, 231)\n",
      "vad.shape(231,)\n",
      "features.shape(62, 282)\n",
      "vad.shape(282,)\n",
      "features.shape(62, 269)\n",
      "vad.shape(269,)\n"
     ]
    },
    {
     "name": "stderr",
     "output_type": "stream",
     "text": [
      " 62%|██████▏   | 761/1221 [00:09<00:05, 79.62it/s]"
     ]
    },
    {
     "name": "stdout",
     "output_type": "stream",
     "text": [
      "features.shape(62, 180)\n",
      "vad.shape(180,)\n",
      "features.shape(62, 214)\n",
      "vad.shape(214,)\n",
      "features.shape(62, 253)\n",
      "vad.shape(253,)\n",
      "features.shape(62, 295)\n",
      "vad.shape(295,)\n",
      "features.shape(62, 236)\n",
      "vad.shape(236,)\n",
      "features.shape(62, 385)\n",
      "vad.shape(385,)\n",
      "features.shape(62, 376)\n",
      "vad.shape(376,)\n",
      "features.shape(62, 449)\n",
      "vad.shape(449,)\n",
      "features.shape(62, 253)\n",
      "vad.shape(253,)\n",
      "features.shape(62, 253)\n",
      "vad.shape(253,)\n",
      "features.shape(62, 227)\n",
      "vad.shape(227,)\n",
      "features.shape(62, 252)\n",
      "vad.shape(252,)\n",
      "features.shape(62, 193)\n",
      "vad.shape(193,)\n",
      "features.shape(62, 261)\n",
      "vad.shape(261,)\n",
      "features.shape(62, 184)\n",
      "vad.shape(184,)\n",
      "features.shape(62, 347)\n",
      "vad.shape(347,)\n",
      "features.shape(62, 167)\n",
      "vad.shape(167,)\n",
      "features.shape(62, 283)\n",
      "vad.shape(283,)\n",
      "features.shape(62, 180)\n",
      "vad.shape(180,)\n"
     ]
    },
    {
     "name": "stderr",
     "output_type": "stream",
     "text": [
      " 64%|██████▍   | 780/1221 [00:09<00:05, 76.14it/s]"
     ]
    },
    {
     "name": "stdout",
     "output_type": "stream",
     "text": [
      "features.shape(62, 376)\n",
      "vad.shape(376,)\n",
      "features.shape(62, 206)\n",
      "vad.shape(206,)\n",
      "features.shape(62, 176)\n",
      "vad.shape(176,)\n",
      "features.shape(62, 244)\n",
      "vad.shape(244,)\n",
      "features.shape(62, 201)\n",
      "vad.shape(201,)\n",
      "features.shape(62, 291)\n",
      "vad.shape(291,)\n",
      "features.shape(62, 530)\n",
      "vad.shape(530,)\n",
      "features.shape(62, 193)\n",
      "vad.shape(193,)\n",
      "features.shape(62, 261)\n",
      "vad.shape(261,)\n",
      "features.shape(62, 214)\n",
      "vad.shape(214,)\n",
      "features.shape(62, 334)\n",
      "vad.shape(334,)\n",
      "features.shape(62, 453)\n",
      "vad.shape(453,)\n",
      "features.shape(62, 235)\n",
      "vad.shape(235,)\n",
      "features.shape(62, 206)\n",
      "vad.shape(206,)\n"
     ]
    },
    {
     "name": "stderr",
     "output_type": "stream",
     "text": [
      " 66%|██████▌   | 801/1221 [00:10<00:04, 84.78it/s]"
     ]
    },
    {
     "name": "stdout",
     "output_type": "stream",
     "text": [
      "features.shape(62, 244)\n",
      "vad.shape(244,)\n",
      "features.shape(62, 265)\n",
      "vad.shape(265,)\n",
      "features.shape(62, 321)\n",
      "vad.shape(321,)\n",
      "features.shape(62, 248)\n",
      "vad.shape(248,)\n",
      "features.shape(62, 172)\n",
      "vad.shape(172,)\n",
      "features.shape(62, 223)\n",
      "vad.shape(223,)\n",
      "features.shape(62, 291)\n",
      "vad.shape(291,)\n",
      "features.shape(62, 359)\n",
      "vad.shape(359,)\n",
      "features.shape(62, 214)\n",
      "vad.shape(214,)\n",
      "features.shape(62, 189)\n",
      "vad.shape(189,)\n",
      "features.shape(62, 167)\n",
      "vad.shape(167,)\n",
      "features.shape(62, 423)\n",
      "vad.shape(423,)\n",
      "features.shape(62, 219)\n",
      "vad.shape(219,)\n",
      "features.shape(62, 274)\n",
      "vad.shape(274,)\n",
      "features.shape(62, 278)\n",
      "vad.shape(278,)\n",
      "features.shape(62, 167)\n",
      "vad.shape(167,)\n",
      "features.shape(62, 223)\n",
      "vad.shape(223,)\n",
      "features.shape(62, 210)\n",
      "vad.shape(210,)\n"
     ]
    },
    {
     "name": "stderr",
     "output_type": "stream",
     "text": [
      " 66%|██████▋   | 810/1221 [00:10<00:04, 84.09it/s]"
     ]
    },
    {
     "name": "stdout",
     "output_type": "stream",
     "text": [
      "features.shape(62, 223)\n",
      "vad.shape(223,)\n",
      "features.shape(62, 283)\n",
      "vad.shape(283,)\n",
      "features.shape(62, 270)\n",
      "vad.shape(270,)\n",
      "features.shape(62, 299)\n",
      "vad.shape(299,)\n",
      "features.shape(62, 223)\n",
      "vad.shape(223,)\n",
      "features.shape(62, 372)\n",
      "vad.shape(372,)\n",
      "features.shape(62, 218)\n",
      "vad.shape(218,)\n",
      "features.shape(62, 202)\n",
      "vad.shape(202,)\n",
      "features.shape(62, 278)\n",
      "vad.shape(278,)\n",
      "features.shape(62, 231)\n",
      "vad.shape(231,)\n",
      "features.shape(62, 282)\n",
      "vad.shape(282,)\n",
      "features.shape(62, 363)\n",
      "vad.shape(363,)\n",
      "features.shape(62, 257)\n",
      "vad.shape(257,)\n",
      "features.shape(62, 287)\n",
      "vad.shape(287,)\n",
      "features.shape(62, 218)\n",
      "vad.shape(218,)\n",
      "features.shape(62, 347)\n"
     ]
    },
    {
     "name": "stderr",
     "output_type": "stream",
     "text": [
      " 68%|██████▊   | 828/1221 [00:10<00:05, 75.60it/s]"
     ]
    },
    {
     "name": "stdout",
     "output_type": "stream",
     "text": [
      "vad.shape(347,)\n",
      "features.shape(62, 239)\n",
      "vad.shape(239,)\n",
      "features.shape(62, 206)\n",
      "vad.shape(206,)\n",
      "features.shape(62, 180)\n",
      "vad.shape(180,)\n",
      "features.shape(62, 270)\n",
      "vad.shape(270,)\n",
      "features.shape(62, 236)\n",
      "vad.shape(236,)\n",
      "features.shape(62, 645)\n",
      "vad.shape(645,)\n",
      "features.shape(62, 291)\n",
      "vad.shape(291,)\n",
      "features.shape(62, 312)\n",
      "vad.shape(312,)\n",
      "features.shape(62, 278)\n",
      "vad.shape(278,)\n",
      "features.shape(62, 193)\n",
      "vad.shape(193,)\n",
      "features.shape(62, 227)\n",
      "vad.shape(227,)\n",
      "features.shape(62, 363)\n",
      "vad.shape(363,)\n",
      "features.shape(62, 253)\n",
      "vad.shape(253,)\n",
      "features.shape(62, 291)\n",
      "vad.shape(291,)\n",
      "features.shape(62, 210)\n"
     ]
    },
    {
     "name": "stderr",
     "output_type": "stream",
     "text": [
      " 70%|██████▉   | 851/1221 [00:10<00:04, 91.64it/s]"
     ]
    },
    {
     "name": "stdout",
     "output_type": "stream",
     "text": [
      "vad.shape(210,)\n",
      "features.shape(62, 240)\n",
      "vad.shape(240,)\n",
      "features.shape(62, 231)\n",
      "vad.shape(231,)\n",
      "features.shape(62, 333)\n",
      "vad.shape(333,)\n",
      "features.shape(62, 261)\n",
      "vad.shape(261,)\n",
      "features.shape(62, 214)\n",
      "vad.shape(214,)\n",
      "features.shape(62, 240)\n",
      "vad.shape(240,)\n",
      "features.shape(62, 235)\n",
      "vad.shape(235,)\n",
      "features.shape(62, 278)\n",
      "vad.shape(278,)\n",
      "features.shape(62, 269)\n",
      "vad.shape(269,)\n",
      "features.shape(62, 193)\n",
      "vad.shape(193,)\n",
      "features.shape(62, 253)\n",
      "vad.shape(253,)\n",
      "features.shape(62, 291)\n",
      "vad.shape(291,)\n",
      "features.shape(62, 252)\n",
      "vad.shape(252,)\n",
      "features.shape(62, 295)\n",
      "vad.shape(295,)\n",
      "features.shape(62, 235)\n",
      "vad.shape(235,)\n",
      "features.shape(62, 197)\n",
      "vad.shape(197,)\n",
      "features.shape(62, 257)\n",
      "vad.shape(257,)\n",
      "features.shape(62, 257)\n",
      "vad.shape(257,)\n",
      "features.shape(62, 214)\n",
      "vad.shape(214,)\n",
      "features.shape(62, 291)\n",
      "vad.shape(291,)\n",
      "features.shape(62, 214)\n",
      "vad.shape(214,)\n"
     ]
    },
    {
     "name": "stderr",
     "output_type": "stream",
     "text": [
      " 71%|███████   | 861/1221 [00:10<00:05, 71.02it/s]"
     ]
    },
    {
     "name": "stdout",
     "output_type": "stream",
     "text": [
      "features.shape(62, 257)\n",
      "vad.shape(257,)\n",
      "features.shape(62, 257)\n",
      "vad.shape(257,)\n",
      "features.shape(62, 300)\n",
      "vad.shape(300,)\n",
      "features.shape(62, 355)\n",
      "vad.shape(355,)\n",
      "features.shape(62, 201)\n",
      "vad.shape(201,)\n",
      "features.shape(62, 585)\n",
      "vad.shape(585,)\n",
      "features.shape(62, 291)\n",
      "vad.shape(291,)\n",
      "features.shape(62, 201)\n",
      "vad.shape(201,)\n",
      "features.shape(62, 398)\n",
      "vad.shape(398,)\n",
      "features.shape(62, 188)\n",
      "vad.shape(188,)\n"
     ]
    },
    {
     "name": "stderr",
     "output_type": "stream",
     "text": [
      " 72%|███████▏  | 880/1221 [00:11<00:04, 78.71it/s]"
     ]
    },
    {
     "name": "stdout",
     "output_type": "stream",
     "text": [
      "features.shape(62, 265)\n",
      "vad.shape(265,)\n",
      "features.shape(62, 248)\n",
      "vad.shape(248,)\n",
      "features.shape(62, 176)\n",
      "vad.shape(176,)\n",
      "features.shape(62, 227)\n",
      "vad.shape(227,)\n",
      "features.shape(62, 265)\n",
      "vad.shape(265,)\n",
      "features.shape(62, 240)\n",
      "vad.shape(240,)\n",
      "features.shape(62, 206)\n",
      "vad.shape(206,)\n",
      "features.shape(62, 252)\n",
      "vad.shape(252,)\n",
      "features.shape(62, 346)\n",
      "vad.shape(346,)\n",
      "features.shape(62, 304)\n",
      "vad.shape(304,)\n",
      "features.shape(62, 304)\n",
      "vad.shape(304,)\n",
      "features.shape(62, 201)\n",
      "vad.shape(201,)\n",
      "features.shape(62, 244)\n",
      "vad.shape(244,)\n",
      "features.shape(62, 244)\n",
      "vad.shape(244,)\n",
      "features.shape(62, 321)\n",
      "vad.shape(321,)\n",
      "features.shape(62, 300)\n",
      "vad.shape(300,)\n",
      "features.shape(62, 227)\n",
      "vad.shape(227,)\n",
      "features.shape(62, 299)\n",
      "vad.shape(299,)\n",
      "features.shape(62, 252)\n",
      "vad.shape(252,)\n",
      "features.shape(62, 363)\n",
      "vad.shape(363,)\n"
     ]
    },
    {
     "name": "stderr",
     "output_type": "stream",
     "text": [
      " 74%|███████▎  | 898/1221 [00:11<00:04, 76.45it/s]"
     ]
    },
    {
     "name": "stdout",
     "output_type": "stream",
     "text": [
      "features.shape(62, 193)\n",
      "vad.shape(193,)\n",
      "features.shape(62, 184)\n",
      "vad.shape(184,)\n",
      "features.shape(62, 210)\n",
      "vad.shape(210,)\n",
      "features.shape(62, 193)\n",
      "vad.shape(193,)\n",
      "features.shape(62, 218)\n",
      "vad.shape(218,)\n",
      "features.shape(62, 235)\n",
      "vad.shape(235,)\n",
      "features.shape(62, 359)\n",
      "vad.shape(359,)\n",
      "features.shape(62, 235)\n",
      "vad.shape(235,)\n",
      "features.shape(62, 282)\n",
      "vad.shape(282,)\n",
      "features.shape(62, 222)\n",
      "vad.shape(222,)\n",
      "features.shape(62, 244)\n",
      "vad.shape(244,)\n",
      "features.shape(62, 201)\n",
      "vad.shape(201,)\n",
      "features.shape(62, 218)\n",
      "vad.shape(218,)\n",
      "features.shape(62, 261)\n",
      "vad.shape(261,)\n",
      "features.shape(62, 312)\n",
      "vad.shape(312,)\n"
     ]
    },
    {
     "name": "stderr",
     "output_type": "stream",
     "text": [
      " 74%|███████▍  | 907/1221 [00:11<00:04, 75.68it/s]"
     ]
    },
    {
     "name": "stdout",
     "output_type": "stream",
     "text": [
      "features.shape(62, 180)\n",
      "vad.shape(180,)\n",
      "features.shape(62, 338)\n",
      "vad.shape(338,)\n",
      "features.shape(62, 231)\n",
      "vad.shape(231,)\n",
      "features.shape(62, 359)\n",
      "vad.shape(359,)\n",
      "features.shape(62, 189)\n",
      "vad.shape(189,)\n",
      "features.shape(62, 257)\n",
      "vad.shape(257,)\n",
      "features.shape(62, 257)\n",
      "vad.shape(257,)\n",
      "features.shape(62, 176)\n",
      "vad.shape(176,)\n",
      "features.shape(62, 312)\n",
      "vad.shape(312,)\n",
      "features.shape(62, 253)\n",
      "vad.shape(253,)\n",
      "features.shape(62, 287)\n",
      "vad.shape(287,)\n",
      "features.shape(62, 223)\n",
      "vad.shape(223,)\n",
      "features.shape(62, 295)\n",
      "vad.shape(295,)\n",
      "features.shape(62, 248)\n",
      "vad.shape(248,)\n"
     ]
    },
    {
     "name": "stderr",
     "output_type": "stream",
     "text": [
      " 76%|███████▌  | 923/1221 [00:11<00:04, 67.96it/s]"
     ]
    },
    {
     "name": "stdout",
     "output_type": "stream",
     "text": [
      "features.shape(62, 214)\n",
      "vad.shape(214,)\n",
      "features.shape(62, 304)\n",
      "vad.shape(304,)\n",
      "features.shape(62, 261)\n",
      "vad.shape(261,)\n",
      "features.shape(62, 372)\n",
      "vad.shape(372,)\n",
      "features.shape(62, 449)\n",
      "vad.shape(449,)\n",
      "features.shape(62, 291)\n",
      "vad.shape(291,)\n",
      "features.shape(62, 807)\n",
      "vad.shape(807,)\n",
      "features.shape(62, 214)\n",
      "vad.shape(214,)\n",
      "features.shape(62, 278)\n",
      "vad.shape(278,)\n",
      "features.shape(62, 291)\n",
      "vad.shape(291,)\n",
      "features.shape(62, 342)\n",
      "vad.shape(342,)\n",
      "features.shape(62, 308)\n",
      "vad.shape(308,)\n",
      "features.shape(62, 227)\n"
     ]
    },
    {
     "name": "stderr",
     "output_type": "stream",
     "text": [
      " 76%|███████▌  | 930/1221 [00:11<00:05, 57.10it/s]"
     ]
    },
    {
     "name": "stdout",
     "output_type": "stream",
     "text": [
      "vad.shape(227,)\n",
      "features.shape(62, 197)\n",
      "vad.shape(197,)\n",
      "features.shape(62, 282)\n",
      "vad.shape(282,)\n",
      "features.shape(62, 261)\n",
      "vad.shape(261,)\n",
      "features.shape(62, 252)\n",
      "vad.shape(252,)\n",
      "features.shape(62, 214)\n",
      "vad.shape(214,)\n",
      "features.shape(62, 197)\n",
      "vad.shape(197,)\n",
      "features.shape(62, 253)\n",
      "vad.shape(253,)\n",
      "features.shape(62, 210)\n",
      "vad.shape(210,)\n"
     ]
    },
    {
     "name": "stderr",
     "output_type": "stream",
     "text": [
      " 77%|███████▋  | 944/1221 [00:12<00:05, 55.28it/s]"
     ]
    },
    {
     "name": "stdout",
     "output_type": "stream",
     "text": [
      "features.shape(62, 266)\n",
      "vad.shape(266,)\n",
      "features.shape(62, 265)\n",
      "vad.shape(265,)\n",
      "features.shape(62, 265)\n",
      "vad.shape(265,)\n",
      "features.shape(62, 210)\n",
      "vad.shape(210,)\n",
      "features.shape(62, 223)\n",
      "vad.shape(223,)\n",
      "features.shape(62, 236)\n",
      "vad.shape(236,)\n",
      "features.shape(62, 244)\n",
      "vad.shape(244,)\n",
      "features.shape(62, 236)\n",
      "vad.shape(236,)\n",
      "features.shape(62, 645)\n",
      "vad.shape(645,)\n",
      "features.shape(62, 239)\n",
      "vad.shape(239,)\n",
      "features.shape(62, 244)\n",
      "vad.shape(244,)\n"
     ]
    },
    {
     "name": "stderr",
     "output_type": "stream",
     "text": [
      " 78%|███████▊  | 953/1221 [00:12<00:04, 59.62it/s]"
     ]
    },
    {
     "name": "stdout",
     "output_type": "stream",
     "text": [
      "features.shape(62, 265)\n",
      "vad.shape(265,)\n",
      "features.shape(62, 201)\n",
      "vad.shape(201,)\n",
      "features.shape(62, 206)\n",
      "vad.shape(206,)\n",
      "features.shape(62, 240)\n",
      "vad.shape(240,)\n",
      "features.shape(62, 253)\n",
      "vad.shape(253,)\n",
      "features.shape(62, 376)\n",
      "vad.shape(376,)\n",
      "features.shape(62, 210)\n",
      "vad.shape(210,)\n",
      "features.shape(62, 765)\n",
      "vad.shape(765,)\n",
      "features.shape(62, 265)\n",
      "vad.shape(265,)\n",
      "features.shape(62, 240)\n",
      "vad.shape(240,)\n",
      "features.shape(62, 269)\n",
      "vad.shape(269,)\n",
      "features.shape(62, 227)\n",
      "vad.shape(227,)\n",
      "features.shape(62, 252)\n",
      "vad.shape(252,)\n",
      "features.shape(62, 445)\n",
      "vad.shape(445,)\n",
      "features.shape(62, 325)\n"
     ]
    },
    {
     "name": "stderr",
     "output_type": "stream",
     "text": [
      " 80%|███████▉  | 972/1221 [00:12<00:03, 72.47it/s]"
     ]
    },
    {
     "name": "stdout",
     "output_type": "stream",
     "text": [
      "vad.shape(325,)\n",
      "features.shape(62, 253)\n",
      "vad.shape(253,)\n",
      "features.shape(62, 201)\n",
      "vad.shape(201,)\n",
      "features.shape(62, 265)\n",
      "vad.shape(265,)\n",
      "features.shape(62, 283)\n",
      "vad.shape(283,)\n",
      "features.shape(62, 214)\n",
      "vad.shape(214,)\n",
      "features.shape(62, 295)\n",
      "vad.shape(295,)\n",
      "features.shape(62, 265)\n",
      "vad.shape(265,)\n",
      "features.shape(62, 346)\n",
      "vad.shape(346,)\n",
      "features.shape(62, 201)\n",
      "vad.shape(201,)\n",
      "features.shape(62, 205)\n",
      "vad.shape(205,)\n",
      "features.shape(62, 235)\n",
      "vad.shape(235,)\n",
      "features.shape(62, 210)\n",
      "vad.shape(210,)\n",
      "features.shape(62, 197)\n",
      "vad.shape(197,)\n",
      "features.shape(62, 240)\n",
      "vad.shape(240,)\n",
      "features.shape(62, 317)\n",
      "vad.shape(317,)\n",
      "features.shape(62, 244)\n",
      "vad.shape(244,)\n",
      "features.shape(62, 270)\n",
      "vad.shape(270,)\n",
      "features.shape(62, 189)\n",
      "vad.shape(189,)\n",
      "features.shape(62, 257)\n",
      "vad.shape(257,)\n"
     ]
    },
    {
     "name": "stderr",
     "output_type": "stream",
     "text": [
      " 80%|████████  | 982/1221 [00:12<00:03, 77.00it/s]"
     ]
    },
    {
     "name": "stdout",
     "output_type": "stream",
     "text": [
      "features.shape(62, 248)\n",
      "vad.shape(248,)\n",
      "features.shape(62, 359)\n",
      "vad.shape(359,)\n",
      "features.shape(62, 287)\n",
      "vad.shape(287,)\n",
      "features.shape(62, 287)\n",
      "vad.shape(287,)\n",
      "features.shape(62, 218)\n",
      "vad.shape(218,)\n",
      "features.shape(62, 278)\n",
      "vad.shape(278,)\n",
      "features.shape(62, 316)\n",
      "vad.shape(316,)\n",
      "features.shape(62, 202)\n",
      "vad.shape(202,)\n",
      "features.shape(62, 248)\n",
      "vad.shape(248,)\n"
     ]
    },
    {
     "name": "stderr",
     "output_type": "stream",
     "text": [
      " 81%|████████  | 990/1221 [00:12<00:04, 54.30it/s]"
     ]
    },
    {
     "name": "stdout",
     "output_type": "stream",
     "text": [
      "features.shape(62, 231)\n",
      "vad.shape(231,)\n",
      "features.shape(62, 210)\n",
      "vad.shape(210,)\n",
      "features.shape(62, 261)\n",
      "vad.shape(261,)\n",
      "features.shape(62, 189)\n",
      "vad.shape(189,)\n"
     ]
    },
    {
     "name": "stderr",
     "output_type": "stream",
     "text": [
      " 82%|████████▏ | 997/1221 [00:13<00:05, 37.61it/s]"
     ]
    },
    {
     "name": "stdout",
     "output_type": "stream",
     "text": [
      "features.shape(62, 236)\n",
      "vad.shape(236,)\n",
      "features.shape(62, 214)\n",
      "vad.shape(214,)\n",
      "features.shape(62, 188)\n",
      "vad.shape(188,)\n",
      "features.shape(62, 240)\n",
      "vad.shape(240,)\n",
      "features.shape(62, 261)\n",
      "vad.shape(261,)\n",
      "features.shape(62, 244)\n",
      "vad.shape(244,)\n",
      "features.shape(62, 231)\n",
      "vad.shape(231,)\n",
      "features.shape(62, 239)\n",
      "vad.shape(239,)\n"
     ]
    },
    {
     "name": "stderr",
     "output_type": "stream",
     "text": [
      " 82%|████████▏ | 1003/1221 [00:13<00:06, 35.95it/s]"
     ]
    },
    {
     "name": "stdout",
     "output_type": "stream",
     "text": [
      "features.shape(62, 227)\n",
      "vad.shape(227,)\n",
      "features.shape(62, 201)\n",
      "vad.shape(201,)\n",
      "features.shape(62, 308)\n",
      "vad.shape(308,)\n",
      "features.shape(62, 184)\n",
      "vad.shape(184,)\n",
      "features.shape(62, 201)\n",
      "vad.shape(201,)\n",
      "features.shape(62, 219)\n",
      "vad.shape(219,)\n",
      "features.shape(62, 184)\n",
      "vad.shape(184,)\n"
     ]
    },
    {
     "name": "stderr",
     "output_type": "stream",
     "text": [
      " 83%|████████▎ | 1013/1221 [00:13<00:06, 34.30it/s]"
     ]
    },
    {
     "name": "stdout",
     "output_type": "stream",
     "text": [
      "features.shape(62, 240)\n",
      "vad.shape(240,)\n",
      "features.shape(62, 248)\n",
      "vad.shape(248,)\n",
      "features.shape(62, 214)\n",
      "vad.shape(214,)\n",
      "features.shape(62, 248)\n",
      "vad.shape(248,)\n",
      "features.shape(62, 436)\n",
      "vad.shape(436,)\n",
      "features.shape(62, 219)\n",
      "vad.shape(219,)\n",
      "features.shape(62, 257)\n",
      "vad.shape(257,)\n"
     ]
    },
    {
     "name": "stderr",
     "output_type": "stream",
     "text": [
      " 84%|████████▍ | 1025/1221 [00:13<00:04, 44.37it/s]"
     ]
    },
    {
     "name": "stdout",
     "output_type": "stream",
     "text": [
      "features.shape(62, 278)\n",
      "vad.shape(278,)\n",
      "features.shape(62, 261)\n",
      "vad.shape(261,)\n",
      "features.shape(62, 236)\n",
      "vad.shape(236,)\n",
      "features.shape(62, 286)\n",
      "vad.shape(286,)\n",
      "features.shape(62, 287)\n",
      "vad.shape(287,)\n",
      "features.shape(62, 205)\n",
      "vad.shape(205,)\n",
      "features.shape(62, 214)\n",
      "vad.shape(214,)\n",
      "features.shape(62, 231)\n",
      "vad.shape(231,)\n",
      "features.shape(62, 206)\n",
      "vad.shape(206,)\n",
      "features.shape(62, 205)\n",
      "vad.shape(205,)\n",
      "features.shape(62, 359)\n",
      "vad.shape(359,)\n",
      "features.shape(62, 235)\n",
      "vad.shape(235,)\n"
     ]
    },
    {
     "name": "stderr",
     "output_type": "stream",
     "text": [
      " 84%|████████▍ | 1031/1221 [00:14<00:04, 47.38it/s]"
     ]
    },
    {
     "name": "stdout",
     "output_type": "stream",
     "text": [
      "features.shape(62, 188)\n",
      "vad.shape(188,)\n",
      "features.shape(62, 248)\n",
      "vad.shape(248,)\n",
      "features.shape(62, 295)\n",
      "vad.shape(295,)\n",
      "features.shape(62, 227)\n",
      "vad.shape(227,)\n",
      "features.shape(62, 270)\n",
      "vad.shape(270,)\n",
      "features.shape(62, 206)\n",
      "vad.shape(206,)\n",
      "features.shape(62, 283)\n",
      "vad.shape(283,)\n",
      "features.shape(62, 363)\n",
      "vad.shape(363,)\n",
      "features.shape(62, 270)\n",
      "vad.shape(270,)\n"
     ]
    },
    {
     "name": "stderr",
     "output_type": "stream",
     "text": [
      " 85%|████████▍ | 1037/1221 [00:14<00:05, 36.27it/s]"
     ]
    },
    {
     "name": "stdout",
     "output_type": "stream",
     "text": [
      "features.shape(62, 261)\n",
      "vad.shape(261,)\n",
      "features.shape(62, 367)\n",
      "vad.shape(367,)\n",
      "features.shape(62, 205)\n",
      "vad.shape(205,)\n",
      "features.shape(62, 265)\n",
      "vad.shape(265,)\n",
      "features.shape(62, 222)\n",
      "vad.shape(222,)\n",
      "features.shape(62, 205)\n",
      "vad.shape(205,)\n",
      "features.shape(62, 248)\n",
      "vad.shape(248,)\n"
     ]
    },
    {
     "name": "stderr",
     "output_type": "stream",
     "text": [
      " 85%|████████▌ | 1042/1221 [00:14<00:05, 35.27it/s]"
     ]
    },
    {
     "name": "stdout",
     "output_type": "stream",
     "text": [
      "features.shape(62, 248)\n",
      "vad.shape(248,)\n",
      "features.shape(62, 210)\n",
      "vad.shape(210,)\n",
      "features.shape(62, 240)\n",
      "vad.shape(240,)\n"
     ]
    },
    {
     "name": "stderr",
     "output_type": "stream",
     "text": [
      " 86%|████████▌ | 1051/1221 [00:14<00:05, 29.49it/s]"
     ]
    },
    {
     "name": "stdout",
     "output_type": "stream",
     "text": [
      "features.shape(62, 223)\n",
      "vad.shape(223,)\n",
      "features.shape(62, 410)\n",
      "vad.shape(410,)\n",
      "features.shape(62, 282)\n",
      "vad.shape(282,)\n",
      "features.shape(62, 235)\n",
      "vad.shape(235,)\n",
      "features.shape(62, 206)\n",
      "vad.shape(206,)\n",
      "features.shape(62, 270)\n",
      "vad.shape(270,)\n",
      "features.shape(62, 653)\n",
      "vad.shape(653,)\n",
      "features.shape(62, 282)\n",
      "vad.shape(282,)\n",
      "features.shape(62, 153)\n",
      "vad.shape(153,)\n",
      "features.shape(62, 214)\n",
      "vad.shape(214,)\n"
     ]
    },
    {
     "name": "stderr",
     "output_type": "stream",
     "text": [
      " 87%|████████▋ | 1059/1221 [00:15<00:05, 28.18it/s]"
     ]
    },
    {
     "name": "stdout",
     "output_type": "stream",
     "text": [
      "features.shape(62, 188)\n",
      "vad.shape(188,)\n",
      "features.shape(62, 219)\n",
      "vad.shape(219,)\n",
      "features.shape(62, 321)\n",
      "vad.shape(321,)\n",
      "features.shape(62, 291)\n",
      "vad.shape(291,)\n",
      "features.shape(62, 248)\n",
      "vad.shape(248,)\n"
     ]
    },
    {
     "name": "stderr",
     "output_type": "stream",
     "text": [
      " 87%|████████▋ | 1063/1221 [00:15<00:05, 27.60it/s]"
     ]
    },
    {
     "name": "stdout",
     "output_type": "stream",
     "text": [
      "features.shape(62, 291)\n",
      "vad.shape(291,)\n",
      "features.shape(62, 180)\n",
      "vad.shape(180,)\n",
      "features.shape(62, 253)\n",
      "vad.shape(253,)\n",
      "features.shape(62, 214)\n",
      "vad.shape(214,)\n",
      "features.shape(62, 201)\n",
      "vad.shape(201,)\n",
      "features.shape(62, 231)\n",
      "vad.shape(231,)\n",
      "features.shape(62, 244)\n",
      "vad.shape(244,)\n",
      "features.shape(62, 270)\n",
      "vad.shape(270,)\n",
      "features.shape(62, 329)\n",
      "vad.shape(329,)\n"
     ]
    },
    {
     "name": "stderr",
     "output_type": "stream",
     "text": [
      " 88%|████████▊ | 1077/1221 [00:15<00:03, 41.75it/s]"
     ]
    },
    {
     "name": "stdout",
     "output_type": "stream",
     "text": [
      "features.shape(62, 240)\n",
      "vad.shape(240,)\n",
      "features.shape(62, 257)\n",
      "vad.shape(257,)\n",
      "features.shape(62, 248)\n",
      "vad.shape(248,)\n",
      "features.shape(62, 210)\n",
      "vad.shape(210,)\n",
      "features.shape(62, 240)\n",
      "vad.shape(240,)\n",
      "features.shape(62, 201)\n",
      "vad.shape(201,)\n",
      "features.shape(62, 244)\n",
      "vad.shape(244,)\n",
      "features.shape(62, 261)\n",
      "vad.shape(261,)\n",
      "features.shape(62, 227)\n",
      "vad.shape(227,)\n",
      "features.shape(62, 218)\n",
      "vad.shape(218,)\n"
     ]
    },
    {
     "name": "stderr",
     "output_type": "stream",
     "text": [
      " 89%|████████▊ | 1082/1221 [00:15<00:03, 36.38it/s]"
     ]
    },
    {
     "name": "stdout",
     "output_type": "stream",
     "text": [
      "features.shape(62, 299)\n",
      "vad.shape(299,)\n",
      "features.shape(62, 227)\n",
      "vad.shape(227,)\n",
      "features.shape(62, 257)\n",
      "vad.shape(257,)\n",
      "features.shape(62, 159)\n",
      "vad.shape(159,)\n",
      "features.shape(62, 278)\n",
      "vad.shape(278,)\n",
      "features.shape(62, 265)\n",
      "vad.shape(265,)\n",
      "features.shape(62, 197)\n",
      "vad.shape(197,)\n"
     ]
    },
    {
     "name": "stderr",
     "output_type": "stream",
     "text": [
      " 89%|████████▉ | 1087/1221 [00:15<00:03, 37.85it/s]"
     ]
    },
    {
     "name": "stdout",
     "output_type": "stream",
     "text": [
      "features.shape(62, 202)\n",
      "vad.shape(202,)\n",
      "features.shape(62, 295)\n",
      "vad.shape(295,)\n",
      "features.shape(62, 210)\n",
      "vad.shape(210,)\n",
      "features.shape(62, 274)\n",
      "vad.shape(274,)\n",
      "features.shape(62, 317)\n",
      "vad.shape(317,)\n",
      "features.shape(62, 334)\n",
      "vad.shape(334,)\n",
      "features.shape(62, 206)\n",
      "vad.shape(206,)\n"
     ]
    },
    {
     "name": "stderr",
     "output_type": "stream",
     "text": [
      " 89%|████████▉ | 1092/1221 [00:15<00:03, 34.24it/s]"
     ]
    },
    {
     "name": "stdout",
     "output_type": "stream",
     "text": [
      "features.shape(62, 214)\n",
      "vad.shape(214,)\n",
      "features.shape(62, 206)\n",
      "vad.shape(206,)\n",
      "features.shape(62, 214)\n",
      "vad.shape(214,)\n",
      "features.shape(62, 274)\n",
      "vad.shape(274,)\n"
     ]
    },
    {
     "name": "stderr",
     "output_type": "stream",
     "text": [
      " 90%|████████▉ | 1096/1221 [00:16<00:04, 25.80it/s]"
     ]
    },
    {
     "name": "stdout",
     "output_type": "stream",
     "text": [
      "features.shape(62, 282)\n",
      "vad.shape(282,)\n",
      "features.shape(62, 167)\n",
      "vad.shape(167,)\n",
      "features.shape(62, 227)\n",
      "vad.shape(227,)\n"
     ]
    },
    {
     "name": "stderr",
     "output_type": "stream",
     "text": [
      " 91%|█████████ | 1106/1221 [00:16<00:04, 28.07it/s]"
     ]
    },
    {
     "name": "stdout",
     "output_type": "stream",
     "text": [
      "features.shape(62, 176)\n",
      "vad.shape(176,)\n",
      "features.shape(62, 359)\n",
      "vad.shape(359,)\n",
      "features.shape(62, 214)\n",
      "vad.shape(214,)\n",
      "features.shape(62, 201)\n",
      "vad.shape(201,)\n",
      "features.shape(62, 261)\n",
      "vad.shape(261,)\n",
      "features.shape(62, 269)\n",
      "vad.shape(269,)\n",
      "features.shape(62, 248)\n",
      "vad.shape(248,)\n",
      "features.shape(62, 197)\n",
      "vad.shape(197,)\n",
      "features.shape(62, 201)\n",
      "vad.shape(201,)\n",
      "features.shape(62, 342)\n",
      "vad.shape(342,)\n",
      "features.shape(62, 295)\n",
      "vad.shape(295,)\n",
      "features.shape(62, 197)\n",
      "vad.shape(197,)\n",
      "features.shape(62, 287)\n",
      "vad.shape(287,)\n"
     ]
    },
    {
     "name": "stderr",
     "output_type": "stream",
     "text": [
      " 92%|█████████▏| 1120/1221 [00:16<00:02, 43.01it/s]"
     ]
    },
    {
     "name": "stdout",
     "output_type": "stream",
     "text": [
      "features.shape(62, 351)\n",
      "vad.shape(351,)\n",
      "features.shape(62, 346)\n",
      "vad.shape(346,)\n",
      "features.shape(62, 227)\n",
      "vad.shape(227,)\n",
      "features.shape(62, 265)\n",
      "vad.shape(265,)\n",
      "features.shape(62, 240)\n",
      "vad.shape(240,)\n",
      "features.shape(62, 252)\n",
      "vad.shape(252,)\n",
      "features.shape(62, 406)\n",
      "vad.shape(406,)\n",
      "features.shape(62, 278)\n",
      "vad.shape(278,)\n",
      "features.shape(62, 210)\n",
      "vad.shape(210,)\n",
      "features.shape(62, 312)\n",
      "vad.shape(312,)\n",
      "features.shape(62, 261)\n",
      "vad.shape(261,)\n",
      "features.shape(62, 184)\n",
      "vad.shape(184,)\n",
      "features.shape(62, 286)\n",
      "vad.shape(286,)\n",
      "features.shape(62, 219)\n",
      "vad.shape(219,)\n"
     ]
    },
    {
     "name": "stderr",
     "output_type": "stream",
     "text": [
      " 93%|█████████▎| 1135/1221 [00:17<00:01, 54.89it/s]"
     ]
    },
    {
     "name": "stdout",
     "output_type": "stream",
     "text": [
      "features.shape(62, 227)\n",
      "vad.shape(227,)\n",
      "features.shape(62, 265)\n",
      "vad.shape(265,)\n",
      "features.shape(62, 603)\n",
      "vad.shape(603,)\n",
      "features.shape(62, 304)\n",
      "vad.shape(304,)\n",
      "features.shape(62, 197)\n",
      "vad.shape(197,)\n",
      "features.shape(62, 291)\n",
      "vad.shape(291,)\n",
      "features.shape(62, 231)\n",
      "vad.shape(231,)\n",
      "features.shape(62, 270)\n",
      "vad.shape(270,)\n",
      "features.shape(62, 269)\n",
      "vad.shape(269,)\n",
      "features.shape(62, 231)\n",
      "vad.shape(231,)\n",
      "features.shape(62, 257)\n",
      "vad.shape(257,)\n",
      "features.shape(62, 522)\n",
      "vad.shape(522,)\n",
      "features.shape(62, 231)\n",
      "vad.shape(231,)\n",
      "features.shape(62, 214)\n",
      "vad.shape(214,)\n",
      "features.shape(62, 244)\n",
      "vad.shape(244,)\n"
     ]
    },
    {
     "name": "stderr",
     "output_type": "stream",
     "text": [
      " 94%|█████████▍| 1150/1221 [00:17<00:01, 59.92it/s]"
     ]
    },
    {
     "name": "stdout",
     "output_type": "stream",
     "text": [
      "features.shape(62, 193)\n",
      "vad.shape(193,)\n",
      "features.shape(62, 222)\n",
      "vad.shape(222,)\n",
      "features.shape(62, 214)\n",
      "vad.shape(214,)\n",
      "features.shape(62, 193)\n",
      "vad.shape(193,)\n",
      "features.shape(62, 219)\n",
      "vad.shape(219,)\n",
      "features.shape(62, 654)\n",
      "vad.shape(654,)\n",
      "features.shape(62, 278)\n",
      "vad.shape(278,)\n",
      "features.shape(62, 380)\n",
      "vad.shape(380,)\n",
      "features.shape(62, 227)\n",
      "vad.shape(227,)\n",
      "features.shape(62, 240)\n",
      "vad.shape(240,)\n",
      "features.shape(62, 159)\n",
      "vad.shape(159,)\n",
      "features.shape(62, 274)\n",
      "vad.shape(274,)\n",
      "features.shape(62, 176)\n",
      "vad.shape(176,)\n",
      "features.shape(62, 205)\n",
      "vad.shape(205,)\n",
      "features.shape(62, 171)\n"
     ]
    },
    {
     "name": "stderr",
     "output_type": "stream",
     "text": [
      " 96%|█████████▌| 1168/1221 [00:17<00:00, 69.19it/s]"
     ]
    },
    {
     "name": "stdout",
     "output_type": "stream",
     "text": [
      "vad.shape(171,)\n",
      "features.shape(62, 240)\n",
      "vad.shape(240,)\n",
      "features.shape(62, 227)\n",
      "vad.shape(227,)\n",
      "features.shape(62, 201)\n",
      "vad.shape(201,)\n",
      "features.shape(62, 210)\n",
      "vad.shape(210,)\n",
      "features.shape(62, 291)\n",
      "vad.shape(291,)\n",
      "features.shape(62, 347)\n",
      "vad.shape(347,)\n",
      "features.shape(62, 521)\n",
      "vad.shape(521,)\n",
      "features.shape(62, 381)\n",
      "vad.shape(381,)\n",
      "features.shape(62, 265)\n",
      "vad.shape(265,)\n",
      "features.shape(62, 316)\n",
      "vad.shape(316,)\n",
      "features.shape(62, 304)\n",
      "vad.shape(304,)\n",
      "features.shape(62, 312)\n",
      "vad.shape(312,)\n",
      "features.shape(62, 176)\n",
      "vad.shape(176,)\n",
      "features.shape(62, 350)\n",
      "vad.shape(350,)\n",
      "features.shape(62, 547)\n",
      "vad.shape(547,)\n",
      "features.shape(62, 287)\n",
      "vad.shape(287,)\n",
      "features.shape(62, 731)\n",
      "vad.shape(731,)\n",
      "features.shape(62, 385)\n",
      "vad.shape(385,)\n"
     ]
    },
    {
     "name": "stderr",
     "output_type": "stream",
     "text": [
      " 96%|█████████▋| 1177/1221 [00:17<00:00, 70.88it/s]"
     ]
    },
    {
     "name": "stdout",
     "output_type": "stream",
     "text": [
      "features.shape(62, 368)\n",
      "vad.shape(368,)\n",
      "features.shape(62, 300)\n",
      "vad.shape(300,)\n",
      "features.shape(62, 334)\n",
      "vad.shape(334,)\n",
      "features.shape(62, 445)\n",
      "vad.shape(445,)\n",
      "features.shape(62, 278)\n",
      "vad.shape(278,)\n",
      "features.shape(62, 291)\n",
      "vad.shape(291,)\n",
      "features.shape(62, 411)\n",
      "vad.shape(411,)\n"
     ]
    },
    {
     "name": "stderr",
     "output_type": "stream",
     "text": [
      " 97%|█████████▋| 1185/1221 [00:17<00:00, 46.36it/s]"
     ]
    },
    {
     "name": "stdout",
     "output_type": "stream",
     "text": [
      "features.shape(62, 491)\n",
      "vad.shape(491,)\n",
      "features.shape(62, 376)\n",
      "vad.shape(376,)\n",
      "features.shape(62, 355)\n",
      "vad.shape(355,)\n",
      "features.shape(62, 317)\n",
      "vad.shape(317,)\n",
      "features.shape(62, 415)\n",
      "vad.shape(415,)\n",
      "features.shape(62, 509)\n",
      "vad.shape(509,)\n",
      "features.shape(62, 402)\n",
      "vad.shape(402,)\n",
      "features.shape(62, 359)\n",
      "vad.shape(359,)\n",
      "features.shape(62, 368)\n",
      "vad.shape(368,)\n",
      "features.shape(62, 278)\n",
      "vad.shape(278,)\n",
      "features.shape(62, 363)\n"
     ]
    },
    {
     "name": "stderr",
     "output_type": "stream",
     "text": [
      " 98%|█████████▊| 1200/1221 [00:18<00:00, 55.04it/s]"
     ]
    },
    {
     "name": "stdout",
     "output_type": "stream",
     "text": [
      "vad.shape(363,)\n",
      "features.shape(62, 321)\n",
      "vad.shape(321,)\n",
      "features.shape(62, 807)\n",
      "vad.shape(807,)\n",
      "features.shape(62, 397)\n",
      "vad.shape(397,)\n",
      "features.shape(62, 321)\n",
      "vad.shape(321,)\n",
      "features.shape(62, 427)\n",
      "vad.shape(427,)\n",
      "features.shape(62, 500)\n",
      "vad.shape(500,)\n",
      "features.shape(62, 351)\n",
      "vad.shape(351,)\n",
      "features.shape(62, 351)\n",
      "vad.shape(351,)\n",
      "features.shape(62, 274)\n",
      "vad.shape(274,)\n",
      "features.shape(62, 248)\n",
      "vad.shape(248,)\n",
      "features.shape(62, 606)\n",
      "vad.shape(606,)\n",
      "features.shape(62, 415)\n",
      "vad.shape(415,)\n",
      "features.shape(62, 402)\n",
      "vad.shape(402,)\n",
      "features.shape(62, 432)\n",
      "vad.shape(432,)\n",
      "features.shape(62, 312)\n",
      "vad.shape(312,)\n",
      "features.shape(62, 372)\n",
      "vad.shape(372,)\n"
     ]
    },
    {
     "name": "stderr",
     "output_type": "stream",
     "text": [
      "100%|██████████| 1221/1221 [00:18<00:00, 66.24it/s]"
     ]
    },
    {
     "name": "stdout",
     "output_type": "stream",
     "text": [
      "features.shape(62, 385)\n",
      "vad.shape(385,)\n",
      "features.shape(62, 321)\n",
      "vad.shape(321,)\n",
      "features.shape(62, 355)\n",
      "vad.shape(355,)\n",
      "features.shape(62, 359)\n",
      "vad.shape(359,)\n",
      "features.shape(62, 257)\n",
      "vad.shape(257,)\n",
      "features.shape(62, 304)\n",
      "vad.shape(304,)\n",
      "features.shape(62, 363)\n",
      "vad.shape(363,)\n",
      "features.shape(62, 525)\n",
      "vad.shape(525,)\n",
      "features.shape(62, 338)\n",
      "vad.shape(338,)\n",
      "features.shape(62, 380)\n",
      "vad.shape(380,)\n",
      "features.shape(62, 406)\n",
      "vad.shape(406,)\n",
      "features.shape(62, 308)\n",
      "vad.shape(308,)\n",
      "features.shape(62, 556)\n",
      "vad.shape(556,)\n"
     ]
    },
    {
     "name": "stderr",
     "output_type": "stream",
     "text": [
      "\n",
      "  1%|          | 10/1229 [00:00<00:15, 78.98it/s]"
     ]
    },
    {
     "name": "stdout",
     "output_type": "stream",
     "text": [
      "features.shape(62, 253)\n",
      "vad.shape(253,)\n",
      "features.shape(62, 278)\n",
      "vad.shape(278,)\n",
      "features.shape(62, 286)\n",
      "vad.shape(286,)\n",
      "features.shape(62, 491)\n",
      "vad.shape(491,)\n",
      "features.shape(62, 453)\n",
      "vad.shape(453,)\n",
      "features.shape(62, 504)\n",
      "vad.shape(504,)\n",
      "features.shape(62, 525)\n",
      "vad.shape(525,)\n",
      "features.shape(62, 487)\n",
      "vad.shape(487,)\n",
      "features.shape(62, 231)\n",
      "vad.shape(231,)\n",
      "features.shape(62, 466)\n",
      "vad.shape(466,)\n",
      "features.shape(62, 478)\n",
      "vad.shape(478,)\n",
      "features.shape(62, 577)\n",
      "vad.shape(577,)\n",
      "features.shape(62, 466)\n",
      "vad.shape(466,)\n",
      "features.shape(62, 227)\n",
      "vad.shape(227,)\n",
      "features.shape(62, 415)\n",
      "vad.shape(415,)\n",
      "features.shape(62, 432)\n",
      "vad.shape(432,)\n"
     ]
    },
    {
     "name": "stderr",
     "output_type": "stream",
     "text": [
      "  2%|▏         | 21/1229 [00:00<00:13, 90.18it/s]"
     ]
    },
    {
     "name": "stdout",
     "output_type": "stream",
     "text": [
      "features.shape(62, 415)\n",
      "vad.shape(415,)\n",
      "features.shape(62, 538)\n",
      "vad.shape(538,)\n",
      "features.shape(62, 470)\n",
      "vad.shape(470,)\n",
      "features.shape(62, 432)\n",
      "vad.shape(432,)\n",
      "features.shape(62, 440)\n",
      "vad.shape(440,)\n",
      "features.shape(62, 496)\n",
      "vad.shape(496,)\n",
      "features.shape(62, 559)\n",
      "vad.shape(559,)\n",
      "features.shape(62, 406)\n",
      "vad.shape(406,)\n",
      "features.shape(62, 266)\n",
      "vad.shape(266,)\n",
      "features.shape(62, 436)\n",
      "vad.shape(436,)\n",
      "features.shape(62, 295)\n",
      "vad.shape(295,)\n"
     ]
    },
    {
     "name": "stderr",
     "output_type": "stream",
     "text": [
      "  3%|▎         | 39/1229 [00:00<00:20, 59.39it/s]"
     ]
    },
    {
     "name": "stdout",
     "output_type": "stream",
     "text": [
      "features.shape(62, 291)\n",
      "vad.shape(291,)\n",
      "features.shape(62, 406)\n",
      "vad.shape(406,)\n",
      "features.shape(62, 283)\n",
      "vad.shape(283,)\n",
      "features.shape(62, 397)\n",
      "vad.shape(397,)\n",
      "features.shape(62, 393)\n",
      "vad.shape(393,)\n",
      "features.shape(62, 440)\n",
      "vad.shape(440,)\n",
      "features.shape(62, 333)\n",
      "vad.shape(333,)\n",
      "features.shape(62, 489)\n",
      "vad.shape(489,)\n",
      "features.shape(62, 235)\n",
      "vad.shape(235,)\n",
      "features.shape(62, 364)\n",
      "vad.shape(364,)\n",
      "features.shape(62, 355)\n",
      "vad.shape(355,)\n",
      "features.shape(62, 466)\n",
      "vad.shape(466,)\n"
     ]
    },
    {
     "name": "stderr",
     "output_type": "stream",
     "text": [
      "  4%|▎         | 46/1229 [00:00<00:21, 56.05it/s]"
     ]
    },
    {
     "name": "stdout",
     "output_type": "stream",
     "text": [
      "features.shape(62, 342)\n",
      "vad.shape(342,)\n",
      "features.shape(62, 304)\n",
      "vad.shape(304,)\n",
      "features.shape(62, 607)\n",
      "vad.shape(607,)\n",
      "features.shape(62, 513)\n",
      "vad.shape(513,)\n",
      "features.shape(62, 410)\n",
      "vad.shape(410,)\n",
      "features.shape(62, 393)\n",
      "vad.shape(393,)\n",
      "features.shape(62, 342)\n",
      "vad.shape(342,)\n",
      "features.shape(62, 406)\n",
      "vad.shape(406,)\n",
      "features.shape(62, 393)\n",
      "vad.shape(393,)\n",
      "features.shape(62, 372)\n",
      "vad.shape(372,)\n",
      "features.shape(62, 372)\n",
      "vad.shape(372,)\n",
      "features.shape(62, 547)\n",
      "vad.shape(547,)\n",
      "features.shape(62, 410)\n",
      "vad.shape(410,)\n",
      "features.shape(62, 286)\n",
      "vad.shape(286,)\n",
      "features.shape(62, 346)\n",
      "vad.shape(346,)\n",
      "features.shape(62, 444)\n",
      "vad.shape(444,)\n"
     ]
    },
    {
     "name": "stderr",
     "output_type": "stream",
     "text": [
      "  5%|▌         | 64/1229 [00:00<00:17, 66.94it/s]"
     ]
    },
    {
     "name": "stdout",
     "output_type": "stream",
     "text": [
      "features.shape(62, 534)\n",
      "vad.shape(534,)\n",
      "features.shape(62, 389)\n",
      "vad.shape(389,)\n",
      "features.shape(62, 244)\n",
      "vad.shape(244,)\n",
      "features.shape(62, 188)\n",
      "vad.shape(188,)\n",
      "features.shape(62, 355)\n",
      "vad.shape(355,)\n",
      "features.shape(62, 513)\n",
      "vad.shape(513,)\n",
      "features.shape(62, 492)\n",
      "vad.shape(492,)\n",
      "features.shape(62, 389)\n",
      "vad.shape(389,)\n",
      "features.shape(62, 551)\n",
      "vad.shape(551,)\n",
      "features.shape(62, 470)\n",
      "vad.shape(470,)\n",
      "features.shape(62, 359)\n",
      "vad.shape(359,)\n",
      "features.shape(62, 342)\n",
      "vad.shape(342,)\n",
      "features.shape(62, 474)\n",
      "vad.shape(474,)\n",
      "features.shape(62, 269)\n",
      "vad.shape(269,)\n",
      "features.shape(62, 432)\n",
      "vad.shape(432,)\n",
      "features.shape(62, 491)\n",
      "vad.shape(491,)\n",
      "features.shape(62, 457)\n",
      "vad.shape(457,)\n",
      "features.shape(62, 372)\n",
      "vad.shape(372,)\n"
     ]
    },
    {
     "name": "stderr",
     "output_type": "stream",
     "text": [
      "  7%|▋         | 84/1229 [00:01<00:14, 79.55it/s]"
     ]
    },
    {
     "name": "stdout",
     "output_type": "stream",
     "text": [
      "features.shape(62, 398)\n",
      "vad.shape(398,)\n",
      "features.shape(62, 479)\n",
      "vad.shape(479,)\n",
      "features.shape(62, 398)\n",
      "vad.shape(398,)\n",
      "features.shape(62, 381)\n",
      "vad.shape(381,)\n",
      "features.shape(62, 402)\n",
      "vad.shape(402,)\n",
      "features.shape(62, 325)\n",
      "vad.shape(325,)\n",
      "features.shape(62, 235)\n",
      "vad.shape(235,)\n",
      "features.shape(62, 304)\n",
      "vad.shape(304,)\n",
      "features.shape(62, 500)\n",
      "vad.shape(500,)\n",
      "features.shape(62, 304)\n",
      "vad.shape(304,)\n",
      "features.shape(62, 363)\n",
      "vad.shape(363,)\n",
      "features.shape(62, 444)\n",
      "vad.shape(444,)\n",
      "features.shape(62, 466)\n",
      "vad.shape(466,)\n",
      "features.shape(62, 543)\n",
      "vad.shape(543,)\n",
      "features.shape(62, 363)\n",
      "vad.shape(363,)\n",
      "features.shape(62, 462)\n",
      "vad.shape(462,)\n",
      "features.shape(62, 419)\n",
      "vad.shape(419,)\n",
      "features.shape(62, 205)\n",
      "vad.shape(205,)\n",
      "features.shape(62, 462)\n",
      "vad.shape(462,)\n",
      "features.shape(62, 287)\n",
      "vad.shape(287,)\n"
     ]
    },
    {
     "name": "stderr",
     "output_type": "stream",
     "text": [
      "  8%|▊         | 104/1229 [00:01<00:12, 86.65it/s]"
     ]
    },
    {
     "name": "stdout",
     "output_type": "stream",
     "text": [
      "features.shape(62, 436)\n",
      "vad.shape(436,)\n",
      "features.shape(62, 470)\n",
      "vad.shape(470,)\n",
      "features.shape(62, 457)\n",
      "vad.shape(457,)\n",
      "features.shape(62, 402)\n",
      "vad.shape(402,)\n",
      "features.shape(62, 628)\n",
      "vad.shape(628,)\n",
      "features.shape(62, 547)\n",
      "vad.shape(547,)\n",
      "features.shape(62, 389)\n",
      "vad.shape(389,)\n",
      "features.shape(62, 517)\n",
      "vad.shape(517,)\n",
      "features.shape(62, 257)\n",
      "vad.shape(257,)\n",
      "features.shape(62, 410)\n",
      "vad.shape(410,)\n",
      "features.shape(62, 453)\n",
      "vad.shape(453,)\n",
      "features.shape(62, 466)\n",
      "vad.shape(466,)\n",
      "features.shape(62, 351)\n",
      "vad.shape(351,)\n",
      "features.shape(62, 577)\n",
      "vad.shape(577,)\n",
      "features.shape(62, 351)\n",
      "vad.shape(351,)\n",
      "features.shape(62, 415)\n",
      "vad.shape(415,)\n",
      "features.shape(62, 500)\n",
      "vad.shape(500,)\n",
      "features.shape(62, 470)\n",
      "vad.shape(470,)\n"
     ]
    },
    {
     "name": "stderr",
     "output_type": "stream",
     "text": [
      " 10%|█         | 124/1229 [00:01<00:12, 87.19it/s]"
     ]
    },
    {
     "name": "stdout",
     "output_type": "stream",
     "text": [
      "features.shape(62, 393)\n",
      "vad.shape(393,)\n",
      "features.shape(62, 291)\n",
      "vad.shape(291,)\n",
      "features.shape(62, 240)\n",
      "vad.shape(240,)\n",
      "features.shape(62, 329)\n",
      "vad.shape(329,)\n",
      "features.shape(62, 564)\n",
      "vad.shape(564,)\n",
      "features.shape(62, 517)\n",
      "vad.shape(517,)\n",
      "features.shape(62, 291)\n",
      "vad.shape(291,)\n",
      "features.shape(62, 295)\n",
      "vad.shape(295,)\n",
      "features.shape(62, 364)\n",
      "vad.shape(364,)\n",
      "features.shape(62, 376)\n",
      "vad.shape(376,)\n",
      "features.shape(62, 479)\n",
      "vad.shape(479,)\n",
      "features.shape(62, 436)\n",
      "vad.shape(436,)\n",
      "features.shape(62, 555)\n",
      "vad.shape(555,)\n",
      "features.shape(62, 244)\n",
      "vad.shape(244,)\n",
      "features.shape(62, 462)\n",
      "vad.shape(462,)\n",
      "features.shape(62, 645)\n",
      "vad.shape(645,)\n",
      "features.shape(62, 402)\n",
      "vad.shape(402,)\n",
      "features.shape(62, 428)\n",
      "vad.shape(428,)\n",
      "features.shape(62, 513)\n",
      "vad.shape(513,)\n"
     ]
    },
    {
     "name": "stderr",
     "output_type": "stream",
     "text": [
      " 12%|█▏        | 143/1229 [00:01<00:12, 90.29it/s]"
     ]
    },
    {
     "name": "stdout",
     "output_type": "stream",
     "text": [
      "features.shape(62, 918)\n",
      "vad.shape(918,)\n",
      "features.shape(62, 329)\n",
      "vad.shape(329,)\n",
      "features.shape(62, 419)\n",
      "vad.shape(419,)\n",
      "features.shape(62, 325)\n",
      "vad.shape(325,)\n",
      "features.shape(62, 406)\n",
      "vad.shape(406,)\n",
      "features.shape(62, 317)\n",
      "vad.shape(317,)\n",
      "features.shape(62, 381)\n",
      "vad.shape(381,)\n",
      "features.shape(62, 551)\n",
      "vad.shape(551,)\n",
      "features.shape(62, 526)\n",
      "vad.shape(526,)\n",
      "features.shape(62, 402)\n",
      "vad.shape(402,)\n",
      "features.shape(62, 406)\n",
      "vad.shape(406,)\n",
      "features.shape(62, 500)\n",
      "vad.shape(500,)\n",
      "features.shape(62, 440)\n",
      "vad.shape(440,)\n",
      "features.shape(62, 492)\n",
      "vad.shape(492,)\n",
      "features.shape(62, 453)\n",
      "vad.shape(453,)\n",
      "features.shape(62, 521)\n",
      "vad.shape(521,)\n",
      "features.shape(62, 197)\n",
      "vad.shape(197,)\n",
      "features.shape(62, 402)\n",
      "vad.shape(402,)\n",
      "features.shape(62, 679)\n",
      "vad.shape(679,)\n"
     ]
    },
    {
     "name": "stderr",
     "output_type": "stream",
     "text": [
      " 12%|█▏        | 153/1229 [00:02<00:15, 69.24it/s]"
     ]
    },
    {
     "name": "stdout",
     "output_type": "stream",
     "text": [
      "features.shape(62, 577)\n",
      "vad.shape(577,)\n",
      "features.shape(62, 406)\n",
      "vad.shape(406,)\n",
      "features.shape(62, 406)\n",
      "vad.shape(406,)\n",
      "features.shape(62, 415)\n",
      "vad.shape(415,)\n",
      "features.shape(62, 363)\n",
      "vad.shape(363,)\n",
      "features.shape(62, 359)\n",
      "vad.shape(359,)\n",
      "features.shape(62, 440)\n",
      "vad.shape(440,)\n",
      "features.shape(62, 470)\n",
      "vad.shape(470,)\n",
      "features.shape(62, 257)\n",
      "vad.shape(257,)\n",
      "features.shape(62, 487)\n",
      "vad.shape(487,)\n",
      "features.shape(62, 483)\n",
      "vad.shape(483,)\n"
     ]
    },
    {
     "name": "stderr",
     "output_type": "stream",
     "text": [
      " 14%|█▍        | 171/1229 [00:02<00:14, 74.57it/s]"
     ]
    },
    {
     "name": "stdout",
     "output_type": "stream",
     "text": [
      "features.shape(62, 526)\n",
      "vad.shape(526,)\n",
      "features.shape(62, 355)\n",
      "vad.shape(355,)\n",
      "features.shape(62, 483)\n",
      "vad.shape(483,)\n",
      "features.shape(62, 351)\n",
      "vad.shape(351,)\n",
      "features.shape(62, 756)\n",
      "vad.shape(756,)\n",
      "features.shape(62, 858)\n",
      "vad.shape(858,)\n",
      "features.shape(62, 372)\n",
      "vad.shape(372,)\n",
      "features.shape(62, 483)\n",
      "vad.shape(483,)\n",
      "features.shape(62, 270)\n",
      "vad.shape(270,)\n",
      "features.shape(62, 466)\n",
      "vad.shape(466,)\n",
      "features.shape(62, 513)\n",
      "vad.shape(513,)\n",
      "features.shape(62, 359)\n",
      "vad.shape(359,)\n",
      "features.shape(62, 462)\n",
      "vad.shape(462,)\n",
      "features.shape(62, 492)\n",
      "vad.shape(492,)\n",
      "features.shape(62, 432)\n",
      "vad.shape(432,)\n"
     ]
    },
    {
     "name": "stderr",
     "output_type": "stream",
     "text": [
      " 15%|█▌        | 187/1229 [00:02<00:14, 71.49it/s]"
     ]
    },
    {
     "name": "stdout",
     "output_type": "stream",
     "text": [
      "features.shape(62, 372)\n",
      "vad.shape(372,)\n",
      "features.shape(62, 436)\n",
      "vad.shape(436,)\n",
      "features.shape(62, 423)\n",
      "vad.shape(423,)\n",
      "features.shape(62, 363)\n",
      "vad.shape(363,)\n",
      "features.shape(62, 205)\n",
      "vad.shape(205,)\n",
      "features.shape(62, 423)\n",
      "vad.shape(423,)\n",
      "features.shape(62, 470)\n",
      "vad.shape(470,)\n",
      "features.shape(62, 351)\n",
      "vad.shape(351,)\n",
      "features.shape(62, 628)\n",
      "vad.shape(628,)\n",
      "features.shape(62, 406)\n",
      "vad.shape(406,)\n",
      "features.shape(62, 295)\n",
      "vad.shape(295,)\n",
      "features.shape(62, 385)\n",
      "vad.shape(385,)\n",
      "features.shape(62, 577)\n",
      "vad.shape(577,)\n",
      "features.shape(62, 376)\n",
      "vad.shape(376,)\n",
      "features.shape(62, 363)\n",
      "vad.shape(363,)\n",
      "features.shape(62, 432)\n",
      "vad.shape(432,)\n",
      "features.shape(62, 457)\n",
      "vad.shape(457,)\n",
      "features.shape(62, 316)\n",
      "vad.shape(316,)\n",
      "features.shape(62, 560)\n"
     ]
    },
    {
     "name": "stderr",
     "output_type": "stream",
     "text": [
      " 17%|█▋        | 211/1229 [00:02<00:11, 87.73it/s]"
     ]
    },
    {
     "name": "stdout",
     "output_type": "stream",
     "text": [
      "vad.shape(560,)\n",
      "features.shape(62, 419)\n",
      "vad.shape(419,)\n",
      "features.shape(62, 517)\n",
      "vad.shape(517,)\n",
      "features.shape(62, 440)\n",
      "vad.shape(440,)\n",
      "features.shape(62, 589)\n",
      "vad.shape(589,)\n",
      "features.shape(62, 359)\n",
      "vad.shape(359,)\n",
      "features.shape(62, 862)\n",
      "vad.shape(862,)\n",
      "features.shape(62, 316)\n",
      "vad.shape(316,)\n",
      "features.shape(62, 351)\n",
      "vad.shape(351,)\n",
      "features.shape(62, 321)\n",
      "vad.shape(321,)\n",
      "features.shape(62, 406)\n",
      "vad.shape(406,)\n",
      "features.shape(62, 440)\n",
      "vad.shape(440,)\n",
      "features.shape(62, 436)\n",
      "vad.shape(436,)\n",
      "features.shape(62, 376)\n",
      "vad.shape(376,)\n",
      "features.shape(62, 329)\n",
      "vad.shape(329,)\n",
      "features.shape(62, 487)\n",
      "vad.shape(487,)\n",
      "features.shape(62, 368)\n",
      "vad.shape(368,)\n",
      "features.shape(62, 316)\n",
      "vad.shape(316,)\n",
      "features.shape(62, 389)\n",
      "vad.shape(389,)\n",
      "features.shape(62, 261)\n",
      "vad.shape(261,)\n",
      "features.shape(62, 415)\n",
      "vad.shape(415,)\n"
     ]
    },
    {
     "name": "stderr",
     "output_type": "stream",
     "text": [
      " 18%|█▊        | 220/1229 [00:02<00:12, 81.18it/s]"
     ]
    },
    {
     "name": "stdout",
     "output_type": "stream",
     "text": [
      "features.shape(62, 317)\n",
      "vad.shape(317,)\n",
      "features.shape(62, 1102)\n",
      "vad.shape(1102,)\n",
      "features.shape(62, 564)\n",
      "vad.shape(564,)\n",
      "features.shape(62, 453)\n",
      "vad.shape(453,)\n",
      "features.shape(62, 393)\n",
      "vad.shape(393,)\n",
      "features.shape(62, 393)\n",
      "vad.shape(393,)\n",
      "features.shape(62, 449)\n",
      "vad.shape(449,)\n",
      "features.shape(62, 436)\n",
      "vad.shape(436,)\n",
      "features.shape(62, 508)\n",
      "vad.shape(508,)\n",
      "features.shape(62, 248)\n",
      "vad.shape(248,)\n",
      "features.shape(62, 171)\n",
      "vad.shape(171,)\n"
     ]
    },
    {
     "name": "stderr",
     "output_type": "stream",
     "text": [
      " 19%|█▉        | 238/1229 [00:03<00:13, 75.29it/s]"
     ]
    },
    {
     "name": "stdout",
     "output_type": "stream",
     "text": [
      "features.shape(62, 466)\n",
      "vad.shape(466,)\n",
      "features.shape(62, 462)\n",
      "vad.shape(462,)\n",
      "features.shape(62, 462)\n",
      "vad.shape(462,)\n",
      "features.shape(62, 291)\n",
      "vad.shape(291,)\n",
      "features.shape(62, 534)\n",
      "vad.shape(534,)\n",
      "features.shape(62, 329)\n",
      "vad.shape(329,)\n",
      "features.shape(62, 300)\n",
      "vad.shape(300,)\n",
      "features.shape(62, 347)\n",
      "vad.shape(347,)\n",
      "features.shape(62, 436)\n",
      "vad.shape(436,)\n",
      "features.shape(62, 453)\n",
      "vad.shape(453,)\n",
      "features.shape(62, 278)\n",
      "vad.shape(278,)\n",
      "features.shape(62, 436)\n",
      "vad.shape(436,)\n",
      "features.shape(62, 466)\n",
      "vad.shape(466,)\n",
      "features.shape(62, 278)\n",
      "vad.shape(278,)\n",
      "features.shape(62, 423)\n",
      "vad.shape(423,)\n"
     ]
    },
    {
     "name": "stderr",
     "output_type": "stream",
     "text": [
      " 21%|██        | 254/1229 [00:03<00:13, 74.07it/s]"
     ]
    },
    {
     "name": "stdout",
     "output_type": "stream",
     "text": [
      "features.shape(62, 483)\n",
      "vad.shape(483,)\n",
      "features.shape(62, 474)\n",
      "vad.shape(474,)\n",
      "features.shape(62, 440)\n",
      "vad.shape(440,)\n",
      "features.shape(62, 457)\n",
      "vad.shape(457,)\n",
      "features.shape(62, 372)\n",
      "vad.shape(372,)\n",
      "features.shape(62, 410)\n",
      "vad.shape(410,)\n",
      "features.shape(62, 568)\n",
      "vad.shape(568,)\n",
      "features.shape(62, 773)\n",
      "vad.shape(773,)\n",
      "features.shape(62, 470)\n",
      "vad.shape(470,)\n",
      "features.shape(62, 491)\n",
      "vad.shape(491,)\n",
      "features.shape(62, 620)\n",
      "vad.shape(620,)\n",
      "features.shape(62, 415)\n",
      "vad.shape(415,)\n",
      "features.shape(62, 347)\n",
      "vad.shape(347,)\n",
      "features.shape(62, 440)\n",
      "vad.shape(440,)\n",
      "features.shape(62, 419)\n",
      "vad.shape(419,)\n",
      "features.shape(62, 329)\n",
      "vad.shape(329,)\n"
     ]
    },
    {
     "name": "stderr",
     "output_type": "stream",
     "text": [
      " 21%|██▏       | 264/1229 [00:03<00:12, 76.26it/s]"
     ]
    },
    {
     "name": "stdout",
     "output_type": "stream",
     "text": [
      "features.shape(62, 636)\n",
      "vad.shape(636,)\n",
      "features.shape(62, 214)\n",
      "vad.shape(214,)\n",
      "features.shape(62, 393)\n",
      "vad.shape(393,)\n",
      "features.shape(62, 368)\n",
      "vad.shape(368,)\n",
      "features.shape(62, 509)\n",
      "vad.shape(509,)\n",
      "features.shape(62, 483)\n",
      "vad.shape(483,)\n",
      "features.shape(62, 543)\n",
      "vad.shape(543,)\n",
      "features.shape(62, 368)\n",
      "vad.shape(368,)\n",
      "features.shape(62, 415)\n",
      "vad.shape(415,)\n",
      "features.shape(62, 786)\n",
      "vad.shape(786,)\n",
      "features.shape(62, 504)\n",
      "vad.shape(504,)\n",
      "features.shape(62, 653)\n",
      "vad.shape(653,)\n",
      "features.shape(62, 286)\n",
      "vad.shape(286,)\n",
      "features.shape(62, 526)\n",
      "vad.shape(526,)\n",
      "features.shape(62, 492)\n",
      "vad.shape(492,)\n",
      "features.shape(62, 342)\n"
     ]
    },
    {
     "name": "stderr",
     "output_type": "stream",
     "text": [
      " 23%|██▎       | 280/1229 [00:03<00:12, 74.10it/s]"
     ]
    },
    {
     "name": "stdout",
     "output_type": "stream",
     "text": [
      "vad.shape(342,)\n",
      "features.shape(62, 282)\n",
      "vad.shape(282,)\n",
      "features.shape(62, 453)\n",
      "vad.shape(453,)\n",
      "features.shape(62, 436)\n",
      "vad.shape(436,)\n",
      "features.shape(62, 389)\n",
      "vad.shape(389,)\n",
      "features.shape(62, 406)\n",
      "vad.shape(406,)\n",
      "features.shape(62, 428)\n",
      "vad.shape(428,)\n",
      "features.shape(62, 351)\n",
      "vad.shape(351,)\n",
      "features.shape(62, 201)\n",
      "vad.shape(201,)\n",
      "features.shape(62, 927)\n",
      "vad.shape(927,)\n",
      "features.shape(62, 487)\n",
      "vad.shape(487,)\n",
      "features.shape(62, 321)\n",
      "vad.shape(321,)\n",
      "features.shape(62, 376)\n",
      "vad.shape(376,)\n"
     ]
    },
    {
     "name": "stderr",
     "output_type": "stream",
     "text": [
      " 24%|██▍       | 295/1229 [00:04<00:15, 60.06it/s]"
     ]
    },
    {
     "name": "stdout",
     "output_type": "stream",
     "text": [
      "features.shape(62, 487)\n",
      "vad.shape(487,)\n",
      "features.shape(62, 397)\n",
      "vad.shape(397,)\n",
      "features.shape(62, 368)\n",
      "vad.shape(368,)\n",
      "features.shape(62, 308)\n",
      "vad.shape(308,)\n",
      "features.shape(62, 406)\n",
      "vad.shape(406,)\n",
      "features.shape(62, 470)\n",
      "vad.shape(470,)\n",
      "features.shape(62, 398)\n",
      "vad.shape(398,)\n",
      "features.shape(62, 526)\n",
      "vad.shape(526,)\n",
      "features.shape(62, 364)\n",
      "vad.shape(364,)\n",
      "features.shape(62, 449)\n",
      "vad.shape(449,)\n",
      "features.shape(62, 381)\n",
      "vad.shape(381,)\n"
     ]
    },
    {
     "name": "stderr",
     "output_type": "stream",
     "text": [
      " 25%|██▍       | 302/1229 [00:04<00:15, 60.51it/s]"
     ]
    },
    {
     "name": "stdout",
     "output_type": "stream",
     "text": [
      "features.shape(62, 376)\n",
      "vad.shape(376,)\n",
      "features.shape(62, 504)\n",
      "vad.shape(504,)\n",
      "features.shape(62, 440)\n",
      "vad.shape(440,)\n",
      "features.shape(62, 398)\n",
      "vad.shape(398,)\n",
      "features.shape(62, 444)\n",
      "vad.shape(444,)\n",
      "features.shape(62, 445)\n",
      "vad.shape(445,)\n",
      "features.shape(62, 291)\n",
      "vad.shape(291,)\n",
      "features.shape(62, 411)\n",
      "vad.shape(411,)\n",
      "features.shape(62, 338)\n",
      "vad.shape(338,)\n",
      "features.shape(62, 427)\n",
      "vad.shape(427,)\n",
      "features.shape(62, 385)\n",
      "vad.shape(385,)\n",
      "features.shape(62, 355)\n",
      "vad.shape(355,)\n",
      "features.shape(62, 414)\n",
      "vad.shape(414,)\n",
      "features.shape(62, 466)\n",
      "vad.shape(466,)\n"
     ]
    },
    {
     "name": "stderr",
     "output_type": "stream",
     "text": [
      " 26%|██▌       | 318/1229 [00:04<00:14, 64.32it/s]"
     ]
    },
    {
     "name": "stdout",
     "output_type": "stream",
     "text": [
      "features.shape(62, 355)\n",
      "vad.shape(355,)\n",
      "features.shape(62, 253)\n",
      "vad.shape(253,)\n",
      "features.shape(62, 385)\n",
      "vad.shape(385,)\n",
      "features.shape(62, 376)\n",
      "vad.shape(376,)\n",
      "features.shape(62, 679)\n",
      "vad.shape(679,)\n",
      "features.shape(62, 662)\n",
      "vad.shape(662,)\n",
      "features.shape(62, 334)\n",
      "vad.shape(334,)\n",
      "features.shape(62, 346)\n",
      "vad.shape(346,)\n",
      "features.shape(62, 479)\n",
      "vad.shape(479,)\n",
      "features.shape(62, 385)\n",
      "vad.shape(385,)\n",
      "features.shape(62, 683)\n",
      "vad.shape(683,)\n",
      "features.shape(62, 381)\n",
      "vad.shape(381,)\n",
      "features.shape(62, 1271)\n",
      "vad.shape(1271,)\n"
     ]
    },
    {
     "name": "stderr",
     "output_type": "stream",
     "text": [
      " 27%|██▋       | 332/1229 [00:04<00:14, 61.56it/s]"
     ]
    },
    {
     "name": "stdout",
     "output_type": "stream",
     "text": [
      "features.shape(62, 466)\n",
      "vad.shape(466,)\n",
      "features.shape(62, 193)\n",
      "vad.shape(193,)\n",
      "features.shape(62, 555)\n",
      "vad.shape(555,)\n",
      "features.shape(62, 334)\n",
      "vad.shape(334,)\n",
      "features.shape(62, 406)\n",
      "vad.shape(406,)\n",
      "features.shape(62, 542)\n",
      "vad.shape(542,)\n",
      "features.shape(62, 513)\n",
      "vad.shape(513,)\n",
      "features.shape(62, 377)\n",
      "vad.shape(377,)\n",
      "features.shape(62, 406)\n",
      "vad.shape(406,)\n",
      "features.shape(62, 342)\n",
      "vad.shape(342,)\n",
      "features.shape(62, 402)\n",
      "vad.shape(402,)\n"
     ]
    },
    {
     "name": "stderr",
     "output_type": "stream",
     "text": [
      " 28%|██▊       | 339/1229 [00:04<00:18, 47.93it/s]"
     ]
    },
    {
     "name": "stdout",
     "output_type": "stream",
     "text": [
      "features.shape(62, 317)\n",
      "vad.shape(317,)\n",
      "features.shape(62, 227)\n",
      "vad.shape(227,)\n",
      "features.shape(62, 222)\n",
      "vad.shape(222,)\n",
      "features.shape(62, 295)\n",
      "vad.shape(295,)\n",
      "features.shape(62, 295)\n",
      "vad.shape(295,)\n",
      "features.shape(62, 385)\n",
      "vad.shape(385,)\n",
      "features.shape(62, 862)\n",
      "vad.shape(862,)\n",
      "features.shape(62, 308)\n",
      "vad.shape(308,)\n"
     ]
    },
    {
     "name": "stderr",
     "output_type": "stream",
     "text": [
      " 29%|██▊       | 352/1229 [00:05<00:17, 51.37it/s]"
     ]
    },
    {
     "name": "stdout",
     "output_type": "stream",
     "text": [
      "features.shape(62, 351)\n",
      "vad.shape(351,)\n",
      "features.shape(62, 261)\n",
      "vad.shape(261,)\n",
      "features.shape(62, 312)\n",
      "vad.shape(312,)\n",
      "features.shape(62, 389)\n",
      "vad.shape(389,)\n",
      "features.shape(62, 359)\n",
      "vad.shape(359,)\n",
      "features.shape(62, 722)\n",
      "vad.shape(722,)\n",
      "features.shape(62, 415)\n",
      "vad.shape(415,)\n",
      "features.shape(62, 355)\n",
      "vad.shape(355,)\n",
      "features.shape(62, 283)\n",
      "vad.shape(283,)\n",
      "features.shape(62, 218)\n",
      "vad.shape(218,)\n",
      "features.shape(62, 909)\n",
      "vad.shape(909,)\n",
      "features.shape(62, 880)\n",
      "vad.shape(880,)\n",
      "features.shape(62, 274)\n",
      "vad.shape(274,)\n",
      "features.shape(62, 218)\n",
      "vad.shape(218,)\n"
     ]
    },
    {
     "name": "stderr",
     "output_type": "stream",
     "text": [
      " 30%|██▉       | 366/1229 [00:05<00:15, 57.42it/s]"
     ]
    },
    {
     "name": "stdout",
     "output_type": "stream",
     "text": [
      "features.shape(62, 410)\n",
      "vad.shape(410,)\n",
      "features.shape(62, 308)\n",
      "vad.shape(308,)\n",
      "features.shape(62, 253)\n",
      "vad.shape(253,)\n",
      "features.shape(62, 449)\n",
      "vad.shape(449,)\n",
      "features.shape(62, 415)\n",
      "vad.shape(415,)\n",
      "features.shape(62, 577)\n",
      "vad.shape(577,)\n",
      "features.shape(62, 457)\n",
      "vad.shape(457,)\n",
      "features.shape(62, 436)\n",
      "vad.shape(436,)\n",
      "features.shape(62, 466)\n",
      "vad.shape(466,)\n",
      "features.shape(62, 355)\n",
      "vad.shape(355,)\n",
      "features.shape(62, 244)\n",
      "vad.shape(244,)\n",
      "features.shape(62, 385)\n",
      "vad.shape(385,)\n",
      "features.shape(62, 253)\n",
      "vad.shape(253,)\n",
      "features.shape(62, 274)\n",
      "vad.shape(274,)\n",
      "features.shape(62, 470)\n"
     ]
    },
    {
     "name": "stderr",
     "output_type": "stream",
     "text": [
      " 31%|███       | 378/1229 [00:05<00:15, 53.79it/s]"
     ]
    },
    {
     "name": "stdout",
     "output_type": "stream",
     "text": [
      "vad.shape(470,)\n",
      "features.shape(62, 312)\n",
      "vad.shape(312,)\n",
      "features.shape(62, 244)\n",
      "vad.shape(244,)\n",
      "features.shape(62, 504)\n",
      "vad.shape(504,)\n",
      "features.shape(62, 346)\n",
      "vad.shape(346,)\n",
      "features.shape(62, 287)\n",
      "vad.shape(287,)\n",
      "features.shape(62, 385)\n",
      "vad.shape(385,)\n",
      "features.shape(62, 278)\n",
      "vad.shape(278,)\n",
      "features.shape(62, 299)\n",
      "vad.shape(299,)\n",
      "features.shape(62, 462)\n",
      "vad.shape(462,)\n",
      "features.shape(62, 248)\n"
     ]
    },
    {
     "name": "stderr",
     "output_type": "stream",
     "text": [
      " 31%|███       | 384/1229 [00:05<00:17, 47.79it/s]"
     ]
    },
    {
     "name": "stdout",
     "output_type": "stream",
     "text": [
      "vad.shape(248,)\n",
      "features.shape(62, 261)\n",
      "vad.shape(261,)\n",
      "features.shape(62, 496)\n",
      "vad.shape(496,)\n",
      "features.shape(62, 389)\n",
      "vad.shape(389,)\n",
      "features.shape(62, 333)\n",
      "vad.shape(333,)\n",
      "features.shape(62, 278)\n",
      "vad.shape(278,)\n",
      "features.shape(62, 265)\n",
      "vad.shape(265,)\n"
     ]
    },
    {
     "name": "stderr",
     "output_type": "stream",
     "text": [
      " 32%|███▏      | 397/1229 [00:05<00:15, 53.61it/s]"
     ]
    },
    {
     "name": "stdout",
     "output_type": "stream",
     "text": [
      "features.shape(62, 312)\n",
      "vad.shape(312,)\n",
      "features.shape(62, 266)\n",
      "vad.shape(266,)\n",
      "features.shape(62, 295)\n",
      "vad.shape(295,)\n",
      "features.shape(62, 428)\n",
      "vad.shape(428,)\n",
      "features.shape(62, 274)\n",
      "vad.shape(274,)\n",
      "features.shape(62, 376)\n",
      "vad.shape(376,)\n",
      "features.shape(62, 333)\n",
      "vad.shape(333,)\n",
      "features.shape(62, 372)\n",
      "vad.shape(372,)\n",
      "features.shape(62, 359)\n",
      "vad.shape(359,)\n",
      "features.shape(62, 445)\n",
      "vad.shape(445,)\n",
      "features.shape(62, 423)\n",
      "vad.shape(423,)\n",
      "features.shape(62, 312)\n",
      "vad.shape(312,)\n",
      "features.shape(62, 453)\n",
      "vad.shape(453,)\n",
      "features.shape(62, 414)\n",
      "vad.shape(414,)\n"
     ]
    },
    {
     "name": "stderr",
     "output_type": "stream",
     "text": [
      " 34%|███▎      | 412/1229 [00:06<00:13, 59.99it/s]"
     ]
    },
    {
     "name": "stdout",
     "output_type": "stream",
     "text": [
      "features.shape(62, 880)\n",
      "vad.shape(880,)\n",
      "features.shape(62, 389)\n",
      "vad.shape(389,)\n",
      "features.shape(62, 317)\n",
      "vad.shape(317,)\n",
      "features.shape(62, 317)\n",
      "vad.shape(317,)\n",
      "features.shape(62, 210)\n",
      "vad.shape(210,)\n",
      "features.shape(62, 231)\n",
      "vad.shape(231,)\n",
      "features.shape(62, 355)\n",
      "vad.shape(355,)\n",
      "features.shape(62, 411)\n",
      "vad.shape(411,)\n",
      "features.shape(62, 291)\n",
      "vad.shape(291,)\n",
      "features.shape(62, 312)\n",
      "vad.shape(312,)\n",
      "features.shape(62, 316)\n",
      "vad.shape(316,)\n",
      "features.shape(62, 278)\n",
      "vad.shape(278,)\n",
      "features.shape(62, 205)\n"
     ]
    },
    {
     "name": "stderr",
     "output_type": "stream",
     "text": [
      " 34%|███▍      | 419/1229 [00:06<00:13, 61.06it/s]"
     ]
    },
    {
     "name": "stdout",
     "output_type": "stream",
     "text": [
      "vad.shape(205,)\n",
      "features.shape(62, 368)\n",
      "vad.shape(368,)\n",
      "features.shape(62, 402)\n",
      "vad.shape(402,)\n",
      "features.shape(62, 317)\n",
      "vad.shape(317,)\n",
      "features.shape(62, 398)\n",
      "vad.shape(398,)\n",
      "features.shape(62, 312)\n",
      "vad.shape(312,)\n",
      "features.shape(62, 338)\n",
      "vad.shape(338,)\n",
      "features.shape(62, 291)\n",
      "vad.shape(291,)\n",
      "features.shape(62, 585)\n",
      "vad.shape(585,)\n",
      "features.shape(62, 308)\n",
      "vad.shape(308,)\n",
      "features.shape(62, 385)\n"
     ]
    },
    {
     "name": "stderr",
     "output_type": "stream",
     "text": [
      " 35%|███▌      | 432/1229 [00:06<00:15, 51.83it/s]"
     ]
    },
    {
     "name": "stdout",
     "output_type": "stream",
     "text": [
      "vad.shape(385,)\n",
      "features.shape(62, 291)\n",
      "vad.shape(291,)\n",
      "features.shape(62, 372)\n",
      "vad.shape(372,)\n",
      "features.shape(62, 334)\n",
      "vad.shape(334,)\n",
      "features.shape(62, 316)\n",
      "vad.shape(316,)\n",
      "features.shape(62, 206)\n",
      "vad.shape(206,)\n",
      "features.shape(62, 274)\n",
      "vad.shape(274,)\n",
      "features.shape(62, 270)\n",
      "vad.shape(270,)\n",
      "features.shape(62, 423)\n",
      "vad.shape(423,)\n",
      "features.shape(62, 359)\n",
      "vad.shape(359,)\n",
      "features.shape(62, 300)\n",
      "vad.shape(300,)\n",
      "features.shape(62, 534)\n",
      "vad.shape(534,)\n"
     ]
    },
    {
     "name": "stderr",
     "output_type": "stream",
     "text": [
      " 36%|███▋      | 446/1229 [00:06<00:13, 57.61it/s]"
     ]
    },
    {
     "name": "stdout",
     "output_type": "stream",
     "text": [
      "features.shape(62, 205)\n",
      "vad.shape(205,)\n",
      "features.shape(62, 330)\n",
      "vad.shape(330,)\n",
      "features.shape(62, 333)\n",
      "vad.shape(333,)\n",
      "features.shape(62, 291)\n",
      "vad.shape(291,)\n",
      "features.shape(62, 269)\n",
      "vad.shape(269,)\n",
      "features.shape(62, 295)\n",
      "vad.shape(295,)\n",
      "features.shape(62, 551)\n",
      "vad.shape(551,)\n",
      "features.shape(62, 368)\n",
      "vad.shape(368,)\n",
      "features.shape(62, 517)\n",
      "vad.shape(517,)\n",
      "features.shape(62, 312)\n",
      "vad.shape(312,)\n",
      "features.shape(62, 474)\n",
      "vad.shape(474,)\n",
      "features.shape(62, 257)\n",
      "vad.shape(257,)\n",
      "features.shape(62, 304)\n",
      "vad.shape(304,)\n",
      "features.shape(62, 346)\n",
      "vad.shape(346,)\n"
     ]
    },
    {
     "name": "stderr",
     "output_type": "stream",
     "text": [
      " 37%|███▋      | 454/1229 [00:06<00:12, 60.51it/s]"
     ]
    },
    {
     "name": "stdout",
     "output_type": "stream",
     "text": [
      "features.shape(62, 308)\n",
      "vad.shape(308,)\n",
      "features.shape(62, 351)\n",
      "vad.shape(351,)\n",
      "features.shape(62, 397)\n",
      "vad.shape(397,)\n",
      "features.shape(62, 325)\n",
      "vad.shape(325,)\n",
      "features.shape(62, 474)\n",
      "vad.shape(474,)\n",
      "features.shape(62, 351)\n",
      "vad.shape(351,)\n",
      "features.shape(62, 359)\n",
      "vad.shape(359,)\n",
      "features.shape(62, 219)\n",
      "vad.shape(219,)\n",
      "features.shape(62, 248)\n",
      "vad.shape(248,)\n",
      "features.shape(62, 291)\n",
      "vad.shape(291,)\n",
      "features.shape(62, 487)\n",
      "vad.shape(487,)\n",
      "features.shape(62, 346)\n",
      "vad.shape(346,)\n",
      "features.shape(62, 274)\n",
      "vad.shape(274,)\n"
     ]
    },
    {
     "name": "stderr",
     "output_type": "stream",
     "text": [
      " 38%|███▊      | 469/1229 [00:07<00:12, 62.42it/s]"
     ]
    },
    {
     "name": "stdout",
     "output_type": "stream",
     "text": [
      "features.shape(62, 236)\n",
      "vad.shape(236,)\n",
      "features.shape(62, 329)\n",
      "vad.shape(329,)\n",
      "features.shape(62, 367)\n",
      "vad.shape(367,)\n",
      "features.shape(62, 436)\n",
      "vad.shape(436,)\n",
      "features.shape(62, 304)\n",
      "vad.shape(304,)\n",
      "features.shape(62, 432)\n",
      "vad.shape(432,)\n",
      "features.shape(62, 338)\n",
      "vad.shape(338,)\n",
      "features.shape(62, 205)\n",
      "vad.shape(205,)\n",
      "features.shape(62, 261)\n",
      "vad.shape(261,)\n",
      "features.shape(62, 291)\n",
      "vad.shape(291,)\n",
      "features.shape(62, 428)\n",
      "vad.shape(428,)\n",
      "features.shape(62, 350)\n",
      "vad.shape(350,)\n",
      "features.shape(62, 342)\n",
      "vad.shape(342,)\n",
      "features.shape(62, 662)\n",
      "vad.shape(662,)\n"
     ]
    },
    {
     "name": "stderr",
     "output_type": "stream",
     "text": [
      " 40%|███▉      | 487/1229 [00:07<00:10, 72.95it/s]"
     ]
    },
    {
     "name": "stdout",
     "output_type": "stream",
     "text": [
      "features.shape(62, 295)\n",
      "vad.shape(295,)\n",
      "features.shape(62, 265)\n",
      "vad.shape(265,)\n",
      "features.shape(62, 393)\n",
      "vad.shape(393,)\n",
      "features.shape(62, 432)\n",
      "vad.shape(432,)\n",
      "features.shape(62, 300)\n",
      "vad.shape(300,)\n",
      "features.shape(62, 355)\n",
      "vad.shape(355,)\n",
      "features.shape(62, 333)\n",
      "vad.shape(333,)\n",
      "features.shape(62, 423)\n",
      "vad.shape(423,)\n",
      "features.shape(62, 372)\n",
      "vad.shape(372,)\n",
      "features.shape(62, 274)\n",
      "vad.shape(274,)\n",
      "features.shape(62, 547)\n",
      "vad.shape(547,)\n",
      "features.shape(62, 453)\n",
      "vad.shape(453,)\n",
      "features.shape(62, 475)\n",
      "vad.shape(475,)\n",
      "features.shape(62, 317)\n",
      "vad.shape(317,)\n",
      "features.shape(62, 346)\n",
      "vad.shape(346,)\n",
      "features.shape(62, 278)\n",
      "vad.shape(278,)\n",
      "features.shape(62, 325)\n",
      "vad.shape(325,)\n"
     ]
    },
    {
     "name": "stderr",
     "output_type": "stream",
     "text": [
      " 40%|████      | 495/1229 [00:07<00:09, 74.75it/s]"
     ]
    },
    {
     "name": "stdout",
     "output_type": "stream",
     "text": [
      "features.shape(62, 300)\n",
      "vad.shape(300,)\n",
      "features.shape(62, 376)\n",
      "vad.shape(376,)\n",
      "features.shape(62, 295)\n",
      "vad.shape(295,)\n",
      "features.shape(62, 372)\n",
      "vad.shape(372,)\n",
      "features.shape(62, 590)\n",
      "vad.shape(590,)\n",
      "features.shape(62, 342)\n",
      "vad.shape(342,)\n",
      "features.shape(62, 436)\n",
      "vad.shape(436,)\n",
      "features.shape(62, 709)\n",
      "vad.shape(709,)\n",
      "features.shape(62, 351)\n",
      "vad.shape(351,)\n"
     ]
    },
    {
     "name": "stderr",
     "output_type": "stream",
     "text": [
      " 41%|████▏     | 510/1229 [00:07<00:12, 57.35it/s]"
     ]
    },
    {
     "name": "stdout",
     "output_type": "stream",
     "text": [
      "features.shape(62, 286)\n",
      "vad.shape(286,)\n",
      "features.shape(62, 393)\n",
      "vad.shape(393,)\n",
      "features.shape(62, 274)\n",
      "vad.shape(274,)\n",
      "features.shape(62, 325)\n",
      "vad.shape(325,)\n",
      "features.shape(62, 381)\n",
      "vad.shape(381,)\n",
      "features.shape(62, 355)\n",
      "vad.shape(355,)\n",
      "features.shape(62, 235)\n",
      "vad.shape(235,)\n",
      "features.shape(62, 414)\n",
      "vad.shape(414,)\n",
      "features.shape(62, 295)\n",
      "vad.shape(295,)\n",
      "features.shape(62, 330)\n",
      "vad.shape(330,)\n",
      "features.shape(62, 295)\n",
      "vad.shape(295,)\n",
      "features.shape(62, 197)\n",
      "vad.shape(197,)\n",
      "features.shape(62, 346)\n",
      "vad.shape(346,)\n"
     ]
    },
    {
     "name": "stderr",
     "output_type": "stream",
     "text": [
      " 43%|████▎     | 529/1229 [00:07<00:09, 70.44it/s]"
     ]
    },
    {
     "name": "stdout",
     "output_type": "stream",
     "text": [
      "features.shape(62, 321)\n",
      "vad.shape(321,)\n",
      "features.shape(62, 402)\n",
      "vad.shape(402,)\n",
      "features.shape(62, 333)\n",
      "vad.shape(333,)\n",
      "features.shape(62, 265)\n",
      "vad.shape(265,)\n",
      "features.shape(62, 325)\n",
      "vad.shape(325,)\n",
      "features.shape(62, 304)\n",
      "vad.shape(304,)\n",
      "features.shape(62, 334)\n",
      "vad.shape(334,)\n",
      "features.shape(62, 423)\n",
      "vad.shape(423,)\n",
      "features.shape(62, 359)\n",
      "vad.shape(359,)\n",
      "features.shape(62, 235)\n",
      "vad.shape(235,)\n",
      "features.shape(62, 355)\n",
      "vad.shape(355,)\n",
      "features.shape(62, 376)\n",
      "vad.shape(376,)\n",
      "features.shape(62, 278)\n",
      "vad.shape(278,)\n",
      "features.shape(62, 317)\n",
      "vad.shape(317,)\n",
      "features.shape(62, 282)\n",
      "vad.shape(282,)\n",
      "features.shape(62, 457)\n",
      "vad.shape(457,)\n",
      "features.shape(62, 325)\n",
      "vad.shape(325,)\n",
      "features.shape(62, 329)\n",
      "vad.shape(329,)\n",
      "features.shape(62, 317)\n",
      "vad.shape(317,)\n"
     ]
    },
    {
     "name": "stderr",
     "output_type": "stream",
     "text": [
      " 44%|████▍     | 545/1229 [00:08<00:09, 71.36it/s]"
     ]
    },
    {
     "name": "stdout",
     "output_type": "stream",
     "text": [
      "features.shape(62, 483)\n",
      "vad.shape(483,)\n",
      "features.shape(62, 210)\n",
      "vad.shape(210,)\n",
      "features.shape(62, 415)\n",
      "vad.shape(415,)\n",
      "features.shape(62, 803)\n",
      "vad.shape(803,)\n",
      "features.shape(62, 381)\n",
      "vad.shape(381,)\n",
      "features.shape(62, 261)\n",
      "vad.shape(261,)\n",
      "features.shape(62, 282)\n",
      "vad.shape(282,)\n",
      "features.shape(62, 312)\n",
      "vad.shape(312,)\n",
      "features.shape(62, 227)\n",
      "vad.shape(227,)\n",
      "features.shape(62, 317)\n",
      "vad.shape(317,)\n",
      "features.shape(62, 346)\n",
      "vad.shape(346,)\n",
      "features.shape(62, 376)\n",
      "vad.shape(376,)\n",
      "features.shape(62, 176)\n",
      "vad.shape(176,)\n",
      "features.shape(62, 414)\n",
      "vad.shape(414,)\n",
      "features.shape(62, 325)\n",
      "vad.shape(325,)\n"
     ]
    },
    {
     "name": "stderr",
     "output_type": "stream",
     "text": [
      " 46%|████▌     | 561/1229 [00:08<00:10, 65.89it/s]"
     ]
    },
    {
     "name": "stdout",
     "output_type": "stream",
     "text": [
      "features.shape(62, 325)\n",
      "vad.shape(325,)\n",
      "features.shape(62, 359)\n",
      "vad.shape(359,)\n",
      "features.shape(62, 427)\n",
      "vad.shape(427,)\n",
      "features.shape(62, 790)\n",
      "vad.shape(790,)\n",
      "features.shape(62, 325)\n",
      "vad.shape(325,)\n",
      "features.shape(62, 457)\n",
      "vad.shape(457,)\n",
      "features.shape(62, 287)\n",
      "vad.shape(287,)\n",
      "features.shape(62, 824)\n",
      "vad.shape(824,)\n",
      "features.shape(62, 193)\n",
      "vad.shape(193,)\n",
      "features.shape(62, 231)\n",
      "vad.shape(231,)\n",
      "features.shape(62, 603)\n",
      "vad.shape(603,)\n",
      "features.shape(62, 441)\n",
      "vad.shape(441,)\n",
      "features.shape(62, 282)\n",
      "vad.shape(282,)\n"
     ]
    },
    {
     "name": "stderr",
     "output_type": "stream",
     "text": [
      " 46%|████▌     | 568/1229 [00:08<00:09, 66.87it/s]"
     ]
    },
    {
     "name": "stdout",
     "output_type": "stream",
     "text": [
      "features.shape(62, 735)\n",
      "vad.shape(735,)\n",
      "features.shape(62, 321)\n",
      "vad.shape(321,)\n",
      "features.shape(62, 402)\n",
      "vad.shape(402,)\n",
      "features.shape(62, 376)\n",
      "vad.shape(376,)\n",
      "features.shape(62, 381)\n",
      "vad.shape(381,)\n",
      "features.shape(62, 406)\n",
      "vad.shape(406,)\n",
      "features.shape(62, 291)\n",
      "vad.shape(291,)\n",
      "features.shape(62, 299)\n",
      "vad.shape(299,)\n",
      "features.shape(62, 261)\n",
      "vad.shape(261,)\n",
      "features.shape(62, 274)\n",
      "vad.shape(274,)\n",
      "features.shape(62, 363)\n",
      "vad.shape(363,)\n",
      "features.shape(62, 432)\n",
      "vad.shape(432,)\n",
      "features.shape(62, 295)\n",
      "vad.shape(295,)\n",
      "features.shape(62, 590)\n",
      "vad.shape(590,)\n",
      "features.shape(62, 286)\n",
      "vad.shape(286,)\n"
     ]
    },
    {
     "name": "stderr",
     "output_type": "stream",
     "text": [
      " 48%|████▊     | 585/1229 [00:08<00:08, 71.69it/s]"
     ]
    },
    {
     "name": "stdout",
     "output_type": "stream",
     "text": [
      "features.shape(62, 402)\n",
      "vad.shape(402,)\n",
      "features.shape(62, 449)\n",
      "vad.shape(449,)\n",
      "features.shape(62, 428)\n",
      "vad.shape(428,)\n",
      "features.shape(62, 265)\n",
      "vad.shape(265,)\n",
      "features.shape(62, 270)\n",
      "vad.shape(270,)\n",
      "features.shape(62, 436)\n",
      "vad.shape(436,)\n",
      "features.shape(62, 364)\n",
      "vad.shape(364,)\n",
      "features.shape(62, 474)\n",
      "vad.shape(474,)\n",
      "features.shape(62, 423)\n",
      "vad.shape(423,)\n",
      "features.shape(62, 1353)\n",
      "vad.shape(1353,)\n",
      "features.shape(62, 534)\n",
      "vad.shape(534,)\n",
      "features.shape(62, 363)\n",
      "vad.shape(363,)\n",
      "features.shape(62, 227)\n",
      "vad.shape(227,)\n",
      "features.shape(62, 342)\n",
      "vad.shape(342,)\n"
     ]
    },
    {
     "name": "stderr",
     "output_type": "stream",
     "text": [
      " 48%|████▊     | 593/1229 [00:08<00:10, 61.37it/s]"
     ]
    },
    {
     "name": "stdout",
     "output_type": "stream",
     "text": [
      "features.shape(62, 368)\n",
      "vad.shape(368,)\n",
      "features.shape(62, 308)\n",
      "vad.shape(308,)\n",
      "features.shape(62, 479)\n",
      "vad.shape(479,)\n",
      "features.shape(62, 364)\n",
      "vad.shape(364,)\n",
      "features.shape(62, 368)\n",
      "vad.shape(368,)\n",
      "features.shape(62, 478)\n",
      "vad.shape(478,)\n",
      "features.shape(62, 300)\n",
      "vad.shape(300,)\n",
      "features.shape(62, 270)\n"
     ]
    },
    {
     "name": "stderr",
     "output_type": "stream",
     "text": [
      " 50%|█████     | 615/1229 [00:09<00:09, 64.42it/s]"
     ]
    },
    {
     "name": "stdout",
     "output_type": "stream",
     "text": [
      "vad.shape(270,)\n",
      "features.shape(62, 308)\n",
      "vad.shape(308,)\n",
      "features.shape(62, 287)\n",
      "vad.shape(287,)\n",
      "features.shape(62, 295)\n",
      "vad.shape(295,)\n",
      "features.shape(62, 150)\n",
      "vad.shape(150,)\n",
      "features.shape(62, 470)\n",
      "vad.shape(470,)\n",
      "features.shape(62, 214)\n",
      "vad.shape(214,)\n",
      "features.shape(62, 257)\n",
      "vad.shape(257,)\n",
      "features.shape(62, 261)\n",
      "vad.shape(261,)\n",
      "features.shape(62, 300)\n",
      "vad.shape(300,)\n",
      "features.shape(62, 346)\n",
      "vad.shape(346,)\n",
      "features.shape(62, 487)\n",
      "vad.shape(487,)\n",
      "features.shape(62, 300)\n",
      "vad.shape(300,)\n",
      "features.shape(62, 265)\n",
      "vad.shape(265,)\n",
      "features.shape(62, 265)\n",
      "vad.shape(265,)\n",
      "features.shape(62, 244)\n",
      "vad.shape(244,)\n",
      "features.shape(62, 624)\n",
      "vad.shape(624,)\n",
      "features.shape(62, 393)\n",
      "vad.shape(393,)\n"
     ]
    },
    {
     "name": "stderr",
     "output_type": "stream",
     "text": [
      " 51%|█████     | 623/1229 [00:09<00:08, 68.49it/s]"
     ]
    },
    {
     "name": "stdout",
     "output_type": "stream",
     "text": [
      "features.shape(62, 270)\n",
      "vad.shape(270,)\n",
      "features.shape(62, 316)\n",
      "vad.shape(316,)\n",
      "features.shape(62, 308)\n",
      "vad.shape(308,)\n",
      "features.shape(62, 231)\n",
      "vad.shape(231,)\n",
      "features.shape(62, 283)\n",
      "vad.shape(283,)\n",
      "features.shape(62, 295)\n",
      "vad.shape(295,)\n",
      "features.shape(62, 359)\n",
      "vad.shape(359,)\n",
      "features.shape(62, 291)\n",
      "vad.shape(291,)\n",
      "features.shape(62, 223)\n",
      "vad.shape(223,)\n",
      "features.shape(62, 287)\n",
      "vad.shape(287,)\n",
      "features.shape(62, 359)\n",
      "vad.shape(359,)\n",
      "features.shape(62, 282)\n",
      "vad.shape(282,)\n",
      "features.shape(62, 406)\n",
      "vad.shape(406,)\n",
      "features.shape(62, 342)\n",
      "vad.shape(342,)\n",
      "features.shape(62, 299)\n",
      "vad.shape(299,)\n",
      "features.shape(62, 282)\n",
      "vad.shape(282,)\n",
      "features.shape(62, 317)\n",
      "vad.shape(317,)\n",
      "features.shape(62, 329)\n",
      "vad.shape(329,)\n"
     ]
    },
    {
     "name": "stderr",
     "output_type": "stream",
     "text": [
      " 52%|█████▏    | 644/1229 [00:09<00:07, 82.26it/s]"
     ]
    },
    {
     "name": "stdout",
     "output_type": "stream",
     "text": [
      "features.shape(62, 231)\n",
      "vad.shape(231,)\n",
      "features.shape(62, 526)\n",
      "vad.shape(526,)\n",
      "features.shape(62, 304)\n",
      "vad.shape(304,)\n",
      "features.shape(62, 342)\n",
      "vad.shape(342,)\n",
      "features.shape(62, 291)\n",
      "vad.shape(291,)\n",
      "features.shape(62, 325)\n",
      "vad.shape(325,)\n",
      "features.shape(62, 346)\n",
      "vad.shape(346,)\n",
      "features.shape(62, 402)\n",
      "vad.shape(402,)\n",
      "features.shape(62, 346)\n",
      "vad.shape(346,)\n",
      "features.shape(62, 402)\n",
      "vad.shape(402,)\n",
      "features.shape(62, 726)\n",
      "vad.shape(726,)\n",
      "features.shape(62, 286)\n",
      "vad.shape(286,)\n",
      "features.shape(62, 206)\n",
      "vad.shape(206,)\n",
      "features.shape(62, 389)\n",
      "vad.shape(389,)\n",
      "features.shape(62, 329)\n",
      "vad.shape(329,)\n",
      "features.shape(62, 432)\n",
      "vad.shape(432,)\n",
      "features.shape(62, 508)\n",
      "vad.shape(508,)\n",
      "features.shape(62, 338)\n",
      "vad.shape(338,)\n",
      "features.shape(62, 338)\n"
     ]
    },
    {
     "name": "stderr",
     "output_type": "stream",
     "text": [
      " 54%|█████▍    | 663/1229 [00:09<00:06, 83.99it/s]"
     ]
    },
    {
     "name": "stdout",
     "output_type": "stream",
     "text": [
      "vad.shape(338,)\n",
      "features.shape(62, 453)\n",
      "vad.shape(453,)\n",
      "features.shape(62, 355)\n",
      "vad.shape(355,)\n",
      "features.shape(62, 257)\n",
      "vad.shape(257,)\n",
      "features.shape(62, 274)\n",
      "vad.shape(274,)\n",
      "features.shape(62, 287)\n",
      "vad.shape(287,)\n",
      "features.shape(62, 385)\n",
      "vad.shape(385,)\n",
      "features.shape(62, 274)\n",
      "vad.shape(274,)\n",
      "features.shape(62, 381)\n",
      "vad.shape(381,)\n",
      "features.shape(62, 291)\n",
      "vad.shape(291,)\n",
      "features.shape(62, 282)\n",
      "vad.shape(282,)\n",
      "features.shape(62, 666)\n",
      "vad.shape(666,)\n",
      "features.shape(62, 248)\n",
      "vad.shape(248,)\n",
      "features.shape(62, 304)\n",
      "vad.shape(304,)\n",
      "features.shape(62, 363)\n",
      "vad.shape(363,)\n",
      "features.shape(62, 372)\n",
      "vad.shape(372,)\n",
      "features.shape(62, 325)\n",
      "vad.shape(325,)\n",
      "features.shape(62, 205)\n",
      "vad.shape(205,)\n",
      "features.shape(62, 372)\n",
      "vad.shape(372,)\n",
      "features.shape(62, 466)\n",
      "vad.shape(466,)\n",
      "features.shape(62, 291)\n",
      "vad.shape(291,)\n",
      "features.shape(62, 393)\n",
      "vad.shape(393,)\n"
     ]
    },
    {
     "name": "stderr",
     "output_type": "stream",
     "text": [
      " 56%|█████▌    | 685/1229 [00:10<00:06, 89.16it/s]"
     ]
    },
    {
     "name": "stdout",
     "output_type": "stream",
     "text": [
      "features.shape(62, 235)\n",
      "vad.shape(235,)\n",
      "features.shape(62, 402)\n",
      "vad.shape(402,)\n",
      "features.shape(62, 274)\n",
      "vad.shape(274,)\n",
      "features.shape(62, 206)\n",
      "vad.shape(206,)\n",
      "features.shape(62, 359)\n",
      "vad.shape(359,)\n",
      "features.shape(62, 269)\n",
      "vad.shape(269,)\n",
      "features.shape(62, 231)\n",
      "vad.shape(231,)\n",
      "features.shape(62, 530)\n",
      "vad.shape(530,)\n",
      "features.shape(62, 568)\n",
      "vad.shape(568,)\n",
      "features.shape(62, 342)\n",
      "vad.shape(342,)\n",
      "features.shape(62, 381)\n",
      "vad.shape(381,)\n",
      "features.shape(62, 270)\n",
      "vad.shape(270,)\n",
      "features.shape(62, 300)\n",
      "vad.shape(300,)\n",
      "features.shape(62, 530)\n",
      "vad.shape(530,)\n",
      "features.shape(62, 269)\n",
      "vad.shape(269,)\n",
      "features.shape(62, 598)\n",
      "vad.shape(598,)\n",
      "features.shape(62, 466)\n",
      "vad.shape(466,)\n",
      "features.shape(62, 266)\n",
      "vad.shape(266,)\n",
      "features.shape(62, 338)\n",
      "vad.shape(338,)\n",
      "features.shape(62, 574)\n",
      "vad.shape(574,)\n",
      "features.shape(62, 253)\n",
      "vad.shape(253,)\n"
     ]
    },
    {
     "name": "stderr",
     "output_type": "stream",
     "text": [
      " 58%|█████▊    | 708/1229 [00:10<00:05, 88.50it/s]"
     ]
    },
    {
     "name": "stdout",
     "output_type": "stream",
     "text": [
      "features.shape(62, 308)\n",
      "vad.shape(308,)\n",
      "features.shape(62, 487)\n",
      "vad.shape(487,)\n",
      "features.shape(62, 329)\n",
      "vad.shape(329,)\n",
      "features.shape(62, 239)\n",
      "vad.shape(239,)\n",
      "features.shape(62, 278)\n",
      "vad.shape(278,)\n",
      "features.shape(62, 359)\n",
      "vad.shape(359,)\n",
      "features.shape(62, 312)\n",
      "vad.shape(312,)\n",
      "features.shape(62, 329)\n",
      "vad.shape(329,)\n",
      "features.shape(62, 278)\n",
      "vad.shape(278,)\n",
      "features.shape(62, 359)\n",
      "vad.shape(359,)\n",
      "features.shape(62, 364)\n",
      "vad.shape(364,)\n",
      "features.shape(62, 342)\n",
      "vad.shape(342,)\n",
      "features.shape(62, 547)\n",
      "vad.shape(547,)\n",
      "features.shape(62, 402)\n",
      "vad.shape(402,)\n",
      "features.shape(62, 317)\n",
      "vad.shape(317,)\n",
      "features.shape(62, 287)\n",
      "vad.shape(287,)\n"
     ]
    },
    {
     "name": "stderr",
     "output_type": "stream",
     "text": [
      " 58%|█████▊    | 717/1229 [00:10<00:07, 67.79it/s]"
     ]
    },
    {
     "name": "stdout",
     "output_type": "stream",
     "text": [
      "features.shape(62, 419)\n",
      "vad.shape(419,)\n",
      "features.shape(62, 397)\n",
      "vad.shape(397,)\n",
      "features.shape(62, 176)\n",
      "vad.shape(176,)\n",
      "features.shape(62, 295)\n",
      "vad.shape(295,)\n",
      "features.shape(62, 415)\n",
      "vad.shape(415,)\n",
      "features.shape(62, 350)\n",
      "vad.shape(350,)\n",
      "features.shape(62, 325)\n",
      "vad.shape(325,)\n"
     ]
    },
    {
     "name": "stderr",
     "output_type": "stream",
     "text": [
      " 59%|█████▉    | 725/1229 [00:10<00:07, 68.68it/s]"
     ]
    },
    {
     "name": "stdout",
     "output_type": "stream",
     "text": [
      "features.shape(62, 376)\n",
      "vad.shape(376,)\n",
      "features.shape(62, 321)\n",
      "vad.shape(321,)\n",
      "features.shape(62, 227)\n",
      "vad.shape(227,)\n",
      "features.shape(62, 743)\n",
      "vad.shape(743,)\n",
      "features.shape(62, 445)\n",
      "vad.shape(445,)\n",
      "features.shape(62, 445)\n",
      "vad.shape(445,)\n",
      "features.shape(62, 205)\n",
      "vad.shape(205,)\n",
      "features.shape(62, 248)\n",
      "vad.shape(248,)\n",
      "features.shape(62, 683)\n",
      "vad.shape(683,)\n",
      "features.shape(62, 149)\n",
      "vad.shape(149,)\n",
      "features.shape(62, 411)\n",
      "vad.shape(411,)\n",
      "features.shape(62, 342)\n",
      "vad.shape(342,)\n",
      "features.shape(62, 321)\n",
      "vad.shape(321,)\n",
      "features.shape(62, 342)\n",
      "vad.shape(342,)\n",
      "features.shape(62, 483)\n",
      "vad.shape(483,)\n"
     ]
    },
    {
     "name": "stderr",
     "output_type": "stream",
     "text": [
      " 61%|██████    | 744/1229 [00:10<00:06, 76.27it/s]"
     ]
    },
    {
     "name": "stdout",
     "output_type": "stream",
     "text": [
      "features.shape(62, 218)\n",
      "vad.shape(218,)\n",
      "features.shape(62, 444)\n",
      "vad.shape(444,)\n",
      "features.shape(62, 240)\n",
      "vad.shape(240,)\n",
      "features.shape(62, 244)\n",
      "vad.shape(244,)\n",
      "features.shape(62, 274)\n",
      "vad.shape(274,)\n",
      "features.shape(62, 406)\n",
      "vad.shape(406,)\n",
      "features.shape(62, 278)\n",
      "vad.shape(278,)\n",
      "features.shape(62, 300)\n",
      "vad.shape(300,)\n",
      "features.shape(62, 304)\n",
      "vad.shape(304,)\n",
      "features.shape(62, 389)\n",
      "vad.shape(389,)\n",
      "features.shape(62, 312)\n",
      "vad.shape(312,)\n",
      "features.shape(62, 299)\n",
      "vad.shape(299,)\n",
      "features.shape(62, 1055)\n",
      "vad.shape(1055,)\n",
      "features.shape(62, 321)\n",
      "vad.shape(321,)\n",
      "features.shape(62, 342)\n",
      "vad.shape(342,)\n",
      "features.shape(62, 351)\n",
      "vad.shape(351,)\n",
      "features.shape(62, 351)\n",
      "vad.shape(351,)\n"
     ]
    },
    {
     "name": "stderr",
     "output_type": "stream",
     "text": [
      " 62%|██████▏   | 762/1229 [00:11<00:05, 79.34it/s]"
     ]
    },
    {
     "name": "stdout",
     "output_type": "stream",
     "text": [
      "features.shape(62, 223)\n",
      "vad.shape(223,)\n",
      "features.shape(62, 432)\n",
      "vad.shape(432,)\n",
      "features.shape(62, 235)\n",
      "vad.shape(235,)\n",
      "features.shape(62, 492)\n",
      "vad.shape(492,)\n",
      "features.shape(62, 257)\n",
      "vad.shape(257,)\n",
      "features.shape(62, 359)\n",
      "vad.shape(359,)\n",
      "features.shape(62, 257)\n",
      "vad.shape(257,)\n",
      "features.shape(62, 202)\n",
      "vad.shape(202,)\n",
      "features.shape(62, 517)\n",
      "vad.shape(517,)\n",
      "features.shape(62, 325)\n",
      "vad.shape(325,)\n",
      "features.shape(62, 312)\n",
      "vad.shape(312,)\n",
      "features.shape(62, 811)\n",
      "vad.shape(811,)\n",
      "features.shape(62, 274)\n",
      "vad.shape(274,)\n",
      "features.shape(62, 274)\n",
      "vad.shape(274,)\n",
      "features.shape(62, 363)\n"
     ]
    },
    {
     "name": "stderr",
     "output_type": "stream",
     "text": [
      " 63%|██████▎   | 771/1229 [00:11<00:06, 73.97it/s]"
     ]
    },
    {
     "name": "stdout",
     "output_type": "stream",
     "text": [
      "vad.shape(363,)\n",
      "features.shape(62, 342)\n",
      "vad.shape(342,)\n",
      "features.shape(62, 214)\n",
      "vad.shape(214,)\n",
      "features.shape(62, 274)\n",
      "vad.shape(274,)\n",
      "features.shape(62, 172)\n",
      "vad.shape(172,)\n",
      "features.shape(62, 329)\n",
      "vad.shape(329,)\n",
      "features.shape(62, 453)\n",
      "vad.shape(453,)\n",
      "features.shape(62, 368)\n",
      "vad.shape(368,)\n",
      "features.shape(62, 274)\n",
      "vad.shape(274,)\n",
      "features.shape(62, 329)\n",
      "vad.shape(329,)\n",
      "features.shape(62, 197)\n",
      "vad.shape(197,)\n",
      "features.shape(62, 368)\n",
      "vad.shape(368,)\n",
      "features.shape(62, 381)\n",
      "vad.shape(381,)\n",
      "features.shape(62, 376)\n",
      "vad.shape(376,)\n",
      "features.shape(62, 368)\n",
      "vad.shape(368,)\n"
     ]
    },
    {
     "name": "stderr",
     "output_type": "stream",
     "text": [
      " 64%|██████▍   | 787/1229 [00:11<00:06, 71.86it/s]"
     ]
    },
    {
     "name": "stdout",
     "output_type": "stream",
     "text": [
      "features.shape(62, 278)\n",
      "vad.shape(278,)\n",
      "features.shape(62, 180)\n",
      "vad.shape(180,)\n",
      "features.shape(62, 538)\n",
      "vad.shape(538,)\n",
      "features.shape(62, 406)\n",
      "vad.shape(406,)\n",
      "features.shape(62, 261)\n",
      "vad.shape(261,)\n",
      "features.shape(62, 466)\n",
      "vad.shape(466,)\n",
      "features.shape(62, 398)\n",
      "vad.shape(398,)\n",
      "features.shape(62, 261)\n",
      "vad.shape(261,)\n",
      "features.shape(62, 731)\n",
      "vad.shape(731,)\n",
      "features.shape(62, 329)\n",
      "vad.shape(329,)\n",
      "features.shape(62, 367)\n",
      "vad.shape(367,)\n",
      "features.shape(62, 231)\n",
      "vad.shape(231,)\n",
      "features.shape(62, 248)\n",
      "vad.shape(248,)\n",
      "features.shape(62, 410)\n",
      "vad.shape(410,)\n",
      "features.shape(62, 419)\n",
      "vad.shape(419,)\n",
      "features.shape(62, 385)\n",
      "vad.shape(385,)\n"
     ]
    },
    {
     "name": "stderr",
     "output_type": "stream",
     "text": [
      " 66%|██████▌   | 805/1229 [00:11<00:05, 79.93it/s]"
     ]
    },
    {
     "name": "stdout",
     "output_type": "stream",
     "text": [
      "features.shape(62, 253)\n",
      "vad.shape(253,)\n",
      "features.shape(62, 346)\n",
      "vad.shape(346,)\n",
      "features.shape(62, 432)\n",
      "vad.shape(432,)\n",
      "features.shape(62, 193)\n",
      "vad.shape(193,)\n",
      "features.shape(62, 432)\n",
      "vad.shape(432,)\n",
      "features.shape(62, 206)\n",
      "vad.shape(206,)\n",
      "features.shape(62, 334)\n",
      "vad.shape(334,)\n",
      "features.shape(62, 457)\n",
      "vad.shape(457,)\n",
      "features.shape(62, 244)\n",
      "vad.shape(244,)\n",
      "features.shape(62, 274)\n",
      "vad.shape(274,)\n",
      "features.shape(62, 282)\n",
      "vad.shape(282,)\n",
      "features.shape(62, 427)\n",
      "vad.shape(427,)\n",
      "features.shape(62, 338)\n",
      "vad.shape(338,)\n",
      "features.shape(62, 283)\n",
      "vad.shape(283,)\n",
      "features.shape(62, 283)\n",
      "vad.shape(283,)\n",
      "features.shape(62, 350)\n",
      "vad.shape(350,)\n",
      "features.shape(62, 350)\n",
      "vad.shape(350,)\n",
      "features.shape(62, 564)\n",
      "vad.shape(564,)\n",
      "features.shape(62, 287)\n",
      "vad.shape(287,)\n",
      "features.shape(62, 773)\n",
      "vad.shape(773,)\n",
      "features.shape(62, 282)\n",
      "vad.shape(282,)\n",
      "features.shape(62, 478)\n",
      "vad.shape(478,)\n",
      "features.shape(62, 483)\n",
      "vad.shape(483,)\n",
      "features.shape(62, 206)\n"
     ]
    },
    {
     "name": "stderr",
     "output_type": "stream",
     "text": [
      " 67%|██████▋   | 828/1229 [00:11<00:04, 90.86it/s]"
     ]
    },
    {
     "name": "stdout",
     "output_type": "stream",
     "text": [
      "vad.shape(206,)\n",
      "features.shape(62, 325)\n",
      "vad.shape(325,)\n",
      "features.shape(62, 368)\n",
      "vad.shape(368,)\n",
      "features.shape(62, 210)\n",
      "vad.shape(210,)\n",
      "features.shape(62, 372)\n",
      "vad.shape(372,)\n",
      "features.shape(62, 402)\n",
      "vad.shape(402,)\n",
      "features.shape(62, 240)\n",
      "vad.shape(240,)\n",
      "features.shape(62, 683)\n",
      "vad.shape(683,)\n",
      "features.shape(62, 218)\n",
      "vad.shape(218,)\n",
      "features.shape(62, 308)\n",
      "vad.shape(308,)\n",
      "features.shape(62, 402)\n",
      "vad.shape(402,)\n",
      "features.shape(62, 278)\n",
      "vad.shape(278,)\n",
      "features.shape(62, 427)\n",
      "vad.shape(427,)\n",
      "features.shape(62, 308)\n",
      "vad.shape(308,)\n",
      "features.shape(62, 295)\n",
      "vad.shape(295,)\n",
      "features.shape(62, 402)\n",
      "vad.shape(402,)\n",
      "features.shape(62, 274)\n",
      "vad.shape(274,)\n",
      "features.shape(62, 240)\n"
     ]
    },
    {
     "name": "stderr",
     "output_type": "stream",
     "text": [
      " 69%|██████▉   | 847/1229 [00:12<00:04, 83.39it/s]"
     ]
    },
    {
     "name": "stdout",
     "output_type": "stream",
     "text": [
      "vad.shape(240,)\n",
      "features.shape(62, 453)\n",
      "vad.shape(453,)\n",
      "features.shape(62, 274)\n",
      "vad.shape(274,)\n",
      "features.shape(62, 492)\n",
      "vad.shape(492,)\n",
      "features.shape(62, 214)\n",
      "vad.shape(214,)\n",
      "features.shape(62, 282)\n",
      "vad.shape(282,)\n",
      "features.shape(62, 359)\n",
      "vad.shape(359,)\n",
      "features.shape(62, 248)\n",
      "vad.shape(248,)\n",
      "features.shape(62, 235)\n",
      "vad.shape(235,)\n",
      "features.shape(62, 376)\n",
      "vad.shape(376,)\n",
      "features.shape(62, 330)\n",
      "vad.shape(330,)\n",
      "features.shape(62, 291)\n",
      "vad.shape(291,)\n",
      "features.shape(62, 359)\n",
      "vad.shape(359,)\n",
      "features.shape(62, 415)\n",
      "vad.shape(415,)\n",
      "features.shape(62, 291)\n",
      "vad.shape(291,)\n",
      "features.shape(62, 265)\n",
      "vad.shape(265,)\n",
      "features.shape(62, 423)\n",
      "vad.shape(423,)\n",
      "features.shape(62, 359)\n",
      "vad.shape(359,)\n"
     ]
    },
    {
     "name": "stderr",
     "output_type": "stream",
     "text": [
      " 70%|██████▉   | 856/1229 [00:12<00:05, 70.60it/s]"
     ]
    },
    {
     "name": "stdout",
     "output_type": "stream",
     "text": [
      "features.shape(62, 436)\n",
      "vad.shape(436,)\n",
      "features.shape(62, 180)\n",
      "vad.shape(180,)\n",
      "features.shape(62, 393)\n",
      "vad.shape(393,)\n",
      "features.shape(62, 210)\n",
      "vad.shape(210,)\n",
      "features.shape(62, 223)\n",
      "vad.shape(223,)\n",
      "features.shape(62, 389)\n",
      "vad.shape(389,)\n",
      "features.shape(62, 257)\n",
      "vad.shape(257,)\n",
      "features.shape(62, 240)\n",
      "vad.shape(240,)\n",
      "features.shape(62, 1084)\n",
      "vad.shape(1084,)\n"
     ]
    },
    {
     "name": "stderr",
     "output_type": "stream",
     "text": [
      " 71%|███████   | 875/1229 [00:12<00:04, 70.81it/s]"
     ]
    },
    {
     "name": "stdout",
     "output_type": "stream",
     "text": [
      "features.shape(62, 351)\n",
      "vad.shape(351,)\n",
      "features.shape(62, 197)\n",
      "vad.shape(197,)\n",
      "features.shape(62, 782)\n",
      "vad.shape(782,)\n",
      "features.shape(62, 402)\n",
      "vad.shape(402,)\n",
      "features.shape(62, 475)\n",
      "vad.shape(475,)\n",
      "features.shape(62, 321)\n",
      "vad.shape(321,)\n",
      "features.shape(62, 253)\n",
      "vad.shape(253,)\n",
      "features.shape(62, 457)\n",
      "vad.shape(457,)\n",
      "features.shape(62, 257)\n",
      "vad.shape(257,)\n",
      "features.shape(62, 427)\n",
      "vad.shape(427,)\n",
      "features.shape(62, 474)\n",
      "vad.shape(474,)\n",
      "features.shape(62, 470)\n",
      "vad.shape(470,)\n",
      "features.shape(62, 312)\n",
      "vad.shape(312,)\n",
      "features.shape(62, 436)\n",
      "vad.shape(436,)\n",
      "features.shape(62, 325)\n",
      "vad.shape(325,)\n",
      "features.shape(62, 278)\n",
      "vad.shape(278,)\n",
      "features.shape(62, 304)\n",
      "vad.shape(304,)\n",
      "features.shape(62, 269)\n",
      "vad.shape(269,)\n",
      "features.shape(62, 355)\n",
      "vad.shape(355,)\n",
      "features.shape(62, 470)\n",
      "vad.shape(470,)\n",
      "features.shape(62, 274)\n",
      "vad.shape(274,)\n"
     ]
    },
    {
     "name": "stderr",
     "output_type": "stream",
     "text": [
      " 73%|███████▎  | 897/1229 [00:12<00:03, 85.44it/s]"
     ]
    },
    {
     "name": "stdout",
     "output_type": "stream",
     "text": [
      "features.shape(62, 231)\n",
      "vad.shape(231,)\n",
      "features.shape(62, 300)\n",
      "vad.shape(300,)\n",
      "features.shape(62, 269)\n",
      "vad.shape(269,)\n",
      "features.shape(62, 248)\n",
      "vad.shape(248,)\n",
      "features.shape(62, 270)\n",
      "vad.shape(270,)\n",
      "features.shape(62, 304)\n",
      "vad.shape(304,)\n",
      "features.shape(62, 304)\n",
      "vad.shape(304,)\n",
      "features.shape(62, 248)\n",
      "vad.shape(248,)\n",
      "features.shape(62, 312)\n",
      "vad.shape(312,)\n",
      "features.shape(62, 363)\n",
      "vad.shape(363,)\n",
      "features.shape(62, 432)\n",
      "vad.shape(432,)\n",
      "features.shape(62, 210)\n",
      "vad.shape(210,)\n",
      "features.shape(62, 227)\n",
      "vad.shape(227,)\n",
      "features.shape(62, 205)\n",
      "vad.shape(205,)\n",
      "features.shape(62, 449)\n",
      "vad.shape(449,)\n",
      "features.shape(62, 419)\n",
      "vad.shape(419,)\n",
      "features.shape(62, 210)\n",
      "vad.shape(210,)\n",
      "features.shape(62, 282)\n",
      "vad.shape(282,)\n",
      "features.shape(62, 346)\n",
      "vad.shape(346,)\n",
      "features.shape(62, 240)\n",
      "vad.shape(240,)\n",
      "features.shape(62, 308)\n",
      "vad.shape(308,)\n"
     ]
    },
    {
     "name": "stderr",
     "output_type": "stream",
     "text": [
      " 75%|███████▍  | 921/1229 [00:13<00:03, 98.58it/s]"
     ]
    },
    {
     "name": "stdout",
     "output_type": "stream",
     "text": [
      "features.shape(62, 210)\n",
      "vad.shape(210,)\n",
      "features.shape(62, 432)\n",
      "vad.shape(432,)\n",
      "features.shape(62, 274)\n",
      "vad.shape(274,)\n",
      "features.shape(62, 466)\n",
      "vad.shape(466,)\n",
      "features.shape(62, 308)\n",
      "vad.shape(308,)\n",
      "features.shape(62, 214)\n",
      "vad.shape(214,)\n",
      "features.shape(62, 282)\n",
      "vad.shape(282,)\n",
      "features.shape(62, 351)\n",
      "vad.shape(351,)\n",
      "features.shape(62, 274)\n",
      "vad.shape(274,)\n",
      "features.shape(62, 295)\n",
      "vad.shape(295,)\n",
      "features.shape(62, 291)\n",
      "vad.shape(291,)\n",
      "features.shape(62, 248)\n",
      "vad.shape(248,)\n",
      "features.shape(62, 389)\n",
      "vad.shape(389,)\n",
      "features.shape(62, 304)\n",
      "vad.shape(304,)\n",
      "features.shape(62, 231)\n",
      "vad.shape(231,)\n",
      "features.shape(62, 235)\n",
      "vad.shape(235,)\n",
      "features.shape(62, 368)\n",
      "vad.shape(368,)\n",
      "features.shape(62, 270)\n",
      "vad.shape(270,)\n",
      "features.shape(62, 346)\n",
      "vad.shape(346,)\n",
      "features.shape(62, 248)\n",
      "vad.shape(248,)\n",
      "features.shape(62, 432)\n",
      "vad.shape(432,)\n",
      "features.shape(62, 410)\n",
      "vad.shape(410,)\n"
     ]
    },
    {
     "name": "stderr",
     "output_type": "stream",
     "text": [
      " 77%|███████▋  | 944/1229 [00:13<00:02, 104.79it/s]"
     ]
    },
    {
     "name": "stdout",
     "output_type": "stream",
     "text": [
      "features.shape(62, 406)\n",
      "vad.shape(406,)\n",
      "features.shape(62, 265)\n",
      "vad.shape(265,)\n",
      "features.shape(62, 295)\n",
      "vad.shape(295,)\n",
      "features.shape(62, 428)\n",
      "vad.shape(428,)\n",
      "features.shape(62, 475)\n",
      "vad.shape(475,)\n",
      "features.shape(62, 363)\n",
      "vad.shape(363,)\n",
      "features.shape(62, 286)\n",
      "vad.shape(286,)\n",
      "features.shape(62, 231)\n",
      "vad.shape(231,)\n",
      "features.shape(62, 313)\n",
      "vad.shape(313,)\n",
      "features.shape(62, 244)\n",
      "vad.shape(244,)\n",
      "features.shape(62, 312)\n",
      "vad.shape(312,)\n",
      "features.shape(62, 355)\n",
      "vad.shape(355,)\n",
      "features.shape(62, 487)\n",
      "vad.shape(487,)\n",
      "features.shape(62, 466)\n",
      "vad.shape(466,)\n",
      "features.shape(62, 551)\n",
      "vad.shape(551,)\n",
      "features.shape(62, 274)\n",
      "vad.shape(274,)\n",
      "features.shape(62, 167)\n",
      "vad.shape(167,)\n",
      "features.shape(62, 274)\n",
      "vad.shape(274,)\n",
      "features.shape(62, 308)\n",
      "vad.shape(308,)\n",
      "features.shape(62, 445)\n",
      "vad.shape(445,)\n",
      "features.shape(62, 214)\n",
      "vad.shape(214,)\n",
      "features.shape(62, 278)\n",
      "vad.shape(278,)\n",
      "features.shape(62, 299)\n",
      "vad.shape(299,)\n",
      "features.shape(62, 321)\n",
      "vad.shape(321,)\n",
      "features.shape(62, 368)\n",
      "vad.shape(368,)\n",
      "features.shape(62, 193)\n",
      "vad.shape(193,)\n"
     ]
    },
    {
     "name": "stderr",
     "output_type": "stream",
     "text": [
      " 79%|███████▉  | 968/1229 [00:13<00:02, 110.60it/s]"
     ]
    },
    {
     "name": "stdout",
     "output_type": "stream",
     "text": [
      "features.shape(62, 372)\n",
      "vad.shape(372,)\n",
      "features.shape(62, 295)\n",
      "vad.shape(295,)\n",
      "features.shape(62, 291)\n",
      "vad.shape(291,)\n",
      "features.shape(62, 278)\n",
      "vad.shape(278,)\n",
      "features.shape(62, 449)\n",
      "vad.shape(449,)\n",
      "features.shape(62, 261)\n",
      "vad.shape(261,)\n",
      "features.shape(62, 321)\n",
      "vad.shape(321,)\n",
      "features.shape(62, 299)\n",
      "vad.shape(299,)\n",
      "features.shape(62, 231)\n",
      "vad.shape(231,)\n",
      "features.shape(62, 453)\n",
      "vad.shape(453,)\n",
      "features.shape(62, 389)\n",
      "vad.shape(389,)\n",
      "features.shape(62, 278)\n",
      "vad.shape(278,)\n",
      "features.shape(62, 184)\n",
      "vad.shape(184,)\n",
      "features.shape(62, 406)\n",
      "vad.shape(406,)\n",
      "features.shape(62, 577)\n",
      "vad.shape(577,)\n",
      "features.shape(62, 457)\n",
      "vad.shape(457,)\n",
      "features.shape(62, 171)\n",
      "vad.shape(171,)\n",
      "features.shape(62, 398)\n",
      "vad.shape(398,)\n",
      "features.shape(62, 338)\n",
      "vad.shape(338,)\n",
      "features.shape(62, 368)\n",
      "vad.shape(368,)\n",
      "features.shape(62, 411)\n",
      "vad.shape(411,)\n",
      "features.shape(62, 423)\n",
      "vad.shape(423,)\n",
      "features.shape(62, 325)\n",
      "vad.shape(325,)\n",
      "features.shape(62, 308)\n",
      "vad.shape(308,)\n",
      "features.shape(62, 381)\n",
      "vad.shape(381,)\n"
     ]
    },
    {
     "name": "stderr",
     "output_type": "stream",
     "text": [
      " 81%|████████  | 993/1229 [00:13<00:02, 108.69it/s]"
     ]
    },
    {
     "name": "stdout",
     "output_type": "stream",
     "text": [
      "features.shape(62, 316)\n",
      "vad.shape(316,)\n",
      "features.shape(62, 381)\n",
      "vad.shape(381,)\n",
      "features.shape(62, 304)\n",
      "vad.shape(304,)\n",
      "features.shape(62, 376)\n",
      "vad.shape(376,)\n",
      "features.shape(62, 436)\n",
      "vad.shape(436,)\n",
      "features.shape(62, 440)\n",
      "vad.shape(440,)\n",
      "features.shape(62, 248)\n",
      "vad.shape(248,)\n",
      "features.shape(62, 227)\n",
      "vad.shape(227,)\n",
      "features.shape(62, 436)\n",
      "vad.shape(436,)\n",
      "features.shape(62, 317)\n",
      "vad.shape(317,)\n",
      "features.shape(62, 423)\n",
      "vad.shape(423,)\n",
      "features.shape(62, 171)\n",
      "vad.shape(171,)\n",
      "features.shape(62, 415)\n",
      "vad.shape(415,)\n",
      "features.shape(62, 240)\n",
      "vad.shape(240,)\n",
      "features.shape(62, 423)\n",
      "vad.shape(423,)\n",
      "features.shape(62, 414)\n",
      "vad.shape(414,)\n",
      "features.shape(62, 428)\n",
      "vad.shape(428,)\n",
      "features.shape(62, 218)\n",
      "vad.shape(218,)\n",
      "features.shape(62, 419)\n",
      "vad.shape(419,)\n",
      "features.shape(62, 261)\n",
      "vad.shape(261,)\n",
      "features.shape(62, 312)\n",
      "vad.shape(312,)\n",
      "features.shape(62, 303)\n",
      "vad.shape(303,)\n",
      "features.shape(62, 385)\n",
      "vad.shape(385,)\n"
     ]
    },
    {
     "name": "stderr",
     "output_type": "stream",
     "text": [
      " 83%|████████▎ | 1018/1229 [00:13<00:01, 110.57it/s]"
     ]
    },
    {
     "name": "stdout",
     "output_type": "stream",
     "text": [
      "features.shape(62, 453)\n",
      "vad.shape(453,)\n",
      "features.shape(62, 227)\n",
      "vad.shape(227,)\n",
      "features.shape(62, 274)\n",
      "vad.shape(274,)\n",
      "features.shape(62, 227)\n",
      "vad.shape(227,)\n",
      "features.shape(62, 312)\n",
      "vad.shape(312,)\n",
      "features.shape(62, 244)\n",
      "vad.shape(244,)\n",
      "features.shape(62, 342)\n",
      "vad.shape(342,)\n",
      "features.shape(62, 504)\n",
      "vad.shape(504,)\n",
      "features.shape(62, 355)\n",
      "vad.shape(355,)\n",
      "features.shape(62, 270)\n",
      "vad.shape(270,)\n",
      "features.shape(62, 556)\n",
      "vad.shape(556,)\n",
      "features.shape(62, 278)\n",
      "vad.shape(278,)\n",
      "features.shape(62, 317)\n",
      "vad.shape(317,)\n",
      "features.shape(62, 244)\n",
      "vad.shape(244,)\n",
      "features.shape(62, 240)\n",
      "vad.shape(240,)\n",
      "features.shape(62, 338)\n",
      "vad.shape(338,)\n",
      "features.shape(62, 671)\n",
      "vad.shape(671,)\n",
      "features.shape(62, 316)\n",
      "vad.shape(316,)\n",
      "features.shape(62, 910)\n",
      "vad.shape(910,)\n",
      "features.shape(62, 269)\n",
      "vad.shape(269,)\n",
      "features.shape(62, 504)\n",
      "vad.shape(504,)\n",
      "features.shape(62, 270)\n",
      "vad.shape(270,)\n",
      "features.shape(62, 274)\n",
      "vad.shape(274,)\n"
     ]
    },
    {
     "name": "stderr",
     "output_type": "stream",
     "text": [
      " 85%|████████▍ | 1042/1229 [00:14<00:01, 107.20it/s]"
     ]
    },
    {
     "name": "stdout",
     "output_type": "stream",
     "text": [
      "features.shape(62, 338)\n",
      "vad.shape(338,)\n",
      "features.shape(62, 312)\n",
      "vad.shape(312,)\n",
      "features.shape(62, 568)\n",
      "vad.shape(568,)\n",
      "features.shape(62, 517)\n",
      "vad.shape(517,)\n",
      "features.shape(62, 329)\n",
      "vad.shape(329,)\n",
      "features.shape(62, 338)\n",
      "vad.shape(338,)\n",
      "features.shape(62, 799)\n",
      "vad.shape(799,)\n",
      "features.shape(62, 325)\n",
      "vad.shape(325,)\n",
      "features.shape(62, 257)\n",
      "vad.shape(257,)\n",
      "features.shape(62, 261)\n",
      "vad.shape(261,)\n",
      "features.shape(62, 257)\n",
      "vad.shape(257,)\n",
      "features.shape(62, 363)\n",
      "vad.shape(363,)\n",
      "features.shape(62, 312)\n",
      "vad.shape(312,)\n",
      "features.shape(62, 265)\n",
      "vad.shape(265,)\n",
      "features.shape(62, 291)\n",
      "vad.shape(291,)\n",
      "features.shape(62, 248)\n",
      "vad.shape(248,)\n",
      "features.shape(62, 304)\n",
      "vad.shape(304,)\n",
      "features.shape(62, 492)\n",
      "vad.shape(492,)\n",
      "features.shape(62, 411)\n",
      "vad.shape(411,)\n",
      "features.shape(62, 436)\n",
      "vad.shape(436,)\n",
      "features.shape(62, 201)\n",
      "vad.shape(201,)\n",
      "features.shape(62, 218)\n",
      "vad.shape(218,)\n",
      "features.shape(62, 491)\n",
      "vad.shape(491,)\n"
     ]
    },
    {
     "name": "stderr",
     "output_type": "stream",
     "text": [
      " 87%|████████▋ | 1066/1229 [00:14<00:01, 108.07it/s]"
     ]
    },
    {
     "name": "stdout",
     "output_type": "stream",
     "text": [
      "features.shape(62, 287)\n",
      "vad.shape(287,)\n",
      "features.shape(62, 308)\n",
      "vad.shape(308,)\n",
      "features.shape(62, 278)\n",
      "vad.shape(278,)\n",
      "features.shape(62, 334)\n",
      "vad.shape(334,)\n",
      "features.shape(62, 291)\n",
      "vad.shape(291,)\n",
      "features.shape(62, 372)\n",
      "vad.shape(372,)\n",
      "features.shape(62, 364)\n",
      "vad.shape(364,)\n",
      "features.shape(62, 261)\n",
      "vad.shape(261,)\n",
      "features.shape(62, 355)\n",
      "vad.shape(355,)\n",
      "features.shape(62, 321)\n",
      "vad.shape(321,)\n",
      "features.shape(62, 351)\n",
      "vad.shape(351,)\n",
      "features.shape(62, 222)\n",
      "vad.shape(222,)\n",
      "features.shape(62, 419)\n",
      "vad.shape(419,)\n",
      "features.shape(62, 304)\n",
      "vad.shape(304,)\n",
      "features.shape(62, 483)\n",
      "vad.shape(483,)\n",
      "features.shape(62, 244)\n",
      "vad.shape(244,)\n",
      "features.shape(62, 300)\n",
      "vad.shape(300,)\n",
      "features.shape(62, 265)\n",
      "vad.shape(265,)\n",
      "features.shape(62, 244)\n",
      "vad.shape(244,)\n",
      "features.shape(62, 197)\n",
      "vad.shape(197,)\n",
      "features.shape(62, 475)\n",
      "vad.shape(475,)\n"
     ]
    },
    {
     "name": "stderr",
     "output_type": "stream",
     "text": [
      " 88%|████████▊ | 1077/1229 [00:14<00:01, 104.49it/s]"
     ]
    },
    {
     "name": "stdout",
     "output_type": "stream",
     "text": [
      "features.shape(62, 470)\n",
      "vad.shape(470,)\n",
      "features.shape(62, 236)\n",
      "vad.shape(236,)\n",
      "features.shape(62, 219)\n",
      "vad.shape(219,)\n",
      "features.shape(62, 312)\n",
      "vad.shape(312,)\n",
      "features.shape(62, 427)\n",
      "vad.shape(427,)\n",
      "features.shape(62, 201)\n",
      "vad.shape(201,)\n",
      "features.shape(62, 265)\n",
      "vad.shape(265,)\n",
      "features.shape(62, 534)\n",
      "vad.shape(534,)\n",
      "features.shape(62, 402)\n",
      "vad.shape(402,)\n",
      "features.shape(62, 304)\n",
      "vad.shape(304,)\n",
      "features.shape(62, 227)\n",
      "vad.shape(227,)\n",
      "features.shape(62, 235)\n",
      "vad.shape(235,)\n",
      "features.shape(62, 261)\n",
      "vad.shape(261,)\n",
      "features.shape(62, 367)\n",
      "vad.shape(367,)\n",
      "features.shape(62, 334)\n",
      "vad.shape(334,)\n",
      "features.shape(62, 377)\n",
      "vad.shape(377,)\n",
      "features.shape(62, 376)\n",
      "vad.shape(376,)\n",
      "features.shape(62, 223)\n",
      "vad.shape(223,)\n",
      "features.shape(62, 295)\n",
      "vad.shape(295,)\n",
      "features.shape(62, 436)\n",
      "vad.shape(436,)\n",
      "features.shape(62, 274)\n",
      "vad.shape(274,)\n"
     ]
    },
    {
     "name": "stderr",
     "output_type": "stream",
     "text": [
      " 90%|████████▉ | 1100/1229 [00:14<00:01, 102.46it/s]"
     ]
    },
    {
     "name": "stdout",
     "output_type": "stream",
     "text": [
      "features.shape(62, 261)\n",
      "vad.shape(261,)\n",
      "features.shape(62, 397)\n",
      "vad.shape(397,)\n",
      "features.shape(62, 299)\n",
      "vad.shape(299,)\n",
      "features.shape(62, 283)\n",
      "vad.shape(283,)\n",
      "features.shape(62, 466)\n",
      "vad.shape(466,)\n",
      "features.shape(62, 317)\n",
      "vad.shape(317,)\n",
      "features.shape(62, 202)\n",
      "vad.shape(202,)\n",
      "features.shape(62, 270)\n",
      "vad.shape(270,)\n",
      "features.shape(62, 244)\n",
      "vad.shape(244,)\n",
      "features.shape(62, 543)\n",
      "vad.shape(543,)\n",
      "features.shape(62, 406)\n",
      "vad.shape(406,)\n",
      "features.shape(62, 210)\n",
      "vad.shape(210,)\n",
      "features.shape(62, 449)\n",
      "vad.shape(449,)\n",
      "features.shape(62, 257)\n",
      "vad.shape(257,)\n",
      "features.shape(62, 440)\n",
      "vad.shape(440,)\n",
      "features.shape(62, 466)\n",
      "vad.shape(466,)\n",
      "features.shape(62, 261)\n",
      "vad.shape(261,)\n",
      "features.shape(62, 402)\n",
      "vad.shape(402,)\n",
      "features.shape(62, 406)\n",
      "vad.shape(406,)\n",
      "features.shape(62, 252)\n",
      "vad.shape(252,)\n",
      "features.shape(62, 428)\n",
      "vad.shape(428,)\n",
      "features.shape(62, 261)\n",
      "vad.shape(261,)\n"
     ]
    },
    {
     "name": "stderr",
     "output_type": "stream",
     "text": [
      " 92%|█████████▏| 1125/1229 [00:14<00:00, 110.30it/s]"
     ]
    },
    {
     "name": "stdout",
     "output_type": "stream",
     "text": [
      "features.shape(62, 282)\n",
      "vad.shape(282,)\n",
      "features.shape(62, 368)\n",
      "vad.shape(368,)\n",
      "features.shape(62, 261)\n",
      "vad.shape(261,)\n",
      "features.shape(62, 184)\n",
      "vad.shape(184,)\n",
      "features.shape(62, 223)\n",
      "vad.shape(223,)\n",
      "features.shape(62, 223)\n",
      "vad.shape(223,)\n",
      "features.shape(62, 406)\n",
      "vad.shape(406,)\n",
      "features.shape(62, 402)\n",
      "vad.shape(402,)\n",
      "features.shape(62, 171)\n",
      "vad.shape(171,)\n",
      "features.shape(62, 291)\n",
      "vad.shape(291,)\n",
      "features.shape(62, 274)\n",
      "vad.shape(274,)\n",
      "features.shape(62, 402)\n",
      "vad.shape(402,)\n",
      "features.shape(62, 218)\n",
      "vad.shape(218,)\n",
      "features.shape(62, 312)\n",
      "vad.shape(312,)\n",
      "features.shape(62, 283)\n",
      "vad.shape(283,)\n",
      "features.shape(62, 197)\n",
      "vad.shape(197,)\n",
      "features.shape(62, 321)\n",
      "vad.shape(321,)\n",
      "features.shape(62, 218)\n",
      "vad.shape(218,)\n",
      "features.shape(62, 441)\n",
      "vad.shape(441,)\n",
      "features.shape(62, 500)\n",
      "vad.shape(500,)\n",
      "features.shape(62, 334)\n",
      "vad.shape(334,)\n",
      "features.shape(62, 419)\n",
      "vad.shape(419,)\n"
     ]
    },
    {
     "name": "stderr",
     "output_type": "stream",
     "text": [
      " 93%|█████████▎| 1149/1229 [00:15<00:00, 104.73it/s]"
     ]
    },
    {
     "name": "stdout",
     "output_type": "stream",
     "text": [
      "features.shape(62, 214)\n",
      "vad.shape(214,)\n",
      "features.shape(62, 325)\n",
      "vad.shape(325,)\n",
      "features.shape(62, 308)\n",
      "vad.shape(308,)\n",
      "features.shape(62, 381)\n",
      "vad.shape(381,)\n",
      "features.shape(62, 214)\n",
      "vad.shape(214,)\n",
      "features.shape(62, 239)\n",
      "vad.shape(239,)\n",
      "features.shape(62, 436)\n",
      "vad.shape(436,)\n",
      "features.shape(62, 282)\n",
      "vad.shape(282,)\n",
      "features.shape(62, 333)\n",
      "vad.shape(333,)\n",
      "features.shape(62, 300)\n",
      "vad.shape(300,)\n",
      "features.shape(62, 308)\n",
      "vad.shape(308,)\n",
      "features.shape(62, 197)\n",
      "vad.shape(197,)\n",
      "features.shape(62, 214)\n",
      "vad.shape(214,)\n",
      "features.shape(62, 346)\n",
      "vad.shape(346,)\n",
      "features.shape(62, 278)\n",
      "vad.shape(278,)\n",
      "features.shape(62, 389)\n",
      "vad.shape(389,)\n",
      "features.shape(62, 261)\n",
      "vad.shape(261,)\n",
      "features.shape(62, 389)\n",
      "vad.shape(389,)\n",
      "features.shape(62, 282)\n",
      "vad.shape(282,)\n",
      "features.shape(62, 781)\n",
      "vad.shape(781,)\n",
      "features.shape(62, 504)\n",
      "vad.shape(504,)\n",
      "features.shape(62, 299)\n",
      "vad.shape(299,)\n"
     ]
    },
    {
     "name": "stderr",
     "output_type": "stream",
     "text": [
      " 94%|█████████▍| 1160/1229 [00:15<00:00, 102.00it/s]"
     ]
    },
    {
     "name": "stdout",
     "output_type": "stream",
     "text": [
      "features.shape(62, 432)\n",
      "vad.shape(432,)\n",
      "features.shape(62, 253)\n",
      "vad.shape(253,)\n",
      "features.shape(62, 586)\n",
      "vad.shape(586,)\n",
      "features.shape(62, 325)\n",
      "vad.shape(325,)\n",
      "features.shape(62, 269)\n",
      "vad.shape(269,)\n",
      "features.shape(62, 513)\n",
      "vad.shape(513,)\n",
      "features.shape(62, 419)\n",
      "vad.shape(419,)\n",
      "features.shape(62, 381)\n",
      "vad.shape(381,)\n",
      "features.shape(62, 261)\n",
      "vad.shape(261,)\n",
      "features.shape(62, 543)\n",
      "vad.shape(543,)\n",
      "features.shape(62, 231)\n",
      "vad.shape(231,)\n",
      "features.shape(62, 329)\n",
      "vad.shape(329,)\n",
      "features.shape(62, 483)\n",
      "vad.shape(483,)\n",
      "features.shape(62, 282)\n",
      "vad.shape(282,)\n",
      "features.shape(62, 559)\n",
      "vad.shape(559,)\n",
      "features.shape(62, 244)\n",
      "vad.shape(244,)\n"
     ]
    },
    {
     "name": "stderr",
     "output_type": "stream",
     "text": [
      " 96%|█████████▌| 1182/1229 [00:15<00:00, 98.35it/s] "
     ]
    },
    {
     "name": "stdout",
     "output_type": "stream",
     "text": [
      "features.shape(62, 581)\n",
      "vad.shape(581,)\n",
      "features.shape(62, 653)\n",
      "vad.shape(653,)\n",
      "features.shape(62, 628)\n",
      "vad.shape(628,)\n",
      "features.shape(62, 683)\n",
      "vad.shape(683,)\n",
      "features.shape(62, 551)\n",
      "vad.shape(551,)\n",
      "features.shape(62, 662)\n",
      "vad.shape(662,)\n",
      "features.shape(62, 257)\n",
      "vad.shape(257,)\n",
      "features.shape(62, 308)\n",
      "vad.shape(308,)\n",
      "features.shape(62, 265)\n",
      "vad.shape(265,)\n",
      "features.shape(62, 598)\n",
      "vad.shape(598,)\n",
      "features.shape(62, 308)\n",
      "vad.shape(308,)\n",
      "features.shape(62, 308)\n",
      "vad.shape(308,)\n",
      "features.shape(62, 590)\n",
      "vad.shape(590,)\n",
      "features.shape(62, 248)\n",
      "vad.shape(248,)\n",
      "features.shape(62, 402)\n",
      "vad.shape(402,)\n",
      "features.shape(62, 402)\n",
      "vad.shape(402,)\n",
      "features.shape(62, 628)\n",
      "vad.shape(628,)\n",
      "features.shape(62, 1025)\n"
     ]
    },
    {
     "name": "stderr",
     "output_type": "stream",
     "text": [
      " 97%|█████████▋| 1192/1229 [00:15<00:00, 73.91it/s]"
     ]
    },
    {
     "name": "stdout",
     "output_type": "stream",
     "text": [
      "vad.shape(1025,)\n",
      "features.shape(62, 312)\n",
      "vad.shape(312,)\n",
      "features.shape(62, 287)\n",
      "vad.shape(287,)\n",
      "features.shape(62, 449)\n",
      "vad.shape(449,)\n",
      "features.shape(62, 227)\n",
      "vad.shape(227,)\n",
      "features.shape(62, 308)\n",
      "vad.shape(308,)\n",
      "features.shape(62, 893)\n",
      "vad.shape(893,)\n",
      "features.shape(62, 747)\n",
      "vad.shape(747,)\n",
      "features.shape(62, 351)\n",
      "vad.shape(351,)\n",
      "features.shape(62, 440)\n",
      "vad.shape(440,)\n",
      "features.shape(62, 304)\n",
      "vad.shape(304,)\n",
      "features.shape(62, 526)\n",
      "vad.shape(526,)\n",
      "features.shape(62, 312)\n"
     ]
    },
    {
     "name": "stderr",
     "output_type": "stream",
     "text": [
      " 99%|█████████▊| 1212/1229 [00:15<00:00, 83.94it/s]"
     ]
    },
    {
     "name": "stdout",
     "output_type": "stream",
     "text": [
      "vad.shape(312,)\n",
      "features.shape(62, 487)\n",
      "vad.shape(487,)\n",
      "features.shape(62, 611)\n",
      "vad.shape(611,)\n",
      "features.shape(62, 269)\n",
      "vad.shape(269,)\n",
      "features.shape(62, 283)\n",
      "vad.shape(283,)\n",
      "features.shape(62, 436)\n",
      "vad.shape(436,)\n",
      "features.shape(62, 338)\n",
      "vad.shape(338,)\n",
      "features.shape(62, 300)\n",
      "vad.shape(300,)\n",
      "features.shape(62, 543)\n",
      "vad.shape(543,)\n",
      "features.shape(62, 462)\n",
      "vad.shape(462,)\n",
      "features.shape(62, 389)\n",
      "vad.shape(389,)\n",
      "features.shape(62, 534)\n",
      "vad.shape(534,)\n",
      "features.shape(62, 628)\n",
      "vad.shape(628,)\n",
      "features.shape(62, 504)\n",
      "vad.shape(504,)\n",
      "features.shape(62, 223)\n",
      "vad.shape(223,)\n",
      "features.shape(62, 470)\n",
      "vad.shape(470,)\n",
      "features.shape(62, 359)\n",
      "vad.shape(359,)\n",
      "features.shape(62, 244)\n",
      "vad.shape(244,)\n",
      "features.shape(62, 436)\n",
      "vad.shape(436,)\n",
      "features.shape(62, 428)\n",
      "vad.shape(428,)\n",
      "features.shape(62, 261)\n",
      "vad.shape(261,)\n",
      "features.shape(62, 645)\n"
     ]
    },
    {
     "name": "stderr",
     "output_type": "stream",
     "text": [
      "100%|██████████| 1229/1229 [00:16<00:00, 76.29it/s]\n"
     ]
    },
    {
     "name": "stdout",
     "output_type": "stream",
     "text": [
      "vad.shape(645,)\n",
      "features.shape(62, 606)\n",
      "vad.shape(606,)\n",
      "features.shape(62, 624)\n",
      "vad.shape(624,)\n",
      "features.shape(62, 491)\n",
      "vad.shape(491,)\n",
      "features.shape(62, 308)\n",
      "vad.shape(308,)\n",
      "features.shape(62, 338)\n",
      "vad.shape(338,)\n",
      "features.shape(62, 300)\n",
      "vad.shape(300,)\n",
      "features.shape(62, 312)\n",
      "vad.shape(312,)\n",
      "features.shape(62, 317)\n",
      "vad.shape(317,)\n",
      "features.shape(62, 667)\n",
      "vad.shape(667,)\n"
     ]
    }
   ],
   "source": [
    "# Instantiate one generator for training, validation and test data\n",
    "\n",
    "train_data = GenData(data_path, split='train', batch_size=32)\n",
    "val_data = GenData(data_path, split='val', batch_size=32)\n",
    "test_data = GenData(data_path, split='test', batch_size=32)"
   ]
  },
  {
   "cell_type": "code",
   "execution_count": 79,
   "metadata": {
    "collapsed": false,
    "pycharm": {
     "name": "#%%\n"
    }
   },
   "outputs": [
    {
     "name": "stdout",
     "output_type": "stream",
     "text": [
      "x_train_0.shape:  (32, 180, 62)\n",
      "y_train_0.shape:  (32, 180)\n",
      "train_data len:  199\n"
     ]
    },
    {
     "data": {
      "text/plain": [
       "[<matplotlib.lines.Line2D at 0x23d7470db40>]"
      ]
     },
     "execution_count": 79,
     "metadata": {},
     "output_type": "execute_result"
    },
    {
     "data": {
      "application/vnd.jupyter.widget-view+json": {
       "model_id": "e24d4942232f46ebadf4c4da5d040313",
       "version_major": 2,
       "version_minor": 0
      },
      "image/png": "[encoded data removed]",
      "text/html": [
       "\n",
       "            <div style=\"display: inline-block;\">\n",
       "                <div class=\"jupyter-widgets widget-label\" style=\"text-align: center;\">\n",
       "                    Figure\n",
       "                </div>\n",
       "                <img src='data:image/png;base64,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' width=640.0/>\n",
       "            </div>\n",
       "        "
      ],
      "text/plain": [
       "Canvas(toolbar=Toolbar(toolitems=[('Home', 'Reset original view', 'home', 'home'), ('Back', 'Back to previous …"
      ]
     },
     "metadata": {},
     "output_type": "display_data"
    }
   ],
   "source": [
    "# draw one batch from the training generator\n",
    "x_train_0, y_train_0 = train_data[1]\n",
    "print(\"x_train_0.shape: \",x_train_0.shape)\n",
    "print(\"y_train_0.shape: \",y_train_0.shape)\n",
    "\n",
    "# check length of training generator\n",
    "print(\"train_data len: \",len(train_data))\n",
    "\n",
    "# check if we can iterate whole generator\n",
    "for x, y in train_data:\n",
    "    pass\n",
    "\n",
    "# plot targets for 1st sentence of a batch\n",
    "plt.figure()\n",
    "plt.plot(y[0,:])"
   ]
  },
  {
   "cell_type": "markdown",
   "metadata": {
    "collapsed": false
   },
   "source": [
    "## 2: Feedforward Network"
   ]
  },
  {
   "cell_type": "code",
   "execution_count": 85,
   "metadata": {
    "collapsed": false,
    "pycharm": {
     "name": "#%%\n"
    }
   },
   "outputs": [],
   "source": [
    "from tensorflow.keras.layers import Dense, BatchNormalization, Dropout, Activation\n",
    "from tensorflow.keras.metrics import BinaryAccuracy\n",
    "from tensorflow.keras.models import Sequential\n",
    "from tensorflow.keras.optimizers import Adam\n",
    "from tensorflow.keras.layers import Dense, BatchNormalization, Dropout, ReLU, Activation, Input\n",
    "\n",
    "from tensorflow.keras.losses import BinaryCrossentropy # TODO: which loss should be used?\n",
    "\n",
    "def build_feedforward_model(num_neurons=128, num_blocks=2, dropout_rate=0.15, learning_rate=1E-4):\n",
    "\n",
    "    model = Sequential()\n",
    "    model.add(Input(shape=(None,62)))\n",
    "\n",
    "    for _ in range(num_blocks):\n",
    "        model.add(Dense(num_neurons))\n",
    "        model.add(ReLU())\n",
    "        model.add(BatchNormalization())\n",
    "        model.add(Dropout(dropout_rate))\n",
    "    \n",
    "    # Output layer\n",
    "    model.add(Dense(1))  #Output size=1, common practice for binary classification\n",
    "    model.add(Activation('sigmoid'))  # Sigmoid is common practice for binary classification\n",
    "\n",
    "    # Compile the model\n",
    "    model.compile(\n",
    "        optimizer=Adam(learning_rate=learning_rate),\n",
    "        loss=BinaryCrossentropy(),\n",
    "        metrics=[BinaryAccuracy()]\n",
    "    )\n",
    "\n",
    "    return model"
   ]
  },
  {
   "cell_type": "code",
   "execution_count": 86,
   "metadata": {},
   "outputs": [
    {
     "name": "stderr",
     "output_type": "stream",
     "text": [
      "c:\\Users\\kaspe\\OneDrive - Aalto University\\RWTH\\Courses\\61.00004 Audio Processing Using Python\\code prerequisites-20240421\\venv\\lib\\site-packages\\keras\\src\\trainers\\data_adapters\\py_dataset_adapter.py:120: UserWarning: Your `PyDataset` class should call `super().__init__(**kwargs)` in its constructor. `**kwargs` can include `workers`, `use_multiprocessing`, `max_queue_size`. Do not pass these arguments to `fit()`, as they will be ignored.\n",
      "  self._warn_if_super_not_called()\n"
     ]
    },
    {
     "name": "stdout",
     "output_type": "stream",
     "text": [
      "\u001b[1m199/199\u001b[0m \u001b[32m━━━━━━━━━━━━━━━━━━━━\u001b[0m\u001b[37m\u001b[0m \u001b[1m67s\u001b[0m 302ms/step - binary_accuracy: 0.5485 - loss: 0.8200 - val_binary_accuracy: 0.5840 - val_loss: 0.6655\n"
     ]
    }
   ],
   "source": [
    "# test for 1 epochs ...\n",
    "model_ff = build_feedforward_model()\n",
    "history_ff = model_ff.fit(train_data, validation_data=val_data, epochs=1)"
   ]
  },
  {
   "cell_type": "markdown",
   "metadata": {},
   "source": [
    "## 3. Evaluation Function"
   ]
  },
  {
   "cell_type": "code",
   "execution_count": 94,
   "metadata": {},
   "outputs": [],
   "source": [
    "def evaluate(model, test_data):\n",
    "    # Evaluate the model on test data\n",
    "    loss, accuracy = model.evaluate(test_data)\n",
    "    print(f\"Test Loss: {loss}\")\n",
    "    print(f\"Test Accuracy: {accuracy}\")\n",
    "    \n",
    "    # Print the number of model parameters\n",
    "    num_params = model.count_params()\n",
    "    print(f\"Number of model parameters: {num_params}\")\n",
    "    \n",
    "    # Select a sample from the test data\n",
    "    sample_idx = 0  # You can choose any index, here we take the first one\n",
    "    sample_features, sample_probabilities = test_data[0]\n",
    "    \n",
    "    # Predict using the model\n",
    "    sample_prediction = model.predict(sample_features)\n",
    "    \n",
    "    # Plot the true targets and predictions\n",
    "    plt.figure(figsize=(10, 6))\n",
    "    plt.plot(sample_probabilities, 'bo', label='Sample True Probabilities')\n",
    "    plt.plot(sample_prediction, 'ro', label='Prediction')\n",
    "    plt.title('True Target vs Prediction')\n",
    "    plt.xlabel('Sample Index')\n",
    "    plt.ylabel('Probability')\n",
    "    plt.legend()\n",
    "    plt.show()"
   ]
  },
  {
   "cell_type": "code",
   "execution_count": 95,
   "metadata": {
    "collapsed": false,
    "pycharm": {
     "name": "#%%\n"
    }
   },
   "outputs": [
    {
     "name": "stdout",
     "output_type": "stream",
     "text": [
      "\u001b[1m199/199\u001b[0m \u001b[32m━━━━━━━━━━━━━━━━━━━━\u001b[0m\u001b[37m\u001b[0m \u001b[1m15s\u001b[0m 73ms/step - binary_accuracy: 0.6343 - loss: 0.6387\n",
      "Test Loss: 0.6396359801292419\n",
      "Test Accuracy: 0.6323503851890564\n",
      "Number of model parameters: 25729\n",
      "\u001b[1m1/1\u001b[0m \u001b[32m━━━━━━━━━━━━━━━━━━━━\u001b[0m\u001b[37m\u001b[0m \u001b[1m1s\u001b[0m 577ms/step\n"
     ]
    },
    {
     "ename": "ValueError",
     "evalue": "x and y can be no greater than 2D, but have shapes (32,) and (32, 206, 1)",
     "output_type": "error",
     "traceback": [
      "\u001b[1;31m---------------------------------------------------------------------------\u001b[0m",
      "\u001b[1;31mValueError\u001b[0m                                Traceback (most recent call last)",
      "Cell \u001b[1;32mIn[95], line 1\u001b[0m\n\u001b[1;32m----> 1\u001b[0m \u001b[43mevaluate\u001b[49m\u001b[43m(\u001b[49m\u001b[43mmodel_ff\u001b[49m\u001b[43m,\u001b[49m\u001b[43m \u001b[49m\u001b[43mtrain_data\u001b[49m\u001b[43m)\u001b[49m\n",
      "Cell \u001b[1;32mIn[94], line 21\u001b[0m, in \u001b[0;36mevaluate\u001b[1;34m(model, test_data)\u001b[0m\n\u001b[0;32m     19\u001b[0m plt\u001b[38;5;241m.\u001b[39mfigure(figsize\u001b[38;5;241m=\u001b[39m(\u001b[38;5;241m10\u001b[39m, \u001b[38;5;241m6\u001b[39m))\n\u001b[0;32m     20\u001b[0m plt\u001b[38;5;241m.\u001b[39mplot(sample_probabilities, \u001b[38;5;124m'\u001b[39m\u001b[38;5;124mbo\u001b[39m\u001b[38;5;124m'\u001b[39m, label\u001b[38;5;241m=\u001b[39m\u001b[38;5;124m'\u001b[39m\u001b[38;5;124mSample True Probabilities\u001b[39m\u001b[38;5;124m'\u001b[39m)\n\u001b[1;32m---> 21\u001b[0m \u001b[43mplt\u001b[49m\u001b[38;5;241;43m.\u001b[39;49m\u001b[43mplot\u001b[49m\u001b[43m(\u001b[49m\u001b[43msample_prediction\u001b[49m\u001b[43m,\u001b[49m\u001b[43m \u001b[49m\u001b[38;5;124;43m'\u001b[39;49m\u001b[38;5;124;43mro\u001b[39;49m\u001b[38;5;124;43m'\u001b[39;49m\u001b[43m,\u001b[49m\u001b[43m \u001b[49m\u001b[43mlabel\u001b[49m\u001b[38;5;241;43m=\u001b[39;49m\u001b[38;5;124;43m'\u001b[39;49m\u001b[38;5;124;43mPrediction\u001b[39;49m\u001b[38;5;124;43m'\u001b[39;49m\u001b[43m)\u001b[49m\n\u001b[0;32m     22\u001b[0m plt\u001b[38;5;241m.\u001b[39mtitle(\u001b[38;5;124m'\u001b[39m\u001b[38;5;124mTrue Target vs Prediction\u001b[39m\u001b[38;5;124m'\u001b[39m)\n\u001b[0;32m     23\u001b[0m plt\u001b[38;5;241m.\u001b[39mxlabel(\u001b[38;5;124m'\u001b[39m\u001b[38;5;124mSample Index\u001b[39m\u001b[38;5;124m'\u001b[39m)\n",
      "File \u001b[1;32mc:\\Users\\kaspe\\OneDrive - Aalto University\\RWTH\\Courses\\61.00004 Audio Processing Using Python\\code prerequisites-20240421\\venv\\lib\\site-packages\\matplotlib\\pyplot.py:3590\u001b[0m, in \u001b[0;36mplot\u001b[1;34m(scalex, scaley, data, *args, **kwargs)\u001b[0m\n\u001b[0;32m   3582\u001b[0m \u001b[38;5;129m@_copy_docstring_and_deprecators\u001b[39m(Axes\u001b[38;5;241m.\u001b[39mplot)\n\u001b[0;32m   3583\u001b[0m \u001b[38;5;28;01mdef\u001b[39;00m \u001b[38;5;21mplot\u001b[39m(\n\u001b[0;32m   3584\u001b[0m     \u001b[38;5;241m*\u001b[39margs: \u001b[38;5;28mfloat\u001b[39m \u001b[38;5;241m|\u001b[39m ArrayLike \u001b[38;5;241m|\u001b[39m \u001b[38;5;28mstr\u001b[39m,\n\u001b[1;32m   (...)\u001b[0m\n\u001b[0;32m   3588\u001b[0m     \u001b[38;5;241m*\u001b[39m\u001b[38;5;241m*\u001b[39mkwargs,\n\u001b[0;32m   3589\u001b[0m ) \u001b[38;5;241m-\u001b[39m\u001b[38;5;241m>\u001b[39m \u001b[38;5;28mlist\u001b[39m[Line2D]:\n\u001b[1;32m-> 3590\u001b[0m     \u001b[38;5;28;01mreturn\u001b[39;00m gca()\u001b[38;5;241m.\u001b[39mplot(\n\u001b[0;32m   3591\u001b[0m         \u001b[38;5;241m*\u001b[39margs,\n\u001b[0;32m   3592\u001b[0m         scalex\u001b[38;5;241m=\u001b[39mscalex,\n\u001b[0;32m   3593\u001b[0m         scaley\u001b[38;5;241m=\u001b[39mscaley,\n\u001b[0;32m   3594\u001b[0m         \u001b[38;5;241m*\u001b[39m\u001b[38;5;241m*\u001b[39m({\u001b[38;5;124m\"\u001b[39m\u001b[38;5;124mdata\u001b[39m\u001b[38;5;124m\"\u001b[39m: data} \u001b[38;5;28;01mif\u001b[39;00m data \u001b[38;5;129;01mis\u001b[39;00m \u001b[38;5;129;01mnot\u001b[39;00m \u001b[38;5;28;01mNone\u001b[39;00m \u001b[38;5;28;01melse\u001b[39;00m {}),\n\u001b[0;32m   3595\u001b[0m         \u001b[38;5;241m*\u001b[39m\u001b[38;5;241m*\u001b[39mkwargs,\n\u001b[0;32m   3596\u001b[0m     )\n",
      "File \u001b[1;32mc:\\Users\\kaspe\\OneDrive - Aalto University\\RWTH\\Courses\\61.00004 Audio Processing Using Python\\code prerequisites-20240421\\venv\\lib\\site-packages\\matplotlib\\axes\\_axes.py:1724\u001b[0m, in \u001b[0;36mAxes.plot\u001b[1;34m(self, scalex, scaley, data, *args, **kwargs)\u001b[0m\n\u001b[0;32m   1481\u001b[0m \u001b[38;5;250m\u001b[39m\u001b[38;5;124;03m\"\"\"\u001b[39;00m\n\u001b[0;32m   1482\u001b[0m \u001b[38;5;124;03mPlot y versus x as lines and/or markers.\u001b[39;00m\n\u001b[0;32m   1483\u001b[0m \n\u001b[1;32m   (...)\u001b[0m\n\u001b[0;32m   1721\u001b[0m \u001b[38;5;124;03m(``'green'``) or hex strings (``'#008000'``).\u001b[39;00m\n\u001b[0;32m   1722\u001b[0m \u001b[38;5;124;03m\"\"\"\u001b[39;00m\n\u001b[0;32m   1723\u001b[0m kwargs \u001b[38;5;241m=\u001b[39m cbook\u001b[38;5;241m.\u001b[39mnormalize_kwargs(kwargs, mlines\u001b[38;5;241m.\u001b[39mLine2D)\n\u001b[1;32m-> 1724\u001b[0m lines \u001b[38;5;241m=\u001b[39m [\u001b[38;5;241m*\u001b[39m\u001b[38;5;28mself\u001b[39m\u001b[38;5;241m.\u001b[39m_get_lines(\u001b[38;5;28mself\u001b[39m, \u001b[38;5;241m*\u001b[39margs, data\u001b[38;5;241m=\u001b[39mdata, \u001b[38;5;241m*\u001b[39m\u001b[38;5;241m*\u001b[39mkwargs)]\n\u001b[0;32m   1725\u001b[0m \u001b[38;5;28;01mfor\u001b[39;00m line \u001b[38;5;129;01min\u001b[39;00m lines:\n\u001b[0;32m   1726\u001b[0m     \u001b[38;5;28mself\u001b[39m\u001b[38;5;241m.\u001b[39madd_line(line)\n",
      "File \u001b[1;32mc:\\Users\\kaspe\\OneDrive - Aalto University\\RWTH\\Courses\\61.00004 Audio Processing Using Python\\code prerequisites-20240421\\venv\\lib\\site-packages\\matplotlib\\axes\\_base.py:303\u001b[0m, in \u001b[0;36m_process_plot_var_args.__call__\u001b[1;34m(self, axes, data, *args, **kwargs)\u001b[0m\n\u001b[0;32m    301\u001b[0m     this \u001b[38;5;241m+\u001b[39m\u001b[38;5;241m=\u001b[39m args[\u001b[38;5;241m0\u001b[39m],\n\u001b[0;32m    302\u001b[0m     args \u001b[38;5;241m=\u001b[39m args[\u001b[38;5;241m1\u001b[39m:]\n\u001b[1;32m--> 303\u001b[0m \u001b[38;5;28;01myield from\u001b[39;00m \u001b[38;5;28;43mself\u001b[39;49m\u001b[38;5;241;43m.\u001b[39;49m\u001b[43m_plot_args\u001b[49m\u001b[43m(\u001b[49m\n\u001b[0;32m    304\u001b[0m \u001b[43m    \u001b[49m\u001b[43maxes\u001b[49m\u001b[43m,\u001b[49m\u001b[43m \u001b[49m\u001b[43mthis\u001b[49m\u001b[43m,\u001b[49m\u001b[43m \u001b[49m\u001b[43mkwargs\u001b[49m\u001b[43m,\u001b[49m\u001b[43m \u001b[49m\u001b[43mambiguous_fmt_datakey\u001b[49m\u001b[38;5;241;43m=\u001b[39;49m\u001b[43mambiguous_fmt_datakey\u001b[49m\u001b[43m)\u001b[49m\n",
      "File \u001b[1;32mc:\\Users\\kaspe\\OneDrive - Aalto University\\RWTH\\Courses\\61.00004 Audio Processing Using Python\\code prerequisites-20240421\\venv\\lib\\site-packages\\matplotlib\\axes\\_base.py:502\u001b[0m, in \u001b[0;36m_process_plot_var_args._plot_args\u001b[1;34m(self, axes, tup, kwargs, return_kwargs, ambiguous_fmt_datakey)\u001b[0m\n\u001b[0;32m    499\u001b[0m     \u001b[38;5;28;01mraise\u001b[39;00m \u001b[38;5;167;01mValueError\u001b[39;00m(\u001b[38;5;124mf\u001b[39m\u001b[38;5;124m\"\u001b[39m\u001b[38;5;124mx and y must have same first dimension, but \u001b[39m\u001b[38;5;124m\"\u001b[39m\n\u001b[0;32m    500\u001b[0m                      \u001b[38;5;124mf\u001b[39m\u001b[38;5;124m\"\u001b[39m\u001b[38;5;124mhave shapes \u001b[39m\u001b[38;5;132;01m{\u001b[39;00mx\u001b[38;5;241m.\u001b[39mshape\u001b[38;5;132;01m}\u001b[39;00m\u001b[38;5;124m and \u001b[39m\u001b[38;5;132;01m{\u001b[39;00my\u001b[38;5;241m.\u001b[39mshape\u001b[38;5;132;01m}\u001b[39;00m\u001b[38;5;124m\"\u001b[39m)\n\u001b[0;32m    501\u001b[0m \u001b[38;5;28;01mif\u001b[39;00m x\u001b[38;5;241m.\u001b[39mndim \u001b[38;5;241m>\u001b[39m \u001b[38;5;241m2\u001b[39m \u001b[38;5;129;01mor\u001b[39;00m y\u001b[38;5;241m.\u001b[39mndim \u001b[38;5;241m>\u001b[39m \u001b[38;5;241m2\u001b[39m:\n\u001b[1;32m--> 502\u001b[0m     \u001b[38;5;28;01mraise\u001b[39;00m \u001b[38;5;167;01mValueError\u001b[39;00m(\u001b[38;5;124mf\u001b[39m\u001b[38;5;124m\"\u001b[39m\u001b[38;5;124mx and y can be no greater than 2D, but have \u001b[39m\u001b[38;5;124m\"\u001b[39m\n\u001b[0;32m    503\u001b[0m                      \u001b[38;5;124mf\u001b[39m\u001b[38;5;124m\"\u001b[39m\u001b[38;5;124mshapes \u001b[39m\u001b[38;5;132;01m{\u001b[39;00mx\u001b[38;5;241m.\u001b[39mshape\u001b[38;5;132;01m}\u001b[39;00m\u001b[38;5;124m and \u001b[39m\u001b[38;5;132;01m{\u001b[39;00my\u001b[38;5;241m.\u001b[39mshape\u001b[38;5;132;01m}\u001b[39;00m\u001b[38;5;124m\"\u001b[39m)\n\u001b[0;32m    504\u001b[0m \u001b[38;5;28;01mif\u001b[39;00m x\u001b[38;5;241m.\u001b[39mndim \u001b[38;5;241m==\u001b[39m \u001b[38;5;241m1\u001b[39m:\n\u001b[0;32m    505\u001b[0m     x \u001b[38;5;241m=\u001b[39m x[:, np\u001b[38;5;241m.\u001b[39mnewaxis]\n",
      "\u001b[1;31mValueError\u001b[0m: x and y can be no greater than 2D, but have shapes (32,) and (32, 206, 1)"
     ]
    },
    {
     "data": {
      "application/vnd.jupyter.widget-view+json": {
       "model_id": "a24ce50bd34c4fdeb5fd46ec47cd421e",
       "version_major": 2,
       "version_minor": 0
      },
      "image/png": "[encoded data removed]",
      "text/html": [
       "\n",
       "            <div style=\"display: inline-block;\">\n",
       "                <div class=\"jupyter-widgets widget-label\" style=\"text-align: center;\">\n",
       "                    Figure\n",
       "                </div>\n",
       "                <img src='data:image/png;base64,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' width=1000.0/>\n",
       "            </div>\n",
       "        "
      ],
      "text/plain": [
       "Canvas(toolbar=Toolbar(toolitems=[('Home', 'Reset original view', 'home', 'home'), ('Back', 'Back to previous …"
      ]
     },
     "metadata": {},
     "output_type": "display_data"
    }
   ],
   "source": [
    "evaluate(model_ff, train_data)"
   ]
  },
  {
   "cell_type": "markdown",
   "metadata": {},
   "source": [
    "## 4. First Real Training"
   ]
  },
  {
   "cell_type": "code",
   "execution_count": null,
   "metadata": {
    "collapsed": false,
    "pycharm": {
     "name": "#%%\n"
    }
   },
   "outputs": [],
   "source": [
    "# ... and with 15 more epochs\n",
    "model_ff = build_feedforward_model()\n",
    "history_ff = model_ff.fit(train_data, validation_data=val_data, epochs=14)\n",
    "evaluate(model_ff, test_data)"
   ]
  },
  {
   "cell_type": "markdown",
   "metadata": {
    "collapsed": false
   },
   "source": [
    "## 5: A Recurrent Model"
   ]
  },
  {
   "cell_type": "code",
   "execution_count": null,
   "metadata": {
    "collapsed": false,
    "pycharm": {
     "name": "#%%\n"
    }
   },
   "outputs": [],
   "source": [
    "from tensorflow.keras.layers import LSTM\n",
    "\n",
    "def build_lstm_model(num_neurons=32, num_blocks=2, learning_rate=1E-4):\n",
    "\n",
    "    model = Sequential()\n",
    "\n",
    "    # TODO: construct & compile model\n",
    "\n",
    "    return model"
   ]
  },
  {
   "cell_type": "code",
   "execution_count": null,
   "metadata": {
    "collapsed": false,
    "pycharm": {
     "name": "#%%\n"
    }
   },
   "outputs": [],
   "source": [
    "# test with 1 epoch ...\n",
    "model_lstm = build_lstm_model()\n",
    "history_lstm = model_lstm.fit(train_data, validation_data=val_data, epochs=1)\n",
    "evaluate(model_lstm, test_data)"
   ]
  },
  {
   "cell_type": "code",
   "execution_count": null,
   "metadata": {},
   "outputs": [],
   "source": [
    "# ... and with 15\n",
    "model_lstm = build_lstm_model()\n",
    "history_lstm = model_lstm.fit(train_data, validation_data=val_data, epochs=15)\n",
    "evaluate(model_lstm, test_data)"
   ]
  },
  {
   "cell_type": "markdown",
   "metadata": {
    "collapsed": false
   },
   "source": [
    "## 6: Different Learning Rates"
   ]
  },
  {
   "cell_type": "code",
   "execution_count": null,
   "metadata": {
    "collapsed": false,
    "pycharm": {
     "name": "#%%\n"
    }
   },
   "outputs": [],
   "source": [
    "learning_rates = [1E-4, 1E-3, 1E-2]\n",
    "histories = []\n",
    "\n",
    "# TODO: build and train models for different learning rates"
   ]
  },
  {
   "cell_type": "code",
   "execution_count": null,
   "metadata": {},
   "outputs": [],
   "source": [
    "# TODO: compare loss over epoch for different learning rates"
   ]
  }
 ],
 "metadata": {
  "interpreter": {
   "hash": "b576286d6e9b828d15dac98996e9baf69d8551f34156323e33f5830a513e0082"
  },
  "kernelspec": {
   "display_name": "Python 3.8.8 ('venv': venv)",
   "language": "python",
   "name": "python3"
  },
  "language_info": {
   "codemirror_mode": {
    "name": "ipython",
    "version": 3
   },
   "file_extension": ".py",
   "mimetype": "text/x-python",
   "name": "python",
   "nbconvert_exporter": "python",
   "pygments_lexer": "ipython3",
   "version": "3.10.5"
  }
 },
 "nbformat": 4,
 "nbformat_minor": 0
}
