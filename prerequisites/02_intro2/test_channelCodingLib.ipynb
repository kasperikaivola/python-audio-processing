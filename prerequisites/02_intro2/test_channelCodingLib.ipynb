{
 "cells": [
  {
   "cell_type": "markdown",
   "metadata": {},
   "source": [
    "# Session 2: Block Codes"
   ]
  },
  {
   "cell_type": "code",
   "execution_count": 62,
   "metadata": {},
   "outputs": [
    {
     "name": "stdout",
     "output_type": "stream",
     "text": [
      "The autoreload extension is already loaded. To reload it, use:\n",
      "  %reload_ext autoreload\n"
     ]
    }
   ],
   "source": [
    "# automatically reload channelCodingLib if it is altered and used in the\n",
    "# notebook\n",
    "%load_ext autoreload\n",
    "%autoreload 2\n",
    "%matplotlib widget\n",
    "\n",
    "from channelCodingLib import *\n",
    "\n",
    "import numpy as np"
   ]
  },
  {
   "cell_type": "markdown",
   "metadata": {},
   "source": [
    "## 2.1.1"
   ]
  },
  {
   "cell_type": "code",
   "execution_count": 75,
   "metadata": {},
   "outputs": [
    {
     "data": {
      "text/plain": [
       "(array([[1, 0, 0, 0, 0, 1, 1, 1, 0, 1, 1, 0, 0, 1, 0],\n",
       "        [0, 1, 0, 0, 0, 0, 1, 1, 1, 0, 1, 1, 0, 0, 1],\n",
       "        [0, 0, 1, 0, 0, 1, 1, 0, 1, 0, 1, 1, 1, 1, 0],\n",
       "        [0, 0, 0, 1, 0, 0, 1, 1, 0, 1, 0, 1, 1, 1, 1],\n",
       "        [0, 0, 0, 0, 1, 1, 1, 0, 1, 1, 0, 0, 1, 0, 1]]),\n",
       " array([[1, 0, 1, 0, 1, 1, 0, 0, 0, 0, 0, 0, 0, 0, 0],\n",
       "        [1, 1, 1, 1, 1, 0, 1, 0, 0, 0, 0, 0, 0, 0, 0],\n",
       "        [1, 1, 0, 1, 0, 0, 0, 1, 0, 0, 0, 0, 0, 0, 0],\n",
       "        [0, 1, 1, 0, 1, 0, 0, 0, 1, 0, 0, 0, 0, 0, 0],\n",
       "        [1, 0, 0, 1, 1, 0, 0, 0, 0, 1, 0, 0, 0, 0, 0],\n",
       "        [1, 1, 1, 0, 0, 0, 0, 0, 0, 0, 1, 0, 0, 0, 0],\n",
       "        [0, 1, 1, 1, 0, 0, 0, 0, 0, 0, 0, 1, 0, 0, 0],\n",
       "        [0, 0, 1, 1, 1, 0, 0, 0, 0, 0, 0, 0, 1, 0, 0],\n",
       "        [1, 0, 1, 1, 0, 0, 0, 0, 0, 0, 0, 0, 0, 1, 0],\n",
       "        [0, 1, 0, 1, 1, 0, 0, 0, 0, 0, 0, 0, 0, 0, 1]]))"
      ]
     },
     "execution_count": 75,
     "metadata": {},
     "output_type": "execute_result"
    }
   ],
   "source": [
    "p1 = np.array([1,1,0,1]) #n=4\n",
    "m1 = 7\n",
    "\n",
    "p2 = np.array([1,1,1,0,1,1,0,0,1,0,1]) #n=5\n",
    "m2 = 15\n",
    "\n",
    "# YOUR CODE HERE\n",
    "(genmat1,H1) = cyclgenmat(p1,m1, True) #4 rows, 7 columns\n",
    "(genmat2,H2) = cyclgenmat(p2,m2, True) # 5 rows, 15 columns\n",
    "\n",
    "(genmat2,H2)"
   ]
  },
  {
   "cell_type": "markdown",
   "metadata": {},
   "source": [
    "## 2.1.2 & 2.1.3"
   ]
  },
  {
   "cell_type": "code",
   "execution_count": 77,
   "metadata": {},
   "outputs": [
    {
     "data": {
      "text/plain": [
       "array([[1, 0, 1, 0, 1, 1, 0, 0, 0, 0, 0, 0, 0, 0, 0],\n",
       "       [1, 1, 1, 1, 1, 0, 1, 0, 0, 0, 0, 0, 0, 0, 0],\n",
       "       [1, 1, 0, 1, 0, 0, 0, 1, 0, 0, 0, 0, 0, 0, 0],\n",
       "       [0, 1, 1, 0, 1, 0, 0, 0, 1, 0, 0, 0, 0, 0, 0],\n",
       "       [1, 0, 0, 1, 1, 0, 0, 0, 0, 1, 0, 0, 0, 0, 0],\n",
       "       [1, 1, 1, 0, 0, 0, 0, 0, 0, 0, 1, 0, 0, 0, 0],\n",
       "       [0, 1, 1, 1, 0, 0, 0, 0, 0, 0, 0, 1, 0, 0, 0],\n",
       "       [0, 0, 1, 1, 1, 0, 0, 0, 0, 0, 0, 0, 1, 0, 0],\n",
       "       [1, 0, 1, 1, 0, 0, 0, 0, 0, 0, 0, 0, 0, 1, 0],\n",
       "       [0, 1, 0, 1, 1, 0, 0, 0, 0, 0, 0, 0, 0, 0, 1]])"
      ]
     },
     "execution_count": 77,
     "metadata": {},
     "output_type": "execute_result"
    }
   ],
   "source": [
    "# YOUR CODE HERE\n",
    "sys_genmat2 = genmatsys(genmat2)\n",
    "a = sys_genmat2[:,5:].T\n",
    "b = np.identity(10,dtype=int)\n",
    "P = np.concatenate((a,b),axis=1)\n",
    "P"
   ]
  },
  {
   "cell_type": "markdown",
   "metadata": {},
   "source": [
    "## 2.1.4"
   ]
  },
  {
   "cell_type": "code",
   "execution_count": 94,
   "metadata": {},
   "outputs": [
    {
     "name": "stdout",
     "output_type": "stream",
     "text": [
      "Y1:\n",
      "m [[0 0 0 0 0 0 0]\n",
      " [1 0 1 0 0 0 1]]\n",
      "Y2:\n",
      " [[0 0 0 0 0 0 0 0 0 0 0 0 0 0 0]\n",
      " [0 0 0 0 1 1 1 0 1 1 0 0 1 0 1]\n",
      " [0 1 0 1 1 1 1 0 0 0 1 0 0 1 1]]\n"
     ]
    }
   ],
   "source": [
    "# Information words for testing\n",
    "\n",
    "X1 = np.array([\n",
    "    [0, 0, 0, 0], \n",
    "    [1, 0, 1, 0]\n",
    "])\n",
    "\n",
    "X2 = np.array([\n",
    "    [0, 0, 0, 0, 0], \n",
    "    [0, 0, 0, 0, 1],\n",
    "    [0, 1, 0, 1, 1]\n",
    "])\n",
    "\n",
    "# YOUR CODE HERE\n",
    "y1 = encoder(genmat1,X1)\n",
    "print(\"Y1:\\nm\",y1)\n",
    "y2 = encoder(genmat2,X2)\n",
    "print(\"Y2:\\n\",y2)"
   ]
  },
  {
   "cell_type": "markdown",
   "metadata": {},
   "source": [
    "## 2.1.5"
   ]
  },
  {
   "cell_type": "code",
   "execution_count": 93,
   "metadata": {},
   "outputs": [
    {
     "ename": "TypeError",
     "evalue": "unsupported operand type(s) for *: 'int' and 'generator'",
     "output_type": "error",
     "traceback": [
      "\u001b[1;31m---------------------------------------------------------------------------\u001b[0m",
      "\u001b[1;31mTypeError\u001b[0m                                 Traceback (most recent call last)",
      "Cell \u001b[1;32mIn[93], line 2\u001b[0m\n\u001b[0;32m      1\u001b[0m \u001b[39m# YOUR CODE HERE\u001b[39;00m\n\u001b[1;32m----> 2\u001b[0m codefeatures(genmat1)\n",
      "File \u001b[1;32mc:\\Users\\kaspe\\OneDrive - Aalto University\\RWTH\\Courses\\61.00004 Audio Processing Using Python\\code prerequisites-20240421\\prerequisites\\02_intro2\\channelCodingLib.py:119\u001b[0m, in \u001b[0;36mcodefeatures\u001b[1;34m(G)\u001b[0m\n\u001b[0;32m    115\u001b[0m n \u001b[39m=\u001b[39m G\u001b[39m.\u001b[39mshape[\u001b[39m1\u001b[39m]\n\u001b[0;32m    117\u001b[0m infowordarray \u001b[39m=\u001b[39m np\u001b[39m.\u001b[39marray(de2bi(i,m) \u001b[39mfor\u001b[39;00m i \u001b[39min\u001b[39;00m \u001b[39mrange\u001b[39m(\u001b[39m2\u001b[39m\u001b[39m*\u001b[39m\u001b[39m*\u001b[39mm))\n\u001b[1;32m--> 119\u001b[0m encoded \u001b[39m=\u001b[39m encoder(infowordarray,G)\n\u001b[0;32m    121\u001b[0m weights \u001b[39m=\u001b[39m np\u001b[39m.\u001b[39msum(encoded,axis\u001b[39m=\u001b[39m\u001b[39m1\u001b[39m)\n\u001b[0;32m    123\u001b[0m min_dist \u001b[39m=\u001b[39m np\u001b[39m.\u001b[39mmin(weights[weights\u001b[39m>\u001b[39m\u001b[39m0\u001b[39m])\n",
      "File \u001b[1;32mc:\\Users\\kaspe\\OneDrive - Aalto University\\RWTH\\Courses\\61.00004 Audio Processing Using Python\\code prerequisites-20240421\\prerequisites\\02_intro2\\channelCodingLib.py:71\u001b[0m, in \u001b[0;36mencoder\u001b[1;34m(G, x)\u001b[0m\n\u001b[0;32m     70\u001b[0m \u001b[39mdef\u001b[39;00m \u001b[39mencoder\u001b[39m(G: np\u001b[39m.\u001b[39marray, x: np\u001b[39m.\u001b[39marray):\n\u001b[1;32m---> 71\u001b[0m     \u001b[39mreturn\u001b[39;00m np\u001b[39m.\u001b[39;49mdot(x,G)\u001b[39m%\u001b[39m\u001b[39m2\u001b[39m\n",
      "\u001b[1;31mTypeError\u001b[0m: unsupported operand type(s) for *: 'int' and 'generator'"
     ]
    }
   ],
   "source": [
    "# YOUR CODE HERE\n",
    "codefeatures(genmat1)"
   ]
  },
  {
   "cell_type": "markdown",
   "metadata": {},
   "source": [
    "## 2.1.6"
   ]
  },
  {
   "cell_type": "code",
   "execution_count": 95,
   "metadata": {},
   "outputs": [
    {
     "data": {
      "text/plain": [
       "(array([0, 0, 0, 0]), array([1, 0, 1, 0]))"
      ]
     },
     "execution_count": 95,
     "metadata": {},
     "output_type": "execute_result"
    }
   ],
   "source": [
    "# YOUR CODE HERE\n",
    "tuple(np.array([\n",
    "    [0, 0, 0, 0], \n",
    "    [1, 0, 1, 0]\n",
    "]))"
   ]
  },
  {
   "cell_type": "markdown",
   "metadata": {},
   "source": [
    "## 2.1.7 & 2.1.8"
   ]
  },
  {
   "cell_type": "code",
   "execution_count": null,
   "metadata": {},
   "outputs": [],
   "source": [
    "X1 = np.array([\n",
    "    [0, 0, 0, 0], \n",
    "    [1, 0, 1, 0]\n",
    "])\n",
    "\n",
    "X2 = np.array([\n",
    "    [0, 0, 0, 0, 0], \n",
    "    [0, 0, 0, 0, 1],\n",
    "    [0, 1, 0, 1, 1]\n",
    "])\n",
    "\n",
    "# YOUR CODE HERE"
   ]
  }
 ],
 "metadata": {
  "kernelspec": {
   "display_name": "venv",
   "language": "python",
   "name": "python3"
  },
  "language_info": {
   "codemirror_mode": {
    "name": "ipython",
    "version": 3
   },
   "file_extension": ".py",
   "mimetype": "text/x-python",
   "name": "python",
   "nbconvert_exporter": "python",
   "pygments_lexer": "ipython3",
   "version": "3.10.5"
  },
  "orig_nbformat": 4
 },
 "nbformat": 4,
 "nbformat_minor": 2
}
