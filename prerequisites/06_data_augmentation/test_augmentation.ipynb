{
 "cells": [
  {
   "cell_type": "code",
   "execution_count": null,
   "metadata": {},
   "outputs": [],
   "source": [
    "# automatically reload solution_augmentation if it is altered and used in the\n",
    "# notebook\n",
    "%load_ext autoreload\n",
    "%autoreload 2\n",
    "\n",
    "%matplotlib widget\n",
    "\n",
    "\n",
    "import os\n",
    "import librosa\n",
    "import numpy as np\n",
    "import matplotlib.pyplot as plt\n",
    "import sounddevice as sd\n",
    "\n",
    "from lib_augmentation import *\n",
    "\n",
    "data_path = os.path.expandvars('C:/Users/$USERNAME/Desktop/data/06_data_augmentation/')\n",
    "\n",
    "path_clean_speech = os.path.join(data_path, 'test/clean/')\n",
    "path_rirs = os.path.join(data_path, 'test/rir/')\n",
    "\n",
    "clean_speech, _ = librosa.load(os.path.join(path_clean_speech, 'p227_024.wav'), sr=16E3)\n",
    "clean_speech -= np.mean(clean_speech)\n",
    "\n",
    "noise1, _ = librosa.load(os.path.join(data_path, 'test/noise/1-137-A-32.wav'), sr=16E3)\n",
    "noise2, _ = librosa.load(os.path.join(data_path, 'test/noise/1-17092-A-27.wav'), sr=16E3)\n",
    "noise = np.concatenate((noise1, noise2))\n",
    "noise -= np.mean(noise)\n",
    "noise = noise[:len(clean_speech)]\n",
    "\n",
    "rir1, _ = librosa.load(os.path.join(path_rirs, '1221.wav'), sr=16E3)\n",
    "rir2, _ = librosa.load(os.path.join(path_rirs, '1201.wav'), sr=16E3)"
   ]
  },
  {
   "cell_type": "markdown",
   "metadata": {},
   "source": [
    "## 6.1 Voice Activity Detection"
   ]
  },
  {
   "cell_type": "markdown",
   "metadata": {},
   "source": [
    "##### Plot Histogram of Log Power"
   ]
  },
  {
   "cell_type": "code",
   "execution_count": null,
   "metadata": {},
   "outputs": [],
   "source": [
    "# YOUR CODE HERE"
   ]
  },
  {
   "cell_type": "markdown",
   "metadata": {},
   "source": [
    "##### Fit GMM and Show Mean & Variances"
   ]
  },
  {
   "cell_type": "code",
   "execution_count": null,
   "metadata": {},
   "outputs": [],
   "source": [
    "# YOUR CODE HERE"
   ]
  },
  {
   "cell_type": "markdown",
   "metadata": {},
   "source": [
    "##### Plot Gaussians in Histogram"
   ]
  },
  {
   "cell_type": "code",
   "execution_count": null,
   "metadata": {},
   "outputs": [],
   "source": [
    "def gaussian(x, m, cov):\n",
    "    \"\"\" Return probability for value(s) *x* of gaussian / normal distribution \n",
    "        with mean *m* and standard deviation *cov*\n",
    "    \"\"\"\n",
    "    std = np.sqrt(cov)\n",
    "    y = np.exp(-((x - m) / std)**2 / 2) / np.sqrt(2*np.pi) / std\n",
    "    return y\n",
    "\n",
    "# YOUR CODE HERE"
   ]
  },
  {
   "cell_type": "markdown",
   "metadata": {},
   "source": [
    "##### Test Function `vad_extraction`"
   ]
  },
  {
   "cell_type": "code",
   "execution_count": null,
   "metadata": {},
   "outputs": [],
   "source": [
    "vad = vad_extraction(clean_speech)\n",
    "\n",
    "_, axis= plt.subplots(1)\n",
    "\n",
    "axis.plot(clean_speech)\n",
    "\n",
    "xs = np.arange(len(vad)) * 160\n",
    "axis.plot(xs, vad * np.max(np.abs(vad)))"
   ]
  },
  {
   "cell_type": "markdown",
   "metadata": {},
   "source": [
    "## 6.2 Test 'Mix Noise and Speech'"
   ]
  },
  {
   "cell_type": "code",
   "execution_count": null,
   "metadata": {},
   "outputs": [],
   "source": [
    "clean_speech_changed, noisy_speech = mix(clean_speech, noise, 5, [rir1, rir2])\n",
    "\n",
    "_, axis = plt.subplots(1)\n",
    "axis.plot(noisy_speech)\n",
    "axis.plot(clean_speech_changed)"
   ]
  },
  {
   "cell_type": "code",
   "execution_count": null,
   "metadata": {},
   "outputs": [],
   "source": [
    "sr = 16000\n",
    "sd.play(np.concatenate((clean_speech, noisy_speech)), samplerate=sr)"
   ]
  },
  {
   "cell_type": "markdown",
   "metadata": {},
   "source": [
    "## 6.3 Test 'Feature Extraction'"
   ]
  },
  {
   "cell_type": "code",
   "execution_count": null,
   "metadata": {},
   "outputs": [],
   "source": [
    "features = feature_extraction(noisy_speech)\n",
    "print(features.shape, '\\n\\n', features)"
   ]
  },
  {
   "cell_type": "markdown",
   "metadata": {},
   "source": [
    "## 6.4 Test 'Generators'"
   ]
  },
  {
   "cell_type": "code",
   "execution_count": null,
   "metadata": {},
   "outputs": [],
   "source": [
    "# test init, i.e. creating generator\n",
    "gen_speech = GenSpeech(path_clean_speech)\n",
    "\n",
    "# test __next__() two times\n",
    "clean_speech_1 = next(gen_speech)\n",
    "clean_speech_2 = next(gen_speech)\n",
    "\n",
    "# plot retrieved example speech files\n",
    "_, axes = plt.subplots(1,2)\n",
    "axes[0].plot(clean_speech_1)\n",
    "axes[1].plot(clean_speech_2)\n",
    "\n",
    "# test __len__()\n",
    "print(len(gen_speech))\n",
    "\n",
    "# test if the generator runs until completion & stops\n",
    "for speech in gen_speech:\n",
    "    pass"
   ]
  },
  {
   "cell_type": "code",
   "execution_count": null,
   "metadata": {},
   "outputs": [],
   "source": [
    "# test init, i.e. creating generator\n",
    "gen_rirs = create_gen_rir(path_rirs)\n",
    "\n",
    "# test __next__() two times\n",
    "rir1 = next(gen_rirs)\n",
    "rir2 = next(gen_rirs)\n",
    "\n",
    "# plot retrieved example rirs\n",
    "_, axes = plt.subplots(1,2)\n",
    "axes[0].plot(rir1)\n",
    "axes[1].plot(rir2)"
   ]
  },
  {
   "cell_type": "markdown",
   "metadata": {},
   "source": [
    "## 6.5 Run Augmentation"
   ]
  },
  {
   "cell_type": "code",
   "execution_count": null,
   "metadata": {},
   "outputs": [],
   "source": [
    "for split in ['train', 'val', 'test']:\n",
    "    path = os.path.join(data_path, split)\n",
    "    run_augmentation(path, debug=True)"
   ]
  }
 ],
 "metadata": {
  "interpreter": {
   "hash": "b576286d6e9b828d15dac98996e9baf69d8551f34156323e33f5830a513e0082"
  },
  "kernelspec": {
   "display_name": "Python 3.8.8 ('venv': venv)",
   "language": "python",
   "name": "python3"
  },
  "language_info": {
   "codemirror_mode": {
    "name": "ipython",
    "version": 3
   },
   "file_extension": ".py",
   "mimetype": "text/x-python",
   "name": "python",
   "nbconvert_exporter": "python",
   "pygments_lexer": "ipython3",
   "version": "3.8.8"
  },
  "orig_nbformat": 4
 },
 "nbformat": 4,
 "nbformat_minor": 2
}
