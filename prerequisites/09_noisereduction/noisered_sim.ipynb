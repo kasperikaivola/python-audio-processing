{
 "cells": [
  {
   "cell_type": "code",
   "execution_count": null,
   "metadata": {
    "collapsed": false,
    "pycharm": {
     "name": "#%%\n"
    }
   },
   "outputs": [],
   "source": [
    "%matplotlib widget\n",
    "\n",
    "import numpy as np\n",
    "import matplotlib.pyplot as plt\n",
    "from scipy import signal\n"
   ]
  },
  {
   "attachments": {},
   "cell_type": "markdown",
   "metadata": {
    "collapsed": false,
    "pycharm": {
     "name": "#%% md\n"
    }
   },
   "source": [
    "## Exercise 9.1"
   ]
  },
  {
   "cell_type": "code",
   "execution_count": null,
   "metadata": {
    "collapsed": false,
    "pycharm": {
     "name": "#%%\n"
    }
   },
   "outputs": [],
   "source": [
    "# Simulation parameters\n",
    "m = 8               # no. of mics\n",
    "delta = 0.0425      # microphone spacing\n",
    "fs = 8e3            # sampling frequency\n",
    "c = 340             # propagation speed of sound\n",
    "\n",
    "# some auxiliary values\n",
    "n = 256             #frame size"
   ]
  },
  {
   "cell_type": "code",
   "execution_count": null,
   "metadata": {
    "collapsed": false,
    "pycharm": {
     "name": "#%%\n"
    }
   },
   "outputs": [],
   "source": [
    "# load signals\n",
    "f = np.load('signals_09.npz')\n",
    "S = f['S']\n",
    "Noise = f['Noise']\n",
    "\n",
    "xM = S + Noise"
   ]
  },
  {
   "cell_type": "code",
   "execution_count": null,
   "metadata": {
    "collapsed": false,
    "pycharm": {
     "name": "#%%\n"
    }
   },
   "outputs": [],
   "source": [
    "def compute_incident_angle(sig_in):\n",
    "    '''\n",
    "    Compute the incindent angle of the signal at the beamformer, using the delay between the first\n",
    "    and the last microphone in the array.\n",
    "    '''\n",
    "    global m, c, delta\n",
    "    # todo: calculate direction of sound incidence\n",
    "    pass\n",
    "\n",
    "print(\"Incident angle of speech is {:4.2f} degree\".format(compute_incident_angle(S)))\n",
    "print(\"Incident angle of noise is {:4.2f} degree\".format(compute_incident_angle(Noise)))"
   ]
  },
  {
   "cell_type": "code",
   "execution_count": null,
   "metadata": {
    "collapsed": false,
    "pycharm": {
     "name": "#%%\n"
    }
   },
   "outputs": [],
   "source": [
    "# todo: apply DS-BF"
   ]
  },
  {
   "cell_type": "code",
   "execution_count": null,
   "metadata": {
    "collapsed": false,
    "pycharm": {
     "name": "#%%\n"
    }
   },
   "outputs": [],
   "source": [
    "#todo: Plot results\n",
    "# use same color limits for both plots.\n",
    "clims = dict(vmin=-120, vmax=-40)\n"
   ]
  },
  {
   "cell_type": "code",
   "execution_count": null,
   "metadata": {
    "collapsed": false,
    "pycharm": {
     "name": "#%%\n"
    }
   },
   "outputs": [],
   "source": [
    "# play signals\n",
    "import sounddevice as sd\n",
    "\n"
   ]
  },
  {
   "attachments": {},
   "cell_type": "markdown",
   "metadata": {
    "collapsed": false
   },
   "source": [
    "## Exercise 9.2"
   ]
  },
  {
   "cell_type": "code",
   "execution_count": null,
   "metadata": {
    "collapsed": false,
    "pycharm": {
     "name": "#%%\n"
    }
   },
   "outputs": [],
   "source": [
    "# Three helper functions\n",
    "def glob_snr(sig, noise):\n",
    "    \"\"\"\n",
    "    returns the global SNR between sig and noise in dB.\n",
    "    :param sig:         clean signal\n",
    "    :param noise:       noise signal\n",
    "    :return: the global SNR in dB\n",
    "    \"\"\"\n",
    "    pass\n",
    "\n",
    "\n",
    "def noise_attenuation(reference, filtered, blocklength):\n",
    "    \"\"\"\n",
    "    returns the global SNR between sig and noise in dB.\n",
    "    :param reference:      noise at the microphone\n",
    "    :param filtered:       filtered noise signal\n",
    "    :return: the Noise Attenuation in dB\n",
    "    \"\"\"\n",
    "    global n\n",
    "    pass\n",
    "\n",
    "\n",
    "def scale4snr(sig, noise, snr_wanted):\n",
    "    \"\"\"\n",
    "    returns the scaling factor for the noise to obtain wanted global SNR in dB.\n",
    "    :param sig:         clean signal\n",
    "    :param noise:       noise signal\n",
    "    :param snr_wanted:   desired global SNR in dB\n",
    "    :return: scalar scaling factor a, so that sig + a*noise has the snr_wanted snr\n",
    "    \"\"\"\n",
    "    pass"
   ]
  },
  {
   "cell_type": "code",
   "execution_count": null,
   "metadata": {
    "collapsed": false,
    "pycharm": {
     "name": "#%%\n"
    }
   },
   "outputs": [],
   "source": [
    "def sweep_snr(sig, noise):\n",
    "    global m, n\n",
    "    na = []\n",
    "    snr_out = []\n",
    "    snr_in = []\n",
    "    for snr in range(-15, 15, 5):\n",
    "        # todo: mix signals and apply DS BF\n",
    "        pass\n",
    "\n",
    "    # todo: plot results\n",
    "\n",
    "sweep_snr(S, Noise)"
   ]
  },
  {
   "attachments": {},
   "cell_type": "markdown",
   "metadata": {
    "collapsed": false
   },
   "source": [
    "## Exercise 9.3"
   ]
  },
  {
   "cell_type": "code",
   "execution_count": null,
   "metadata": {
    "collapsed": false,
    "pycharm": {
     "name": "#%%\n"
    }
   },
   "outputs": [],
   "source": [
    "# todo: generate white noise\n",
    "N_uncorr = ...\n",
    "sweep_snr(S, N_uncorr)"
   ]
  },
  {
   "attachments": {},
   "cell_type": "markdown",
   "metadata": {
    "collapsed": false
   },
   "source": [
    "## Exercise 9.4"
   ]
  },
  {
   "cell_type": "code",
   "execution_count": null,
   "metadata": {
    "collapsed": false,
    "pycharm": {
     "name": "#%%\n"
    }
   },
   "outputs": [],
   "source": [
    "def fracdel(inp, delay, n=256):\n",
    "    \"\"\"\n",
    "    returns input sequence delayed by delta samples, which can be fractional value. This is achieved by means of a\n",
    "    fractional-delay filter of degree 2*n. The output sequence y is of the same length as the input sequence in.\n",
    "    :param inp:     input sequence\n",
    "    :param delay:   time delay\n",
    "    :param n:       filter length\n",
    "    :return:        convolved sequence\n",
    "    \"\"\"\n",
    "    pass\n",
    "\n",
    "# quick test for fracdel\n",
    "dirac = np.zeros(1000)\n",
    "dirac[10] = 1\n",
    "\n",
    "shifted0 = fracdel(dirac, 0)\n",
    "shifted3 = fracdel(dirac, 3)\n",
    "\n",
    "_, axis = plt.subplots(1,1)\n",
    "axis.plot(dirac)\n",
    "axis.plot(shifted0, '--', linewidth=3)\n",
    "axis.plot(shifted3, '--', linewidth=3)\n",
    "axis.set_xlim((5, 15))\n",
    "axis.grid()\n",
    "axis.legend(('dirac', 'shift=0', 'shift=3'))"
   ]
  },
  {
   "cell_type": "code",
   "execution_count": null,
   "metadata": {
    "collapsed": false,
    "pycharm": {
     "name": "#%%\n"
    }
   },
   "outputs": [],
   "source": [
    "# todo: load car noise\n",
    "carnoise = ...\n",
    "\n",
    "def sweep_angle(sig, noise):\n",
    "    global m, delta, c, fs\n",
    "\n",
    "    # todo: sweep angle, apply DS-BF and evaluate metrics\n",
    "    pass\n",
    "\n",
    "sweep_angle(S, carnoise)"
   ]
  }
 ],
 "metadata": {
  "kernelspec": {
   "display_name": "Python 3",
   "language": "python",
   "name": "python3"
  },
  "language_info": {
   "codemirror_mode": {
    "name": "ipython",
    "version": 3
   },
   "file_extension": ".py",
   "mimetype": "text/x-python",
   "name": "python",
   "nbconvert_exporter": "python",
   "pygments_lexer": "ipython3",
   "version": "3.8.8"
  }
 },
 "nbformat": 4,
 "nbformat_minor": 0
}
